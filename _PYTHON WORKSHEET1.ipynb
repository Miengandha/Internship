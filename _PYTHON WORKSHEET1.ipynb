{
 "cells": [
  {
   "cell_type": "markdown",
   "id": "6702b0a0",
   "metadata": {},
   "source": [
    "# PYTHON - WORKSHEET 1"
   ]
  },
  {
   "cell_type": "markdown",
   "id": "79a3ef68",
   "metadata": {},
   "source": [
    " Q11. Write a python program to find the factorial of a number."
   ]
  },
  {
   "cell_type": "code",
   "execution_count": 1,
   "id": "072e3ee1",
   "metadata": {},
   "outputs": [
    {
     "name": "stdout",
     "output_type": "stream",
     "text": [
      "Enter the number for which the factorial needs to be calculated:  8\n",
      "Factorial of the given number is:  40320\n"
     ]
    }
   ],
   "source": [
    "n  =  int(input (\"Enter the number for which the factorial needs to be calculated:  \"))\n",
    "\n",
    "factorial  =  1\n",
    "\n",
    "if  n  <  0:\n",
    "     print(\"Factorial cannot be calculated , non-integer input\")\n",
    "        \n",
    "elif n == 0:\n",
    "    print(\"Factorial of the number is 1\")\n",
    "    \n",
    "else:\n",
    "    for i in range(1, n+1):\n",
    "        factorial  =  factorial*i\n",
    "    print(\"Factorial of the given number is: \", factorial)    "
   ]
  },
  {
   "cell_type": "markdown",
   "id": "19e6d5b2",
   "metadata": {},
   "source": [
    "Q12. Write a python program to find whether a number is prime or composite. "
   ]
  },
  {
   "cell_type": "code",
   "execution_count": 2,
   "id": "aff1f6c6",
   "metadata": {},
   "outputs": [
    {
     "name": "stdout",
     "output_type": "stream",
     "text": [
      "Enter any number :  7\n",
      "7 is a PRIME number\n"
     ]
    }
   ],
   "source": [
    "num  =  int(input(\"Enter any number :  \"))\n",
    "\n",
    "if num  >  1:\n",
    "    \n",
    "    for i in range (2, num):\n",
    "        \n",
    "        if (num % i)  ==  0:\n",
    "            print(num,  \" is NOT a prime number\" )\n",
    "            \n",
    "            break\n",
    "            \n",
    "    else:\n",
    "        print( num, \"is a PRIME number\" )\n",
    "\n",
    "elif num  ==  0  or  1:\n",
    "    print( num, \"is a neither prime NOR composite number\" )\n",
    "\n",
    "else:\n",
    "    print(num,  \"is NOT a prime number it is a COMPOSITE number\" )"
   ]
  },
  {
   "cell_type": "markdown",
   "id": "97348d93",
   "metadata": {},
   "source": [
    "Q13. Write a python program to check whether a given string is palindrome or not."
   ]
  },
  {
   "cell_type": "code",
   "execution_count": 3,
   "id": "a778f26c",
   "metadata": {},
   "outputs": [
    {
     "name": "stdout",
     "output_type": "stream",
     "text": [
      "Enter a string.11\n",
      "No,it is not a palindrome.\n"
     ]
    }
   ],
   "source": [
    "def check_palin(str):\n",
    "    \n",
    "    for i in range (0, int(len(str)/2)):\n",
    "        \n",
    "        if str [i]  !=  str [len (str)  -i-1] :\n",
    "            \n",
    "            return False\n",
    "            \n",
    "            return True\n",
    "str_1  =  input (\"Enter a string.\")\n",
    "\n",
    "ans  =  check_palin (str_1)\n",
    "\n",
    "if (ans):\n",
    "    print (\"Yes, it is a palindrome.\")\n",
    "    \n",
    "else:\n",
    "    print(\"No,it is not a palindrome.\")"
   ]
  },
  {
   "cell_type": "markdown",
   "id": "623b3c96",
   "metadata": {},
   "source": [
    "Q14. Write a Python program  to get the third side of right-angled triangle from two given sides."
   ]
  },
  {
   "cell_type": "code",
   "execution_count": 6,
   "id": "6532e7ca",
   "metadata": {},
   "outputs": [
    {
     "name": "stdout",
     "output_type": "stream",
     "text": [
      "Hypotenuse  =  5.0\n",
      "Adjacent  =  4.0\n",
      "Opposite  =  3.0\n",
      "You know the answer !\n"
     ]
    }
   ],
   "source": [
    "def pythagoras(opposite_side,adjacent_side,hypotenuse) :\n",
    "    if opposite_side  ==  str(\"X\"):\n",
    "        return (\"Opposite  =  \"  +  str(((hypotenuse**2)  -  (adjacent_side**2))**0.5))\n",
    "    elif adjacent_side  == str(\"X\"):\n",
    "        return(\"Adjacent  =  \" +  str(((hypotenuse**2)  -  (opposite_side**2))**0.5))\n",
    "    elif hypotenuse  == str(\"X\"):\n",
    "        return (\"Hypotenuse  =  \"  +  str(((opposite_side**2)  +  (adjacent_side**2))**0.5))\n",
    "    else:\n",
    "        return  \"You know the answer !\"\n",
    "    \n",
    "print(pythagoras(3,4,'X'))\n",
    "print(pythagoras(3,'X',5))\n",
    "print(pythagoras('X',4,5))\n",
    "print(pythagoras(3,4,5))"
   ]
  },
  {
   "cell_type": "markdown",
   "id": "cd60598b",
   "metadata": {},
   "source": [
    "Q15. Write a Python  program to print the frequency of each of the characters present in a given string."
   ]
  },
  {
   "cell_type": "code",
   "execution_count": 8,
   "id": "5d8444c3",
   "metadata": {},
   "outputs": [
    {
     "name": "stdout",
     "output_type": "stream",
     "text": [
      "Enter the string:  Language Program  of Python\n",
      "Please  enter the char to find  frequency of ta character\n",
      "n\n",
      "The frequency of the  in the string is:  2\n"
     ]
    }
   ],
   "source": [
    "# Python program to count Occurence of a character in a string\n",
    "string=input(\"Enter the string:  \")\n",
    "char=input(\"Please  enter the char to find  frequency of ta character\\n\")\n",
    "count=0\n",
    "i=0\n",
    "while(i<len(string)):\n",
    "    if(string[i]==char ):\n",
    "        count=count+1\n",
    "    i=i+1\n",
    "print(\"The frequency of the \", \"in the string is: \", count)    "
   ]
  },
  {
   "cell_type": "code",
   "execution_count": null,
   "id": "b4f15a21",
   "metadata": {},
   "outputs": [],
   "source": []
  }
 ],
 "metadata": {
  "kernelspec": {
   "display_name": "Python 3 (ipykernel)",
   "language": "python",
   "name": "python3"
  },
  "language_info": {
   "codemirror_mode": {
    "name": "ipython",
    "version": 3
   },
   "file_extension": ".py",
   "mimetype": "text/x-python",
   "name": "python",
   "nbconvert_exporter": "python",
   "pygments_lexer": "ipython3",
   "version": "3.9.12"
  }
 },
 "nbformat": 4,
 "nbformat_minor": 5
}
