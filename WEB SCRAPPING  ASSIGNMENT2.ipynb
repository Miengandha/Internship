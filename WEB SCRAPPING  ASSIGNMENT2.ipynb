{
 "cells": [
  {
   "cell_type": "markdown",
   "id": "4c75aee0",
   "metadata": {},
   "source": [
    "#   SELENIUM :  WEB SCRAPPING"
   ]
  },
  {
   "cell_type": "code",
   "execution_count": 1,
   "id": "649657f7",
   "metadata": {},
   "outputs": [],
   "source": [
    "# Let's  import all required Libraries\n",
    "import selenium\n",
    "from selenium import webdriver\n",
    "import pandas as pd\n",
    "import warnings\n",
    "warnings.filterwarnings(\"ignore\")"
   ]
  },
  {
   "cell_type": "code",
   "execution_count": 2,
   "id": "669b1b53",
   "metadata": {},
   "outputs": [],
   "source": [
    "#let's first convert to web driver\n",
    "driver  =  webdriver.Chrome(r'C:\\Users\\user\\Downloads\\chromedriver_win32 (1)\\chromedriver.exe')"
   ]
  },
  {
   "cell_type": "markdown",
   "id": "197895a4",
   "metadata": {},
   "source": [
    "Q1: Write a python program to scrape data for “Data Analyst” Job position in “Bangalore” location. You\n",
    "have to scrape the     (A) job-title, (B) job-location,  (C) company_name,  (D) experience_required. You have to scrape first 10\n",
    "jobs data.\n",
    "This task will be done in following steps:\n",
    "1. First get the webpage https://www.naukri.com/\n",
    "2. Enter “Data Analyst” in “Skill, Designations, Companies” field and enter “Bangalore” in “enter the\n",
    "location” field.\n",
    "3. Then click the search button.\n",
    "4. Then scrape the data for the first 10 jobs results you get.\n",
    "5. Finally create a dataframe of the scraped data.\n",
    "Note: All of the above steps have to be done in code. No step is to be done manually."
   ]
  },
  {
   "cell_type": "code",
   "execution_count": 3,
   "id": "3a80c0cf",
   "metadata": {},
   "outputs": [],
   "source": [
    "url  =  'https://www.naukri.com/'\n",
    "driver.get(url)"
   ]
  },
  {
   "cell_type": "code",
   "execution_count": 4,
   "id": "e101fec1",
   "metadata": {},
   "outputs": [
    {
     "data": {
      "text/plain": [
       "<selenium.webdriver.remote.webelement.WebElement (session=\"4acb1a11ef428d349ff73a251aa19dce\", element=\"0cafe643-c6af-4a3b-b002-e96bbf446b35\")>"
      ]
     },
     "execution_count": 4,
     "metadata": {},
     "output_type": "execute_result"
    }
   ],
   "source": [
    "search_job  =  driver.find_element(\"xpath\",\"/html/body/div[1]/div[2]/div[3]/div/div/div[1]/div/div/div[1]/input\")\n",
    "search_job"
   ]
  },
  {
   "cell_type": "code",
   "execution_count": 5,
   "id": "7132333d",
   "metadata": {},
   "outputs": [],
   "source": [
    "search_job.send_keys(\"Data Analyst\")"
   ]
  },
  {
   "cell_type": "code",
   "execution_count": 6,
   "id": "078f9591",
   "metadata": {},
   "outputs": [
    {
     "data": {
      "text/plain": [
       "<selenium.webdriver.remote.webelement.WebElement (session=\"4acb1a11ef428d349ff73a251aa19dce\", element=\"22585c72-0df6-41fa-bca5-8c4d0471257f\")>"
      ]
     },
     "execution_count": 6,
     "metadata": {},
     "output_type": "execute_result"
    }
   ],
   "source": [
    "search_locn  =  driver.find_element(\"xpath\",\"/html/body/div[1]/div[2]/div[3]/div/div/div[5]/div/div/div[1]/input\")\n",
    "search_locn"
   ]
  },
  {
   "cell_type": "code",
   "execution_count": 7,
   "id": "4a8539f7",
   "metadata": {},
   "outputs": [],
   "source": [
    "search_locn.send_keys(\"Bangalore\")"
   ]
  },
  {
   "cell_type": "code",
   "execution_count": 8,
   "id": "f4703890",
   "metadata": {},
   "outputs": [
    {
     "data": {
      "text/plain": [
       "<selenium.webdriver.remote.webelement.WebElement (session=\"4acb1a11ef428d349ff73a251aa19dce\", element=\"a5641d20-2e6d-44a9-afee-23975defc49f\")>"
      ]
     },
     "execution_count": 8,
     "metadata": {},
     "output_type": "execute_result"
    }
   ],
   "source": [
    "search_btn  =  driver.find_element(\"xpath\",\"/html/body/div[1]/div[2]/div[3]/div/div/div[6]\")\n",
    "search_btn"
   ]
  },
  {
   "cell_type": "code",
   "execution_count": 9,
   "id": "3a9d6057",
   "metadata": {},
   "outputs": [],
   "source": [
    "search_btn.click()"
   ]
  },
  {
   "cell_type": "code",
   "execution_count": 10,
   "id": "e6dcf887",
   "metadata": {},
   "outputs": [
    {
     "data": {
      "text/plain": [
       "20"
      ]
     },
     "execution_count": 10,
     "metadata": {},
     "output_type": "execute_result"
    }
   ],
   "source": [
    "title_tags  =  driver.find_elements(\"xpath\",'//a[@class=\"title fw500 ellipsis\"]')\n",
    "len(title_tags)"
   ]
  },
  {
   "cell_type": "code",
   "execution_count": 11,
   "id": "467a0281",
   "metadata": {},
   "outputs": [
    {
     "data": {
      "text/plain": [
       "20"
      ]
     },
     "execution_count": 11,
     "metadata": {},
     "output_type": "execute_result"
    }
   ],
   "source": [
    "job_titles  =  []\n",
    "\n",
    "for i in title_tags:\n",
    "    job_titles.append(i.text)\n",
    "len(job_titles)    "
   ]
  },
  {
   "cell_type": "code",
   "execution_count": 12,
   "id": "89aeb5f7",
   "metadata": {},
   "outputs": [
    {
     "data": {
      "text/plain": [
       "['Sr.Business Data Analyst',\n",
       " 'Senior Data Analysis Analyst',\n",
       " 'Data Analyst/Senior Data Analyst',\n",
       " 'Financial Data Analyst',\n",
       " 'Senior Data Analyst II',\n",
       " 'Data Analyst - CRM Platform',\n",
       " 'Software Technical Expert - Data Analyst',\n",
       " 'Reference Data Analyst',\n",
       " 'Sales Data Analyst',\n",
       " 'Lead Data Analyst',\n",
       " 'Data Analyst',\n",
       " 'Hiring Data Analyst - Forensics, KPMG India',\n",
       " 'Big data analyst',\n",
       " 'Data Analyst',\n",
       " 'Senior Business Analyst, Data Analytics & Engineering-DATA Engineer',\n",
       " 'Senior Data Analyst',\n",
       " 'Data Analyst - US MNC (analytics)',\n",
       " 'Data Analyst - Marketplace',\n",
       " 'Hiring Data Analysts - Virtusa',\n",
       " 'Data Analyst 2']"
      ]
     },
     "execution_count": 12,
     "metadata": {},
     "output_type": "execute_result"
    }
   ],
   "source": [
    "job_titles"
   ]
  },
  {
   "cell_type": "code",
   "execution_count": 13,
   "id": "6ba98499",
   "metadata": {},
   "outputs": [
    {
     "data": {
      "text/plain": [
       "20"
      ]
     },
     "execution_count": 13,
     "metadata": {},
     "output_type": "execute_result"
    }
   ],
   "source": [
    "locn_tags  =  driver.find_elements(\"xpath\",'//li[@class=\"fleft grey-text br2 placeHolderLi location\"]')\n",
    "len(locn_tags)"
   ]
  },
  {
   "cell_type": "code",
   "execution_count": 14,
   "id": "52d91cca",
   "metadata": {},
   "outputs": [
    {
     "data": {
      "text/plain": [
       "20"
      ]
     },
     "execution_count": 14,
     "metadata": {},
     "output_type": "execute_result"
    }
   ],
   "source": [
    "job_location  =  []\n",
    "\n",
    "for i  in locn_tags:\n",
    "    job_location.append(i.text)\n",
    "len(job_location)    "
   ]
  },
  {
   "cell_type": "code",
   "execution_count": 15,
   "id": "12141850",
   "metadata": {},
   "outputs": [
    {
     "data": {
      "text/plain": [
       "['Bangalore/Bengaluru, karnataka\\n(WFH during Covid)',\n",
       " 'Bangalore/Bengaluru, Pune, Chennai',\n",
       " 'Bangalore/Bengaluru',\n",
       " 'Bangalore/Bengaluru',\n",
       " 'Bangalore/Bengaluru',\n",
       " 'Bangalore/Bengaluru, Mumbai, Hyderabad/Secunderabad, Pune, Chennai, Ahmedabad',\n",
       " 'Bangalore/Bengaluru',\n",
       " 'Bangalore/Bengaluru',\n",
       " 'Bangalore/Bengaluru',\n",
       " 'Bangalore/Bengaluru',\n",
       " 'Bangalore/Bengaluru',\n",
       " 'Bangalore/Bengaluru, Noida, Kolkata, Mumbai, Gurgaon/Gurugram, Delhi / NCR, Mumbai (All Areas)',\n",
       " 'Bangalore/Bengaluru',\n",
       " 'Bangalore/Bengaluru',\n",
       " 'Bangalore/Bengaluru\\n(WFH during Covid)',\n",
       " 'Bangalore/Bengaluru',\n",
       " 'Bangalore/Bengaluru, Gurgaon/Gurugram, Delhi / NCR',\n",
       " 'Bangalore/Bengaluru',\n",
       " 'Bangalore/Bengaluru, Hyderabad/Secunderabad, Pune, Chennai',\n",
       " 'Bangalore/Bengaluru']"
      ]
     },
     "execution_count": 15,
     "metadata": {},
     "output_type": "execute_result"
    }
   ],
   "source": [
    "job_location"
   ]
  },
  {
   "cell_type": "code",
   "execution_count": 16,
   "id": "1a4db3f6",
   "metadata": {},
   "outputs": [
    {
     "data": {
      "text/plain": [
       "20"
      ]
     },
     "execution_count": 16,
     "metadata": {},
     "output_type": "execute_result"
    }
   ],
   "source": [
    "company_names  =  driver.find_elements(\"xpath\",'//a[@class=\"subTitle ellipsis fleft\"]')\n",
    "len(company_names)"
   ]
  },
  {
   "cell_type": "code",
   "execution_count": 17,
   "id": "797dd648",
   "metadata": {},
   "outputs": [
    {
     "data": {
      "text/plain": [
       "20"
      ]
     },
     "execution_count": 17,
     "metadata": {},
     "output_type": "execute_result"
    }
   ],
   "source": [
    "company_name  =  []\n",
    "\n",
    "for i in company_names:\n",
    "    company_name.append(i.text)\n",
    "len(company_name)    "
   ]
  },
  {
   "cell_type": "code",
   "execution_count": 18,
   "id": "f8eca30d",
   "metadata": {},
   "outputs": [
    {
     "data": {
      "text/plain": [
       "['Collabera',\n",
       " 'Capco',\n",
       " 'Meesho',\n",
       " 'Nuance India',\n",
       " 'Flipkart',\n",
       " 'Artech infosystem',\n",
       " 'Schneider Electric',\n",
       " 'Deutsche Bank',\n",
       " 'NUANCE INDIA PVT LTD',\n",
       " 'PowerSchool India',\n",
       " 'Clarivate',\n",
       " 'KPMG India',\n",
       " 'Accolite Software India Pvt Ltd',\n",
       " 'BYJUS',\n",
       " 'Artech Infosystems Pvt. Ltd.',\n",
       " 'Walmart',\n",
       " 'Aspyra HR Services',\n",
       " 'Gojek',\n",
       " 'Virtusa',\n",
       " 'PayPal']"
      ]
     },
     "execution_count": 18,
     "metadata": {},
     "output_type": "execute_result"
    }
   ],
   "source": [
    "company_name"
   ]
  },
  {
   "cell_type": "code",
   "execution_count": 19,
   "id": "1ed6dd10",
   "metadata": {},
   "outputs": [
    {
     "data": {
      "text/plain": [
       "20"
      ]
     },
     "execution_count": 19,
     "metadata": {},
     "output_type": "execute_result"
    }
   ],
   "source": [
    "exp_tags  =  driver.find_elements(\"xpath\",'//li[@class=\"fleft grey-text br2 placeHolderLi experience\"]')\n",
    "len(exp_tags)"
   ]
  },
  {
   "cell_type": "code",
   "execution_count": 20,
   "id": "59e3aa52",
   "metadata": {},
   "outputs": [
    {
     "data": {
      "text/plain": [
       "20"
      ]
     },
     "execution_count": 20,
     "metadata": {},
     "output_type": "execute_result"
    }
   ],
   "source": [
    "experience_required  =  []\n",
    "\n",
    "for i in exp_tags:\n",
    "    experience_required.append(i.text)\n",
    "len(experience_required)    "
   ]
  },
  {
   "cell_type": "code",
   "execution_count": 21,
   "id": "c74c2fe4",
   "metadata": {},
   "outputs": [
    {
     "data": {
      "text/plain": [
       "['6-11 Yrs',\n",
       " '7-12 Yrs',\n",
       " '3-6 Yrs',\n",
       " '3-8 Yrs',\n",
       " '3-6 Yrs',\n",
       " '1-6 Yrs',\n",
       " '3-6 Yrs',\n",
       " '2-5 Yrs',\n",
       " '1-3 Yrs',\n",
       " '3-5 Yrs',\n",
       " '2-4 Yrs',\n",
       " '2-6 Yrs',\n",
       " '2-6 Yrs',\n",
       " '2-5 Yrs',\n",
       " '4-8 Yrs',\n",
       " '4-7 Yrs',\n",
       " '2-7 Yrs',\n",
       " '3-7 Yrs',\n",
       " '4-8 Yrs',\n",
       " '1-3 Yrs']"
      ]
     },
     "execution_count": 21,
     "metadata": {},
     "output_type": "execute_result"
    }
   ],
   "source": [
    "experience_required"
   ]
  },
  {
   "cell_type": "code",
   "execution_count": 22,
   "id": "4d3a2dca",
   "metadata": {},
   "outputs": [
    {
     "data": {
      "text/plain": [
       "(20, 20, 20, 20)"
      ]
     },
     "execution_count": 22,
     "metadata": {},
     "output_type": "execute_result"
    }
   ],
   "source": [
    "len(job_titles), len(job_location), len(company_name), len(experience_required)"
   ]
  },
  {
   "cell_type": "code",
   "execution_count": 23,
   "id": "2daebbc4",
   "metadata": {},
   "outputs": [
    {
     "data": {
      "text/html": [
       "<div>\n",
       "<style scoped>\n",
       "    .dataframe tbody tr th:only-of-type {\n",
       "        vertical-align: middle;\n",
       "    }\n",
       "\n",
       "    .dataframe tbody tr th {\n",
       "        vertical-align: top;\n",
       "    }\n",
       "\n",
       "    .dataframe thead th {\n",
       "        text-align: right;\n",
       "    }\n",
       "</style>\n",
       "<table border=\"1\" class=\"dataframe\">\n",
       "  <thead>\n",
       "    <tr style=\"text-align: right;\">\n",
       "      <th></th>\n",
       "      <th>Job Title</th>\n",
       "      <th>Job Location</th>\n",
       "      <th>Company Names</th>\n",
       "      <th>Experience</th>\n",
       "    </tr>\n",
       "  </thead>\n",
       "  <tbody>\n",
       "    <tr>\n",
       "      <th>0</th>\n",
       "      <td>Sr.Business Data Analyst</td>\n",
       "      <td>Bangalore/Bengaluru, karnataka\\n(WFH during Co...</td>\n",
       "      <td>Collabera</td>\n",
       "      <td>6-11 Yrs</td>\n",
       "    </tr>\n",
       "    <tr>\n",
       "      <th>1</th>\n",
       "      <td>Senior Data Analysis Analyst</td>\n",
       "      <td>Bangalore/Bengaluru, Pune, Chennai</td>\n",
       "      <td>Capco</td>\n",
       "      <td>7-12 Yrs</td>\n",
       "    </tr>\n",
       "    <tr>\n",
       "      <th>2</th>\n",
       "      <td>Data Analyst/Senior Data Analyst</td>\n",
       "      <td>Bangalore/Bengaluru</td>\n",
       "      <td>Meesho</td>\n",
       "      <td>3-6 Yrs</td>\n",
       "    </tr>\n",
       "    <tr>\n",
       "      <th>3</th>\n",
       "      <td>Financial Data Analyst</td>\n",
       "      <td>Bangalore/Bengaluru</td>\n",
       "      <td>Nuance India</td>\n",
       "      <td>3-8 Yrs</td>\n",
       "    </tr>\n",
       "    <tr>\n",
       "      <th>4</th>\n",
       "      <td>Senior Data Analyst II</td>\n",
       "      <td>Bangalore/Bengaluru</td>\n",
       "      <td>Flipkart</td>\n",
       "      <td>3-6 Yrs</td>\n",
       "    </tr>\n",
       "    <tr>\n",
       "      <th>5</th>\n",
       "      <td>Data Analyst - CRM Platform</td>\n",
       "      <td>Bangalore/Bengaluru, Mumbai, Hyderabad/Secunde...</td>\n",
       "      <td>Artech infosystem</td>\n",
       "      <td>1-6 Yrs</td>\n",
       "    </tr>\n",
       "    <tr>\n",
       "      <th>6</th>\n",
       "      <td>Software Technical Expert - Data Analyst</td>\n",
       "      <td>Bangalore/Bengaluru</td>\n",
       "      <td>Schneider Electric</td>\n",
       "      <td>3-6 Yrs</td>\n",
       "    </tr>\n",
       "    <tr>\n",
       "      <th>7</th>\n",
       "      <td>Reference Data Analyst</td>\n",
       "      <td>Bangalore/Bengaluru</td>\n",
       "      <td>Deutsche Bank</td>\n",
       "      <td>2-5 Yrs</td>\n",
       "    </tr>\n",
       "    <tr>\n",
       "      <th>8</th>\n",
       "      <td>Sales Data Analyst</td>\n",
       "      <td>Bangalore/Bengaluru</td>\n",
       "      <td>NUANCE INDIA PVT LTD</td>\n",
       "      <td>1-3 Yrs</td>\n",
       "    </tr>\n",
       "    <tr>\n",
       "      <th>9</th>\n",
       "      <td>Lead Data Analyst</td>\n",
       "      <td>Bangalore/Bengaluru</td>\n",
       "      <td>PowerSchool India</td>\n",
       "      <td>3-5 Yrs</td>\n",
       "    </tr>\n",
       "  </tbody>\n",
       "</table>\n",
       "</div>"
      ],
      "text/plain": [
       "                                  Job Title  \\\n",
       "0                  Sr.Business Data Analyst   \n",
       "1              Senior Data Analysis Analyst   \n",
       "2          Data Analyst/Senior Data Analyst   \n",
       "3                    Financial Data Analyst   \n",
       "4                    Senior Data Analyst II   \n",
       "5               Data Analyst - CRM Platform   \n",
       "6  Software Technical Expert - Data Analyst   \n",
       "7                    Reference Data Analyst   \n",
       "8                        Sales Data Analyst   \n",
       "9                         Lead Data Analyst   \n",
       "\n",
       "                                        Job Location         Company Names  \\\n",
       "0  Bangalore/Bengaluru, karnataka\\n(WFH during Co...             Collabera   \n",
       "1                 Bangalore/Bengaluru, Pune, Chennai                 Capco   \n",
       "2                                Bangalore/Bengaluru                Meesho   \n",
       "3                                Bangalore/Bengaluru          Nuance India   \n",
       "4                                Bangalore/Bengaluru              Flipkart   \n",
       "5  Bangalore/Bengaluru, Mumbai, Hyderabad/Secunde...     Artech infosystem   \n",
       "6                                Bangalore/Bengaluru    Schneider Electric   \n",
       "7                                Bangalore/Bengaluru         Deutsche Bank   \n",
       "8                                Bangalore/Bengaluru  NUANCE INDIA PVT LTD   \n",
       "9                                Bangalore/Bengaluru     PowerSchool India   \n",
       "\n",
       "  Experience  \n",
       "0   6-11 Yrs  \n",
       "1   7-12 Yrs  \n",
       "2    3-6 Yrs  \n",
       "3    3-8 Yrs  \n",
       "4    3-6 Yrs  \n",
       "5    1-6 Yrs  \n",
       "6    3-6 Yrs  \n",
       "7    2-5 Yrs  \n",
       "8    1-3 Yrs  \n",
       "9    3-5 Yrs  "
      ]
     },
     "execution_count": 23,
     "metadata": {},
     "output_type": "execute_result"
    }
   ],
   "source": [
    "jobs  =  pd.DataFrame()\n",
    "jobs['Job Title']  =  job_titles\n",
    "jobs['Job Location']   =  job_location\n",
    "jobs['Company Names']  =  company_name\n",
    "jobs['Experience']   =  experience_required\n",
    "jobs[0:10]"
   ]
  },
  {
   "cell_type": "markdown",
   "id": "fc9be687",
   "metadata": {},
   "source": [
    "Q2: Write a python program to scrape data for “Data Scientist” Job position in “Bangalore” location. You\n",
    "have to scrape the job-title, job-location, company_name. You have to scrape first 10 jobs data.\n",
    "This task will be done in following steps:\n",
    "1. First get the webpage https://www.naukri.com/\n",
    "2. Enter “Data Scientist” in “Skill, Designations, Companies” field and enter “Bangalore” in “enter the\n",
    "location” field.\n",
    "3. Then click the search button.\n",
    "4. Then scrape the data for the first 10 jobs results you get.\n",
    "5. Finally create a dataframe of the scraped data.\n",
    "Note: All of the above steps have to be done in code. No step is to be done manually.\n"
   ]
  },
  {
   "cell_type": "code",
   "execution_count": 24,
   "id": "8b57a8f8",
   "metadata": {},
   "outputs": [],
   "source": [
    "#let's first convert to web driver\n",
    "driver  =  webdriver.Chrome(r'C:\\Users\\user\\Downloads\\chromedriver_win32 (1)\\chromedriver.exe')"
   ]
  },
  {
   "cell_type": "code",
   "execution_count": 25,
   "id": "89c9f77f",
   "metadata": {},
   "outputs": [],
   "source": [
    "url  =  'https://www.naukri.com/'\n",
    "driver.get(url)"
   ]
  },
  {
   "cell_type": "code",
   "execution_count": 34,
   "id": "69f9baef",
   "metadata": {},
   "outputs": [
    {
     "data": {
      "text/plain": [
       "<selenium.webdriver.remote.webelement.WebElement (session=\"9fc07a8e6b038b12e72caf8a75747d5c\", element=\"1752ba7b-0873-460c-a6da-7e7c23804062\")>"
      ]
     },
     "execution_count": 34,
     "metadata": {},
     "output_type": "execute_result"
    }
   ],
   "source": [
    "search_job = driver.find_element(\"xpath\",\"/html/body/div[1]/div[2]/div[3]/div/div/div[1]/div/div/div[1]/input\")\n",
    "search_job"
   ]
  },
  {
   "cell_type": "code",
   "execution_count": 35,
   "id": "07788ea8",
   "metadata": {},
   "outputs": [],
   "source": [
    "search_job.send_keys(\"Data Scientist\")"
   ]
  },
  {
   "cell_type": "code",
   "execution_count": 36,
   "id": "d88361bb",
   "metadata": {},
   "outputs": [
    {
     "data": {
      "text/plain": [
       "<selenium.webdriver.remote.webelement.WebElement (session=\"9fc07a8e6b038b12e72caf8a75747d5c\", element=\"12f4e139-8022-4a46-8c9d-fb450051926d\")>"
      ]
     },
     "execution_count": 36,
     "metadata": {},
     "output_type": "execute_result"
    }
   ],
   "source": [
    "search_locn  =  driver.find_element(\"xpath\",\"/html/body/div[1]/div[2]/div[3]/div/div/div[5]/div/div/div[1]/input\")\n",
    "search_locn"
   ]
  },
  {
   "cell_type": "code",
   "execution_count": 37,
   "id": "ec9e2598",
   "metadata": {},
   "outputs": [],
   "source": [
    "search_locn.send_keys(\"Bangalore\")"
   ]
  },
  {
   "cell_type": "code",
   "execution_count": 38,
   "id": "3f6bc5ff",
   "metadata": {},
   "outputs": [
    {
     "data": {
      "text/plain": [
       "<selenium.webdriver.remote.webelement.WebElement (session=\"9fc07a8e6b038b12e72caf8a75747d5c\", element=\"0482cb93-047e-41e1-9eb1-1c54def5d2a1\")>"
      ]
     },
     "execution_count": 38,
     "metadata": {},
     "output_type": "execute_result"
    }
   ],
   "source": [
    "search_btn  =  driver.find_element(\"xpath\",\"/html/body/div[1]/div[2]/div[3]/div/div/div[6]\")\n",
    "search_btn"
   ]
  },
  {
   "cell_type": "code",
   "execution_count": 39,
   "id": "448fe1b2",
   "metadata": {},
   "outputs": [],
   "source": [
    "search_btn.click()"
   ]
  },
  {
   "cell_type": "code",
   "execution_count": 41,
   "id": "203f8c0e",
   "metadata": {},
   "outputs": [
    {
     "data": {
      "text/plain": [
       "20"
      ]
     },
     "execution_count": 41,
     "metadata": {},
     "output_type": "execute_result"
    }
   ],
   "source": [
    "title_tags  =  driver.find_elements(\"xpath\",'//a[@class=\"title fw500 ellipsis\"]')\n",
    "len(title_tags)"
   ]
  },
  {
   "cell_type": "code",
   "execution_count": 42,
   "id": "54819173",
   "metadata": {},
   "outputs": [
    {
     "data": {
      "text/plain": [
       "20"
      ]
     },
     "execution_count": 42,
     "metadata": {},
     "output_type": "execute_result"
    }
   ],
   "source": [
    "job_titles  =  []\n",
    "\n",
    "for i in title_tags:\n",
    "    job_titles.append(i.text)\n",
    "len(job_titles)   "
   ]
  },
  {
   "cell_type": "code",
   "execution_count": 43,
   "id": "7e92e0a4",
   "metadata": {},
   "outputs": [
    {
     "data": {
      "text/plain": [
       "['Urgent Job Opening For AI Practitioner - Data Science at Wipro Holmes',\n",
       " 'Dataiku Consultant',\n",
       " 'Opportunity For Data Scientist - Female Candidates ONLY',\n",
       " 'Data Science - Senior Data Scientist - Analytics',\n",
       " 'Principal - Data Scientist',\n",
       " 'Opening For SAS Data Scientist_Senior (MNC_Big4)',\n",
       " 'Opening For SAS Data Scientist_Senior (MNC_Big4)',\n",
       " 'Research and Development -AI/ML -(PhD )',\n",
       " 'Senior Data Science Engineer',\n",
       " 'Data Science - Engineering Manager',\n",
       " 'Data Scientist',\n",
       " 'Data Scientist- Assistant Manager/Manager',\n",
       " 'Data Scientist',\n",
       " 'Data Scientist, Personalization',\n",
       " 'AWS Sagemaker',\n",
       " 'Data Scientist',\n",
       " 'Data Scientist: Artificial Intelligence',\n",
       " 'Data Scientist - IN3',\n",
       " 'Senior Data Scientist, Personalization',\n",
       " 'Data Scientist']"
      ]
     },
     "execution_count": 43,
     "metadata": {},
     "output_type": "execute_result"
    }
   ],
   "source": [
    "job_titles"
   ]
  },
  {
   "cell_type": "code",
   "execution_count": 44,
   "id": "ea1f00cd",
   "metadata": {},
   "outputs": [
    {
     "data": {
      "text/plain": [
       "20"
      ]
     },
     "execution_count": 44,
     "metadata": {},
     "output_type": "execute_result"
    }
   ],
   "source": [
    "locn_tags  =  driver.find_elements(\"xpath\",'//li[@class=\"fleft grey-text br2 placeHolderLi location\"]')\n",
    "len(locn_tags)"
   ]
  },
  {
   "cell_type": "code",
   "execution_count": 45,
   "id": "b1016fc6",
   "metadata": {},
   "outputs": [
    {
     "data": {
      "text/plain": [
       "20"
      ]
     },
     "execution_count": 45,
     "metadata": {},
     "output_type": "execute_result"
    }
   ],
   "source": [
    "location  =  []\n",
    "\n",
    "for i in locn_tags:\n",
    "    location.append(i.text)\n",
    "len(location)    "
   ]
  },
  {
   "cell_type": "code",
   "execution_count": 46,
   "id": "506da322",
   "metadata": {},
   "outputs": [
    {
     "data": {
      "text/plain": [
       "['Bangalore/Bengaluru, Kochi/Cochin, New Delhi, Coimbatore, Chennai, Pune, Mumbai, Hyderabad',\n",
       " 'Bangalore/Bengaluru, Pune, Chennai',\n",
       " 'Bangalore/Bengaluru, Gurgaon/Gurugram, Mumbai (All Areas)',\n",
       " 'Bangalore/Bengaluru, Noida',\n",
       " 'Bangalore/Bengaluru',\n",
       " 'Bangalore/Bengaluru, Kolkata, Hyderabad/Secunderabad',\n",
       " 'Bangalore/Bengaluru, Kolkata, Hyderabad/Secunderabad',\n",
       " 'Bangalore/Bengaluru, Noida, Hyderabad/Secunderabad, Pune, Gurgaon/Gurugram, Chennai, Delhi / NCR',\n",
       " 'Bangalore/Bengaluru, Gurgaon/Gurugram, Mumbai (All Areas)',\n",
       " 'Bangalore/Bengaluru, Noida, Mumbai',\n",
       " 'Bangalore/Bengaluru, Mumbai (All Areas)',\n",
       " 'Bangalore/Bengaluru',\n",
       " 'Bangalore/Bengaluru',\n",
       " 'Bangalore/Bengaluru',\n",
       " 'Bangalore/Bengaluru\\n(WFH during Covid)',\n",
       " 'Bangalore/Bengaluru\\n(WFH during Covid)',\n",
       " 'Bangalore/Bengaluru',\n",
       " 'Bangalore/Bengaluru',\n",
       " 'Bangalore/Bengaluru',\n",
       " 'Bangalore/Bengaluru']"
      ]
     },
     "execution_count": 46,
     "metadata": {},
     "output_type": "execute_result"
    }
   ],
   "source": [
    "location"
   ]
  },
  {
   "cell_type": "code",
   "execution_count": 47,
   "id": "c6e0e328",
   "metadata": {},
   "outputs": [
    {
     "data": {
      "text/plain": [
       "20"
      ]
     },
     "execution_count": 47,
     "metadata": {},
     "output_type": "execute_result"
    }
   ],
   "source": [
    "company_tags  =  driver.find_elements(\"xpath\",'//a[@class=\"subTitle ellipsis fleft\"]')\n",
    "len(company_tags)"
   ]
  },
  {
   "cell_type": "code",
   "execution_count": 48,
   "id": "734e0266",
   "metadata": {},
   "outputs": [
    {
     "data": {
      "text/plain": [
       "20"
      ]
     },
     "execution_count": 48,
     "metadata": {},
     "output_type": "execute_result"
    }
   ],
   "source": [
    "company_names  =  []\n",
    "\n",
    "for i in company_tags:\n",
    "    company_names.append(i.text)\n",
    "len(company_names)    "
   ]
  },
  {
   "cell_type": "code",
   "execution_count": 49,
   "id": "4273671a",
   "metadata": {},
   "outputs": [
    {
     "data": {
      "text/plain": [
       "['Wipro',\n",
       " 'Wipro',\n",
       " 'PayU',\n",
       " 'Paytm',\n",
       " 'Schneider Electric',\n",
       " 'Allegis Services India Pvt. Ltd.',\n",
       " 'Allegis Services India Pvt. Ltd.',\n",
       " 'EXL',\n",
       " 'Fractal Analytics',\n",
       " 'Paytm',\n",
       " 'UPL',\n",
       " 'Genpact',\n",
       " 'IBM',\n",
       " 'Walmart',\n",
       " 'Wipro',\n",
       " 'Wipro',\n",
       " 'IBM',\n",
       " 'Walmart',\n",
       " 'Walmart',\n",
       " 'Schneider Electric']"
      ]
     },
     "execution_count": 49,
     "metadata": {},
     "output_type": "execute_result"
    }
   ],
   "source": [
    "company_names"
   ]
  },
  {
   "cell_type": "code",
   "execution_count": 50,
   "id": "76b366e2",
   "metadata": {},
   "outputs": [
    {
     "data": {
      "text/plain": [
       "(20, 20, 20)"
      ]
     },
     "execution_count": 50,
     "metadata": {},
     "output_type": "execute_result"
    }
   ],
   "source": [
    "len(job_titles),len(location),len(company_names)"
   ]
  },
  {
   "cell_type": "code",
   "execution_count": 51,
   "id": "c6d0f304",
   "metadata": {},
   "outputs": [
    {
     "data": {
      "text/html": [
       "<div>\n",
       "<style scoped>\n",
       "    .dataframe tbody tr th:only-of-type {\n",
       "        vertical-align: middle;\n",
       "    }\n",
       "\n",
       "    .dataframe tbody tr th {\n",
       "        vertical-align: top;\n",
       "    }\n",
       "\n",
       "    .dataframe thead th {\n",
       "        text-align: right;\n",
       "    }\n",
       "</style>\n",
       "<table border=\"1\" class=\"dataframe\">\n",
       "  <thead>\n",
       "    <tr style=\"text-align: right;\">\n",
       "      <th></th>\n",
       "      <th>Job Title</th>\n",
       "      <th>Location</th>\n",
       "      <th>Company</th>\n",
       "    </tr>\n",
       "  </thead>\n",
       "  <tbody>\n",
       "    <tr>\n",
       "      <th>0</th>\n",
       "      <td>Urgent Job Opening For AI Practitioner - Data ...</td>\n",
       "      <td>Bangalore/Bengaluru, Kochi/Cochin, New Delhi, ...</td>\n",
       "      <td>Wipro</td>\n",
       "    </tr>\n",
       "    <tr>\n",
       "      <th>1</th>\n",
       "      <td>Dataiku Consultant</td>\n",
       "      <td>Bangalore/Bengaluru, Pune, Chennai</td>\n",
       "      <td>Wipro</td>\n",
       "    </tr>\n",
       "    <tr>\n",
       "      <th>2</th>\n",
       "      <td>Opportunity For Data Scientist - Female Candid...</td>\n",
       "      <td>Bangalore/Bengaluru, Gurgaon/Gurugram, Mumbai ...</td>\n",
       "      <td>PayU</td>\n",
       "    </tr>\n",
       "    <tr>\n",
       "      <th>3</th>\n",
       "      <td>Data Science - Senior Data Scientist - Analytics</td>\n",
       "      <td>Bangalore/Bengaluru, Noida</td>\n",
       "      <td>Paytm</td>\n",
       "    </tr>\n",
       "    <tr>\n",
       "      <th>4</th>\n",
       "      <td>Principal - Data Scientist</td>\n",
       "      <td>Bangalore/Bengaluru</td>\n",
       "      <td>Schneider Electric</td>\n",
       "    </tr>\n",
       "    <tr>\n",
       "      <th>5</th>\n",
       "      <td>Opening For SAS Data Scientist_Senior (MNC_Big4)</td>\n",
       "      <td>Bangalore/Bengaluru, Kolkata, Hyderabad/Secund...</td>\n",
       "      <td>Allegis Services India Pvt. Ltd.</td>\n",
       "    </tr>\n",
       "    <tr>\n",
       "      <th>6</th>\n",
       "      <td>Opening For SAS Data Scientist_Senior (MNC_Big4)</td>\n",
       "      <td>Bangalore/Bengaluru, Kolkata, Hyderabad/Secund...</td>\n",
       "      <td>Allegis Services India Pvt. Ltd.</td>\n",
       "    </tr>\n",
       "    <tr>\n",
       "      <th>7</th>\n",
       "      <td>Research and Development -AI/ML -(PhD )</td>\n",
       "      <td>Bangalore/Bengaluru, Noida, Hyderabad/Secunder...</td>\n",
       "      <td>EXL</td>\n",
       "    </tr>\n",
       "    <tr>\n",
       "      <th>8</th>\n",
       "      <td>Senior Data Science Engineer</td>\n",
       "      <td>Bangalore/Bengaluru, Gurgaon/Gurugram, Mumbai ...</td>\n",
       "      <td>Fractal Analytics</td>\n",
       "    </tr>\n",
       "    <tr>\n",
       "      <th>9</th>\n",
       "      <td>Data Science - Engineering Manager</td>\n",
       "      <td>Bangalore/Bengaluru, Noida, Mumbai</td>\n",
       "      <td>Paytm</td>\n",
       "    </tr>\n",
       "  </tbody>\n",
       "</table>\n",
       "</div>"
      ],
      "text/plain": [
       "                                           Job Title  \\\n",
       "0  Urgent Job Opening For AI Practitioner - Data ...   \n",
       "1                                 Dataiku Consultant   \n",
       "2  Opportunity For Data Scientist - Female Candid...   \n",
       "3   Data Science - Senior Data Scientist - Analytics   \n",
       "4                         Principal - Data Scientist   \n",
       "5   Opening For SAS Data Scientist_Senior (MNC_Big4)   \n",
       "6   Opening For SAS Data Scientist_Senior (MNC_Big4)   \n",
       "7            Research and Development -AI/ML -(PhD )   \n",
       "8                       Senior Data Science Engineer   \n",
       "9                 Data Science - Engineering Manager   \n",
       "\n",
       "                                            Location  \\\n",
       "0  Bangalore/Bengaluru, Kochi/Cochin, New Delhi, ...   \n",
       "1                 Bangalore/Bengaluru, Pune, Chennai   \n",
       "2  Bangalore/Bengaluru, Gurgaon/Gurugram, Mumbai ...   \n",
       "3                         Bangalore/Bengaluru, Noida   \n",
       "4                                Bangalore/Bengaluru   \n",
       "5  Bangalore/Bengaluru, Kolkata, Hyderabad/Secund...   \n",
       "6  Bangalore/Bengaluru, Kolkata, Hyderabad/Secund...   \n",
       "7  Bangalore/Bengaluru, Noida, Hyderabad/Secunder...   \n",
       "8  Bangalore/Bengaluru, Gurgaon/Gurugram, Mumbai ...   \n",
       "9                 Bangalore/Bengaluru, Noida, Mumbai   \n",
       "\n",
       "                            Company  \n",
       "0                             Wipro  \n",
       "1                             Wipro  \n",
       "2                              PayU  \n",
       "3                             Paytm  \n",
       "4                Schneider Electric  \n",
       "5  Allegis Services India Pvt. Ltd.  \n",
       "6  Allegis Services India Pvt. Ltd.  \n",
       "7                               EXL  \n",
       "8                 Fractal Analytics  \n",
       "9                             Paytm  "
      ]
     },
     "execution_count": 51,
     "metadata": {},
     "output_type": "execute_result"
    }
   ],
   "source": [
    "jobs  =  pd.DataFrame()\n",
    "jobs['Job Title']  =  job_titles\n",
    "jobs['Location'] =  location\n",
    "jobs['Company']  =  company_names\n",
    "jobs[0:10]"
   ]
  },
  {
   "cell_type": "markdown",
   "id": "9afb87d1",
   "metadata": {},
   "source": [
    "Q3: In this question you have to scrape data using the filters available on the webpage :\n",
    "You have to use the location and salary filter.\n",
    "You have to scrape data for “Data Scientist” designation for first 10 job results.\n",
    "You have to scrape the job-title, job-location, company name, experience required.\n",
    "The location filter to be used is “Delhi/NCR”. The salary filter to be used is “3-6” lakhs\n",
    "The task will be done as shown in the below steps:\n",
    "1. first get the webpage https://www.naukri.com/\n",
    "2. Enter “Data Scientist” in “Skill, Designations, and Companies” field.\n",
    "3. Then click the search button.\n",
    "4. Then apply the location filter and salary filter by checking the respective boxes\n",
    "5. Then scrape the data for the first 10 jobs results you get.\n",
    "6. Finally create a dataframe of the scraped data.\n",
    "Note: All of the above steps have to be done in code. No step is to be done manually.\n"
   ]
  },
  {
   "cell_type": "code",
   "execution_count": 52,
   "id": "66b260d5",
   "metadata": {},
   "outputs": [],
   "source": [
    "driver  =  webdriver.Chrome(r'C:\\Users\\user\\Downloads\\chromedriver_win32 (1)\\chromedriver.exe')"
   ]
  },
  {
   "cell_type": "code",
   "execution_count": 53,
   "id": "6f3d1888",
   "metadata": {},
   "outputs": [],
   "source": [
    "url  =  'https://www.naukri.com/'\n",
    "driver.get(url)"
   ]
  },
  {
   "cell_type": "code",
   "execution_count": 54,
   "id": "7cde87c2",
   "metadata": {},
   "outputs": [
    {
     "data": {
      "text/plain": [
       "<selenium.webdriver.remote.webelement.WebElement (session=\"e455579eba2ef0096e6870bf3257204a\", element=\"bb65599b-b1ab-4944-9a43-b526e1f94057\")>"
      ]
     },
     "execution_count": 54,
     "metadata": {},
     "output_type": "execute_result"
    }
   ],
   "source": [
    "search_job  =  driver.find_element(\"xpath\",\"/html/body/div[1]/div[2]/div[3]/div/div/div[1]/div/div/div[1]/input\")\n",
    "search_job"
   ]
  },
  {
   "cell_type": "code",
   "execution_count": 55,
   "id": "4fa60d37",
   "metadata": {},
   "outputs": [],
   "source": [
    "search_job.send_keys(\"Data Scientist\")"
   ]
  },
  {
   "cell_type": "code",
   "execution_count": 56,
   "id": "10fe72ee",
   "metadata": {},
   "outputs": [
    {
     "data": {
      "text/plain": [
       "<selenium.webdriver.remote.webelement.WebElement (session=\"e455579eba2ef0096e6870bf3257204a\", element=\"4c5a5889-9ea5-4535-b55f-1767aa9f92a6\")>"
      ]
     },
     "execution_count": 56,
     "metadata": {},
     "output_type": "execute_result"
    }
   ],
   "source": [
    "search_locn  =  driver.find_element(\"xpath\",\"/html/body/div[1]/div[2]/div[3]/div/div/div[5]/div/div/div/input\")\n",
    "search_locn"
   ]
  },
  {
   "cell_type": "code",
   "execution_count": 57,
   "id": "c910e597",
   "metadata": {},
   "outputs": [],
   "source": [
    "search_locn.send_keys(\"Delhi/NCR\")"
   ]
  },
  {
   "cell_type": "code",
   "execution_count": 58,
   "id": "f3649042",
   "metadata": {},
   "outputs": [
    {
     "data": {
      "text/plain": [
       "<selenium.webdriver.remote.webelement.WebElement (session=\"e455579eba2ef0096e6870bf3257204a\", element=\"6d8718cc-181e-49b3-917c-ce086235c798\")>"
      ]
     },
     "execution_count": 58,
     "metadata": {},
     "output_type": "execute_result"
    }
   ],
   "source": [
    "search_btn  =   driver.find_element(\"xpath\",\"/html/body/div[1]/div[2]/div[3]/div/div/div[6]\")\n",
    "search_btn "
   ]
  },
  {
   "cell_type": "code",
   "execution_count": 59,
   "id": "8c877793",
   "metadata": {},
   "outputs": [],
   "source": [
    "search_btn.click()"
   ]
  },
  {
   "cell_type": "code",
   "execution_count": 60,
   "id": "04e0a1ea",
   "metadata": {},
   "outputs": [
    {
     "data": {
      "text/plain": [
       "20"
      ]
     },
     "execution_count": 60,
     "metadata": {},
     "output_type": "execute_result"
    }
   ],
   "source": [
    "title_tags  =  driver.find_elements(\"xpath\",'//a[@class=\"title fw500 ellipsis\"]')\n",
    "len(title_tags)"
   ]
  },
  {
   "cell_type": "code",
   "execution_count": 61,
   "id": "728a2f4a",
   "metadata": {},
   "outputs": [
    {
     "data": {
      "text/plain": [
       "20"
      ]
     },
     "execution_count": 61,
     "metadata": {},
     "output_type": "execute_result"
    }
   ],
   "source": [
    "job_titles  =  []\n",
    "\n",
    "for i in title_tags:\n",
    "    job_titles.append(i.text)\n",
    "len(job_titles)   "
   ]
  },
  {
   "cell_type": "code",
   "execution_count": 62,
   "id": "ae6a26db",
   "metadata": {},
   "outputs": [
    {
     "data": {
      "text/plain": [
       "['Urgent Job Opening For AI Practitioner - Data Science at Wipro Holmes',\n",
       " 'Opportunity For Data Scientist - Female Candidates ONLY',\n",
       " 'Data Science - Senior Data Scientist - Analytics',\n",
       " 'Research and Development -AI/ML -(PhD )',\n",
       " 'Senior Data Science Engineer',\n",
       " 'Data Science - Engineering Manager',\n",
       " 'DigitalBCG GAMMA Data Scientist',\n",
       " 'Data Scientist',\n",
       " 'Data Scientist - Python/Machine Learning',\n",
       " 'Senior Associate - Data Science',\n",
       " 'Data Scientist - Noida/Bangalore',\n",
       " 'Data Scientist',\n",
       " 'Data Scientist: Advanced Analytics',\n",
       " 'Data Science - Lead Data Scientist',\n",
       " 'Associate Data Scientist - Automotive Supply Chain & Technology',\n",
       " 'Data Scientist - NLP/R/Python',\n",
       " 'Data Scientist: Advanced Analytics',\n",
       " 'Data Science Engineer - Gurgaon - Hybrid',\n",
       " 'AVAP Agile Information Systems - Data Scientist - R/SQL/Python',\n",
       " 'Sr Data Scientist']"
      ]
     },
     "execution_count": 62,
     "metadata": {},
     "output_type": "execute_result"
    }
   ],
   "source": [
    "job_titles"
   ]
  },
  {
   "cell_type": "code",
   "execution_count": 63,
   "id": "d2f218ba",
   "metadata": {},
   "outputs": [
    {
     "data": {
      "text/plain": [
       "20"
      ]
     },
     "execution_count": 63,
     "metadata": {},
     "output_type": "execute_result"
    }
   ],
   "source": [
    "locn_tags  =  driver.find_elements(\"xpath\",'//li[@class=\"fleft grey-text br2 placeHolderLi location\"]')\n",
    "len(locn_tags)"
   ]
  },
  {
   "cell_type": "code",
   "execution_count": 64,
   "id": "070568b5",
   "metadata": {},
   "outputs": [
    {
     "data": {
      "text/plain": [
       "20"
      ]
     },
     "execution_count": 64,
     "metadata": {},
     "output_type": "execute_result"
    }
   ],
   "source": [
    "location  =  []\n",
    "\n",
    "for i in locn_tags:\n",
    "    location.append(i.text)\n",
    "len(location)   "
   ]
  },
  {
   "cell_type": "code",
   "execution_count": 65,
   "id": "af9a502e",
   "metadata": {},
   "outputs": [
    {
     "data": {
      "text/plain": [
       "['Kochi/Cochin, New Delhi, Bangalore/Bengaluru, Coimbatore, Chennai, Pune, Mumbai, Hyderabad',\n",
       " 'Gurgaon/Gurugram, Bangalore/Bengaluru, Mumbai (All Areas)',\n",
       " 'Noida, Bangalore/Bengaluru',\n",
       " 'Delhi / NCR, Noida, Hyderabad/Secunderabad, Pune, Gurgaon/Gurugram, Chennai, Bangalore/Bengaluru',\n",
       " 'Gurgaon/Gurugram, Bangalore/Bengaluru, Mumbai (All Areas)',\n",
       " 'Noida, Mumbai, Bangalore/Bengaluru',\n",
       " 'New Delhi, Bangalore/Bengaluru',\n",
       " 'Delhi / NCR, Hyderabad/Secunderabad, Bangalore/Bengaluru',\n",
       " 'Delhi / NCR, Kolkata, Mumbai, Hyderabad/Secunderabad, Pune, Chennai, Ahmedabad, Bangalore/Bengaluru',\n",
       " 'Mumbai, Hyderabad/Secunderabad, Gurgaon/Gurugram, Bangalore/Bengaluru',\n",
       " 'Noida, Bangalore/Bengaluru',\n",
       " 'Gurgaon/Gurugram, Bangalore/Bengaluru',\n",
       " 'Gurgaon/Gurugram',\n",
       " 'Noida, Bangalore/Bengaluru',\n",
       " 'Gurgaon/Gurugram, Bangalore/Bengaluru',\n",
       " 'Mumbai, Pune, Chennai, Gurgaon/Gurugram, Bangalore/Bengaluru',\n",
       " 'Gurgaon/Gurugram',\n",
       " 'Gurgaon/Gurugram',\n",
       " 'Kolkata, Mumbai, Pune, Chennai, Bangalore/Bengaluru, hyderabad/secundrabad, Delhi / NCR',\n",
       " 'Delhi / NCR, Kolkata, Mumbai, Hyderabad/Secunderabad, Lucknow, Chennai, Ahmedabad, Bangalore/Bengaluru\\n(WFH during Covid)']"
      ]
     },
     "execution_count": 65,
     "metadata": {},
     "output_type": "execute_result"
    }
   ],
   "source": [
    "location"
   ]
  },
  {
   "cell_type": "code",
   "execution_count": 66,
   "id": "b414defd",
   "metadata": {},
   "outputs": [
    {
     "data": {
      "text/plain": [
       "20"
      ]
     },
     "execution_count": 66,
     "metadata": {},
     "output_type": "execute_result"
    }
   ],
   "source": [
    "company_tags  =   driver.find_elements(\"xpath\",'//a[@class=\"subTitle ellipsis fleft\"]')\n",
    "len(company_tags)"
   ]
  },
  {
   "cell_type": "code",
   "execution_count": 67,
   "id": "239292b3",
   "metadata": {},
   "outputs": [
    {
     "data": {
      "text/plain": [
       "20"
      ]
     },
     "execution_count": 67,
     "metadata": {},
     "output_type": "execute_result"
    }
   ],
   "source": [
    "company_names  =  []\n",
    "\n",
    "for i in company_tags:\n",
    "    company_names.append(i.text)\n",
    "len(company_names)    "
   ]
  },
  {
   "cell_type": "code",
   "execution_count": 68,
   "id": "1de661da",
   "metadata": {},
   "outputs": [
    {
     "data": {
      "text/plain": [
       "['Wipro',\n",
       " 'PayU',\n",
       " 'Paytm',\n",
       " 'EXL',\n",
       " 'Fractal Analytics',\n",
       " 'Paytm',\n",
       " 'Boston Consulting Group',\n",
       " 'Genpact',\n",
       " 'Accubits Technologies',\n",
       " 'Black Turtle India Pvt Ltd',\n",
       " 'EXL',\n",
       " 'EXL',\n",
       " 'IBM',\n",
       " 'Paytm',\n",
       " 'IHS Markit',\n",
       " 'AIM recruits',\n",
       " 'IBM',\n",
       " 'OFB TECH Pvt Ltd',\n",
       " 'AVAP Agile',\n",
       " 'Alpha Net']"
      ]
     },
     "execution_count": 68,
     "metadata": {},
     "output_type": "execute_result"
    }
   ],
   "source": [
    "company_names"
   ]
  },
  {
   "cell_type": "code",
   "execution_count": 69,
   "id": "ce960994",
   "metadata": {},
   "outputs": [
    {
     "data": {
      "text/plain": [
       "20"
      ]
     },
     "execution_count": 69,
     "metadata": {},
     "output_type": "execute_result"
    }
   ],
   "source": [
    "exp_tags  =  driver.find_elements(\"xpath\",'//li[@class=\"fleft grey-text br2 placeHolderLi experience\"]')\n",
    "len(exp_tags)"
   ]
  },
  {
   "cell_type": "code",
   "execution_count": 70,
   "id": "ac4bf09e",
   "metadata": {},
   "outputs": [
    {
     "data": {
      "text/plain": [
       "20"
      ]
     },
     "execution_count": 70,
     "metadata": {},
     "output_type": "execute_result"
    }
   ],
   "source": [
    "experience_required  =  []\n",
    "\n",
    "for i in exp_tags:\n",
    "    experience_required.append(i.text)\n",
    "len(experience_required)    "
   ]
  },
  {
   "cell_type": "code",
   "execution_count": 71,
   "id": "91478912",
   "metadata": {},
   "outputs": [
    {
     "data": {
      "text/plain": [
       "['11-21 Yrs',\n",
       " '1-3 Yrs',\n",
       " '3-5 Yrs',\n",
       " '4-8 Yrs',\n",
       " '5-9 Yrs',\n",
       " '9-13 Yrs',\n",
       " '2-5 Yrs',\n",
       " '5-8 Yrs',\n",
       " '4-8 Yrs',\n",
       " '4-7 Yrs',\n",
       " '5-10 Yrs',\n",
       " '4-7 Yrs',\n",
       " '5-10 Yrs',\n",
       " '3-5 Yrs',\n",
       " '3-6 Yrs',\n",
       " '5-7 Yrs',\n",
       " '3-7 Yrs',\n",
       " '2-6 Yrs',\n",
       " '3-8 Yrs',\n",
       " '9-12 Yrs']"
      ]
     },
     "execution_count": 71,
     "metadata": {},
     "output_type": "execute_result"
    }
   ],
   "source": [
    "experience_required"
   ]
  },
  {
   "cell_type": "code",
   "execution_count": 72,
   "id": "f281c391",
   "metadata": {},
   "outputs": [],
   "source": [
    "salary_check  =  driver.find_element(\"xpath\",'/html/body/div[1]/div[3]/div[2]/section[1]/div[2]/div[5]/div[2]/div[2]/label/i')\n",
    "salary_check.click()"
   ]
  },
  {
   "cell_type": "code",
   "execution_count": 73,
   "id": "88e87f04",
   "metadata": {},
   "outputs": [
    {
     "data": {
      "text/plain": [
       "(20, 20, 20, 20)"
      ]
     },
     "execution_count": 73,
     "metadata": {},
     "output_type": "execute_result"
    }
   ],
   "source": [
    "len(job_titles), len(location), len(company_names), len(experience_required)"
   ]
  },
  {
   "cell_type": "code",
   "execution_count": 74,
   "id": "b946af14",
   "metadata": {},
   "outputs": [
    {
     "data": {
      "text/html": [
       "<div>\n",
       "<style scoped>\n",
       "    .dataframe tbody tr th:only-of-type {\n",
       "        vertical-align: middle;\n",
       "    }\n",
       "\n",
       "    .dataframe tbody tr th {\n",
       "        vertical-align: top;\n",
       "    }\n",
       "\n",
       "    .dataframe thead th {\n",
       "        text-align: right;\n",
       "    }\n",
       "</style>\n",
       "<table border=\"1\" class=\"dataframe\">\n",
       "  <thead>\n",
       "    <tr style=\"text-align: right;\">\n",
       "      <th></th>\n",
       "      <th>Job Title</th>\n",
       "      <th>Location</th>\n",
       "      <th>Company</th>\n",
       "      <th>Experience</th>\n",
       "    </tr>\n",
       "  </thead>\n",
       "  <tbody>\n",
       "    <tr>\n",
       "      <th>0</th>\n",
       "      <td>Urgent Job Opening For AI Practitioner - Data ...</td>\n",
       "      <td>Kochi/Cochin, New Delhi, Bangalore/Bengaluru, ...</td>\n",
       "      <td>Wipro</td>\n",
       "      <td>11-21 Yrs</td>\n",
       "    </tr>\n",
       "    <tr>\n",
       "      <th>1</th>\n",
       "      <td>Opportunity For Data Scientist - Female Candid...</td>\n",
       "      <td>Gurgaon/Gurugram, Bangalore/Bengaluru, Mumbai ...</td>\n",
       "      <td>PayU</td>\n",
       "      <td>1-3 Yrs</td>\n",
       "    </tr>\n",
       "    <tr>\n",
       "      <th>2</th>\n",
       "      <td>Data Science - Senior Data Scientist - Analytics</td>\n",
       "      <td>Noida, Bangalore/Bengaluru</td>\n",
       "      <td>Paytm</td>\n",
       "      <td>3-5 Yrs</td>\n",
       "    </tr>\n",
       "    <tr>\n",
       "      <th>3</th>\n",
       "      <td>Research and Development -AI/ML -(PhD )</td>\n",
       "      <td>Delhi / NCR, Noida, Hyderabad/Secunderabad, Pu...</td>\n",
       "      <td>EXL</td>\n",
       "      <td>4-8 Yrs</td>\n",
       "    </tr>\n",
       "    <tr>\n",
       "      <th>4</th>\n",
       "      <td>Senior Data Science Engineer</td>\n",
       "      <td>Gurgaon/Gurugram, Bangalore/Bengaluru, Mumbai ...</td>\n",
       "      <td>Fractal Analytics</td>\n",
       "      <td>5-9 Yrs</td>\n",
       "    </tr>\n",
       "    <tr>\n",
       "      <th>5</th>\n",
       "      <td>Data Science - Engineering Manager</td>\n",
       "      <td>Noida, Mumbai, Bangalore/Bengaluru</td>\n",
       "      <td>Paytm</td>\n",
       "      <td>9-13 Yrs</td>\n",
       "    </tr>\n",
       "    <tr>\n",
       "      <th>6</th>\n",
       "      <td>DigitalBCG GAMMA Data Scientist</td>\n",
       "      <td>New Delhi, Bangalore/Bengaluru</td>\n",
       "      <td>Boston Consulting Group</td>\n",
       "      <td>2-5 Yrs</td>\n",
       "    </tr>\n",
       "    <tr>\n",
       "      <th>7</th>\n",
       "      <td>Data Scientist</td>\n",
       "      <td>Delhi / NCR, Hyderabad/Secunderabad, Bangalore...</td>\n",
       "      <td>Genpact</td>\n",
       "      <td>5-8 Yrs</td>\n",
       "    </tr>\n",
       "    <tr>\n",
       "      <th>8</th>\n",
       "      <td>Data Scientist - Python/Machine Learning</td>\n",
       "      <td>Delhi / NCR, Kolkata, Mumbai, Hyderabad/Secund...</td>\n",
       "      <td>Accubits Technologies</td>\n",
       "      <td>4-8 Yrs</td>\n",
       "    </tr>\n",
       "    <tr>\n",
       "      <th>9</th>\n",
       "      <td>Senior Associate - Data Science</td>\n",
       "      <td>Mumbai, Hyderabad/Secunderabad, Gurgaon/Gurugr...</td>\n",
       "      <td>Black Turtle India Pvt Ltd</td>\n",
       "      <td>4-7 Yrs</td>\n",
       "    </tr>\n",
       "  </tbody>\n",
       "</table>\n",
       "</div>"
      ],
      "text/plain": [
       "                                           Job Title  \\\n",
       "0  Urgent Job Opening For AI Practitioner - Data ...   \n",
       "1  Opportunity For Data Scientist - Female Candid...   \n",
       "2   Data Science - Senior Data Scientist - Analytics   \n",
       "3            Research and Development -AI/ML -(PhD )   \n",
       "4                       Senior Data Science Engineer   \n",
       "5                 Data Science - Engineering Manager   \n",
       "6                    DigitalBCG GAMMA Data Scientist   \n",
       "7                                     Data Scientist   \n",
       "8           Data Scientist - Python/Machine Learning   \n",
       "9                    Senior Associate - Data Science   \n",
       "\n",
       "                                            Location  \\\n",
       "0  Kochi/Cochin, New Delhi, Bangalore/Bengaluru, ...   \n",
       "1  Gurgaon/Gurugram, Bangalore/Bengaluru, Mumbai ...   \n",
       "2                         Noida, Bangalore/Bengaluru   \n",
       "3  Delhi / NCR, Noida, Hyderabad/Secunderabad, Pu...   \n",
       "4  Gurgaon/Gurugram, Bangalore/Bengaluru, Mumbai ...   \n",
       "5                 Noida, Mumbai, Bangalore/Bengaluru   \n",
       "6                     New Delhi, Bangalore/Bengaluru   \n",
       "7  Delhi / NCR, Hyderabad/Secunderabad, Bangalore...   \n",
       "8  Delhi / NCR, Kolkata, Mumbai, Hyderabad/Secund...   \n",
       "9  Mumbai, Hyderabad/Secunderabad, Gurgaon/Gurugr...   \n",
       "\n",
       "                      Company Experience  \n",
       "0                       Wipro  11-21 Yrs  \n",
       "1                        PayU    1-3 Yrs  \n",
       "2                       Paytm    3-5 Yrs  \n",
       "3                         EXL    4-8 Yrs  \n",
       "4           Fractal Analytics    5-9 Yrs  \n",
       "5                       Paytm   9-13 Yrs  \n",
       "6     Boston Consulting Group    2-5 Yrs  \n",
       "7                     Genpact    5-8 Yrs  \n",
       "8       Accubits Technologies    4-8 Yrs  \n",
       "9  Black Turtle India Pvt Ltd    4-7 Yrs  "
      ]
     },
     "execution_count": 74,
     "metadata": {},
     "output_type": "execute_result"
    }
   ],
   "source": [
    "jobs  =  pd.DataFrame()\n",
    "jobs['Job Title']  =  job_titles\n",
    "jobs['Location'] =  location\n",
    "jobs['Company']  =  company_names\n",
    "jobs['Experience']  =  experience_required\n",
    "jobs[0:10]"
   ]
  },
  {
   "cell_type": "markdown",
   "id": "37414f85",
   "metadata": {},
   "source": [
    "Q4: Scrape data of first 100 sunglasses listings on flipkart.com. You have to scrape four attributes:\n",
    "1. Brand\n",
    "2. Product Description\n",
    "3. Price\n",
    "To scrape the data you have to go through following steps:\n",
    "1. Go to Flipkart webpage by url : https://www.flipkart.com/\n",
    "2. Enter “sunglasses” in the search field where “search for products, brands and more” is written and\n",
    "click the search icon\n",
    "3. After that you will reach to the page having a lot of sunglasses. From this page you can scrap the\n",
    "required data as usual.\n",
    "4. After scraping data from the first page, go to the “Next” Button at the bottom other page , then\n",
    "click on it.\n",
    "5. Now scrape data from this page as usual\n",
    "6. Repeat this until you get data for 100 sunglasses.\n",
    "Note: That all of the above steps have to be done by coding only and not manually.\n"
   ]
  },
  {
   "cell_type": "code",
   "execution_count": 177,
   "id": "21191f79",
   "metadata": {},
   "outputs": [],
   "source": [
    "driver  =  webdriver.Chrome(r'C:\\Users\\user\\Downloads\\chromedriver_win32 (1)\\chromedriver.exe')"
   ]
  },
  {
   "cell_type": "code",
   "execution_count": 178,
   "id": "817be6b6",
   "metadata": {},
   "outputs": [],
   "source": [
    "url  =  'https://www.flipkart.com/'\n",
    "driver.get(url)"
   ]
  },
  {
   "cell_type": "code",
   "execution_count": 179,
   "id": "dad806b6",
   "metadata": {},
   "outputs": [
    {
     "data": {
      "text/plain": [
       "<selenium.webdriver.remote.webelement.WebElement (session=\"ae72f86dfc48cf92d1152fe618d9320e\", element=\"a063cac5-9fa8-4aa3-b3b8-0af73c1761dd\")>"
      ]
     },
     "execution_count": 179,
     "metadata": {},
     "output_type": "execute_result"
    }
   ],
   "source": [
    "search_for_products  =  driver.find_element(\"xpath\",\"/html/body/div[1]/div/div[1]/div[1]/div[2]/div[2]/form/div/div/input\")\n",
    "search_for_products"
   ]
  },
  {
   "cell_type": "code",
   "execution_count": 180,
   "id": "2bf9ac8d",
   "metadata": {},
   "outputs": [],
   "source": [
    "search_for_products.send_keys(\"sunglasses\")"
   ]
  },
  {
   "cell_type": "code",
   "execution_count": 181,
   "id": "bcc378db",
   "metadata": {},
   "outputs": [
    {
     "data": {
      "text/plain": [
       "<selenium.webdriver.remote.webelement.WebElement (session=\"ae72f86dfc48cf92d1152fe618d9320e\", element=\"beed6613-7c0a-4d9b-8c3b-87a484224f91\")>"
      ]
     },
     "execution_count": 181,
     "metadata": {},
     "output_type": "execute_result"
    }
   ],
   "source": [
    "search_btn  =  driver.find_element(\"xpath\",\"/html/body/div[1]/div/div[1]/div[1]/div[2]/div[2]/form/div/button\")\n",
    "search_btn    "
   ]
  },
  {
   "cell_type": "code",
   "execution_count": 182,
   "id": "be5f57df",
   "metadata": {},
   "outputs": [],
   "source": [
    "search_btn.click()"
   ]
  },
  {
   "cell_type": "code",
   "execution_count": 183,
   "id": "84ceec4f",
   "metadata": {},
   "outputs": [],
   "source": [
    "url='https://www.flipkart.com/search?q=sunglasses&otracker=search&otracker1=search&marketplace=FLIPKART&as-show=on&as=off'\n",
    "driver.get(url)"
   ]
  },
  {
   "cell_type": "code",
   "execution_count": 184,
   "id": "4bf77c9f",
   "metadata": {},
   "outputs": [
    {
     "data": {
      "text/plain": [
       "40"
      ]
     },
     "execution_count": 184,
     "metadata": {},
     "output_type": "execute_result"
    }
   ],
   "source": [
    "brand =  driver.find_elements(\"xpath\",'//div[@class=\"_2WkVRV\"]')\n",
    "len(brand)"
   ]
  },
  {
   "cell_type": "code",
   "execution_count": 185,
   "id": "40120bfc",
   "metadata": {},
   "outputs": [
    {
     "data": {
      "text/plain": [
       "40"
      ]
     },
     "execution_count": 185,
     "metadata": {},
     "output_type": "execute_result"
    }
   ],
   "source": [
    "brands =  []\n",
    "\n",
    "for i in brand:\n",
    "    brands.append(i.text)\n",
    "len(brands)    "
   ]
  },
  {
   "cell_type": "code",
   "execution_count": 186,
   "id": "741478a5",
   "metadata": {},
   "outputs": [
    {
     "data": {
      "text/plain": [
       "['Singco India',\n",
       " 'PHENOMENAL',\n",
       " 'DAHAAZIL',\n",
       " 'Fastrack',\n",
       " 'New Specs',\n",
       " 'Elligator',\n",
       " 'SUNBEE',\n",
       " 'Silver Kartz',\n",
       " 'SUNBEE',\n",
       " 'PIRASO',\n",
       " 'SRPM',\n",
       " 'PHENOMENAL',\n",
       " 'SHAAH COLLECTIONS',\n",
       " 'Fastrack',\n",
       " 'PIRASO',\n",
       " 'ROYAL SON',\n",
       " 'Fastrack',\n",
       " 'Lee Topper',\n",
       " 'PIRASO',\n",
       " 'elegante',\n",
       " 'Lee Topper',\n",
       " 'PIRASO',\n",
       " 'PIRASO',\n",
       " 'PHENOMENAL',\n",
       " 'PIRASO',\n",
       " 'Fastrack',\n",
       " 'ROZZETTA CRAFT',\n",
       " 'ROZZETTA CRAFT',\n",
       " 'NuVew',\n",
       " 'PIRASO',\n",
       " 'ROZZETTA CRAFT',\n",
       " 'Silver Kartz',\n",
       " 'Mi',\n",
       " 'SHAAH COLLECTIONS',\n",
       " 'Sewell',\n",
       " 'ROYAL SON',\n",
       " 'ROZZETTA CRAFT',\n",
       " 'SRPM',\n",
       " 'SUNBEE',\n",
       " 'elegante']"
      ]
     },
     "execution_count": 186,
     "metadata": {},
     "output_type": "execute_result"
    }
   ],
   "source": [
    "brands"
   ]
  },
  {
   "cell_type": "code",
   "execution_count": 187,
   "id": "5a5f3058",
   "metadata": {},
   "outputs": [
    {
     "data": {
      "text/plain": [
       "40"
      ]
     },
     "execution_count": 187,
     "metadata": {},
     "output_type": "execute_result"
    }
   ],
   "source": [
    "products  =  driver.find_elements(\"xpath\",'//a[@class=\"IRpwTa\"]')\n",
    "len(products)"
   ]
  },
  {
   "cell_type": "code",
   "execution_count": 188,
   "id": "8cc504d1",
   "metadata": {},
   "outputs": [
    {
     "data": {
      "text/plain": [
       "40"
      ]
     },
     "execution_count": 188,
     "metadata": {},
     "output_type": "execute_result"
    }
   ],
   "source": [
    "products_description  =  []\n",
    "\n",
    "for i in products:\n",
    "    products_description.append(i.text)\n",
    "len(products_description)    "
   ]
  },
  {
   "cell_type": "code",
   "execution_count": 189,
   "id": "cad8579a",
   "metadata": {},
   "outputs": [
    {
     "data": {
      "text/plain": [
       "['Gradient, Toughened Glass Lens, UV Protection Retro Squ...',\n",
       " 'UV Protection, Mirrored Retro Square Sunglasses (53)',\n",
       " 'UV Protection, Night Vision, Riding Glasses Wayfarer, W...',\n",
       " 'UV Protection Rectangular Sunglasses (Free Size)',\n",
       " 'UV Protection Rectangular Sunglasses (Free Size)',\n",
       " 'UV Protection Round Sunglasses (54)',\n",
       " 'UV Protection, Polarized, Mirrored Retro Square Sunglas...',\n",
       " 'UV Protection Clubmaster Sunglasses (53)',\n",
       " 'UV Protection, Polarized Wayfarer Sunglasses (Free Size...',\n",
       " 'UV Protection Aviator Sunglasses (54)',\n",
       " 'UV Protection Wayfarer Sunglasses (50)',\n",
       " 'UV Protection Retro Square Sunglasses (Free Size)',\n",
       " 'UV Protection, Polarized, Mirrored Rectangular Sunglass...',\n",
       " 'UV Protection Wayfarer Sunglasses (Free Size)',\n",
       " 'UV Protection Aviator Sunglasses (54)',\n",
       " 'UV Protection, Polarized Round Sunglasses (54)',\n",
       " 'UV Protection Aviator Sunglasses (Free Size)',\n",
       " 'Riding Glasses Wrap-around Sunglasses (Free Size)',\n",
       " 'UV Protection Aviator Sunglasses (58)',\n",
       " 'Polarized, Riding Glasses, Night Vision Sports Sunglass...',\n",
       " 'UV Protection Cat-eye Sunglasses (Free Size)',\n",
       " 'UV Protection Rectangular Sunglasses (52)',\n",
       " 'UV Protection Wayfarer Sunglasses (32)',\n",
       " 'UV Protection Retro Square Sunglasses (53)',\n",
       " 'UV Protection Aviator Sunglasses (54)',\n",
       " 'Gradient, UV Protection Wayfarer Sunglasses (Free Size)',\n",
       " 'Polarized, Riding Glasses Sports, Wrap-around Sunglasse...',\n",
       " 'UV Protection Spectacle Sunglasses (Free Size)',\n",
       " 'UV Protection Sports Sunglasses (62)',\n",
       " 'UV Protection Over-sized Sunglasses (65)',\n",
       " 'UV Protection Rectangular Sunglasses (Free Size)',\n",
       " 'UV Protection Wayfarer Sunglasses (Free Size)',\n",
       " 'Polarized Aviator Sunglasses (Free Size)',\n",
       " 'UV Protection Round Sunglasses (Free Size)',\n",
       " 'Mirrored, Night Vision, UV Protection, Riding Glasses S...',\n",
       " 'Polarized, UV Protection Aviator Sunglasses (57)',\n",
       " 'UV Protection, Gradient Retro Square Sunglasses (Free S...',\n",
       " 'Others Wayfarer, Retro Square Sunglasses (50)',\n",
       " 'UV Protection, Polarized, Mirrored Wayfarer Sunglasses ...',\n",
       " 'Polarized, Riding Glasses, Night Vision Sports Sunglass...']"
      ]
     },
     "execution_count": 189,
     "metadata": {},
     "output_type": "execute_result"
    }
   ],
   "source": [
    "products_description"
   ]
  },
  {
   "cell_type": "code",
   "execution_count": 190,
   "id": "70abfc19",
   "metadata": {},
   "outputs": [
    {
     "data": {
      "text/plain": [
       "40"
      ]
     },
     "execution_count": 190,
     "metadata": {},
     "output_type": "execute_result"
    }
   ],
   "source": [
    "price_of_sunglasses  =  driver.find_elements(\"xpath\",'//div[@class=\"_30jeq3\"]')\n",
    "len(price_of_sunglasses)"
   ]
  },
  {
   "cell_type": "code",
   "execution_count": 191,
   "id": "a7c4baba",
   "metadata": {},
   "outputs": [
    {
     "data": {
      "text/plain": [
       "40"
      ]
     },
     "execution_count": 191,
     "metadata": {},
     "output_type": "execute_result"
    }
   ],
   "source": [
    "price  =  []\n",
    "\n",
    "for i in price_of_sunglasses:\n",
    "    price.append(i.text)\n",
    "len(price)    "
   ]
  },
  {
   "cell_type": "code",
   "execution_count": 192,
   "id": "e6740e8e",
   "metadata": {},
   "outputs": [
    {
     "data": {
      "text/plain": [
       "['₹598',\n",
       " '₹369',\n",
       " '₹177',\n",
       " '₹639',\n",
       " '₹264',\n",
       " '₹315',\n",
       " '₹259',\n",
       " '₹313',\n",
       " '₹283',\n",
       " '₹224',\n",
       " '₹224',\n",
       " '₹360',\n",
       " '₹195',\n",
       " '₹799',\n",
       " '₹224',\n",
       " '₹664',\n",
       " '₹639',\n",
       " '₹299',\n",
       " '₹359',\n",
       " '₹499',\n",
       " '₹229',\n",
       " '₹306',\n",
       " '₹226',\n",
       " '₹339',\n",
       " '₹246',\n",
       " '₹719',\n",
       " '₹474',\n",
       " '₹379',\n",
       " '₹291',\n",
       " '₹410',\n",
       " '₹303',\n",
       " '₹288',\n",
       " '₹839',\n",
       " '₹279',\n",
       " '₹265',\n",
       " '₹759',\n",
       " '₹331',\n",
       " '₹219',\n",
       " '₹283',\n",
       " '₹499']"
      ]
     },
     "execution_count": 192,
     "metadata": {},
     "output_type": "execute_result"
    }
   ],
   "source": [
    "price"
   ]
  },
  {
   "cell_type": "code",
   "execution_count": 194,
   "id": "1fa1bed6",
   "metadata": {},
   "outputs": [
    {
     "data": {
      "text/plain": [
       "40"
      ]
     },
     "execution_count": 194,
     "metadata": {},
     "output_type": "execute_result"
    }
   ],
   "source": [
    "discount=driver.find_elements(\"xpath\",'//div[@class=\"_3Ay6Sb\"]')\n",
    "len(discount)"
   ]
  },
  {
   "cell_type": "code",
   "execution_count": 195,
   "id": "88b7aae8",
   "metadata": {},
   "outputs": [
    {
     "data": {
      "text/plain": [
       "40"
      ]
     },
     "execution_count": 195,
     "metadata": {},
     "output_type": "execute_result"
    }
   ],
   "source": [
    "discounts  =  []\n",
    "\n",
    "for i in discount:\n",
    "    discounts.append(i.text)\n",
    "len(discounts)    "
   ]
  },
  {
   "cell_type": "code",
   "execution_count": 196,
   "id": "b42b03c9",
   "metadata": {},
   "outputs": [
    {
     "data": {
      "text/plain": [
       "['80% off',\n",
       " '81% off',\n",
       " '82% off',\n",
       " '20% off',\n",
       " '89% off',\n",
       " '87% off',\n",
       " '80% off',\n",
       " '79% off',\n",
       " '78% off',\n",
       " '85% off',\n",
       " '82% off',\n",
       " '81% off',\n",
       " '88% off',\n",
       " '20% off',\n",
       " '85% off',\n",
       " '66% off',\n",
       " '20% off',\n",
       " '88% off',\n",
       " '86% off',\n",
       " '78% off',\n",
       " '82% off',\n",
       " '88% off',\n",
       " '85% off',\n",
       " '66% off',\n",
       " '84% off',\n",
       " '20% off',\n",
       " '76% off',\n",
       " '81% off',\n",
       " '76% off',\n",
       " '84% off',\n",
       " '79% off',\n",
       " '80% off',\n",
       " '30% off',\n",
       " '78% off',\n",
       " '82% off',\n",
       " '62% off',\n",
       " '83% off',\n",
       " '78% off',\n",
       " '78% off',\n",
       " '78% off']"
      ]
     },
     "execution_count": 196,
     "metadata": {},
     "output_type": "execute_result"
    }
   ],
   "source": [
    "discounts"
   ]
  },
  {
   "cell_type": "code",
   "execution_count": 197,
   "id": "8dd4e71f",
   "metadata": {},
   "outputs": [
    {
     "data": {
      "text/plain": [
       "(40, 40, 40, 40)"
      ]
     },
     "execution_count": 197,
     "metadata": {},
     "output_type": "execute_result"
    }
   ],
   "source": [
    "len(brands),len(products_description),len(price),len(discounts)"
   ]
  },
  {
   "cell_type": "code",
   "execution_count": 198,
   "id": "91f20771",
   "metadata": {},
   "outputs": [
    {
     "data": {
      "text/html": [
       "<div>\n",
       "<style scoped>\n",
       "    .dataframe tbody tr th:only-of-type {\n",
       "        vertical-align: middle;\n",
       "    }\n",
       "\n",
       "    .dataframe tbody tr th {\n",
       "        vertical-align: top;\n",
       "    }\n",
       "\n",
       "    .dataframe thead th {\n",
       "        text-align: right;\n",
       "    }\n",
       "</style>\n",
       "<table border=\"1\" class=\"dataframe\">\n",
       "  <thead>\n",
       "    <tr style=\"text-align: right;\">\n",
       "      <th></th>\n",
       "      <th>Brands</th>\n",
       "      <th>Products Description</th>\n",
       "      <th>Price</th>\n",
       "      <th>Discount</th>\n",
       "    </tr>\n",
       "  </thead>\n",
       "  <tbody>\n",
       "    <tr>\n",
       "      <th>0</th>\n",
       "      <td>Singco India</td>\n",
       "      <td>Gradient, Toughened Glass Lens, UV Protection ...</td>\n",
       "      <td>₹598</td>\n",
       "      <td>80% off</td>\n",
       "    </tr>\n",
       "    <tr>\n",
       "      <th>1</th>\n",
       "      <td>PHENOMENAL</td>\n",
       "      <td>UV Protection, Mirrored Retro Square Sunglasse...</td>\n",
       "      <td>₹369</td>\n",
       "      <td>81% off</td>\n",
       "    </tr>\n",
       "    <tr>\n",
       "      <th>2</th>\n",
       "      <td>DAHAAZIL</td>\n",
       "      <td>UV Protection, Night Vision, Riding Glasses Wa...</td>\n",
       "      <td>₹177</td>\n",
       "      <td>82% off</td>\n",
       "    </tr>\n",
       "    <tr>\n",
       "      <th>3</th>\n",
       "      <td>Fastrack</td>\n",
       "      <td>UV Protection Rectangular Sunglasses (Free Size)</td>\n",
       "      <td>₹639</td>\n",
       "      <td>20% off</td>\n",
       "    </tr>\n",
       "    <tr>\n",
       "      <th>4</th>\n",
       "      <td>New Specs</td>\n",
       "      <td>UV Protection Rectangular Sunglasses (Free Size)</td>\n",
       "      <td>₹264</td>\n",
       "      <td>89% off</td>\n",
       "    </tr>\n",
       "    <tr>\n",
       "      <th>5</th>\n",
       "      <td>Elligator</td>\n",
       "      <td>UV Protection Round Sunglasses (54)</td>\n",
       "      <td>₹315</td>\n",
       "      <td>87% off</td>\n",
       "    </tr>\n",
       "    <tr>\n",
       "      <th>6</th>\n",
       "      <td>SUNBEE</td>\n",
       "      <td>UV Protection, Polarized, Mirrored Retro Squar...</td>\n",
       "      <td>₹259</td>\n",
       "      <td>80% off</td>\n",
       "    </tr>\n",
       "    <tr>\n",
       "      <th>7</th>\n",
       "      <td>Silver Kartz</td>\n",
       "      <td>UV Protection Clubmaster Sunglasses (53)</td>\n",
       "      <td>₹313</td>\n",
       "      <td>79% off</td>\n",
       "    </tr>\n",
       "    <tr>\n",
       "      <th>8</th>\n",
       "      <td>SUNBEE</td>\n",
       "      <td>UV Protection, Polarized Wayfarer Sunglasses (...</td>\n",
       "      <td>₹283</td>\n",
       "      <td>78% off</td>\n",
       "    </tr>\n",
       "    <tr>\n",
       "      <th>9</th>\n",
       "      <td>PIRASO</td>\n",
       "      <td>UV Protection Aviator Sunglasses (54)</td>\n",
       "      <td>₹224</td>\n",
       "      <td>85% off</td>\n",
       "    </tr>\n",
       "    <tr>\n",
       "      <th>10</th>\n",
       "      <td>SRPM</td>\n",
       "      <td>UV Protection Wayfarer Sunglasses (50)</td>\n",
       "      <td>₹224</td>\n",
       "      <td>82% off</td>\n",
       "    </tr>\n",
       "    <tr>\n",
       "      <th>11</th>\n",
       "      <td>PHENOMENAL</td>\n",
       "      <td>UV Protection Retro Square Sunglasses (Free Size)</td>\n",
       "      <td>₹360</td>\n",
       "      <td>81% off</td>\n",
       "    </tr>\n",
       "    <tr>\n",
       "      <th>12</th>\n",
       "      <td>SHAAH COLLECTIONS</td>\n",
       "      <td>UV Protection, Polarized, Mirrored Rectangular...</td>\n",
       "      <td>₹195</td>\n",
       "      <td>88% off</td>\n",
       "    </tr>\n",
       "    <tr>\n",
       "      <th>13</th>\n",
       "      <td>Fastrack</td>\n",
       "      <td>UV Protection Wayfarer Sunglasses (Free Size)</td>\n",
       "      <td>₹799</td>\n",
       "      <td>20% off</td>\n",
       "    </tr>\n",
       "    <tr>\n",
       "      <th>14</th>\n",
       "      <td>PIRASO</td>\n",
       "      <td>UV Protection Aviator Sunglasses (54)</td>\n",
       "      <td>₹224</td>\n",
       "      <td>85% off</td>\n",
       "    </tr>\n",
       "    <tr>\n",
       "      <th>15</th>\n",
       "      <td>ROYAL SON</td>\n",
       "      <td>UV Protection, Polarized Round Sunglasses (54)</td>\n",
       "      <td>₹664</td>\n",
       "      <td>66% off</td>\n",
       "    </tr>\n",
       "    <tr>\n",
       "      <th>16</th>\n",
       "      <td>Fastrack</td>\n",
       "      <td>UV Protection Aviator Sunglasses (Free Size)</td>\n",
       "      <td>₹639</td>\n",
       "      <td>20% off</td>\n",
       "    </tr>\n",
       "    <tr>\n",
       "      <th>17</th>\n",
       "      <td>Lee Topper</td>\n",
       "      <td>Riding Glasses Wrap-around Sunglasses (Free Size)</td>\n",
       "      <td>₹299</td>\n",
       "      <td>88% off</td>\n",
       "    </tr>\n",
       "    <tr>\n",
       "      <th>18</th>\n",
       "      <td>PIRASO</td>\n",
       "      <td>UV Protection Aviator Sunglasses (58)</td>\n",
       "      <td>₹359</td>\n",
       "      <td>86% off</td>\n",
       "    </tr>\n",
       "    <tr>\n",
       "      <th>19</th>\n",
       "      <td>elegante</td>\n",
       "      <td>Polarized, Riding Glasses, Night Vision Sports...</td>\n",
       "      <td>₹499</td>\n",
       "      <td>78% off</td>\n",
       "    </tr>\n",
       "    <tr>\n",
       "      <th>20</th>\n",
       "      <td>Lee Topper</td>\n",
       "      <td>UV Protection Cat-eye Sunglasses (Free Size)</td>\n",
       "      <td>₹229</td>\n",
       "      <td>82% off</td>\n",
       "    </tr>\n",
       "    <tr>\n",
       "      <th>21</th>\n",
       "      <td>PIRASO</td>\n",
       "      <td>UV Protection Rectangular Sunglasses (52)</td>\n",
       "      <td>₹306</td>\n",
       "      <td>88% off</td>\n",
       "    </tr>\n",
       "    <tr>\n",
       "      <th>22</th>\n",
       "      <td>PIRASO</td>\n",
       "      <td>UV Protection Wayfarer Sunglasses (32)</td>\n",
       "      <td>₹226</td>\n",
       "      <td>85% off</td>\n",
       "    </tr>\n",
       "    <tr>\n",
       "      <th>23</th>\n",
       "      <td>PHENOMENAL</td>\n",
       "      <td>UV Protection Retro Square Sunglasses (53)</td>\n",
       "      <td>₹339</td>\n",
       "      <td>66% off</td>\n",
       "    </tr>\n",
       "    <tr>\n",
       "      <th>24</th>\n",
       "      <td>PIRASO</td>\n",
       "      <td>UV Protection Aviator Sunglasses (54)</td>\n",
       "      <td>₹246</td>\n",
       "      <td>84% off</td>\n",
       "    </tr>\n",
       "    <tr>\n",
       "      <th>25</th>\n",
       "      <td>Fastrack</td>\n",
       "      <td>Gradient, UV Protection Wayfarer Sunglasses (F...</td>\n",
       "      <td>₹719</td>\n",
       "      <td>20% off</td>\n",
       "    </tr>\n",
       "    <tr>\n",
       "      <th>26</th>\n",
       "      <td>ROZZETTA CRAFT</td>\n",
       "      <td>Polarized, Riding Glasses Sports, Wrap-around ...</td>\n",
       "      <td>₹474</td>\n",
       "      <td>76% off</td>\n",
       "    </tr>\n",
       "    <tr>\n",
       "      <th>27</th>\n",
       "      <td>ROZZETTA CRAFT</td>\n",
       "      <td>UV Protection Spectacle Sunglasses (Free Size)</td>\n",
       "      <td>₹379</td>\n",
       "      <td>81% off</td>\n",
       "    </tr>\n",
       "    <tr>\n",
       "      <th>28</th>\n",
       "      <td>NuVew</td>\n",
       "      <td>UV Protection Sports Sunglasses (62)</td>\n",
       "      <td>₹291</td>\n",
       "      <td>76% off</td>\n",
       "    </tr>\n",
       "    <tr>\n",
       "      <th>29</th>\n",
       "      <td>PIRASO</td>\n",
       "      <td>UV Protection Over-sized Sunglasses (65)</td>\n",
       "      <td>₹410</td>\n",
       "      <td>84% off</td>\n",
       "    </tr>\n",
       "    <tr>\n",
       "      <th>30</th>\n",
       "      <td>ROZZETTA CRAFT</td>\n",
       "      <td>UV Protection Rectangular Sunglasses (Free Size)</td>\n",
       "      <td>₹303</td>\n",
       "      <td>79% off</td>\n",
       "    </tr>\n",
       "    <tr>\n",
       "      <th>31</th>\n",
       "      <td>Silver Kartz</td>\n",
       "      <td>UV Protection Wayfarer Sunglasses (Free Size)</td>\n",
       "      <td>₹288</td>\n",
       "      <td>80% off</td>\n",
       "    </tr>\n",
       "    <tr>\n",
       "      <th>32</th>\n",
       "      <td>Mi</td>\n",
       "      <td>Polarized Aviator Sunglasses (Free Size)</td>\n",
       "      <td>₹839</td>\n",
       "      <td>30% off</td>\n",
       "    </tr>\n",
       "    <tr>\n",
       "      <th>33</th>\n",
       "      <td>SHAAH COLLECTIONS</td>\n",
       "      <td>UV Protection Round Sunglasses (Free Size)</td>\n",
       "      <td>₹279</td>\n",
       "      <td>78% off</td>\n",
       "    </tr>\n",
       "    <tr>\n",
       "      <th>34</th>\n",
       "      <td>Sewell</td>\n",
       "      <td>Mirrored, Night Vision, UV Protection, Riding ...</td>\n",
       "      <td>₹265</td>\n",
       "      <td>82% off</td>\n",
       "    </tr>\n",
       "    <tr>\n",
       "      <th>35</th>\n",
       "      <td>ROYAL SON</td>\n",
       "      <td>Polarized, UV Protection Aviator Sunglasses (57)</td>\n",
       "      <td>₹759</td>\n",
       "      <td>62% off</td>\n",
       "    </tr>\n",
       "    <tr>\n",
       "      <th>36</th>\n",
       "      <td>ROZZETTA CRAFT</td>\n",
       "      <td>UV Protection, Gradient Retro Square Sunglasse...</td>\n",
       "      <td>₹331</td>\n",
       "      <td>83% off</td>\n",
       "    </tr>\n",
       "    <tr>\n",
       "      <th>37</th>\n",
       "      <td>SRPM</td>\n",
       "      <td>Others Wayfarer, Retro Square Sunglasses (50)</td>\n",
       "      <td>₹219</td>\n",
       "      <td>78% off</td>\n",
       "    </tr>\n",
       "    <tr>\n",
       "      <th>38</th>\n",
       "      <td>SUNBEE</td>\n",
       "      <td>UV Protection, Polarized, Mirrored Wayfarer Su...</td>\n",
       "      <td>₹283</td>\n",
       "      <td>78% off</td>\n",
       "    </tr>\n",
       "    <tr>\n",
       "      <th>39</th>\n",
       "      <td>elegante</td>\n",
       "      <td>Polarized, Riding Glasses, Night Vision Sports...</td>\n",
       "      <td>₹499</td>\n",
       "      <td>78% off</td>\n",
       "    </tr>\n",
       "  </tbody>\n",
       "</table>\n",
       "</div>"
      ],
      "text/plain": [
       "               Brands                               Products Description  \\\n",
       "0        Singco India  Gradient, Toughened Glass Lens, UV Protection ...   \n",
       "1          PHENOMENAL  UV Protection, Mirrored Retro Square Sunglasse...   \n",
       "2            DAHAAZIL  UV Protection, Night Vision, Riding Glasses Wa...   \n",
       "3            Fastrack   UV Protection Rectangular Sunglasses (Free Size)   \n",
       "4           New Specs   UV Protection Rectangular Sunglasses (Free Size)   \n",
       "5           Elligator                UV Protection Round Sunglasses (54)   \n",
       "6              SUNBEE  UV Protection, Polarized, Mirrored Retro Squar...   \n",
       "7        Silver Kartz           UV Protection Clubmaster Sunglasses (53)   \n",
       "8              SUNBEE  UV Protection, Polarized Wayfarer Sunglasses (...   \n",
       "9              PIRASO              UV Protection Aviator Sunglasses (54)   \n",
       "10               SRPM             UV Protection Wayfarer Sunglasses (50)   \n",
       "11         PHENOMENAL  UV Protection Retro Square Sunglasses (Free Size)   \n",
       "12  SHAAH COLLECTIONS  UV Protection, Polarized, Mirrored Rectangular...   \n",
       "13           Fastrack      UV Protection Wayfarer Sunglasses (Free Size)   \n",
       "14             PIRASO              UV Protection Aviator Sunglasses (54)   \n",
       "15          ROYAL SON     UV Protection, Polarized Round Sunglasses (54)   \n",
       "16           Fastrack       UV Protection Aviator Sunglasses (Free Size)   \n",
       "17         Lee Topper  Riding Glasses Wrap-around Sunglasses (Free Size)   \n",
       "18             PIRASO              UV Protection Aviator Sunglasses (58)   \n",
       "19           elegante  Polarized, Riding Glasses, Night Vision Sports...   \n",
       "20         Lee Topper       UV Protection Cat-eye Sunglasses (Free Size)   \n",
       "21             PIRASO          UV Protection Rectangular Sunglasses (52)   \n",
       "22             PIRASO             UV Protection Wayfarer Sunglasses (32)   \n",
       "23         PHENOMENAL         UV Protection Retro Square Sunglasses (53)   \n",
       "24             PIRASO              UV Protection Aviator Sunglasses (54)   \n",
       "25           Fastrack  Gradient, UV Protection Wayfarer Sunglasses (F...   \n",
       "26     ROZZETTA CRAFT  Polarized, Riding Glasses Sports, Wrap-around ...   \n",
       "27     ROZZETTA CRAFT     UV Protection Spectacle Sunglasses (Free Size)   \n",
       "28              NuVew               UV Protection Sports Sunglasses (62)   \n",
       "29             PIRASO           UV Protection Over-sized Sunglasses (65)   \n",
       "30     ROZZETTA CRAFT   UV Protection Rectangular Sunglasses (Free Size)   \n",
       "31       Silver Kartz      UV Protection Wayfarer Sunglasses (Free Size)   \n",
       "32                 Mi           Polarized Aviator Sunglasses (Free Size)   \n",
       "33  SHAAH COLLECTIONS         UV Protection Round Sunglasses (Free Size)   \n",
       "34             Sewell  Mirrored, Night Vision, UV Protection, Riding ...   \n",
       "35          ROYAL SON   Polarized, UV Protection Aviator Sunglasses (57)   \n",
       "36     ROZZETTA CRAFT  UV Protection, Gradient Retro Square Sunglasse...   \n",
       "37               SRPM      Others Wayfarer, Retro Square Sunglasses (50)   \n",
       "38             SUNBEE  UV Protection, Polarized, Mirrored Wayfarer Su...   \n",
       "39           elegante  Polarized, Riding Glasses, Night Vision Sports...   \n",
       "\n",
       "   Price Discount  \n",
       "0   ₹598  80% off  \n",
       "1   ₹369  81% off  \n",
       "2   ₹177  82% off  \n",
       "3   ₹639  20% off  \n",
       "4   ₹264  89% off  \n",
       "5   ₹315  87% off  \n",
       "6   ₹259  80% off  \n",
       "7   ₹313  79% off  \n",
       "8   ₹283  78% off  \n",
       "9   ₹224  85% off  \n",
       "10  ₹224  82% off  \n",
       "11  ₹360  81% off  \n",
       "12  ₹195  88% off  \n",
       "13  ₹799  20% off  \n",
       "14  ₹224  85% off  \n",
       "15  ₹664  66% off  \n",
       "16  ₹639  20% off  \n",
       "17  ₹299  88% off  \n",
       "18  ₹359  86% off  \n",
       "19  ₹499  78% off  \n",
       "20  ₹229  82% off  \n",
       "21  ₹306  88% off  \n",
       "22  ₹226  85% off  \n",
       "23  ₹339  66% off  \n",
       "24  ₹246  84% off  \n",
       "25  ₹719  20% off  \n",
       "26  ₹474  76% off  \n",
       "27  ₹379  81% off  \n",
       "28  ₹291  76% off  \n",
       "29  ₹410  84% off  \n",
       "30  ₹303  79% off  \n",
       "31  ₹288  80% off  \n",
       "32  ₹839  30% off  \n",
       "33  ₹279  78% off  \n",
       "34  ₹265  82% off  \n",
       "35  ₹759  62% off  \n",
       "36  ₹331  83% off  \n",
       "37  ₹219  78% off  \n",
       "38  ₹283  78% off  \n",
       "39  ₹499  78% off  "
      ]
     },
     "execution_count": 198,
     "metadata": {},
     "output_type": "execute_result"
    }
   ],
   "source": [
    "df1= pd.DataFrame()\n",
    "df1['Brands']  =  brands\n",
    "df1['Products Description'] = products_description\n",
    "df1['Price']  =  price\n",
    "df1['Discount']  = discounts\n",
    "df1"
   ]
  },
  {
   "cell_type": "markdown",
   "id": "9db92a8b",
   "metadata": {},
   "source": [
    "next page to see next 40 sunglasses till 100 sunglasses"
   ]
  },
  {
   "cell_type": "code",
   "execution_count": 199,
   "id": "914813ec",
   "metadata": {},
   "outputs": [
    {
     "data": {
      "text/plain": [
       "<selenium.webdriver.remote.webelement.WebElement (session=\"ae72f86dfc48cf92d1152fe618d9320e\", element=\"77e2c25d-1ff2-4c0c-a6ed-00015a7e7520\")>"
      ]
     },
     "execution_count": 199,
     "metadata": {},
     "output_type": "execute_result"
    }
   ],
   "source": [
    "next_btn  =  driver.find_element(\"xpath\",'/html/body/div[1]/div/div[3]/div[1]/div[2]/div[12]/div/div/nav/a[11]')\n",
    "next_btn"
   ]
  },
  {
   "cell_type": "code",
   "execution_count": 200,
   "id": "c367cadc",
   "metadata": {},
   "outputs": [],
   "source": [
    "next_btn.click()"
   ]
  },
  {
   "cell_type": "code",
   "execution_count": 201,
   "id": "48787ac2",
   "metadata": {},
   "outputs": [],
   "source": [
    "url  =  'https://www.flipkart.com/search?q=sunglasses&otracker=search&otracker1=search&marketplace=FLIPKART&as-show=on&as=off&page=2'\n",
    "driver.get(url)"
   ]
  },
  {
   "cell_type": "code",
   "execution_count": 202,
   "id": "e64f299c",
   "metadata": {},
   "outputs": [
    {
     "data": {
      "text/plain": [
       "40"
      ]
     },
     "execution_count": 202,
     "metadata": {},
     "output_type": "execute_result"
    }
   ],
   "source": [
    "brand =  driver.find_elements(\"xpath\",'//div[@class=\"_2WkVRV\"]')\n",
    "len(brand)"
   ]
  },
  {
   "cell_type": "code",
   "execution_count": 203,
   "id": "8760f6e1",
   "metadata": {},
   "outputs": [
    {
     "data": {
      "text/plain": [
       "40"
      ]
     },
     "execution_count": 203,
     "metadata": {},
     "output_type": "execute_result"
    }
   ],
   "source": [
    "brands  =  []\n",
    "\n",
    "for i in brand:\n",
    "    brands.append(i.text)\n",
    "len(brands)    "
   ]
  },
  {
   "cell_type": "code",
   "execution_count": 204,
   "id": "6e53aab2",
   "metadata": {},
   "outputs": [
    {
     "data": {
      "text/plain": [
       "['DEIXELS',\n",
       " 'AISLIN',\n",
       " 'Fastrack',\n",
       " 'PHENOMENAL',\n",
       " 'ROYAL SON',\n",
       " 'Silver Kartz',\n",
       " 'PIRASO',\n",
       " 'GANSTA',\n",
       " 'kingsunglasses',\n",
       " 'VINCENT CHASE',\n",
       " 'ROYAL SON',\n",
       " 'Silver Kartz',\n",
       " 'CRYSTAL CART',\n",
       " 'Rich Club',\n",
       " 'ROYAL SON',\n",
       " 'ROYAL SON',\n",
       " 'PHENOMENAL',\n",
       " 'ROZZETTA CRAFT',\n",
       " 'VINCENT CHASE',\n",
       " 'elegante',\n",
       " 'kingsunglasses',\n",
       " 'ROZZETTA CRAFT',\n",
       " 'Fastrack',\n",
       " 'ROZZETTA CRAFT',\n",
       " 'SRPM',\n",
       " 'Elligator',\n",
       " 'kingsunglasses',\n",
       " 'PHENOMENAL',\n",
       " 'Fastrack',\n",
       " 'Singco India',\n",
       " 'New Specs',\n",
       " 'ROYAL SON',\n",
       " 'kingsunglasses',\n",
       " 'New Specs',\n",
       " 'kingsunglasses',\n",
       " 'elegante',\n",
       " 'Fastrack',\n",
       " 'kingsunglasses',\n",
       " 'ROZZETTA CRAFT',\n",
       " 'povty']"
      ]
     },
     "execution_count": 204,
     "metadata": {},
     "output_type": "execute_result"
    }
   ],
   "source": [
    "brands"
   ]
  },
  {
   "cell_type": "code",
   "execution_count": 205,
   "id": "f2f7c42e",
   "metadata": {},
   "outputs": [
    {
     "data": {
      "text/plain": [
       "40"
      ]
     },
     "execution_count": 205,
     "metadata": {},
     "output_type": "execute_result"
    }
   ],
   "source": [
    "products  =  driver.find_elements(\"xpath\",'//a[@class=\"IRpwTa\"]')\n",
    "len(products)"
   ]
  },
  {
   "cell_type": "code",
   "execution_count": 206,
   "id": "a0685cc3",
   "metadata": {},
   "outputs": [
    {
     "data": {
      "text/plain": [
       "40"
      ]
     },
     "execution_count": 206,
     "metadata": {},
     "output_type": "execute_result"
    }
   ],
   "source": [
    "products_description  =  []\n",
    "\n",
    "for i in products:\n",
    "    products_description.append(i.text)\n",
    "len(products_description)    "
   ]
  },
  {
   "cell_type": "code",
   "execution_count": 207,
   "id": "0b46f2c2",
   "metadata": {},
   "outputs": [
    {
     "data": {
      "text/plain": [
       "['UV Protection Aviator Sunglasses (Free Size)',\n",
       " 'UV Protection, Gradient Butterfly, Retro Square Sunglas...',\n",
       " 'UV Protection Wayfarer Sunglasses (Free Size)',\n",
       " 'UV Protection, Mirrored Retro Square Sunglasses (53)',\n",
       " 'Mirrored Aviator Sunglasses (58)',\n",
       " 'UV Protection Wayfarer Sunglasses (Free Size)',\n",
       " 'UV Protection Aviator Sunglasses (54)',\n",
       " 'UV Protection Aviator Sunglasses (57)',\n",
       " 'UV Protection Round Sunglasses (54)',\n",
       " 'by Lenskart Polarized, UV Protection Rectangular Sungla...',\n",
       " 'Mirrored Aviator Sunglasses (55)',\n",
       " 'UV Protection Clubmaster Sunglasses (53)',\n",
       " 'Polarized, UV Protection, Mirrored, Gradient Rectangula...',\n",
       " 'UV Protection Retro Square Sunglasses (54)',\n",
       " 'Mirrored Aviator Sunglasses (55)',\n",
       " 'UV Protection, Polarized Round Sunglasses (54)',\n",
       " 'UV Protection Retro Square Sunglasses (Free Size)',\n",
       " 'UV Protection, Gradient Rectangular Sunglasses (Free Si...',\n",
       " 'by Lenskart Polarized, UV Protection Wayfarer Sunglasse...',\n",
       " 'Polarized, Riding Glasses, Night Vision Sports Sunglass...',\n",
       " 'UV Protection Rectangular Sunglasses (55)',\n",
       " 'UV Protection Retro Square Sunglasses (Free Size)',\n",
       " 'Mirrored, UV Protection Wayfarer Sunglasses (Free Size)',\n",
       " 'UV Protection Spectacle Sunglasses (Free Size)',\n",
       " 'Night Vision, UV Protection Round Sunglasses (54)',\n",
       " 'UV Protection, Riding Glasses Rectangular, Retro Square...',\n",
       " 'Mirrored, UV Protection Wayfarer, Rectangular Sunglasse...',\n",
       " 'UV Protection Retro Square Sunglasses (53)',\n",
       " 'UV Protection Shield Sunglasses (Free Size)',\n",
       " 'Gradient, Toughened Glass Lens, UV Protection Retro Squ...',\n",
       " 'UV Protection Round Sunglasses (Free Size)',\n",
       " 'Polarized, UV Protection Aviator Sunglasses (57)',\n",
       " 'UV Protection Round Sunglasses (Free Size)',\n",
       " 'UV Protection Rectangular Sunglasses (Free Size)',\n",
       " 'Mirrored, UV Protection Wayfarer Sunglasses (Free Size)',\n",
       " 'Polarized, Riding Glasses, Night Vision Sports Sunglass...',\n",
       " 'UV Protection Wayfarer Sunglasses (Free Size)',\n",
       " 'UV Protection, Mirrored Aviator Sunglasses (Free Size)',\n",
       " 'UV Protection, Gradient Round Sunglasses (Free Size)',\n",
       " 'UV Protection Retro Square Sunglasses (Free Size)']"
      ]
     },
     "execution_count": 207,
     "metadata": {},
     "output_type": "execute_result"
    }
   ],
   "source": [
    "products_description"
   ]
  },
  {
   "cell_type": "code",
   "execution_count": 208,
   "id": "8f562863",
   "metadata": {},
   "outputs": [
    {
     "data": {
      "text/plain": [
       "40"
      ]
     },
     "execution_count": 208,
     "metadata": {},
     "output_type": "execute_result"
    }
   ],
   "source": [
    "price_of_sunglasses  =  driver.find_elements(\"xpath\",'//div[@class=\"_30jeq3\"]')\n",
    "len(price_of_sunglasses)"
   ]
  },
  {
   "cell_type": "code",
   "execution_count": 209,
   "id": "118d7854",
   "metadata": {},
   "outputs": [
    {
     "data": {
      "text/plain": [
       "40"
      ]
     },
     "execution_count": 209,
     "metadata": {},
     "output_type": "execute_result"
    }
   ],
   "source": [
    "price  =  []\n",
    "\n",
    "for i in price_of_sunglasses:\n",
    "    price.append(i.text)\n",
    "len(price)    "
   ]
  },
  {
   "cell_type": "code",
   "execution_count": 210,
   "id": "1d446230",
   "metadata": {},
   "outputs": [
    {
     "data": {
      "text/plain": [
       "['₹236',\n",
       " '₹498',\n",
       " '₹759',\n",
       " '₹369',\n",
       " '₹379',\n",
       " '₹288',\n",
       " '₹223',\n",
       " '₹314',\n",
       " '₹194',\n",
       " '₹749',\n",
       " '₹379',\n",
       " '₹313',\n",
       " '₹529',\n",
       " '₹265',\n",
       " '₹379',\n",
       " '₹664',\n",
       " '₹360',\n",
       " '₹379',\n",
       " '₹749',\n",
       " '₹499',\n",
       " '₹189',\n",
       " '₹474',\n",
       " '₹899',\n",
       " '₹379',\n",
       " '₹233',\n",
       " '₹379',\n",
       " '₹289',\n",
       " '₹339',\n",
       " '₹719',\n",
       " '₹598',\n",
       " '₹268',\n",
       " '₹759',\n",
       " '₹329',\n",
       " '₹154',\n",
       " '₹269',\n",
       " '₹499',\n",
       " '₹759',\n",
       " '₹269',\n",
       " '₹379',\n",
       " '₹319']"
      ]
     },
     "execution_count": 210,
     "metadata": {},
     "output_type": "execute_result"
    }
   ],
   "source": [
    "price"
   ]
  },
  {
   "cell_type": "code",
   "execution_count": 212,
   "id": "d219c911",
   "metadata": {},
   "outputs": [
    {
     "data": {
      "text/plain": [
       "40"
      ]
     },
     "execution_count": 212,
     "metadata": {},
     "output_type": "execute_result"
    }
   ],
   "source": [
    "discount =driver.find_elements(\"xpath\",'//div[@class=\"_3Ay6Sb\"]')\n",
    "len(discount)"
   ]
  },
  {
   "cell_type": "code",
   "execution_count": 213,
   "id": "c9970113",
   "metadata": {},
   "outputs": [
    {
     "data": {
      "text/plain": [
       "40"
      ]
     },
     "execution_count": 213,
     "metadata": {},
     "output_type": "execute_result"
    }
   ],
   "source": [
    "discounts = []\n",
    "\n",
    "for i in discount:\n",
    "    discounts.append(i.text)\n",
    "len(discounts)    "
   ]
  },
  {
   "cell_type": "code",
   "execution_count": 215,
   "id": "07b01665",
   "metadata": {},
   "outputs": [
    {
     "data": {
      "text/plain": [
       "['80% off',\n",
       " '67% off',\n",
       " '15% off',\n",
       " '81% off',\n",
       " '74% off',\n",
       " '80% off',\n",
       " '86% off',\n",
       " '84% off',\n",
       " '80% off',\n",
       " '62% off',\n",
       " '74% off',\n",
       " '79% off',\n",
       " '74% off',\n",
       " '62% off',\n",
       " '74% off',\n",
       " '66% off',\n",
       " '81% off',\n",
       " '81% off',\n",
       " '70% off',\n",
       " '78% off',\n",
       " '85% off',\n",
       " '78% off',\n",
       " '10% off',\n",
       " '81% off',\n",
       " '76% off',\n",
       " '74% off',\n",
       " '85% off',\n",
       " '66% off',\n",
       " '20% off',\n",
       " '80% off',\n",
       " '79% off',\n",
       " '62% off',\n",
       " '79% off',\n",
       " '89% off',\n",
       " '82% off',\n",
       " '78% off',\n",
       " '15% off',\n",
       " '85% off',\n",
       " '81% off',\n",
       " '68% off']"
      ]
     },
     "execution_count": 215,
     "metadata": {},
     "output_type": "execute_result"
    }
   ],
   "source": [
    "discounts"
   ]
  },
  {
   "cell_type": "code",
   "execution_count": 216,
   "id": "1a458199",
   "metadata": {},
   "outputs": [
    {
     "data": {
      "text/plain": [
       "(40, 40, 40, 40)"
      ]
     },
     "execution_count": 216,
     "metadata": {},
     "output_type": "execute_result"
    }
   ],
   "source": [
    "len(brands),len(products_description),len(price),len(discounts)"
   ]
  },
  {
   "cell_type": "code",
   "execution_count": 217,
   "id": "cca95e18",
   "metadata": {},
   "outputs": [],
   "source": [
    "df2  =  pd.DataFrame()\n",
    "df2['Brands'] = brands\n",
    "df2['Products Description'] = products_description\n",
    "df2['Price'] = price\n",
    "df2['Discount'] = discounts"
   ]
  },
  {
   "cell_type": "code",
   "execution_count": 218,
   "id": "46fe83d2",
   "metadata": {},
   "outputs": [
    {
     "data": {
      "text/html": [
       "<div>\n",
       "<style scoped>\n",
       "    .dataframe tbody tr th:only-of-type {\n",
       "        vertical-align: middle;\n",
       "    }\n",
       "\n",
       "    .dataframe tbody tr th {\n",
       "        vertical-align: top;\n",
       "    }\n",
       "\n",
       "    .dataframe thead th {\n",
       "        text-align: right;\n",
       "    }\n",
       "</style>\n",
       "<table border=\"1\" class=\"dataframe\">\n",
       "  <thead>\n",
       "    <tr style=\"text-align: right;\">\n",
       "      <th></th>\n",
       "      <th>Brands</th>\n",
       "      <th>Products Description</th>\n",
       "      <th>Price</th>\n",
       "      <th>Discount</th>\n",
       "    </tr>\n",
       "  </thead>\n",
       "  <tbody>\n",
       "    <tr>\n",
       "      <th>0</th>\n",
       "      <td>DEIXELS</td>\n",
       "      <td>UV Protection Aviator Sunglasses (Free Size)</td>\n",
       "      <td>₹236</td>\n",
       "      <td>80% off</td>\n",
       "    </tr>\n",
       "    <tr>\n",
       "      <th>1</th>\n",
       "      <td>AISLIN</td>\n",
       "      <td>UV Protection, Gradient Butterfly, Retro Squar...</td>\n",
       "      <td>₹498</td>\n",
       "      <td>67% off</td>\n",
       "    </tr>\n",
       "    <tr>\n",
       "      <th>2</th>\n",
       "      <td>Fastrack</td>\n",
       "      <td>UV Protection Wayfarer Sunglasses (Free Size)</td>\n",
       "      <td>₹759</td>\n",
       "      <td>15% off</td>\n",
       "    </tr>\n",
       "    <tr>\n",
       "      <th>3</th>\n",
       "      <td>PHENOMENAL</td>\n",
       "      <td>UV Protection, Mirrored Retro Square Sunglasse...</td>\n",
       "      <td>₹369</td>\n",
       "      <td>81% off</td>\n",
       "    </tr>\n",
       "    <tr>\n",
       "      <th>4</th>\n",
       "      <td>ROYAL SON</td>\n",
       "      <td>Mirrored Aviator Sunglasses (58)</td>\n",
       "      <td>₹379</td>\n",
       "      <td>74% off</td>\n",
       "    </tr>\n",
       "    <tr>\n",
       "      <th>5</th>\n",
       "      <td>Silver Kartz</td>\n",
       "      <td>UV Protection Wayfarer Sunglasses (Free Size)</td>\n",
       "      <td>₹288</td>\n",
       "      <td>80% off</td>\n",
       "    </tr>\n",
       "    <tr>\n",
       "      <th>6</th>\n",
       "      <td>PIRASO</td>\n",
       "      <td>UV Protection Aviator Sunglasses (54)</td>\n",
       "      <td>₹223</td>\n",
       "      <td>86% off</td>\n",
       "    </tr>\n",
       "    <tr>\n",
       "      <th>7</th>\n",
       "      <td>GANSTA</td>\n",
       "      <td>UV Protection Aviator Sunglasses (57)</td>\n",
       "      <td>₹314</td>\n",
       "      <td>84% off</td>\n",
       "    </tr>\n",
       "    <tr>\n",
       "      <th>8</th>\n",
       "      <td>kingsunglasses</td>\n",
       "      <td>UV Protection Round Sunglasses (54)</td>\n",
       "      <td>₹194</td>\n",
       "      <td>80% off</td>\n",
       "    </tr>\n",
       "    <tr>\n",
       "      <th>9</th>\n",
       "      <td>VINCENT CHASE</td>\n",
       "      <td>by Lenskart Polarized, UV Protection Rectangul...</td>\n",
       "      <td>₹749</td>\n",
       "      <td>62% off</td>\n",
       "    </tr>\n",
       "    <tr>\n",
       "      <th>10</th>\n",
       "      <td>ROYAL SON</td>\n",
       "      <td>Mirrored Aviator Sunglasses (55)</td>\n",
       "      <td>₹379</td>\n",
       "      <td>74% off</td>\n",
       "    </tr>\n",
       "    <tr>\n",
       "      <th>11</th>\n",
       "      <td>Silver Kartz</td>\n",
       "      <td>UV Protection Clubmaster Sunglasses (53)</td>\n",
       "      <td>₹313</td>\n",
       "      <td>79% off</td>\n",
       "    </tr>\n",
       "    <tr>\n",
       "      <th>12</th>\n",
       "      <td>CRYSTAL CART</td>\n",
       "      <td>Polarized, UV Protection, Mirrored, Gradient R...</td>\n",
       "      <td>₹529</td>\n",
       "      <td>74% off</td>\n",
       "    </tr>\n",
       "    <tr>\n",
       "      <th>13</th>\n",
       "      <td>Rich Club</td>\n",
       "      <td>UV Protection Retro Square Sunglasses (54)</td>\n",
       "      <td>₹265</td>\n",
       "      <td>62% off</td>\n",
       "    </tr>\n",
       "    <tr>\n",
       "      <th>14</th>\n",
       "      <td>ROYAL SON</td>\n",
       "      <td>Mirrored Aviator Sunglasses (55)</td>\n",
       "      <td>₹379</td>\n",
       "      <td>74% off</td>\n",
       "    </tr>\n",
       "    <tr>\n",
       "      <th>15</th>\n",
       "      <td>ROYAL SON</td>\n",
       "      <td>UV Protection, Polarized Round Sunglasses (54)</td>\n",
       "      <td>₹664</td>\n",
       "      <td>66% off</td>\n",
       "    </tr>\n",
       "    <tr>\n",
       "      <th>16</th>\n",
       "      <td>PHENOMENAL</td>\n",
       "      <td>UV Protection Retro Square Sunglasses (Free Size)</td>\n",
       "      <td>₹360</td>\n",
       "      <td>81% off</td>\n",
       "    </tr>\n",
       "    <tr>\n",
       "      <th>17</th>\n",
       "      <td>ROZZETTA CRAFT</td>\n",
       "      <td>UV Protection, Gradient Rectangular Sunglasses...</td>\n",
       "      <td>₹379</td>\n",
       "      <td>81% off</td>\n",
       "    </tr>\n",
       "    <tr>\n",
       "      <th>18</th>\n",
       "      <td>VINCENT CHASE</td>\n",
       "      <td>by Lenskart Polarized, UV Protection Wayfarer ...</td>\n",
       "      <td>₹749</td>\n",
       "      <td>70% off</td>\n",
       "    </tr>\n",
       "    <tr>\n",
       "      <th>19</th>\n",
       "      <td>elegante</td>\n",
       "      <td>Polarized, Riding Glasses, Night Vision Sports...</td>\n",
       "      <td>₹499</td>\n",
       "      <td>78% off</td>\n",
       "    </tr>\n",
       "    <tr>\n",
       "      <th>20</th>\n",
       "      <td>kingsunglasses</td>\n",
       "      <td>UV Protection Rectangular Sunglasses (55)</td>\n",
       "      <td>₹189</td>\n",
       "      <td>85% off</td>\n",
       "    </tr>\n",
       "    <tr>\n",
       "      <th>21</th>\n",
       "      <td>ROZZETTA CRAFT</td>\n",
       "      <td>UV Protection Retro Square Sunglasses (Free Size)</td>\n",
       "      <td>₹474</td>\n",
       "      <td>78% off</td>\n",
       "    </tr>\n",
       "    <tr>\n",
       "      <th>22</th>\n",
       "      <td>Fastrack</td>\n",
       "      <td>Mirrored, UV Protection Wayfarer Sunglasses (F...</td>\n",
       "      <td>₹899</td>\n",
       "      <td>10% off</td>\n",
       "    </tr>\n",
       "    <tr>\n",
       "      <th>23</th>\n",
       "      <td>ROZZETTA CRAFT</td>\n",
       "      <td>UV Protection Spectacle Sunglasses (Free Size)</td>\n",
       "      <td>₹379</td>\n",
       "      <td>81% off</td>\n",
       "    </tr>\n",
       "    <tr>\n",
       "      <th>24</th>\n",
       "      <td>SRPM</td>\n",
       "      <td>Night Vision, UV Protection Round Sunglasses (54)</td>\n",
       "      <td>₹233</td>\n",
       "      <td>76% off</td>\n",
       "    </tr>\n",
       "    <tr>\n",
       "      <th>25</th>\n",
       "      <td>Elligator</td>\n",
       "      <td>UV Protection, Riding Glasses Rectangular, Ret...</td>\n",
       "      <td>₹379</td>\n",
       "      <td>74% off</td>\n",
       "    </tr>\n",
       "    <tr>\n",
       "      <th>26</th>\n",
       "      <td>kingsunglasses</td>\n",
       "      <td>Mirrored, UV Protection Wayfarer, Rectangular ...</td>\n",
       "      <td>₹289</td>\n",
       "      <td>85% off</td>\n",
       "    </tr>\n",
       "    <tr>\n",
       "      <th>27</th>\n",
       "      <td>PHENOMENAL</td>\n",
       "      <td>UV Protection Retro Square Sunglasses (53)</td>\n",
       "      <td>₹339</td>\n",
       "      <td>66% off</td>\n",
       "    </tr>\n",
       "    <tr>\n",
       "      <th>28</th>\n",
       "      <td>Fastrack</td>\n",
       "      <td>UV Protection Shield Sunglasses (Free Size)</td>\n",
       "      <td>₹719</td>\n",
       "      <td>20% off</td>\n",
       "    </tr>\n",
       "    <tr>\n",
       "      <th>29</th>\n",
       "      <td>Singco India</td>\n",
       "      <td>Gradient, Toughened Glass Lens, UV Protection ...</td>\n",
       "      <td>₹598</td>\n",
       "      <td>80% off</td>\n",
       "    </tr>\n",
       "    <tr>\n",
       "      <th>30</th>\n",
       "      <td>New Specs</td>\n",
       "      <td>UV Protection Round Sunglasses (Free Size)</td>\n",
       "      <td>₹268</td>\n",
       "      <td>79% off</td>\n",
       "    </tr>\n",
       "    <tr>\n",
       "      <th>31</th>\n",
       "      <td>ROYAL SON</td>\n",
       "      <td>Polarized, UV Protection Aviator Sunglasses (57)</td>\n",
       "      <td>₹759</td>\n",
       "      <td>62% off</td>\n",
       "    </tr>\n",
       "    <tr>\n",
       "      <th>32</th>\n",
       "      <td>kingsunglasses</td>\n",
       "      <td>UV Protection Round Sunglasses (Free Size)</td>\n",
       "      <td>₹329</td>\n",
       "      <td>79% off</td>\n",
       "    </tr>\n",
       "    <tr>\n",
       "      <th>33</th>\n",
       "      <td>New Specs</td>\n",
       "      <td>UV Protection Rectangular Sunglasses (Free Size)</td>\n",
       "      <td>₹154</td>\n",
       "      <td>89% off</td>\n",
       "    </tr>\n",
       "    <tr>\n",
       "      <th>34</th>\n",
       "      <td>kingsunglasses</td>\n",
       "      <td>Mirrored, UV Protection Wayfarer Sunglasses (F...</td>\n",
       "      <td>₹269</td>\n",
       "      <td>82% off</td>\n",
       "    </tr>\n",
       "    <tr>\n",
       "      <th>35</th>\n",
       "      <td>elegante</td>\n",
       "      <td>Polarized, Riding Glasses, Night Vision Sports...</td>\n",
       "      <td>₹499</td>\n",
       "      <td>78% off</td>\n",
       "    </tr>\n",
       "    <tr>\n",
       "      <th>36</th>\n",
       "      <td>Fastrack</td>\n",
       "      <td>UV Protection Wayfarer Sunglasses (Free Size)</td>\n",
       "      <td>₹759</td>\n",
       "      <td>15% off</td>\n",
       "    </tr>\n",
       "    <tr>\n",
       "      <th>37</th>\n",
       "      <td>kingsunglasses</td>\n",
       "      <td>UV Protection, Mirrored Aviator Sunglasses (Fr...</td>\n",
       "      <td>₹269</td>\n",
       "      <td>85% off</td>\n",
       "    </tr>\n",
       "    <tr>\n",
       "      <th>38</th>\n",
       "      <td>ROZZETTA CRAFT</td>\n",
       "      <td>UV Protection, Gradient Round Sunglasses (Free...</td>\n",
       "      <td>₹379</td>\n",
       "      <td>81% off</td>\n",
       "    </tr>\n",
       "    <tr>\n",
       "      <th>39</th>\n",
       "      <td>povty</td>\n",
       "      <td>UV Protection Retro Square Sunglasses (Free Size)</td>\n",
       "      <td>₹319</td>\n",
       "      <td>68% off</td>\n",
       "    </tr>\n",
       "  </tbody>\n",
       "</table>\n",
       "</div>"
      ],
      "text/plain": [
       "            Brands                               Products Description Price  \\\n",
       "0          DEIXELS       UV Protection Aviator Sunglasses (Free Size)  ₹236   \n",
       "1           AISLIN  UV Protection, Gradient Butterfly, Retro Squar...  ₹498   \n",
       "2         Fastrack      UV Protection Wayfarer Sunglasses (Free Size)  ₹759   \n",
       "3       PHENOMENAL  UV Protection, Mirrored Retro Square Sunglasse...  ₹369   \n",
       "4        ROYAL SON                   Mirrored Aviator Sunglasses (58)  ₹379   \n",
       "5     Silver Kartz      UV Protection Wayfarer Sunglasses (Free Size)  ₹288   \n",
       "6           PIRASO              UV Protection Aviator Sunglasses (54)  ₹223   \n",
       "7           GANSTA              UV Protection Aviator Sunglasses (57)  ₹314   \n",
       "8   kingsunglasses                UV Protection Round Sunglasses (54)  ₹194   \n",
       "9    VINCENT CHASE  by Lenskart Polarized, UV Protection Rectangul...  ₹749   \n",
       "10       ROYAL SON                   Mirrored Aviator Sunglasses (55)  ₹379   \n",
       "11    Silver Kartz           UV Protection Clubmaster Sunglasses (53)  ₹313   \n",
       "12    CRYSTAL CART  Polarized, UV Protection, Mirrored, Gradient R...  ₹529   \n",
       "13       Rich Club         UV Protection Retro Square Sunglasses (54)  ₹265   \n",
       "14       ROYAL SON                   Mirrored Aviator Sunglasses (55)  ₹379   \n",
       "15       ROYAL SON     UV Protection, Polarized Round Sunglasses (54)  ₹664   \n",
       "16      PHENOMENAL  UV Protection Retro Square Sunglasses (Free Size)  ₹360   \n",
       "17  ROZZETTA CRAFT  UV Protection, Gradient Rectangular Sunglasses...  ₹379   \n",
       "18   VINCENT CHASE  by Lenskart Polarized, UV Protection Wayfarer ...  ₹749   \n",
       "19        elegante  Polarized, Riding Glasses, Night Vision Sports...  ₹499   \n",
       "20  kingsunglasses          UV Protection Rectangular Sunglasses (55)  ₹189   \n",
       "21  ROZZETTA CRAFT  UV Protection Retro Square Sunglasses (Free Size)  ₹474   \n",
       "22        Fastrack  Mirrored, UV Protection Wayfarer Sunglasses (F...  ₹899   \n",
       "23  ROZZETTA CRAFT     UV Protection Spectacle Sunglasses (Free Size)  ₹379   \n",
       "24            SRPM  Night Vision, UV Protection Round Sunglasses (54)  ₹233   \n",
       "25       Elligator  UV Protection, Riding Glasses Rectangular, Ret...  ₹379   \n",
       "26  kingsunglasses  Mirrored, UV Protection Wayfarer, Rectangular ...  ₹289   \n",
       "27      PHENOMENAL         UV Protection Retro Square Sunglasses (53)  ₹339   \n",
       "28        Fastrack        UV Protection Shield Sunglasses (Free Size)  ₹719   \n",
       "29    Singco India  Gradient, Toughened Glass Lens, UV Protection ...  ₹598   \n",
       "30       New Specs         UV Protection Round Sunglasses (Free Size)  ₹268   \n",
       "31       ROYAL SON   Polarized, UV Protection Aviator Sunglasses (57)  ₹759   \n",
       "32  kingsunglasses         UV Protection Round Sunglasses (Free Size)  ₹329   \n",
       "33       New Specs   UV Protection Rectangular Sunglasses (Free Size)  ₹154   \n",
       "34  kingsunglasses  Mirrored, UV Protection Wayfarer Sunglasses (F...  ₹269   \n",
       "35        elegante  Polarized, Riding Glasses, Night Vision Sports...  ₹499   \n",
       "36        Fastrack      UV Protection Wayfarer Sunglasses (Free Size)  ₹759   \n",
       "37  kingsunglasses  UV Protection, Mirrored Aviator Sunglasses (Fr...  ₹269   \n",
       "38  ROZZETTA CRAFT  UV Protection, Gradient Round Sunglasses (Free...  ₹379   \n",
       "39           povty  UV Protection Retro Square Sunglasses (Free Size)  ₹319   \n",
       "\n",
       "   Discount  \n",
       "0   80% off  \n",
       "1   67% off  \n",
       "2   15% off  \n",
       "3   81% off  \n",
       "4   74% off  \n",
       "5   80% off  \n",
       "6   86% off  \n",
       "7   84% off  \n",
       "8   80% off  \n",
       "9   62% off  \n",
       "10  74% off  \n",
       "11  79% off  \n",
       "12  74% off  \n",
       "13  62% off  \n",
       "14  74% off  \n",
       "15  66% off  \n",
       "16  81% off  \n",
       "17  81% off  \n",
       "18  70% off  \n",
       "19  78% off  \n",
       "20  85% off  \n",
       "21  78% off  \n",
       "22  10% off  \n",
       "23  81% off  \n",
       "24  76% off  \n",
       "25  74% off  \n",
       "26  85% off  \n",
       "27  66% off  \n",
       "28  20% off  \n",
       "29  80% off  \n",
       "30  79% off  \n",
       "31  62% off  \n",
       "32  79% off  \n",
       "33  89% off  \n",
       "34  82% off  \n",
       "35  78% off  \n",
       "36  15% off  \n",
       "37  85% off  \n",
       "38  81% off  \n",
       "39  68% off  "
      ]
     },
     "execution_count": 218,
     "metadata": {},
     "output_type": "execute_result"
    }
   ],
   "source": [
    "df2"
   ]
  },
  {
   "cell_type": "markdown",
   "id": "4d8e2d75",
   "metadata": {},
   "source": [
    "next 20 sunglasses  till to make it 100 sunglasses"
   ]
  },
  {
   "cell_type": "code",
   "execution_count": 219,
   "id": "c528526e",
   "metadata": {},
   "outputs": [
    {
     "data": {
      "text/plain": [
       "<selenium.webdriver.remote.webelement.WebElement (session=\"ae72f86dfc48cf92d1152fe618d9320e\", element=\"dcc80a45-a9f5-4d3d-825b-8bd4b3925de2\")>"
      ]
     },
     "execution_count": 219,
     "metadata": {},
     "output_type": "execute_result"
    }
   ],
   "source": [
    "next_btn  =  driver.find_element(\"xpath\",\"/html/body/div[1]/div/div[3]/div[1]/div[2]/div[12]/div/div/nav/a[12]\")\n",
    "next_btn"
   ]
  },
  {
   "cell_type": "code",
   "execution_count": 220,
   "id": "1004b374",
   "metadata": {},
   "outputs": [],
   "source": [
    "next_btn.click()"
   ]
  },
  {
   "cell_type": "code",
   "execution_count": 221,
   "id": "722ed5f2",
   "metadata": {},
   "outputs": [],
   "source": [
    "url  =  'https://www.flipkart.com/search?q=sunglasses&otracker=search&otracker1=search&marketplace=FLIPKART&as-show=on&as=off&page=3'\n",
    "driver.get(url)"
   ]
  },
  {
   "cell_type": "code",
   "execution_count": 222,
   "id": "bdfb2172",
   "metadata": {},
   "outputs": [
    {
     "data": {
      "text/plain": [
       "40"
      ]
     },
     "execution_count": 222,
     "metadata": {},
     "output_type": "execute_result"
    }
   ],
   "source": [
    "brand  =  driver.find_elements(\"xpath\",'//div[@class=\"_2WkVRV\"]')\n",
    "len(brand)"
   ]
  },
  {
   "cell_type": "code",
   "execution_count": 223,
   "id": "dac55ee5",
   "metadata": {},
   "outputs": [
    {
     "data": {
      "text/plain": [
       "40"
      ]
     },
     "execution_count": 223,
     "metadata": {},
     "output_type": "execute_result"
    }
   ],
   "source": [
    "brands  =  []\n",
    "for i in brand:\n",
    "    brands.append(i.text)\n",
    "len(brands)"
   ]
  },
  {
   "cell_type": "code",
   "execution_count": 224,
   "id": "32ed8884",
   "metadata": {},
   "outputs": [
    {
     "data": {
      "text/plain": [
       "['AISLIN',\n",
       " 'Fastrack',\n",
       " 'Fastrack',\n",
       " 'Singco India',\n",
       " 'PIRASO',\n",
       " 'Lee Topper',\n",
       " 'Fastrack',\n",
       " 'PHENOMENAL',\n",
       " 'New Specs',\n",
       " 'VINCENT CHASE',\n",
       " 'ROYAL SON',\n",
       " 'Silver Kartz',\n",
       " 'Lee Topper',\n",
       " 'GANSTA',\n",
       " 'Mi',\n",
       " 'PHENOMENAL',\n",
       " 'kingsunglasses',\n",
       " 'GANSTA',\n",
       " 'VINCENT CHASE',\n",
       " 'GANSTA',\n",
       " 'ROZZETTA CRAFT',\n",
       " 'VINCENT CHASE',\n",
       " 'Fastrack',\n",
       " 'ROYAL SON',\n",
       " 'Rich Club',\n",
       " 'CRYSTAL CART',\n",
       " 'ROYAL SON',\n",
       " 'elegante',\n",
       " 'kingsunglasses',\n",
       " 'elegante',\n",
       " 'Roadster',\n",
       " 'ROZZETTA CRAFT',\n",
       " 'PHENOMENAL',\n",
       " 'VINCENT CHASE',\n",
       " 'VINCENT CHASE',\n",
       " 'Silver Kartz',\n",
       " 'Urbanic',\n",
       " 'GANSTA',\n",
       " 'Fastrack',\n",
       " 'elegante']"
      ]
     },
     "execution_count": 224,
     "metadata": {},
     "output_type": "execute_result"
    }
   ],
   "source": [
    "brands"
   ]
  },
  {
   "cell_type": "code",
   "execution_count": 225,
   "id": "f162a4ad",
   "metadata": {},
   "outputs": [
    {
     "data": {
      "text/plain": [
       "40"
      ]
     },
     "execution_count": 225,
     "metadata": {},
     "output_type": "execute_result"
    }
   ],
   "source": [
    "products  =  driver.find_elements(\"xpath\",'//a[@class=\"IRpwTa\"]')\n",
    "len(products)"
   ]
  },
  {
   "cell_type": "code",
   "execution_count": 226,
   "id": "204ea1fc",
   "metadata": {},
   "outputs": [
    {
     "data": {
      "text/plain": [
       "40"
      ]
     },
     "execution_count": 226,
     "metadata": {},
     "output_type": "execute_result"
    }
   ],
   "source": [
    "products_description  =  []\n",
    "\n",
    "for i in products:\n",
    "    products_description.append(i.text)\n",
    "len(products_description)    "
   ]
  },
  {
   "cell_type": "code",
   "execution_count": 227,
   "id": "d2af4bf1",
   "metadata": {},
   "outputs": [
    {
     "data": {
      "text/plain": [
       "['UV Protection, Gradient Oval Sunglasses (58)',\n",
       " 'UV Protection Wayfarer Sunglasses (55)',\n",
       " 'UV Protection Shield Sunglasses (Free Size)',\n",
       " 'Gradient, Toughened Glass Lens, UV Protection Retro Squ...',\n",
       " 'UV Protection Butterfly Sunglasses (60)',\n",
       " 'UV Protection Round Sunglasses (Free Size)',\n",
       " 'Polarized Retro Square Sunglasses (Free Size)',\n",
       " 'UV Protection, Mirrored Retro Square Sunglasses (53)',\n",
       " 'UV Protection Aviator Sunglasses (Free Size)',\n",
       " 'Polarized, UV Protection Round Sunglasses (51)',\n",
       " 'Polarized, UV Protection Wayfarer Sunglasses (61)',\n",
       " 'UV Protection Clubmaster Sunglasses (53)',\n",
       " 'Riding Glasses, Night Vision Wrap-around Sunglasses (Fr...',\n",
       " 'UV Protection, Riding Glasses Aviator Sunglasses (57)',\n",
       " 'Polarized Aviator Sunglasses (Free Size)',\n",
       " 'UV Protection Retro Square Sunglasses (Free Size)',\n",
       " 'Mirrored, UV Protection Wayfarer Sunglasses (53)',\n",
       " 'UV Protection Aviator Sunglasses (57)',\n",
       " 'by Lenskart Polarized, UV Protection Wayfarer Sunglasse...',\n",
       " 'UV Protection, Night Vision, Riding Glasses Aviator Sun...',\n",
       " 'UV Protection, Gradient Rectangular Sunglasses (Free Si...',\n",
       " 'Polarized, UV Protection Round Sunglasses (50)',\n",
       " 'UV Protection Sports Sunglasses (Free Size)',\n",
       " 'UV Protection, Polarized Round Sunglasses (54)',\n",
       " 'UV Protection, Others Round Sunglasses (48)',\n",
       " 'Polarized, UV Protection, Gradient, Riding Glasses Rect...',\n",
       " 'Polarized Rectangular Sunglasses (60)',\n",
       " 'Polarized, Riding Glasses, Night Vision Sports Sunglass...',\n",
       " 'UV Protection Rectangular Sunglasses (55)',\n",
       " 'UV Protection Wayfarer Sunglasses (Free Size)',\n",
       " 'Others Aviator Sunglasses (Free Size)',\n",
       " 'UV Protection Spectacle Sunglasses (Free Size)',\n",
       " 'UV Protection Retro Square Sunglasses (53)',\n",
       " 'Polarized, UV Protection Round Sunglasses (50)',\n",
       " 'by Lenskart Polarized, UV Protection Cat-eye Sunglasses...',\n",
       " 'UV Protection Wayfarer Sunglasses (Free Size)',\n",
       " 'Others Retro Square Sunglasses (Free Size)',\n",
       " 'UV Protection Rectangular Sunglasses (60)',\n",
       " 'UV Protection Aviator Sunglasses (57)',\n",
       " 'Polarized, Riding Glasses, Night Vision Sports Sunglass...']"
      ]
     },
     "execution_count": 227,
     "metadata": {},
     "output_type": "execute_result"
    }
   ],
   "source": [
    "products_description"
   ]
  },
  {
   "cell_type": "code",
   "execution_count": 228,
   "id": "2059af79",
   "metadata": {},
   "outputs": [
    {
     "data": {
      "text/plain": [
       "40"
      ]
     },
     "execution_count": 228,
     "metadata": {},
     "output_type": "execute_result"
    }
   ],
   "source": [
    "price_of_sunglasses  =  driver.find_elements(\"xpath\",'//div[@class=\"_30jeq3\"]')\n",
    "len(price_of_sunglasses)"
   ]
  },
  {
   "cell_type": "code",
   "execution_count": 229,
   "id": "e712c133",
   "metadata": {},
   "outputs": [
    {
     "data": {
      "text/plain": [
       "40"
      ]
     },
     "execution_count": 229,
     "metadata": {},
     "output_type": "execute_result"
    }
   ],
   "source": [
    "price  =  []\n",
    "\n",
    "for i in price_of_sunglasses:\n",
    "    price.append(i.text)\n",
    "len(price)    "
   ]
  },
  {
   "cell_type": "code",
   "execution_count": 230,
   "id": "14e59da4",
   "metadata": {},
   "outputs": [
    {
     "data": {
      "text/plain": [
       "['₹498',\n",
       " '₹735',\n",
       " '₹809',\n",
       " '₹598',\n",
       " '₹405',\n",
       " '₹245',\n",
       " '₹639',\n",
       " '₹369',\n",
       " '₹214',\n",
       " '₹1,099',\n",
       " '₹664',\n",
       " '₹313',\n",
       " '₹276',\n",
       " '₹314',\n",
       " '₹899',\n",
       " '₹360',\n",
       " '₹299',\n",
       " '₹314',\n",
       " '₹949',\n",
       " '₹314',\n",
       " '₹426',\n",
       " '₹849',\n",
       " '₹719',\n",
       " '₹664',\n",
       " '₹260',\n",
       " '₹329',\n",
       " '₹664',\n",
       " '₹499',\n",
       " '₹269',\n",
       " '₹431',\n",
       " '₹449',\n",
       " '₹379',\n",
       " '₹339',\n",
       " '₹949',\n",
       " '₹949',\n",
       " '₹288',\n",
       " '₹399',\n",
       " '₹242',\n",
       " '₹639',\n",
       " '₹499']"
      ]
     },
     "execution_count": 230,
     "metadata": {},
     "output_type": "execute_result"
    }
   ],
   "source": [
    "price"
   ]
  },
  {
   "cell_type": "code",
   "execution_count": 231,
   "id": "e5498073",
   "metadata": {},
   "outputs": [
    {
     "data": {
      "text/plain": [
       "40"
      ]
     },
     "execution_count": 231,
     "metadata": {},
     "output_type": "execute_result"
    }
   ],
   "source": [
    "discount = driver.find_elements(\"xpath\",'//div[@class=\"_3Ay6Sb\"]')\n",
    "len(discount)"
   ]
  },
  {
   "cell_type": "code",
   "execution_count": 232,
   "id": "d5d5082e",
   "metadata": {},
   "outputs": [
    {
     "data": {
      "text/plain": [
       "40"
      ]
     },
     "execution_count": 232,
     "metadata": {},
     "output_type": "execute_result"
    }
   ],
   "source": [
    "discounts = []\n",
    "\n",
    "for i in discount:\n",
    "    discounts.append(i.text)\n",
    "len(discounts)"
   ]
  },
  {
   "cell_type": "code",
   "execution_count": 233,
   "id": "f592ea27",
   "metadata": {},
   "outputs": [
    {
     "data": {
      "text/plain": [
       "['67% off',\n",
       " '8% off',\n",
       " '10% off',\n",
       " '80% off',\n",
       " '84% off',\n",
       " '75% off',\n",
       " '20% off',\n",
       " '81% off',\n",
       " '86% off',\n",
       " '45% off',\n",
       " '66% off',\n",
       " '79% off',\n",
       " '88% off',\n",
       " '84% off',\n",
       " '25% off',\n",
       " '81% off',\n",
       " '85% off',\n",
       " '84% off',\n",
       " '52% off',\n",
       " '84% off',\n",
       " '78% off',\n",
       " '57% off',\n",
       " '20% off',\n",
       " '66% off',\n",
       " '67% off',\n",
       " '78% off',\n",
       " '66% off',\n",
       " '78% off',\n",
       " '82% off',\n",
       " '71% off',\n",
       " '55% off',\n",
       " '81% off',\n",
       " '66% off',\n",
       " '52% off',\n",
       " '52% off',\n",
       " '80% off',\n",
       " '49% off',\n",
       " '81% off',\n",
       " '20% off',\n",
       " '78% off']"
      ]
     },
     "execution_count": 233,
     "metadata": {},
     "output_type": "execute_result"
    }
   ],
   "source": [
    "discounts"
   ]
  },
  {
   "cell_type": "code",
   "execution_count": 234,
   "id": "00d57792",
   "metadata": {},
   "outputs": [
    {
     "data": {
      "text/plain": [
       "(40, 40, 40, 40)"
      ]
     },
     "execution_count": 234,
     "metadata": {},
     "output_type": "execute_result"
    }
   ],
   "source": [
    "len(brands),len(products_description),len(price),len(discounts)"
   ]
  },
  {
   "cell_type": "code",
   "execution_count": 235,
   "id": "26154156",
   "metadata": {},
   "outputs": [],
   "source": [
    "df3 =  pd.DataFrame()\n",
    "df3['Brands']  =  brands\n",
    "df3['Products Description']  =  products_description\n",
    "df3['Price']  =  price\n",
    "df3['Discount'] = discounts"
   ]
  },
  {
   "cell_type": "code",
   "execution_count": 237,
   "id": "3188658e",
   "metadata": {},
   "outputs": [
    {
     "data": {
      "text/html": [
       "<div>\n",
       "<style scoped>\n",
       "    .dataframe tbody tr th:only-of-type {\n",
       "        vertical-align: middle;\n",
       "    }\n",
       "\n",
       "    .dataframe tbody tr th {\n",
       "        vertical-align: top;\n",
       "    }\n",
       "\n",
       "    .dataframe thead th {\n",
       "        text-align: right;\n",
       "    }\n",
       "</style>\n",
       "<table border=\"1\" class=\"dataframe\">\n",
       "  <thead>\n",
       "    <tr style=\"text-align: right;\">\n",
       "      <th></th>\n",
       "      <th>Brands</th>\n",
       "      <th>Products Description</th>\n",
       "      <th>Price</th>\n",
       "      <th>Discount</th>\n",
       "    </tr>\n",
       "  </thead>\n",
       "  <tbody>\n",
       "    <tr>\n",
       "      <th>0</th>\n",
       "      <td>AISLIN</td>\n",
       "      <td>UV Protection, Gradient Oval Sunglasses (58)</td>\n",
       "      <td>₹498</td>\n",
       "      <td>67% off</td>\n",
       "    </tr>\n",
       "    <tr>\n",
       "      <th>1</th>\n",
       "      <td>Fastrack</td>\n",
       "      <td>UV Protection Wayfarer Sunglasses (55)</td>\n",
       "      <td>₹735</td>\n",
       "      <td>8% off</td>\n",
       "    </tr>\n",
       "    <tr>\n",
       "      <th>2</th>\n",
       "      <td>Fastrack</td>\n",
       "      <td>UV Protection Shield Sunglasses (Free Size)</td>\n",
       "      <td>₹809</td>\n",
       "      <td>10% off</td>\n",
       "    </tr>\n",
       "    <tr>\n",
       "      <th>3</th>\n",
       "      <td>Singco India</td>\n",
       "      <td>Gradient, Toughened Glass Lens, UV Protection ...</td>\n",
       "      <td>₹598</td>\n",
       "      <td>80% off</td>\n",
       "    </tr>\n",
       "    <tr>\n",
       "      <th>4</th>\n",
       "      <td>PIRASO</td>\n",
       "      <td>UV Protection Butterfly Sunglasses (60)</td>\n",
       "      <td>₹405</td>\n",
       "      <td>84% off</td>\n",
       "    </tr>\n",
       "    <tr>\n",
       "      <th>5</th>\n",
       "      <td>Lee Topper</td>\n",
       "      <td>UV Protection Round Sunglasses (Free Size)</td>\n",
       "      <td>₹245</td>\n",
       "      <td>75% off</td>\n",
       "    </tr>\n",
       "    <tr>\n",
       "      <th>6</th>\n",
       "      <td>Fastrack</td>\n",
       "      <td>Polarized Retro Square Sunglasses (Free Size)</td>\n",
       "      <td>₹639</td>\n",
       "      <td>20% off</td>\n",
       "    </tr>\n",
       "    <tr>\n",
       "      <th>7</th>\n",
       "      <td>PHENOMENAL</td>\n",
       "      <td>UV Protection, Mirrored Retro Square Sunglasse...</td>\n",
       "      <td>₹369</td>\n",
       "      <td>81% off</td>\n",
       "    </tr>\n",
       "    <tr>\n",
       "      <th>8</th>\n",
       "      <td>New Specs</td>\n",
       "      <td>UV Protection Aviator Sunglasses (Free Size)</td>\n",
       "      <td>₹214</td>\n",
       "      <td>86% off</td>\n",
       "    </tr>\n",
       "    <tr>\n",
       "      <th>9</th>\n",
       "      <td>VINCENT CHASE</td>\n",
       "      <td>Polarized, UV Protection Round Sunglasses (51)</td>\n",
       "      <td>₹1,099</td>\n",
       "      <td>45% off</td>\n",
       "    </tr>\n",
       "    <tr>\n",
       "      <th>10</th>\n",
       "      <td>ROYAL SON</td>\n",
       "      <td>Polarized, UV Protection Wayfarer Sunglasses (61)</td>\n",
       "      <td>₹664</td>\n",
       "      <td>66% off</td>\n",
       "    </tr>\n",
       "    <tr>\n",
       "      <th>11</th>\n",
       "      <td>Silver Kartz</td>\n",
       "      <td>UV Protection Clubmaster Sunglasses (53)</td>\n",
       "      <td>₹313</td>\n",
       "      <td>79% off</td>\n",
       "    </tr>\n",
       "    <tr>\n",
       "      <th>12</th>\n",
       "      <td>Lee Topper</td>\n",
       "      <td>Riding Glasses, Night Vision Wrap-around Sungl...</td>\n",
       "      <td>₹276</td>\n",
       "      <td>88% off</td>\n",
       "    </tr>\n",
       "    <tr>\n",
       "      <th>13</th>\n",
       "      <td>GANSTA</td>\n",
       "      <td>UV Protection, Riding Glasses Aviator Sunglass...</td>\n",
       "      <td>₹314</td>\n",
       "      <td>84% off</td>\n",
       "    </tr>\n",
       "    <tr>\n",
       "      <th>14</th>\n",
       "      <td>Mi</td>\n",
       "      <td>Polarized Aviator Sunglasses (Free Size)</td>\n",
       "      <td>₹899</td>\n",
       "      <td>25% off</td>\n",
       "    </tr>\n",
       "    <tr>\n",
       "      <th>15</th>\n",
       "      <td>PHENOMENAL</td>\n",
       "      <td>UV Protection Retro Square Sunglasses (Free Size)</td>\n",
       "      <td>₹360</td>\n",
       "      <td>81% off</td>\n",
       "    </tr>\n",
       "    <tr>\n",
       "      <th>16</th>\n",
       "      <td>kingsunglasses</td>\n",
       "      <td>Mirrored, UV Protection Wayfarer Sunglasses (53)</td>\n",
       "      <td>₹299</td>\n",
       "      <td>85% off</td>\n",
       "    </tr>\n",
       "    <tr>\n",
       "      <th>17</th>\n",
       "      <td>GANSTA</td>\n",
       "      <td>UV Protection Aviator Sunglasses (57)</td>\n",
       "      <td>₹314</td>\n",
       "      <td>84% off</td>\n",
       "    </tr>\n",
       "    <tr>\n",
       "      <th>18</th>\n",
       "      <td>VINCENT CHASE</td>\n",
       "      <td>by Lenskart Polarized, UV Protection Wayfarer ...</td>\n",
       "      <td>₹949</td>\n",
       "      <td>52% off</td>\n",
       "    </tr>\n",
       "    <tr>\n",
       "      <th>19</th>\n",
       "      <td>GANSTA</td>\n",
       "      <td>UV Protection, Night Vision, Riding Glasses Av...</td>\n",
       "      <td>₹314</td>\n",
       "      <td>84% off</td>\n",
       "    </tr>\n",
       "    <tr>\n",
       "      <th>20</th>\n",
       "      <td>ROZZETTA CRAFT</td>\n",
       "      <td>UV Protection, Gradient Rectangular Sunglasses...</td>\n",
       "      <td>₹426</td>\n",
       "      <td>78% off</td>\n",
       "    </tr>\n",
       "    <tr>\n",
       "      <th>21</th>\n",
       "      <td>VINCENT CHASE</td>\n",
       "      <td>Polarized, UV Protection Round Sunglasses (50)</td>\n",
       "      <td>₹849</td>\n",
       "      <td>57% off</td>\n",
       "    </tr>\n",
       "    <tr>\n",
       "      <th>22</th>\n",
       "      <td>Fastrack</td>\n",
       "      <td>UV Protection Sports Sunglasses (Free Size)</td>\n",
       "      <td>₹719</td>\n",
       "      <td>20% off</td>\n",
       "    </tr>\n",
       "    <tr>\n",
       "      <th>23</th>\n",
       "      <td>ROYAL SON</td>\n",
       "      <td>UV Protection, Polarized Round Sunglasses (54)</td>\n",
       "      <td>₹664</td>\n",
       "      <td>66% off</td>\n",
       "    </tr>\n",
       "    <tr>\n",
       "      <th>24</th>\n",
       "      <td>Rich Club</td>\n",
       "      <td>UV Protection, Others Round Sunglasses (48)</td>\n",
       "      <td>₹260</td>\n",
       "      <td>67% off</td>\n",
       "    </tr>\n",
       "    <tr>\n",
       "      <th>25</th>\n",
       "      <td>CRYSTAL CART</td>\n",
       "      <td>Polarized, UV Protection, Gradient, Riding Gla...</td>\n",
       "      <td>₹329</td>\n",
       "      <td>78% off</td>\n",
       "    </tr>\n",
       "    <tr>\n",
       "      <th>26</th>\n",
       "      <td>ROYAL SON</td>\n",
       "      <td>Polarized Rectangular Sunglasses (60)</td>\n",
       "      <td>₹664</td>\n",
       "      <td>66% off</td>\n",
       "    </tr>\n",
       "    <tr>\n",
       "      <th>27</th>\n",
       "      <td>elegante</td>\n",
       "      <td>Polarized, Riding Glasses, Night Vision Sports...</td>\n",
       "      <td>₹499</td>\n",
       "      <td>78% off</td>\n",
       "    </tr>\n",
       "    <tr>\n",
       "      <th>28</th>\n",
       "      <td>kingsunglasses</td>\n",
       "      <td>UV Protection Rectangular Sunglasses (55)</td>\n",
       "      <td>₹269</td>\n",
       "      <td>82% off</td>\n",
       "    </tr>\n",
       "    <tr>\n",
       "      <th>29</th>\n",
       "      <td>elegante</td>\n",
       "      <td>UV Protection Wayfarer Sunglasses (Free Size)</td>\n",
       "      <td>₹431</td>\n",
       "      <td>71% off</td>\n",
       "    </tr>\n",
       "    <tr>\n",
       "      <th>30</th>\n",
       "      <td>Roadster</td>\n",
       "      <td>Others Aviator Sunglasses (Free Size)</td>\n",
       "      <td>₹449</td>\n",
       "      <td>55% off</td>\n",
       "    </tr>\n",
       "    <tr>\n",
       "      <th>31</th>\n",
       "      <td>ROZZETTA CRAFT</td>\n",
       "      <td>UV Protection Spectacle Sunglasses (Free Size)</td>\n",
       "      <td>₹379</td>\n",
       "      <td>81% off</td>\n",
       "    </tr>\n",
       "    <tr>\n",
       "      <th>32</th>\n",
       "      <td>PHENOMENAL</td>\n",
       "      <td>UV Protection Retro Square Sunglasses (53)</td>\n",
       "      <td>₹339</td>\n",
       "      <td>66% off</td>\n",
       "    </tr>\n",
       "    <tr>\n",
       "      <th>33</th>\n",
       "      <td>VINCENT CHASE</td>\n",
       "      <td>Polarized, UV Protection Round Sunglasses (50)</td>\n",
       "      <td>₹949</td>\n",
       "      <td>52% off</td>\n",
       "    </tr>\n",
       "    <tr>\n",
       "      <th>34</th>\n",
       "      <td>VINCENT CHASE</td>\n",
       "      <td>by Lenskart Polarized, UV Protection Cat-eye S...</td>\n",
       "      <td>₹949</td>\n",
       "      <td>52% off</td>\n",
       "    </tr>\n",
       "    <tr>\n",
       "      <th>35</th>\n",
       "      <td>Silver Kartz</td>\n",
       "      <td>UV Protection Wayfarer Sunglasses (Free Size)</td>\n",
       "      <td>₹288</td>\n",
       "      <td>80% off</td>\n",
       "    </tr>\n",
       "    <tr>\n",
       "      <th>36</th>\n",
       "      <td>Urbanic</td>\n",
       "      <td>Others Retro Square Sunglasses (Free Size)</td>\n",
       "      <td>₹399</td>\n",
       "      <td>49% off</td>\n",
       "    </tr>\n",
       "    <tr>\n",
       "      <th>37</th>\n",
       "      <td>GANSTA</td>\n",
       "      <td>UV Protection Rectangular Sunglasses (60)</td>\n",
       "      <td>₹242</td>\n",
       "      <td>81% off</td>\n",
       "    </tr>\n",
       "    <tr>\n",
       "      <th>38</th>\n",
       "      <td>Fastrack</td>\n",
       "      <td>UV Protection Aviator Sunglasses (57)</td>\n",
       "      <td>₹639</td>\n",
       "      <td>20% off</td>\n",
       "    </tr>\n",
       "    <tr>\n",
       "      <th>39</th>\n",
       "      <td>elegante</td>\n",
       "      <td>Polarized, Riding Glasses, Night Vision Sports...</td>\n",
       "      <td>₹499</td>\n",
       "      <td>78% off</td>\n",
       "    </tr>\n",
       "  </tbody>\n",
       "</table>\n",
       "</div>"
      ],
      "text/plain": [
       "            Brands                               Products Description   Price  \\\n",
       "0           AISLIN       UV Protection, Gradient Oval Sunglasses (58)    ₹498   \n",
       "1         Fastrack             UV Protection Wayfarer Sunglasses (55)    ₹735   \n",
       "2         Fastrack        UV Protection Shield Sunglasses (Free Size)    ₹809   \n",
       "3     Singco India  Gradient, Toughened Glass Lens, UV Protection ...    ₹598   \n",
       "4           PIRASO            UV Protection Butterfly Sunglasses (60)    ₹405   \n",
       "5       Lee Topper         UV Protection Round Sunglasses (Free Size)    ₹245   \n",
       "6         Fastrack      Polarized Retro Square Sunglasses (Free Size)    ₹639   \n",
       "7       PHENOMENAL  UV Protection, Mirrored Retro Square Sunglasse...    ₹369   \n",
       "8        New Specs       UV Protection Aviator Sunglasses (Free Size)    ₹214   \n",
       "9    VINCENT CHASE     Polarized, UV Protection Round Sunglasses (51)  ₹1,099   \n",
       "10       ROYAL SON  Polarized, UV Protection Wayfarer Sunglasses (61)    ₹664   \n",
       "11    Silver Kartz           UV Protection Clubmaster Sunglasses (53)    ₹313   \n",
       "12      Lee Topper  Riding Glasses, Night Vision Wrap-around Sungl...    ₹276   \n",
       "13          GANSTA  UV Protection, Riding Glasses Aviator Sunglass...    ₹314   \n",
       "14              Mi           Polarized Aviator Sunglasses (Free Size)    ₹899   \n",
       "15      PHENOMENAL  UV Protection Retro Square Sunglasses (Free Size)    ₹360   \n",
       "16  kingsunglasses   Mirrored, UV Protection Wayfarer Sunglasses (53)    ₹299   \n",
       "17          GANSTA              UV Protection Aviator Sunglasses (57)    ₹314   \n",
       "18   VINCENT CHASE  by Lenskart Polarized, UV Protection Wayfarer ...    ₹949   \n",
       "19          GANSTA  UV Protection, Night Vision, Riding Glasses Av...    ₹314   \n",
       "20  ROZZETTA CRAFT  UV Protection, Gradient Rectangular Sunglasses...    ₹426   \n",
       "21   VINCENT CHASE     Polarized, UV Protection Round Sunglasses (50)    ₹849   \n",
       "22        Fastrack        UV Protection Sports Sunglasses (Free Size)    ₹719   \n",
       "23       ROYAL SON     UV Protection, Polarized Round Sunglasses (54)    ₹664   \n",
       "24       Rich Club        UV Protection, Others Round Sunglasses (48)    ₹260   \n",
       "25    CRYSTAL CART  Polarized, UV Protection, Gradient, Riding Gla...    ₹329   \n",
       "26       ROYAL SON              Polarized Rectangular Sunglasses (60)    ₹664   \n",
       "27        elegante  Polarized, Riding Glasses, Night Vision Sports...    ₹499   \n",
       "28  kingsunglasses          UV Protection Rectangular Sunglasses (55)    ₹269   \n",
       "29        elegante      UV Protection Wayfarer Sunglasses (Free Size)    ₹431   \n",
       "30        Roadster              Others Aviator Sunglasses (Free Size)    ₹449   \n",
       "31  ROZZETTA CRAFT     UV Protection Spectacle Sunglasses (Free Size)    ₹379   \n",
       "32      PHENOMENAL         UV Protection Retro Square Sunglasses (53)    ₹339   \n",
       "33   VINCENT CHASE     Polarized, UV Protection Round Sunglasses (50)    ₹949   \n",
       "34   VINCENT CHASE  by Lenskart Polarized, UV Protection Cat-eye S...    ₹949   \n",
       "35    Silver Kartz      UV Protection Wayfarer Sunglasses (Free Size)    ₹288   \n",
       "36         Urbanic         Others Retro Square Sunglasses (Free Size)    ₹399   \n",
       "37          GANSTA          UV Protection Rectangular Sunglasses (60)    ₹242   \n",
       "38        Fastrack              UV Protection Aviator Sunglasses (57)    ₹639   \n",
       "39        elegante  Polarized, Riding Glasses, Night Vision Sports...    ₹499   \n",
       "\n",
       "   Discount  \n",
       "0   67% off  \n",
       "1    8% off  \n",
       "2   10% off  \n",
       "3   80% off  \n",
       "4   84% off  \n",
       "5   75% off  \n",
       "6   20% off  \n",
       "7   81% off  \n",
       "8   86% off  \n",
       "9   45% off  \n",
       "10  66% off  \n",
       "11  79% off  \n",
       "12  88% off  \n",
       "13  84% off  \n",
       "14  25% off  \n",
       "15  81% off  \n",
       "16  85% off  \n",
       "17  84% off  \n",
       "18  52% off  \n",
       "19  84% off  \n",
       "20  78% off  \n",
       "21  57% off  \n",
       "22  20% off  \n",
       "23  66% off  \n",
       "24  67% off  \n",
       "25  78% off  \n",
       "26  66% off  \n",
       "27  78% off  \n",
       "28  82% off  \n",
       "29  71% off  \n",
       "30  55% off  \n",
       "31  81% off  \n",
       "32  66% off  \n",
       "33  52% off  \n",
       "34  52% off  \n",
       "35  80% off  \n",
       "36  49% off  \n",
       "37  81% off  \n",
       "38  20% off  \n",
       "39  78% off  "
      ]
     },
     "execution_count": 237,
     "metadata": {},
     "output_type": "execute_result"
    }
   ],
   "source": [
    "df3"
   ]
  },
  {
   "cell_type": "code",
   "execution_count": 239,
   "id": "c05ee4a7",
   "metadata": {},
   "outputs": [],
   "source": [
    "df=df1"
   ]
  },
  {
   "cell_type": "code",
   "execution_count": 242,
   "id": "ff9761a6",
   "metadata": {},
   "outputs": [
    {
     "data": {
      "text/plain": [
       "<bound method DataFrame.join of             Brands                               Products Description Price  \\\n",
       "0          DEIXELS       UV Protection Aviator Sunglasses (Free Size)  ₹236   \n",
       "1           AISLIN  UV Protection, Gradient Butterfly, Retro Squar...  ₹498   \n",
       "2         Fastrack      UV Protection Wayfarer Sunglasses (Free Size)  ₹759   \n",
       "3       PHENOMENAL  UV Protection, Mirrored Retro Square Sunglasse...  ₹369   \n",
       "4        ROYAL SON                   Mirrored Aviator Sunglasses (58)  ₹379   \n",
       "5     Silver Kartz      UV Protection Wayfarer Sunglasses (Free Size)  ₹288   \n",
       "6           PIRASO              UV Protection Aviator Sunglasses (54)  ₹223   \n",
       "7           GANSTA              UV Protection Aviator Sunglasses (57)  ₹314   \n",
       "8   kingsunglasses                UV Protection Round Sunglasses (54)  ₹194   \n",
       "9    VINCENT CHASE  by Lenskart Polarized, UV Protection Rectangul...  ₹749   \n",
       "10       ROYAL SON                   Mirrored Aviator Sunglasses (55)  ₹379   \n",
       "11    Silver Kartz           UV Protection Clubmaster Sunglasses (53)  ₹313   \n",
       "12    CRYSTAL CART  Polarized, UV Protection, Mirrored, Gradient R...  ₹529   \n",
       "13       Rich Club         UV Protection Retro Square Sunglasses (54)  ₹265   \n",
       "14       ROYAL SON                   Mirrored Aviator Sunglasses (55)  ₹379   \n",
       "15       ROYAL SON     UV Protection, Polarized Round Sunglasses (54)  ₹664   \n",
       "16      PHENOMENAL  UV Protection Retro Square Sunglasses (Free Size)  ₹360   \n",
       "17  ROZZETTA CRAFT  UV Protection, Gradient Rectangular Sunglasses...  ₹379   \n",
       "18   VINCENT CHASE  by Lenskart Polarized, UV Protection Wayfarer ...  ₹749   \n",
       "19        elegante  Polarized, Riding Glasses, Night Vision Sports...  ₹499   \n",
       "20  kingsunglasses          UV Protection Rectangular Sunglasses (55)  ₹189   \n",
       "21  ROZZETTA CRAFT  UV Protection Retro Square Sunglasses (Free Size)  ₹474   \n",
       "22        Fastrack  Mirrored, UV Protection Wayfarer Sunglasses (F...  ₹899   \n",
       "23  ROZZETTA CRAFT     UV Protection Spectacle Sunglasses (Free Size)  ₹379   \n",
       "24            SRPM  Night Vision, UV Protection Round Sunglasses (54)  ₹233   \n",
       "25       Elligator  UV Protection, Riding Glasses Rectangular, Ret...  ₹379   \n",
       "26  kingsunglasses  Mirrored, UV Protection Wayfarer, Rectangular ...  ₹289   \n",
       "27      PHENOMENAL         UV Protection Retro Square Sunglasses (53)  ₹339   \n",
       "28        Fastrack        UV Protection Shield Sunglasses (Free Size)  ₹719   \n",
       "29    Singco India  Gradient, Toughened Glass Lens, UV Protection ...  ₹598   \n",
       "30       New Specs         UV Protection Round Sunglasses (Free Size)  ₹268   \n",
       "31       ROYAL SON   Polarized, UV Protection Aviator Sunglasses (57)  ₹759   \n",
       "32  kingsunglasses         UV Protection Round Sunglasses (Free Size)  ₹329   \n",
       "33       New Specs   UV Protection Rectangular Sunglasses (Free Size)  ₹154   \n",
       "34  kingsunglasses  Mirrored, UV Protection Wayfarer Sunglasses (F...  ₹269   \n",
       "35        elegante  Polarized, Riding Glasses, Night Vision Sports...  ₹499   \n",
       "36        Fastrack      UV Protection Wayfarer Sunglasses (Free Size)  ₹759   \n",
       "37  kingsunglasses  UV Protection, Mirrored Aviator Sunglasses (Fr...  ₹269   \n",
       "38  ROZZETTA CRAFT  UV Protection, Gradient Round Sunglasses (Free...  ₹379   \n",
       "39           povty  UV Protection Retro Square Sunglasses (Free Size)  ₹319   \n",
       "\n",
       "   Discount  \n",
       "0   80% off  \n",
       "1   67% off  \n",
       "2   15% off  \n",
       "3   81% off  \n",
       "4   74% off  \n",
       "5   80% off  \n",
       "6   86% off  \n",
       "7   84% off  \n",
       "8   80% off  \n",
       "9   62% off  \n",
       "10  74% off  \n",
       "11  79% off  \n",
       "12  74% off  \n",
       "13  62% off  \n",
       "14  74% off  \n",
       "15  66% off  \n",
       "16  81% off  \n",
       "17  81% off  \n",
       "18  70% off  \n",
       "19  78% off  \n",
       "20  85% off  \n",
       "21  78% off  \n",
       "22  10% off  \n",
       "23  81% off  \n",
       "24  76% off  \n",
       "25  74% off  \n",
       "26  85% off  \n",
       "27  66% off  \n",
       "28  20% off  \n",
       "29  80% off  \n",
       "30  79% off  \n",
       "31  62% off  \n",
       "32  79% off  \n",
       "33  89% off  \n",
       "34  82% off  \n",
       "35  78% off  \n",
       "36  15% off  \n",
       "37  85% off  \n",
       "38  81% off  \n",
       "39  68% off  >"
      ]
     },
     "execution_count": 242,
     "metadata": {},
     "output_type": "execute_result"
    }
   ],
   "source": [
    "df2.join"
   ]
  },
  {
   "cell_type": "code",
   "execution_count": 244,
   "id": "2de69e10",
   "metadata": {},
   "outputs": [
    {
     "data": {
      "text/plain": [
       "<bound method DataFrame.join of                Brands                               Products Description  \\\n",
       "0        Singco India  Gradient, Toughened Glass Lens, UV Protection ...   \n",
       "1          PHENOMENAL  UV Protection, Mirrored Retro Square Sunglasse...   \n",
       "2            DAHAAZIL  UV Protection, Night Vision, Riding Glasses Wa...   \n",
       "3            Fastrack   UV Protection Rectangular Sunglasses (Free Size)   \n",
       "4           New Specs   UV Protection Rectangular Sunglasses (Free Size)   \n",
       "5           Elligator                UV Protection Round Sunglasses (54)   \n",
       "6              SUNBEE  UV Protection, Polarized, Mirrored Retro Squar...   \n",
       "7        Silver Kartz           UV Protection Clubmaster Sunglasses (53)   \n",
       "8              SUNBEE  UV Protection, Polarized Wayfarer Sunglasses (...   \n",
       "9              PIRASO              UV Protection Aviator Sunglasses (54)   \n",
       "10               SRPM             UV Protection Wayfarer Sunglasses (50)   \n",
       "11         PHENOMENAL  UV Protection Retro Square Sunglasses (Free Size)   \n",
       "12  SHAAH COLLECTIONS  UV Protection, Polarized, Mirrored Rectangular...   \n",
       "13           Fastrack      UV Protection Wayfarer Sunglasses (Free Size)   \n",
       "14             PIRASO              UV Protection Aviator Sunglasses (54)   \n",
       "15          ROYAL SON     UV Protection, Polarized Round Sunglasses (54)   \n",
       "16           Fastrack       UV Protection Aviator Sunglasses (Free Size)   \n",
       "17         Lee Topper  Riding Glasses Wrap-around Sunglasses (Free Size)   \n",
       "18             PIRASO              UV Protection Aviator Sunglasses (58)   \n",
       "19           elegante  Polarized, Riding Glasses, Night Vision Sports...   \n",
       "20         Lee Topper       UV Protection Cat-eye Sunglasses (Free Size)   \n",
       "21             PIRASO          UV Protection Rectangular Sunglasses (52)   \n",
       "22             PIRASO             UV Protection Wayfarer Sunglasses (32)   \n",
       "23         PHENOMENAL         UV Protection Retro Square Sunglasses (53)   \n",
       "24             PIRASO              UV Protection Aviator Sunglasses (54)   \n",
       "25           Fastrack  Gradient, UV Protection Wayfarer Sunglasses (F...   \n",
       "26     ROZZETTA CRAFT  Polarized, Riding Glasses Sports, Wrap-around ...   \n",
       "27     ROZZETTA CRAFT     UV Protection Spectacle Sunglasses (Free Size)   \n",
       "28              NuVew               UV Protection Sports Sunglasses (62)   \n",
       "29             PIRASO           UV Protection Over-sized Sunglasses (65)   \n",
       "30     ROZZETTA CRAFT   UV Protection Rectangular Sunglasses (Free Size)   \n",
       "31       Silver Kartz      UV Protection Wayfarer Sunglasses (Free Size)   \n",
       "32                 Mi           Polarized Aviator Sunglasses (Free Size)   \n",
       "33  SHAAH COLLECTIONS         UV Protection Round Sunglasses (Free Size)   \n",
       "34             Sewell  Mirrored, Night Vision, UV Protection, Riding ...   \n",
       "35          ROYAL SON   Polarized, UV Protection Aviator Sunglasses (57)   \n",
       "36     ROZZETTA CRAFT  UV Protection, Gradient Retro Square Sunglasse...   \n",
       "37               SRPM      Others Wayfarer, Retro Square Sunglasses (50)   \n",
       "38             SUNBEE  UV Protection, Polarized, Mirrored Wayfarer Su...   \n",
       "39           elegante  Polarized, Riding Glasses, Night Vision Sports...   \n",
       "\n",
       "   Price Discount  \n",
       "0   ₹598  80% off  \n",
       "1   ₹369  81% off  \n",
       "2   ₹177  82% off  \n",
       "3   ₹639  20% off  \n",
       "4   ₹264  89% off  \n",
       "5   ₹315  87% off  \n",
       "6   ₹259  80% off  \n",
       "7   ₹313  79% off  \n",
       "8   ₹283  78% off  \n",
       "9   ₹224  85% off  \n",
       "10  ₹224  82% off  \n",
       "11  ₹360  81% off  \n",
       "12  ₹195  88% off  \n",
       "13  ₹799  20% off  \n",
       "14  ₹224  85% off  \n",
       "15  ₹664  66% off  \n",
       "16  ₹639  20% off  \n",
       "17  ₹299  88% off  \n",
       "18  ₹359  86% off  \n",
       "19  ₹499  78% off  \n",
       "20  ₹229  82% off  \n",
       "21  ₹306  88% off  \n",
       "22  ₹226  85% off  \n",
       "23  ₹339  66% off  \n",
       "24  ₹246  84% off  \n",
       "25  ₹719  20% off  \n",
       "26  ₹474  76% off  \n",
       "27  ₹379  81% off  \n",
       "28  ₹291  76% off  \n",
       "29  ₹410  84% off  \n",
       "30  ₹303  79% off  \n",
       "31  ₹288  80% off  \n",
       "32  ₹839  30% off  \n",
       "33  ₹279  78% off  \n",
       "34  ₹265  82% off  \n",
       "35  ₹759  62% off  \n",
       "36  ₹331  83% off  \n",
       "37  ₹219  78% off  \n",
       "38  ₹283  78% off  \n",
       "39  ₹499  78% off  >"
      ]
     },
     "execution_count": 244,
     "metadata": {},
     "output_type": "execute_result"
    }
   ],
   "source": [
    "df1.join"
   ]
  },
  {
   "cell_type": "code",
   "execution_count": 245,
   "id": "d73e0966",
   "metadata": {},
   "outputs": [
    {
     "data": {
      "text/plain": [
       "<bound method DataFrame.join of             Brands                               Products Description   Price  \\\n",
       "0           AISLIN       UV Protection, Gradient Oval Sunglasses (58)    ₹498   \n",
       "1         Fastrack             UV Protection Wayfarer Sunglasses (55)    ₹735   \n",
       "2         Fastrack        UV Protection Shield Sunglasses (Free Size)    ₹809   \n",
       "3     Singco India  Gradient, Toughened Glass Lens, UV Protection ...    ₹598   \n",
       "4           PIRASO            UV Protection Butterfly Sunglasses (60)    ₹405   \n",
       "5       Lee Topper         UV Protection Round Sunglasses (Free Size)    ₹245   \n",
       "6         Fastrack      Polarized Retro Square Sunglasses (Free Size)    ₹639   \n",
       "7       PHENOMENAL  UV Protection, Mirrored Retro Square Sunglasse...    ₹369   \n",
       "8        New Specs       UV Protection Aviator Sunglasses (Free Size)    ₹214   \n",
       "9    VINCENT CHASE     Polarized, UV Protection Round Sunglasses (51)  ₹1,099   \n",
       "10       ROYAL SON  Polarized, UV Protection Wayfarer Sunglasses (61)    ₹664   \n",
       "11    Silver Kartz           UV Protection Clubmaster Sunglasses (53)    ₹313   \n",
       "12      Lee Topper  Riding Glasses, Night Vision Wrap-around Sungl...    ₹276   \n",
       "13          GANSTA  UV Protection, Riding Glasses Aviator Sunglass...    ₹314   \n",
       "14              Mi           Polarized Aviator Sunglasses (Free Size)    ₹899   \n",
       "15      PHENOMENAL  UV Protection Retro Square Sunglasses (Free Size)    ₹360   \n",
       "16  kingsunglasses   Mirrored, UV Protection Wayfarer Sunglasses (53)    ₹299   \n",
       "17          GANSTA              UV Protection Aviator Sunglasses (57)    ₹314   \n",
       "18   VINCENT CHASE  by Lenskart Polarized, UV Protection Wayfarer ...    ₹949   \n",
       "19          GANSTA  UV Protection, Night Vision, Riding Glasses Av...    ₹314   \n",
       "20  ROZZETTA CRAFT  UV Protection, Gradient Rectangular Sunglasses...    ₹426   \n",
       "21   VINCENT CHASE     Polarized, UV Protection Round Sunglasses (50)    ₹849   \n",
       "22        Fastrack        UV Protection Sports Sunglasses (Free Size)    ₹719   \n",
       "23       ROYAL SON     UV Protection, Polarized Round Sunglasses (54)    ₹664   \n",
       "24       Rich Club        UV Protection, Others Round Sunglasses (48)    ₹260   \n",
       "25    CRYSTAL CART  Polarized, UV Protection, Gradient, Riding Gla...    ₹329   \n",
       "26       ROYAL SON              Polarized Rectangular Sunglasses (60)    ₹664   \n",
       "27        elegante  Polarized, Riding Glasses, Night Vision Sports...    ₹499   \n",
       "28  kingsunglasses          UV Protection Rectangular Sunglasses (55)    ₹269   \n",
       "29        elegante      UV Protection Wayfarer Sunglasses (Free Size)    ₹431   \n",
       "30        Roadster              Others Aviator Sunglasses (Free Size)    ₹449   \n",
       "31  ROZZETTA CRAFT     UV Protection Spectacle Sunglasses (Free Size)    ₹379   \n",
       "32      PHENOMENAL         UV Protection Retro Square Sunglasses (53)    ₹339   \n",
       "33   VINCENT CHASE     Polarized, UV Protection Round Sunglasses (50)    ₹949   \n",
       "34   VINCENT CHASE  by Lenskart Polarized, UV Protection Cat-eye S...    ₹949   \n",
       "35    Silver Kartz      UV Protection Wayfarer Sunglasses (Free Size)    ₹288   \n",
       "36         Urbanic         Others Retro Square Sunglasses (Free Size)    ₹399   \n",
       "37          GANSTA          UV Protection Rectangular Sunglasses (60)    ₹242   \n",
       "38        Fastrack              UV Protection Aviator Sunglasses (57)    ₹639   \n",
       "39        elegante  Polarized, Riding Glasses, Night Vision Sports...    ₹499   \n",
       "\n",
       "   Discount  \n",
       "0   67% off  \n",
       "1    8% off  \n",
       "2   10% off  \n",
       "3   80% off  \n",
       "4   84% off  \n",
       "5   75% off  \n",
       "6   20% off  \n",
       "7   81% off  \n",
       "8   86% off  \n",
       "9   45% off  \n",
       "10  66% off  \n",
       "11  79% off  \n",
       "12  88% off  \n",
       "13  84% off  \n",
       "14  25% off  \n",
       "15  81% off  \n",
       "16  85% off  \n",
       "17  84% off  \n",
       "18  52% off  \n",
       "19  84% off  \n",
       "20  78% off  \n",
       "21  57% off  \n",
       "22  20% off  \n",
       "23  66% off  \n",
       "24  67% off  \n",
       "25  78% off  \n",
       "26  66% off  \n",
       "27  78% off  \n",
       "28  82% off  \n",
       "29  71% off  \n",
       "30  55% off  \n",
       "31  81% off  \n",
       "32  66% off  \n",
       "33  52% off  \n",
       "34  52% off  \n",
       "35  80% off  \n",
       "36  49% off  \n",
       "37  81% off  \n",
       "38  20% off  \n",
       "39  78% off  >"
      ]
     },
     "execution_count": 245,
     "metadata": {},
     "output_type": "execute_result"
    }
   ],
   "source": [
    "df3.join"
   ]
  },
  {
   "cell_type": "code",
   "execution_count": 246,
   "id": "ca4dedc0",
   "metadata": {},
   "outputs": [
    {
     "name": "stdout",
     "output_type": "stream",
     "text": [
      "                                     Brands  \\\n",
      "0                 Singco IndiaDEIXELSAISLIN   \n",
      "1                  PHENOMENALAISLINFastrack   \n",
      "2                  DAHAAZILFastrackFastrack   \n",
      "3            FastrackPHENOMENALSingco India   \n",
      "4                  New SpecsROYAL SONPIRASO   \n",
      "5           ElligatorSilver KartzLee Topper   \n",
      "6                      SUNBEEPIRASOFastrack   \n",
      "7              Silver KartzGANSTAPHENOMENAL   \n",
      "8             SUNBEEkingsunglassesNew Specs   \n",
      "9          PIRASOVINCENT CHASEVINCENT CHASE   \n",
      "10                   SRPMROYAL SONROYAL SON   \n",
      "11       PHENOMENALSilver KartzSilver Kartz   \n",
      "12  SHAAH COLLECTIONSCRYSTAL CARTLee Topper   \n",
      "13                  FastrackRich ClubGANSTA   \n",
      "14                        PIRASOROYAL SONMi   \n",
      "15             ROYAL SONROYAL SONPHENOMENAL   \n",
      "16         FastrackPHENOMENALkingsunglasses   \n",
      "17           Lee TopperROZZETTA CRAFTGANSTA   \n",
      "18         PIRASOVINCENT CHASEVINCENT CHASE   \n",
      "19                   eleganteeleganteGANSTA   \n",
      "20   Lee TopperkingsunglassesROZZETTA CRAFT   \n",
      "21        PIRASOROZZETTA CRAFTVINCENT CHASE   \n",
      "22                   PIRASOFastrackFastrack   \n",
      "23        PHENOMENALROZZETTA CRAFTROYAL SON   \n",
      "24                      PIRASOSRPMRich Club   \n",
      "25            FastrackElligatorCRYSTAL CART   \n",
      "26    ROZZETTA CRAFTkingsunglassesROYAL SON   \n",
      "27         ROZZETTA CRAFTPHENOMENALelegante   \n",
      "28              NuVewFastrackkingsunglasses   \n",
      "29               PIRASOSingco Indiaelegante   \n",
      "30          ROZZETTA CRAFTNew SpecsRoadster   \n",
      "31      Silver KartzROYAL SONROZZETTA CRAFT   \n",
      "32               MikingsunglassesPHENOMENAL   \n",
      "33  SHAAH COLLECTIONSNew SpecsVINCENT CHASE   \n",
      "34        SewellkingsunglassesVINCENT CHASE   \n",
      "35            ROYAL SONeleganteSilver Kartz   \n",
      "36            ROZZETTA CRAFTFastrackUrbanic   \n",
      "37                 SRPMkingsunglassesGANSTA   \n",
      "38             SUNBEEROZZETTA CRAFTFastrack   \n",
      "39                    elegantepovtyelegante   \n",
      "\n",
      "                                 Products Description           Price  \\\n",
      "0   Gradient, Toughened Glass Lens, UV Protection ...    ₹598₹236₹498   \n",
      "1   UV Protection, Mirrored Retro Square Sunglasse...    ₹369₹498₹735   \n",
      "2   UV Protection, Night Vision, Riding Glasses Wa...    ₹177₹759₹809   \n",
      "3   UV Protection Rectangular Sunglasses (Free Siz...    ₹639₹369₹598   \n",
      "4   UV Protection Rectangular Sunglasses (Free Siz...    ₹264₹379₹405   \n",
      "5   UV Protection Round Sunglasses (54)UV Protecti...    ₹315₹288₹245   \n",
      "6   UV Protection, Polarized, Mirrored Retro Squar...    ₹259₹223₹639   \n",
      "7   UV Protection Clubmaster Sunglasses (53)UV Pro...    ₹313₹314₹369   \n",
      "8   UV Protection, Polarized Wayfarer Sunglasses (...    ₹283₹194₹214   \n",
      "9   UV Protection Aviator Sunglasses (54)by Lenska...  ₹224₹749₹1,099   \n",
      "10  UV Protection Wayfarer Sunglasses (50)Mirrored...    ₹224₹379₹664   \n",
      "11  UV Protection Retro Square Sunglasses (Free Si...    ₹360₹313₹313   \n",
      "12  UV Protection, Polarized, Mirrored Rectangular...    ₹195₹529₹276   \n",
      "13  UV Protection Wayfarer Sunglasses (Free Size)U...    ₹799₹265₹314   \n",
      "14  UV Protection Aviator Sunglasses (54)Mirrored ...    ₹224₹379₹899   \n",
      "15  UV Protection, Polarized Round Sunglasses (54)...    ₹664₹664₹360   \n",
      "16  UV Protection Aviator Sunglasses (Free Size)UV...    ₹639₹360₹299   \n",
      "17  Riding Glasses Wrap-around Sunglasses (Free Si...    ₹299₹379₹314   \n",
      "18  UV Protection Aviator Sunglasses (58)by Lenska...    ₹359₹749₹949   \n",
      "19  Polarized, Riding Glasses, Night Vision Sports...    ₹499₹499₹314   \n",
      "20  UV Protection Cat-eye Sunglasses (Free Size)UV...    ₹229₹189₹426   \n",
      "21  UV Protection Rectangular Sunglasses (52)UV Pr...    ₹306₹474₹849   \n",
      "22  UV Protection Wayfarer Sunglasses (32)Mirrored...    ₹226₹899₹719   \n",
      "23  UV Protection Retro Square Sunglasses (53)UV P...    ₹339₹379₹664   \n",
      "24  UV Protection Aviator Sunglasses (54)Night Vis...    ₹246₹233₹260   \n",
      "25  Gradient, UV Protection Wayfarer Sunglasses (F...    ₹719₹379₹329   \n",
      "26  Polarized, Riding Glasses Sports, Wrap-around ...    ₹474₹289₹664   \n",
      "27  UV Protection Spectacle Sunglasses (Free Size)...    ₹379₹339₹499   \n",
      "28  UV Protection Sports Sunglasses (62)UV Protect...    ₹291₹719₹269   \n",
      "29  UV Protection Over-sized Sunglasses (65)Gradie...    ₹410₹598₹431   \n",
      "30  UV Protection Rectangular Sunglasses (Free Siz...    ₹303₹268₹449   \n",
      "31  UV Protection Wayfarer Sunglasses (Free Size)P...    ₹288₹759₹379   \n",
      "32  Polarized Aviator Sunglasses (Free Size)UV Pro...    ₹839₹329₹339   \n",
      "33  UV Protection Round Sunglasses (Free Size)UV P...    ₹279₹154₹949   \n",
      "34  Mirrored, Night Vision, UV Protection, Riding ...    ₹265₹269₹949   \n",
      "35  Polarized, UV Protection Aviator Sunglasses (5...    ₹759₹499₹288   \n",
      "36  UV Protection, Gradient Retro Square Sunglasse...    ₹331₹759₹399   \n",
      "37  Others Wayfarer, Retro Square Sunglasses (50)U...    ₹219₹269₹242   \n",
      "38  UV Protection, Polarized, Mirrored Wayfarer Su...    ₹283₹379₹639   \n",
      "39  Polarized, Riding Glasses, Night Vision Sports...    ₹499₹319₹499   \n",
      "\n",
      "                 Discount  \n",
      "0   80% off80% off67% off  \n",
      "1    81% off67% off8% off  \n",
      "2   82% off15% off10% off  \n",
      "3   20% off81% off80% off  \n",
      "4   89% off74% off84% off  \n",
      "5   87% off80% off75% off  \n",
      "6   80% off86% off20% off  \n",
      "7   79% off84% off81% off  \n",
      "8   78% off80% off86% off  \n",
      "9   85% off62% off45% off  \n",
      "10  82% off74% off66% off  \n",
      "11  81% off79% off79% off  \n",
      "12  88% off74% off88% off  \n",
      "13  20% off62% off84% off  \n",
      "14  85% off74% off25% off  \n",
      "15  66% off66% off81% off  \n",
      "16  20% off81% off85% off  \n",
      "17  88% off81% off84% off  \n",
      "18  86% off70% off52% off  \n",
      "19  78% off78% off84% off  \n",
      "20  82% off85% off78% off  \n",
      "21  88% off78% off57% off  \n",
      "22  85% off10% off20% off  \n",
      "23  66% off81% off66% off  \n",
      "24  84% off76% off67% off  \n",
      "25  20% off74% off78% off  \n",
      "26  76% off85% off66% off  \n",
      "27  81% off66% off78% off  \n",
      "28  76% off20% off82% off  \n",
      "29  84% off80% off71% off  \n",
      "30  79% off79% off55% off  \n",
      "31  80% off62% off81% off  \n",
      "32  30% off79% off66% off  \n",
      "33  78% off89% off52% off  \n",
      "34  82% off82% off52% off  \n",
      "35  62% off78% off80% off  \n",
      "36  83% off15% off49% off  \n",
      "37  78% off85% off81% off  \n",
      "38  78% off81% off20% off  \n",
      "39  78% off68% off78% off  \n"
     ]
    }
   ],
   "source": [
    "df  =  df1 + df2 + df3\n",
    "print(df)"
   ]
  },
  {
   "cell_type": "code",
   "execution_count": 251,
   "id": "d1406d48",
   "metadata": {},
   "outputs": [],
   "source": [
    "df  =  pd.DataFrame\n",
    "df=df1.join"
   ]
  },
  {
   "cell_type": "code",
   "execution_count": 252,
   "id": "b505e15b",
   "metadata": {},
   "outputs": [
    {
     "data": {
      "text/plain": [
       "<bound method DataFrame.join of                Brands                               Products Description  \\\n",
       "0        Singco India  Gradient, Toughened Glass Lens, UV Protection ...   \n",
       "1          PHENOMENAL  UV Protection, Mirrored Retro Square Sunglasse...   \n",
       "2            DAHAAZIL  UV Protection, Night Vision, Riding Glasses Wa...   \n",
       "3            Fastrack   UV Protection Rectangular Sunglasses (Free Size)   \n",
       "4           New Specs   UV Protection Rectangular Sunglasses (Free Size)   \n",
       "5           Elligator                UV Protection Round Sunglasses (54)   \n",
       "6              SUNBEE  UV Protection, Polarized, Mirrored Retro Squar...   \n",
       "7        Silver Kartz           UV Protection Clubmaster Sunglasses (53)   \n",
       "8              SUNBEE  UV Protection, Polarized Wayfarer Sunglasses (...   \n",
       "9              PIRASO              UV Protection Aviator Sunglasses (54)   \n",
       "10               SRPM             UV Protection Wayfarer Sunglasses (50)   \n",
       "11         PHENOMENAL  UV Protection Retro Square Sunglasses (Free Size)   \n",
       "12  SHAAH COLLECTIONS  UV Protection, Polarized, Mirrored Rectangular...   \n",
       "13           Fastrack      UV Protection Wayfarer Sunglasses (Free Size)   \n",
       "14             PIRASO              UV Protection Aviator Sunglasses (54)   \n",
       "15          ROYAL SON     UV Protection, Polarized Round Sunglasses (54)   \n",
       "16           Fastrack       UV Protection Aviator Sunglasses (Free Size)   \n",
       "17         Lee Topper  Riding Glasses Wrap-around Sunglasses (Free Size)   \n",
       "18             PIRASO              UV Protection Aviator Sunglasses (58)   \n",
       "19           elegante  Polarized, Riding Glasses, Night Vision Sports...   \n",
       "20         Lee Topper       UV Protection Cat-eye Sunglasses (Free Size)   \n",
       "21             PIRASO          UV Protection Rectangular Sunglasses (52)   \n",
       "22             PIRASO             UV Protection Wayfarer Sunglasses (32)   \n",
       "23         PHENOMENAL         UV Protection Retro Square Sunglasses (53)   \n",
       "24             PIRASO              UV Protection Aviator Sunglasses (54)   \n",
       "25           Fastrack  Gradient, UV Protection Wayfarer Sunglasses (F...   \n",
       "26     ROZZETTA CRAFT  Polarized, Riding Glasses Sports, Wrap-around ...   \n",
       "27     ROZZETTA CRAFT     UV Protection Spectacle Sunglasses (Free Size)   \n",
       "28              NuVew               UV Protection Sports Sunglasses (62)   \n",
       "29             PIRASO           UV Protection Over-sized Sunglasses (65)   \n",
       "30     ROZZETTA CRAFT   UV Protection Rectangular Sunglasses (Free Size)   \n",
       "31       Silver Kartz      UV Protection Wayfarer Sunglasses (Free Size)   \n",
       "32                 Mi           Polarized Aviator Sunglasses (Free Size)   \n",
       "33  SHAAH COLLECTIONS         UV Protection Round Sunglasses (Free Size)   \n",
       "34             Sewell  Mirrored, Night Vision, UV Protection, Riding ...   \n",
       "35          ROYAL SON   Polarized, UV Protection Aviator Sunglasses (57)   \n",
       "36     ROZZETTA CRAFT  UV Protection, Gradient Retro Square Sunglasse...   \n",
       "37               SRPM      Others Wayfarer, Retro Square Sunglasses (50)   \n",
       "38             SUNBEE  UV Protection, Polarized, Mirrored Wayfarer Su...   \n",
       "39           elegante  Polarized, Riding Glasses, Night Vision Sports...   \n",
       "\n",
       "   Price Discount  \n",
       "0   ₹598  80% off  \n",
       "1   ₹369  81% off  \n",
       "2   ₹177  82% off  \n",
       "3   ₹639  20% off  \n",
       "4   ₹264  89% off  \n",
       "5   ₹315  87% off  \n",
       "6   ₹259  80% off  \n",
       "7   ₹313  79% off  \n",
       "8   ₹283  78% off  \n",
       "9   ₹224  85% off  \n",
       "10  ₹224  82% off  \n",
       "11  ₹360  81% off  \n",
       "12  ₹195  88% off  \n",
       "13  ₹799  20% off  \n",
       "14  ₹224  85% off  \n",
       "15  ₹664  66% off  \n",
       "16  ₹639  20% off  \n",
       "17  ₹299  88% off  \n",
       "18  ₹359  86% off  \n",
       "19  ₹499  78% off  \n",
       "20  ₹229  82% off  \n",
       "21  ₹306  88% off  \n",
       "22  ₹226  85% off  \n",
       "23  ₹339  66% off  \n",
       "24  ₹246  84% off  \n",
       "25  ₹719  20% off  \n",
       "26  ₹474  76% off  \n",
       "27  ₹379  81% off  \n",
       "28  ₹291  76% off  \n",
       "29  ₹410  84% off  \n",
       "30  ₹303  79% off  \n",
       "31  ₹288  80% off  \n",
       "32  ₹839  30% off  \n",
       "33  ₹279  78% off  \n",
       "34  ₹265  82% off  \n",
       "35  ₹759  62% off  \n",
       "36  ₹331  83% off  \n",
       "37  ₹219  78% off  \n",
       "38  ₹283  78% off  \n",
       "39  ₹499  78% off  >"
      ]
     },
     "execution_count": 252,
     "metadata": {},
     "output_type": "execute_result"
    }
   ],
   "source": [
    "df"
   ]
  },
  {
   "cell_type": "code",
   "execution_count": 253,
   "id": "bbf09a1a",
   "metadata": {},
   "outputs": [
    {
     "data": {
      "text/html": [
       "<div>\n",
       "<style scoped>\n",
       "    .dataframe tbody tr th:only-of-type {\n",
       "        vertical-align: middle;\n",
       "    }\n",
       "\n",
       "    .dataframe tbody tr th {\n",
       "        vertical-align: top;\n",
       "    }\n",
       "\n",
       "    .dataframe thead th {\n",
       "        text-align: right;\n",
       "    }\n",
       "</style>\n",
       "<table border=\"1\" class=\"dataframe\">\n",
       "  <thead>\n",
       "    <tr style=\"text-align: right;\">\n",
       "      <th></th>\n",
       "      <th>Brands</th>\n",
       "      <th>Products Description</th>\n",
       "      <th>Price</th>\n",
       "      <th>Discount</th>\n",
       "    </tr>\n",
       "  </thead>\n",
       "  <tbody>\n",
       "    <tr>\n",
       "      <th>0</th>\n",
       "      <td>DEIXELS</td>\n",
       "      <td>UV Protection Aviator Sunglasses (Free Size)</td>\n",
       "      <td>₹236</td>\n",
       "      <td>80% off</td>\n",
       "    </tr>\n",
       "    <tr>\n",
       "      <th>1</th>\n",
       "      <td>AISLIN</td>\n",
       "      <td>UV Protection, Gradient Butterfly, Retro Squar...</td>\n",
       "      <td>₹498</td>\n",
       "      <td>67% off</td>\n",
       "    </tr>\n",
       "    <tr>\n",
       "      <th>2</th>\n",
       "      <td>Fastrack</td>\n",
       "      <td>UV Protection Wayfarer Sunglasses (Free Size)</td>\n",
       "      <td>₹759</td>\n",
       "      <td>15% off</td>\n",
       "    </tr>\n",
       "    <tr>\n",
       "      <th>3</th>\n",
       "      <td>PHENOMENAL</td>\n",
       "      <td>UV Protection, Mirrored Retro Square Sunglasse...</td>\n",
       "      <td>₹369</td>\n",
       "      <td>81% off</td>\n",
       "    </tr>\n",
       "    <tr>\n",
       "      <th>4</th>\n",
       "      <td>ROYAL SON</td>\n",
       "      <td>Mirrored Aviator Sunglasses (58)</td>\n",
       "      <td>₹379</td>\n",
       "      <td>74% off</td>\n",
       "    </tr>\n",
       "    <tr>\n",
       "      <th>5</th>\n",
       "      <td>Silver Kartz</td>\n",
       "      <td>UV Protection Wayfarer Sunglasses (Free Size)</td>\n",
       "      <td>₹288</td>\n",
       "      <td>80% off</td>\n",
       "    </tr>\n",
       "    <tr>\n",
       "      <th>6</th>\n",
       "      <td>PIRASO</td>\n",
       "      <td>UV Protection Aviator Sunglasses (54)</td>\n",
       "      <td>₹223</td>\n",
       "      <td>86% off</td>\n",
       "    </tr>\n",
       "    <tr>\n",
       "      <th>7</th>\n",
       "      <td>GANSTA</td>\n",
       "      <td>UV Protection Aviator Sunglasses (57)</td>\n",
       "      <td>₹314</td>\n",
       "      <td>84% off</td>\n",
       "    </tr>\n",
       "    <tr>\n",
       "      <th>8</th>\n",
       "      <td>kingsunglasses</td>\n",
       "      <td>UV Protection Round Sunglasses (54)</td>\n",
       "      <td>₹194</td>\n",
       "      <td>80% off</td>\n",
       "    </tr>\n",
       "    <tr>\n",
       "      <th>9</th>\n",
       "      <td>VINCENT CHASE</td>\n",
       "      <td>by Lenskart Polarized, UV Protection Rectangul...</td>\n",
       "      <td>₹749</td>\n",
       "      <td>62% off</td>\n",
       "    </tr>\n",
       "    <tr>\n",
       "      <th>10</th>\n",
       "      <td>ROYAL SON</td>\n",
       "      <td>Mirrored Aviator Sunglasses (55)</td>\n",
       "      <td>₹379</td>\n",
       "      <td>74% off</td>\n",
       "    </tr>\n",
       "    <tr>\n",
       "      <th>11</th>\n",
       "      <td>Silver Kartz</td>\n",
       "      <td>UV Protection Clubmaster Sunglasses (53)</td>\n",
       "      <td>₹313</td>\n",
       "      <td>79% off</td>\n",
       "    </tr>\n",
       "    <tr>\n",
       "      <th>12</th>\n",
       "      <td>CRYSTAL CART</td>\n",
       "      <td>Polarized, UV Protection, Mirrored, Gradient R...</td>\n",
       "      <td>₹529</td>\n",
       "      <td>74% off</td>\n",
       "    </tr>\n",
       "    <tr>\n",
       "      <th>13</th>\n",
       "      <td>Rich Club</td>\n",
       "      <td>UV Protection Retro Square Sunglasses (54)</td>\n",
       "      <td>₹265</td>\n",
       "      <td>62% off</td>\n",
       "    </tr>\n",
       "    <tr>\n",
       "      <th>14</th>\n",
       "      <td>ROYAL SON</td>\n",
       "      <td>Mirrored Aviator Sunglasses (55)</td>\n",
       "      <td>₹379</td>\n",
       "      <td>74% off</td>\n",
       "    </tr>\n",
       "    <tr>\n",
       "      <th>15</th>\n",
       "      <td>ROYAL SON</td>\n",
       "      <td>UV Protection, Polarized Round Sunglasses (54)</td>\n",
       "      <td>₹664</td>\n",
       "      <td>66% off</td>\n",
       "    </tr>\n",
       "    <tr>\n",
       "      <th>16</th>\n",
       "      <td>PHENOMENAL</td>\n",
       "      <td>UV Protection Retro Square Sunglasses (Free Size)</td>\n",
       "      <td>₹360</td>\n",
       "      <td>81% off</td>\n",
       "    </tr>\n",
       "    <tr>\n",
       "      <th>17</th>\n",
       "      <td>ROZZETTA CRAFT</td>\n",
       "      <td>UV Protection, Gradient Rectangular Sunglasses...</td>\n",
       "      <td>₹379</td>\n",
       "      <td>81% off</td>\n",
       "    </tr>\n",
       "    <tr>\n",
       "      <th>18</th>\n",
       "      <td>VINCENT CHASE</td>\n",
       "      <td>by Lenskart Polarized, UV Protection Wayfarer ...</td>\n",
       "      <td>₹749</td>\n",
       "      <td>70% off</td>\n",
       "    </tr>\n",
       "    <tr>\n",
       "      <th>19</th>\n",
       "      <td>elegante</td>\n",
       "      <td>Polarized, Riding Glasses, Night Vision Sports...</td>\n",
       "      <td>₹499</td>\n",
       "      <td>78% off</td>\n",
       "    </tr>\n",
       "    <tr>\n",
       "      <th>20</th>\n",
       "      <td>kingsunglasses</td>\n",
       "      <td>UV Protection Rectangular Sunglasses (55)</td>\n",
       "      <td>₹189</td>\n",
       "      <td>85% off</td>\n",
       "    </tr>\n",
       "    <tr>\n",
       "      <th>21</th>\n",
       "      <td>ROZZETTA CRAFT</td>\n",
       "      <td>UV Protection Retro Square Sunglasses (Free Size)</td>\n",
       "      <td>₹474</td>\n",
       "      <td>78% off</td>\n",
       "    </tr>\n",
       "    <tr>\n",
       "      <th>22</th>\n",
       "      <td>Fastrack</td>\n",
       "      <td>Mirrored, UV Protection Wayfarer Sunglasses (F...</td>\n",
       "      <td>₹899</td>\n",
       "      <td>10% off</td>\n",
       "    </tr>\n",
       "    <tr>\n",
       "      <th>23</th>\n",
       "      <td>ROZZETTA CRAFT</td>\n",
       "      <td>UV Protection Spectacle Sunglasses (Free Size)</td>\n",
       "      <td>₹379</td>\n",
       "      <td>81% off</td>\n",
       "    </tr>\n",
       "    <tr>\n",
       "      <th>24</th>\n",
       "      <td>SRPM</td>\n",
       "      <td>Night Vision, UV Protection Round Sunglasses (54)</td>\n",
       "      <td>₹233</td>\n",
       "      <td>76% off</td>\n",
       "    </tr>\n",
       "    <tr>\n",
       "      <th>25</th>\n",
       "      <td>Elligator</td>\n",
       "      <td>UV Protection, Riding Glasses Rectangular, Ret...</td>\n",
       "      <td>₹379</td>\n",
       "      <td>74% off</td>\n",
       "    </tr>\n",
       "    <tr>\n",
       "      <th>26</th>\n",
       "      <td>kingsunglasses</td>\n",
       "      <td>Mirrored, UV Protection Wayfarer, Rectangular ...</td>\n",
       "      <td>₹289</td>\n",
       "      <td>85% off</td>\n",
       "    </tr>\n",
       "    <tr>\n",
       "      <th>27</th>\n",
       "      <td>PHENOMENAL</td>\n",
       "      <td>UV Protection Retro Square Sunglasses (53)</td>\n",
       "      <td>₹339</td>\n",
       "      <td>66% off</td>\n",
       "    </tr>\n",
       "    <tr>\n",
       "      <th>28</th>\n",
       "      <td>Fastrack</td>\n",
       "      <td>UV Protection Shield Sunglasses (Free Size)</td>\n",
       "      <td>₹719</td>\n",
       "      <td>20% off</td>\n",
       "    </tr>\n",
       "    <tr>\n",
       "      <th>29</th>\n",
       "      <td>Singco India</td>\n",
       "      <td>Gradient, Toughened Glass Lens, UV Protection ...</td>\n",
       "      <td>₹598</td>\n",
       "      <td>80% off</td>\n",
       "    </tr>\n",
       "    <tr>\n",
       "      <th>30</th>\n",
       "      <td>New Specs</td>\n",
       "      <td>UV Protection Round Sunglasses (Free Size)</td>\n",
       "      <td>₹268</td>\n",
       "      <td>79% off</td>\n",
       "    </tr>\n",
       "    <tr>\n",
       "      <th>31</th>\n",
       "      <td>ROYAL SON</td>\n",
       "      <td>Polarized, UV Protection Aviator Sunglasses (57)</td>\n",
       "      <td>₹759</td>\n",
       "      <td>62% off</td>\n",
       "    </tr>\n",
       "    <tr>\n",
       "      <th>32</th>\n",
       "      <td>kingsunglasses</td>\n",
       "      <td>UV Protection Round Sunglasses (Free Size)</td>\n",
       "      <td>₹329</td>\n",
       "      <td>79% off</td>\n",
       "    </tr>\n",
       "    <tr>\n",
       "      <th>33</th>\n",
       "      <td>New Specs</td>\n",
       "      <td>UV Protection Rectangular Sunglasses (Free Size)</td>\n",
       "      <td>₹154</td>\n",
       "      <td>89% off</td>\n",
       "    </tr>\n",
       "    <tr>\n",
       "      <th>34</th>\n",
       "      <td>kingsunglasses</td>\n",
       "      <td>Mirrored, UV Protection Wayfarer Sunglasses (F...</td>\n",
       "      <td>₹269</td>\n",
       "      <td>82% off</td>\n",
       "    </tr>\n",
       "    <tr>\n",
       "      <th>35</th>\n",
       "      <td>elegante</td>\n",
       "      <td>Polarized, Riding Glasses, Night Vision Sports...</td>\n",
       "      <td>₹499</td>\n",
       "      <td>78% off</td>\n",
       "    </tr>\n",
       "    <tr>\n",
       "      <th>36</th>\n",
       "      <td>Fastrack</td>\n",
       "      <td>UV Protection Wayfarer Sunglasses (Free Size)</td>\n",
       "      <td>₹759</td>\n",
       "      <td>15% off</td>\n",
       "    </tr>\n",
       "    <tr>\n",
       "      <th>37</th>\n",
       "      <td>kingsunglasses</td>\n",
       "      <td>UV Protection, Mirrored Aviator Sunglasses (Fr...</td>\n",
       "      <td>₹269</td>\n",
       "      <td>85% off</td>\n",
       "    </tr>\n",
       "    <tr>\n",
       "      <th>38</th>\n",
       "      <td>ROZZETTA CRAFT</td>\n",
       "      <td>UV Protection, Gradient Round Sunglasses (Free...</td>\n",
       "      <td>₹379</td>\n",
       "      <td>81% off</td>\n",
       "    </tr>\n",
       "    <tr>\n",
       "      <th>39</th>\n",
       "      <td>povty</td>\n",
       "      <td>UV Protection Retro Square Sunglasses (Free Size)</td>\n",
       "      <td>₹319</td>\n",
       "      <td>68% off</td>\n",
       "    </tr>\n",
       "  </tbody>\n",
       "</table>\n",
       "</div>"
      ],
      "text/plain": [
       "            Brands                               Products Description Price  \\\n",
       "0          DEIXELS       UV Protection Aviator Sunglasses (Free Size)  ₹236   \n",
       "1           AISLIN  UV Protection, Gradient Butterfly, Retro Squar...  ₹498   \n",
       "2         Fastrack      UV Protection Wayfarer Sunglasses (Free Size)  ₹759   \n",
       "3       PHENOMENAL  UV Protection, Mirrored Retro Square Sunglasse...  ₹369   \n",
       "4        ROYAL SON                   Mirrored Aviator Sunglasses (58)  ₹379   \n",
       "5     Silver Kartz      UV Protection Wayfarer Sunglasses (Free Size)  ₹288   \n",
       "6           PIRASO              UV Protection Aviator Sunglasses (54)  ₹223   \n",
       "7           GANSTA              UV Protection Aviator Sunglasses (57)  ₹314   \n",
       "8   kingsunglasses                UV Protection Round Sunglasses (54)  ₹194   \n",
       "9    VINCENT CHASE  by Lenskart Polarized, UV Protection Rectangul...  ₹749   \n",
       "10       ROYAL SON                   Mirrored Aviator Sunglasses (55)  ₹379   \n",
       "11    Silver Kartz           UV Protection Clubmaster Sunglasses (53)  ₹313   \n",
       "12    CRYSTAL CART  Polarized, UV Protection, Mirrored, Gradient R...  ₹529   \n",
       "13       Rich Club         UV Protection Retro Square Sunglasses (54)  ₹265   \n",
       "14       ROYAL SON                   Mirrored Aviator Sunglasses (55)  ₹379   \n",
       "15       ROYAL SON     UV Protection, Polarized Round Sunglasses (54)  ₹664   \n",
       "16      PHENOMENAL  UV Protection Retro Square Sunglasses (Free Size)  ₹360   \n",
       "17  ROZZETTA CRAFT  UV Protection, Gradient Rectangular Sunglasses...  ₹379   \n",
       "18   VINCENT CHASE  by Lenskart Polarized, UV Protection Wayfarer ...  ₹749   \n",
       "19        elegante  Polarized, Riding Glasses, Night Vision Sports...  ₹499   \n",
       "20  kingsunglasses          UV Protection Rectangular Sunglasses (55)  ₹189   \n",
       "21  ROZZETTA CRAFT  UV Protection Retro Square Sunglasses (Free Size)  ₹474   \n",
       "22        Fastrack  Mirrored, UV Protection Wayfarer Sunglasses (F...  ₹899   \n",
       "23  ROZZETTA CRAFT     UV Protection Spectacle Sunglasses (Free Size)  ₹379   \n",
       "24            SRPM  Night Vision, UV Protection Round Sunglasses (54)  ₹233   \n",
       "25       Elligator  UV Protection, Riding Glasses Rectangular, Ret...  ₹379   \n",
       "26  kingsunglasses  Mirrored, UV Protection Wayfarer, Rectangular ...  ₹289   \n",
       "27      PHENOMENAL         UV Protection Retro Square Sunglasses (53)  ₹339   \n",
       "28        Fastrack        UV Protection Shield Sunglasses (Free Size)  ₹719   \n",
       "29    Singco India  Gradient, Toughened Glass Lens, UV Protection ...  ₹598   \n",
       "30       New Specs         UV Protection Round Sunglasses (Free Size)  ₹268   \n",
       "31       ROYAL SON   Polarized, UV Protection Aviator Sunglasses (57)  ₹759   \n",
       "32  kingsunglasses         UV Protection Round Sunglasses (Free Size)  ₹329   \n",
       "33       New Specs   UV Protection Rectangular Sunglasses (Free Size)  ₹154   \n",
       "34  kingsunglasses  Mirrored, UV Protection Wayfarer Sunglasses (F...  ₹269   \n",
       "35        elegante  Polarized, Riding Glasses, Night Vision Sports...  ₹499   \n",
       "36        Fastrack      UV Protection Wayfarer Sunglasses (Free Size)  ₹759   \n",
       "37  kingsunglasses  UV Protection, Mirrored Aviator Sunglasses (Fr...  ₹269   \n",
       "38  ROZZETTA CRAFT  UV Protection, Gradient Round Sunglasses (Free...  ₹379   \n",
       "39           povty  UV Protection Retro Square Sunglasses (Free Size)  ₹319   \n",
       "\n",
       "   Discount  \n",
       "0   80% off  \n",
       "1   67% off  \n",
       "2   15% off  \n",
       "3   81% off  \n",
       "4   74% off  \n",
       "5   80% off  \n",
       "6   86% off  \n",
       "7   84% off  \n",
       "8   80% off  \n",
       "9   62% off  \n",
       "10  74% off  \n",
       "11  79% off  \n",
       "12  74% off  \n",
       "13  62% off  \n",
       "14  74% off  \n",
       "15  66% off  \n",
       "16  81% off  \n",
       "17  81% off  \n",
       "18  70% off  \n",
       "19  78% off  \n",
       "20  85% off  \n",
       "21  78% off  \n",
       "22  10% off  \n",
       "23  81% off  \n",
       "24  76% off  \n",
       "25  74% off  \n",
       "26  85% off  \n",
       "27  66% off  \n",
       "28  20% off  \n",
       "29  80% off  \n",
       "30  79% off  \n",
       "31  62% off  \n",
       "32  79% off  \n",
       "33  89% off  \n",
       "34  82% off  \n",
       "35  78% off  \n",
       "36  15% off  \n",
       "37  85% off  \n",
       "38  81% off  \n",
       "39  68% off  "
      ]
     },
     "execution_count": 253,
     "metadata": {},
     "output_type": "execute_result"
    }
   ],
   "source": [
    "df2"
   ]
  },
  {
   "cell_type": "code",
   "execution_count": 289,
   "id": "3742870c",
   "metadata": {},
   "outputs": [
    {
     "data": {
      "text/html": [
       "<div>\n",
       "<style scoped>\n",
       "    .dataframe tbody tr th:only-of-type {\n",
       "        vertical-align: middle;\n",
       "    }\n",
       "\n",
       "    .dataframe tbody tr th {\n",
       "        vertical-align: top;\n",
       "    }\n",
       "\n",
       "    .dataframe thead th {\n",
       "        text-align: right;\n",
       "    }\n",
       "</style>\n",
       "<table border=\"1\" class=\"dataframe\">\n",
       "  <thead>\n",
       "    <tr style=\"text-align: right;\">\n",
       "      <th></th>\n",
       "      <th>Brands</th>\n",
       "      <th>Products Description</th>\n",
       "      <th>Price</th>\n",
       "      <th>Discount</th>\n",
       "    </tr>\n",
       "  </thead>\n",
       "  <tbody>\n",
       "    <tr>\n",
       "      <th>0</th>\n",
       "      <td>AISLIN</td>\n",
       "      <td>UV Protection, Gradient Oval Sunglasses (58)</td>\n",
       "      <td>₹498</td>\n",
       "      <td>67% off</td>\n",
       "    </tr>\n",
       "    <tr>\n",
       "      <th>1</th>\n",
       "      <td>Fastrack</td>\n",
       "      <td>UV Protection Wayfarer Sunglasses (55)</td>\n",
       "      <td>₹735</td>\n",
       "      <td>8% off</td>\n",
       "    </tr>\n",
       "    <tr>\n",
       "      <th>2</th>\n",
       "      <td>Fastrack</td>\n",
       "      <td>UV Protection Shield Sunglasses (Free Size)</td>\n",
       "      <td>₹809</td>\n",
       "      <td>10% off</td>\n",
       "    </tr>\n",
       "    <tr>\n",
       "      <th>3</th>\n",
       "      <td>Singco India</td>\n",
       "      <td>Gradient, Toughened Glass Lens, UV Protection ...</td>\n",
       "      <td>₹598</td>\n",
       "      <td>80% off</td>\n",
       "    </tr>\n",
       "    <tr>\n",
       "      <th>4</th>\n",
       "      <td>PIRASO</td>\n",
       "      <td>UV Protection Butterfly Sunglasses (60)</td>\n",
       "      <td>₹405</td>\n",
       "      <td>84% off</td>\n",
       "    </tr>\n",
       "    <tr>\n",
       "      <th>5</th>\n",
       "      <td>Lee Topper</td>\n",
       "      <td>UV Protection Round Sunglasses (Free Size)</td>\n",
       "      <td>₹245</td>\n",
       "      <td>75% off</td>\n",
       "    </tr>\n",
       "    <tr>\n",
       "      <th>6</th>\n",
       "      <td>Fastrack</td>\n",
       "      <td>Polarized Retro Square Sunglasses (Free Size)</td>\n",
       "      <td>₹639</td>\n",
       "      <td>20% off</td>\n",
       "    </tr>\n",
       "    <tr>\n",
       "      <th>7</th>\n",
       "      <td>PHENOMENAL</td>\n",
       "      <td>UV Protection, Mirrored Retro Square Sunglasse...</td>\n",
       "      <td>₹369</td>\n",
       "      <td>81% off</td>\n",
       "    </tr>\n",
       "    <tr>\n",
       "      <th>8</th>\n",
       "      <td>New Specs</td>\n",
       "      <td>UV Protection Aviator Sunglasses (Free Size)</td>\n",
       "      <td>₹214</td>\n",
       "      <td>86% off</td>\n",
       "    </tr>\n",
       "    <tr>\n",
       "      <th>9</th>\n",
       "      <td>VINCENT CHASE</td>\n",
       "      <td>Polarized, UV Protection Round Sunglasses (51)</td>\n",
       "      <td>₹1,099</td>\n",
       "      <td>45% off</td>\n",
       "    </tr>\n",
       "    <tr>\n",
       "      <th>10</th>\n",
       "      <td>ROYAL SON</td>\n",
       "      <td>Polarized, UV Protection Wayfarer Sunglasses (61)</td>\n",
       "      <td>₹664</td>\n",
       "      <td>66% off</td>\n",
       "    </tr>\n",
       "    <tr>\n",
       "      <th>11</th>\n",
       "      <td>Silver Kartz</td>\n",
       "      <td>UV Protection Clubmaster Sunglasses (53)</td>\n",
       "      <td>₹313</td>\n",
       "      <td>79% off</td>\n",
       "    </tr>\n",
       "    <tr>\n",
       "      <th>12</th>\n",
       "      <td>Lee Topper</td>\n",
       "      <td>Riding Glasses, Night Vision Wrap-around Sungl...</td>\n",
       "      <td>₹276</td>\n",
       "      <td>88% off</td>\n",
       "    </tr>\n",
       "    <tr>\n",
       "      <th>13</th>\n",
       "      <td>GANSTA</td>\n",
       "      <td>UV Protection, Riding Glasses Aviator Sunglass...</td>\n",
       "      <td>₹314</td>\n",
       "      <td>84% off</td>\n",
       "    </tr>\n",
       "    <tr>\n",
       "      <th>14</th>\n",
       "      <td>Mi</td>\n",
       "      <td>Polarized Aviator Sunglasses (Free Size)</td>\n",
       "      <td>₹899</td>\n",
       "      <td>25% off</td>\n",
       "    </tr>\n",
       "    <tr>\n",
       "      <th>15</th>\n",
       "      <td>PHENOMENAL</td>\n",
       "      <td>UV Protection Retro Square Sunglasses (Free Size)</td>\n",
       "      <td>₹360</td>\n",
       "      <td>81% off</td>\n",
       "    </tr>\n",
       "    <tr>\n",
       "      <th>16</th>\n",
       "      <td>kingsunglasses</td>\n",
       "      <td>Mirrored, UV Protection Wayfarer Sunglasses (53)</td>\n",
       "      <td>₹299</td>\n",
       "      <td>85% off</td>\n",
       "    </tr>\n",
       "    <tr>\n",
       "      <th>17</th>\n",
       "      <td>GANSTA</td>\n",
       "      <td>UV Protection Aviator Sunglasses (57)</td>\n",
       "      <td>₹314</td>\n",
       "      <td>84% off</td>\n",
       "    </tr>\n",
       "    <tr>\n",
       "      <th>18</th>\n",
       "      <td>VINCENT CHASE</td>\n",
       "      <td>by Lenskart Polarized, UV Protection Wayfarer ...</td>\n",
       "      <td>₹949</td>\n",
       "      <td>52% off</td>\n",
       "    </tr>\n",
       "    <tr>\n",
       "      <th>19</th>\n",
       "      <td>GANSTA</td>\n",
       "      <td>UV Protection, Night Vision, Riding Glasses Av...</td>\n",
       "      <td>₹314</td>\n",
       "      <td>84% off</td>\n",
       "    </tr>\n",
       "  </tbody>\n",
       "</table>\n",
       "</div>"
      ],
      "text/plain": [
       "            Brands                               Products Description   Price  \\\n",
       "0           AISLIN       UV Protection, Gradient Oval Sunglasses (58)    ₹498   \n",
       "1         Fastrack             UV Protection Wayfarer Sunglasses (55)    ₹735   \n",
       "2         Fastrack        UV Protection Shield Sunglasses (Free Size)    ₹809   \n",
       "3     Singco India  Gradient, Toughened Glass Lens, UV Protection ...    ₹598   \n",
       "4           PIRASO            UV Protection Butterfly Sunglasses (60)    ₹405   \n",
       "5       Lee Topper         UV Protection Round Sunglasses (Free Size)    ₹245   \n",
       "6         Fastrack      Polarized Retro Square Sunglasses (Free Size)    ₹639   \n",
       "7       PHENOMENAL  UV Protection, Mirrored Retro Square Sunglasse...    ₹369   \n",
       "8        New Specs       UV Protection Aviator Sunglasses (Free Size)    ₹214   \n",
       "9    VINCENT CHASE     Polarized, UV Protection Round Sunglasses (51)  ₹1,099   \n",
       "10       ROYAL SON  Polarized, UV Protection Wayfarer Sunglasses (61)    ₹664   \n",
       "11    Silver Kartz           UV Protection Clubmaster Sunglasses (53)    ₹313   \n",
       "12      Lee Topper  Riding Glasses, Night Vision Wrap-around Sungl...    ₹276   \n",
       "13          GANSTA  UV Protection, Riding Glasses Aviator Sunglass...    ₹314   \n",
       "14              Mi           Polarized Aviator Sunglasses (Free Size)    ₹899   \n",
       "15      PHENOMENAL  UV Protection Retro Square Sunglasses (Free Size)    ₹360   \n",
       "16  kingsunglasses   Mirrored, UV Protection Wayfarer Sunglasses (53)    ₹299   \n",
       "17          GANSTA              UV Protection Aviator Sunglasses (57)    ₹314   \n",
       "18   VINCENT CHASE  by Lenskart Polarized, UV Protection Wayfarer ...    ₹949   \n",
       "19          GANSTA  UV Protection, Night Vision, Riding Glasses Av...    ₹314   \n",
       "\n",
       "   Discount  \n",
       "0   67% off  \n",
       "1    8% off  \n",
       "2   10% off  \n",
       "3   80% off  \n",
       "4   84% off  \n",
       "5   75% off  \n",
       "6   20% off  \n",
       "7   81% off  \n",
       "8   86% off  \n",
       "9   45% off  \n",
       "10  66% off  \n",
       "11  79% off  \n",
       "12  88% off  \n",
       "13  84% off  \n",
       "14  25% off  \n",
       "15  81% off  \n",
       "16  85% off  \n",
       "17  84% off  \n",
       "18  52% off  \n",
       "19  84% off  "
      ]
     },
     "execution_count": 289,
     "metadata": {},
     "output_type": "execute_result"
    }
   ],
   "source": [
    "df3[0:20]"
   ]
  },
  {
   "cell_type": "code",
   "execution_count": 297,
   "id": "33fa3379",
   "metadata": {},
   "outputs": [
    {
     "ename": "SyntaxError",
     "evalue": "invalid syntax (616645405.py, line 18)",
     "output_type": "error",
     "traceback": [
      "\u001b[1;36m  Input \u001b[1;32mIn [297]\u001b[1;36m\u001b[0m\n\u001b[1;33m    driver.get(next_btn[].get_attribute('href'))#getting the link from the list for next page\u001b[0m\n\u001b[1;37m                        ^\u001b[0m\n\u001b[1;31mSyntaxError\u001b[0m\u001b[1;31m:\u001b[0m invalid syntax\n"
     ]
    }
   ],
   "source": [
    "#scrapping the required details\n",
    "\n",
    "start=0\n",
    "\n",
    "end=3\n",
    "\n",
    "for page in range(start,end):#for loop for scrapping 4 page\n",
    "\n",
    "    brands=driver.find_elements(\"xpath\",'//div[@class=\"_2WkVRV\"]')#scraping brands name by class name='_2WkVRV'\n",
    "\n",
    "for i in brands:\n",
    "\n",
    "        brand.append(i.text)#appending the text in Brand list[\n",
    "\n",
    "next_btn=driver.find_elements(\"xpath\",'/html/body/div[1]/div/div[3]/div[1]/div[2]/div[12]/div/div/nav/a[11]')#scraping the list of buttons from the page\n",
    "\n",
    "try:\n",
    "    driver.get(next_btn[].get_attribute('href'))#getting the link from the list for next page\n",
    "\n",
    "except:\n",
    "    driver.get(next_btn[].get_attribute('href'))"
   ]
  },
  {
   "cell_type": "code",
   "execution_count": null,
   "id": "3b5f1cb5",
   "metadata": {},
   "outputs": [],
   "source": []
  },
  {
   "cell_type": "code",
   "execution_count": null,
   "id": "ec88e942",
   "metadata": {},
   "outputs": [],
   "source": []
  },
  {
   "cell_type": "markdown",
   "id": "0bdbc726",
   "metadata": {},
   "source": [
    "Q5: Scrape 100 reviews data from flipkart.com for iphone11 phone.\n",
    "This task will be done in following steps:\n",
    "1. First get the webpage https://www.flipkart.com/\n",
    "2. Enter “iphone 11” in “Search” field .\n",
    "3. Then click the search button.\n",
    "As shown in the above page you have to scrape the tick marked attributes.These are:\n",
    "1. Rating\n",
    "2. Review summary\n",
    "3. Full review\n",
    "4. You have to scrape this data for first 100 reviews"
   ]
  },
  {
   "cell_type": "code",
   "execution_count": 257,
   "id": "b8def7a3",
   "metadata": {},
   "outputs": [],
   "source": [
    "#let's first convert to web driver\n",
    "driver  =  webdriver.Chrome(r'C:\\Users\\user\\Downloads\\chromedriver_win32 (1)\\chromedriver.exe')"
   ]
  },
  {
   "cell_type": "code",
   "execution_count": 258,
   "id": "7c7e9c14",
   "metadata": {},
   "outputs": [],
   "source": [
    "url =   'https://www.flipkart.com/'\n",
    "driver.get(url)"
   ]
  },
  {
   "cell_type": "code",
   "execution_count": 259,
   "id": "6d9db918",
   "metadata": {},
   "outputs": [
    {
     "data": {
      "text/plain": [
       "<selenium.webdriver.remote.webelement.WebElement (session=\"ae584f53bec94a78337be85058e5c31e\", element=\"b3ab9280-773b-43e6-b2a4-e784c8374a3f\")>"
      ]
     },
     "execution_count": 259,
     "metadata": {},
     "output_type": "execute_result"
    }
   ],
   "source": [
    "search_for_products = driver.find_element(\"xpath\",'/html/body/div[1]/div/div[1]/div[1]/div[2]/div[2]/form/div/div/input')\n",
    "search_for_products"
   ]
  },
  {
   "cell_type": "code",
   "execution_count": 260,
   "id": "793699c7",
   "metadata": {},
   "outputs": [],
   "source": [
    "search_for_products.send_keys(\"iphone 11\")"
   ]
  },
  {
   "cell_type": "code",
   "execution_count": 261,
   "id": "5f1d39c8",
   "metadata": {},
   "outputs": [
    {
     "data": {
      "text/plain": [
       "<selenium.webdriver.remote.webelement.WebElement (session=\"ae584f53bec94a78337be85058e5c31e\", element=\"1c33452f-545c-4a85-810e-97a1c8891976\")>"
      ]
     },
     "execution_count": 261,
     "metadata": {},
     "output_type": "execute_result"
    }
   ],
   "source": [
    "search_btn =  driver.find_element(\"xpath\",'/html/body/div[1]/div/div[1]/div[1]/div[2]/div[2]/form/div/button')\n",
    "search_btn"
   ]
  },
  {
   "cell_type": "code",
   "execution_count": 262,
   "id": "8b79405a",
   "metadata": {},
   "outputs": [],
   "source": [
    "search_btn.click()"
   ]
  },
  {
   "cell_type": "code",
   "execution_count": 265,
   "id": "1f26ba2c",
   "metadata": {},
   "outputs": [],
   "source": [
    "url  =  'https://www.flipkart.com/apple-iphone-11-black-128-gb/p/itm8244e8d955aba?pid=MOBFWQ6BKRYBP5X8&lid=LSTMOBFWQ6BKRYBP5X8X0KYUG&marketplace=FLIPKART&q=iphone+11&store=tyy%2F4io&srno=s_1_2&otracker=search&otracker1=search&iid=bd8bdfa4-c90e-4e51-bd78-5a9a94a2e9c1.MOBFWQ6BKRYBP5X8.SEARCH&ssid=198kw3sv0g0000001657684339850&qH=f6cdfdaa9f3c23f3'\n",
    "driver.get(url)"
   ]
  },
  {
   "cell_type": "code",
   "execution_count": 266,
   "id": "fa907124",
   "metadata": {},
   "outputs": [
    {
     "data": {
      "text/plain": [
       "[<selenium.webdriver.remote.webelement.WebElement (session=\"ae584f53bec94a78337be85058e5c31e\", element=\"2d71651b-6af4-4722-97af-7a3d0dfbf289\")>]"
      ]
     },
     "execution_count": 266,
     "metadata": {},
     "output_type": "execute_result"
    }
   ],
   "source": [
    "iphone_title  =  driver.find_elements(\"xpath\",'//h1[@class=\"yhB1nd\"]')\n",
    "iphone_title"
   ]
  },
  {
   "cell_type": "code",
   "execution_count": 267,
   "id": "11213aaf",
   "metadata": {},
   "outputs": [
    {
     "data": {
      "text/plain": [
       "1"
      ]
     },
     "execution_count": 267,
     "metadata": {},
     "output_type": "execute_result"
    }
   ],
   "source": [
    "iphone  =  []\n",
    "\n",
    "for i in iphone_title:\n",
    "    iphone.append(i.text)\n",
    "len(iphone)    \n"
   ]
  },
  {
   "cell_type": "code",
   "execution_count": 268,
   "id": "cd0ff0c8",
   "metadata": {},
   "outputs": [
    {
     "data": {
      "text/plain": [
       "['APPLE iPhone 11 (Black, 128 GB)']"
      ]
     },
     "execution_count": 268,
     "metadata": {},
     "output_type": "execute_result"
    }
   ],
   "source": [
    "iphone"
   ]
  },
  {
   "cell_type": "code",
   "execution_count": 269,
   "id": "3c3f2ef1",
   "metadata": {},
   "outputs": [
    {
     "data": {
      "text/plain": [
       "10"
      ]
     },
     "execution_count": 269,
     "metadata": {},
     "output_type": "execute_result"
    }
   ],
   "source": [
    "rating  =  driver.find_elements(\"xpath\",'//div[@class=\"_3LWZlK _1BLPMq\"]')\n",
    "len(rating)"
   ]
  },
  {
   "cell_type": "code",
   "execution_count": 270,
   "id": "e0fa5632",
   "metadata": {},
   "outputs": [
    {
     "data": {
      "text/plain": [
       "10"
      ]
     },
     "execution_count": 270,
     "metadata": {},
     "output_type": "execute_result"
    }
   ],
   "source": [
    "ratings  =  []\n",
    "\n",
    "for i in rating:\n",
    "    ratings.append(i.text)\n",
    "len(ratings)    "
   ]
  },
  {
   "cell_type": "code",
   "execution_count": 271,
   "id": "2d113132",
   "metadata": {},
   "outputs": [
    {
     "data": {
      "text/plain": [
       "['5', '5', '5', '', '', '', '', '', '', '']"
      ]
     },
     "execution_count": 271,
     "metadata": {},
     "output_type": "execute_result"
    }
   ],
   "source": [
    "ratings"
   ]
  },
  {
   "cell_type": "code",
   "execution_count": 272,
   "id": "a40f4576",
   "metadata": {},
   "outputs": [
    {
     "data": {
      "text/plain": [
       "10"
      ]
     },
     "execution_count": 272,
     "metadata": {},
     "output_type": "execute_result"
    }
   ],
   "source": [
    "review  =  driver.find_elements(\"xpath\",'//p[@class=\"_2-N8zT\"]')\n",
    "len(review)"
   ]
  },
  {
   "cell_type": "code",
   "execution_count": 274,
   "id": "2cbd3d39",
   "metadata": {},
   "outputs": [
    {
     "data": {
      "text/plain": [
       "10"
      ]
     },
     "execution_count": 274,
     "metadata": {},
     "output_type": "execute_result"
    }
   ],
   "source": [
    "review_summary  =  []\n",
    "\n",
    "for i in review:\n",
    "    review_summary.append(i.text)\n",
    "len(review_summary)    "
   ]
  },
  {
   "cell_type": "code",
   "execution_count": 275,
   "id": "c8017fd6",
   "metadata": {},
   "outputs": [
    {
     "data": {
      "text/plain": [
       "['Simply awesome',\n",
       " 'Perfect product!',\n",
       " 'Best in the market!',\n",
       " '',\n",
       " '',\n",
       " '',\n",
       " '',\n",
       " '',\n",
       " '',\n",
       " '']"
      ]
     },
     "execution_count": 275,
     "metadata": {},
     "output_type": "execute_result"
    }
   ],
   "source": [
    "review_summary"
   ]
  },
  {
   "cell_type": "code",
   "execution_count": 276,
   "id": "244dde8d",
   "metadata": {},
   "outputs": [
    {
     "data": {
      "text/plain": [
       "10"
      ]
     },
     "execution_count": 276,
     "metadata": {},
     "output_type": "execute_result"
    }
   ],
   "source": [
    "full_review =  driver.find_elements(\"xpath\",'//div[@class=\"t-ZTKy\"]')\n",
    "len(full_review)"
   ]
  },
  {
   "cell_type": "code",
   "execution_count": 277,
   "id": "934ccfcf",
   "metadata": {},
   "outputs": [
    {
     "data": {
      "text/plain": [
       "[<selenium.webdriver.remote.webelement.WebElement (session=\"ae584f53bec94a78337be85058e5c31e\", element=\"69e73bd6-634e-429c-b33d-1714a8870ad9\")>,\n",
       " <selenium.webdriver.remote.webelement.WebElement (session=\"ae584f53bec94a78337be85058e5c31e\", element=\"97c9f25b-8309-4f1e-a671-8a5697b89f7a\")>,\n",
       " <selenium.webdriver.remote.webelement.WebElement (session=\"ae584f53bec94a78337be85058e5c31e\", element=\"0a1cffd7-c423-45cd-a2d7-bf6e134e0db8\")>,\n",
       " <selenium.webdriver.remote.webelement.WebElement (session=\"ae584f53bec94a78337be85058e5c31e\", element=\"eafc5816-8d73-44a1-ad1e-4a0d7fc5fca8\")>,\n",
       " <selenium.webdriver.remote.webelement.WebElement (session=\"ae584f53bec94a78337be85058e5c31e\", element=\"b14888b3-93ab-4738-8168-e1141919650d\")>,\n",
       " <selenium.webdriver.remote.webelement.WebElement (session=\"ae584f53bec94a78337be85058e5c31e\", element=\"13524ec0-692b-4f7a-91a5-647d3c9818fd\")>,\n",
       " <selenium.webdriver.remote.webelement.WebElement (session=\"ae584f53bec94a78337be85058e5c31e\", element=\"bbbbfbd4-bb3d-4700-b5f9-e9b64e251ea0\")>,\n",
       " <selenium.webdriver.remote.webelement.WebElement (session=\"ae584f53bec94a78337be85058e5c31e\", element=\"e4978e52-2088-4275-b750-e69fa447b4a6\")>,\n",
       " <selenium.webdriver.remote.webelement.WebElement (session=\"ae584f53bec94a78337be85058e5c31e\", element=\"336e71e7-475c-47ed-bf15-26986e711b9c\")>,\n",
       " <selenium.webdriver.remote.webelement.WebElement (session=\"ae584f53bec94a78337be85058e5c31e\", element=\"cd471db0-7b20-47fb-80f9-724697b96cab\")>]"
      ]
     },
     "execution_count": 277,
     "metadata": {},
     "output_type": "execute_result"
    }
   ],
   "source": [
    "full_review"
   ]
  },
  {
   "cell_type": "code",
   "execution_count": 278,
   "id": "321bccad",
   "metadata": {},
   "outputs": [
    {
     "data": {
      "text/plain": [
       "10"
      ]
     },
     "execution_count": 278,
     "metadata": {},
     "output_type": "execute_result"
    }
   ],
   "source": [
    "Full_reviews =  []\n",
    "\n",
    "for i in full_review:\n",
    "    Full_reviews.append(i.text)\n",
    "len(Full_reviews)    \n",
    "    "
   ]
  },
  {
   "cell_type": "code",
   "execution_count": 279,
   "id": "1af91dae",
   "metadata": {},
   "outputs": [
    {
     "data": {
      "text/plain": [
       "['Really satisfied with the Product I received... It’s totally genuine and the packaging was also really good so if ur planning to buy just go for it.',\n",
       " 'Amazing phone with great cameras and better battery which gives you the best performance. I just love the camera .',\n",
       " 'Great iPhone very snappy experience as apple kind. Upgraded from iPhone 7.\\nPros\\n-Camera top class\\n- Battery top performed\\n-Chipset no need to say as apple kind\\n-Security as you expect from apple\\n- Display super bright industry leading colour\\naccuracy and super responsive\\n-Build quality as expect from apple sturdy\\npremium durable beautiful stylish.\\n-Os most stable os in smartphone industry\\n\\nCons\\n-No 5G\\n-Display is not based on OLED technology\\n-Charger headphones and 1 apple stic...\\nREAD MORE',\n",
       " '',\n",
       " '',\n",
       " '',\n",
       " '',\n",
       " '',\n",
       " '',\n",
       " '']"
      ]
     },
     "execution_count": 279,
     "metadata": {},
     "output_type": "execute_result"
    }
   ],
   "source": [
    "Full_reviews"
   ]
  },
  {
   "cell_type": "code",
   "execution_count": 280,
   "id": "2e3374a5",
   "metadata": {},
   "outputs": [
    {
     "data": {
      "text/plain": [
       "(10, 10, 10)"
      ]
     },
     "execution_count": 280,
     "metadata": {},
     "output_type": "execute_result"
    }
   ],
   "source": [
    "len(ratings),len(review_summary),len(Full_reviews)"
   ]
  },
  {
   "cell_type": "code",
   "execution_count": 329,
   "id": "5cee1912",
   "metadata": {},
   "outputs": [
    {
     "data": {
      "text/html": [
       "<div>\n",
       "<style scoped>\n",
       "    .dataframe tbody tr th:only-of-type {\n",
       "        vertical-align: middle;\n",
       "    }\n",
       "\n",
       "    .dataframe tbody tr th {\n",
       "        vertical-align: top;\n",
       "    }\n",
       "\n",
       "    .dataframe thead th {\n",
       "        text-align: right;\n",
       "    }\n",
       "</style>\n",
       "<table border=\"1\" class=\"dataframe\">\n",
       "  <thead>\n",
       "    <tr style=\"text-align: right;\">\n",
       "      <th></th>\n",
       "      <th>Rating</th>\n",
       "      <th>Review Summary</th>\n",
       "      <th>Full Review</th>\n",
       "    </tr>\n",
       "  </thead>\n",
       "  <tbody>\n",
       "    <tr>\n",
       "      <th>0</th>\n",
       "      <td>5</td>\n",
       "      <td>Simply awesome</td>\n",
       "      <td>Really satisfied with the Product I received.....</td>\n",
       "    </tr>\n",
       "    <tr>\n",
       "      <th>1</th>\n",
       "      <td>5</td>\n",
       "      <td>Perfect product!</td>\n",
       "      <td>Amazing phone with great cameras and better ba...</td>\n",
       "    </tr>\n",
       "    <tr>\n",
       "      <th>2</th>\n",
       "      <td>5</td>\n",
       "      <td>Best in the market!</td>\n",
       "      <td>Great iPhone very snappy experience as apple k...</td>\n",
       "    </tr>\n",
       "  </tbody>\n",
       "</table>\n",
       "</div>"
      ],
      "text/plain": [
       "  Rating       Review Summary  \\\n",
       "0      5       Simply awesome   \n",
       "1      5     Perfect product!   \n",
       "2      5  Best in the market!   \n",
       "\n",
       "                                         Full Review  \n",
       "0  Really satisfied with the Product I received.....  \n",
       "1  Amazing phone with great cameras and better ba...  \n",
       "2  Great iPhone very snappy experience as apple k...  "
      ]
     },
     "execution_count": 329,
     "metadata": {},
     "output_type": "execute_result"
    }
   ],
   "source": [
    "df =  pd.DataFrame()\n",
    "df['Rating'] = ratings\n",
    "df['Review Summary'] = review_summary\n",
    "df['Full Review'] = Full_reviews\n",
    "df[0:3]"
   ]
  },
  {
   "cell_type": "code",
   "execution_count": 302,
   "id": "b61dcc7c",
   "metadata": {},
   "outputs": [],
   "source": [
    "url  =  'https://www.flipkart.com/apple-iphone-11-white-128-gb/p/itme32df47ea6742?pid=MOBFWQ6B7KKRXDDS&lid=LSTMOBFWQ6B7KKRXDDSUPVRTR&marketplace=FLIPKART&q=iphone+11&store=tyy%2F4io&srno=s_1_1&otracker=search&otracker1=search&iid=bd8bdfa4-c90e-4e51-bd78-5a9a94a2e9c1.MOBFWQ6B7KKRXDDS.SEARCH&ssid=k4fa5xb5ps0000001657703122327&qH=f6cdfdaa9f3c23f3'\n",
    "driver.get(url)"
   ]
  },
  {
   "cell_type": "code",
   "execution_count": 303,
   "id": "105901b2",
   "metadata": {},
   "outputs": [
    {
     "data": {
      "text/plain": [
       "[<selenium.webdriver.remote.webelement.WebElement (session=\"ae584f53bec94a78337be85058e5c31e\", element=\"70a33deb-a924-4cd4-b5b1-3eb60910aebb\")>]"
      ]
     },
     "execution_count": 303,
     "metadata": {},
     "output_type": "execute_result"
    }
   ],
   "source": [
    "iphone_title  =  driver.find_elements(\"xpath\",'//h1[@class=\"yhB1nd\"]')\n",
    "iphone_title"
   ]
  },
  {
   "cell_type": "code",
   "execution_count": 304,
   "id": "7453af04",
   "metadata": {},
   "outputs": [
    {
     "data": {
      "text/plain": [
       "1"
      ]
     },
     "execution_count": 304,
     "metadata": {},
     "output_type": "execute_result"
    }
   ],
   "source": [
    "iphone  =  []\n",
    "\n",
    "for i in iphone_title:\n",
    "    iphone.append(i.text)\n",
    "len(iphone)    "
   ]
  },
  {
   "cell_type": "code",
   "execution_count": 305,
   "id": "a4ff15cd",
   "metadata": {},
   "outputs": [
    {
     "data": {
      "text/plain": [
       "['APPLE iPhone 11 (White, 128 GB)']"
      ]
     },
     "execution_count": 305,
     "metadata": {},
     "output_type": "execute_result"
    }
   ],
   "source": [
    "iphone"
   ]
  },
  {
   "cell_type": "code",
   "execution_count": 307,
   "id": "08601e4f",
   "metadata": {},
   "outputs": [
    {
     "data": {
      "text/plain": [
       "10"
      ]
     },
     "execution_count": 307,
     "metadata": {},
     "output_type": "execute_result"
    }
   ],
   "source": [
    "rating  =  driver.find_elements(\"xpath\",'//div[@class=\"_3LWZlK _1BLPMq\"]')\n",
    "len(rating)"
   ]
  },
  {
   "cell_type": "code",
   "execution_count": 308,
   "id": "37f09db8",
   "metadata": {},
   "outputs": [
    {
     "data": {
      "text/plain": [
       "10"
      ]
     },
     "execution_count": 308,
     "metadata": {},
     "output_type": "execute_result"
    }
   ],
   "source": [
    "ratings = []\n",
    "\n",
    "for i in rating:\n",
    "    ratings.append(i.text)\n",
    "len(ratings)    "
   ]
  },
  {
   "cell_type": "code",
   "execution_count": 309,
   "id": "a8193c09",
   "metadata": {},
   "outputs": [
    {
     "data": {
      "text/plain": [
       "['5', '5', '5', '', '', '', '', '', '', '']"
      ]
     },
     "execution_count": 309,
     "metadata": {},
     "output_type": "execute_result"
    }
   ],
   "source": [
    "ratings"
   ]
  },
  {
   "cell_type": "code",
   "execution_count": 310,
   "id": "f89c8ac9",
   "metadata": {},
   "outputs": [
    {
     "data": {
      "text/plain": [
       "10"
      ]
     },
     "execution_count": 310,
     "metadata": {},
     "output_type": "execute_result"
    }
   ],
   "source": [
    "review = driver.find_elements(\"xpath\",'//p[@class=\"_2-N8zT\"]')\n",
    "len(review)"
   ]
  },
  {
   "cell_type": "code",
   "execution_count": 311,
   "id": "d2894fb7",
   "metadata": {},
   "outputs": [
    {
     "data": {
      "text/plain": [
       "10"
      ]
     },
     "execution_count": 311,
     "metadata": {},
     "output_type": "execute_result"
    }
   ],
   "source": [
    "review_summary  =  []\n",
    "\n",
    "for i in review:\n",
    "    review_summary.append(i.text)\n",
    "len(review_summary)    "
   ]
  },
  {
   "cell_type": "code",
   "execution_count": 312,
   "id": "feba03e5",
   "metadata": {},
   "outputs": [
    {
     "data": {
      "text/plain": [
       "['Simply awesome',\n",
       " 'Perfect product!',\n",
       " 'Best in the market!',\n",
       " '',\n",
       " '',\n",
       " '',\n",
       " '',\n",
       " '',\n",
       " '',\n",
       " '']"
      ]
     },
     "execution_count": 312,
     "metadata": {},
     "output_type": "execute_result"
    }
   ],
   "source": [
    "review_summary"
   ]
  },
  {
   "cell_type": "code",
   "execution_count": 313,
   "id": "87300390",
   "metadata": {},
   "outputs": [
    {
     "data": {
      "text/plain": [
       "10"
      ]
     },
     "execution_count": 313,
     "metadata": {},
     "output_type": "execute_result"
    }
   ],
   "source": [
    "full_reviews  =  driver.find_elements(\"xpath\",'//div[@class=\"t-ZTKy\"]')\n",
    "len(full_reviews)"
   ]
  },
  {
   "cell_type": "code",
   "execution_count": 314,
   "id": "c1219e7e",
   "metadata": {},
   "outputs": [
    {
     "data": {
      "text/plain": [
       "10"
      ]
     },
     "execution_count": 314,
     "metadata": {},
     "output_type": "execute_result"
    }
   ],
   "source": [
    "full_review = []\n",
    "\n",
    "for i in full_reviews:\n",
    "    full_review.append(i.text)\n",
    "len(full_review)    "
   ]
  },
  {
   "cell_type": "code",
   "execution_count": 315,
   "id": "f32d3d84",
   "metadata": {},
   "outputs": [
    {
     "data": {
      "text/plain": [
       "['Really satisfied with the Product I received... It’s totally genuine and the packaging was also really good so if ur planning to buy just go for it.',\n",
       " 'Amazing phone with great cameras and better battery which gives you the best performance. I just love the camera .',\n",
       " 'Great iPhone very snappy experience as apple kind. Upgraded from iPhone 7.\\nPros\\n-Camera top class\\n- Battery top performed\\n-Chipset no need to say as apple kind\\n-Security as you expect from apple\\n- Display super bright industry leading colour\\naccuracy and super responsive\\n-Build quality as expect from apple sturdy\\npremium durable beautiful stylish.\\n-Os most stable os in smartphone industry\\n\\nCons\\n-No 5G\\n-Display is not based on OLED technology\\n-Charger headphones and 1 apple stic...\\nREAD MORE',\n",
       " '',\n",
       " '',\n",
       " '',\n",
       " '',\n",
       " '',\n",
       " '',\n",
       " '']"
      ]
     },
     "execution_count": 315,
     "metadata": {},
     "output_type": "execute_result"
    }
   ],
   "source": [
    "full_review"
   ]
  },
  {
   "cell_type": "code",
   "execution_count": 316,
   "id": "a295beeb",
   "metadata": {},
   "outputs": [
    {
     "data": {
      "text/plain": [
       "(10, 10, 10)"
      ]
     },
     "execution_count": 316,
     "metadata": {},
     "output_type": "execute_result"
    }
   ],
   "source": [
    "len(ratings),len(review_summary),len(full_review)"
   ]
  },
  {
   "cell_type": "code",
   "execution_count": 328,
   "id": "1ca1251c",
   "metadata": {},
   "outputs": [
    {
     "data": {
      "text/html": [
       "<div>\n",
       "<style scoped>\n",
       "    .dataframe tbody tr th:only-of-type {\n",
       "        vertical-align: middle;\n",
       "    }\n",
       "\n",
       "    .dataframe tbody tr th {\n",
       "        vertical-align: top;\n",
       "    }\n",
       "\n",
       "    .dataframe thead th {\n",
       "        text-align: right;\n",
       "    }\n",
       "</style>\n",
       "<table border=\"1\" class=\"dataframe\">\n",
       "  <thead>\n",
       "    <tr style=\"text-align: right;\">\n",
       "      <th></th>\n",
       "      <th>Rating</th>\n",
       "      <th>Review Summary</th>\n",
       "      <th>Full Review</th>\n",
       "    </tr>\n",
       "  </thead>\n",
       "  <tbody>\n",
       "    <tr>\n",
       "      <th>0</th>\n",
       "      <td>5</td>\n",
       "      <td>Simply awesome</td>\n",
       "      <td>Really satisfied with the Product I received.....</td>\n",
       "    </tr>\n",
       "    <tr>\n",
       "      <th>1</th>\n",
       "      <td>5</td>\n",
       "      <td>Perfect product!</td>\n",
       "      <td>Amazing phone with great cameras and better ba...</td>\n",
       "    </tr>\n",
       "    <tr>\n",
       "      <th>2</th>\n",
       "      <td>5</td>\n",
       "      <td>Best in the market!</td>\n",
       "      <td>Great iPhone very snappy experience as apple k...</td>\n",
       "    </tr>\n",
       "  </tbody>\n",
       "</table>\n",
       "</div>"
      ],
      "text/plain": [
       "  Rating       Review Summary  \\\n",
       "0      5       Simply awesome   \n",
       "1      5     Perfect product!   \n",
       "2      5  Best in the market!   \n",
       "\n",
       "                                         Full Review  \n",
       "0  Really satisfied with the Product I received.....  \n",
       "1  Amazing phone with great cameras and better ba...  \n",
       "2  Great iPhone very snappy experience as apple k...  "
      ]
     },
     "execution_count": 328,
     "metadata": {},
     "output_type": "execute_result"
    }
   ],
   "source": [
    "df =  pd.DataFrame()\n",
    "df['Rating'] = ratings\n",
    "df['Review Summary'] = review_summary\n",
    "df['Full Review'] = full_review\n",
    "df[0:3]"
   ]
  },
  {
   "cell_type": "code",
   "execution_count": 321,
   "id": "c628b6cb",
   "metadata": {},
   "outputs": [],
   "source": [
    "url  =  'https://www.flipkart.com/search?q=iphone+11&otracker=search&otracker1=search&marketplace=FLIPKART&as-show=on&as=off&as-pos=1&as-type=HISTORY'\n",
    "driver.get(url)"
   ]
  },
  {
   "cell_type": "code",
   "execution_count": 322,
   "id": "0bf8b841",
   "metadata": {},
   "outputs": [
    {
     "data": {
      "text/plain": [
       "24"
      ]
     },
     "execution_count": 322,
     "metadata": {},
     "output_type": "execute_result"
    }
   ],
   "source": [
    "iphone_list  =  driver.find_elements(\"xpath\",'//div[@class=\"_4rR01T\"]')\n",
    "len(iphone_list)"
   ]
  },
  {
   "cell_type": "code",
   "execution_count": 326,
   "id": "e6ca47a3",
   "metadata": {},
   "outputs": [
    {
     "data": {
      "text/plain": [
       "24"
      ]
     },
     "execution_count": 326,
     "metadata": {},
     "output_type": "execute_result"
    }
   ],
   "source": [
    "iphone_lists=[]\n",
    "\n",
    "for i in iphone_list:\n",
    "    iphone_lists.append(i.text)\n",
    "len(iphone_lists)    "
   ]
  },
  {
   "cell_type": "code",
   "execution_count": 327,
   "id": "99637bb0",
   "metadata": {},
   "outputs": [
    {
     "data": {
      "text/plain": [
       "['APPLE iPhone 11 (White, 128 GB)',\n",
       " 'APPLE iPhone 11 (Purple, 128 GB)',\n",
       " 'APPLE iPhone 11 (Black, 128 GB)',\n",
       " 'APPLE iPhone 11 (Black, 64 GB)',\n",
       " 'APPLE iPhone 11 (White, 64 GB)',\n",
       " 'APPLE iPhone 11 (Green, 64 GB)',\n",
       " 'APPLE iPhone 11 (Green, 128 GB)',\n",
       " 'APPLE iPhone 11 (Red, 64 GB)',\n",
       " 'APPLE iPhone 11 (Purple, 64 GB)',\n",
       " 'APPLE iPhone 11 (Yellow, 64 GB)',\n",
       " 'APPLE iPhone 11 (Red, 128 GB)',\n",
       " 'APPLE iPhone 11 (Yellow, 128 GB)',\n",
       " 'APPLE iPhone 6 (Gold, 32 GB)',\n",
       " 'Apple iPhone 11 (White, 64 GB) (Includes EarPods, Power Adapter)',\n",
       " 'Apple iPhone 11 (Yellow, 128 GB) (Includes EarPods, Power Adapter)',\n",
       " 'Apple iPhone 11 (Black, 64 GB) (Includes EarPods, Power Adapter)',\n",
       " 'APPLE iPhone 11 (Green, 256 GB)',\n",
       " 'Apple iPhone 11 (Yellow, 64 GB) (Includes EarPods, Power Adapter)',\n",
       " 'Apple iPhone 11 (Red, 256 GB) (Includes EarPods, Power Adapter)',\n",
       " 'Apple iPhone 11 (Green, 64 GB) (Includes EarPods, Power Adapter)',\n",
       " 'Apple iPhone 11 (Red, 64 GB) (Includes EarPods, Power Adapter)',\n",
       " 'Apple iPhone 11 (Red, 128 GB) (Includes EarPods, Power Adapter)',\n",
       " 'Apple iPhone 11 (Purple, 64 GB) (Includes EarPods, Power Adapter)',\n",
       " 'Apple iPhone 11 (White, 256 GB) (Includes EarPods, Power Adapter)']"
      ]
     },
     "execution_count": 327,
     "metadata": {},
     "output_type": "execute_result"
    }
   ],
   "source": [
    "iphone_lists"
   ]
  },
  {
   "cell_type": "code",
   "execution_count": null,
   "id": "55c65574",
   "metadata": {},
   "outputs": [],
   "source": [
    "\n"
   ]
  },
  {
   "cell_type": "code",
   "execution_count": null,
   "id": "504f2090",
   "metadata": {},
   "outputs": [],
   "source": []
  },
  {
   "cell_type": "markdown",
   "id": "f061e280",
   "metadata": {},
   "source": [
    "Q6: Scrape data for first 100 sneakers you find when you visit flipkart.com and search for “sneakers” in the\n",
    "search field.\n",
    "You have to scrape 4 attributes of each sneaker:\n",
    "1. Brand\n",
    "2. Product Description\n",
    "3. Price\n"
   ]
  },
  {
   "cell_type": "code",
   "execution_count": 336,
   "id": "6012bf03",
   "metadata": {},
   "outputs": [],
   "source": [
    "driver  =  webdriver.Chrome(r'C:\\Users\\user\\Downloads\\chromedriver_win32 (1)\\chromedriver.exe')"
   ]
  },
  {
   "cell_type": "code",
   "execution_count": 338,
   "id": "10a00f53",
   "metadata": {},
   "outputs": [],
   "source": [
    "url  =   'https://www.flipkart.com/'\n",
    "driver.get(url)"
   ]
  },
  {
   "cell_type": "code",
   "execution_count": 339,
   "id": "62ca8480",
   "metadata": {},
   "outputs": [
    {
     "data": {
      "text/plain": [
       "<selenium.webdriver.remote.webelement.WebElement (session=\"b18267a3a7c71774b160a88f4dd5763e\", element=\"5b4118f9-2d5d-4a73-a529-624dfbcaefce\")>"
      ]
     },
     "execution_count": 339,
     "metadata": {},
     "output_type": "execute_result"
    }
   ],
   "source": [
    "search_for_products = driver.find_element(\"xpath\",'/html/body/div[1]/div/div[1]/div[1]/div[2]/div[2]/form/div/div/input')\n",
    "search_for_products"
   ]
  },
  {
   "cell_type": "code",
   "execution_count": 341,
   "id": "7eae98ae",
   "metadata": {},
   "outputs": [],
   "source": [
    "search_for_products.send_keys('sneakers')"
   ]
  },
  {
   "cell_type": "code",
   "execution_count": 342,
   "id": "e276d335",
   "metadata": {},
   "outputs": [
    {
     "data": {
      "text/plain": [
       "<selenium.webdriver.remote.webelement.WebElement (session=\"b18267a3a7c71774b160a88f4dd5763e\", element=\"1fbef18f-180c-4e87-ba22-c8805e24ba05\")>"
      ]
     },
     "execution_count": 342,
     "metadata": {},
     "output_type": "execute_result"
    }
   ],
   "source": [
    "search_btn  =  driver.find_element(\"xpath\",'/html/body/div[1]/div/div[1]/div[1]/div[2]/div[2]/form/div/button')\n",
    "search_btn"
   ]
  },
  {
   "cell_type": "code",
   "execution_count": 343,
   "id": "5174c4a2",
   "metadata": {},
   "outputs": [],
   "source": [
    "search_btn.click()"
   ]
  },
  {
   "cell_type": "code",
   "execution_count": 344,
   "id": "27a2353e",
   "metadata": {},
   "outputs": [
    {
     "data": {
      "text/plain": [
       "40"
      ]
     },
     "execution_count": 344,
     "metadata": {},
     "output_type": "execute_result"
    }
   ],
   "source": [
    "brand  =  driver.find_elements(\"xpath\",'//div[@class=\"_2WkVRV\"]')\n",
    "len(brand)"
   ]
  },
  {
   "cell_type": "code",
   "execution_count": 345,
   "id": "13a5cb81",
   "metadata": {},
   "outputs": [
    {
     "data": {
      "text/plain": [
       "40"
      ]
     },
     "execution_count": 345,
     "metadata": {},
     "output_type": "execute_result"
    }
   ],
   "source": [
    "brands = []\n",
    "\n",
    "for i in brand:\n",
    "    brands.append(i.text)\n",
    "len(brands)    "
   ]
  },
  {
   "cell_type": "code",
   "execution_count": 351,
   "id": "2a330637",
   "metadata": {},
   "outputs": [
    {
     "data": {
      "text/plain": [
       "['WOODLAND',\n",
       " 'BRUTON',\n",
       " 'BRUTON',\n",
       " 'Labbin',\n",
       " 'URBANBOX',\n",
       " 'Magnolia',\n",
       " 'BIRDE',\n",
       " 'aadi',\n",
       " 'BIRDE',\n",
       " 'BIRDE',\n",
       " 'SFR',\n",
       " 'PUMA',\n",
       " 'Chevit',\n",
       " 'KWIK FIT',\n",
       " 'ONECENTRE',\n",
       " 'HOTSTYLE',\n",
       " 'corsac',\n",
       " 'ASTEROID',\n",
       " 'CLYMB',\n",
       " 'BRUTON',\n",
       " 'Noztile',\n",
       " 'Kraasa',\n",
       " 'SCATCHITE',\n",
       " 'BIRDE',\n",
       " 'Kraasa',\n",
       " 'Kzaara',\n",
       " 'PEXLO',\n",
       " 'PUMA',\n",
       " 'Layasa',\n",
       " 'Kraasa',\n",
       " 'PUMA',\n",
       " 'D-SNEAKERZ',\n",
       " 'Robbie jones',\n",
       " 'BRUTON',\n",
       " 'aadi',\n",
       " 'Rzisbo',\n",
       " 'BRUTON',\n",
       " 'KNIGHT WALKERS',\n",
       " 'Dizzler',\n",
       " 'DUKE']"
      ]
     },
     "execution_count": 351,
     "metadata": {},
     "output_type": "execute_result"
    }
   ],
   "source": [
    "brands"
   ]
  },
  {
   "cell_type": "code",
   "execution_count": 352,
   "id": "334d0524",
   "metadata": {},
   "outputs": [
    {
     "data": {
      "text/plain": [
       "38"
      ]
     },
     "execution_count": 352,
     "metadata": {},
     "output_type": "execute_result"
    }
   ],
   "source": [
    "product  =  driver.find_elements(\"xpath\",'//a[@class=\"IRpwTa\"]')\n",
    "len(product)"
   ]
  },
  {
   "cell_type": "code",
   "execution_count": 353,
   "id": "72b08c4b",
   "metadata": {},
   "outputs": [
    {
     "data": {
      "text/plain": [
       "38"
      ]
     },
     "execution_count": 353,
     "metadata": {},
     "output_type": "execute_result"
    }
   ],
   "source": [
    "product_description = []\n",
    "\n",
    "for i in product:\n",
    "    product_description.append(i.text)\n",
    "len(product_description)    "
   ]
  },
  {
   "cell_type": "code",
   "execution_count": 354,
   "id": "b0edb0a5",
   "metadata": {},
   "outputs": [
    {
     "data": {
      "text/plain": [
       "['Sneakers For Men',\n",
       " 'Modern Trendy Sneakers Shoes Sneakers For Men',\n",
       " 'Modern Trendy Sneakers Shoes Sneakers For Men',\n",
       " 'Sneakers For Men',\n",
       " 'Sneakers For Men',\n",
       " 'Stylish Comfortable Lightweight, Breathable Walking Sho...',\n",
       " 'Sneakers For Men',\n",
       " 'Stylish Comfortable Lightweight, Breathable Walking Sho...',\n",
       " 'Sports Running Shoes Sneakers For Men',\n",
       " 'Sneakers For Men',\n",
       " 'Puma Smash v2 L Sneakers For Men',\n",
       " 'Kwik FIT casual sneaker shoes and partywear shoes Casua...',\n",
       " 'Super Stylish & Trendy Combo Pack of 02 Pairs Sneakers ...',\n",
       " 'STR2 Sneakers For Men',\n",
       " 'Sneakers For Men',\n",
       " 'STYLISH MENS BLACK SNEAKER Sneakers For Men',\n",
       " \"Original Luxury Branded Fashionable Men's Casual Walkin...\",\n",
       " 'Sneaker Sneakers For Men',\n",
       " 'Sneakers For Men',\n",
       " 'Sneakers For Men',\n",
       " 'Sneakers For Men',\n",
       " 'Casuals, Canvas, Partywear Sneakers For Men',\n",
       " 'Sneakers Sneakers For Men',\n",
       " 'Stylish Comfortable Lightweight, Breathable Casual Walk...',\n",
       " 'Shark-41 Sneakers For Men',\n",
       " 'Combo Pack of 3 Casual Shoes Sneakers For Men',\n",
       " 'Sneakers For Men',\n",
       " 'Puma Smash v2 L Sneakers For Men',\n",
       " 'Sneakers For Men',\n",
       " 'Series 7 Sneakers For Men',\n",
       " 'ST Activate V2 Sneakers For Men',\n",
       " \"Casual , Partywear Sneakers Shoes For Men's And Boys Wh...\",\n",
       " 'Casual Sneakers Canvas Shoes For Men Sneakers For Men',\n",
       " 'Lattest Sneakers Shoe Sneakers For Men',\n",
       " 'Lightweight Pack Of 1 Trendy Sneakers Sneakers For Men',\n",
       " 'Sneakers For Men',\n",
       " 'SS1100 Sneakers For Men',\n",
       " 'Sneakers For Men']"
      ]
     },
     "execution_count": 354,
     "metadata": {},
     "output_type": "execute_result"
    }
   ],
   "source": [
    "product_description"
   ]
  },
  {
   "cell_type": "code",
   "execution_count": 355,
   "id": "e2e3075c",
   "metadata": {},
   "outputs": [
    {
     "data": {
      "text/plain": [
       "40"
      ]
     },
     "execution_count": 355,
     "metadata": {},
     "output_type": "execute_result"
    }
   ],
   "source": [
    "price  =  driver.find_elements(\"xpath\",'//div[@class=\"_30jeq3\"]')\n",
    "len(price)"
   ]
  },
  {
   "cell_type": "code",
   "execution_count": 356,
   "id": "acdc7d8f",
   "metadata": {},
   "outputs": [
    {
     "data": {
      "text/plain": [
       "40"
      ]
     },
     "execution_count": 356,
     "metadata": {},
     "output_type": "execute_result"
    }
   ],
   "source": [
    "price_of_product = []\n",
    "\n",
    "for i in price:\n",
    "    price_of_product.append(i.text)\n",
    "len(price_of_product)    "
   ]
  },
  {
   "cell_type": "code",
   "execution_count": 357,
   "id": "4daf4491",
   "metadata": {},
   "outputs": [
    {
     "data": {
      "text/plain": [
       "['₹2,096',\n",
       " '₹284',\n",
       " '₹299',\n",
       " '₹499',\n",
       " '₹178',\n",
       " '₹449',\n",
       " '₹378',\n",
       " '₹319',\n",
       " '₹335',\n",
       " '₹249',\n",
       " '₹289',\n",
       " '₹1,763',\n",
       " '₹397',\n",
       " '₹649',\n",
       " '₹299',\n",
       " '₹284',\n",
       " '₹499',\n",
       " '₹474',\n",
       " '₹284',\n",
       " '₹579',\n",
       " '₹299',\n",
       " '₹399',\n",
       " '₹479',\n",
       " '₹399',\n",
       " '₹335',\n",
       " '₹479',\n",
       " '₹707',\n",
       " '₹259',\n",
       " '₹1,982',\n",
       " '₹499',\n",
       " '₹479',\n",
       " '₹1,749',\n",
       " '₹299',\n",
       " '₹499',\n",
       " '₹269',\n",
       " '₹199',\n",
       " '₹464',\n",
       " '₹699',\n",
       " '₹449',\n",
       " '₹1,318']"
      ]
     },
     "execution_count": 357,
     "metadata": {},
     "output_type": "execute_result"
    }
   ],
   "source": [
    "price_of_product"
   ]
  },
  {
   "cell_type": "code",
   "execution_count": 358,
   "id": "5a1a9d95",
   "metadata": {},
   "outputs": [
    {
     "data": {
      "text/plain": [
       "40"
      ]
     },
     "execution_count": 358,
     "metadata": {},
     "output_type": "execute_result"
    }
   ],
   "source": [
    "discount  = driver.find_elements(\"xpath\",'//div[@class=\"_3Ay6Sb\"]')\n",
    "len(discount)"
   ]
  },
  {
   "cell_type": "code",
   "execution_count": 360,
   "id": "5da18cb5",
   "metadata": {},
   "outputs": [
    {
     "data": {
      "text/plain": [
       "['25% off',\n",
       " '78% off',\n",
       " '76% off',\n",
       " '50% off',\n",
       " '82% off',\n",
       " '55% off',\n",
       " '62% off',\n",
       " '68% off',\n",
       " '66% off',\n",
       " '75% off',\n",
       " '71% off',\n",
       " '49% off',\n",
       " '80% off',\n",
       " '65% off',\n",
       " '52% off',\n",
       " '71% off',\n",
       " '66% off',\n",
       " '76% off',\n",
       " '78% off',\n",
       " '61% off',\n",
       " '70% off',\n",
       " '80% off',\n",
       " '52% off',\n",
       " '60% off',\n",
       " '66% off',\n",
       " '52% off',\n",
       " '52% off',\n",
       " '74% off',\n",
       " '43% off',\n",
       " '50% off',\n",
       " '52% off',\n",
       " '50% off',\n",
       " '54% off',\n",
       " '50% off',\n",
       " '79% off',\n",
       " '66% off',\n",
       " '53% off',\n",
       " '65% off',\n",
       " '37% off',\n",
       " '60% off']"
      ]
     },
     "execution_count": 360,
     "metadata": {},
     "output_type": "execute_result"
    }
   ],
   "source": [
    "discounts=[]\n",
    "for i in discount:\n",
    "    discounts.append(i.text)\n",
    "discounts   "
   ]
  },
  {
   "cell_type": "code",
   "execution_count": 361,
   "id": "abab5550",
   "metadata": {},
   "outputs": [
    {
     "data": {
      "text/plain": [
       "(40, 38, 40, 40)"
      ]
     },
     "execution_count": 361,
     "metadata": {},
     "output_type": "execute_result"
    }
   ],
   "source": [
    "len(brands),len(product_description),len(price),len(discounts)"
   ]
  },
  {
   "cell_type": "code",
   "execution_count": 398,
   "id": "ea0156ef",
   "metadata": {},
   "outputs": [
    {
     "data": {
      "text/html": [
       "<div>\n",
       "<style scoped>\n",
       "    .dataframe tbody tr th:only-of-type {\n",
       "        vertical-align: middle;\n",
       "    }\n",
       "\n",
       "    .dataframe tbody tr th {\n",
       "        vertical-align: top;\n",
       "    }\n",
       "\n",
       "    .dataframe thead th {\n",
       "        text-align: right;\n",
       "    }\n",
       "</style>\n",
       "<table border=\"1\" class=\"dataframe\">\n",
       "  <thead>\n",
       "    <tr style=\"text-align: right;\">\n",
       "      <th></th>\n",
       "      <th>Brand</th>\n",
       "      <th>Price</th>\n",
       "      <th>Discount</th>\n",
       "    </tr>\n",
       "  </thead>\n",
       "  <tbody>\n",
       "    <tr>\n",
       "      <th>0</th>\n",
       "      <td>Xtoon</td>\n",
       "      <td>&lt;selenium.webdriver.remote.webelement.WebEleme...</td>\n",
       "      <td>50% off</td>\n",
       "    </tr>\n",
       "    <tr>\n",
       "      <th>1</th>\n",
       "      <td>ZF Klub</td>\n",
       "      <td>&lt;selenium.webdriver.remote.webelement.WebEleme...</td>\n",
       "      <td>60% off</td>\n",
       "    </tr>\n",
       "    <tr>\n",
       "      <th>2</th>\n",
       "      <td>luxury fashion</td>\n",
       "      <td>&lt;selenium.webdriver.remote.webelement.WebEleme...</td>\n",
       "      <td>78% off</td>\n",
       "    </tr>\n",
       "    <tr>\n",
       "      <th>3</th>\n",
       "      <td>PUMA</td>\n",
       "      <td>&lt;selenium.webdriver.remote.webelement.WebEleme...</td>\n",
       "      <td>50% off</td>\n",
       "    </tr>\n",
       "    <tr>\n",
       "      <th>4</th>\n",
       "      <td>Chevit</td>\n",
       "      <td>&lt;selenium.webdriver.remote.webelement.WebEleme...</td>\n",
       "      <td>67% off</td>\n",
       "    </tr>\n",
       "    <tr>\n",
       "      <th>5</th>\n",
       "      <td>RapidBox</td>\n",
       "      <td>&lt;selenium.webdriver.remote.webelement.WebEleme...</td>\n",
       "      <td>36% off</td>\n",
       "    </tr>\n",
       "    <tr>\n",
       "      <th>6</th>\n",
       "      <td>corsac</td>\n",
       "      <td>&lt;selenium.webdriver.remote.webelement.WebEleme...</td>\n",
       "      <td>64% off</td>\n",
       "    </tr>\n",
       "    <tr>\n",
       "      <th>7</th>\n",
       "      <td>PUMA</td>\n",
       "      <td>&lt;selenium.webdriver.remote.webelement.WebEleme...</td>\n",
       "      <td>40% off</td>\n",
       "    </tr>\n",
       "    <tr>\n",
       "      <th>8</th>\n",
       "      <td>DUNKASTON</td>\n",
       "      <td>&lt;selenium.webdriver.remote.webelement.WebEleme...</td>\n",
       "      <td>70% off</td>\n",
       "    </tr>\n",
       "    <tr>\n",
       "      <th>9</th>\n",
       "      <td>PUMA</td>\n",
       "      <td>&lt;selenium.webdriver.remote.webelement.WebEleme...</td>\n",
       "      <td>48% off</td>\n",
       "    </tr>\n",
       "    <tr>\n",
       "      <th>10</th>\n",
       "      <td>SPARX</td>\n",
       "      <td>&lt;selenium.webdriver.remote.webelement.WebEleme...</td>\n",
       "      <td>15% off</td>\n",
       "    </tr>\n",
       "    <tr>\n",
       "      <th>11</th>\n",
       "      <td>RapidBox</td>\n",
       "      <td>&lt;selenium.webdriver.remote.webelement.WebEleme...</td>\n",
       "      <td>40% off</td>\n",
       "    </tr>\n",
       "    <tr>\n",
       "      <th>12</th>\n",
       "      <td>Layasa</td>\n",
       "      <td>&lt;selenium.webdriver.remote.webelement.WebEleme...</td>\n",
       "      <td>50% off</td>\n",
       "    </tr>\n",
       "    <tr>\n",
       "      <th>13</th>\n",
       "      <td>Robbie jones</td>\n",
       "      <td>&lt;selenium.webdriver.remote.webelement.WebEleme...</td>\n",
       "      <td>50% off</td>\n",
       "    </tr>\n",
       "    <tr>\n",
       "      <th>14</th>\n",
       "      <td>Bata</td>\n",
       "      <td>&lt;selenium.webdriver.remote.webelement.WebEleme...</td>\n",
       "      <td>2% off</td>\n",
       "    </tr>\n",
       "    <tr>\n",
       "      <th>15</th>\n",
       "      <td>Chevit</td>\n",
       "      <td>&lt;selenium.webdriver.remote.webelement.WebEleme...</td>\n",
       "      <td>71% off</td>\n",
       "    </tr>\n",
       "    <tr>\n",
       "      <th>16</th>\n",
       "      <td>Nobelite</td>\n",
       "      <td>&lt;selenium.webdriver.remote.webelement.WebEleme...</td>\n",
       "      <td>60% off</td>\n",
       "    </tr>\n",
       "    <tr>\n",
       "      <th>17</th>\n",
       "      <td>RapidBox</td>\n",
       "      <td>&lt;selenium.webdriver.remote.webelement.WebEleme...</td>\n",
       "      <td>34% off</td>\n",
       "    </tr>\n",
       "    <tr>\n",
       "      <th>18</th>\n",
       "      <td>PUMA</td>\n",
       "      <td>&lt;selenium.webdriver.remote.webelement.WebEleme...</td>\n",
       "      <td>40% off</td>\n",
       "    </tr>\n",
       "    <tr>\n",
       "      <th>19</th>\n",
       "      <td>K' Footlance</td>\n",
       "      <td>&lt;selenium.webdriver.remote.webelement.WebEleme...</td>\n",
       "      <td>50% off</td>\n",
       "    </tr>\n",
       "    <tr>\n",
       "      <th>20</th>\n",
       "      <td>SPARX</td>\n",
       "      <td>&lt;selenium.webdriver.remote.webelement.WebEleme...</td>\n",
       "      <td>15% off</td>\n",
       "    </tr>\n",
       "    <tr>\n",
       "      <th>21</th>\n",
       "      <td>BAUCHHAAR</td>\n",
       "      <td>&lt;selenium.webdriver.remote.webelement.WebEleme...</td>\n",
       "      <td>55% off</td>\n",
       "    </tr>\n",
       "    <tr>\n",
       "      <th>22</th>\n",
       "      <td>HOTSTYLE</td>\n",
       "      <td>&lt;selenium.webdriver.remote.webelement.WebEleme...</td>\n",
       "      <td>40% off</td>\n",
       "    </tr>\n",
       "    <tr>\n",
       "      <th>23</th>\n",
       "      <td>KNIGHT WALKERS</td>\n",
       "      <td>&lt;selenium.webdriver.remote.webelement.WebEleme...</td>\n",
       "      <td>56% off</td>\n",
       "    </tr>\n",
       "    <tr>\n",
       "      <th>24</th>\n",
       "      <td>bacca bucci</td>\n",
       "      <td>&lt;selenium.webdriver.remote.webelement.WebEleme...</td>\n",
       "      <td>53% off</td>\n",
       "    </tr>\n",
       "    <tr>\n",
       "      <th>25</th>\n",
       "      <td>ASIAN</td>\n",
       "      <td>&lt;selenium.webdriver.remote.webelement.WebEleme...</td>\n",
       "      <td>37% off</td>\n",
       "    </tr>\n",
       "    <tr>\n",
       "      <th>26</th>\n",
       "      <td>BRUTON</td>\n",
       "      <td>&lt;selenium.webdriver.remote.webelement.WebEleme...</td>\n",
       "      <td>76% off</td>\n",
       "    </tr>\n",
       "    <tr>\n",
       "      <th>27</th>\n",
       "      <td>LE GREEM</td>\n",
       "      <td>&lt;selenium.webdriver.remote.webelement.WebEleme...</td>\n",
       "      <td>50% off</td>\n",
       "    </tr>\n",
       "    <tr>\n",
       "      <th>28</th>\n",
       "      <td>DUNKASTON</td>\n",
       "      <td>&lt;selenium.webdriver.remote.webelement.WebEleme...</td>\n",
       "      <td>66% off</td>\n",
       "    </tr>\n",
       "    <tr>\n",
       "      <th>29</th>\n",
       "      <td>Robbie jones</td>\n",
       "      <td>&lt;selenium.webdriver.remote.webelement.WebEleme...</td>\n",
       "      <td>50% off</td>\n",
       "    </tr>\n",
       "    <tr>\n",
       "      <th>30</th>\n",
       "      <td>Qtsy</td>\n",
       "      <td>&lt;selenium.webdriver.remote.webelement.WebEleme...</td>\n",
       "      <td>50% off</td>\n",
       "    </tr>\n",
       "    <tr>\n",
       "      <th>31</th>\n",
       "      <td>HONEY</td>\n",
       "      <td>&lt;selenium.webdriver.remote.webelement.WebEleme...</td>\n",
       "      <td>55% off</td>\n",
       "    </tr>\n",
       "    <tr>\n",
       "      <th>32</th>\n",
       "      <td>Echor</td>\n",
       "      <td>&lt;selenium.webdriver.remote.webelement.WebEleme...</td>\n",
       "      <td>46% off</td>\n",
       "    </tr>\n",
       "    <tr>\n",
       "      <th>33</th>\n",
       "      <td>PUMA</td>\n",
       "      <td>&lt;selenium.webdriver.remote.webelement.WebEleme...</td>\n",
       "      <td>40% off</td>\n",
       "    </tr>\n",
       "    <tr>\n",
       "      <th>34</th>\n",
       "      <td>HOTSTYLE</td>\n",
       "      <td>&lt;selenium.webdriver.remote.webelement.WebEleme...</td>\n",
       "      <td>41% off</td>\n",
       "    </tr>\n",
       "    <tr>\n",
       "      <th>35</th>\n",
       "      <td>BRUTON</td>\n",
       "      <td>&lt;selenium.webdriver.remote.webelement.WebEleme...</td>\n",
       "      <td>76% off</td>\n",
       "    </tr>\n",
       "    <tr>\n",
       "      <th>36</th>\n",
       "      <td>BRUTON</td>\n",
       "      <td>&lt;selenium.webdriver.remote.webelement.WebEleme...</td>\n",
       "      <td>76% off</td>\n",
       "    </tr>\n",
       "    <tr>\n",
       "      <th>37</th>\n",
       "      <td>ASIAN</td>\n",
       "      <td>&lt;selenium.webdriver.remote.webelement.WebEleme...</td>\n",
       "      <td>40% off</td>\n",
       "    </tr>\n",
       "    <tr>\n",
       "      <th>38</th>\n",
       "      <td>Bretton</td>\n",
       "      <td>&lt;selenium.webdriver.remote.webelement.WebEleme...</td>\n",
       "      <td>74% off</td>\n",
       "    </tr>\n",
       "    <tr>\n",
       "      <th>39</th>\n",
       "      <td>PUMA</td>\n",
       "      <td>&lt;selenium.webdriver.remote.webelement.WebEleme...</td>\n",
       "      <td>40% off</td>\n",
       "    </tr>\n",
       "  </tbody>\n",
       "</table>\n",
       "</div>"
      ],
      "text/plain": [
       "             Brand                                              Price Discount\n",
       "0            Xtoon  <selenium.webdriver.remote.webelement.WebEleme...  50% off\n",
       "1          ZF Klub  <selenium.webdriver.remote.webelement.WebEleme...  60% off\n",
       "2   luxury fashion  <selenium.webdriver.remote.webelement.WebEleme...  78% off\n",
       "3             PUMA  <selenium.webdriver.remote.webelement.WebEleme...  50% off\n",
       "4           Chevit  <selenium.webdriver.remote.webelement.WebEleme...  67% off\n",
       "5         RapidBox  <selenium.webdriver.remote.webelement.WebEleme...  36% off\n",
       "6           corsac  <selenium.webdriver.remote.webelement.WebEleme...  64% off\n",
       "7             PUMA  <selenium.webdriver.remote.webelement.WebEleme...  40% off\n",
       "8        DUNKASTON  <selenium.webdriver.remote.webelement.WebEleme...  70% off\n",
       "9             PUMA  <selenium.webdriver.remote.webelement.WebEleme...  48% off\n",
       "10           SPARX  <selenium.webdriver.remote.webelement.WebEleme...  15% off\n",
       "11        RapidBox  <selenium.webdriver.remote.webelement.WebEleme...  40% off\n",
       "12          Layasa  <selenium.webdriver.remote.webelement.WebEleme...  50% off\n",
       "13    Robbie jones  <selenium.webdriver.remote.webelement.WebEleme...  50% off\n",
       "14            Bata  <selenium.webdriver.remote.webelement.WebEleme...   2% off\n",
       "15          Chevit  <selenium.webdriver.remote.webelement.WebEleme...  71% off\n",
       "16        Nobelite  <selenium.webdriver.remote.webelement.WebEleme...  60% off\n",
       "17        RapidBox  <selenium.webdriver.remote.webelement.WebEleme...  34% off\n",
       "18            PUMA  <selenium.webdriver.remote.webelement.WebEleme...  40% off\n",
       "19    K' Footlance  <selenium.webdriver.remote.webelement.WebEleme...  50% off\n",
       "20           SPARX  <selenium.webdriver.remote.webelement.WebEleme...  15% off\n",
       "21       BAUCHHAAR  <selenium.webdriver.remote.webelement.WebEleme...  55% off\n",
       "22        HOTSTYLE  <selenium.webdriver.remote.webelement.WebEleme...  40% off\n",
       "23  KNIGHT WALKERS  <selenium.webdriver.remote.webelement.WebEleme...  56% off\n",
       "24     bacca bucci  <selenium.webdriver.remote.webelement.WebEleme...  53% off\n",
       "25           ASIAN  <selenium.webdriver.remote.webelement.WebEleme...  37% off\n",
       "26          BRUTON  <selenium.webdriver.remote.webelement.WebEleme...  76% off\n",
       "27        LE GREEM  <selenium.webdriver.remote.webelement.WebEleme...  50% off\n",
       "28       DUNKASTON  <selenium.webdriver.remote.webelement.WebEleme...  66% off\n",
       "29    Robbie jones  <selenium.webdriver.remote.webelement.WebEleme...  50% off\n",
       "30            Qtsy  <selenium.webdriver.remote.webelement.WebEleme...  50% off\n",
       "31           HONEY  <selenium.webdriver.remote.webelement.WebEleme...  55% off\n",
       "32           Echor  <selenium.webdriver.remote.webelement.WebEleme...  46% off\n",
       "33            PUMA  <selenium.webdriver.remote.webelement.WebEleme...  40% off\n",
       "34        HOTSTYLE  <selenium.webdriver.remote.webelement.WebEleme...  41% off\n",
       "35          BRUTON  <selenium.webdriver.remote.webelement.WebEleme...  76% off\n",
       "36          BRUTON  <selenium.webdriver.remote.webelement.WebEleme...  76% off\n",
       "37           ASIAN  <selenium.webdriver.remote.webelement.WebEleme...  40% off\n",
       "38         Bretton  <selenium.webdriver.remote.webelement.WebEleme...  74% off\n",
       "39            PUMA  <selenium.webdriver.remote.webelement.WebEleme...  40% off"
      ]
     },
     "execution_count": 398,
     "metadata": {},
     "output_type": "execute_result"
    }
   ],
   "source": [
    "df1  =  pd.DataFrame()\n",
    "df1['Brand'] = brands\n",
    "df1['Price']  =  price\n",
    "df1['Discount'] = discounts\n",
    "df1"
   ]
  },
  {
   "cell_type": "code",
   "execution_count": 363,
   "id": "e462fdac",
   "metadata": {},
   "outputs": [
    {
     "data": {
      "text/plain": [
       "<selenium.webdriver.remote.webelement.WebElement (session=\"b18267a3a7c71774b160a88f4dd5763e\", element=\"d69087a0-2b57-48a3-8bc6-fb23be3ac3ea\")>"
      ]
     },
     "execution_count": 363,
     "metadata": {},
     "output_type": "execute_result"
    }
   ],
   "source": [
    "next_page_btn  =  driver.find_element(\"xpath\",'/html/body/div[1]/div/div[3]/div[1]/div[2]/div[12]/div/div/nav/a[11]')\n",
    "next_page_btn"
   ]
  },
  {
   "cell_type": "code",
   "execution_count": 364,
   "id": "6559ddef",
   "metadata": {},
   "outputs": [],
   "source": [
    "next_page_btn.click()"
   ]
  },
  {
   "cell_type": "code",
   "execution_count": 365,
   "id": "5a5daf98",
   "metadata": {},
   "outputs": [],
   "source": [
    "url =  'https://www.flipkart.com/search?q=sneakers&otracker=search&otracker1=search&marketplace=FLIPKART&as-show=on&as=off&page=2'\n",
    "driver.get(url)"
   ]
  },
  {
   "cell_type": "code",
   "execution_count": 366,
   "id": "7e9dae22",
   "metadata": {},
   "outputs": [
    {
     "data": {
      "text/plain": [
       "40"
      ]
     },
     "execution_count": 366,
     "metadata": {},
     "output_type": "execute_result"
    }
   ],
   "source": [
    "brand =  driver.find_elements(\"xpath\",'//div[@class=\"_2WkVRV\"]')\n",
    "len(brand)"
   ]
  },
  {
   "cell_type": "code",
   "execution_count": 367,
   "id": "c6fe75c2",
   "metadata": {},
   "outputs": [
    {
     "data": {
      "text/plain": [
       "40"
      ]
     },
     "execution_count": 367,
     "metadata": {},
     "output_type": "execute_result"
    }
   ],
   "source": [
    "brands = []\n",
    "for i in brand:\n",
    "    brands.append(i.text)\n",
    "len(brands)    "
   ]
  },
  {
   "cell_type": "code",
   "execution_count": 368,
   "id": "9adbae14",
   "metadata": {},
   "outputs": [
    {
     "data": {
      "text/plain": [
       "['Magnolia',\n",
       " 'ASTEROID',\n",
       " 'WHITE WALKERS',\n",
       " 'SPARX',\n",
       " 'Eiffel',\n",
       " 'AMICO',\n",
       " 'aadi',\n",
       " 'PUMA',\n",
       " 'Airland',\n",
       " 'Numenzo',\n",
       " 'Shoes Bank',\n",
       " 'Airland',\n",
       " 'Aragats',\n",
       " 'Chevit',\n",
       " 'LE GREEM',\n",
       " 'India hub',\n",
       " 'Numenzo',\n",
       " 'luxury fashion',\n",
       " 'BIRDE',\n",
       " 'Stinson',\n",
       " 'BRUTON',\n",
       " 'Layasa',\n",
       " 'Magnolia',\n",
       " 'aadi',\n",
       " 'ROCKFIELD',\n",
       " 'U.S. POLO ASSN.',\n",
       " 'PUMA',\n",
       " 'aadi',\n",
       " 'PUMA',\n",
       " 'T-ROCK',\n",
       " 'WHITE WALKERS',\n",
       " 'URBANBOX',\n",
       " 'WHITE WALKERS',\n",
       " 'Roadster',\n",
       " 'BRUTON',\n",
       " 'Nobelite',\n",
       " 'PEXLO',\n",
       " 'Robbie jones',\n",
       " 'PUMA',\n",
       " 'Xtoon']"
      ]
     },
     "execution_count": 368,
     "metadata": {},
     "output_type": "execute_result"
    }
   ],
   "source": [
    "brands"
   ]
  },
  {
   "cell_type": "code",
   "execution_count": 369,
   "id": "73f08bcf",
   "metadata": {},
   "outputs": [
    {
     "data": {
      "text/plain": [
       "35"
      ]
     },
     "execution_count": 369,
     "metadata": {},
     "output_type": "execute_result"
    }
   ],
   "source": [
    "product =  driver.find_elements(\"xpath\",'//a[@class=\"IRpwTa\"]')\n",
    "len(product)"
   ]
  },
  {
   "cell_type": "code",
   "execution_count": 370,
   "id": "95d854ce",
   "metadata": {},
   "outputs": [
    {
     "data": {
      "text/plain": [
       "35"
      ]
     },
     "execution_count": 370,
     "metadata": {},
     "output_type": "execute_result"
    }
   ],
   "source": [
    "product_description = []\n",
    "\n",
    "for i in product:\n",
    "    product_description.append(i.text)\n",
    "len(product_description)    "
   ]
  },
  {
   "cell_type": "code",
   "execution_count": 371,
   "id": "fcd45503",
   "metadata": {},
   "outputs": [
    {
     "data": {
      "text/plain": [
       "['Sneakers For Men',\n",
       " 'Original Luxury Branded Black Fancy Casual Walking Part...',\n",
       " 'Stylish & Trending Outdoor Walking Comfortable Sneakers...',\n",
       " 'Men White Sneakers Sneakers For Men',\n",
       " 'Sneakers For Men',\n",
       " 'Mesh | Ultralightweight | Comfortable | Breathable Walk...',\n",
       " 'Smash v2 L Sneakers For Men',\n",
       " '1259 smart black lace-ups sneakers for men Sneakers For...',\n",
       " '411 Casual Sneakers For Men',\n",
       " \"White Sneaker For Men's/Boy's Sneakers For Men\",\n",
       " 'sneaker men red 1258 - 8 Sneakers For Men',\n",
       " 'Casual Sneakers For Men',\n",
       " \"Men's Combo Pack of 02 Shoes for Men Casual Sneakers Ou...\",\n",
       " 'Comfortable & Ultra Light Weight Sneaker Sneakers For M...',\n",
       " 'Luxury Fashionable casual sneaker shoes Sneakers For Me...',\n",
       " 'Sneakers For Men',\n",
       " 'Luxury Fashionable casual sneaker shoes Sneakers For Me...',\n",
       " 'Stylish Comfortable Lightweight, Breathable Walking Sho...',\n",
       " 'Combo Pack Of 2 Latest Stylish Casual Shoes for Men Lac...',\n",
       " 'Sneakers For Men',\n",
       " 'Sneakers For Men',\n",
       " 'Sneakers For Men',\n",
       " 'Sneakers For Men',\n",
       " 'CLARKIN Sneakers For Men',\n",
       " 'Trinity Sneakers For Men',\n",
       " 'Sneakers For Men',\n",
       " 'R78 Sneakers For Men',\n",
       " 'Stylish Party Wear Casual Sneakers Shoes For Men Sneake...',\n",
       " 'Stylish & Trending Outdoor Walking Comfortable Sneakers...',\n",
       " 'Stylish & Trending Outdoor Walking Comfortable Sneakers...',\n",
       " 'Sneakers For Men',\n",
       " 'Exclusive Sneaker Shoes Sneakers For Men',\n",
       " 'Combo Pack of 3 Casual Shoes, Sneakers For Men',\n",
       " 'Casual Sneakers White Shoes For Men Sneakers For Men',\n",
       " \"White casual, gym,training & Running sneakers for men's...\"]"
      ]
     },
     "execution_count": 371,
     "metadata": {},
     "output_type": "execute_result"
    }
   ],
   "source": [
    "product_description"
   ]
  },
  {
   "cell_type": "code",
   "execution_count": 372,
   "id": "7fcb1485",
   "metadata": {},
   "outputs": [
    {
     "data": {
      "text/plain": [
       "40"
      ]
     },
     "execution_count": 372,
     "metadata": {},
     "output_type": "execute_result"
    }
   ],
   "source": [
    "price = driver.find_elements(\"xpath\",'//div[@class=\"_30jeq3\"]')\n",
    "len(price)"
   ]
  },
  {
   "cell_type": "code",
   "execution_count": 373,
   "id": "11df22da",
   "metadata": {},
   "outputs": [
    {
     "data": {
      "text/plain": [
       "['₹449',\n",
       " '₹474',\n",
       " '₹599',\n",
       " '₹756',\n",
       " '₹469',\n",
       " '₹494',\n",
       " '₹799',\n",
       " '₹1,919',\n",
       " '₹239',\n",
       " '₹450',\n",
       " '₹297',\n",
       " '₹246',\n",
       " '₹521',\n",
       " '₹466',\n",
       " '₹499',\n",
       " '₹397',\n",
       " '₹539',\n",
       " '₹399',\n",
       " '₹419',\n",
       " '₹249',\n",
       " '₹566',\n",
       " '₹549',\n",
       " '₹424',\n",
       " '₹399',\n",
       " '₹284',\n",
       " '₹1,949',\n",
       " '₹2,020',\n",
       " '₹319',\n",
       " '₹2,339',\n",
       " '₹699',\n",
       " '₹599',\n",
       " '₹161',\n",
       " '₹599',\n",
       " '₹1,135',\n",
       " '₹299',\n",
       " '₹398',\n",
       " '₹592',\n",
       " '₹499',\n",
       " '₹1,899',\n",
       " '₹499']"
      ]
     },
     "execution_count": 373,
     "metadata": {},
     "output_type": "execute_result"
    }
   ],
   "source": [
    "price_of_products = []\n",
    "for i in price:\n",
    "    price_of_products.append(i.text)\n",
    "price_of_products    "
   ]
  },
  {
   "cell_type": "code",
   "execution_count": 375,
   "id": "cad0f9a3",
   "metadata": {},
   "outputs": [
    {
     "data": {
      "text/plain": [
       "40"
      ]
     },
     "execution_count": 375,
     "metadata": {},
     "output_type": "execute_result"
    }
   ],
   "source": [
    "discount  =  driver.find_elements(\"xpath\",'//div[@class=\"_3Ay6Sb\"]')\n",
    "len(discount)"
   ]
  },
  {
   "cell_type": "code",
   "execution_count": 377,
   "id": "4b38d803",
   "metadata": {},
   "outputs": [
    {
     "data": {
      "text/plain": [
       "['55% off',\n",
       " '52% off',\n",
       " '50% off',\n",
       " '15% off',\n",
       " '53% off',\n",
       " '50% off',\n",
       " '60% off',\n",
       " '45% off',\n",
       " '52% off',\n",
       " '77% off',\n",
       " '70% off',\n",
       " '50% off',\n",
       " '47% off',\n",
       " '57% off',\n",
       " '50% off',\n",
       " '80% off',\n",
       " '82% off',\n",
       " '69% off',\n",
       " '58% off',\n",
       " '50% off',\n",
       " '77% off',\n",
       " '45% off',\n",
       " '57% off',\n",
       " '80% off',\n",
       " '71% off',\n",
       " '35% off',\n",
       " '42% off',\n",
       " '68% off',\n",
       " '41% off',\n",
       " '30% off',\n",
       " '50% off',\n",
       " '67% off',\n",
       " '50% off',\n",
       " '65% off',\n",
       " '76% off',\n",
       " '60% off',\n",
       " '75% off',\n",
       " '50% off',\n",
       " '36% off',\n",
       " '50% off']"
      ]
     },
     "execution_count": 377,
     "metadata": {},
     "output_type": "execute_result"
    }
   ],
   "source": [
    "discounts=[]\n",
    "for i in discount:\n",
    "    discounts.append(i.text)\n",
    "discounts   "
   ]
  },
  {
   "cell_type": "code",
   "execution_count": 378,
   "id": "83aae9d7",
   "metadata": {},
   "outputs": [
    {
     "data": {
      "text/plain": [
       "(40, 35, 40, 40)"
      ]
     },
     "execution_count": 378,
     "metadata": {},
     "output_type": "execute_result"
    }
   ],
   "source": [
    "len(brands),len(product_description),len(price),len(discounts)"
   ]
  },
  {
   "cell_type": "code",
   "execution_count": 399,
   "id": "d5d05f89",
   "metadata": {},
   "outputs": [
    {
     "data": {
      "text/html": [
       "<div>\n",
       "<style scoped>\n",
       "    .dataframe tbody tr th:only-of-type {\n",
       "        vertical-align: middle;\n",
       "    }\n",
       "\n",
       "    .dataframe tbody tr th {\n",
       "        vertical-align: top;\n",
       "    }\n",
       "\n",
       "    .dataframe thead th {\n",
       "        text-align: right;\n",
       "    }\n",
       "</style>\n",
       "<table border=\"1\" class=\"dataframe\">\n",
       "  <thead>\n",
       "    <tr style=\"text-align: right;\">\n",
       "      <th></th>\n",
       "      <th>Brand</th>\n",
       "      <th>Price</th>\n",
       "      <th>Discounts</th>\n",
       "    </tr>\n",
       "  </thead>\n",
       "  <tbody>\n",
       "    <tr>\n",
       "      <th>0</th>\n",
       "      <td>Xtoon</td>\n",
       "      <td>&lt;selenium.webdriver.remote.webelement.WebEleme...</td>\n",
       "      <td>50% off</td>\n",
       "    </tr>\n",
       "    <tr>\n",
       "      <th>1</th>\n",
       "      <td>ZF Klub</td>\n",
       "      <td>&lt;selenium.webdriver.remote.webelement.WebEleme...</td>\n",
       "      <td>60% off</td>\n",
       "    </tr>\n",
       "    <tr>\n",
       "      <th>2</th>\n",
       "      <td>luxury fashion</td>\n",
       "      <td>&lt;selenium.webdriver.remote.webelement.WebEleme...</td>\n",
       "      <td>78% off</td>\n",
       "    </tr>\n",
       "    <tr>\n",
       "      <th>3</th>\n",
       "      <td>PUMA</td>\n",
       "      <td>&lt;selenium.webdriver.remote.webelement.WebEleme...</td>\n",
       "      <td>50% off</td>\n",
       "    </tr>\n",
       "    <tr>\n",
       "      <th>4</th>\n",
       "      <td>Chevit</td>\n",
       "      <td>&lt;selenium.webdriver.remote.webelement.WebEleme...</td>\n",
       "      <td>67% off</td>\n",
       "    </tr>\n",
       "    <tr>\n",
       "      <th>5</th>\n",
       "      <td>RapidBox</td>\n",
       "      <td>&lt;selenium.webdriver.remote.webelement.WebEleme...</td>\n",
       "      <td>36% off</td>\n",
       "    </tr>\n",
       "    <tr>\n",
       "      <th>6</th>\n",
       "      <td>corsac</td>\n",
       "      <td>&lt;selenium.webdriver.remote.webelement.WebEleme...</td>\n",
       "      <td>64% off</td>\n",
       "    </tr>\n",
       "    <tr>\n",
       "      <th>7</th>\n",
       "      <td>PUMA</td>\n",
       "      <td>&lt;selenium.webdriver.remote.webelement.WebEleme...</td>\n",
       "      <td>40% off</td>\n",
       "    </tr>\n",
       "    <tr>\n",
       "      <th>8</th>\n",
       "      <td>DUNKASTON</td>\n",
       "      <td>&lt;selenium.webdriver.remote.webelement.WebEleme...</td>\n",
       "      <td>70% off</td>\n",
       "    </tr>\n",
       "    <tr>\n",
       "      <th>9</th>\n",
       "      <td>PUMA</td>\n",
       "      <td>&lt;selenium.webdriver.remote.webelement.WebEleme...</td>\n",
       "      <td>48% off</td>\n",
       "    </tr>\n",
       "    <tr>\n",
       "      <th>10</th>\n",
       "      <td>SPARX</td>\n",
       "      <td>&lt;selenium.webdriver.remote.webelement.WebEleme...</td>\n",
       "      <td>15% off</td>\n",
       "    </tr>\n",
       "    <tr>\n",
       "      <th>11</th>\n",
       "      <td>RapidBox</td>\n",
       "      <td>&lt;selenium.webdriver.remote.webelement.WebEleme...</td>\n",
       "      <td>40% off</td>\n",
       "    </tr>\n",
       "    <tr>\n",
       "      <th>12</th>\n",
       "      <td>Layasa</td>\n",
       "      <td>&lt;selenium.webdriver.remote.webelement.WebEleme...</td>\n",
       "      <td>50% off</td>\n",
       "    </tr>\n",
       "    <tr>\n",
       "      <th>13</th>\n",
       "      <td>Robbie jones</td>\n",
       "      <td>&lt;selenium.webdriver.remote.webelement.WebEleme...</td>\n",
       "      <td>50% off</td>\n",
       "    </tr>\n",
       "    <tr>\n",
       "      <th>14</th>\n",
       "      <td>Bata</td>\n",
       "      <td>&lt;selenium.webdriver.remote.webelement.WebEleme...</td>\n",
       "      <td>2% off</td>\n",
       "    </tr>\n",
       "    <tr>\n",
       "      <th>15</th>\n",
       "      <td>Chevit</td>\n",
       "      <td>&lt;selenium.webdriver.remote.webelement.WebEleme...</td>\n",
       "      <td>71% off</td>\n",
       "    </tr>\n",
       "    <tr>\n",
       "      <th>16</th>\n",
       "      <td>Nobelite</td>\n",
       "      <td>&lt;selenium.webdriver.remote.webelement.WebEleme...</td>\n",
       "      <td>60% off</td>\n",
       "    </tr>\n",
       "    <tr>\n",
       "      <th>17</th>\n",
       "      <td>RapidBox</td>\n",
       "      <td>&lt;selenium.webdriver.remote.webelement.WebEleme...</td>\n",
       "      <td>34% off</td>\n",
       "    </tr>\n",
       "    <tr>\n",
       "      <th>18</th>\n",
       "      <td>PUMA</td>\n",
       "      <td>&lt;selenium.webdriver.remote.webelement.WebEleme...</td>\n",
       "      <td>40% off</td>\n",
       "    </tr>\n",
       "    <tr>\n",
       "      <th>19</th>\n",
       "      <td>K' Footlance</td>\n",
       "      <td>&lt;selenium.webdriver.remote.webelement.WebEleme...</td>\n",
       "      <td>50% off</td>\n",
       "    </tr>\n",
       "    <tr>\n",
       "      <th>20</th>\n",
       "      <td>SPARX</td>\n",
       "      <td>&lt;selenium.webdriver.remote.webelement.WebEleme...</td>\n",
       "      <td>15% off</td>\n",
       "    </tr>\n",
       "    <tr>\n",
       "      <th>21</th>\n",
       "      <td>BAUCHHAAR</td>\n",
       "      <td>&lt;selenium.webdriver.remote.webelement.WebEleme...</td>\n",
       "      <td>55% off</td>\n",
       "    </tr>\n",
       "    <tr>\n",
       "      <th>22</th>\n",
       "      <td>HOTSTYLE</td>\n",
       "      <td>&lt;selenium.webdriver.remote.webelement.WebEleme...</td>\n",
       "      <td>40% off</td>\n",
       "    </tr>\n",
       "    <tr>\n",
       "      <th>23</th>\n",
       "      <td>KNIGHT WALKERS</td>\n",
       "      <td>&lt;selenium.webdriver.remote.webelement.WebEleme...</td>\n",
       "      <td>56% off</td>\n",
       "    </tr>\n",
       "    <tr>\n",
       "      <th>24</th>\n",
       "      <td>bacca bucci</td>\n",
       "      <td>&lt;selenium.webdriver.remote.webelement.WebEleme...</td>\n",
       "      <td>53% off</td>\n",
       "    </tr>\n",
       "    <tr>\n",
       "      <th>25</th>\n",
       "      <td>ASIAN</td>\n",
       "      <td>&lt;selenium.webdriver.remote.webelement.WebEleme...</td>\n",
       "      <td>37% off</td>\n",
       "    </tr>\n",
       "    <tr>\n",
       "      <th>26</th>\n",
       "      <td>BRUTON</td>\n",
       "      <td>&lt;selenium.webdriver.remote.webelement.WebEleme...</td>\n",
       "      <td>76% off</td>\n",
       "    </tr>\n",
       "    <tr>\n",
       "      <th>27</th>\n",
       "      <td>LE GREEM</td>\n",
       "      <td>&lt;selenium.webdriver.remote.webelement.WebEleme...</td>\n",
       "      <td>50% off</td>\n",
       "    </tr>\n",
       "    <tr>\n",
       "      <th>28</th>\n",
       "      <td>DUNKASTON</td>\n",
       "      <td>&lt;selenium.webdriver.remote.webelement.WebEleme...</td>\n",
       "      <td>66% off</td>\n",
       "    </tr>\n",
       "    <tr>\n",
       "      <th>29</th>\n",
       "      <td>Robbie jones</td>\n",
       "      <td>&lt;selenium.webdriver.remote.webelement.WebEleme...</td>\n",
       "      <td>50% off</td>\n",
       "    </tr>\n",
       "    <tr>\n",
       "      <th>30</th>\n",
       "      <td>Qtsy</td>\n",
       "      <td>&lt;selenium.webdriver.remote.webelement.WebEleme...</td>\n",
       "      <td>50% off</td>\n",
       "    </tr>\n",
       "    <tr>\n",
       "      <th>31</th>\n",
       "      <td>HONEY</td>\n",
       "      <td>&lt;selenium.webdriver.remote.webelement.WebEleme...</td>\n",
       "      <td>55% off</td>\n",
       "    </tr>\n",
       "    <tr>\n",
       "      <th>32</th>\n",
       "      <td>Echor</td>\n",
       "      <td>&lt;selenium.webdriver.remote.webelement.WebEleme...</td>\n",
       "      <td>46% off</td>\n",
       "    </tr>\n",
       "    <tr>\n",
       "      <th>33</th>\n",
       "      <td>PUMA</td>\n",
       "      <td>&lt;selenium.webdriver.remote.webelement.WebEleme...</td>\n",
       "      <td>40% off</td>\n",
       "    </tr>\n",
       "    <tr>\n",
       "      <th>34</th>\n",
       "      <td>HOTSTYLE</td>\n",
       "      <td>&lt;selenium.webdriver.remote.webelement.WebEleme...</td>\n",
       "      <td>41% off</td>\n",
       "    </tr>\n",
       "    <tr>\n",
       "      <th>35</th>\n",
       "      <td>BRUTON</td>\n",
       "      <td>&lt;selenium.webdriver.remote.webelement.WebEleme...</td>\n",
       "      <td>76% off</td>\n",
       "    </tr>\n",
       "    <tr>\n",
       "      <th>36</th>\n",
       "      <td>BRUTON</td>\n",
       "      <td>&lt;selenium.webdriver.remote.webelement.WebEleme...</td>\n",
       "      <td>76% off</td>\n",
       "    </tr>\n",
       "    <tr>\n",
       "      <th>37</th>\n",
       "      <td>ASIAN</td>\n",
       "      <td>&lt;selenium.webdriver.remote.webelement.WebEleme...</td>\n",
       "      <td>40% off</td>\n",
       "    </tr>\n",
       "    <tr>\n",
       "      <th>38</th>\n",
       "      <td>Bretton</td>\n",
       "      <td>&lt;selenium.webdriver.remote.webelement.WebEleme...</td>\n",
       "      <td>74% off</td>\n",
       "    </tr>\n",
       "    <tr>\n",
       "      <th>39</th>\n",
       "      <td>PUMA</td>\n",
       "      <td>&lt;selenium.webdriver.remote.webelement.WebEleme...</td>\n",
       "      <td>40% off</td>\n",
       "    </tr>\n",
       "  </tbody>\n",
       "</table>\n",
       "</div>"
      ],
      "text/plain": [
       "             Brand                                              Price  \\\n",
       "0            Xtoon  <selenium.webdriver.remote.webelement.WebEleme...   \n",
       "1          ZF Klub  <selenium.webdriver.remote.webelement.WebEleme...   \n",
       "2   luxury fashion  <selenium.webdriver.remote.webelement.WebEleme...   \n",
       "3             PUMA  <selenium.webdriver.remote.webelement.WebEleme...   \n",
       "4           Chevit  <selenium.webdriver.remote.webelement.WebEleme...   \n",
       "5         RapidBox  <selenium.webdriver.remote.webelement.WebEleme...   \n",
       "6           corsac  <selenium.webdriver.remote.webelement.WebEleme...   \n",
       "7             PUMA  <selenium.webdriver.remote.webelement.WebEleme...   \n",
       "8        DUNKASTON  <selenium.webdriver.remote.webelement.WebEleme...   \n",
       "9             PUMA  <selenium.webdriver.remote.webelement.WebEleme...   \n",
       "10           SPARX  <selenium.webdriver.remote.webelement.WebEleme...   \n",
       "11        RapidBox  <selenium.webdriver.remote.webelement.WebEleme...   \n",
       "12          Layasa  <selenium.webdriver.remote.webelement.WebEleme...   \n",
       "13    Robbie jones  <selenium.webdriver.remote.webelement.WebEleme...   \n",
       "14            Bata  <selenium.webdriver.remote.webelement.WebEleme...   \n",
       "15          Chevit  <selenium.webdriver.remote.webelement.WebEleme...   \n",
       "16        Nobelite  <selenium.webdriver.remote.webelement.WebEleme...   \n",
       "17        RapidBox  <selenium.webdriver.remote.webelement.WebEleme...   \n",
       "18            PUMA  <selenium.webdriver.remote.webelement.WebEleme...   \n",
       "19    K' Footlance  <selenium.webdriver.remote.webelement.WebEleme...   \n",
       "20           SPARX  <selenium.webdriver.remote.webelement.WebEleme...   \n",
       "21       BAUCHHAAR  <selenium.webdriver.remote.webelement.WebEleme...   \n",
       "22        HOTSTYLE  <selenium.webdriver.remote.webelement.WebEleme...   \n",
       "23  KNIGHT WALKERS  <selenium.webdriver.remote.webelement.WebEleme...   \n",
       "24     bacca bucci  <selenium.webdriver.remote.webelement.WebEleme...   \n",
       "25           ASIAN  <selenium.webdriver.remote.webelement.WebEleme...   \n",
       "26          BRUTON  <selenium.webdriver.remote.webelement.WebEleme...   \n",
       "27        LE GREEM  <selenium.webdriver.remote.webelement.WebEleme...   \n",
       "28       DUNKASTON  <selenium.webdriver.remote.webelement.WebEleme...   \n",
       "29    Robbie jones  <selenium.webdriver.remote.webelement.WebEleme...   \n",
       "30            Qtsy  <selenium.webdriver.remote.webelement.WebEleme...   \n",
       "31           HONEY  <selenium.webdriver.remote.webelement.WebEleme...   \n",
       "32           Echor  <selenium.webdriver.remote.webelement.WebEleme...   \n",
       "33            PUMA  <selenium.webdriver.remote.webelement.WebEleme...   \n",
       "34        HOTSTYLE  <selenium.webdriver.remote.webelement.WebEleme...   \n",
       "35          BRUTON  <selenium.webdriver.remote.webelement.WebEleme...   \n",
       "36          BRUTON  <selenium.webdriver.remote.webelement.WebEleme...   \n",
       "37           ASIAN  <selenium.webdriver.remote.webelement.WebEleme...   \n",
       "38         Bretton  <selenium.webdriver.remote.webelement.WebEleme...   \n",
       "39            PUMA  <selenium.webdriver.remote.webelement.WebEleme...   \n",
       "\n",
       "   Discounts  \n",
       "0    50% off  \n",
       "1    60% off  \n",
       "2    78% off  \n",
       "3    50% off  \n",
       "4    67% off  \n",
       "5    36% off  \n",
       "6    64% off  \n",
       "7    40% off  \n",
       "8    70% off  \n",
       "9    48% off  \n",
       "10   15% off  \n",
       "11   40% off  \n",
       "12   50% off  \n",
       "13   50% off  \n",
       "14    2% off  \n",
       "15   71% off  \n",
       "16   60% off  \n",
       "17   34% off  \n",
       "18   40% off  \n",
       "19   50% off  \n",
       "20   15% off  \n",
       "21   55% off  \n",
       "22   40% off  \n",
       "23   56% off  \n",
       "24   53% off  \n",
       "25   37% off  \n",
       "26   76% off  \n",
       "27   50% off  \n",
       "28   66% off  \n",
       "29   50% off  \n",
       "30   50% off  \n",
       "31   55% off  \n",
       "32   46% off  \n",
       "33   40% off  \n",
       "34   41% off  \n",
       "35   76% off  \n",
       "36   76% off  \n",
       "37   40% off  \n",
       "38   74% off  \n",
       "39   40% off  "
      ]
     },
     "execution_count": 399,
     "metadata": {},
     "output_type": "execute_result"
    }
   ],
   "source": [
    "df2=pd.DataFrame()\n",
    "df2['Brand']=brands\n",
    "df2['Price']=price\n",
    "df2['Discounts']=discounts\n",
    "df2"
   ]
  },
  {
   "cell_type": "code",
   "execution_count": 381,
   "id": "30983623",
   "metadata": {},
   "outputs": [
    {
     "data": {
      "text/plain": [
       "<selenium.webdriver.remote.webelement.WebElement (session=\"b18267a3a7c71774b160a88f4dd5763e\", element=\"a8e926cf-65e0-49e3-854f-d0496eee7d21\")>"
      ]
     },
     "execution_count": 381,
     "metadata": {},
     "output_type": "execute_result"
    }
   ],
   "source": [
    "nxt_page_btn  =  driver.find_element(\"xpath\",'/html/body/div/div/div[3]/div[1]/div[2]/div[12]/div/div/nav/a[12]')\n",
    "nxt_page_btn"
   ]
  },
  {
   "cell_type": "code",
   "execution_count": 382,
   "id": "8a3d9f36",
   "metadata": {},
   "outputs": [],
   "source": [
    "nxt_page_btn.click()"
   ]
  },
  {
   "cell_type": "code",
   "execution_count": 383,
   "id": "ecd23860",
   "metadata": {},
   "outputs": [
    {
     "data": {
      "text/plain": [
       "40"
      ]
     },
     "execution_count": 383,
     "metadata": {},
     "output_type": "execute_result"
    }
   ],
   "source": [
    "brand  =  driver.find_elements(\"xpath\",'//div[@class=\"_2WkVRV\"]')\n",
    "len(brand)"
   ]
  },
  {
   "cell_type": "code",
   "execution_count": 384,
   "id": "27b164d0",
   "metadata": {},
   "outputs": [
    {
     "data": {
      "text/plain": [
       "['Xtoon',\n",
       " 'ZF Klub',\n",
       " 'luxury fashion',\n",
       " 'PUMA',\n",
       " 'Chevit',\n",
       " 'RapidBox',\n",
       " 'corsac',\n",
       " 'PUMA',\n",
       " 'DUNKASTON',\n",
       " 'PUMA',\n",
       " 'SPARX',\n",
       " 'RapidBox',\n",
       " 'Layasa',\n",
       " 'Robbie jones',\n",
       " 'Bata',\n",
       " 'Chevit',\n",
       " 'Nobelite',\n",
       " 'RapidBox',\n",
       " 'PUMA',\n",
       " \"K' Footlance\",\n",
       " 'SPARX',\n",
       " 'BAUCHHAAR',\n",
       " 'HOTSTYLE',\n",
       " 'KNIGHT WALKERS',\n",
       " 'bacca bucci',\n",
       " 'ASIAN',\n",
       " 'BRUTON',\n",
       " 'LE GREEM',\n",
       " 'DUNKASTON',\n",
       " 'Robbie jones',\n",
       " 'Qtsy',\n",
       " 'HONEY',\n",
       " 'Echor',\n",
       " 'PUMA',\n",
       " 'HOTSTYLE',\n",
       " 'BRUTON',\n",
       " 'BRUTON',\n",
       " 'ASIAN',\n",
       " 'Bretton',\n",
       " 'PUMA']"
      ]
     },
     "execution_count": 384,
     "metadata": {},
     "output_type": "execute_result"
    }
   ],
   "source": [
    "brands=[]\n",
    "for i in brand:\n",
    "    brands.append(i.text)\n",
    "brands    "
   ]
  },
  {
   "cell_type": "code",
   "execution_count": 386,
   "id": "bfd289cc",
   "metadata": {},
   "outputs": [
    {
     "data": {
      "text/plain": [
       "32"
      ]
     },
     "execution_count": 386,
     "metadata": {},
     "output_type": "execute_result"
    }
   ],
   "source": [
    "product = driver.find_elements(\"xpath\",'//a[@class=\"IRpwTa\"]')\n",
    "len(product)"
   ]
  },
  {
   "cell_type": "code",
   "execution_count": 387,
   "id": "b48af725",
   "metadata": {},
   "outputs": [
    {
     "data": {
      "text/plain": [
       "[\"White casual, gym,training & Running sneakers for men's...\",\n",
       " 'Sneakers For Men',\n",
       " 'Sneakers For Men',\n",
       " 'Brave Sneakers For Men',\n",
       " 'STYLISH MENS BLACK TRENDY SNEAKER FOR MENS Sneakers For...',\n",
       " 'Blend Sneakers For Men',\n",
       " 'Sneakers For Men',\n",
       " 'Trinity Sneakers For Men',\n",
       " 'Sneakers For Men',\n",
       " 'Sneakers For Men',\n",
       " 'Sneakers For Men',\n",
       " 'Canvas Sneaker Sneakers For Men',\n",
       " 'Unique & Perfect Collection Combo Pack of 02 Shoes for ...',\n",
       " 'Blend Sneakers For Men',\n",
       " 'Fashion and Stylish Soft Ultralight Lace Up Sneakers Ca...',\n",
       " 'Canvas Casual Partywear Outdoor Sneakers Shoes For Mens...',\n",
       " 'Sneakers For Men',\n",
       " 'CR-1 Sneakers For Men',\n",
       " 'Sneakers For Men',\n",
       " 'Sneakers For Men',\n",
       " 'Skypy-31 Walking Shoes,Training Shoes,Sneakers,Loafers,...',\n",
       " 'Modern Trendy Sneakers Shoes Sneakers For Men',\n",
       " 'Comfortable & Ultra Light Weight Sneaker Sneakers For M...',\n",
       " 'Sneakers For Men',\n",
       " 'Sneakers For Men',\n",
       " \"Men's Sneakers Fashion Lightweight Running Shoes Tennis...\",\n",
       " 'x KL Seattle Sneakers For Men',\n",
       " 'CR-1 Sneakers For Men',\n",
       " 'Modern Trendy Sneakers Shoes Sneakers For Men',\n",
       " 'Modern Trendy Sneakers Shoes Sneakers For Men',\n",
       " 'WATERPROOF-05cFULLWHITE Sneakers For Men',\n",
       " 'x KL Denver Sneakers For Men']"
      ]
     },
     "execution_count": 387,
     "metadata": {},
     "output_type": "execute_result"
    }
   ],
   "source": [
    "product_description=[]\n",
    "for i in product:\n",
    "    product_description.append(i.text)\n",
    "product_description    "
   ]
  },
  {
   "cell_type": "code",
   "execution_count": 388,
   "id": "ffa56beb",
   "metadata": {},
   "outputs": [
    {
     "data": {
      "text/plain": [
       "40"
      ]
     },
     "execution_count": 388,
     "metadata": {},
     "output_type": "execute_result"
    }
   ],
   "source": [
    "price  =  driver.find_elements(\"xpath\",'//div[@class=\"_30jeq3\"]')\n",
    "len(price)"
   ]
  },
  {
   "cell_type": "code",
   "execution_count": 389,
   "id": "db33566d",
   "metadata": {},
   "outputs": [
    {
     "data": {
      "text/plain": [
       "['₹499',\n",
       " '₹399',\n",
       " '₹426',\n",
       " '₹1,649',\n",
       " '₹589',\n",
       " '₹630',\n",
       " '₹529',\n",
       " '₹1,799',\n",
       " '₹449',\n",
       " '₹1,794',\n",
       " '₹643',\n",
       " '₹590',\n",
       " '₹499',\n",
       " '₹499',\n",
       " '₹487',\n",
       " '₹424',\n",
       " '₹398',\n",
       " '₹650',\n",
       " '₹1,799',\n",
       " '₹499',\n",
       " '₹756',\n",
       " '₹449',\n",
       " '₹295',\n",
       " '₹648',\n",
       " '₹1,399',\n",
       " '₹498',\n",
       " '₹299',\n",
       " '₹499',\n",
       " '₹499',\n",
       " '₹499',\n",
       " '₹249',\n",
       " '₹449',\n",
       " '₹539',\n",
       " '₹2,699',\n",
       " '₹292',\n",
       " '₹299',\n",
       " '₹299',\n",
       " '₹599',\n",
       " '₹251',\n",
       " '₹2,399']"
      ]
     },
     "execution_count": 389,
     "metadata": {},
     "output_type": "execute_result"
    }
   ],
   "source": [
    "price_of_description = []\n",
    "for i in price:\n",
    "    price_of_description.append(i.text)\n",
    "price_of_description    "
   ]
  },
  {
   "cell_type": "code",
   "execution_count": 391,
   "id": "2c7bc62f",
   "metadata": {},
   "outputs": [
    {
     "data": {
      "text/plain": [
       "40"
      ]
     },
     "execution_count": 391,
     "metadata": {},
     "output_type": "execute_result"
    }
   ],
   "source": [
    "discount = driver.find_elements(\"xpath\",'//div[@class=\"_3Ay6Sb\"]')\n",
    "len(discount)"
   ]
  },
  {
   "cell_type": "code",
   "execution_count": 392,
   "id": "95f6a3ae",
   "metadata": {},
   "outputs": [
    {
     "data": {
      "text/plain": [
       "40"
      ]
     },
     "execution_count": 392,
     "metadata": {},
     "output_type": "execute_result"
    }
   ],
   "source": [
    "discounts=[]\n",
    "for i in discount:\n",
    "    discounts.append(i.text)\n",
    "len(discounts)    "
   ]
  },
  {
   "cell_type": "code",
   "execution_count": 393,
   "id": "8a428e30",
   "metadata": {},
   "outputs": [
    {
     "data": {
      "text/plain": [
       "['50% off',\n",
       " '60% off',\n",
       " '78% off',\n",
       " '50% off',\n",
       " '67% off',\n",
       " '36% off',\n",
       " '64% off',\n",
       " '40% off',\n",
       " '70% off',\n",
       " '48% off',\n",
       " '15% off',\n",
       " '40% off',\n",
       " '50% off',\n",
       " '50% off',\n",
       " '2% off',\n",
       " '71% off',\n",
       " '60% off',\n",
       " '34% off',\n",
       " '40% off',\n",
       " '50% off',\n",
       " '15% off',\n",
       " '55% off',\n",
       " '40% off',\n",
       " '56% off',\n",
       " '53% off',\n",
       " '37% off',\n",
       " '76% off',\n",
       " '50% off',\n",
       " '66% off',\n",
       " '50% off',\n",
       " '50% off',\n",
       " '55% off',\n",
       " '46% off',\n",
       " '40% off',\n",
       " '41% off',\n",
       " '76% off',\n",
       " '76% off',\n",
       " '40% off',\n",
       " '74% off',\n",
       " '40% off']"
      ]
     },
     "execution_count": 393,
     "metadata": {},
     "output_type": "execute_result"
    }
   ],
   "source": [
    "discounts"
   ]
  },
  {
   "cell_type": "code",
   "execution_count": 394,
   "id": "e7f7550d",
   "metadata": {},
   "outputs": [
    {
     "data": {
      "text/plain": [
       "(40, 32, 40, 40)"
      ]
     },
     "execution_count": 394,
     "metadata": {},
     "output_type": "execute_result"
    }
   ],
   "source": [
    "len(brands),len(product_description),len(price),len(discounts)"
   ]
  },
  {
   "cell_type": "code",
   "execution_count": 400,
   "id": "0af5d861",
   "metadata": {},
   "outputs": [],
   "source": [
    "df3=pd.DataFrame()\n",
    "df3['Brand']=brands\n",
    "df3['Price']=price\n",
    "df3['Discount']=discounts"
   ]
  },
  {
   "cell_type": "code",
   "execution_count": 401,
   "id": "1254e16d",
   "metadata": {},
   "outputs": [
    {
     "data": {
      "text/html": [
       "<div>\n",
       "<style scoped>\n",
       "    .dataframe tbody tr th:only-of-type {\n",
       "        vertical-align: middle;\n",
       "    }\n",
       "\n",
       "    .dataframe tbody tr th {\n",
       "        vertical-align: top;\n",
       "    }\n",
       "\n",
       "    .dataframe thead th {\n",
       "        text-align: right;\n",
       "    }\n",
       "</style>\n",
       "<table border=\"1\" class=\"dataframe\">\n",
       "  <thead>\n",
       "    <tr style=\"text-align: right;\">\n",
       "      <th></th>\n",
       "      <th>Brand</th>\n",
       "      <th>Price</th>\n",
       "      <th>Discount</th>\n",
       "    </tr>\n",
       "  </thead>\n",
       "  <tbody>\n",
       "    <tr>\n",
       "      <th>0</th>\n",
       "      <td>Xtoon</td>\n",
       "      <td>&lt;selenium.webdriver.remote.webelement.WebEleme...</td>\n",
       "      <td>50% off</td>\n",
       "    </tr>\n",
       "    <tr>\n",
       "      <th>1</th>\n",
       "      <td>ZF Klub</td>\n",
       "      <td>&lt;selenium.webdriver.remote.webelement.WebEleme...</td>\n",
       "      <td>60% off</td>\n",
       "    </tr>\n",
       "    <tr>\n",
       "      <th>2</th>\n",
       "      <td>luxury fashion</td>\n",
       "      <td>&lt;selenium.webdriver.remote.webelement.WebEleme...</td>\n",
       "      <td>78% off</td>\n",
       "    </tr>\n",
       "    <tr>\n",
       "      <th>3</th>\n",
       "      <td>PUMA</td>\n",
       "      <td>&lt;selenium.webdriver.remote.webelement.WebEleme...</td>\n",
       "      <td>50% off</td>\n",
       "    </tr>\n",
       "    <tr>\n",
       "      <th>4</th>\n",
       "      <td>Chevit</td>\n",
       "      <td>&lt;selenium.webdriver.remote.webelement.WebEleme...</td>\n",
       "      <td>67% off</td>\n",
       "    </tr>\n",
       "    <tr>\n",
       "      <th>5</th>\n",
       "      <td>RapidBox</td>\n",
       "      <td>&lt;selenium.webdriver.remote.webelement.WebEleme...</td>\n",
       "      <td>36% off</td>\n",
       "    </tr>\n",
       "    <tr>\n",
       "      <th>6</th>\n",
       "      <td>corsac</td>\n",
       "      <td>&lt;selenium.webdriver.remote.webelement.WebEleme...</td>\n",
       "      <td>64% off</td>\n",
       "    </tr>\n",
       "    <tr>\n",
       "      <th>7</th>\n",
       "      <td>PUMA</td>\n",
       "      <td>&lt;selenium.webdriver.remote.webelement.WebEleme...</td>\n",
       "      <td>40% off</td>\n",
       "    </tr>\n",
       "    <tr>\n",
       "      <th>8</th>\n",
       "      <td>DUNKASTON</td>\n",
       "      <td>&lt;selenium.webdriver.remote.webelement.WebEleme...</td>\n",
       "      <td>70% off</td>\n",
       "    </tr>\n",
       "    <tr>\n",
       "      <th>9</th>\n",
       "      <td>PUMA</td>\n",
       "      <td>&lt;selenium.webdriver.remote.webelement.WebEleme...</td>\n",
       "      <td>48% off</td>\n",
       "    </tr>\n",
       "    <tr>\n",
       "      <th>10</th>\n",
       "      <td>SPARX</td>\n",
       "      <td>&lt;selenium.webdriver.remote.webelement.WebEleme...</td>\n",
       "      <td>15% off</td>\n",
       "    </tr>\n",
       "    <tr>\n",
       "      <th>11</th>\n",
       "      <td>RapidBox</td>\n",
       "      <td>&lt;selenium.webdriver.remote.webelement.WebEleme...</td>\n",
       "      <td>40% off</td>\n",
       "    </tr>\n",
       "    <tr>\n",
       "      <th>12</th>\n",
       "      <td>Layasa</td>\n",
       "      <td>&lt;selenium.webdriver.remote.webelement.WebEleme...</td>\n",
       "      <td>50% off</td>\n",
       "    </tr>\n",
       "    <tr>\n",
       "      <th>13</th>\n",
       "      <td>Robbie jones</td>\n",
       "      <td>&lt;selenium.webdriver.remote.webelement.WebEleme...</td>\n",
       "      <td>50% off</td>\n",
       "    </tr>\n",
       "    <tr>\n",
       "      <th>14</th>\n",
       "      <td>Bata</td>\n",
       "      <td>&lt;selenium.webdriver.remote.webelement.WebEleme...</td>\n",
       "      <td>2% off</td>\n",
       "    </tr>\n",
       "    <tr>\n",
       "      <th>15</th>\n",
       "      <td>Chevit</td>\n",
       "      <td>&lt;selenium.webdriver.remote.webelement.WebEleme...</td>\n",
       "      <td>71% off</td>\n",
       "    </tr>\n",
       "    <tr>\n",
       "      <th>16</th>\n",
       "      <td>Nobelite</td>\n",
       "      <td>&lt;selenium.webdriver.remote.webelement.WebEleme...</td>\n",
       "      <td>60% off</td>\n",
       "    </tr>\n",
       "    <tr>\n",
       "      <th>17</th>\n",
       "      <td>RapidBox</td>\n",
       "      <td>&lt;selenium.webdriver.remote.webelement.WebEleme...</td>\n",
       "      <td>34% off</td>\n",
       "    </tr>\n",
       "    <tr>\n",
       "      <th>18</th>\n",
       "      <td>PUMA</td>\n",
       "      <td>&lt;selenium.webdriver.remote.webelement.WebEleme...</td>\n",
       "      <td>40% off</td>\n",
       "    </tr>\n",
       "    <tr>\n",
       "      <th>19</th>\n",
       "      <td>K' Footlance</td>\n",
       "      <td>&lt;selenium.webdriver.remote.webelement.WebEleme...</td>\n",
       "      <td>50% off</td>\n",
       "    </tr>\n",
       "    <tr>\n",
       "      <th>20</th>\n",
       "      <td>SPARX</td>\n",
       "      <td>&lt;selenium.webdriver.remote.webelement.WebEleme...</td>\n",
       "      <td>15% off</td>\n",
       "    </tr>\n",
       "    <tr>\n",
       "      <th>21</th>\n",
       "      <td>BAUCHHAAR</td>\n",
       "      <td>&lt;selenium.webdriver.remote.webelement.WebEleme...</td>\n",
       "      <td>55% off</td>\n",
       "    </tr>\n",
       "    <tr>\n",
       "      <th>22</th>\n",
       "      <td>HOTSTYLE</td>\n",
       "      <td>&lt;selenium.webdriver.remote.webelement.WebEleme...</td>\n",
       "      <td>40% off</td>\n",
       "    </tr>\n",
       "    <tr>\n",
       "      <th>23</th>\n",
       "      <td>KNIGHT WALKERS</td>\n",
       "      <td>&lt;selenium.webdriver.remote.webelement.WebEleme...</td>\n",
       "      <td>56% off</td>\n",
       "    </tr>\n",
       "    <tr>\n",
       "      <th>24</th>\n",
       "      <td>bacca bucci</td>\n",
       "      <td>&lt;selenium.webdriver.remote.webelement.WebEleme...</td>\n",
       "      <td>53% off</td>\n",
       "    </tr>\n",
       "    <tr>\n",
       "      <th>25</th>\n",
       "      <td>ASIAN</td>\n",
       "      <td>&lt;selenium.webdriver.remote.webelement.WebEleme...</td>\n",
       "      <td>37% off</td>\n",
       "    </tr>\n",
       "    <tr>\n",
       "      <th>26</th>\n",
       "      <td>BRUTON</td>\n",
       "      <td>&lt;selenium.webdriver.remote.webelement.WebEleme...</td>\n",
       "      <td>76% off</td>\n",
       "    </tr>\n",
       "    <tr>\n",
       "      <th>27</th>\n",
       "      <td>LE GREEM</td>\n",
       "      <td>&lt;selenium.webdriver.remote.webelement.WebEleme...</td>\n",
       "      <td>50% off</td>\n",
       "    </tr>\n",
       "    <tr>\n",
       "      <th>28</th>\n",
       "      <td>DUNKASTON</td>\n",
       "      <td>&lt;selenium.webdriver.remote.webelement.WebEleme...</td>\n",
       "      <td>66% off</td>\n",
       "    </tr>\n",
       "    <tr>\n",
       "      <th>29</th>\n",
       "      <td>Robbie jones</td>\n",
       "      <td>&lt;selenium.webdriver.remote.webelement.WebEleme...</td>\n",
       "      <td>50% off</td>\n",
       "    </tr>\n",
       "    <tr>\n",
       "      <th>30</th>\n",
       "      <td>Qtsy</td>\n",
       "      <td>&lt;selenium.webdriver.remote.webelement.WebEleme...</td>\n",
       "      <td>50% off</td>\n",
       "    </tr>\n",
       "    <tr>\n",
       "      <th>31</th>\n",
       "      <td>HONEY</td>\n",
       "      <td>&lt;selenium.webdriver.remote.webelement.WebEleme...</td>\n",
       "      <td>55% off</td>\n",
       "    </tr>\n",
       "    <tr>\n",
       "      <th>32</th>\n",
       "      <td>Echor</td>\n",
       "      <td>&lt;selenium.webdriver.remote.webelement.WebEleme...</td>\n",
       "      <td>46% off</td>\n",
       "    </tr>\n",
       "    <tr>\n",
       "      <th>33</th>\n",
       "      <td>PUMA</td>\n",
       "      <td>&lt;selenium.webdriver.remote.webelement.WebEleme...</td>\n",
       "      <td>40% off</td>\n",
       "    </tr>\n",
       "    <tr>\n",
       "      <th>34</th>\n",
       "      <td>HOTSTYLE</td>\n",
       "      <td>&lt;selenium.webdriver.remote.webelement.WebEleme...</td>\n",
       "      <td>41% off</td>\n",
       "    </tr>\n",
       "    <tr>\n",
       "      <th>35</th>\n",
       "      <td>BRUTON</td>\n",
       "      <td>&lt;selenium.webdriver.remote.webelement.WebEleme...</td>\n",
       "      <td>76% off</td>\n",
       "    </tr>\n",
       "    <tr>\n",
       "      <th>36</th>\n",
       "      <td>BRUTON</td>\n",
       "      <td>&lt;selenium.webdriver.remote.webelement.WebEleme...</td>\n",
       "      <td>76% off</td>\n",
       "    </tr>\n",
       "    <tr>\n",
       "      <th>37</th>\n",
       "      <td>ASIAN</td>\n",
       "      <td>&lt;selenium.webdriver.remote.webelement.WebEleme...</td>\n",
       "      <td>40% off</td>\n",
       "    </tr>\n",
       "    <tr>\n",
       "      <th>38</th>\n",
       "      <td>Bretton</td>\n",
       "      <td>&lt;selenium.webdriver.remote.webelement.WebEleme...</td>\n",
       "      <td>74% off</td>\n",
       "    </tr>\n",
       "    <tr>\n",
       "      <th>39</th>\n",
       "      <td>PUMA</td>\n",
       "      <td>&lt;selenium.webdriver.remote.webelement.WebEleme...</td>\n",
       "      <td>40% off</td>\n",
       "    </tr>\n",
       "  </tbody>\n",
       "</table>\n",
       "</div>"
      ],
      "text/plain": [
       "             Brand                                              Price Discount\n",
       "0            Xtoon  <selenium.webdriver.remote.webelement.WebEleme...  50% off\n",
       "1          ZF Klub  <selenium.webdriver.remote.webelement.WebEleme...  60% off\n",
       "2   luxury fashion  <selenium.webdriver.remote.webelement.WebEleme...  78% off\n",
       "3             PUMA  <selenium.webdriver.remote.webelement.WebEleme...  50% off\n",
       "4           Chevit  <selenium.webdriver.remote.webelement.WebEleme...  67% off\n",
       "5         RapidBox  <selenium.webdriver.remote.webelement.WebEleme...  36% off\n",
       "6           corsac  <selenium.webdriver.remote.webelement.WebEleme...  64% off\n",
       "7             PUMA  <selenium.webdriver.remote.webelement.WebEleme...  40% off\n",
       "8        DUNKASTON  <selenium.webdriver.remote.webelement.WebEleme...  70% off\n",
       "9             PUMA  <selenium.webdriver.remote.webelement.WebEleme...  48% off\n",
       "10           SPARX  <selenium.webdriver.remote.webelement.WebEleme...  15% off\n",
       "11        RapidBox  <selenium.webdriver.remote.webelement.WebEleme...  40% off\n",
       "12          Layasa  <selenium.webdriver.remote.webelement.WebEleme...  50% off\n",
       "13    Robbie jones  <selenium.webdriver.remote.webelement.WebEleme...  50% off\n",
       "14            Bata  <selenium.webdriver.remote.webelement.WebEleme...   2% off\n",
       "15          Chevit  <selenium.webdriver.remote.webelement.WebEleme...  71% off\n",
       "16        Nobelite  <selenium.webdriver.remote.webelement.WebEleme...  60% off\n",
       "17        RapidBox  <selenium.webdriver.remote.webelement.WebEleme...  34% off\n",
       "18            PUMA  <selenium.webdriver.remote.webelement.WebEleme...  40% off\n",
       "19    K' Footlance  <selenium.webdriver.remote.webelement.WebEleme...  50% off\n",
       "20           SPARX  <selenium.webdriver.remote.webelement.WebEleme...  15% off\n",
       "21       BAUCHHAAR  <selenium.webdriver.remote.webelement.WebEleme...  55% off\n",
       "22        HOTSTYLE  <selenium.webdriver.remote.webelement.WebEleme...  40% off\n",
       "23  KNIGHT WALKERS  <selenium.webdriver.remote.webelement.WebEleme...  56% off\n",
       "24     bacca bucci  <selenium.webdriver.remote.webelement.WebEleme...  53% off\n",
       "25           ASIAN  <selenium.webdriver.remote.webelement.WebEleme...  37% off\n",
       "26          BRUTON  <selenium.webdriver.remote.webelement.WebEleme...  76% off\n",
       "27        LE GREEM  <selenium.webdriver.remote.webelement.WebEleme...  50% off\n",
       "28       DUNKASTON  <selenium.webdriver.remote.webelement.WebEleme...  66% off\n",
       "29    Robbie jones  <selenium.webdriver.remote.webelement.WebEleme...  50% off\n",
       "30            Qtsy  <selenium.webdriver.remote.webelement.WebEleme...  50% off\n",
       "31           HONEY  <selenium.webdriver.remote.webelement.WebEleme...  55% off\n",
       "32           Echor  <selenium.webdriver.remote.webelement.WebEleme...  46% off\n",
       "33            PUMA  <selenium.webdriver.remote.webelement.WebEleme...  40% off\n",
       "34        HOTSTYLE  <selenium.webdriver.remote.webelement.WebEleme...  41% off\n",
       "35          BRUTON  <selenium.webdriver.remote.webelement.WebEleme...  76% off\n",
       "36          BRUTON  <selenium.webdriver.remote.webelement.WebEleme...  76% off\n",
       "37           ASIAN  <selenium.webdriver.remote.webelement.WebEleme...  40% off\n",
       "38         Bretton  <selenium.webdriver.remote.webelement.WebEleme...  74% off\n",
       "39            PUMA  <selenium.webdriver.remote.webelement.WebEleme...  40% off"
      ]
     },
     "execution_count": 401,
     "metadata": {},
     "output_type": "execute_result"
    }
   ],
   "source": [
    "df3"
   ]
  },
  {
   "cell_type": "code",
   "execution_count": 397,
   "id": "f4699144",
   "metadata": {},
   "outputs": [
    {
     "data": {
      "text/html": [
       "<div>\n",
       "<style scoped>\n",
       "    .dataframe tbody tr th:only-of-type {\n",
       "        vertical-align: middle;\n",
       "    }\n",
       "\n",
       "    .dataframe tbody tr th {\n",
       "        vertical-align: top;\n",
       "    }\n",
       "\n",
       "    .dataframe thead th {\n",
       "        text-align: right;\n",
       "    }\n",
       "</style>\n",
       "<table border=\"1\" class=\"dataframe\">\n",
       "  <thead>\n",
       "    <tr style=\"text-align: right;\">\n",
       "      <th></th>\n",
       "      <th>Brand</th>\n",
       "      <th>Price</th>\n",
       "      <th>Discount</th>\n",
       "    </tr>\n",
       "  </thead>\n",
       "  <tbody>\n",
       "    <tr>\n",
       "      <th>0</th>\n",
       "      <td>Xtoon</td>\n",
       "      <td>&lt;selenium.webdriver.remote.webelement.WebEleme...</td>\n",
       "      <td>50% off</td>\n",
       "    </tr>\n",
       "    <tr>\n",
       "      <th>1</th>\n",
       "      <td>ZF Klub</td>\n",
       "      <td>&lt;selenium.webdriver.remote.webelement.WebEleme...</td>\n",
       "      <td>60% off</td>\n",
       "    </tr>\n",
       "    <tr>\n",
       "      <th>2</th>\n",
       "      <td>luxury fashion</td>\n",
       "      <td>&lt;selenium.webdriver.remote.webelement.WebEleme...</td>\n",
       "      <td>78% off</td>\n",
       "    </tr>\n",
       "    <tr>\n",
       "      <th>3</th>\n",
       "      <td>PUMA</td>\n",
       "      <td>&lt;selenium.webdriver.remote.webelement.WebEleme...</td>\n",
       "      <td>50% off</td>\n",
       "    </tr>\n",
       "    <tr>\n",
       "      <th>4</th>\n",
       "      <td>Chevit</td>\n",
       "      <td>&lt;selenium.webdriver.remote.webelement.WebEleme...</td>\n",
       "      <td>67% off</td>\n",
       "    </tr>\n",
       "    <tr>\n",
       "      <th>5</th>\n",
       "      <td>RapidBox</td>\n",
       "      <td>&lt;selenium.webdriver.remote.webelement.WebEleme...</td>\n",
       "      <td>36% off</td>\n",
       "    </tr>\n",
       "    <tr>\n",
       "      <th>6</th>\n",
       "      <td>corsac</td>\n",
       "      <td>&lt;selenium.webdriver.remote.webelement.WebEleme...</td>\n",
       "      <td>64% off</td>\n",
       "    </tr>\n",
       "    <tr>\n",
       "      <th>7</th>\n",
       "      <td>PUMA</td>\n",
       "      <td>&lt;selenium.webdriver.remote.webelement.WebEleme...</td>\n",
       "      <td>40% off</td>\n",
       "    </tr>\n",
       "    <tr>\n",
       "      <th>8</th>\n",
       "      <td>DUNKASTON</td>\n",
       "      <td>&lt;selenium.webdriver.remote.webelement.WebEleme...</td>\n",
       "      <td>70% off</td>\n",
       "    </tr>\n",
       "    <tr>\n",
       "      <th>9</th>\n",
       "      <td>PUMA</td>\n",
       "      <td>&lt;selenium.webdriver.remote.webelement.WebEleme...</td>\n",
       "      <td>48% off</td>\n",
       "    </tr>\n",
       "    <tr>\n",
       "      <th>10</th>\n",
       "      <td>SPARX</td>\n",
       "      <td>&lt;selenium.webdriver.remote.webelement.WebEleme...</td>\n",
       "      <td>15% off</td>\n",
       "    </tr>\n",
       "    <tr>\n",
       "      <th>11</th>\n",
       "      <td>RapidBox</td>\n",
       "      <td>&lt;selenium.webdriver.remote.webelement.WebEleme...</td>\n",
       "      <td>40% off</td>\n",
       "    </tr>\n",
       "    <tr>\n",
       "      <th>12</th>\n",
       "      <td>Layasa</td>\n",
       "      <td>&lt;selenium.webdriver.remote.webelement.WebEleme...</td>\n",
       "      <td>50% off</td>\n",
       "    </tr>\n",
       "    <tr>\n",
       "      <th>13</th>\n",
       "      <td>Robbie jones</td>\n",
       "      <td>&lt;selenium.webdriver.remote.webelement.WebEleme...</td>\n",
       "      <td>50% off</td>\n",
       "    </tr>\n",
       "    <tr>\n",
       "      <th>14</th>\n",
       "      <td>Bata</td>\n",
       "      <td>&lt;selenium.webdriver.remote.webelement.WebEleme...</td>\n",
       "      <td>2% off</td>\n",
       "    </tr>\n",
       "    <tr>\n",
       "      <th>15</th>\n",
       "      <td>Chevit</td>\n",
       "      <td>&lt;selenium.webdriver.remote.webelement.WebEleme...</td>\n",
       "      <td>71% off</td>\n",
       "    </tr>\n",
       "    <tr>\n",
       "      <th>16</th>\n",
       "      <td>Nobelite</td>\n",
       "      <td>&lt;selenium.webdriver.remote.webelement.WebEleme...</td>\n",
       "      <td>60% off</td>\n",
       "    </tr>\n",
       "    <tr>\n",
       "      <th>17</th>\n",
       "      <td>RapidBox</td>\n",
       "      <td>&lt;selenium.webdriver.remote.webelement.WebEleme...</td>\n",
       "      <td>34% off</td>\n",
       "    </tr>\n",
       "    <tr>\n",
       "      <th>18</th>\n",
       "      <td>PUMA</td>\n",
       "      <td>&lt;selenium.webdriver.remote.webelement.WebEleme...</td>\n",
       "      <td>40% off</td>\n",
       "    </tr>\n",
       "    <tr>\n",
       "      <th>19</th>\n",
       "      <td>K' Footlance</td>\n",
       "      <td>&lt;selenium.webdriver.remote.webelement.WebEleme...</td>\n",
       "      <td>50% off</td>\n",
       "    </tr>\n",
       "  </tbody>\n",
       "</table>\n",
       "</div>"
      ],
      "text/plain": [
       "             Brand                                              Price Discount\n",
       "0            Xtoon  <selenium.webdriver.remote.webelement.WebEleme...  50% off\n",
       "1          ZF Klub  <selenium.webdriver.remote.webelement.WebEleme...  60% off\n",
       "2   luxury fashion  <selenium.webdriver.remote.webelement.WebEleme...  78% off\n",
       "3             PUMA  <selenium.webdriver.remote.webelement.WebEleme...  50% off\n",
       "4           Chevit  <selenium.webdriver.remote.webelement.WebEleme...  67% off\n",
       "5         RapidBox  <selenium.webdriver.remote.webelement.WebEleme...  36% off\n",
       "6           corsac  <selenium.webdriver.remote.webelement.WebEleme...  64% off\n",
       "7             PUMA  <selenium.webdriver.remote.webelement.WebEleme...  40% off\n",
       "8        DUNKASTON  <selenium.webdriver.remote.webelement.WebEleme...  70% off\n",
       "9             PUMA  <selenium.webdriver.remote.webelement.WebEleme...  48% off\n",
       "10           SPARX  <selenium.webdriver.remote.webelement.WebEleme...  15% off\n",
       "11        RapidBox  <selenium.webdriver.remote.webelement.WebEleme...  40% off\n",
       "12          Layasa  <selenium.webdriver.remote.webelement.WebEleme...  50% off\n",
       "13    Robbie jones  <selenium.webdriver.remote.webelement.WebEleme...  50% off\n",
       "14            Bata  <selenium.webdriver.remote.webelement.WebEleme...   2% off\n",
       "15          Chevit  <selenium.webdriver.remote.webelement.WebEleme...  71% off\n",
       "16        Nobelite  <selenium.webdriver.remote.webelement.WebEleme...  60% off\n",
       "17        RapidBox  <selenium.webdriver.remote.webelement.WebEleme...  34% off\n",
       "18            PUMA  <selenium.webdriver.remote.webelement.WebEleme...  40% off\n",
       "19    K' Footlance  <selenium.webdriver.remote.webelement.WebEleme...  50% off"
      ]
     },
     "execution_count": 397,
     "metadata": {},
     "output_type": "execute_result"
    }
   ],
   "source": [
    "df[0:20]"
   ]
  },
  {
   "cell_type": "code",
   "execution_count": 404,
   "id": "8abc5b58",
   "metadata": {},
   "outputs": [],
   "source": [
    "df= df1"
   ]
  },
  {
   "cell_type": "code",
   "execution_count": 405,
   "id": "f873b905",
   "metadata": {},
   "outputs": [],
   "source": [
    "df=df2.join"
   ]
  },
  {
   "cell_type": "code",
   "execution_count": 406,
   "id": "25ec7f5c",
   "metadata": {},
   "outputs": [
    {
     "data": {
      "text/plain": [
       "<bound method DataFrame.join of              Brand                                              Price  \\\n",
       "0            Xtoon  <selenium.webdriver.remote.webelement.WebEleme...   \n",
       "1          ZF Klub  <selenium.webdriver.remote.webelement.WebEleme...   \n",
       "2   luxury fashion  <selenium.webdriver.remote.webelement.WebEleme...   \n",
       "3             PUMA  <selenium.webdriver.remote.webelement.WebEleme...   \n",
       "4           Chevit  <selenium.webdriver.remote.webelement.WebEleme...   \n",
       "5         RapidBox  <selenium.webdriver.remote.webelement.WebEleme...   \n",
       "6           corsac  <selenium.webdriver.remote.webelement.WebEleme...   \n",
       "7             PUMA  <selenium.webdriver.remote.webelement.WebEleme...   \n",
       "8        DUNKASTON  <selenium.webdriver.remote.webelement.WebEleme...   \n",
       "9             PUMA  <selenium.webdriver.remote.webelement.WebEleme...   \n",
       "10           SPARX  <selenium.webdriver.remote.webelement.WebEleme...   \n",
       "11        RapidBox  <selenium.webdriver.remote.webelement.WebEleme...   \n",
       "12          Layasa  <selenium.webdriver.remote.webelement.WebEleme...   \n",
       "13    Robbie jones  <selenium.webdriver.remote.webelement.WebEleme...   \n",
       "14            Bata  <selenium.webdriver.remote.webelement.WebEleme...   \n",
       "15          Chevit  <selenium.webdriver.remote.webelement.WebEleme...   \n",
       "16        Nobelite  <selenium.webdriver.remote.webelement.WebEleme...   \n",
       "17        RapidBox  <selenium.webdriver.remote.webelement.WebEleme...   \n",
       "18            PUMA  <selenium.webdriver.remote.webelement.WebEleme...   \n",
       "19    K' Footlance  <selenium.webdriver.remote.webelement.WebEleme...   \n",
       "20           SPARX  <selenium.webdriver.remote.webelement.WebEleme...   \n",
       "21       BAUCHHAAR  <selenium.webdriver.remote.webelement.WebEleme...   \n",
       "22        HOTSTYLE  <selenium.webdriver.remote.webelement.WebEleme...   \n",
       "23  KNIGHT WALKERS  <selenium.webdriver.remote.webelement.WebEleme...   \n",
       "24     bacca bucci  <selenium.webdriver.remote.webelement.WebEleme...   \n",
       "25           ASIAN  <selenium.webdriver.remote.webelement.WebEleme...   \n",
       "26          BRUTON  <selenium.webdriver.remote.webelement.WebEleme...   \n",
       "27        LE GREEM  <selenium.webdriver.remote.webelement.WebEleme...   \n",
       "28       DUNKASTON  <selenium.webdriver.remote.webelement.WebEleme...   \n",
       "29    Robbie jones  <selenium.webdriver.remote.webelement.WebEleme...   \n",
       "30            Qtsy  <selenium.webdriver.remote.webelement.WebEleme...   \n",
       "31           HONEY  <selenium.webdriver.remote.webelement.WebEleme...   \n",
       "32           Echor  <selenium.webdriver.remote.webelement.WebEleme...   \n",
       "33            PUMA  <selenium.webdriver.remote.webelement.WebEleme...   \n",
       "34        HOTSTYLE  <selenium.webdriver.remote.webelement.WebEleme...   \n",
       "35          BRUTON  <selenium.webdriver.remote.webelement.WebEleme...   \n",
       "36          BRUTON  <selenium.webdriver.remote.webelement.WebEleme...   \n",
       "37           ASIAN  <selenium.webdriver.remote.webelement.WebEleme...   \n",
       "38         Bretton  <selenium.webdriver.remote.webelement.WebEleme...   \n",
       "39            PUMA  <selenium.webdriver.remote.webelement.WebEleme...   \n",
       "\n",
       "   Discounts  \n",
       "0    50% off  \n",
       "1    60% off  \n",
       "2    78% off  \n",
       "3    50% off  \n",
       "4    67% off  \n",
       "5    36% off  \n",
       "6    64% off  \n",
       "7    40% off  \n",
       "8    70% off  \n",
       "9    48% off  \n",
       "10   15% off  \n",
       "11   40% off  \n",
       "12   50% off  \n",
       "13   50% off  \n",
       "14    2% off  \n",
       "15   71% off  \n",
       "16   60% off  \n",
       "17   34% off  \n",
       "18   40% off  \n",
       "19   50% off  \n",
       "20   15% off  \n",
       "21   55% off  \n",
       "22   40% off  \n",
       "23   56% off  \n",
       "24   53% off  \n",
       "25   37% off  \n",
       "26   76% off  \n",
       "27   50% off  \n",
       "28   66% off  \n",
       "29   50% off  \n",
       "30   50% off  \n",
       "31   55% off  \n",
       "32   46% off  \n",
       "33   40% off  \n",
       "34   41% off  \n",
       "35   76% off  \n",
       "36   76% off  \n",
       "37   40% off  \n",
       "38   74% off  \n",
       "39   40% off  >"
      ]
     },
     "execution_count": 406,
     "metadata": {},
     "output_type": "execute_result"
    }
   ],
   "source": [
    "df"
   ]
  },
  {
   "cell_type": "code",
   "execution_count": 407,
   "id": "0cf277dc",
   "metadata": {},
   "outputs": [],
   "source": [
    "df=df3"
   ]
  },
  {
   "cell_type": "code",
   "execution_count": 408,
   "id": "7aa2614c",
   "metadata": {},
   "outputs": [
    {
     "data": {
      "text/html": [
       "<div>\n",
       "<style scoped>\n",
       "    .dataframe tbody tr th:only-of-type {\n",
       "        vertical-align: middle;\n",
       "    }\n",
       "\n",
       "    .dataframe tbody tr th {\n",
       "        vertical-align: top;\n",
       "    }\n",
       "\n",
       "    .dataframe thead th {\n",
       "        text-align: right;\n",
       "    }\n",
       "</style>\n",
       "<table border=\"1\" class=\"dataframe\">\n",
       "  <thead>\n",
       "    <tr style=\"text-align: right;\">\n",
       "      <th></th>\n",
       "      <th>Brand</th>\n",
       "      <th>Price</th>\n",
       "      <th>Discount</th>\n",
       "    </tr>\n",
       "  </thead>\n",
       "  <tbody>\n",
       "    <tr>\n",
       "      <th>0</th>\n",
       "      <td>Xtoon</td>\n",
       "      <td>&lt;selenium.webdriver.remote.webelement.WebEleme...</td>\n",
       "      <td>50% off</td>\n",
       "    </tr>\n",
       "    <tr>\n",
       "      <th>1</th>\n",
       "      <td>ZF Klub</td>\n",
       "      <td>&lt;selenium.webdriver.remote.webelement.WebEleme...</td>\n",
       "      <td>60% off</td>\n",
       "    </tr>\n",
       "    <tr>\n",
       "      <th>2</th>\n",
       "      <td>luxury fashion</td>\n",
       "      <td>&lt;selenium.webdriver.remote.webelement.WebEleme...</td>\n",
       "      <td>78% off</td>\n",
       "    </tr>\n",
       "    <tr>\n",
       "      <th>3</th>\n",
       "      <td>PUMA</td>\n",
       "      <td>&lt;selenium.webdriver.remote.webelement.WebEleme...</td>\n",
       "      <td>50% off</td>\n",
       "    </tr>\n",
       "    <tr>\n",
       "      <th>4</th>\n",
       "      <td>Chevit</td>\n",
       "      <td>&lt;selenium.webdriver.remote.webelement.WebEleme...</td>\n",
       "      <td>67% off</td>\n",
       "    </tr>\n",
       "    <tr>\n",
       "      <th>5</th>\n",
       "      <td>RapidBox</td>\n",
       "      <td>&lt;selenium.webdriver.remote.webelement.WebEleme...</td>\n",
       "      <td>36% off</td>\n",
       "    </tr>\n",
       "    <tr>\n",
       "      <th>6</th>\n",
       "      <td>corsac</td>\n",
       "      <td>&lt;selenium.webdriver.remote.webelement.WebEleme...</td>\n",
       "      <td>64% off</td>\n",
       "    </tr>\n",
       "    <tr>\n",
       "      <th>7</th>\n",
       "      <td>PUMA</td>\n",
       "      <td>&lt;selenium.webdriver.remote.webelement.WebEleme...</td>\n",
       "      <td>40% off</td>\n",
       "    </tr>\n",
       "    <tr>\n",
       "      <th>8</th>\n",
       "      <td>DUNKASTON</td>\n",
       "      <td>&lt;selenium.webdriver.remote.webelement.WebEleme...</td>\n",
       "      <td>70% off</td>\n",
       "    </tr>\n",
       "    <tr>\n",
       "      <th>9</th>\n",
       "      <td>PUMA</td>\n",
       "      <td>&lt;selenium.webdriver.remote.webelement.WebEleme...</td>\n",
       "      <td>48% off</td>\n",
       "    </tr>\n",
       "    <tr>\n",
       "      <th>10</th>\n",
       "      <td>SPARX</td>\n",
       "      <td>&lt;selenium.webdriver.remote.webelement.WebEleme...</td>\n",
       "      <td>15% off</td>\n",
       "    </tr>\n",
       "    <tr>\n",
       "      <th>11</th>\n",
       "      <td>RapidBox</td>\n",
       "      <td>&lt;selenium.webdriver.remote.webelement.WebEleme...</td>\n",
       "      <td>40% off</td>\n",
       "    </tr>\n",
       "    <tr>\n",
       "      <th>12</th>\n",
       "      <td>Layasa</td>\n",
       "      <td>&lt;selenium.webdriver.remote.webelement.WebEleme...</td>\n",
       "      <td>50% off</td>\n",
       "    </tr>\n",
       "    <tr>\n",
       "      <th>13</th>\n",
       "      <td>Robbie jones</td>\n",
       "      <td>&lt;selenium.webdriver.remote.webelement.WebEleme...</td>\n",
       "      <td>50% off</td>\n",
       "    </tr>\n",
       "    <tr>\n",
       "      <th>14</th>\n",
       "      <td>Bata</td>\n",
       "      <td>&lt;selenium.webdriver.remote.webelement.WebEleme...</td>\n",
       "      <td>2% off</td>\n",
       "    </tr>\n",
       "    <tr>\n",
       "      <th>15</th>\n",
       "      <td>Chevit</td>\n",
       "      <td>&lt;selenium.webdriver.remote.webelement.WebEleme...</td>\n",
       "      <td>71% off</td>\n",
       "    </tr>\n",
       "    <tr>\n",
       "      <th>16</th>\n",
       "      <td>Nobelite</td>\n",
       "      <td>&lt;selenium.webdriver.remote.webelement.WebEleme...</td>\n",
       "      <td>60% off</td>\n",
       "    </tr>\n",
       "    <tr>\n",
       "      <th>17</th>\n",
       "      <td>RapidBox</td>\n",
       "      <td>&lt;selenium.webdriver.remote.webelement.WebEleme...</td>\n",
       "      <td>34% off</td>\n",
       "    </tr>\n",
       "    <tr>\n",
       "      <th>18</th>\n",
       "      <td>PUMA</td>\n",
       "      <td>&lt;selenium.webdriver.remote.webelement.WebEleme...</td>\n",
       "      <td>40% off</td>\n",
       "    </tr>\n",
       "    <tr>\n",
       "      <th>19</th>\n",
       "      <td>K' Footlance</td>\n",
       "      <td>&lt;selenium.webdriver.remote.webelement.WebEleme...</td>\n",
       "      <td>50% off</td>\n",
       "    </tr>\n",
       "    <tr>\n",
       "      <th>20</th>\n",
       "      <td>SPARX</td>\n",
       "      <td>&lt;selenium.webdriver.remote.webelement.WebEleme...</td>\n",
       "      <td>15% off</td>\n",
       "    </tr>\n",
       "    <tr>\n",
       "      <th>21</th>\n",
       "      <td>BAUCHHAAR</td>\n",
       "      <td>&lt;selenium.webdriver.remote.webelement.WebEleme...</td>\n",
       "      <td>55% off</td>\n",
       "    </tr>\n",
       "    <tr>\n",
       "      <th>22</th>\n",
       "      <td>HOTSTYLE</td>\n",
       "      <td>&lt;selenium.webdriver.remote.webelement.WebEleme...</td>\n",
       "      <td>40% off</td>\n",
       "    </tr>\n",
       "    <tr>\n",
       "      <th>23</th>\n",
       "      <td>KNIGHT WALKERS</td>\n",
       "      <td>&lt;selenium.webdriver.remote.webelement.WebEleme...</td>\n",
       "      <td>56% off</td>\n",
       "    </tr>\n",
       "    <tr>\n",
       "      <th>24</th>\n",
       "      <td>bacca bucci</td>\n",
       "      <td>&lt;selenium.webdriver.remote.webelement.WebEleme...</td>\n",
       "      <td>53% off</td>\n",
       "    </tr>\n",
       "    <tr>\n",
       "      <th>25</th>\n",
       "      <td>ASIAN</td>\n",
       "      <td>&lt;selenium.webdriver.remote.webelement.WebEleme...</td>\n",
       "      <td>37% off</td>\n",
       "    </tr>\n",
       "    <tr>\n",
       "      <th>26</th>\n",
       "      <td>BRUTON</td>\n",
       "      <td>&lt;selenium.webdriver.remote.webelement.WebEleme...</td>\n",
       "      <td>76% off</td>\n",
       "    </tr>\n",
       "    <tr>\n",
       "      <th>27</th>\n",
       "      <td>LE GREEM</td>\n",
       "      <td>&lt;selenium.webdriver.remote.webelement.WebEleme...</td>\n",
       "      <td>50% off</td>\n",
       "    </tr>\n",
       "    <tr>\n",
       "      <th>28</th>\n",
       "      <td>DUNKASTON</td>\n",
       "      <td>&lt;selenium.webdriver.remote.webelement.WebEleme...</td>\n",
       "      <td>66% off</td>\n",
       "    </tr>\n",
       "    <tr>\n",
       "      <th>29</th>\n",
       "      <td>Robbie jones</td>\n",
       "      <td>&lt;selenium.webdriver.remote.webelement.WebEleme...</td>\n",
       "      <td>50% off</td>\n",
       "    </tr>\n",
       "    <tr>\n",
       "      <th>30</th>\n",
       "      <td>Qtsy</td>\n",
       "      <td>&lt;selenium.webdriver.remote.webelement.WebEleme...</td>\n",
       "      <td>50% off</td>\n",
       "    </tr>\n",
       "    <tr>\n",
       "      <th>31</th>\n",
       "      <td>HONEY</td>\n",
       "      <td>&lt;selenium.webdriver.remote.webelement.WebEleme...</td>\n",
       "      <td>55% off</td>\n",
       "    </tr>\n",
       "    <tr>\n",
       "      <th>32</th>\n",
       "      <td>Echor</td>\n",
       "      <td>&lt;selenium.webdriver.remote.webelement.WebEleme...</td>\n",
       "      <td>46% off</td>\n",
       "    </tr>\n",
       "    <tr>\n",
       "      <th>33</th>\n",
       "      <td>PUMA</td>\n",
       "      <td>&lt;selenium.webdriver.remote.webelement.WebEleme...</td>\n",
       "      <td>40% off</td>\n",
       "    </tr>\n",
       "    <tr>\n",
       "      <th>34</th>\n",
       "      <td>HOTSTYLE</td>\n",
       "      <td>&lt;selenium.webdriver.remote.webelement.WebEleme...</td>\n",
       "      <td>41% off</td>\n",
       "    </tr>\n",
       "    <tr>\n",
       "      <th>35</th>\n",
       "      <td>BRUTON</td>\n",
       "      <td>&lt;selenium.webdriver.remote.webelement.WebEleme...</td>\n",
       "      <td>76% off</td>\n",
       "    </tr>\n",
       "    <tr>\n",
       "      <th>36</th>\n",
       "      <td>BRUTON</td>\n",
       "      <td>&lt;selenium.webdriver.remote.webelement.WebEleme...</td>\n",
       "      <td>76% off</td>\n",
       "    </tr>\n",
       "    <tr>\n",
       "      <th>37</th>\n",
       "      <td>ASIAN</td>\n",
       "      <td>&lt;selenium.webdriver.remote.webelement.WebEleme...</td>\n",
       "      <td>40% off</td>\n",
       "    </tr>\n",
       "    <tr>\n",
       "      <th>38</th>\n",
       "      <td>Bretton</td>\n",
       "      <td>&lt;selenium.webdriver.remote.webelement.WebEleme...</td>\n",
       "      <td>74% off</td>\n",
       "    </tr>\n",
       "    <tr>\n",
       "      <th>39</th>\n",
       "      <td>PUMA</td>\n",
       "      <td>&lt;selenium.webdriver.remote.webelement.WebEleme...</td>\n",
       "      <td>40% off</td>\n",
       "    </tr>\n",
       "  </tbody>\n",
       "</table>\n",
       "</div>"
      ],
      "text/plain": [
       "             Brand                                              Price Discount\n",
       "0            Xtoon  <selenium.webdriver.remote.webelement.WebEleme...  50% off\n",
       "1          ZF Klub  <selenium.webdriver.remote.webelement.WebEleme...  60% off\n",
       "2   luxury fashion  <selenium.webdriver.remote.webelement.WebEleme...  78% off\n",
       "3             PUMA  <selenium.webdriver.remote.webelement.WebEleme...  50% off\n",
       "4           Chevit  <selenium.webdriver.remote.webelement.WebEleme...  67% off\n",
       "5         RapidBox  <selenium.webdriver.remote.webelement.WebEleme...  36% off\n",
       "6           corsac  <selenium.webdriver.remote.webelement.WebEleme...  64% off\n",
       "7             PUMA  <selenium.webdriver.remote.webelement.WebEleme...  40% off\n",
       "8        DUNKASTON  <selenium.webdriver.remote.webelement.WebEleme...  70% off\n",
       "9             PUMA  <selenium.webdriver.remote.webelement.WebEleme...  48% off\n",
       "10           SPARX  <selenium.webdriver.remote.webelement.WebEleme...  15% off\n",
       "11        RapidBox  <selenium.webdriver.remote.webelement.WebEleme...  40% off\n",
       "12          Layasa  <selenium.webdriver.remote.webelement.WebEleme...  50% off\n",
       "13    Robbie jones  <selenium.webdriver.remote.webelement.WebEleme...  50% off\n",
       "14            Bata  <selenium.webdriver.remote.webelement.WebEleme...   2% off\n",
       "15          Chevit  <selenium.webdriver.remote.webelement.WebEleme...  71% off\n",
       "16        Nobelite  <selenium.webdriver.remote.webelement.WebEleme...  60% off\n",
       "17        RapidBox  <selenium.webdriver.remote.webelement.WebEleme...  34% off\n",
       "18            PUMA  <selenium.webdriver.remote.webelement.WebEleme...  40% off\n",
       "19    K' Footlance  <selenium.webdriver.remote.webelement.WebEleme...  50% off\n",
       "20           SPARX  <selenium.webdriver.remote.webelement.WebEleme...  15% off\n",
       "21       BAUCHHAAR  <selenium.webdriver.remote.webelement.WebEleme...  55% off\n",
       "22        HOTSTYLE  <selenium.webdriver.remote.webelement.WebEleme...  40% off\n",
       "23  KNIGHT WALKERS  <selenium.webdriver.remote.webelement.WebEleme...  56% off\n",
       "24     bacca bucci  <selenium.webdriver.remote.webelement.WebEleme...  53% off\n",
       "25           ASIAN  <selenium.webdriver.remote.webelement.WebEleme...  37% off\n",
       "26          BRUTON  <selenium.webdriver.remote.webelement.WebEleme...  76% off\n",
       "27        LE GREEM  <selenium.webdriver.remote.webelement.WebEleme...  50% off\n",
       "28       DUNKASTON  <selenium.webdriver.remote.webelement.WebEleme...  66% off\n",
       "29    Robbie jones  <selenium.webdriver.remote.webelement.WebEleme...  50% off\n",
       "30            Qtsy  <selenium.webdriver.remote.webelement.WebEleme...  50% off\n",
       "31           HONEY  <selenium.webdriver.remote.webelement.WebEleme...  55% off\n",
       "32           Echor  <selenium.webdriver.remote.webelement.WebEleme...  46% off\n",
       "33            PUMA  <selenium.webdriver.remote.webelement.WebEleme...  40% off\n",
       "34        HOTSTYLE  <selenium.webdriver.remote.webelement.WebEleme...  41% off\n",
       "35          BRUTON  <selenium.webdriver.remote.webelement.WebEleme...  76% off\n",
       "36          BRUTON  <selenium.webdriver.remote.webelement.WebEleme...  76% off\n",
       "37           ASIAN  <selenium.webdriver.remote.webelement.WebEleme...  40% off\n",
       "38         Bretton  <selenium.webdriver.remote.webelement.WebEleme...  74% off\n",
       "39            PUMA  <selenium.webdriver.remote.webelement.WebEleme...  40% off"
      ]
     },
     "execution_count": 408,
     "metadata": {},
     "output_type": "execute_result"
    }
   ],
   "source": [
    "df"
   ]
  },
  {
   "cell_type": "code",
   "execution_count": null,
   "id": "1b3c132b",
   "metadata": {},
   "outputs": [],
   "source": []
  },
  {
   "cell_type": "markdown",
   "id": "8f5d7ac7",
   "metadata": {},
   "source": [
    "Q7: Go to the link - https://www.myntra.com/shoes\n",
    "Set second Price filter and Color filter to “Black”.\n",
    "And then scrape First 100 shoes data you get. The data should include “Brand” of the shoes , Short Shoe\n",
    "description, price of the shoe.\n",
    "Note: Applying the filter and scraping the data, everything should be done through code only and there\n",
    "should not be any manual step.\n"
   ]
  },
  {
   "cell_type": "code",
   "execution_count": 414,
   "id": "ba9f0a03",
   "metadata": {},
   "outputs": [],
   "source": [
    "from selenium import webdriver\n",
    "import urllib.request\n",
    "import os\n",
    "import json"
   ]
  },
  {
   "cell_type": "code",
   "execution_count": 415,
   "id": "1c55879c",
   "metadata": {},
   "outputs": [],
   "source": [
    "driver  =  webdriver.Chrome(r'C:\\Users\\user\\Downloads\\chromedriver_win32 (1)\\chromedriver.exe')"
   ]
  },
  {
   "cell_type": "code",
   "execution_count": 416,
   "id": "5fdedd51",
   "metadata": {},
   "outputs": [],
   "source": [
    "url = 'https://www.myntra.com/shoes'\n",
    "driver.get(url)"
   ]
  },
  {
   "cell_type": "markdown",
   "id": "2c11294d",
   "metadata": {},
   "source": [
    "# UNABLE TO SCRAPE MYNTRA\n",
    "   \n",
    "   so, i can't do question no. 7"
   ]
  },
  {
   "cell_type": "code",
   "execution_count": null,
   "id": "be968c31",
   "metadata": {},
   "outputs": [],
   "source": []
  },
  {
   "cell_type": "markdown",
   "id": "c2ff30e4",
   "metadata": {},
   "source": [
    "Q8: Go to webpage https://www.amazon.in/\n",
    "Enter “Laptop” in the search field and then click the search icon.\n",
    "Then set CPU Type filter to “Intel Core i7”\n",
    "After setting the filters scrape first 10 laptops data. You have to scrape 3 attributesfor each laptop:\n",
    "1. Title\n",
    "2. Ratings\n",
    "3. Price\n",
    "\n",
    "\n",
    "Note: All the steps required during scraping should be done through code only and not manually."
   ]
  },
  {
   "cell_type": "code",
   "execution_count": 417,
   "id": "f534bbe0",
   "metadata": {},
   "outputs": [],
   "source": [
    "driver  =  webdriver.Chrome(r'C:\\Users\\user\\Downloads\\chromedriver_win32 (1)\\chromedriver.exe')"
   ]
  },
  {
   "cell_type": "code",
   "execution_count": 418,
   "id": "6ed9009e",
   "metadata": {},
   "outputs": [],
   "source": [
    "url = ' https://www.amazon.in/'\n",
    "driver.get(url)"
   ]
  },
  {
   "cell_type": "code",
   "execution_count": 419,
   "id": "3929a624",
   "metadata": {},
   "outputs": [
    {
     "data": {
      "text/plain": [
       "<selenium.webdriver.remote.webelement.WebElement (session=\"7640d1b7bffb5847e53d7e0f25cde893\", element=\"990400fb-3e7a-4c8f-9f05-52a6bd8c710d\")>"
      ]
     },
     "execution_count": 419,
     "metadata": {},
     "output_type": "execute_result"
    }
   ],
   "source": [
    "search_field  = driver.find_element(\"xpath\",'/html/body/div[1]/header/div/div[1]/div[2]/div/form/div[2]/div[1]/input')\n",
    "search_field"
   ]
  },
  {
   "cell_type": "code",
   "execution_count": 420,
   "id": "275bab81",
   "metadata": {},
   "outputs": [],
   "source": [
    "search_field.send_keys(\"Laptop\")"
   ]
  },
  {
   "cell_type": "code",
   "execution_count": 421,
   "id": "9cc60010",
   "metadata": {},
   "outputs": [
    {
     "data": {
      "text/plain": [
       "<selenium.webdriver.remote.webelement.WebElement (session=\"7640d1b7bffb5847e53d7e0f25cde893\", element=\"136a2b93-a8da-40c5-9be2-e4fba6d174d1\")>"
      ]
     },
     "execution_count": 421,
     "metadata": {},
     "output_type": "execute_result"
    }
   ],
   "source": [
    "search_btn  =  driver.find_element(\"xpath\",'/html/body/div[1]/header/div/div[1]/div[2]/div/form/div[3]/div/span/input')\n",
    "search_btn"
   ]
  },
  {
   "cell_type": "code",
   "execution_count": 422,
   "id": "90e247c3",
   "metadata": {},
   "outputs": [],
   "source": [
    "search_btn.click()"
   ]
  },
  {
   "cell_type": "code",
   "execution_count": 423,
   "id": "0a4c854b",
   "metadata": {},
   "outputs": [],
   "source": [
    "CPU_type  =  driver.find_element(\"xpath\",'/html/body/div[1]/div[2]/div[1]/div[2]/div/div[3]/span/div[1]/div/div/div[5]/ul[2]/li[13]/span/a/div/label/i')\n",
    "CPU_type.click()"
   ]
  },
  {
   "cell_type": "code",
   "execution_count": 424,
   "id": "676d8aa8",
   "metadata": {},
   "outputs": [
    {
     "data": {
      "text/plain": [
       "24"
      ]
     },
     "execution_count": 424,
     "metadata": {},
     "output_type": "execute_result"
    }
   ],
   "source": [
    "Laptop_title  =  driver.find_elements(\"xpath\",'//h2[@class=\"a-size-mini a-spacing-none a-color-base s-line-clamp-2\"]')\n",
    "len(Laptop_title)"
   ]
  },
  {
   "cell_type": "code",
   "execution_count": 425,
   "id": "9bdc8112",
   "metadata": {},
   "outputs": [
    {
     "data": {
      "text/plain": [
       "24"
      ]
     },
     "execution_count": 425,
     "metadata": {},
     "output_type": "execute_result"
    }
   ],
   "source": [
    "laptop_title=[]\n",
    "for i in Laptop_title:\n",
    "    laptop_title.append(i.text)\n",
    "len(laptop_title)    "
   ]
  },
  {
   "cell_type": "code",
   "execution_count": 427,
   "id": "bff79ea7",
   "metadata": {},
   "outputs": [
    {
     "data": {
      "text/plain": [
       "['ASUS TUF Gaming F15 (2021), 15.6\" (39.62 cms) FHD 144Hz, Intel Core i7-11600H 11th Gen, 4GB RTX 3050 Graphics, Gaming Laptop (16GB/512GB SSD/Windows 10/Office 2019/Gray/2.3 Kg), FX566HCB-HN299TS',\n",
       " 'ASUS Vivobook 15, 15.6-inch (39.62 cms) FHD, Intel Core i7-1065G7 10th Gen, Thin and Light Laptop (16GB/512GB SSD/Iris Plus Graphics/Windows 11/Office 2021/Silver/1.8 kg), X515JA-EJ701WS',\n",
       " 'Lenovo ThinkBook 15 Intel 11th Gen Core i7 15.6\"(39.62 cm)FHD Thin and Light Laptop (16GB/512GB SSD/Windows 11 Home/MS Office H&S 2021/Iris® Xe Graphics/Backlit/Mineral Grey/1.7 Kg) 20VE00W4IH',\n",
       " 'Infinix INBook X1 Pro Core i7 10th Gen - (16 GB/512 GB SSD/Windows 11 Home) XL12 Thin and Light Laptop (14 Inch, Noble Red, 1.48 kg)',\n",
       " 'Lenovo IdeaPad Slim 5 Pro Intel Core i7 11th Gen 14\" (35.56cm) 2.2K IPS Thin & Light Laptop (16GB/512GB SSD/Win11/Office 2021/Backlit/3Yr Warranty/3months Game Pass/Storm Grey/1.38Kg), 82L3006YIN',\n",
       " 'Hp Pavilion 15 12Th Gen Intel Core I7 16Gb Sdram/1Tb Ssd 15.6 Inches (39.6Cm) Fhd,IPS/Intel Iris Xe Graphics/B&O/Windows 11 Home/Alexa/Backlit Kb/Fpr/Mso 2021/1.75Kg, 15-Eg2039Tu, Natural Silver',\n",
       " 'ASUS Zenbook 14 OLED (2022), 14\" (35.56 cms) 2.8K OLED 16:10 90Hz, Intel Core Evo i7-1260P 12th Gen, Thin and Light Laptop (16GB/512GB SSD/Windows 11/Office 2021/Blue/1.39 kg), UX3402ZA-KM731WS',\n",
       " 'Mi Notebook Horizon Edition 14 Intel Core i7-10510U 10th Gen Thin and Light Laptop(8GB/512GB SSD/Windows 10/Nvidia MX350 2GB Graphics/Grey/1.35Kg)(Without Webcam) XMA1904-AF',\n",
       " 'Samsung Galaxy Book2 Intel 12th Gen core i7 39.6cm (15.6\") FHD LED Thin & Light Laptop (16 GB/512 GB SSD/Windows 11/MS Office/Backlit Keyboard/Fingerprint Reader/Silver/1.55Kg), NP750XED-KC2IN',\n",
       " 'Lenovo ThinkPad E14 Intel Core i7 11th Gen 14-inch (35.56cm) FHD TN Antiglare Thin and Light Laptop (16GB RAM/512GB SSD/Windows 11 Home/Microsoft Office H&S 2021/FPR/Black/1.59 kg), 20TAS1B400']"
      ]
     },
     "execution_count": 427,
     "metadata": {},
     "output_type": "execute_result"
    }
   ],
   "source": [
    "laptop_title[0:10]"
   ]
  },
  {
   "cell_type": "code",
   "execution_count": 428,
   "id": "ed800de2",
   "metadata": {},
   "outputs": [
    {
     "data": {
      "text/plain": [
       "24"
      ]
     },
     "execution_count": 428,
     "metadata": {},
     "output_type": "execute_result"
    }
   ],
   "source": [
    "len(laptop_title)"
   ]
  },
  {
   "cell_type": "code",
   "execution_count": 431,
   "id": "8ffea70a",
   "metadata": {},
   "outputs": [
    {
     "data": {
      "text/html": [
       "<div>\n",
       "<style scoped>\n",
       "    .dataframe tbody tr th:only-of-type {\n",
       "        vertical-align: middle;\n",
       "    }\n",
       "\n",
       "    .dataframe tbody tr th {\n",
       "        vertical-align: top;\n",
       "    }\n",
       "\n",
       "    .dataframe thead th {\n",
       "        text-align: right;\n",
       "    }\n",
       "</style>\n",
       "<table border=\"1\" class=\"dataframe\">\n",
       "  <thead>\n",
       "    <tr style=\"text-align: right;\">\n",
       "      <th></th>\n",
       "      <th>Title</th>\n",
       "    </tr>\n",
       "  </thead>\n",
       "  <tbody>\n",
       "    <tr>\n",
       "      <th>0</th>\n",
       "      <td>ASUS TUF Gaming F15 (2021), 15.6\" (39.62 cms) ...</td>\n",
       "    </tr>\n",
       "    <tr>\n",
       "      <th>1</th>\n",
       "      <td>ASUS Vivobook 15, 15.6-inch (39.62 cms) FHD, I...</td>\n",
       "    </tr>\n",
       "    <tr>\n",
       "      <th>2</th>\n",
       "      <td>Lenovo ThinkBook 15 Intel 11th Gen Core i7 15....</td>\n",
       "    </tr>\n",
       "    <tr>\n",
       "      <th>3</th>\n",
       "      <td>Infinix INBook X1 Pro Core i7 10th Gen - (16 G...</td>\n",
       "    </tr>\n",
       "    <tr>\n",
       "      <th>4</th>\n",
       "      <td>Lenovo IdeaPad Slim 5 Pro Intel Core i7 11th G...</td>\n",
       "    </tr>\n",
       "    <tr>\n",
       "      <th>5</th>\n",
       "      <td>Hp Pavilion 15 12Th Gen Intel Core I7 16Gb Sdr...</td>\n",
       "    </tr>\n",
       "    <tr>\n",
       "      <th>6</th>\n",
       "      <td>ASUS Zenbook 14 OLED (2022), 14\" (35.56 cms) 2...</td>\n",
       "    </tr>\n",
       "    <tr>\n",
       "      <th>7</th>\n",
       "      <td>Mi Notebook Horizon Edition 14 Intel Core i7-1...</td>\n",
       "    </tr>\n",
       "    <tr>\n",
       "      <th>8</th>\n",
       "      <td>Samsung Galaxy Book2 Intel 12th Gen core i7 39...</td>\n",
       "    </tr>\n",
       "    <tr>\n",
       "      <th>9</th>\n",
       "      <td>Lenovo ThinkPad E14 Intel Core i7 11th Gen 14-...</td>\n",
       "    </tr>\n",
       "  </tbody>\n",
       "</table>\n",
       "</div>"
      ],
      "text/plain": [
       "                                               Title\n",
       "0  ASUS TUF Gaming F15 (2021), 15.6\" (39.62 cms) ...\n",
       "1  ASUS Vivobook 15, 15.6-inch (39.62 cms) FHD, I...\n",
       "2  Lenovo ThinkBook 15 Intel 11th Gen Core i7 15....\n",
       "3  Infinix INBook X1 Pro Core i7 10th Gen - (16 G...\n",
       "4  Lenovo IdeaPad Slim 5 Pro Intel Core i7 11th G...\n",
       "5  Hp Pavilion 15 12Th Gen Intel Core I7 16Gb Sdr...\n",
       "6  ASUS Zenbook 14 OLED (2022), 14\" (35.56 cms) 2...\n",
       "7  Mi Notebook Horizon Edition 14 Intel Core i7-1...\n",
       "8  Samsung Galaxy Book2 Intel 12th Gen core i7 39...\n",
       "9  Lenovo ThinkPad E14 Intel Core i7 11th Gen 14-..."
      ]
     },
     "execution_count": 431,
     "metadata": {},
     "output_type": "execute_result"
    }
   ],
   "source": [
    "df=pd.DataFrame()\n",
    "df['Title']=laptop_title\n",
    "df[0:10]"
   ]
  },
  {
   "cell_type": "code",
   "execution_count": 433,
   "id": "48e0badc",
   "metadata": {},
   "outputs": [
    {
     "data": {
      "text/plain": [
       "3"
      ]
     },
     "execution_count": 433,
     "metadata": {},
     "output_type": "execute_result"
    }
   ],
   "source": [
    "ratings = driver.find_elements(\"xpath\",'//i[@class=\"a-icon a-icon-star-small a-star-small-4-5 aok-align-bottom\"]')\n",
    "len(ratings)"
   ]
  },
  {
   "cell_type": "code",
   "execution_count": 434,
   "id": "67be592c",
   "metadata": {},
   "outputs": [
    {
     "data": {
      "text/plain": [
       "['', '', '']"
      ]
     },
     "execution_count": 434,
     "metadata": {},
     "output_type": "execute_result"
    }
   ],
   "source": [
    "rating=[]\n",
    "for i in ratings:\n",
    "    rating.append(i.text)\n",
    "rating    "
   ]
  },
  {
   "cell_type": "code",
   "execution_count": 439,
   "id": "7f75b8d8",
   "metadata": {},
   "outputs": [
    {
     "data": {
      "text/plain": [
       "24"
      ]
     },
     "execution_count": 439,
     "metadata": {},
     "output_type": "execute_result"
    }
   ],
   "source": [
    "price_of_laptop =  driver.find_elements(\"xpath\",'//span[@class=\"a-price\"]')\n",
    "len(price_of_laptop)"
   ]
  },
  {
   "cell_type": "code",
   "execution_count": 440,
   "id": "1bde9081",
   "metadata": {},
   "outputs": [
    {
     "data": {
      "text/plain": [
       "['₹89,990',\n",
       " '₹57,890',\n",
       " '₹86,990',\n",
       " '₹53,999',\n",
       " '₹75,990',\n",
       " '₹87,900',\n",
       " '₹1,07,794',\n",
       " '₹58,950',\n",
       " '₹79,990',\n",
       " '₹94,990',\n",
       " '₹82,990',\n",
       " '₹56,995',\n",
       " '₹38,325',\n",
       " '₹86,990',\n",
       " '₹39,178',\n",
       " '₹55,895',\n",
       " '₹40,082',\n",
       " '₹60,990',\n",
       " '₹51,490',\n",
       " '₹94,990',\n",
       " '₹57,999',\n",
       " '₹25,690',\n",
       " '₹38,998',\n",
       " '₹33,890']"
      ]
     },
     "execution_count": 440,
     "metadata": {},
     "output_type": "execute_result"
    }
   ],
   "source": [
    "price = []\n",
    "for i in price_of_laptop:\n",
    "    price.append(i.text)\n",
    "price    "
   ]
  },
  {
   "cell_type": "code",
   "execution_count": 444,
   "id": "577a1032",
   "metadata": {},
   "outputs": [
    {
     "data": {
      "text/plain": [
       "(24, 24, 3)"
      ]
     },
     "execution_count": 444,
     "metadata": {},
     "output_type": "execute_result"
    }
   ],
   "source": [
    "len(price),len(laptop_title),len(ratings)"
   ]
  },
  {
   "cell_type": "code",
   "execution_count": 445,
   "id": "2fc834a3",
   "metadata": {},
   "outputs": [
    {
     "data": {
      "text/html": [
       "<div>\n",
       "<style scoped>\n",
       "    .dataframe tbody tr th:only-of-type {\n",
       "        vertical-align: middle;\n",
       "    }\n",
       "\n",
       "    .dataframe tbody tr th {\n",
       "        vertical-align: top;\n",
       "    }\n",
       "\n",
       "    .dataframe thead th {\n",
       "        text-align: right;\n",
       "    }\n",
       "</style>\n",
       "<table border=\"1\" class=\"dataframe\">\n",
       "  <thead>\n",
       "    <tr style=\"text-align: right;\">\n",
       "      <th></th>\n",
       "      <th>Title</th>\n",
       "      <th>Price</th>\n",
       "    </tr>\n",
       "  </thead>\n",
       "  <tbody>\n",
       "    <tr>\n",
       "      <th>0</th>\n",
       "      <td>ASUS TUF Gaming F15 (2021), 15.6\" (39.62 cms) ...</td>\n",
       "      <td>₹89,990</td>\n",
       "    </tr>\n",
       "    <tr>\n",
       "      <th>1</th>\n",
       "      <td>ASUS Vivobook 15, 15.6-inch (39.62 cms) FHD, I...</td>\n",
       "      <td>₹57,890</td>\n",
       "    </tr>\n",
       "    <tr>\n",
       "      <th>2</th>\n",
       "      <td>Lenovo ThinkBook 15 Intel 11th Gen Core i7 15....</td>\n",
       "      <td>₹86,990</td>\n",
       "    </tr>\n",
       "    <tr>\n",
       "      <th>3</th>\n",
       "      <td>Infinix INBook X1 Pro Core i7 10th Gen - (16 G...</td>\n",
       "      <td>₹53,999</td>\n",
       "    </tr>\n",
       "    <tr>\n",
       "      <th>4</th>\n",
       "      <td>Lenovo IdeaPad Slim 5 Pro Intel Core i7 11th G...</td>\n",
       "      <td>₹75,990</td>\n",
       "    </tr>\n",
       "    <tr>\n",
       "      <th>5</th>\n",
       "      <td>Hp Pavilion 15 12Th Gen Intel Core I7 16Gb Sdr...</td>\n",
       "      <td>₹87,900</td>\n",
       "    </tr>\n",
       "    <tr>\n",
       "      <th>6</th>\n",
       "      <td>ASUS Zenbook 14 OLED (2022), 14\" (35.56 cms) 2...</td>\n",
       "      <td>₹1,07,794</td>\n",
       "    </tr>\n",
       "    <tr>\n",
       "      <th>7</th>\n",
       "      <td>Mi Notebook Horizon Edition 14 Intel Core i7-1...</td>\n",
       "      <td>₹58,950</td>\n",
       "    </tr>\n",
       "    <tr>\n",
       "      <th>8</th>\n",
       "      <td>Samsung Galaxy Book2 Intel 12th Gen core i7 39...</td>\n",
       "      <td>₹79,990</td>\n",
       "    </tr>\n",
       "    <tr>\n",
       "      <th>9</th>\n",
       "      <td>Lenovo ThinkPad E14 Intel Core i7 11th Gen 14-...</td>\n",
       "      <td>₹94,990</td>\n",
       "    </tr>\n",
       "  </tbody>\n",
       "</table>\n",
       "</div>"
      ],
      "text/plain": [
       "                                               Title      Price\n",
       "0  ASUS TUF Gaming F15 (2021), 15.6\" (39.62 cms) ...    ₹89,990\n",
       "1  ASUS Vivobook 15, 15.6-inch (39.62 cms) FHD, I...    ₹57,890\n",
       "2  Lenovo ThinkBook 15 Intel 11th Gen Core i7 15....    ₹86,990\n",
       "3  Infinix INBook X1 Pro Core i7 10th Gen - (16 G...    ₹53,999\n",
       "4  Lenovo IdeaPad Slim 5 Pro Intel Core i7 11th G...    ₹75,990\n",
       "5  Hp Pavilion 15 12Th Gen Intel Core I7 16Gb Sdr...    ₹87,900\n",
       "6  ASUS Zenbook 14 OLED (2022), 14\" (35.56 cms) 2...  ₹1,07,794\n",
       "7  Mi Notebook Horizon Edition 14 Intel Core i7-1...    ₹58,950\n",
       "8  Samsung Galaxy Book2 Intel 12th Gen core i7 39...    ₹79,990\n",
       "9  Lenovo ThinkPad E14 Intel Core i7 11th Gen 14-...    ₹94,990"
      ]
     },
     "execution_count": 445,
     "metadata": {},
     "output_type": "execute_result"
    }
   ],
   "source": [
    "df = pd.DataFrame()\n",
    "df['Title']=laptop_title\n",
    "df['Price']=price\n",
    "df[0:10]"
   ]
  },
  {
   "cell_type": "code",
   "execution_count": null,
   "id": "aadebbe9",
   "metadata": {},
   "outputs": [],
   "source": []
  },
  {
   "cell_type": "markdown",
   "id": "d0e60f43",
   "metadata": {},
   "source": [
    "Q9: Write a python program to scrape data for first 10 job results for Data Scientist Designation in Noida\n",
    "location. You have to scrape company name, No. of days ago when job was posted, Rating of the company.\n",
    "This task will be done in following steps:\n",
    "1. First get the webpage https://www.ambitionbox.com/\n",
    "2. Click on the Job option as shown in the image\n",
    "3. After reaching to the next webpage, In place of “Search by Designations, Companies, Skills” enter\n",
    "“Data Scientist” and click on search button.\n",
    "4. You will reach to the following web page click on location and in place of “Search location” enter\n",
    "“Noida” and select location “Noida”.\n",
    "5. Then scrape the data for the first 10 jobs results you get on the above shown page.\n",
    "6. Finally create a dataframe of the scraped data.\n",
    "Note: All the steps required during scraping should be done through code only and not manually."
   ]
  },
  {
   "cell_type": "code",
   "execution_count": 446,
   "id": "884111bc",
   "metadata": {},
   "outputs": [],
   "source": [
    "driver  =  webdriver.Chrome(r'C:\\Users\\user\\Downloads\\chromedriver_win32 (1)\\chromedriver.exe')"
   ]
  },
  {
   "cell_type": "code",
   "execution_count": 447,
   "id": "666b91ee",
   "metadata": {},
   "outputs": [],
   "source": [
    "url  =  'https://www.ambitionbox.com/'\n",
    "driver.get(url)"
   ]
  },
  {
   "cell_type": "code",
   "execution_count": 448,
   "id": "b1faa05f",
   "metadata": {},
   "outputs": [
    {
     "data": {
      "text/plain": [
       "<selenium.webdriver.remote.webelement.WebElement (session=\"a73695829e2124160fdbd1df34deaaac\", element=\"b13fd901-4c02-4513-af1c-24c0caca442d\")>"
      ]
     },
     "execution_count": 448,
     "metadata": {},
     "output_type": "execute_result"
    }
   ],
   "source": [
    "job_option = driver.find_element(\"xpath\",'/html/body/div[1]/nav/nav/a[6]')\n",
    "job_option"
   ]
  },
  {
   "cell_type": "code",
   "execution_count": 449,
   "id": "213c71b5",
   "metadata": {},
   "outputs": [],
   "source": [
    "job_option.click()"
   ]
  },
  {
   "cell_type": "code",
   "execution_count": 450,
   "id": "8e8d1d9e",
   "metadata": {},
   "outputs": [
    {
     "data": {
      "text/plain": [
       "<selenium.webdriver.remote.webelement.WebElement (session=\"a73695829e2124160fdbd1df34deaaac\", element=\"c91cd793-4c3f-4253-b92b-18e088431a15\")>"
      ]
     },
     "execution_count": 450,
     "metadata": {},
     "output_type": "execute_result"
    }
   ],
   "source": [
    "search_by_designations = driver.find_element(\"xpath\",'/html/body/div/div/div/div[2]/div[1]/div[1]/div/div/div/div/span/input')\n",
    "search_by_designations"
   ]
  },
  {
   "cell_type": "code",
   "execution_count": 451,
   "id": "7bc68595",
   "metadata": {},
   "outputs": [],
   "source": [
    "search_by_designations.send_keys('Data Scientist')"
   ]
  },
  {
   "cell_type": "code",
   "execution_count": 452,
   "id": "b5ddb4f0",
   "metadata": {},
   "outputs": [
    {
     "data": {
      "text/plain": [
       "<selenium.webdriver.remote.webelement.WebElement (session=\"a73695829e2124160fdbd1df34deaaac\", element=\"3d6b7c60-e6d2-4c0c-8c76-11d982bd4df3\")>"
      ]
     },
     "execution_count": 452,
     "metadata": {},
     "output_type": "execute_result"
    }
   ],
   "source": [
    "search_btn =  driver.find_element(\"xpath\",'/html/body/div/div/div/div[2]/div[1]/div[1]/div/div/div/button')\n",
    "search_btn"
   ]
  },
  {
   "cell_type": "code",
   "execution_count": 453,
   "id": "dc87b9b8",
   "metadata": {},
   "outputs": [],
   "source": [
    "search_btn.click()"
   ]
  },
  {
   "cell_type": "code",
   "execution_count": 454,
   "id": "c951b58e",
   "metadata": {},
   "outputs": [
    {
     "data": {
      "text/plain": [
       "<selenium.webdriver.remote.webelement.WebElement (session=\"a73695829e2124160fdbd1df34deaaac\", element=\"2c7cb87c-95c1-42c1-ab62-8e55300dd178\")>"
      ]
     },
     "execution_count": 454,
     "metadata": {},
     "output_type": "execute_result"
    }
   ],
   "source": [
    "search_locn  =  driver.find_element(\"xpath\",'/html/body/div/div/div/div[2]/div[1]/div[2]/div[1]/div/div/div/div[2]/div[2]/div/div[2]/input')\n",
    "search_locn"
   ]
  },
  {
   "cell_type": "code",
   "execution_count": 455,
   "id": "7dbfd76b",
   "metadata": {},
   "outputs": [],
   "source": [
    "search_locn.click()"
   ]
  },
  {
   "cell_type": "code",
   "execution_count": 456,
   "id": "0156786e",
   "metadata": {},
   "outputs": [
    {
     "data": {
      "text/plain": [
       "<selenium.webdriver.remote.webelement.WebElement (session=\"a73695829e2124160fdbd1df34deaaac\", element=\"ffd99fc8-ab54-4a3c-b577-0256f45c3749\")>"
      ]
     },
     "execution_count": 456,
     "metadata": {},
     "output_type": "execute_result"
    }
   ],
   "source": [
    "locn_noida = driver.find_element(\"xpath\",'/html/body/div/div/div/div[2]/div[1]/div[2]/div[1]/div/div/div/div[2]/div[2]/div/div[3]/div[1]/div[1]/div/label')\n",
    "locn_noida"
   ]
  },
  {
   "cell_type": "code",
   "execution_count": 457,
   "id": "100f5275",
   "metadata": {},
   "outputs": [],
   "source": [
    "locn_noida.click()"
   ]
  },
  {
   "cell_type": "code",
   "execution_count": 458,
   "id": "0b6fff1c",
   "metadata": {},
   "outputs": [
    {
     "data": {
      "text/plain": [
       "10"
      ]
     },
     "execution_count": 458,
     "metadata": {},
     "output_type": "execute_result"
    }
   ],
   "source": [
    "job_title =  driver.find_elements(\"xpath\",'//a[@class=\"title noclick\"]')\n",
    "len(job_title)"
   ]
  },
  {
   "cell_type": "code",
   "execution_count": 459,
   "id": "a7deb962",
   "metadata": {},
   "outputs": [
    {
     "data": {
      "text/plain": [
       "['Senior Data Scientist',\n",
       " 'Data Scientist- Forecasting and R or Python',\n",
       " 'Data Scientist - Machine Learning Algorithms (3-8 yrs)',\n",
       " 'Data Scientist - Machine Learning/Big Data (0-4 yrs)',\n",
       " 'Info Edge - Data Scientist - Machine Learning/NLP (0-2 yrs)',\n",
       " 'Info Edge - Senior Data Scientist - Machine Learning/Deep Learning (3-5 yrs)',\n",
       " 'LatentBridge - Data Scientist - Python/R (2-6 yrs)',\n",
       " 'Data Science Trainer | AI | Machine Learning | Python |',\n",
       " 'Principal Scientist - Machine Learning - IT (15-26 yrs)',\n",
       " 'Data Scientist - NLP']"
      ]
     },
     "execution_count": 459,
     "metadata": {},
     "output_type": "execute_result"
    }
   ],
   "source": [
    "job_titles=[]\n",
    "for i in job_title:\n",
    "    job_titles.append(i.text)\n",
    "job_titles    "
   ]
  },
  {
   "cell_type": "code",
   "execution_count": 460,
   "id": "66b2ed98",
   "metadata": {},
   "outputs": [
    {
     "data": {
      "text/plain": [
       "10"
      ]
     },
     "execution_count": 460,
     "metadata": {},
     "output_type": "execute_result"
    }
   ],
   "source": [
    "company_name = driver.find_elements(\"xpath\",'//p[@class=\"company body-medium\"]')\n",
    "len(company_name)"
   ]
  },
  {
   "cell_type": "code",
   "execution_count": 461,
   "id": "bea00845",
   "metadata": {},
   "outputs": [
    {
     "data": {
      "text/plain": [
       "['Optum Global Solutions (India) Private Limited',\n",
       " 'GENPACT India Private Limited',\n",
       " 'Dew Solutions Pvt. Ltd.',\n",
       " 'InfoEdge India Ltd.',\n",
       " 'Info Edge India Limited',\n",
       " 'Info Edge India Limited',\n",
       " 'Latent bridge',\n",
       " 'Careerera',\n",
       " 'Careernet Consulting',\n",
       " 'Acidaes Solutions Pvt. Ltd.']"
      ]
     },
     "execution_count": 461,
     "metadata": {},
     "output_type": "execute_result"
    }
   ],
   "source": [
    "company_names=[]\n",
    "for i in company_name:\n",
    "    company_names.append(i.text)\n",
    "company_names    "
   ]
  },
  {
   "cell_type": "code",
   "execution_count": 464,
   "id": "a1d9bf35",
   "metadata": {},
   "outputs": [
    {
     "data": {
      "text/plain": [
       "10"
      ]
     },
     "execution_count": 464,
     "metadata": {},
     "output_type": "execute_result"
    }
   ],
   "source": [
    "rating =  driver.find_elements(\"xpath\",'//span[@class=\"body-small\"]')\n",
    "len(rating)"
   ]
  },
  {
   "cell_type": "code",
   "execution_count": 465,
   "id": "b7a79af5",
   "metadata": {},
   "outputs": [
    {
     "data": {
      "text/plain": [
       "['4.1', '4.0', '4.3', '3.9', '3.9', '3.9', '4.5', '3.8', '3.9', '3.8']"
      ]
     },
     "execution_count": 465,
     "metadata": {},
     "output_type": "execute_result"
    }
   ],
   "source": [
    "ratings=[]\n",
    "for i in rating:\n",
    "    ratings.append(i.text)\n",
    "ratings   "
   ]
  },
  {
   "cell_type": "code",
   "execution_count": 467,
   "id": "a2f03bdf",
   "metadata": {},
   "outputs": [
    {
     "data": {
      "text/plain": [
       "10"
      ]
     },
     "execution_count": 467,
     "metadata": {},
     "output_type": "execute_result"
    }
   ],
   "source": [
    "review = driver.find_elements(\"xpath\",'//a[@class=\"review-count caption-strong-medium\"]')\n",
    "len(review)"
   ]
  },
  {
   "cell_type": "code",
   "execution_count": 468,
   "id": "2c0fcd93",
   "metadata": {},
   "outputs": [
    {
     "data": {
      "text/plain": [
       "['(1.9k Reviews)',\n",
       " '(20k Reviews)',\n",
       " '(80 Reviews)',\n",
       " '(1.7k Reviews)',\n",
       " '(1.7k Reviews)',\n",
       " '(1.7k Reviews)',\n",
       " '(54 Reviews)',\n",
       " '(100 Reviews)',\n",
       " '(288 Reviews)',\n",
       " '(103 Reviews)']"
      ]
     },
     "execution_count": 468,
     "metadata": {},
     "output_type": "execute_result"
    }
   ],
   "source": [
    "reviews=[]\n",
    "for i in review:\n",
    "    reviews.append(i.text)\n",
    "reviews   "
   ]
  },
  {
   "cell_type": "code",
   "execution_count": 469,
   "id": "1a38d5bb",
   "metadata": {},
   "outputs": [
    {
     "data": {
      "text/plain": [
       "(10, 10, 10, 10)"
      ]
     },
     "execution_count": 469,
     "metadata": {},
     "output_type": "execute_result"
    }
   ],
   "source": [
    "len(job_titles),len(company_names),len(ratings),len(reviews)"
   ]
  },
  {
   "cell_type": "code",
   "execution_count": 470,
   "id": "b31d2b2b",
   "metadata": {},
   "outputs": [
    {
     "data": {
      "text/html": [
       "<div>\n",
       "<style scoped>\n",
       "    .dataframe tbody tr th:only-of-type {\n",
       "        vertical-align: middle;\n",
       "    }\n",
       "\n",
       "    .dataframe tbody tr th {\n",
       "        vertical-align: top;\n",
       "    }\n",
       "\n",
       "    .dataframe thead th {\n",
       "        text-align: right;\n",
       "    }\n",
       "</style>\n",
       "<table border=\"1\" class=\"dataframe\">\n",
       "  <thead>\n",
       "    <tr style=\"text-align: right;\">\n",
       "      <th></th>\n",
       "      <th>Title</th>\n",
       "      <th>Company</th>\n",
       "      <th>Rating</th>\n",
       "      <th>Review</th>\n",
       "    </tr>\n",
       "  </thead>\n",
       "  <tbody>\n",
       "    <tr>\n",
       "      <th>0</th>\n",
       "      <td>Senior Data Scientist</td>\n",
       "      <td>Optum Global Solutions (India) Private Limited</td>\n",
       "      <td>4.1</td>\n",
       "      <td>&lt;selenium.webdriver.remote.webelement.WebEleme...</td>\n",
       "    </tr>\n",
       "    <tr>\n",
       "      <th>1</th>\n",
       "      <td>Data Scientist- Forecasting and R or Python</td>\n",
       "      <td>GENPACT India Private Limited</td>\n",
       "      <td>4.0</td>\n",
       "      <td>&lt;selenium.webdriver.remote.webelement.WebEleme...</td>\n",
       "    </tr>\n",
       "    <tr>\n",
       "      <th>2</th>\n",
       "      <td>Data Scientist - Machine Learning Algorithms (...</td>\n",
       "      <td>Dew Solutions Pvt. Ltd.</td>\n",
       "      <td>4.3</td>\n",
       "      <td>&lt;selenium.webdriver.remote.webelement.WebEleme...</td>\n",
       "    </tr>\n",
       "    <tr>\n",
       "      <th>3</th>\n",
       "      <td>Data Scientist - Machine Learning/Big Data (0-...</td>\n",
       "      <td>InfoEdge India Ltd.</td>\n",
       "      <td>3.9</td>\n",
       "      <td>&lt;selenium.webdriver.remote.webelement.WebEleme...</td>\n",
       "    </tr>\n",
       "    <tr>\n",
       "      <th>4</th>\n",
       "      <td>Info Edge - Data Scientist - Machine Learning/...</td>\n",
       "      <td>Info Edge India Limited</td>\n",
       "      <td>3.9</td>\n",
       "      <td>&lt;selenium.webdriver.remote.webelement.WebEleme...</td>\n",
       "    </tr>\n",
       "    <tr>\n",
       "      <th>5</th>\n",
       "      <td>Info Edge - Senior Data Scientist - Machine Le...</td>\n",
       "      <td>Info Edge India Limited</td>\n",
       "      <td>3.9</td>\n",
       "      <td>&lt;selenium.webdriver.remote.webelement.WebEleme...</td>\n",
       "    </tr>\n",
       "    <tr>\n",
       "      <th>6</th>\n",
       "      <td>LatentBridge - Data Scientist - Python/R (2-6 ...</td>\n",
       "      <td>Latent bridge</td>\n",
       "      <td>4.5</td>\n",
       "      <td>&lt;selenium.webdriver.remote.webelement.WebEleme...</td>\n",
       "    </tr>\n",
       "    <tr>\n",
       "      <th>7</th>\n",
       "      <td>Data Science Trainer | AI | Machine Learning |...</td>\n",
       "      <td>Careerera</td>\n",
       "      <td>3.8</td>\n",
       "      <td>&lt;selenium.webdriver.remote.webelement.WebEleme...</td>\n",
       "    </tr>\n",
       "    <tr>\n",
       "      <th>8</th>\n",
       "      <td>Principal Scientist - Machine Learning - IT (1...</td>\n",
       "      <td>Careernet Consulting</td>\n",
       "      <td>3.9</td>\n",
       "      <td>&lt;selenium.webdriver.remote.webelement.WebEleme...</td>\n",
       "    </tr>\n",
       "    <tr>\n",
       "      <th>9</th>\n",
       "      <td>Data Scientist - NLP</td>\n",
       "      <td>Acidaes Solutions Pvt. Ltd.</td>\n",
       "      <td>3.8</td>\n",
       "      <td>&lt;selenium.webdriver.remote.webelement.WebEleme...</td>\n",
       "    </tr>\n",
       "  </tbody>\n",
       "</table>\n",
       "</div>"
      ],
      "text/plain": [
       "                                               Title  \\\n",
       "0                              Senior Data Scientist   \n",
       "1        Data Scientist- Forecasting and R or Python   \n",
       "2  Data Scientist - Machine Learning Algorithms (...   \n",
       "3  Data Scientist - Machine Learning/Big Data (0-...   \n",
       "4  Info Edge - Data Scientist - Machine Learning/...   \n",
       "5  Info Edge - Senior Data Scientist - Machine Le...   \n",
       "6  LatentBridge - Data Scientist - Python/R (2-6 ...   \n",
       "7  Data Science Trainer | AI | Machine Learning |...   \n",
       "8  Principal Scientist - Machine Learning - IT (1...   \n",
       "9                               Data Scientist - NLP   \n",
       "\n",
       "                                          Company Rating  \\\n",
       "0  Optum Global Solutions (India) Private Limited    4.1   \n",
       "1                   GENPACT India Private Limited    4.0   \n",
       "2                         Dew Solutions Pvt. Ltd.    4.3   \n",
       "3                             InfoEdge India Ltd.    3.9   \n",
       "4                         Info Edge India Limited    3.9   \n",
       "5                         Info Edge India Limited    3.9   \n",
       "6                                   Latent bridge    4.5   \n",
       "7                                       Careerera    3.8   \n",
       "8                            Careernet Consulting    3.9   \n",
       "9                     Acidaes Solutions Pvt. Ltd.    3.8   \n",
       "\n",
       "                                              Review  \n",
       "0  <selenium.webdriver.remote.webelement.WebEleme...  \n",
       "1  <selenium.webdriver.remote.webelement.WebEleme...  \n",
       "2  <selenium.webdriver.remote.webelement.WebEleme...  \n",
       "3  <selenium.webdriver.remote.webelement.WebEleme...  \n",
       "4  <selenium.webdriver.remote.webelement.WebEleme...  \n",
       "5  <selenium.webdriver.remote.webelement.WebEleme...  \n",
       "6  <selenium.webdriver.remote.webelement.WebEleme...  \n",
       "7  <selenium.webdriver.remote.webelement.WebEleme...  \n",
       "8  <selenium.webdriver.remote.webelement.WebEleme...  \n",
       "9  <selenium.webdriver.remote.webelement.WebEleme...  "
      ]
     },
     "execution_count": 470,
     "metadata": {},
     "output_type": "execute_result"
    }
   ],
   "source": [
    "df = pd.DataFrame()\n",
    "df['Title']=job_titles\n",
    "df['Company']=company_names\n",
    "df['Rating']=ratings\n",
    "df['Review']=review\n",
    "df"
   ]
  },
  {
   "cell_type": "code",
   "execution_count": null,
   "id": "e33ca5f5",
   "metadata": {},
   "outputs": [],
   "source": []
  },
  {
   "cell_type": "markdown",
   "id": "b49c2564",
   "metadata": {},
   "source": [
    "Q10: Write a python program to scrape the salary data for Data Scientist designation.\n",
    "You have to scrape Company name, Number of salaries, Average salary, Minsalary, Max Salary.\n",
    "The above task will be, done as shown in the below steps:\n",
    "1. First get the webpage https://www.ambitionbox.com/\n",
    "2. Click on the salaries option\n",
    "3. After reaching to the following webpage, In place of “Search Job Profile” enters “Data Scientist” and\n",
    "then click on “Data Scientist”.\n",
    "4. Scrape the data for the first 10 companies. Scrape the company name, total salary record, average\n",
    "salary, minimum salary, maximum salary, experience required.\n",
    "5. Store the data in a dataframe.\n",
    "\n",
    "\n",
    "Note: All the steps required during scraping should be done through code only and not manually."
   ]
  },
  {
   "cell_type": "code",
   "execution_count": 483,
   "id": "642e1160",
   "metadata": {},
   "outputs": [],
   "source": [
    "driver  =  webdriver.Chrome(r'C:\\Users\\user\\Downloads\\chromedriver_win32 (1)\\chromedriver.exe')"
   ]
  },
  {
   "cell_type": "code",
   "execution_count": 484,
   "id": "9269b0e8",
   "metadata": {},
   "outputs": [],
   "source": [
    "url = 'https://www.ambitionbox.com/'\n",
    "driver.get(url)"
   ]
  },
  {
   "cell_type": "code",
   "execution_count": 485,
   "id": "5bbd3a74",
   "metadata": {},
   "outputs": [
    {
     "data": {
      "text/plain": [
       "<selenium.webdriver.remote.webelement.WebElement (session=\"253857f12cbe1a2390cf1c1577bb3318\", element=\"291dbfe6-49b8-47c8-97b2-3b7f142dbc39\")>"
      ]
     },
     "execution_count": 485,
     "metadata": {},
     "output_type": "execute_result"
    }
   ],
   "source": [
    "salaries_option = driver.find_element(\"xpath\",'/html/body/div[1]/nav/nav/a[4]')\n",
    "salaries_option"
   ]
  },
  {
   "cell_type": "code",
   "execution_count": 486,
   "id": "4ec5be28",
   "metadata": {},
   "outputs": [],
   "source": [
    "salaries_option.click()"
   ]
  },
  {
   "cell_type": "code",
   "execution_count": 487,
   "id": "e3f78d3a",
   "metadata": {},
   "outputs": [
    {
     "data": {
      "text/plain": [
       "<selenium.webdriver.remote.webelement.WebElement (session=\"253857f12cbe1a2390cf1c1577bb3318\", element=\"6035e991-a3c8-43c0-a4bb-ddeb098ca4b8\")>"
      ]
     },
     "execution_count": 487,
     "metadata": {},
     "output_type": "execute_result"
    }
   ],
   "source": [
    "search_job_profile =  driver.find_element(\"xpath\",'/html/body/div/div/div/main/section[1]/div[2]/div[1]/span/input')\n",
    "search_job_profile"
   ]
  },
  {
   "cell_type": "code",
   "execution_count": 488,
   "id": "cf7a26d5",
   "metadata": {},
   "outputs": [],
   "source": [
    "search_job_profile.send_keys('Data Scientist')"
   ]
  },
  {
   "cell_type": "code",
   "execution_count": 491,
   "id": "dbd2166e",
   "metadata": {},
   "outputs": [],
   "source": [
    "search_job_profile.click()"
   ]
  },
  {
   "cell_type": "code",
   "execution_count": 499,
   "id": "1f197945",
   "metadata": {},
   "outputs": [
    {
     "data": {
      "text/plain": [
       "25"
      ]
     },
     "execution_count": 499,
     "metadata": {},
     "output_type": "execute_result"
    }
   ],
   "source": [
    "company = driver.find_elements(\"xpath\",'//div[@class=\"company-info\"]')\n",
    "len(company)"
   ]
  },
  {
   "cell_type": "code",
   "execution_count": 500,
   "id": "a73bdcdf",
   "metadata": {},
   "outputs": [
    {
     "data": {
      "text/plain": [
       "25"
      ]
     },
     "execution_count": 500,
     "metadata": {},
     "output_type": "execute_result"
    }
   ],
   "source": [
    "company_name = []\n",
    "for i in company:\n",
    "    company_name.append(i.text)\n",
    "len(company_name)    "
   ]
  },
  {
   "cell_type": "code",
   "execution_count": 501,
   "id": "15155018",
   "metadata": {
    "scrolled": true
   },
   "outputs": [
    {
     "data": {
      "text/plain": [
       "['Walmart\\nData Scientist Salary\\n3 yrs experience (based on 12 salaries)',\n",
       " 'Ab Inbev\\nData Scientist Salary\\n3-4 yrs experience (based on 33 salaries)',\n",
       " 'ZS\\nData Scientist Salary\\n2 yrs experience (based on 15 salaries)',\n",
       " 'Optum\\nData Scientist Salary\\n3-4 yrs experience (based on 32 salaries)',\n",
       " 'Reliance Jio\\nData Scientist Salary\\n3-4 yrs experience (based on 21 salaries)',\n",
       " 'Fractal Analytics\\nData Scientist Salary\\n2-4 yrs experience (based on 89 salaries)',\n",
       " 'Tiger Analytics\\nData Scientist Salary\\n2-4 yrs experience (based on 51 salaries)',\n",
       " 'UnitedHealth\\nData Scientist Salary\\n2-4 yrs experience (based on 57 salaries)',\n",
       " 'EXL Service\\nData Scientist Salary\\n3-4 yrs experience (based on 21 salaries)',\n",
       " 'Deloitte\\nData Scientist Salary\\n2-4 yrs experience (based on 69 salaries)',\n",
       " 'TCS\\n3.1\\nSalary Rating \\n42k reviews',\n",
       " 'Cognizant\\n3.4\\nSalary Rating \\n26.5k reviews',\n",
       " 'Accenture\\n3.7\\nSalary Rating \\n29.5k reviews',\n",
       " '',\n",
       " '',\n",
       " '',\n",
       " '',\n",
       " '',\n",
       " '',\n",
       " '',\n",
       " '',\n",
       " '',\n",
       " '',\n",
       " '',\n",
       " '']"
      ]
     },
     "execution_count": 501,
     "metadata": {},
     "output_type": "execute_result"
    }
   ],
   "source": [
    "company_name"
   ]
  },
  {
   "cell_type": "code",
   "execution_count": 502,
   "id": "e6211f56",
   "metadata": {},
   "outputs": [
    {
     "data": {
      "text/plain": [
       "10"
      ]
     },
     "execution_count": 502,
     "metadata": {},
     "output_type": "execute_result"
    }
   ],
   "source": [
    "experience_year  =  driver.find_elements(\"xpath\",'//div[@class=\"sbold-list-header\"]')\n",
    "len(experience_year)"
   ]
  },
  {
   "cell_type": "code",
   "execution_count": 503,
   "id": "8c7bba6e",
   "metadata": {},
   "outputs": [
    {
     "data": {
      "text/plain": [
       "10"
      ]
     },
     "execution_count": 503,
     "metadata": {},
     "output_type": "execute_result"
    }
   ],
   "source": [
    "experience=[]\n",
    "for i in experience_year:\n",
    "    experience.append(i.text)\n",
    "len(experience)    "
   ]
  },
  {
   "cell_type": "code",
   "execution_count": 504,
   "id": "24f6f63a",
   "metadata": {},
   "outputs": [
    {
     "data": {
      "text/plain": [
       "['3 yrs experience (based on 12 salaries)',\n",
       " '3-4 yrs experience (based on 33 salaries)',\n",
       " '2 yrs experience (based on 15 salaries)',\n",
       " '3-4 yrs experience (based on 32 salaries)',\n",
       " '3-4 yrs experience (based on 21 salaries)',\n",
       " '2-4 yrs experience (based on 89 salaries)',\n",
       " '2-4 yrs experience (based on 51 salaries)',\n",
       " '2-4 yrs experience (based on 57 salaries)',\n",
       " '3-4 yrs experience (based on 21 salaries)',\n",
       " '2-4 yrs experience (based on 69 salaries)']"
      ]
     },
     "execution_count": 504,
     "metadata": {},
     "output_type": "execute_result"
    }
   ],
   "source": [
    "experience"
   ]
  },
  {
   "cell_type": "code",
   "execution_count": 507,
   "id": "725ac2f3",
   "metadata": {},
   "outputs": [
    {
     "data": {
      "text/plain": [
       "10"
      ]
     },
     "execution_count": 507,
     "metadata": {},
     "output_type": "execute_result"
    }
   ],
   "source": [
    "job = driver.find_elements(\"xpath\",'//span[@class=\"jp\"]')\n",
    "len(job)"
   ]
  },
  {
   "cell_type": "code",
   "execution_count": 508,
   "id": "999c1077",
   "metadata": {},
   "outputs": [
    {
     "data": {
      "text/plain": [
       "['Data Scientist Salary',\n",
       " 'Data Scientist Salary',\n",
       " 'Data Scientist Salary',\n",
       " 'Data Scientist Salary',\n",
       " 'Data Scientist Salary',\n",
       " 'Data Scientist Salary',\n",
       " 'Data Scientist Salary',\n",
       " 'Data Scientist Salary',\n",
       " 'Data Scientist Salary',\n",
       " 'Data Scientist Salary']"
      ]
     },
     "execution_count": 508,
     "metadata": {},
     "output_type": "execute_result"
    }
   ],
   "source": [
    "job_title=[]\n",
    "for i in job:\n",
    "    job_title.append(i.text)\n",
    "job_title    "
   ]
  },
  {
   "cell_type": "code",
   "execution_count": 511,
   "id": "3badd296",
   "metadata": {},
   "outputs": [
    {
     "data": {
      "text/plain": [
       "10"
      ]
     },
     "execution_count": 511,
     "metadata": {},
     "output_type": "execute_result"
    }
   ],
   "source": [
    "total_salary = driver.find_elements(\"xpath\",'//p[@class=\"averageCtc\"]')\n",
    "len(total_salary)"
   ]
  },
  {
   "cell_type": "code",
   "execution_count": 512,
   "id": "62280567",
   "metadata": {},
   "outputs": [
    {
     "data": {
      "text/plain": [
       "10"
      ]
     },
     "execution_count": 512,
     "metadata": {},
     "output_type": "execute_result"
    }
   ],
   "source": [
    "total_salary_record=[]\n",
    "for i in total_salary:\n",
    "    total_salary_record.append(i.text)\n",
    "len(total_salary_record)    "
   ]
  },
  {
   "cell_type": "code",
   "execution_count": 513,
   "id": "19f71800",
   "metadata": {},
   "outputs": [
    {
     "data": {
      "text/plain": [
       "['₹ 30.6L',\n",
       " '₹ 20.8L',\n",
       " '₹ 16.7L',\n",
       " '₹ 15.9L',\n",
       " '₹ 15.7L',\n",
       " '₹ 15.5L',\n",
       " '₹ 14.8L',\n",
       " '₹ 14.0L',\n",
       " '₹ 13.2L',\n",
       " '₹ 12.8L']"
      ]
     },
     "execution_count": 513,
     "metadata": {},
     "output_type": "execute_result"
    }
   ],
   "source": [
    "total_salary_record"
   ]
  },
  {
   "cell_type": "code",
   "execution_count": 514,
   "id": "a937dfcf",
   "metadata": {},
   "outputs": [
    {
     "data": {
      "text/plain": [
       "20"
      ]
     },
     "execution_count": 514,
     "metadata": {},
     "output_type": "execute_result"
    }
   ],
   "source": [
    "minimum_salary = driver.find_elements(\"xpath\",'//div[@class=\"value body-medium\"]')\n",
    "len(minimum_salary)"
   ]
  },
  {
   "cell_type": "code",
   "execution_count": 515,
   "id": "ee0c6f31",
   "metadata": {},
   "outputs": [
    {
     "data": {
      "text/plain": [
       "['₹ 25.0L',\n",
       " '₹ 36.0L',\n",
       " '₹ 15.0L',\n",
       " '₹ 26.2L',\n",
       " '₹ 11.0L',\n",
       " '₹ 22.0L',\n",
       " '₹ 11.0L',\n",
       " '₹ 22.5L',\n",
       " '₹ 5.6L',\n",
       " '₹ 26.2L',\n",
       " '₹ 10.0L',\n",
       " '₹ 23.0L',\n",
       " '₹ 9.0L',\n",
       " '₹ 20.0L',\n",
       " '₹ 8.3L',\n",
       " '₹ 21.1L',\n",
       " '₹ 7.6L',\n",
       " '₹ 21.0L',\n",
       " '₹ 7.0L',\n",
       " '₹ 25.0L']"
      ]
     },
     "execution_count": 515,
     "metadata": {},
     "output_type": "execute_result"
    }
   ],
   "source": [
    "minimum_salaries = []\n",
    "for i in minimum_salary:\n",
    "    minimum_salaries.append(i.text)\n",
    "minimum_salaries    "
   ]
  },
  {
   "cell_type": "code",
   "execution_count": 517,
   "id": "159cf096",
   "metadata": {},
   "outputs": [
    {
     "data": {
      "text/plain": [
       "20"
      ]
     },
     "execution_count": 517,
     "metadata": {},
     "output_type": "execute_result"
    }
   ],
   "source": [
    "maximum_salary = driver.find_elements(\"xpath\",'//div[@class=\"value body-medium\"]')\n",
    "len(maximum_salary)"
   ]
  },
  {
   "cell_type": "code",
   "execution_count": 519,
   "id": "0fc07964",
   "metadata": {},
   "outputs": [
    {
     "data": {
      "text/plain": [
       "['₹ 25.0L',\n",
       " '₹ 36.0L',\n",
       " '₹ 15.0L',\n",
       " '₹ 26.2L',\n",
       " '₹ 11.0L',\n",
       " '₹ 22.0L',\n",
       " '₹ 11.0L',\n",
       " '₹ 22.5L',\n",
       " '₹ 5.6L',\n",
       " '₹ 26.2L',\n",
       " '₹ 10.0L',\n",
       " '₹ 23.0L',\n",
       " '₹ 9.0L',\n",
       " '₹ 20.0L',\n",
       " '₹ 8.3L',\n",
       " '₹ 21.1L',\n",
       " '₹ 7.6L',\n",
       " '₹ 21.0L',\n",
       " '₹ 7.0L',\n",
       " '₹ 25.0L']"
      ]
     },
     "execution_count": 519,
     "metadata": {},
     "output_type": "execute_result"
    }
   ],
   "source": [
    "maximum_salaries=[]\n",
    "for i in maximum_salary:\n",
    "    maximum_salaries.append(i.text)\n",
    "maximum_salaries    "
   ]
  },
  {
   "cell_type": "code",
   "execution_count": 520,
   "id": "08b5ab43",
   "metadata": {},
   "outputs": [
    {
     "data": {
      "text/plain": [
       "(25, 10, 20, 20, 20, 10)"
      ]
     },
     "execution_count": 520,
     "metadata": {},
     "output_type": "execute_result"
    }
   ],
   "source": [
    "len(company_name),len(total_salary_record),len(minimum_salaries),len(maximum_salaries),len(experience_required),len(job_title)"
   ]
  },
  {
   "cell_type": "code",
   "execution_count": 523,
   "id": "3c086536",
   "metadata": {},
   "outputs": [
    {
     "data": {
      "text/html": [
       "<div>\n",
       "<style scoped>\n",
       "    .dataframe tbody tr th:only-of-type {\n",
       "        vertical-align: middle;\n",
       "    }\n",
       "\n",
       "    .dataframe tbody tr th {\n",
       "        vertical-align: top;\n",
       "    }\n",
       "\n",
       "    .dataframe thead th {\n",
       "        text-align: right;\n",
       "    }\n",
       "</style>\n",
       "<table border=\"1\" class=\"dataframe\">\n",
       "  <thead>\n",
       "    <tr style=\"text-align: right;\">\n",
       "      <th></th>\n",
       "      <th>Total Salary Record</th>\n",
       "      <th>Job Title</th>\n",
       "    </tr>\n",
       "  </thead>\n",
       "  <tbody>\n",
       "    <tr>\n",
       "      <th>0</th>\n",
       "      <td>₹ 30.6L</td>\n",
       "      <td>Data Scientist Salary</td>\n",
       "    </tr>\n",
       "    <tr>\n",
       "      <th>1</th>\n",
       "      <td>₹ 20.8L</td>\n",
       "      <td>Data Scientist Salary</td>\n",
       "    </tr>\n",
       "    <tr>\n",
       "      <th>2</th>\n",
       "      <td>₹ 16.7L</td>\n",
       "      <td>Data Scientist Salary</td>\n",
       "    </tr>\n",
       "    <tr>\n",
       "      <th>3</th>\n",
       "      <td>₹ 15.9L</td>\n",
       "      <td>Data Scientist Salary</td>\n",
       "    </tr>\n",
       "    <tr>\n",
       "      <th>4</th>\n",
       "      <td>₹ 15.7L</td>\n",
       "      <td>Data Scientist Salary</td>\n",
       "    </tr>\n",
       "    <tr>\n",
       "      <th>5</th>\n",
       "      <td>₹ 15.5L</td>\n",
       "      <td>Data Scientist Salary</td>\n",
       "    </tr>\n",
       "    <tr>\n",
       "      <th>6</th>\n",
       "      <td>₹ 14.8L</td>\n",
       "      <td>Data Scientist Salary</td>\n",
       "    </tr>\n",
       "    <tr>\n",
       "      <th>7</th>\n",
       "      <td>₹ 14.0L</td>\n",
       "      <td>Data Scientist Salary</td>\n",
       "    </tr>\n",
       "    <tr>\n",
       "      <th>8</th>\n",
       "      <td>₹ 13.2L</td>\n",
       "      <td>Data Scientist Salary</td>\n",
       "    </tr>\n",
       "    <tr>\n",
       "      <th>9</th>\n",
       "      <td>₹ 12.8L</td>\n",
       "      <td>Data Scientist Salary</td>\n",
       "    </tr>\n",
       "  </tbody>\n",
       "</table>\n",
       "</div>"
      ],
      "text/plain": [
       "  Total Salary Record              Job Title\n",
       "0             ₹ 30.6L  Data Scientist Salary\n",
       "1             ₹ 20.8L  Data Scientist Salary\n",
       "2             ₹ 16.7L  Data Scientist Salary\n",
       "3             ₹ 15.9L  Data Scientist Salary\n",
       "4             ₹ 15.7L  Data Scientist Salary\n",
       "5             ₹ 15.5L  Data Scientist Salary\n",
       "6             ₹ 14.8L  Data Scientist Salary\n",
       "7             ₹ 14.0L  Data Scientist Salary\n",
       "8             ₹ 13.2L  Data Scientist Salary\n",
       "9             ₹ 12.8L  Data Scientist Salary"
      ]
     },
     "execution_count": 523,
     "metadata": {},
     "output_type": "execute_result"
    }
   ],
   "source": [
    "df = pd.DataFrame()\n",
    "df['Total Salary Record']=total_salary_record\n",
    "df['Job Title']=job_title\n",
    "df"
   ]
  },
  {
   "cell_type": "code",
   "execution_count": null,
   "id": "b6841d07",
   "metadata": {},
   "outputs": [],
   "source": []
  },
  {
   "cell_type": "code",
   "execution_count": null,
   "id": "99327a16",
   "metadata": {},
   "outputs": [],
   "source": []
  },
  {
   "cell_type": "markdown",
   "id": "251fa6d8",
   "metadata": {},
   "source": [
    "# Thank You"
   ]
  }
 ],
 "metadata": {
  "kernelspec": {
   "display_name": "Python 3 (ipykernel)",
   "language": "python",
   "name": "python3"
  },
  "language_info": {
   "codemirror_mode": {
    "name": "ipython",
    "version": 3
   },
   "file_extension": ".py",
   "mimetype": "text/x-python",
   "name": "python",
   "nbconvert_exporter": "python",
   "pygments_lexer": "ipython3",
   "version": "3.9.12"
  }
 },
 "nbformat": 4,
 "nbformat_minor": 5
}
