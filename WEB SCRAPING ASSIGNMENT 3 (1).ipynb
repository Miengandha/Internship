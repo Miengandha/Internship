{
 "cells": [
  {
   "cell_type": "markdown",
   "id": "4f669384",
   "metadata": {},
   "source": [
    "# WEB SCRAPING - ASSIGNMENT3"
   ]
  },
  {
   "cell_type": "code",
   "execution_count": 1,
   "id": "136e0b65",
   "metadata": {},
   "outputs": [
    {
     "name": "stdout",
     "output_type": "stream",
     "text": [
      "Requirement already satisfied: selenium in c:\\users\\user\\anaconda3\\lib\\site-packages (4.3.0)\n",
      "Requirement already satisfied: urllib3[secure,socks]~=1.26 in c:\\users\\user\\anaconda3\\lib\\site-packages (from selenium) (1.26.9)\n",
      "Requirement already satisfied: trio-websocket~=0.9 in c:\\users\\user\\anaconda3\\lib\\site-packages (from selenium) (0.9.2)\n",
      "Requirement already satisfied: trio~=0.17 in c:\\users\\user\\anaconda3\\lib\\site-packages (from selenium) (0.21.0)\n",
      "Requirement already satisfied: idna in c:\\users\\user\\anaconda3\\lib\\site-packages (from trio~=0.17->selenium) (3.3)\n",
      "Requirement already satisfied: attrs>=19.2.0 in c:\\users\\user\\anaconda3\\lib\\site-packages (from trio~=0.17->selenium) (21.4.0)\n",
      "Requirement already satisfied: outcome in c:\\users\\user\\anaconda3\\lib\\site-packages (from trio~=0.17->selenium) (1.2.0)\n",
      "Requirement already satisfied: sniffio in c:\\users\\user\\anaconda3\\lib\\site-packages (from trio~=0.17->selenium) (1.2.0)\n",
      "Requirement already satisfied: cffi>=1.14 in c:\\users\\user\\anaconda3\\lib\\site-packages (from trio~=0.17->selenium) (1.15.0)\n",
      "Requirement already satisfied: sortedcontainers in c:\\users\\user\\anaconda3\\lib\\site-packages (from trio~=0.17->selenium) (2.4.0)\n",
      "Requirement already satisfied: async-generator>=1.9 in c:\\users\\user\\anaconda3\\lib\\site-packages (from trio~=0.17->selenium) (1.10)\n",
      "Requirement already satisfied: pycparser in c:\\users\\user\\anaconda3\\lib\\site-packages (from cffi>=1.14->trio~=0.17->selenium) (2.21)\n",
      "Requirement already satisfied: wsproto>=0.14 in c:\\users\\user\\anaconda3\\lib\\site-packages (from trio-websocket~=0.9->selenium) (1.1.0)\n",
      "Requirement already satisfied: PySocks!=1.5.7,<2.0,>=1.5.6 in c:\\users\\user\\anaconda3\\lib\\site-packages (from urllib3[secure,socks]~=1.26->selenium) (1.7.1)\n",
      "Requirement already satisfied: certifi in c:\\users\\user\\anaconda3\\lib\\site-packages (from urllib3[secure,socks]~=1.26->selenium) (2021.10.8)\n",
      "Requirement already satisfied: pyOpenSSL>=0.14 in c:\\users\\user\\anaconda3\\lib\\site-packages (from urllib3[secure,socks]~=1.26->selenium) (21.0.0)\n",
      "Requirement already satisfied: cryptography>=1.3.4 in c:\\users\\user\\anaconda3\\lib\\site-packages (from urllib3[secure,socks]~=1.26->selenium) (3.4.8)\n",
      "Requirement already satisfied: six>=1.5.2 in c:\\users\\user\\anaconda3\\lib\\site-packages (from pyOpenSSL>=0.14->urllib3[secure,socks]~=1.26->selenium) (1.16.0)\n",
      "Requirement already satisfied: h11<1,>=0.9.0 in c:\\users\\user\\anaconda3\\lib\\site-packages (from wsproto>=0.14->trio-websocket~=0.9->selenium) (0.13.0)\n"
     ]
    }
   ],
   "source": [
    "!pip install selenium"
   ]
  },
  {
   "cell_type": "markdown",
   "id": "8267e507",
   "metadata": {},
   "source": [
    "Q1.Write a python program which searches all the product under a particular product from www.amazon.in.\n",
    "The product to be searched will be taken as input from user. For e.g. If user input is ‘guitar’. Then search\n",
    "for guitars.\n"
   ]
  },
  {
   "cell_type": "code",
   "execution_count": 2,
   "id": "825f3b8e",
   "metadata": {},
   "outputs": [],
   "source": [
    "# Importing libraries\n",
    "import selenium\n",
    "import pandas as pd\n",
    "import time\n",
    "from bs4 import BeautifulSoup\n",
    "\n",
    "#importing selenium webdriver\n",
    "from selenium import webdriver\n",
    "\n",
    "#importing requires exceptions which needs to handled\n",
    "from selenium.common.exceptions import StaleElementReferenceException, NoSuchElementException\n",
    "\n",
    "#importing requests\n",
    "import requests\n",
    "\n",
    "#importing regex\n",
    "import re\n",
    "from selenium.webdriver.common.by import By\n",
    "\n",
    "import time\n",
    "\n",
    "import warnings\n",
    "warnings.filterwarnings('ignore')"
   ]
  },
  {
   "cell_type": "code",
   "execution_count": 3,
   "id": "f88026f6",
   "metadata": {},
   "outputs": [],
   "source": [
    "driver = webdriver.Chrome(r\"C:\\Users\\user\\Downloads\\chromedriver_win32 (1)\\chromedriver.exe\")\n"
   ]
  },
  {
   "cell_type": "code",
   "execution_count": 4,
   "id": "995b2b04",
   "metadata": {},
   "outputs": [],
   "source": [
    "driver.get('https://www.amazon.in./')"
   ]
  },
  {
   "cell_type": "code",
   "execution_count": 5,
   "id": "49d1ad35",
   "metadata": {},
   "outputs": [
    {
     "name": "stdout",
     "output_type": "stream",
     "text": [
      "Enter the product you want to search :  guitar\n"
     ]
    },
    {
     "data": {
      "text/plain": [
       "<selenium.webdriver.remote.webelement.WebElement (session=\"e16a555f62cdca1a3f6f69128070a0e8\", element=\"76c60082-a483-43f3-a85e-19a8cd78f01c\")>"
      ]
     },
     "execution_count": 5,
     "metadata": {},
     "output_type": "execute_result"
    }
   ],
   "source": [
    "search_bar = driver.find_element(By.CLASS_NAME,\"nav-search-field\")\n",
    "user_inp = input('Enter the product you want to search :  ')\n",
    "search_bar                 "
   ]
  },
  {
   "cell_type": "code",
   "execution_count": null,
   "id": "c6fe7587",
   "metadata": {},
   "outputs": [],
   "source": []
  },
  {
   "cell_type": "markdown",
   "id": "2a458ca6",
   "metadata": {},
   "source": [
    "Q2. In the above question, now scrape the following details of each product listed in first 3 pages of your\n",
    "search results and save it in a data frame and csv. In case if any product has less than 3 pages in search results then scrape all the products available under that product name. Details to be scraped are: \"Brand Name\", \"Name of the Product\", \"Price\", \"Return/Exchange\", \"Expected Delivery\", \"Availability\" and “Product URL”. In case, if any of the details are missing for any of the product then replace it by “-“."
   ]
  },
  {
   "cell_type": "code",
   "execution_count": 6,
   "id": "477dacc2",
   "metadata": {},
   "outputs": [
    {
     "data": {
      "text/plain": [
       "<selenium.webdriver.remote.webelement.WebElement (session=\"e16a555f62cdca1a3f6f69128070a0e8\", element=\"b05b1054-93bd-491b-9227-d2e6198c7bdd\")>"
      ]
     },
     "execution_count": 6,
     "metadata": {},
     "output_type": "execute_result"
    }
   ],
   "source": [
    "search_product=driver.find_element(\"xpath\",\"/html/body/div[1]/header/div/div[1]/div[2]/div/form/div[2]/div[1]/input\")\n",
    "search_product"
   ]
  },
  {
   "cell_type": "code",
   "execution_count": 7,
   "id": "cae845aa",
   "metadata": {},
   "outputs": [],
   "source": [
    "search_product.send_keys('guitar')"
   ]
  },
  {
   "cell_type": "code",
   "execution_count": 8,
   "id": "70ceb9dc",
   "metadata": {},
   "outputs": [],
   "source": [
    "search_btn=driver.find_element(\"xpath\",\"/html/body/div[1]/header/div/div[1]/div[2]/div/form/div[3]/div/span/input\")\n",
    "search_btn.click()"
   ]
  },
  {
   "cell_type": "code",
   "execution_count": 9,
   "id": "cd9a1ff1",
   "metadata": {},
   "outputs": [],
   "source": [
    "# scrape all product urls\n",
    "\n",
    "product_urls = []\n",
    "\n",
    "start=0\n",
    "\n",
    "end=3\n",
    "\n",
    "for page in range(start,end):#for loop for scrapping 3 page\n",
    "\n",
    "    url=driver.find_elements(By.XPATH,'//a[@class=\"a-link-normal s-underline-text s-underline-link-text s-link-style a-text-normal\"]')       #scraping urls\n",
    "\n",
    "    for i in url:\n",
    "\n",
    "        product_urls.append(i.get_attribute(\"href\"))                        #appending the urls in product_urls list\n",
    "\n",
    "    nxt_button=driver.find_element(By.XPATH,'//a[@class=\"s-pagination-item s-pagination-next s-pagination-button s-pagination-separator\"]')     #scraping the list of buttons from the page\n",
    "\n",
    "    nxt_button.click()\n",
    "\n",
    "    time.sleep(2)\n",
    "    "
   ]
  },
  {
   "cell_type": "code",
   "execution_count": 10,
   "id": "06532b40",
   "metadata": {},
   "outputs": [
    {
     "data": {
      "text/plain": [
       "184"
      ]
     },
     "execution_count": 10,
     "metadata": {},
     "output_type": "execute_result"
    }
   ],
   "source": [
    "len(product_urls)"
   ]
  },
  {
   "cell_type": "code",
   "execution_count": 11,
   "id": "779127de",
   "metadata": {},
   "outputs": [
    {
     "data": {
      "text/plain": [
       "['https://www.amazon.in./gp/slredirect/picassoRedirect.html/ref=pa_sp_atf_aps_sr_pg1_1?ie=UTF8&adId=A07547842ON38YVIM47X4&url=%2FKadence-Frontier-Acoustic-Wihtout-strings%2Fdp%2FB08PKJGRJB%2Fref%3Dsr_1_1_sspa%3Fcrid%3D3V8S8I2R308Z3%26keywords%3Dguitar%26qid%3D1658996593%26sprefix%3Dguitar%252Caps%252C500%26sr%3D8-1-spons%26psc%3D1%26smid%3DAM04Z7MH4HSDD&qualifier=1658996593&id=8351685085405949&widgetName=sp_atf',\n",
       " 'https://www.amazon.in./gp/slredirect/picassoRedirect.html/ref=pa_sp_atf_aps_sr_pg1_1?ie=UTF8&adId=A0046612372SWJAK5T57D&url=%2FKadence-Frontier-Acoustic-Equalizer-Strings%2Fdp%2FB01HRIHH9E%2Fref%3Dsr_1_2_sspa%3Fcrid%3D3V8S8I2R308Z3%26keywords%3Dguitar%26qid%3D1658996593%26sprefix%3Dguitar%252Caps%252C500%26sr%3D8-2-spons%26psc%3D1&qualifier=1658996593&id=8351685085405949&widgetName=sp_atf',\n",
       " 'https://www.amazon.in./gp/slredirect/picassoRedirect.html/ref=pa_sp_atf_aps_sr_pg1_1?ie=UTF8&adId=A06072772I2LJ344EB41Y&url=%2FPhotron-Acoustic-Cutaway-PH38C-BK%2Fdp%2FB076T8V8NB%2Fref%3Dsr_1_3_sspa%3Fcrid%3D3V8S8I2R308Z3%26keywords%3Dguitar%26qid%3D1658996593%26sprefix%3Dguitar%252Caps%252C500%26sr%3D8-3-spons%26psc%3D1&qualifier=1658996593&id=8351685085405949&widgetName=sp_atf',\n",
       " 'https://www.amazon.in./gp/slredirect/picassoRedirect.html/ref=pa_sp_atf_aps_sr_pg1_1?ie=UTF8&adId=A0049561XBD14Z9O6GXG&url=%2FBlueberry-38C-Acoustic-Guitar-Strings%2Fdp%2FB08KLMV4XX%2Fref%3Dsr_1_4_sspa%3Fcrid%3D3V8S8I2R308Z3%26keywords%3Dguitar%26qid%3D1658996593%26sprefix%3Dguitar%252Caps%252C500%26sr%3D8-4-spons%26psc%3D1&qualifier=1658996593&id=8351685085405949&widgetName=sp_atf',\n",
       " 'https://www.amazon.in./Intern-INT-38C-Acoustic-Guitar-Black/dp/B073B6TQQY/ref=sr_1_5?crid=3V8S8I2R308Z3&keywords=guitar&qid=1658996593&sprefix=guitar%2Caps%2C500&sr=8-5',\n",
       " 'https://www.amazon.in./Juarez-Acoustic-Cutaway-038C-Strings/dp/B017NPCSLI/ref=sr_1_6?crid=3V8S8I2R308Z3&keywords=guitar&qid=1658996593&sprefix=guitar%2Caps%2C500&sr=8-6',\n",
       " 'https://www.amazon.in./Juarez-Acoustic-Guitar-Cutaway-Strings/dp/B076QHZ4HZ/ref=sr_1_7?crid=3V8S8I2R308Z3&keywords=guitar&qid=1658996593&sprefix=guitar%2Caps%2C500&sr=8-7',\n",
       " 'https://www.amazon.in./Intern-INT-38C-Acoustic-Guitar-Black/dp/B073B6TQQY/ref=sxin_14?asc_contentid=amzn1.osa.1320a493-71c5-4ff9-a1fa-1353eba85472.A21TJRUUN4KGV.en_IN&asc_contenttype=article&ascsubtag=amzn1.osa.1320a493-71c5-4ff9-a1fa-1353eba85472.A21TJRUUN4KGV.en_IN&content-id=amzn1.sym.5f0ba99d-2991-4ecb-ae3e-35a7ecd2eb9d%3Aamzn1.sym.5f0ba99d-2991-4ecb-ae3e-35a7ecd2eb9d&creativeASIN=B073B6TQQY&crid=3V8S8I2R308Z3&cv_ct_cx=guitar&cv_ct_id=amzn1.osa.1320a493-71c5-4ff9-a1fa-1353eba85472.A21TJRUUN4KGV.en_IN&cv_ct_pg=search&cv_ct_we=asin&cv_ct_wn=osp-single-source-earns-comm&keywords=guitar&linkCode=oas&pd_rd_i=B073B6TQQY&pd_rd_r=e925e306-be33-438c-ad83-ec8be7a0f08f&pd_rd_w=dkfGo&pd_rd_wg=zBWuJ&pf_rd_p=5f0ba99d-2991-4ecb-ae3e-35a7ecd2eb9d&pf_rd_r=6652ACG6NCZ7VA5QNHQJ&qid=1658996593&sprefix=guitar%2Caps%2C500&sr=1-1-7188e7bb-a7a6-440c-95b3-a03604035cdc&tag=hznew-21',\n",
       " 'https://www.amazon.in./Kadence-Frontier-Acoustic-Guitar-Strings/dp/B01GDZ46AA/ref=sxin_14?asc_contentid=amzn1.osa.1320a493-71c5-4ff9-a1fa-1353eba85472.A21TJRUUN4KGV.en_IN&asc_contenttype=article&ascsubtag=amzn1.osa.1320a493-71c5-4ff9-a1fa-1353eba85472.A21TJRUUN4KGV.en_IN&content-id=amzn1.sym.5f0ba99d-2991-4ecb-ae3e-35a7ecd2eb9d%3Aamzn1.sym.5f0ba99d-2991-4ecb-ae3e-35a7ecd2eb9d&creativeASIN=B01GDZ46AA&crid=3V8S8I2R308Z3&cv_ct_cx=guitar&cv_ct_id=amzn1.osa.1320a493-71c5-4ff9-a1fa-1353eba85472.A21TJRUUN4KGV.en_IN&cv_ct_pg=search&cv_ct_we=asin&cv_ct_wn=osp-single-source-earns-comm&keywords=guitar&linkCode=oas&pd_rd_i=B01GDZ46AA&pd_rd_r=e925e306-be33-438c-ad83-ec8be7a0f08f&pd_rd_w=dkfGo&pd_rd_wg=zBWuJ&pf_rd_p=5f0ba99d-2991-4ecb-ae3e-35a7ecd2eb9d&pf_rd_r=6652ACG6NCZ7VA5QNHQJ&qid=1658996593&smid=AM04Z7MH4HSDD&sprefix=guitar%2Caps%2C500&sr=1-2-7188e7bb-a7a6-440c-95b3-a03604035cdc&tag=hznew-21',\n",
       " 'https://www.amazon.in./JUAREZ-JRZ38C-Acoustic-Sunburst-Strings/dp/B01FYYTDS6/ref=sxin_14?asc_contentid=amzn1.osa.1320a493-71c5-4ff9-a1fa-1353eba85472.A21TJRUUN4KGV.en_IN&asc_contenttype=article&ascsubtag=amzn1.osa.1320a493-71c5-4ff9-a1fa-1353eba85472.A21TJRUUN4KGV.en_IN&content-id=amzn1.sym.5f0ba99d-2991-4ecb-ae3e-35a7ecd2eb9d%3Aamzn1.sym.5f0ba99d-2991-4ecb-ae3e-35a7ecd2eb9d&creativeASIN=B01FYYTDS6&crid=3V8S8I2R308Z3&cv_ct_cx=guitar&cv_ct_id=amzn1.osa.1320a493-71c5-4ff9-a1fa-1353eba85472.A21TJRUUN4KGV.en_IN&cv_ct_pg=search&cv_ct_we=asin&cv_ct_wn=osp-single-source-earns-comm&keywords=guitar&linkCode=oas&pd_rd_i=B01FYYTDS6&pd_rd_r=e925e306-be33-438c-ad83-ec8be7a0f08f&pd_rd_w=dkfGo&pd_rd_wg=zBWuJ&pf_rd_p=5f0ba99d-2991-4ecb-ae3e-35a7ecd2eb9d&pf_rd_r=6652ACG6NCZ7VA5QNHQJ&qid=1658996593&sprefix=guitar%2Caps%2C500&sr=1-3-7188e7bb-a7a6-440c-95b3-a03604035cdc&tag=hznew-21',\n",
       " 'https://www.amazon.in./Epiphone-ENOLVSCH1-Electric-Guitars-Sunburst/dp/B075BTXVDJ/ref=sxin_14?asc_contentid=amzn1.osa.1320a493-71c5-4ff9-a1fa-1353eba85472.A21TJRUUN4KGV.en_IN&asc_contenttype=article&ascsubtag=amzn1.osa.1320a493-71c5-4ff9-a1fa-1353eba85472.A21TJRUUN4KGV.en_IN&content-id=amzn1.sym.5f0ba99d-2991-4ecb-ae3e-35a7ecd2eb9d%3Aamzn1.sym.5f0ba99d-2991-4ecb-ae3e-35a7ecd2eb9d&creativeASIN=B075BTXVDJ&crid=3V8S8I2R308Z3&cv_ct_cx=guitar&cv_ct_id=amzn1.osa.1320a493-71c5-4ff9-a1fa-1353eba85472.A21TJRUUN4KGV.en_IN&cv_ct_pg=search&cv_ct_we=asin&cv_ct_wn=osp-single-source-earns-comm&keywords=guitar&linkCode=oas&pd_rd_i=B075BTXVDJ&pd_rd_r=e925e306-be33-438c-ad83-ec8be7a0f08f&pd_rd_w=dkfGo&pd_rd_wg=zBWuJ&pf_rd_p=5f0ba99d-2991-4ecb-ae3e-35a7ecd2eb9d&pf_rd_r=6652ACG6NCZ7VA5QNHQJ&qid=1658996593&sprefix=guitar%2Caps%2C500&sr=1-4-7188e7bb-a7a6-440c-95b3-a03604035cdc&tag=hznew-21',\n",
       " 'https://www.amazon.in./Henrix-Acoustic-Guitar-Die-cast-Dual-action/dp/B07VNDW6QF/ref=sr_1_8?crid=3V8S8I2R308Z3&keywords=guitar&qid=1658996593&sprefix=guitar%2Caps%2C500&sr=8-8',\n",
       " 'https://www.amazon.in./Yamaha-Classical-Guitar-C40-02/dp/B003UGCUFE/ref=sr_1_9?crid=3V8S8I2R308Z3&keywords=guitar&qid=1658996593&sprefix=guitar%2Caps%2C500&sr=8-9',\n",
       " 'https://www.amazon.in./Intern-INT-38C-Acoustic-Guitar-Blue/dp/B073B5RZBV/ref=sr_1_10?crid=3V8S8I2R308Z3&keywords=guitar&qid=1658996593&sprefix=guitar%2Caps%2C500&sr=8-10',\n",
       " 'https://www.amazon.in./Intern-38-inch-Cutaway-Design-Acoustic/dp/B07X4PN85R/ref=sr_1_11?crid=3V8S8I2R308Z3&keywords=guitar&qid=1658996593&sprefix=guitar%2Caps%2C500&sr=8-11',\n",
       " 'https://www.amazon.in./Rosewood-Fretboard-Acoustic-Strings-K-Retail/dp/B07KLG8C4P/ref=sr_1_12?crid=3V8S8I2R308Z3&keywords=guitar&qid=1658996593&sprefix=guitar%2Caps%2C500&sr=8-12',\n",
       " 'https://www.amazon.in./JUAREZ-JRZ38C-Acoustic-Natural-Strings/dp/B01FYYTDWC/ref=sr_1_13?crid=3V8S8I2R308Z3&keywords=guitar&qid=1658996593&sprefix=guitar%2Caps%2C500&sr=8-13',\n",
       " 'https://www.amazon.in./Intern-INT-38C-BK-G-Guitar-Kit-Black/dp/B07K9497RC/ref=sr_1_14?crid=3V8S8I2R308Z3&keywords=guitar&qid=1658996593&sprefix=guitar%2Caps%2C500&sr=8-14',\n",
       " 'https://www.amazon.in./Kadence-Frontier-Acoustic-Guitar-Strings/dp/B078GTJP5Y/ref=sr_1_15?crid=3V8S8I2R308Z3&keywords=guitar&qid=1658996593&smid=AM04Z7MH4HSDD&sprefix=guitar%2Caps%2C500&sr=8-15',\n",
       " 'https://www.amazon.in./JUAREZ-JRZ38C-Acoustic-Sunburst-Strings/dp/B01FYYTDTU/ref=sr_1_16?crid=3V8S8I2R308Z3&keywords=guitar&qid=1658996593&sprefix=guitar%2Caps%2C500&sr=8-16',\n",
       " 'https://www.amazon.in./Intern-Acoustic-Steel-string-plectrums-INT-38C-WH/dp/B09LR94Z2X/ref=sr_1_17?crid=3V8S8I2R308Z3&keywords=guitar&qid=1658996593&sprefix=guitar%2Caps%2C500&sr=8-17',\n",
       " 'https://www.amazon.in./Kadence-Frontier-Acoustic-Guitar-Strings/dp/B01GDZ46AA/ref=sr_1_18?crid=3V8S8I2R308Z3&keywords=guitar&qid=1658996593&smid=AM04Z7MH4HSDD&sprefix=guitar%2Caps%2C500&sr=8-18',\n",
       " 'https://www.amazon.in./Intern-INT-38C-Sunburst-Acoustic-Guitar/dp/B07X1J4D3Z/ref=sr_1_19?crid=3V8S8I2R308Z3&keywords=guitar&qid=1658996593&sprefix=guitar%2Caps%2C500&sr=8-19',\n",
       " 'https://www.amazon.in./JRZ38C-Strings-Acoustic-Cutaway-Mahogany/dp/B071JM8C6T/ref=sr_1_20?crid=3V8S8I2R308Z3&keywords=guitar&qid=1658996593&sprefix=guitar%2Caps%2C500&sr=8-20',\n",
       " 'https://www.amazon.in./gp/slredirect/picassoRedirect.html/ref=pa_sp_mtf_aps_sr_pg1_1?ie=UTF8&adId=A06941481T7CVKF5E88EU&url=%2FTOXOT-TOYS-Instrument-resistance-Resonance%2Fdp%2FB09Z6LKP5K%2Fref%3Dsr_1_21_sspa%3Fcrid%3D3V8S8I2R308Z3%26keywords%3Dguitar%26qid%3D1658996593%26sprefix%3Dguitar%252Caps%252C500%26sr%3D8-21-spons%26psc%3D1&qualifier=1658996593&id=8351685085405949&widgetName=sp_mtf',\n",
       " 'https://www.amazon.in./gp/slredirect/picassoRedirect.html/ref=pa_sp_mtf_aps_sr_pg1_1?ie=UTF8&adId=A0781470356P60BY9NFAO&url=%2FHOMME-STORE-Instrument-Educational-Instruments%2Fdp%2FB09MM9NBZC%2Fref%3Dsr_1_22_sspa%3Fcrid%3D3V8S8I2R308Z3%26keywords%3Dguitar%26qid%3D1658996593%26sprefix%3Dguitar%252Caps%252C500%26sr%3D8-22-spons%26psc%3D1&qualifier=1658996593&id=8351685085405949&widgetName=sp_mtf',\n",
       " 'https://www.amazon.in./gp/slredirect/picassoRedirect.html/ref=pa_sp_mtf_aps_sr_pg1_1?ie=UTF8&adId=A0405872A4XB9J6KU616&url=%2FClassical-Childrens-Instrument-Educational-Beginners%2Fdp%2FB0B6R8PV79%2Fref%3Dsr_1_23_sspa%3Fcrid%3D3V8S8I2R308Z3%26keywords%3Dguitar%26qid%3D1658996593%26sprefix%3Dguitar%252Caps%252C500%26sr%3D8-23-spons%26psc%3D1&qualifier=1658996593&id=8351685085405949&widgetName=sp_mtf',\n",
       " 'https://www.amazon.in./gp/slredirect/picassoRedirect.html/ref=pa_sp_mtf_aps_sr_pg1_1?ie=UTF8&adId=A00993283KLTSGTFA4CJL&url=%2FAK-Empire-4-String-Instrument-Beginners%2Fdp%2FB09QYQS91N%2Fref%3Dsr_1_24_sspa%3Fcrid%3D3V8S8I2R308Z3%26keywords%3Dguitar%26qid%3D1658996593%26sprefix%3Dguitar%252Caps%252C500%26sr%3D8-24-spons%26psc%3D1&qualifier=1658996593&id=8351685085405949&widgetName=sp_mtf',\n",
       " 'https://www.amazon.in./JUAREZ-JRZ38C-Acoustic-Sunburst-Strings/dp/B01FYYTDS6/ref=sr_1_25?crid=3V8S8I2R308Z3&keywords=guitar&qid=1658996593&sprefix=guitar%2Caps%2C500&sr=8-25',\n",
       " 'https://www.amazon.in./Photron-Acoustic-Cutaway-PH38C-BK/dp/B076T8V8NB/ref=sr_1_26?crid=3V8S8I2R308Z3&keywords=guitar&qid=1658996593&sprefix=guitar%2Caps%2C500&sr=8-26',\n",
       " 'https://www.amazon.in./Juarez-Acoustic-Guitar-Cutaway-JRZ38CT/dp/B01N3TTYJQ/ref=sr_1_27?crid=3V8S8I2R308Z3&keywords=guitar&qid=1658996593&sprefix=guitar%2Caps%2C500&sr=8-27',\n",
       " 'https://www.amazon.in./Intern-INT-38C-Brown-Acoustic-Guitar/dp/B07X2HV158/ref=sr_1_28?crid=3V8S8I2R308Z3&keywords=guitar&qid=1658996593&sprefix=guitar%2Caps%2C500&sr=8-28',\n",
       " 'https://www.amazon.in./Intern-INT-38C-SB-G-Guitar-Kit-Sunburst/dp/B07K8WLPLH/ref=sr_1_29?crid=3V8S8I2R308Z3&keywords=guitar&qid=1658996593&sprefix=guitar%2Caps%2C500&sr=8-29',\n",
       " 'https://www.amazon.in./Revel-RVL-38C-LGP-NT-Linden-Acoustic-Natural/dp/B085HVRHPS/ref=sr_1_30?crid=3V8S8I2R308Z3&keywords=guitar&qid=1658996593&sprefix=guitar%2Caps%2C500&sr=8-30',\n",
       " 'https://www.amazon.in./Juarez-JRZ-ST01-6-String-Electric-Without/dp/B01FYZSOGM/ref=sr_1_31?crid=3V8S8I2R308Z3&keywords=guitar&qid=1658996593&sprefix=guitar%2Caps%2C500&sr=8-31',\n",
       " 'https://www.amazon.in./Intern-INT-38C-Acoustic-Guitar-Natural/dp/B073B4D22T/ref=sr_1_32?crid=3V8S8I2R308Z3&keywords=guitar&qid=1658996593&sprefix=guitar%2Caps%2C500&sr=8-32',\n",
       " 'https://www.amazon.in./Medellin-Acoustic-specailized-learning-beginners/dp/B09MSH3RY1/ref=sr_1_33?crid=3V8S8I2R308Z3&keywords=guitar&qid=1658996593&sprefix=guitar%2Caps%2C500&sr=8-33',\n",
       " 'https://www.amazon.in./Intern-INT-38C-RD-G-Guitar-Kit-Red/dp/B07K959RKX/ref=sr_1_34?crid=3V8S8I2R308Z3&keywords=guitar&qid=1658996593&sprefix=guitar%2Caps%2C500&sr=8-34',\n",
       " 'https://www.amazon.in./JUAREZ-Arp%C3%A9ggio-Semi-Acoustic-Guitar-Natural/dp/B08KHFJKZK/ref=sr_1_35?crid=3V8S8I2R308Z3&keywords=guitar&qid=1658996593&sprefix=guitar%2Caps%2C500&sr=8-35',\n",
       " 'https://www.amazon.in./Medellin-Acoustic-LEARNING-beginners-handrest/dp/B09MSKKHJC/ref=sr_1_36?crid=3V8S8I2R308Z3&keywords=guitar&qid=1658996593&sprefix=guitar%2Caps%2C500&sr=8-36',\n",
       " 'https://www.amazon.in./Acoustic-Cutaway-RDS-Strings-Sunburst/dp/B076QGY91P/ref=sr_1_37?crid=3V8S8I2R308Z3&keywords=guitar&qid=1658996593&sprefix=guitar%2Caps%2C500&sr=8-37',\n",
       " 'https://www.amazon.in./Guitar-Strings-Straps-String-Polishing/dp/B097N7NGHD/ref=sr_1_38?crid=3V8S8I2R308Z3&keywords=guitar&qid=1658996593&sprefix=guitar%2Caps%2C500&sr=8-38',\n",
       " 'https://www.amazon.in./Blueberry-38C-Acoustic-Guitar-Strings/dp/B08KLMV4XX/ref=sr_1_39?crid=3V8S8I2R308Z3&keywords=guitar&qid=1658996593&sprefix=guitar%2Caps%2C500&sr=8-39',\n",
       " 'https://www.amazon.in./JUAREZ-Acoustic-Guitar-String-JRGSE32/dp/B08MW1WPW5/ref=sr_1_40?crid=3V8S8I2R308Z3&keywords=guitar&qid=1658996593&sprefix=guitar%2Caps%2C500&sr=8-40',\n",
       " 'https://www.amazon.in./JRZ-ST01-6-String-Electric-Sunburst-Without/dp/B01FYZSOEE/ref=sr_1_41?crid=3V8S8I2R308Z3&keywords=guitar&qid=1658996593&sprefix=guitar%2Caps%2C500&sr=8-41',\n",
       " 'https://www.amazon.in./Medellin-Acoustic-Guitar-Carbon-Learning/dp/B09MSFP7JK/ref=sr_1_42?crid=3V8S8I2R308Z3&keywords=guitar&qid=1658996593&sprefix=guitar%2Caps%2C500&sr=8-42',\n",
       " 'https://www.amazon.in./Acoustic-Pick-up-stability-professional-amplificaiton/dp/B09YHCR3R8/ref=sr_1_43?crid=3V8S8I2R308Z3&keywords=guitar&qid=1658996593&sprefix=guitar%2Caps%2C500&sr=8-43',\n",
       " 'https://www.amazon.in./DEVICE-URBAN-INFOTECH-Accurate-Acoustic/dp/B08BZXMJTP/ref=sr_1_44?crid=3V8S8I2R308Z3&keywords=guitar&qid=1658996593&sprefix=guitar%2Caps%2C500&sr=8-44',\n",
       " 'https://www.amazon.in./Intern-INT-38C-NT-G-Guitar-Kit-Natural/dp/B07K9MZZH9/ref=sr_1_45?crid=3V8S8I2R308Z3&keywords=guitar&qid=1658996593&sprefix=guitar%2Caps%2C500&sr=8-45',\n",
       " 'https://www.amazon.in./Intern-INT-38C-Natural-Acoustic-Guitar/dp/B07X4LPJ6H/ref=sr_1_46?crid=3V8S8I2R308Z3&keywords=guitar&qid=1658996593&sprefix=guitar%2Caps%2C500&sr=8-46',\n",
       " 'https://www.amazon.in./Yamaha-FS-100C-6-String-Acoustic-without/dp/B00PAS9CK6/ref=sr_1_47?crid=3V8S8I2R308Z3&keywords=guitar&qid=1658996593&sprefix=guitar%2Caps%2C500&sr=8-47',\n",
       " 'https://www.amazon.in./JUAREZ-JRZ38CTR-BK-Acoustic-Guitar/dp/B08FTZK7H8/ref=sr_1_48?crid=3V8S8I2R308Z3&keywords=guitar&qid=1658996593&sprefix=guitar%2Caps%2C500&sr=8-48',\n",
       " 'https://www.amazon.in./Fender-Classic-Design-Dreadnought-Acoustic/dp/B07HYS18LJ/ref=sr_1_49?crid=3V8S8I2R308Z3&keywords=guitar&qid=1658996593&sprefix=guitar%2Caps%2C500&sr=8-49',\n",
       " 'https://www.amazon.in./Yamaha-Acoustic-Guitar-Natural-Bajaao/dp/B08RMP2F6Z/ref=sr_1_50?crid=3V8S8I2R308Z3&keywords=guitar&qid=1658996593&sprefix=guitar%2Caps%2C500&sr=8-50',\n",
       " 'https://www.amazon.in./NGEL-String-Educational-Beginners-Instrument/dp/B09PHMBW3D/ref=sr_1_51?crid=3V8S8I2R308Z3&keywords=guitar&qid=1658996593&sprefix=guitar%2Caps%2C500&sr=8-51',\n",
       " 'https://www.amazon.in./Intern-INT-38C-VT-G-Guitar-Kit-Violet/dp/B07K8YJXKL/ref=sr_1_52?crid=3V8S8I2R308Z3&keywords=guitar&qid=1658996593&sprefix=guitar%2Caps%2C500&sr=8-52',\n",
       " 'https://www.amazon.in./AUREUS-Acoustic-Instrument-Educational-Beginners/dp/B09HHLRZ7S/ref=sr_1_53?crid=3V8S8I2R308Z3&keywords=guitar&qid=1658996593&sprefix=guitar%2Caps%2C500&sr=8-53',\n",
       " 'https://www.amazon.in./Special-Cutaway-Rosewood-Acoustic-Plectrums/dp/B09P3YQQLK/ref=sr_1_54?crid=3V8S8I2R308Z3&keywords=guitar&qid=1658996593&sprefix=guitar%2Caps%2C500&sr=8-54',\n",
       " 'https://www.amazon.in./Medellin-carbn-guitar-38inch-NATURAL/dp/B09MSHD6TS/ref=sr_1_55?crid=3V8S8I2R308Z3&keywords=guitar&qid=1658996593&sprefix=guitar%2Caps%2C500&sr=8-55',\n",
       " 'https://www.amazon.in./Blueberry-B-D38-Acoustic-inbuilt-Strings/dp/B07PCRZ1CD/ref=sr_1_56?crid=3V8S8I2R308Z3&keywords=guitar&qid=1658996593&sprefix=guitar%2Caps%2C500&sr=8-56',\n",
       " 'https://www.amazon.in./gp/slredirect/picassoRedirect.html/ref=pa_sp_btf_aps_sr_pg1_1?ie=UTF8&adId=A093834425X8CW6M8IIIL&url=%2FMedellin-carbn-guitar-38inch-NATURAL%2Fdp%2FB09MSHD6TS%2Fref%3Dsr_1_57_sspa%3Fcrid%3D3V8S8I2R308Z3%26keywords%3Dguitar%26qid%3D1658996593%26sprefix%3Dguitar%252Caps%252C500%26sr%3D8-57-spons%26psc%3D1&qualifier=1658996593&id=8351685085405949&widgetName=sp_btf',\n",
       " 'https://www.amazon.in./gp/slredirect/picassoRedirect.html/ref=pa_sp_btf_aps_sr_pg1_1?ie=UTF8&adId=A10119942ZX3SW2X5KVZF&url=%2FSamara-41-Inch-Cutaway-Electro-Acoustic-Guitar%2Fdp%2FB09DT3L5QD%2Fref%3Dsr_1_58_sspa%3Fcrid%3D3V8S8I2R308Z3%26keywords%3Dguitar%26qid%3D1658996593%26sprefix%3Dguitar%252Caps%252C500%26sr%3D8-58-spons%26psc%3D1&qualifier=1658996593&id=8351685085405949&widgetName=sp_btf',\n",
       " 'https://www.amazon.in./gp/slredirect/picassoRedirect.html/ref=pa_sp_btf_aps_sr_pg1_1?ie=UTF8&adId=A08802611ONKSOGJ9HGRR&url=%2FHOMME-STORE-Acoustic-Instrument-Educational%2Fdp%2FB09RK4CWGK%2Fref%3Dsr_1_59_sspa%3Fcrid%3D3V8S8I2R308Z3%26keywords%3Dguitar%26qid%3D1658996593%26sprefix%3Dguitar%252Caps%252C500%26sr%3D8-59-spons%26psc%3D1&qualifier=1658996593&id=8351685085405949&widgetName=sp_btf',\n",
       " 'https://www.amazon.in./gp/slredirect/picassoRedirect.html/ref=pa_sp_btf_aps_sr_pg1_1?ie=UTF8&adId=A08790022Y5TKL7GOFMBU&url=%2FCort-AD810-Dreadnought-Acoustic-Guitar%2Fdp%2FB07KMBVR6V%2Fref%3Dsr_1_60_sspa%3Fcrid%3D3V8S8I2R308Z3%26keywords%3Dguitar%26qid%3D1658996593%26sprefix%3Dguitar%252Caps%252C500%26sr%3D8-60-spons%26psc%3D1&qualifier=1658996593&id=8351685085405949&widgetName=sp_btf',\n",
       " 'https://www.amazon.in./gp/slredirect/picassoRedirect.html/ref=pa_sp_atf_next_aps_sr_pg2_1?ie=UTF8&adId=A06941481T7CVKF5E88EU&url=%2FTOXOT-TOYS-Instrument-resistance-Resonance%2Fdp%2FB09Z6LKP5K%2Fref%3Dsr_1_49_sspa%3Fcrid%3D3V8S8I2R308Z3%26keywords%3Dguitar%26qid%3D1658996613%26sprefix%3Dguitar%252Caps%252C500%26sr%3D8-49-spons%26psc%3D1&qualifier=1658996613&id=1291012642396346&widgetName=sp_atf_next',\n",
       " 'https://www.amazon.in./gp/slredirect/picassoRedirect.html/ref=pa_sp_atf_next_aps_sr_pg2_1?ie=UTF8&adId=A06072772I2LJ344EB41Y&url=%2FPhotron-Acoustic-Cutaway-PH38C-BK%2Fdp%2FB076T8V8NB%2Fref%3Dsr_1_50_sspa%3Fcrid%3D3V8S8I2R308Z3%26keywords%3Dguitar%26qid%3D1658996613%26sprefix%3Dguitar%252Caps%252C500%26sr%3D8-50-spons%26psc%3D1&qualifier=1658996613&id=1291012642396346&widgetName=sp_atf_next',\n",
       " 'https://www.amazon.in./gp/slredirect/picassoRedirect.html/ref=pa_sp_atf_next_aps_sr_pg2_1?ie=UTF8&adId=A061107531TUGN5RHMV0N&url=%2FKadence-Frontier-Acoustic-Guitar-Strings%2Fdp%2FB01GDZ46AA%2Fref%3Dsr_1_51_sspa%3Fcrid%3D3V8S8I2R308Z3%26keywords%3Dguitar%26qid%3D1658996613%26smid%3DAM04Z7MH4HSDD%26sprefix%3Dguitar%252Caps%252C500%26sr%3D8-51-spons%26psc%3D1%26smid%3DAM04Z7MH4HSDD&qualifier=1658996613&id=1291012642396346&widgetName=sp_atf_next',\n",
       " 'https://www.amazon.in./gp/slredirect/picassoRedirect.html/ref=pa_sp_atf_next_aps_sr_pg2_1?ie=UTF8&adId=A0781470356P60BY9NFAO&url=%2FHOMME-STORE-Instrument-Educational-Instruments%2Fdp%2FB09MM9NBZC%2Fref%3Dsr_1_52_sspa%3Fcrid%3D3V8S8I2R308Z3%26keywords%3Dguitar%26qid%3D1658996613%26sprefix%3Dguitar%252Caps%252C500%26sr%3D8-52-spons%26psc%3D1&qualifier=1658996613&id=1291012642396346&widgetName=sp_atf_next',\n",
       " 'https://www.amazon.in./Ju%C3%A2rez-JRZ38C-WH-Strings-Acoustic/dp/B072MFK4L6/ref=sr_1_53?crid=3V8S8I2R308Z3&keywords=guitar&qid=1658996613&sprefix=guitar%2Caps%2C500&sr=8-53',\n",
       " 'https://www.amazon.in./Blueberry-B-38C-Brown-Acoustic-Guitar-Strings/dp/B0B71BHDGQ/ref=sr_1_54?crid=3V8S8I2R308Z3&keywords=guitar&qid=1658996613&sprefix=guitar%2Caps%2C500&sr=8-54',\n",
       " 'https://www.amazon.in./Carlton-Rosewood-Fretboard-Acoustic-K-Retail/dp/B07KK8P9VB/ref=sr_1_55?crid=3V8S8I2R308Z3&keywords=guitar&qid=1658996613&sprefix=guitar%2Caps%2C500&sr=8-55',\n",
       " 'https://www.amazon.in./SF-600C-Dreadnought-Acoustic-Cutaway-Guitar/dp/B0B1J2L633/ref=sr_1_56?crid=3V8S8I2R308Z3&keywords=guitar&qid=1658996613&sprefix=guitar%2Caps%2C500&sr=8-56',\n",
       " 'https://www.amazon.in./Medellin-Acoustic-specailized-learning-beginners/dp/B09MSGN39M/ref=sr_1_57?crid=3V8S8I2R308Z3&keywords=guitar&qid=1658996613&sprefix=guitar%2Caps%2C500&sr=8-57',\n",
       " 'https://www.amazon.in./Hovner-Royal-Metallic-Rosewood-Fretboard/dp/B09VQ1YYF8/ref=sr_1_58?crid=3V8S8I2R308Z3&keywords=guitar&qid=1658996613&sprefix=guitar%2Caps%2C500&sr=8-58',\n",
       " 'https://www.amazon.in./Juarez-Acoustic-Cutaway-BK-Strings/dp/B076T3RHMG/ref=sr_1_49?crid=3V8S8I2R308Z3&keywords=guitar&qid=1658996613&sprefix=guitar%2Caps%2C500&sr=8-49',\n",
       " 'https://www.amazon.in./Medellin-MED-BLU-C-Linden-Acoustic-Guitar/dp/B07NBMWHJW/ref=sr_1_50?crid=3V8S8I2R308Z3&keywords=guitar&qid=1658996613&sprefix=guitar%2Caps%2C500&sr=8-50',\n",
       " 'https://www.amazon.in./Givson-Ketostics-VS-RED-Acoustic-Plectrums/dp/B08KS2N1H9/ref=sr_1_51?crid=3V8S8I2R308Z3&keywords=guitar&qid=1658996613&sprefix=guitar%2Caps%2C500&sr=8-51',\n",
       " 'https://www.amazon.in./Kadence-Slowhand-Premium-Acoustic-Instrument/dp/B077SZ667X/ref=sr_1_52?crid=3V8S8I2R308Z3&keywords=guitar&qid=1658996613&smid=AM04Z7MH4HSDD&sprefix=guitar%2Caps%2C500&sr=8-52',\n",
       " 'https://www.amazon.in./JUAREZ-JRZ38C-Handed-Acoustic-Strings/dp/B01FYYTDW2/ref=sr_1_53?crid=3V8S8I2R308Z3&keywords=guitar&qid=1658996613&sprefix=guitar%2Caps%2C500&sr=8-53',\n",
       " 'https://www.amazon.in./Henrix-Handed-Cutway-Acoustic-Polishing/dp/B08R3DKYGM/ref=sr_1_54?crid=3V8S8I2R308Z3&keywords=guitar&qid=1658996613&sprefix=guitar%2Caps%2C500&sr=8-54',\n",
       " 'https://www.amazon.in./Kordz-Luana-Natural-Rosewood-Fretboard/dp/B07V4Y1V9M/ref=sr_1_55?crid=3V8S8I2R308Z3&keywords=guitar&qid=1658996613&sprefix=guitar%2Caps%2C500&sr=8-55',\n",
       " 'https://www.amazon.in./Kadence-Frontier-Acoustic-Guitar-Equalizer/dp/B01HRIHJWY/ref=sr_1_56?crid=3V8S8I2R308Z3&keywords=guitar&qid=1658996613&sprefix=guitar%2Caps%2C500&sr=8-56',\n",
       " 'https://www.amazon.in./Kadence-Frontier-Acoustic-Guitar-Strings/dp/B01CJJG328/ref=sr_1_57?crid=3V8S8I2R308Z3&keywords=guitar&qid=1658996613&sprefix=guitar%2Caps%2C500&sr=8-57',\n",
       " 'https://www.amazon.in./Ketostics-Rosewood-Acoustic-Plectrums-sunbrust/dp/B09NSXMVF4/ref=sr_1_58?crid=3V8S8I2R308Z3&keywords=guitar&qid=1658996613&sprefix=guitar%2Caps%2C500&sr=8-58',\n",
       " 'https://www.amazon.in./gp/slredirect/picassoRedirect.html/ref=pa_sp_mtf_aps_sr_pg2_1?ie=UTF8&adId=A0405872A4XB9J6KU616&url=%2FClassical-Childrens-Instrument-Educational-Beginners%2Fdp%2FB0B6R8PV79%2Fref%3Dsr_1_59_sspa%3Fcrid%3D3V8S8I2R308Z3%26keywords%3Dguitar%26qid%3D1658996613%26sprefix%3Dguitar%252Caps%252C500%26sr%3D8-59-spons%26psc%3D1&qualifier=1658996613&id=1291012642396346&widgetName=sp_mtf',\n",
       " 'https://www.amazon.in./gp/slredirect/picassoRedirect.html/ref=pa_sp_mtf_aps_sr_pg2_1?ie=UTF8&adId=A01658601MJ3AK7QPFK79&url=%2FAcoustic-Guitar-Cutaway-Strings-Strap%2Fdp%2FB08NTC4KG4%2Fref%3Dsr_1_60_sspa%3Fcrid%3D3V8S8I2R308Z3%26keywords%3Dguitar%26qid%3D1658996613%26sprefix%3Dguitar%252Caps%252C500%26sr%3D8-60-spons%26psc%3D1&qualifier=1658996613&id=1291012642396346&widgetName=sp_mtf',\n",
       " 'https://www.amazon.in./gp/slredirect/picassoRedirect.html/ref=pa_sp_mtf_aps_sr_pg2_1?ie=UTF8&adId=A035772132XYG2RHINY71&url=%2FExegi-Enterprise-Childrens-Instrument-Educational%2Fdp%2FB0B12YKQHV%2Fref%3Dsr_1_61_sspa%3Fcrid%3D3V8S8I2R308Z3%26keywords%3Dguitar%26qid%3D1658996613%26sprefix%3Dguitar%252Caps%252C500%26sr%3D8-61-spons%26psc%3D1&qualifier=1658996613&id=1291012642396346&widgetName=sp_mtf',\n",
       " 'https://www.amazon.in./gp/slredirect/picassoRedirect.html/ref=pa_sp_mtf_aps_sr_pg2_1?ie=UTF8&adId=A00514452JKYA7IP4JEAA&url=%2FBlueberry-Acoustic-Inbuilt-Strings-Classic%2Fdp%2FB09VLF8B8G%2Fref%3Dsr_1_62_sspa%3Fcrid%3D3V8S8I2R308Z3%26keywords%3Dguitar%26qid%3D1658996613%26sprefix%3Dguitar%252Caps%252C500%26sr%3D8-62-spons%26psc%3D1&qualifier=1658996613&id=1291012642396346&widgetName=sp_mtf',\n",
       " 'https://www.amazon.in./Blueberry-Acoustic-Inbuilt-Strings-Classic/dp/B09VLF8B8G/ref=sr_1_63?crid=3V8S8I2R308Z3&keywords=guitar&qid=1658996613&sprefix=guitar%2Caps%2C500&sr=8-63',\n",
       " 'https://www.amazon.in./Juarez-Acoustic-Guitar-Cutaway-Strings/dp/B084VRCCN7/ref=sr_1_64?crid=3V8S8I2R308Z3&keywords=guitar&qid=1658996613&sprefix=guitar%2Caps%2C500&sr=8-64',\n",
       " 'https://www.amazon.in./JUAREZ-JRZ38C-Handed-Acoustic-Strings/dp/B01FYYTDX6/ref=sr_1_65?crid=3V8S8I2R308Z3&keywords=guitar&qid=1658996613&sprefix=guitar%2Caps%2C500&sr=8-65',\n",
       " 'https://www.amazon.in./Acoustic-strings-plectrums-stability-age-groups/dp/B09YHC3LX6/ref=sr_1_66?crid=3V8S8I2R308Z3&keywords=guitar&qid=1658996613&sprefix=guitar%2Caps%2C500&sr=8-66',\n",
       " 'https://www.amazon.in./Acoustic-Plectrums-Beginner-Learners-configuration/dp/B0B4SSB8BJ/ref=sr_1_67?crid=3V8S8I2R308Z3&keywords=guitar&qid=1658996613&sprefix=guitar%2Caps%2C500&sr=8-67',\n",
       " 'https://www.amazon.in./Ibanez-IBA-MD39CNT-Acoustic-Guitar-MD39C-NT/dp/B07G4CCMYL/ref=sr_1_68?crid=3V8S8I2R308Z3&keywords=guitar&qid=1658996613&sprefix=guitar%2Caps%2C500&sr=8-68',\n",
       " 'https://www.amazon.in./Mustang-Strings-Changing-Including-Beginner/dp/B07S19LGLR/ref=sr_1_69?crid=3V8S8I2R308Z3&keywords=guitar&qid=1658996613&sprefix=guitar%2Caps%2C500&sr=8-69',\n",
       " 'https://www.amazon.in./4-string-acoustic-guitar-learning-18-Multi/dp/B09BW7CS1D/ref=sr_1_70?crid=3V8S8I2R308Z3&keywords=guitar&qid=1658996613&sprefix=guitar%2Caps%2C500&sr=8-70',\n",
       " 'https://www.amazon.in./Ketostics-Givson-Special-Acoustic-Plectrums/dp/B08JCXZGJW/ref=sr_1_71?crid=3V8S8I2R308Z3&keywords=guitar&qid=1658996613&sprefix=guitar%2Caps%2C500&sr=8-71',\n",
       " 'https://www.amazon.in./Martin-Smith-W-101-N-PK-Acoustic-Natural/dp/B00UOUK4IE/ref=sr_1_72?crid=3V8S8I2R308Z3&keywords=guitar&qid=1658996613&sprefix=guitar%2Caps%2C500&sr=8-72',\n",
       " 'https://www.amazon.in./Fretboard-Stickers-Fingerboard-Beginners-Assistant/dp/B0B7BFW4VJ/ref=sr_1_73?crid=3V8S8I2R308Z3&keywords=guitar&qid=1658996613&sprefix=guitar%2Caps%2C500&sr=8-73',\n",
       " 'https://www.amazon.in./JUAREZ-JRZ-HSS01-ELECTRIC-GUITAR-SUNBURST/dp/B08QNVNM1Z/ref=sr_1_74?crid=3V8S8I2R308Z3&keywords=guitar&qid=1658996613&sprefix=guitar%2Caps%2C500&sr=8-74',\n",
       " 'https://www.amazon.in./Acoustic-Pick-up-stability-professional-amplificaiton/dp/B09YH7WJP3/ref=sr_1_75?crid=3V8S8I2R308Z3&keywords=guitar&qid=1658996613&sprefix=guitar%2Caps%2C500&sr=8-75',\n",
       " 'https://www.amazon.in./Kadence-Frontier-Acoustic-Equalizer-Strings/dp/B01HRIHH9E/ref=sr_1_76?crid=3V8S8I2R308Z3&keywords=guitar&qid=1658996613&sprefix=guitar%2Caps%2C500&sr=8-76',\n",
       " 'https://www.amazon.in./Medellin-MED-BLK-C-Linden-Acoustic-Guitar/dp/B07NBMNZS2/ref=sr_1_77?crid=3V8S8I2R308Z3&keywords=guitar&qid=1658996613&sprefix=guitar%2Caps%2C500&sr=8-77',\n",
       " 'https://www.amazon.in./Juarez-Acoustic-Guitar-Cutaway-Strings/dp/B075XMRKMY/ref=sr_1_78?crid=3V8S8I2R308Z3&keywords=guitar&qid=1658996613&sprefix=guitar%2Caps%2C500&sr=8-78',\n",
       " 'https://www.amazon.in./KREEPO-Fretboard-Fingerboard-Acoustic-Electric-Multicolor/dp/B09DWY4ZK2/ref=sr_1_79?crid=3V8S8I2R308Z3&keywords=guitar&qid=1658996613&sprefix=guitar%2Caps%2C500&sr=8-79',\n",
       " 'https://www.amazon.in./215-Rosewood-Fretboard-Acoustic-Strings/dp/B08VHD4J3G/ref=sr_1_80?crid=3V8S8I2R308Z3&keywords=guitar&qid=1658996613&sprefix=guitar%2Caps%2C500&sr=8-80',\n",
       " 'https://www.amazon.in./Universal-Acoustic-Classical-Mandolins-Instruments/dp/B08XBRNC7T/ref=sr_1_81?crid=3V8S8I2R308Z3&keywords=guitar&qid=1658996613&sprefix=guitar%2Caps%2C500&sr=8-81',\n",
       " 'https://www.amazon.in./Acoustic-Humidity-resistant-resonance-Plectrums/dp/B09RQZG25Q/ref=sr_1_82?crid=3V8S8I2R308Z3&keywords=guitar&qid=1658996613&sprefix=guitar%2Caps%2C500&sr=8-82',\n",
       " 'https://www.amazon.in./Juarez-Strings-Acoustic-Cutaway-Zebrawood/dp/B072Q9L8DG/ref=sr_1_83?crid=3V8S8I2R308Z3&keywords=guitar&qid=1658996613&sprefix=guitar%2Caps%2C500&sr=8-83',\n",
       " 'https://www.amazon.in./Kadence-6-strings-Acoustic-Guitar-Natural/dp/B07JKYWGJN/ref=sr_1_84?crid=3V8S8I2R308Z3&keywords=guitar&qid=1658996613&sprefix=guitar%2Caps%2C500&sr=8-84',\n",
       " 'https://www.amazon.in./Yamaha-FSX80C-Acoustic-Cutaway-Guitar/dp/B09HL5WFDX/ref=sr_1_85?crid=3V8S8I2R308Z3&keywords=guitar&qid=1658996613&sprefix=guitar%2Caps%2C500&sr=8-85',\n",
       " 'https://www.amazon.in./Festra-Trussrod-Acoustic-Guitar-Strings/dp/B09VLBKD2M/ref=sr_1_86?crid=3V8S8I2R308Z3&keywords=guitar&qid=1658996613&sprefix=guitar%2Caps%2C500&sr=8-86',\n",
       " 'https://www.amazon.in./Juarez-JRZ38C-ASH-Strings-Acoustic/dp/B072JTPNZC/ref=sr_1_87?crid=3V8S8I2R308Z3&keywords=guitar&qid=1658996613&sprefix=guitar%2Caps%2C500&sr=8-87',\n",
       " 'https://www.amazon.in./Ketostics-Givson-Special-Semi-electric-Plectrums/dp/B08GSPQ214/ref=sr_1_88?crid=3V8S8I2R308Z3&keywords=guitar&qid=1658996613&sprefix=guitar%2Caps%2C500&sr=8-88',\n",
       " 'https://www.amazon.in./Kadence-Acoustica-Acoustic-Guitar-A03/dp/B08WCTFVT9/ref=sr_1_89?crid=3V8S8I2R308Z3&keywords=guitar&qid=1658996613&sprefix=guitar%2Caps%2C500&sr=8-89',\n",
       " 'https://www.amazon.in./Fender-SA-150-Acoustic-Guitar-Multicolor/dp/B0765G46BM/ref=sr_1_90?crid=3V8S8I2R308Z3&keywords=guitar&qid=1658996613&sprefix=guitar%2Caps%2C500&sr=8-90',\n",
       " 'https://www.amazon.in./JUAREZ-Acoustic-Rosewood-Fretboard-3TS/dp/B08GZXNSBG/ref=sr_1_91?crid=3V8S8I2R308Z3&keywords=guitar&qid=1658996613&sprefix=guitar%2Caps%2C500&sr=8-91',\n",
       " 'https://www.amazon.in./Acoustic-plectrums-stability-age-groups-Sparkling/dp/B09YH8C4D5/ref=sr_1_92?crid=3V8S8I2R308Z3&keywords=guitar&qid=1658996613&sprefix=guitar%2Caps%2C500&sr=8-92',\n",
       " 'https://www.amazon.in./Fender-Dread-String-Acoustic-Guitar/dp/B07RM4B5LJ/ref=sr_1_93?crid=3V8S8I2R308Z3&keywords=guitar&qid=1658996613&sprefix=guitar%2Caps%2C500&sr=8-93',\n",
       " 'https://www.amazon.in./DEVICE-URBAN-INFOTECH-Rotational-Electronic/dp/B081LG3X5H/ref=sr_1_94?crid=3V8S8I2R308Z3&keywords=guitar&qid=1658996613&sprefix=guitar%2Caps%2C500&sr=8-94',\n",
       " 'https://www.amazon.in./gp/slredirect/picassoRedirect.html/ref=pa_sp_btf_aps_sr_pg2_1?ie=UTF8&adId=A093834425X8CW6M8IIIL&url=%2FMedellin-carbn-guitar-38inch-NATURAL%2Fdp%2FB09MSHD6TS%2Fref%3Dsr_1_95_sspa%3Fcrid%3D3V8S8I2R308Z3%26keywords%3Dguitar%26qid%3D1658996613%26sprefix%3Dguitar%252Caps%252C500%26sr%3D8-95-spons%26psc%3D1&qualifier=1658996613&id=1291012642396346&widgetName=sp_btf',\n",
       " 'https://www.amazon.in./gp/slredirect/picassoRedirect.html/ref=pa_sp_btf_aps_sr_pg2_1?ie=UTF8&adId=A10119942ZX3SW2X5KVZF&url=%2FSamara-41-Inch-Cutaway-Electro-Acoustic-Guitar%2Fdp%2FB09DT3L5QD%2Fref%3Dsr_1_96_sspa%3Fcrid%3D3V8S8I2R308Z3%26keywords%3Dguitar%26qid%3D1658996613%26sprefix%3Dguitar%252Caps%252C500%26sr%3D8-96-spons%26psc%3D1&qualifier=1658996613&id=1291012642396346&widgetName=sp_btf',\n",
       " 'https://www.amazon.in./gp/slredirect/picassoRedirect.html/ref=pa_sp_btf_aps_sr_pg2_1?ie=UTF8&adId=A0046612372SWJAK5T57D&url=%2FKadence-Frontier-Acoustic-Equalizer-Strings%2Fdp%2FB01HRIHH9E%2Fref%3Dsr_1_97_sspa%3Fcrid%3D3V8S8I2R308Z3%26keywords%3Dguitar%26qid%3D1658996613%26sprefix%3Dguitar%252Caps%252C500%26sr%3D8-97-spons%26psc%3D1&qualifier=1658996613&id=1291012642396346&widgetName=sp_btf',\n",
       " 'https://www.amazon.in./gp/slredirect/picassoRedirect.html/ref=pa_sp_btf_aps_sr_pg2_1?ie=UTF8&adId=A08790022Y5TKL7GOFMBU&url=%2FCort-AD810-Dreadnought-Acoustic-Guitar%2Fdp%2FB07KMBVR6V%2Fref%3Dsr_1_98_sspa%3Fcrid%3D3V8S8I2R308Z3%26keywords%3Dguitar%26qid%3D1658996613%26sprefix%3Dguitar%252Caps%252C500%26sr%3D8-98-spons%26psc%3D1&qualifier=1658996613&id=1291012642396346&widgetName=sp_btf',\n",
       " 'https://www.amazon.in./gp/slredirect/picassoRedirect.html/ref=pa_sp_atf_next_aps_sr_pg3_1?ie=UTF8&adId=A06941481T7CVKF5E88EU&url=%2FTOXOT-TOYS-Instrument-resistance-Resonance%2Fdp%2FB09Z6LKP5K%2Fref%3Dsr_1_97_sspa%3Fcrid%3D3V8S8I2R308Z3%26keywords%3Dguitar%26qid%3D1658996620%26sprefix%3Dguitar%252Caps%252C500%26sr%3D8-97-spons%26psc%3D1&qualifier=1658996620&id=7143446338362390&widgetName=sp_atf_next',\n",
       " 'https://www.amazon.in./gp/slredirect/picassoRedirect.html/ref=pa_sp_atf_next_aps_sr_pg3_1?ie=UTF8&adId=A06072772I2LJ344EB41Y&url=%2FPhotron-Acoustic-Cutaway-PH38C-BK%2Fdp%2FB076T8V8NB%2Fref%3Dsr_1_98_sspa%3Fcrid%3D3V8S8I2R308Z3%26keywords%3Dguitar%26qid%3D1658996620%26sprefix%3Dguitar%252Caps%252C500%26sr%3D8-98-spons%26psc%3D1&qualifier=1658996620&id=7143446338362390&widgetName=sp_atf_next',\n",
       " 'https://www.amazon.in./gp/slredirect/picassoRedirect.html/ref=pa_sp_atf_next_aps_sr_pg3_1?ie=UTF8&adId=A061107531TUGN5RHMV0N&url=%2FKadence-Frontier-Acoustic-Guitar-Strings%2Fdp%2FB01GDZ46AA%2Fref%3Dsr_1_99_sspa%3Fcrid%3D3V8S8I2R308Z3%26keywords%3Dguitar%26qid%3D1658996620%26smid%3DAM04Z7MH4HSDD%26sprefix%3Dguitar%252Caps%252C500%26sr%3D8-99-spons%26psc%3D1%26smid%3DAM04Z7MH4HSDD&qualifier=1658996620&id=7143446338362390&widgetName=sp_atf_next',\n",
       " 'https://www.amazon.in./gp/slredirect/picassoRedirect.html/ref=pa_sp_atf_next_aps_sr_pg3_1?ie=UTF8&adId=A0781470356P60BY9NFAO&url=%2FHOMME-STORE-Instrument-Educational-Instruments%2Fdp%2FB09MM9NBZC%2Fref%3Dsr_1_100_sspa%3Fcrid%3D3V8S8I2R308Z3%26keywords%3Dguitar%26qid%3D1658996620%26sprefix%3Dguitar%252Caps%252C500%26sr%3D8-100-spons%26psc%3D1&qualifier=1658996620&id=7143446338362390&widgetName=sp_atf_next',\n",
       " 'https://www.amazon.in./Kadence-Acoustica-Ash-Wood-Equlizer/dp/B0757H5P13/ref=sr_1_101?crid=3V8S8I2R308Z3&keywords=guitar&qid=1658996620&smid=AM04Z7MH4HSDD&sprefix=guitar%2Caps%2C500&sr=8-101',\n",
       " 'https://www.amazon.in./Kadence-Frontier-Acoustic-Natural-Equalizer/dp/B01I50UJG6/ref=sr_1_102?crid=3V8S8I2R308Z3&keywords=guitar&qid=1658996620&sprefix=guitar%2Caps%2C500&sr=8-102',\n",
       " 'https://www.amazon.in./Kadence-Frontier-Acoustic-Foldable-Strings/dp/B01CJJGEVS/ref=sr_1_103?crid=3V8S8I2R308Z3&keywords=guitar&qid=1658996620&sprefix=guitar%2Caps%2C500&sr=8-103',\n",
       " 'https://www.amazon.in./Acoustic-Plectrums-Beginner-Learners-configuration/dp/B09W5TQD6G/ref=sr_1_104?crid=3V8S8I2R308Z3&keywords=guitar&qid=1658996620&sprefix=guitar%2Caps%2C500&sr=8-104',\n",
       " 'https://www.amazon.in./Kadence-Acoustica-Acoustic-Guitar-A01/dp/B0B49JGQX8/ref=sr_1_105?crid=3V8S8I2R308Z3&keywords=guitar&qid=1658996620&sprefix=guitar%2Caps%2C500&sr=8-105',\n",
       " 'https://www.amazon.in./Ketostics%C2%AE-Special-electric-Acoustic-Plectrums/dp/B09P4ZGKG9/ref=sr_1_106?crid=3V8S8I2R308Z3&keywords=guitar&qid=1658996620&sprefix=guitar%2Caps%2C500&sr=8-106',\n",
       " 'https://www.amazon.in./Acoustic-Pick-up-stability-professional-amplificaiton/dp/B09YH8YQR1/ref=sr_1_97?crid=3V8S8I2R308Z3&keywords=guitar&qid=1658996620&sprefix=guitar%2Caps%2C500&sr=8-97',\n",
       " 'https://www.amazon.in./TECHBLAZE-Guitar-Acoustic-Machine-pieces/dp/B098XG2QQ9/ref=sr_1_98?crid=3V8S8I2R308Z3&keywords=guitar&qid=1658996620&sprefix=guitar%2Caps%2C500&sr=8-98',\n",
       " 'https://www.amazon.in./Kadence-Acoustica-Mahogany-Top-A03/dp/B07Z1STKPH/ref=sr_1_99?crid=3V8S8I2R308Z3&keywords=guitar&qid=1658996620&sprefix=guitar%2Caps%2C500&sr=8-99',\n",
       " 'https://www.amazon.in./Cutaway-Acoustic-plectrums-stability-resistance/dp/B09YH8LP53/ref=sr_1_100?crid=3V8S8I2R308Z3&keywords=guitar&qid=1658996620&sprefix=guitar%2Caps%2C500&sr=8-100',\n",
       " 'https://www.amazon.in./YAMAHA-NATURAL-CONCERT-CUTAWAY-GUITAR/dp/B08KW4DRKL/ref=sr_1_101?crid=3V8S8I2R308Z3&keywords=guitar&qid=1658996620&sprefix=guitar%2Caps%2C500&sr=8-101',\n",
       " 'https://www.amazon.in./Acoustic-Plectrums-Beginner-Learners-configuration/dp/B09W5V91LW/ref=sr_1_102?crid=3V8S8I2R308Z3&keywords=guitar&qid=1658996620&sprefix=guitar%2Caps%2C500&sr=8-102',\n",
       " 'https://www.amazon.in./Acoustic-Humidity-resistant-resonance-Sunburst/dp/B09RQYYQBB/ref=sr_1_103?crid=3V8S8I2R308Z3&keywords=guitar&qid=1658996620&sprefix=guitar%2Caps%2C500&sr=8-103',\n",
       " 'https://www.amazon.in./Acoustic-Cutaway-3TS-Strings-Sunburst/dp/B098BD1MHM/ref=sr_1_104?crid=3V8S8I2R308Z3&keywords=guitar&qid=1658996620&sprefix=guitar%2Caps%2C500&sr=8-104',\n",
       " 'https://www.amazon.in./Acoustic-Pick-up-stability-professional-amplificaiton/dp/B09YH89JZQ/ref=sr_1_105?crid=3V8S8I2R308Z3&keywords=guitar&qid=1658996620&sprefix=guitar%2Caps%2C500&sr=8-105',\n",
       " 'https://www.amazon.in./Epiphone-Classic-String-Handed-Electric/dp/B085GCG3LN/ref=sr_1_106?crid=3V8S8I2R308Z3&keywords=guitar&qid=1658996620&sprefix=guitar%2Caps%2C500&sr=8-106',\n",
       " 'https://www.amazon.in./gp/slredirect/picassoRedirect.html/ref=pa_sp_mtf_aps_sr_pg3_1?ie=UTF8&adId=A0405872A4XB9J6KU616&url=%2FClassical-Childrens-Instrument-Educational-Beginners%2Fdp%2FB0B6R8PV79%2Fref%3Dsr_1_107_sspa%3Fcrid%3D3V8S8I2R308Z3%26keywords%3Dguitar%26qid%3D1658996620%26sprefix%3Dguitar%252Caps%252C500%26sr%3D8-107-spons%26psc%3D1&qualifier=1658996620&id=7143446338362390&widgetName=sp_mtf',\n",
       " 'https://www.amazon.in./gp/slredirect/picassoRedirect.html/ref=pa_sp_mtf_aps_sr_pg3_1?ie=UTF8&adId=A08790022Y5TKL7GOFMBU&url=%2FCort-AD810-Dreadnought-Acoustic-Guitar%2Fdp%2FB07KMBVR6V%2Fref%3Dsr_1_108_sspa%3Fcrid%3D3V8S8I2R308Z3%26keywords%3Dguitar%26qid%3D1658996620%26sprefix%3Dguitar%252Caps%252C500%26sr%3D8-108-spons%26psc%3D1&qualifier=1658996620&id=7143446338362390&widgetName=sp_mtf',\n",
       " 'https://www.amazon.in./gp/slredirect/picassoRedirect.html/ref=pa_sp_mtf_aps_sr_pg3_1?ie=UTF8&adId=A035772132XYG2RHINY71&url=%2FExegi-Enterprise-Childrens-Instrument-Educational%2Fdp%2FB0B12YKQHV%2Fref%3Dsr_1_109_sspa%3Fcrid%3D3V8S8I2R308Z3%26keywords%3Dguitar%26qid%3D1658996620%26sprefix%3Dguitar%252Caps%252C500%26sr%3D8-109-spons%26psc%3D1&qualifier=1658996620&id=7143446338362390&widgetName=sp_mtf',\n",
       " 'https://www.amazon.in./gp/slredirect/picassoRedirect.html/ref=pa_sp_mtf_aps_sr_pg3_1?ie=UTF8&adId=A00514452JKYA7IP4JEAA&url=%2FBlueberry-Acoustic-Inbuilt-Strings-Classic%2Fdp%2FB09VLF8B8G%2Fref%3Dsr_1_110_sspa%3Fcrid%3D3V8S8I2R308Z3%26keywords%3Dguitar%26qid%3D1658996620%26sprefix%3Dguitar%252Caps%252C500%26sr%3D8-110-spons%26psc%3D1&qualifier=1658996620&id=7143446338362390&widgetName=sp_mtf',\n",
       " 'https://www.amazon.in./Givson-Ketostics-Guitar-Acoustic-Plectrums/dp/B08KS5MRSC/ref=sr_1_111?crid=3V8S8I2R308Z3&keywords=guitar&qid=1658996620&sprefix=guitar%2Caps%2C500&sr=8-111',\n",
       " 'https://www.amazon.in./Intern-INT-38C-L-BK-Acoustic-Guitar-Black/dp/B07J4W2KTW/ref=sr_1_112?crid=3V8S8I2R308Z3&keywords=guitar&qid=1658996620&sprefix=guitar%2Caps%2C500&sr=8-112',\n",
       " 'https://www.amazon.in./ARCTIC-Guitar-Truss-String-Standard/dp/B08F43XYM9/ref=sr_1_113?crid=3V8S8I2R308Z3&keywords=guitar&qid=1658996620&sprefix=guitar%2Caps%2C500&sr=8-113',\n",
       " 'https://www.amazon.in./Mustang-Guitar-Accessories-Kit-Clip/dp/B07RY9KNVK/ref=sr_1_114?crid=3V8S8I2R308Z3&keywords=guitar&qid=1658996620&sprefix=guitar%2Caps%2C500&sr=8-114',\n",
       " 'https://www.amazon.in./Kadence-Electric-Guitar-Rosewood-Fretboard/dp/B07BGW6JVL/ref=sr_1_115?crid=3V8S8I2R308Z3&keywords=guitar&qid=1658996620&sprefix=guitar%2Caps%2C500&sr=8-115',\n",
       " 'https://www.amazon.in./Acoustic-F280-Dreadnought-Plectrums-Natural/dp/B092TPXZRN/ref=sr_1_116?crid=3V8S8I2R308Z3&keywords=guitar&qid=1658996620&sprefix=guitar%2Caps%2C500&sr=8-116',\n",
       " 'https://www.amazon.in./MUSICALS%C2%AE-Guitar-Including-Strings-remover/dp/B082Q6C28F/ref=sr_1_117?crid=3V8S8I2R308Z3&keywords=guitar&qid=1658996620&sprefix=guitar%2Caps%2C500&sr=8-117',\n",
       " 'https://www.amazon.in./Yamaha-FS100C-Acoustic-Guitars-Natural/dp/B00QKD79QE/ref=sr_1_118?crid=3V8S8I2R308Z3&keywords=guitar&qid=1658996620&sprefix=guitar%2Caps%2C500&sr=8-118',\n",
       " 'https://www.amazon.in./Acoustic-Guitar-Cutaway-Strings-Strap/dp/B08NTC4KG4/ref=sr_1_119?crid=3V8S8I2R308Z3&keywords=guitar&qid=1658996620&sprefix=guitar%2Caps%2C500&sr=8-119',\n",
       " 'https://www.amazon.in./Gavison-Natural-Pinewood-Acoustic-Strings/dp/B0B5X5LHKY/ref=sr_1_120?crid=3V8S8I2R308Z3&keywords=guitar&qid=1658996620&sprefix=guitar%2Caps%2C500&sr=8-120',\n",
       " 'https://www.amazon.in./TOXOT-TOYS-Instrument-resistance-Resonance/dp/B09Z6LKP5K/ref=sr_1_121?crid=3V8S8I2R308Z3&keywords=guitar&qid=1658996620&sprefix=guitar%2Caps%2C500&sr=8-121',\n",
       " 'https://www.amazon.in./Granada-Acoustic-Dreadnought-PRLD-14C-F-Natural/dp/B09JBW86VH/ref=sr_1_122?crid=3V8S8I2R308Z3&keywords=guitar&qid=1658996620&sprefix=guitar%2Caps%2C500&sr=8-122',\n",
       " 'https://www.amazon.in./Techblaze-Strings-Changing-Multicolored-Acoustic/dp/B08L64C7LX/ref=sr_1_123?crid=3V8S8I2R308Z3&keywords=guitar&qid=1658996620&sprefix=guitar%2Caps%2C500&sr=8-123',\n",
       " 'https://www.amazon.in./Stagg-Auditorium-SA25-ACE-MAHO/dp/B09HQ2685T/ref=sr_1_124?crid=3V8S8I2R308Z3&keywords=guitar&qid=1658996620&sprefix=guitar%2Caps%2C500&sr=8-124',\n",
       " 'https://www.amazon.in./Acoustic-stability-professional-amplificaiton-Sunburst/dp/B09YH8TVW7/ref=sr_1_125?crid=3V8S8I2R308Z3&keywords=guitar&qid=1658996620&sprefix=guitar%2Caps%2C500&sr=8-125',\n",
       " 'https://www.amazon.in./GIVSON-KETOSTICS-VS-BLK-Strings-Acoustic/dp/B07R9ZLSNL/ref=sr_1_126?crid=3V8S8I2R308Z3&keywords=guitar&qid=1658996620&sprefix=guitar%2Caps%2C500&sr=8-126',\n",
       " 'https://www.amazon.in./JUAREZ-Arpeggio-Acoustic-Rosewood-Fretboard/dp/B08LBGLRFC/ref=sr_1_127?crid=3V8S8I2R308Z3&keywords=guitar&qid=1658996620&sprefix=guitar%2Caps%2C500&sr=8-127',\n",
       " 'https://www.amazon.in./Fender-961702021-Dreadnought-Acoustic-Multicolor/dp/B01N4RWSX1/ref=sr_1_128?crid=3V8S8I2R308Z3&keywords=guitar&qid=1658996620&sprefix=guitar%2Caps%2C500&sr=8-128',\n",
       " 'https://www.amazon.in./JUAREZ-Acoustic-Guitar-3TS-Sunburst/dp/B08FV1KHTT/ref=sr_1_129?crid=3V8S8I2R308Z3&keywords=guitar&qid=1658996620&sprefix=guitar%2Caps%2C500&sr=8-129',\n",
       " 'https://www.amazon.in./Acoustic-Humidity-resistance-resonance-Plectrums/dp/B09RQZ6HM2/ref=sr_1_130?crid=3V8S8I2R308Z3&keywords=guitar&qid=1658996620&sprefix=guitar%2Caps%2C500&sr=8-130',\n",
       " 'https://www.amazon.in./Vault-CL-20-size-Classical-Guitar/dp/B097NB12H3/ref=sr_1_131?crid=3V8S8I2R308Z3&keywords=guitar&qid=1658996620&sprefix=guitar%2Caps%2C500&sr=8-131',\n",
       " 'https://www.amazon.in./Yamaha-F310Cover-Acoustic-Natural-6-Strings/dp/B01LXMGHL5/ref=sr_1_132?crid=3V8S8I2R308Z3&keywords=guitar&qid=1658996620&sprefix=guitar%2Caps%2C500&sr=8-132',\n",
       " 'https://www.amazon.in./Fender-Dread-String-Acoustic-Guitar/dp/B07RM21D8X/ref=sr_1_133?crid=3V8S8I2R308Z3&keywords=guitar&qid=1658996620&sprefix=guitar%2Caps%2C500&sr=8-133',\n",
       " 'https://www.amazon.in./Blueberry-Acoustic-Guitar-inbuilt-Truss-rod/dp/B08T8HW3K7/ref=sr_1_134?crid=3V8S8I2R308Z3&keywords=guitar&qid=1658996620&sprefix=guitar%2Caps%2C500&sr=8-134',\n",
       " 'https://www.amazon.in./Yamaha-Acoustic-Guitar-Tobacco-Sunburst/dp/B08VXR74Q2/ref=sr_1_135?crid=3V8S8I2R308Z3&keywords=guitar&qid=1658996620&sprefix=guitar%2Caps%2C500&sr=8-135',\n",
       " 'https://www.amazon.in./Fender-SA-150C-dreadnought-Squier-Natural/dp/B07YX5N6LC/ref=sr_1_136?crid=3V8S8I2R308Z3&keywords=guitar&qid=1658996620&sprefix=guitar%2Caps%2C500&sr=8-136',\n",
       " 'https://www.amazon.in./SF-600CE-Dreadnought-Electro-Acoustic-Natural/dp/B0B2K963G7/ref=sr_1_137?crid=3V8S8I2R308Z3&keywords=guitar&qid=1658996620&sprefix=guitar%2Caps%2C500&sr=8-137',\n",
       " 'https://www.amazon.in./Kadence-Frontier-Acoustic-Guitar-Strings/dp/B07T48VTZ1/ref=sr_1_138?crid=3V8S8I2R308Z3&keywords=guitar&qid=1658996620&sprefix=guitar%2Caps%2C500&sr=8-138',\n",
       " 'https://www.amazon.in./Pluto-HW41C201-HW41C-201-Acoustic-Guitar/dp/B014R94H1W/ref=sr_1_139?crid=3V8S8I2R308Z3&keywords=guitar&qid=1658996620&sprefix=guitar%2Caps%2C500&sr=8-139',\n",
       " 'https://www.amazon.in./Special-Cutaway-Rosewood-Acoustic-Plectrums/dp/B09P3YBN48/ref=sr_1_140?crid=3V8S8I2R308Z3&keywords=guitar&qid=1658996620&sprefix=guitar%2Caps%2C500&sr=8-140',\n",
       " 'https://www.amazon.in./JUAREZ-Arpeggio-Acoustic-Rosewood-Fretboard/dp/B08LBH5DB8/ref=sr_1_141?crid=3V8S8I2R308Z3&keywords=guitar&qid=1658996620&sprefix=guitar%2Caps%2C500&sr=8-141',\n",
       " 'https://www.amazon.in./Yamaha-Electric-Acoustic-FSX80C-Dreadnought-Plectrums/dp/B09HSJ6GPQ/ref=sr_1_142?crid=3V8S8I2R308Z3&keywords=guitar&qid=1658996620&sprefix=guitar%2Caps%2C500&sr=8-142',\n",
       " 'https://www.amazon.in./gp/slredirect/picassoRedirect.html/ref=pa_sp_btf_aps_sr_pg3_1?ie=UTF8&adId=A093834425X8CW6M8IIIL&url=%2FMedellin-carbn-guitar-38inch-NATURAL%2Fdp%2FB09MSHD6TS%2Fref%3Dsr_1_143_sspa%3Fcrid%3D3V8S8I2R308Z3%26keywords%3Dguitar%26qid%3D1658996620%26sprefix%3Dguitar%252Caps%252C500%26sr%3D8-143-spons%26psc%3D1&qualifier=1658996620&id=7143446338362390&widgetName=sp_btf',\n",
       " 'https://www.amazon.in./gp/slredirect/picassoRedirect.html/ref=pa_sp_btf_aps_sr_pg3_1?ie=UTF8&adId=A10119942ZX3SW2X5KVZF&url=%2FSamara-41-Inch-Cutaway-Electro-Acoustic-Guitar%2Fdp%2FB09DT3L5QD%2Fref%3Dsr_1_144_sspa%3Fcrid%3D3V8S8I2R308Z3%26keywords%3Dguitar%26qid%3D1658996620%26sprefix%3Dguitar%252Caps%252C500%26sr%3D8-144-spons%26psc%3D1&qualifier=1658996620&id=7143446338362390&widgetName=sp_btf',\n",
       " 'https://www.amazon.in./gp/slredirect/picassoRedirect.html/ref=pa_sp_btf_aps_sr_pg3_1?ie=UTF8&adId=A01658601MJ3AK7QPFK79&url=%2FAcoustic-Guitar-Cutaway-Strings-Strap%2Fdp%2FB08NTC4KG4%2Fref%3Dsr_1_145_sspa%3Fcrid%3D3V8S8I2R308Z3%26keywords%3Dguitar%26qid%3D1658996620%26sprefix%3Dguitar%252Caps%252C500%26sr%3D8-145-spons%26psc%3D1&qualifier=1658996620&id=7143446338362390&widgetName=sp_btf',\n",
       " 'https://www.amazon.in./gp/slredirect/picassoRedirect.html/ref=pa_sp_btf_aps_sr_pg3_1?ie=UTF8&adId=A0046612372SWJAK5T57D&url=%2FKadence-Frontier-Acoustic-Equalizer-Strings%2Fdp%2FB01HRIHH9E%2Fref%3Dsr_1_146_sspa%3Fcrid%3D3V8S8I2R308Z3%26keywords%3Dguitar%26qid%3D1658996620%26sprefix%3Dguitar%252Caps%252C500%26sr%3D8-146-spons%26psc%3D1&qualifier=1658996620&id=7143446338362390&widgetName=sp_btf']"
      ]
     },
     "execution_count": 11,
     "metadata": {},
     "output_type": "execute_result"
    }
   ],
   "source": [
    "product_urls"
   ]
  },
  {
   "cell_type": "code",
   "execution_count": 12,
   "id": "08d266a8",
   "metadata": {},
   "outputs": [],
   "source": [
    "brand_name=[]\n",
    "\n",
    "for i in product_urls[0:30]:\n",
    "    driver.get(i)\n",
    "    time.sleep(5)\n",
    "    try:\n",
    "        name = driver.find_element(By.XPATH,'/html/body/div[1]/div[2]/div[1]/div[1]/div/span[3]/div[2]/div[3]/div/div/div/div/div/div/div[2]/div[1]/h2/a')\n",
    "        brand_name.append(name.text)\n",
    "    except  NoSuchElementException  :\n",
    "        brand_name.append('NotPresent')"
   ]
  },
  {
   "cell_type": "code",
   "execution_count": 13,
   "id": "85ece88f",
   "metadata": {},
   "outputs": [
    {
     "data": {
      "text/plain": [
       "30"
      ]
     },
     "execution_count": 13,
     "metadata": {},
     "output_type": "execute_result"
    }
   ],
   "source": [
    "len(brand_name)"
   ]
  },
  {
   "cell_type": "code",
   "execution_count": 14,
   "id": "e21606e1",
   "metadata": {},
   "outputs": [
    {
     "data": {
      "text/plain": [
       "['NotPresent',\n",
       " 'NotPresent',\n",
       " 'NotPresent',\n",
       " 'NotPresent',\n",
       " 'NotPresent',\n",
       " 'NotPresent',\n",
       " 'NotPresent',\n",
       " 'NotPresent',\n",
       " 'NotPresent',\n",
       " 'NotPresent',\n",
       " 'NotPresent',\n",
       " 'NotPresent',\n",
       " 'NotPresent',\n",
       " 'NotPresent',\n",
       " 'NotPresent',\n",
       " 'NotPresent',\n",
       " 'NotPresent',\n",
       " 'NotPresent',\n",
       " 'NotPresent',\n",
       " 'NotPresent',\n",
       " 'NotPresent',\n",
       " 'NotPresent',\n",
       " 'NotPresent',\n",
       " 'NotPresent',\n",
       " 'NotPresent',\n",
       " 'NotPresent',\n",
       " 'NotPresent',\n",
       " 'NotPresent',\n",
       " 'NotPresent',\n",
       " 'NotPresent']"
      ]
     },
     "execution_count": 14,
     "metadata": {},
     "output_type": "execute_result"
    }
   ],
   "source": [
    "brand_name"
   ]
  },
  {
   "cell_type": "code",
   "execution_count": 16,
   "id": "6f11279d",
   "metadata": {},
   "outputs": [],
   "source": [
    "# first 3 pages of product name of the guitar\n",
    "start=0\n",
    "end=3\n",
    "for page in range(start,end):  \n",
    "    product=driver.find_elements(By.XPATH,'//div[@class=\"a-section a-spacing-none a-spacing-top-small s-title-instructions-style\"]')\n",
    "    \n",
    "\n",
    "product_name=[]\n",
    "for i in product:\n",
    "    product_name.append(i.text)\n",
    "\n",
    "nxt_button=driver.find_elements(By.XPATH,\"//a[@class='s-pagination-item s-pagination-next s-pagination-button s-pagination-separator']\")    \n",
    "\n",
    "try:\n",
    "    driver.get(nxt_button[0].get_attribute('href'))\n",
    "except:\n",
    "    driver.get(nxt_button[3].get_attribute('href'))"
   ]
  },
  {
   "cell_type": "code",
   "execution_count": 17,
   "id": "6c9a7c7f",
   "metadata": {},
   "outputs": [
    {
     "data": {
      "text/plain": [
       "64"
      ]
     },
     "execution_count": 17,
     "metadata": {},
     "output_type": "execute_result"
    }
   ],
   "source": [
    "len(product_name)"
   ]
  },
  {
   "cell_type": "code",
   "execution_count": 18,
   "id": "be85d68d",
   "metadata": {
    "scrolled": true
   },
   "outputs": [
    {
     "data": {
      "text/plain": [
       "['Sponsored\\nKadence Frontier Series, Acoustic Guitar With/Wihtout EQ Die Cast Keys Combo (Bag,strap,strings and 3 picks) (Blue, Acoustic)',\n",
       " 'Sponsored\\nKadence Frontier Jumbo Semi Acoustic Guitar With Die Cast Keys Super Combo (Bag, 1 pack Strings, Strap, Picks, Capo, Tuner (natural)',\n",
       " 'Sponsored\\nPhotron Acoustic Guitar, 38 inches Cutaway, PH38C/BK with Picks Only, Black (Without Bag, Strap and Extra Strings)',\n",
       " 'Sponsored\\nBlueberry 38C, 38\" Acoustic Guitar Kit with Bag, Strap, One Pack Strings And Picks (Black)',\n",
       " 'Intern INT-38C Acoustic Guitar Kit, With Bag, Strings, Pick And Strap, Black',\n",
       " 'Juârez Acoustic Guitar, 38 Inch Cutaway, 038C with Bag, Strings, Pick and Strap, Black',\n",
       " 'Juarez Acoustic Guitar, 38 Inch Curved Body Cutaway, 38CUR with Bag, Strings, Pick and Strap, Black',\n",
       " 'Intern INT-38C Acoustic Guitar Kit, With Bag, Strings, Pick And Strap, Black',\n",
       " 'Kadence Frontier guitar with Online Guitar learning course, Wine Red Acoustic Guitar with Die Cast Keys, Set of Strings, Strap, Picks and Bag (Wine Red, Acoustic)',\n",
       " '',\n",
       " '',\n",
       " 'Henrix 38C 38 inch Cutaway Acoustic Guitar with Dual Action Truss Rod, Gigbag, Picks, String Set, Strap, Cloth & Ebook - Black',\n",
       " 'YAMAHA Meranti Wood Classical Guitar C40//02',\n",
       " 'Intern INT-38C Acoustic Guitar Kit, With Bag, Strings, Pick And Strap, Blue',\n",
       " 'Intern 38C Ebony Wood Cutaway Design Acoustic Guitar with Picks And Carry Bag (Black)',\n",
       " 'Hovner 215 Black F-Cut Rosewood Fretboard Acoustic Guitar With Bag,Strap,1 Set of Extra Strings and 2 Picks By K-Retail',\n",
       " 'JUAREZ JRZ38C Right Handed Acoustic Guitar with Bag, Strings, Pick and Strap (Natural, 6 Strings)',\n",
       " 'Intern INT-38C-BK-G Cutaway Right Handed Acoustic Guitar Kit, with Bag, Nickel Strings, Pick And Strap (Black) -6 Strings',\n",
       " 'Kadence Guitar Frontier Series, Electric Acoustic Black Guitar With EQ, Die Cast Keys, Set of Strings, Strap, Picks and Bag (Black EQ, Electric Acoustic)',\n",
       " 'Juarez Acoustic Guitar Kit, 38 Inch Cutaway, 38C with Bag, Strings, Pick and Strap, 3TS Sunburst',\n",
       " 'Intern 38C Acoustic Steel-string Guitar Premium White Cutaway Design with carry bag, strings, guitar strap and plectrums (INT-38C-WH)',\n",
       " 'Kadence Frontier guitar with Online Guitar learning course, Wine Red Acoustic Guitar with Die Cast Keys, Set of Strings, Strap, Picks and Bag (Wine Red, Acoustic)',\n",
       " 'Intern Int-38c Sunburst Acoustic Guitar Kit with Carry Bag and Picks',\n",
       " 'Juârez JRZ38C/MAH 6 Strings Acoustic Guitar 38 Inch Cutaway, Right Handed, Mahogany with Bag, Strings, Picks and Strap',\n",
       " 'Sponsored\\nTOXOT TOYS 38 IN Right Handed Acoustic Guitar With Carry Bag & Picks | Musical Instrument Learning Toy for Kids | Humidity Proof, Bend resistance, Durable Action, Natural Tone & Bright Resonance',\n",
       " \"Sponsored\\nHOMME STORE 4 String Guitar Children's Musical Instrument Educational Toy Guitar Ukulele Instruments Beginner Musical Sound Toys Best Gift for Children, multi-coloured\",\n",
       " \"Sponsored\\nToy House™ Classical Guitar Children's Musical Instrument Educational Toy Guitar for Beginners Kids Childs (Color May Vary)\",\n",
       " 'Sponsored\\nAK Empire Kids Set Wooden 4-String Acoustic Guitar Toy Musical Instrument Guitar Toy for Beginners (Brown_18)',\n",
       " 'Juarez Acoustic Guitar Kit, 38 Inch Cutaway, 38C with Bag, Strings, Pick and Strap, TBS Transparent Blue Sunburst',\n",
       " 'Photron Acoustic Guitar, 38 inches Cutaway, PH38C/BK with Picks Only, Black (Without Bag, Strap and Extra Strings)',\n",
       " 'Juârez Acoustic Guitar, 38 Inch Cutaway, JRZ38CT, Hippie Funky Design, with Bag, Picks, Strap & Extra String set',\n",
       " 'Intern Int-38c Linden Wood Acoustic Guitar Kit with Carry Bag and Picks (Brown)',\n",
       " 'Intern INT-38C-SB-G Cutaway Right Handed Acoustic Guitar Kit, With Bag, Strings, Pick And Strap (Sunburst, 6 Strings)',\n",
       " 'Revel 38 Inches Cutaway Design Acoustic Guitar with Carry bag and Plectrums. Great tone and Beginner/Learners standard size configuration for all age groups (Natural)',\n",
       " 'Juarez JRZ-ST01 6-String Electric Guitar, Right Handed, Full Black, with Case/Bag and Picks',\n",
       " 'Intern INT-38C Acoustic Guitar Kit, With Bag, Strings, Pick And Strap, Natural',\n",
       " 'Medellin 38\" Carbon Fiber Acoustic Guitar with free specailized learning course- MDCF38BK Durable Carbon Fiber Matt Pink finish Body for beginners with handrest, set of Strings, Strap, Bag, 3 Picks, Capo, Guitar Wall Hanging Stand and Free GUITAR LEARNING COURSE (Special Learning Combo with Guitar)',\n",
       " 'Intern INT-38C-RD-G Cutaway Right Handed Acoustic Guitar Kit, With Bag, Strings, Pick And Strap (Red, 6 Strings)',\n",
       " 'JUAREZ Arpéggio 104.14 cm (41 Inch) Semi-Acoustic Guitar Kit, Thin Line Body, Spruce Top, with 4 Band EQ, Natural',\n",
       " 'Medellin 38\" Acoustic Guitar Brown Carbon Fiber Body with FREE Online LEARNING COURSE Durable Matt finish Body for beginners with handrest, set of Strings, Strap, Bag, 3 Picks, Capo, Guitar Wall Hanging Stand and Free GUITAR LEARNING COURSE (Special Learning Combo with Guitar)',\n",
       " 'Juarez Acoustic Guitar, 38 Inch Cutaway with Pick Guard, 38C/RDS with Bag, Strings, Pick and Strap, Red Sunburst',\n",
       " 'Vault EA20 Guitar Kit with Learn to Play Ebook, Bag, Strings, Straps, Picks, String winder & Polishing Cloth - 40 inch Cutaway Acoustic Guitar (Black)',\n",
       " 'Blueberry 38C, 38\" Acoustic Guitar Kit with Bag, Strap, One Pack Strings And Picks (Black)',\n",
       " 'JUAREZ Acoustic Guitar 3xE 1st String & 2 Pick Set JRGSE32',\n",
       " 'Juarez JRZ-ST01, 6 Strings Electric Guitar, Right Handed with Bag/Case, 2 x Picks (3TS Sunburst)',\n",
       " 'Medellin 38\" Acoustic Guitar Carbon Fiber body+(Free Online Learning Course) - Durable Matt finish with handrest, strings, strap, bag, 3 Picks, capo, stand.',\n",
       " 'INTERN 40 inches Acoustic Guitar with Pick-up & truss rod, carry bag, strings pack, strap & picks. Premium Wooden durable built, tonal stability with professional sound amplificaiton. (Black).',\n",
       " 'DEVICE OF URBAN INFOTECH Guitar Tuner 360 degree Digital Tuner Easy to Use Highly Accurate Clip-on Tuner Best for Acoustic and Electric Guitar Bass Violin Ukulele With Capo & 5 Picks(Design may very)',\n",
       " 'Intern INT-38C-NT-G Right Handed Acoustic Guitar Kit, With Bag, Strings, Pick And Strap (Natural, 6-Strings)',\n",
       " 'Intern INT-38C Natural Acoustic Guitar kit with carry bag & picks',\n",
       " 'YAMAHA FS100C Acoustic Guitar, Black',\n",
       " 'JUAREZ JRZ38CTR/BK 38 Inch Acoustic Guitar with Dual Action Truss Rod, Bag, Picks, Allen Key, Extra String Set, Black',\n",
       " 'Fender Classic Design CD-60S Dreadnought Acoustic Guitar (Black)',\n",
       " 'Yamaha F280 Acoustic Guitar, Natural With Bajaao Gig Bag',\n",
       " 'NGEL 4 String Guitar for Kids || Educational Guitar for Beginners Kids || 20 Inch Guitar Instrument - ( Multicolour )',\n",
       " 'Intern INT-38C-VT-G Cutaway Right Handed Acoustic Guitar Kit, With Bag, Strings, Pick And Strap (Violet, 6-Strings)',\n",
       " 'AUREUS 4 String Acoustic Guitar Musical Instrument Educational Small Guitar for Beginners Kids Children',\n",
       " 'Givson Venus Special Cutaway Rosewood 41 Inch Acoustic Guitar Kit with Bag, Rhythm String Set, Strap and 5 Plectrums, (blue)',\n",
       " 'Medellin 38\" Acoustic Guitar Carbon Fiber body+(Free Online Learning Course) - Durable Matt finish with handrest, strings, strap, bag, 3 Picks, capo, stand. (natural)',\n",
       " 'Blueberry B-D38, 38\" Acoustic Guitar Kit inbuilt Truss Rod with Bag, Strap, One Pack Strings And Picks',\n",
       " 'Sponsored\\nMedellin 38\" Acoustic Guitar Carbon Fiber body+(Free Online Learning Course) - Durable Matt finish with handrest, strings, strap, bag, 3 Picks, capo, stand. (natural)',\n",
       " 'Sponsored\\nSamara SA41 CE N2 41-Inch Cutaway Electro-Acoustic Guitar',\n",
       " 'Sponsored\\nAcoustic Guitar, 39 Inch Cutaway, 039C with Bag, Strings, Pick and Strap, Random Colour Left Handed Acoustic Guitar Cutaway 41 inch Full-size Beginner Guitar Package with Die Cast Keys, Set of Strings, Strap, Picks and Bag (Wine Red, Acoustic) with Gig Bag, Tuner, Picks and Strap (Natural Bundle),',\n",
       " 'Sponsored\\nHOMME STORE 4 String Guitar Kids Brown Plastic 4 String Acoustic Guitar for Kids Musical Instrument Learning Educational Small Toy for Boys & Girls (Wooden Guitar) (1)']"
      ]
     },
     "execution_count": 18,
     "metadata": {},
     "output_type": "execute_result"
    }
   ],
   "source": [
    "product_name"
   ]
  },
  {
   "cell_type": "code",
   "execution_count": 19,
   "id": "df877b9c",
   "metadata": {},
   "outputs": [],
   "source": [
    "#first 3 pages of pages of the product\n",
    "start=0\n",
    "end=3\n",
    "for page in range(start,end):\n",
    "    price=driver.find_elements(By.XPATH,\"//span[@class='a-price']\")\n",
    "    \n",
    "product_price=[]\n",
    "for i in price:\n",
    "    product_price.append(i.text)\n",
    "\n",
    "nxt_btn=driver.find_elements(By.XPATH,\"//a[@class='s-pagination-item s-pagination-next s-pagination-button s-pagination-separator']\")\n",
    "\n",
    "try:\n",
    "    driver.get(nxt_btn[1].get_attribute('href'))\n",
    "except:\n",
    "    driver.get(nxt_btn[0].get_attribute('href'))"
   ]
  },
  {
   "cell_type": "code",
   "execution_count": 20,
   "id": "4144af2d",
   "metadata": {},
   "outputs": [
    {
     "data": {
      "text/plain": [
       "62"
      ]
     },
     "execution_count": 20,
     "metadata": {},
     "output_type": "execute_result"
    }
   ],
   "source": [
    "len(product_price)"
   ]
  },
  {
   "cell_type": "code",
   "execution_count": 21,
   "id": "b42c2339",
   "metadata": {
    "scrolled": true
   },
   "outputs": [
    {
     "data": {
      "text/plain": [
       "['₹1,649',\n",
       " '₹1,889',\n",
       " '₹4,999',\n",
       " '₹999',\n",
       " '₹2,998',\n",
       " '₹2,695',\n",
       " '₹4,490',\n",
       " '₹6,499',\n",
       " '₹8,399',\n",
       " '₹2,099',\n",
       " '₹4,280',\n",
       " '₹2,639',\n",
       " '₹2,399',\n",
       " '₹3,999',\n",
       " '₹9,999',\n",
       " '₹2,971',\n",
       " '₹2,849',\n",
       " '₹3,890',\n",
       " '₹6,899',\n",
       " '₹5,399',\n",
       " '₹3,999',\n",
       " '₹2,299',\n",
       " '₹1,549',\n",
       " '₹7,400',\n",
       " '₹4,299',\n",
       " '₹4,295',\n",
       " '₹2,639',\n",
       " '₹2,353',\n",
       " '₹4,199',\n",
       " '₹2,250',\n",
       " '₹6,999',\n",
       " '₹975',\n",
       " '₹749',\n",
       " '₹3,999',\n",
       " '₹6,129',\n",
       " '₹14,174',\n",
       " '₹668',\n",
       " '₹6,189',\n",
       " '₹4,499',\n",
       " '₹6,899',\n",
       " '₹2,399',\n",
       " '₹2,639',\n",
       " '₹249',\n",
       " '₹4,280',\n",
       " '₹999',\n",
       " '₹2,589',\n",
       " '₹2,249',\n",
       " '₹6,999',\n",
       " '₹12,790',\n",
       " '₹4,295',\n",
       " '₹2,299',\n",
       " '₹4,399',\n",
       " '₹4,899',\n",
       " '₹6,999',\n",
       " '₹3,999',\n",
       " '₹4,199',\n",
       " '₹12,800',\n",
       " '₹6,899',\n",
       " '₹999',\n",
       " '₹11,248',\n",
       " '₹2,655',\n",
       " '₹6,999']"
      ]
     },
     "execution_count": 21,
     "metadata": {},
     "output_type": "execute_result"
    }
   ],
   "source": [
    "product_price"
   ]
  },
  {
   "cell_type": "code",
   "execution_count": 22,
   "id": "a1ee2906",
   "metadata": {},
   "outputs": [],
   "source": [
    "# first 3 pages of  expected delivery of the products\n",
    "start=0\n",
    "end=3\n",
    "for page in range(start,end):\n",
    "    expected_delv=driver.find_elements(By.XPATH,\"//span[@class='a-color-base a-text-bold']\")\n",
    "    \n",
    "product_delv=[]\n",
    "for i in expected_delv:\n",
    "    product_delv.append(i.text)\n",
    "\n",
    "nxt_btn = driver.find_elements(By.XPATH,\"//a[@class='s-pagination-item s-pagination-next s-pagination-button s-pagination-separator']\")\n",
    "\n",
    "try:\n",
    "    driver.get(nxt_btn[1].get_attribute('href'))\n",
    "except:\n",
    "    driver.get(nxt_btn[0].get_attribute('href'))"
   ]
  },
  {
   "cell_type": "code",
   "execution_count": 23,
   "id": "0e00b254",
   "metadata": {},
   "outputs": [
    {
     "data": {
      "text/plain": [
       "63"
      ]
     },
     "execution_count": 23,
     "metadata": {},
     "output_type": "execute_result"
    }
   ],
   "source": [
    "len(product_delv)"
   ]
  },
  {
   "cell_type": "code",
   "execution_count": 24,
   "id": "466538a5",
   "metadata": {
    "scrolled": true
   },
   "outputs": [
    {
     "data": {
      "text/plain": [
       "['Wednesday, August 3',\n",
       " 'Thursday, August 4',\n",
       " 'Sunday, July 31',\n",
       " 'Wednesday, August 3',\n",
       " 'Saturday, July 30',\n",
       " 'Tuesday, August 2',\n",
       " 'Wednesday, August 3',\n",
       " 'Tuesday, August 2',\n",
       " 'Wednesday, August 3',\n",
       " 'Sunday, July 31',\n",
       " 'Wednesday, August 3',\n",
       " 'Tuesday, August 2',\n",
       " 'Thursday, August 4',\n",
       " 'Saturday, July 30',\n",
       " 'Wednesday, August 3',\n",
       " 'Sunday, July 31',\n",
       " 'Wednesday, August 3',\n",
       " 'Sunday, July 31',\n",
       " 'Wednesday, August 3',\n",
       " 'Thursday, August 4',\n",
       " 'Wednesday, August 3',\n",
       " 'Tuesday, August 2',\n",
       " 'Wednesday, August 3',\n",
       " 'Tuesday, August 2',\n",
       " 'Wednesday, August 3',\n",
       " 'Tuesday, August 2',\n",
       " 'Wednesday, August 3',\n",
       " 'Sunday, July 31',\n",
       " 'Tuesday, August 2',\n",
       " 'Wednesday, August 3',\n",
       " 'Wednesday, August 3',\n",
       " 'Tuesday, August 2',\n",
       " 'Sunday, July 31',\n",
       " 'Thursday, August 4',\n",
       " 'Saturday, August 6',\n",
       " 'Sunday, July 31',\n",
       " 'Wednesday, August 3',\n",
       " 'Sunday, July 31',\n",
       " 'Saturday, July 30',\n",
       " 'Tuesday, August 2',\n",
       " 'Tuesday, August 2',\n",
       " 'Sunday, July 31',\n",
       " 'Saturday, August 6',\n",
       " 'Sunday, July 31',\n",
       " 'Sunday, July 31',\n",
       " 'Sunday, July 31',\n",
       " 'Thursday, August 4',\n",
       " 'Saturday, August 6',\n",
       " 'Thursday, August 4',\n",
       " 'Thursday, August 4',\n",
       " 'Sunday, July 31',\n",
       " 'Tuesday, August 2',\n",
       " 'Tuesday, August 2',\n",
       " 'Sunday, July 31',\n",
       " 'Tuesday, August 2',\n",
       " 'Sunday, July 31',\n",
       " 'Wednesday, August 3',\n",
       " 'Thursday, August 4',\n",
       " 'Saturday, August 6',\n",
       " 'Wednesday, August 3',\n",
       " 'Thursday, August 4',\n",
       " 'Wednesday, August 3',\n",
       " 'Wednesday, August 3']"
      ]
     },
     "execution_count": 24,
     "metadata": {},
     "output_type": "execute_result"
    }
   ],
   "source": [
    "product_delv"
   ]
  },
  {
   "cell_type": "code",
   "execution_count": 25,
   "id": "dd8348ac",
   "metadata": {},
   "outputs": [],
   "source": [
    "# both details are not given in the web page for products so, replace it with \"-\"\n",
    "\n",
    "return_exchange = \"-\"\n",
    "availability = \"-\"\n"
   ]
  },
  {
   "cell_type": "code",
   "execution_count": 26,
   "id": "48ea924b",
   "metadata": {},
   "outputs": [
    {
     "data": {
      "text/plain": [
       "(184, 30, 64, 62, 63)"
      ]
     },
     "execution_count": 26,
     "metadata": {},
     "output_type": "execute_result"
    }
   ],
   "source": [
    "len(product_urls),len(brand_name),len(product_name),len(product_price),len(product_delv)"
   ]
  },
  {
   "cell_type": "markdown",
   "id": "05929c49",
   "metadata": {},
   "source": [
    " + note : don't having same length of those details. so, how can i make dataframe? :("
   ]
  },
  {
   "cell_type": "code",
   "execution_count": 27,
   "id": "7b207c7c",
   "metadata": {},
   "outputs": [],
   "source": [
    "driver.close()"
   ]
  },
  {
   "cell_type": "markdown",
   "id": "5561e4d4",
   "metadata": {},
   "source": [
    "Q3. Write a python program to access the search bar and search button on images.google.com and scrape 10\n",
    "images each for keywords ‘fruits’, ‘cars’ and ‘Machine Learning’, ‘Guitar’, ‘Cakes’."
   ]
  },
  {
   "cell_type": "code",
   "execution_count": 28,
   "id": "1f1acd52",
   "metadata": {},
   "outputs": [],
   "source": [
    "import selenium\n",
    "from selenium import webdriver\n",
    "import pandas as pd\n",
    "from bs4 import BeautifulSoup\n",
    "import requests\n",
    "\n",
    "import warnings\n",
    "warnings.filterwarnings(\"ignore\")"
   ]
  },
  {
   "cell_type": "code",
   "execution_count": 29,
   "id": "5854afde",
   "metadata": {},
   "outputs": [],
   "source": [
    "#let's first convert to web driver\n",
    "driver  =  webdriver.Chrome(r'C:\\Users\\user\\Downloads\\chromedriver_win32 (1)\\chromedriver.exe')"
   ]
  },
  {
   "cell_type": "code",
   "execution_count": 30,
   "id": "d564c593",
   "metadata": {},
   "outputs": [],
   "source": [
    "url='https://images.google.com/'\n",
    "driver.get(url)"
   ]
  },
  {
   "cell_type": "code",
   "execution_count": 31,
   "id": "3f0eb399",
   "metadata": {},
   "outputs": [
    {
     "data": {
      "text/plain": [
       "<Response [200]>"
      ]
     },
     "execution_count": 31,
     "metadata": {},
     "output_type": "execute_result"
    }
   ],
   "source": [
    "url=requests.get('https://images.google.com/')\n",
    "url"
   ]
  },
  {
   "cell_type": "code",
   "execution_count": 32,
   "id": "03a0c3fd",
   "metadata": {},
   "outputs": [
    {
     "data": {
      "text/plain": [
       "<selenium.webdriver.remote.webelement.WebElement (session=\"3adc6aad9dd5dc4df76bb0d4b9077bc4\", element=\"2eb25334-6eff-4ae8-8254-33804c38994b\")>"
      ]
     },
     "execution_count": 32,
     "metadata": {},
     "output_type": "execute_result"
    }
   ],
   "source": [
    "search_bar=driver.find_element(\"xpath\",\"/html/body/div[1]/div[3]/form/div[1]/div[1]/div[1]/div/div[2]/input\")\n",
    "search_bar"
   ]
  },
  {
   "cell_type": "code",
   "execution_count": 33,
   "id": "9afc113f",
   "metadata": {},
   "outputs": [],
   "source": [
    "search_bar.send_keys(\"fruits\")"
   ]
  },
  {
   "cell_type": "code",
   "execution_count": 34,
   "id": "87806148",
   "metadata": {},
   "outputs": [
    {
     "data": {
      "text/plain": [
       "<selenium.webdriver.remote.webelement.WebElement (session=\"3adc6aad9dd5dc4df76bb0d4b9077bc4\", element=\"b87c6aa1-9f76-4d64-b484-e646b9b2914a\")>"
      ]
     },
     "execution_count": 34,
     "metadata": {},
     "output_type": "execute_result"
    }
   ],
   "source": [
    "search_btn = driver.find_element(\"xpath\",\"/html/body/div[1]/div[3]/form/div[1]/div[1]/div[1]/button/div/span\")\n",
    "search_btn"
   ]
  },
  {
   "cell_type": "code",
   "execution_count": 35,
   "id": "75a2c507",
   "metadata": {},
   "outputs": [],
   "source": [
    "search_btn.click()"
   ]
  },
  {
   "cell_type": "code",
   "execution_count": 36,
   "id": "3b9aa32d",
   "metadata": {
    "scrolled": true
   },
   "outputs": [
    {
     "data": {
      "text/plain": [
       "<!DOCTYPE html>\n",
       "<html itemscope=\"\" itemtype=\"http://schema.org/WebPage\" lang=\"en-IN\"><head><meta content=\"Google Images. The most comprehensive image search on the web.\" name=\"description\"/><meta content=\"text/html; charset=utf-8\" http-equiv=\"Content-Type\"/><meta content=\"/images/branding/googleg/1x/googleg_standard_color_128dp.png\" itemprop=\"image\"/><title>Google Images</title><script nonce=\"jF75Mcz87TbQQdXVx1um9A\">(function(){window.google={kEI:'GkriYuanCNzP2roP2IOZgA4',kEXPI:'0,1302536,56873,6058,207,4804,2316,383,246,5,1354,4013,1123753,1197700,701,302561,77528,16115,17444,11240,17572,4859,1361,9290,3024,2821,14764,4998,13228,3847,10622,22741,2855,2226,1593,1279,2742,149,1103,840,6297,4120,2023,1777,520,14670,3227,2845,9,25550,8218,1850,15757,3,346,230,1014,1,5445,803,10668,966,1686,4,1528,2304,7039,22023,3050,2658,7357,13658,4437,16786,5779,2578,4094,17,4035,3,3541,2,11941,27105,2,3105,2,14022,2715,11401,11623,6700,2380,20979,2,2,5,7753,4569,6258,23419,1251,5835,14968,4332,8,6081,1395,445,2,2,1,24626,2006,1658,6497,6582,799,2,1478,1562,11638,2163,17742,1891,7,1922,5703,4076,24,6864,1278,7558,1495,1324,587,3769,1523,6041,859,4832,291,1027,4445,190,605,1376,273,889,2549,3835,552,976,7,123,418,282,4,1,2,2,2,2,3847,1556,71,1350,105,155,7,1,761,1826,1685,1312,1241,1206,447,1036,1654,2,11,193,1722,264,548,427,2,229,550,565,82,1742,341,704,640,244,692,102,11,1458,96,8,245,399,2,446,49,726,77,712,7,1434,2031,5375746,1861,3694,50,8799505,3311,141,795,19735,1,1,346,920,70,20,2,44,23949428,2773820,88207,1180116,1964,2935,159,1358,7815,4406,3405,7822,1377521',kBL:'56bF'};google.sn='imghp';google.kHL='en-IN';})();(function(){\n",
       "var f=this||self;var h,k=[];function l(a){for(var b;a&&(!a.getAttribute||!(b=a.getAttribute(\"eid\")));)a=a.parentNode;return b||h}function m(a){for(var b=null;a&&(!a.getAttribute||!(b=a.getAttribute(\"leid\")));)a=a.parentNode;return b}\n",
       "function n(a,b,c,d,g){var e=\"\";c||-1!==b.search(\"&ei=\")||(e=\"&ei=\"+l(d),-1===b.search(\"&lei=\")&&(d=m(d))&&(e+=\"&lei=\"+d));d=\"\";!c&&f._cshid&&-1===b.search(\"&cshid=\")&&\"slh\"!==a&&(d=\"&cshid=\"+f._cshid);c=c||\"/\"+(g||\"gen_204\")+\"?atyp=i&ct=\"+a+\"&cad=\"+b+e+\"&zx=\"+Date.now()+d;/^http:/i.test(c)&&\"https:\"===window.location.protocol&&(google.ml&&google.ml(Error(\"a\"),!1,{src:c,glmm:1}),c=\"\");return c};h=google.kEI;google.getEI=l;google.getLEI=m;google.ml=function(){return null};google.log=function(a,b,c,d,g){if(c=n(a,b,c,d,g)){a=new Image;var e=k.length;k[e]=a;a.onerror=a.onload=a.onabort=function(){delete k[e]};a.src=c}};google.logUrl=n;}).call(this);(function(){\n",
       "google.y={};google.sy=[];google.x=function(a,b){if(a)var c=a.id;else{do c=Math.random();while(google.y[c])}google.y[c]=[a,b];return!1};google.sx=function(a){google.sy.push(a)};google.lm=[];google.plm=function(a){google.lm.push.apply(google.lm,a)};google.lq=[];google.load=function(a,b,c){google.lq.push([[a],b,c])};google.loadAll=function(a,b){google.lq.push([a,b])};google.bx=!1;google.lx=function(){};}).call(this);google.f={};(function(){\n",
       "document.documentElement.addEventListener(\"submit\",function(b){var a;if(a=b.target){var c=a.getAttribute(\"data-submitfalse\");a=\"1\"===c||\"q\"===c&&!a.elements.q.value?!0:!1}else a=!1;a&&(b.preventDefault(),b.stopPropagation())},!0);document.documentElement.addEventListener(\"click\",function(b){var a;a:{for(a=b.target;a&&a!==document.documentElement;a=a.parentElement)if(\"A\"===a.tagName){a=\"1\"===a.getAttribute(\"data-nohref\");break a}a=!1}a&&b.preventDefault()},!0);}).call(this);</script><style>#gbar,#guser{font-size:13px;padding-top:1px !important;}#gbar{height:22px}#guser{padding-bottom:7px !important;text-align:right}.gbh,.gbd{border-top:1px solid #c9d7f1;font-size:1px}.gbh{height:0;position:absolute;top:24px;width:100%}@media all{.gb1{height:22px;margin-right:.5em;vertical-align:top}#gbar{float:left}}a.gb1,a.gb4{text-decoration:underline !important}a.gb1,a.gb4{color:#00c !important}.gbi .gb4{color:#dd8e27 !important}.gbf .gb4{color:#900 !important}\n",
       "</style><style>body,td,a,p,.h{font-family:arial,sans-serif}body{margin:0;overflow-y:scroll}#gog{padding:3px 8px 0}td{line-height:.8em}.gac_m td{line-height:17px}form{margin-bottom:20px}.h{color:#1558d6}em{font-weight:bold;font-style:normal}.lst{height:25px;width:496px}.gsfi,.lst{font:18px arial,sans-serif}.gsfs{font:17px arial,sans-serif}.ds{display:inline-box;display:inline-block;margin:3px 0 4px;margin-left:4px}input{font-family:inherit}body{background:#fff;color:#000}a{color:#4b11a8;text-decoration:none}a:hover,a:active{text-decoration:underline}.fl a{color:#1558d6}a:visited{color:#4b11a8}.sblc{padding-top:5px}.sblc a{display:block;margin:2px 0;margin-left:13px;font-size:11px}.lsbb{background:#f8f9fa;border:solid 1px;border-color:#dadce0 #70757a #70757a #dadce0;height:30px}.lsbb{display:block}#WqQANb a{display:inline-block;margin:0 12px}.lsb{background:url(/images/nav_logo229.png) 0 -261px repeat-x;border:none;color:#000;cursor:pointer;height:30px;margin:0;outline:0;font:15px arial,sans-serif;vertical-align:top}.lsb:active{background:#dadce0}.lst:focus{outline:none}.prms{color:#c5221f;font-size:13px}.sshppd{font-size:13px;margin:32px 0 26px}.sshpplo span{color:#c5221f}.sshpplt{margin:15px 0 30px}</style><script nonce=\"jF75Mcz87TbQQdXVx1um9A\">(function(){window.google.erd={jsr:1,bv:1625,de:true};\n",
       "var f=this||self;var g,h=null!=(g=f.mei)?g:1,m,n=null!=(m=f.sdo)?m:!0,p=0,q,r=google.erd,u=r.jsr;google.ml=function(a,b,d,k,c){c=void 0===c?2:c;b&&(q=a&&a.message);if(google.dl)return google.dl(a,c,d),null;if(0>u){window.console&&console.error(a,d);if(-2===u)throw a;b=!1}else b=!a||!a.message||\"Error loading script\"===a.message||p>=h&&!k?!1:!0;if(!b)return null;p++;d=d||{};var e=c;c=encodeURIComponent;b=\"/gen_204?atyp=i&ei=\"+c(google.kEI);google.kEXPI&&(b+=\"&jexpid=\"+c(google.kEXPI));b+=\"&srcpg=\"+c(google.sn)+\"&jsr=\"+c(r.jsr)+\"&bver=\"+c(r.bv)+(\"&jsel=\"+e);e=a.lineNumber;void 0!==e&&(b+=\"&line=\"+\n",
       "e);var l=a.fileName;l&&(b+=\"&script=\"+c(l),e&&l===window.location.href&&(e=document.documentElement.outerHTML.split(\"\\n\")[e],b+=\"&cad=\"+c(e?e.substring(0,300):\"No script found.\")));for(var t in d)b+=\"&\",b+=c(t),b+=\"=\",b+=c(d[t]);b=b+\"&emsg=\"+c(a.name+\": \"+a.message);b=b+\"&jsst=\"+c(a.stack||\"N/A\");12288<=b.length&&(b=b.substr(0,12288));a=b;k||google.log(0,\"\",a);return a};window.onerror=function(a,b,d,k,c){q!==a&&(a=c instanceof Error?c:Error(a),void 0===d||\"lineNumber\"in a||(a.lineNumber=d),void 0===b||\"fileName\"in a||(a.fileName=b),google.ml(a,!1,void 0,!1,\"SyntaxError\"===a.name||\"SyntaxError\"===a.message.substring(0,11)||0<a.message.indexOf(\"Script error\")?2:0));q=null;n&&p>=h&&(window.onerror=null)};})();</script></head><body bgcolor=\"#fff\"><script nonce=\"jF75Mcz87TbQQdXVx1um9A\">(function(){var src='/images/nav_logo229.png';var iesg=false;document.body.onload = function(){window.n && window.n();if (document.images){new Image().src=src;}\n",
       "if (!iesg){document.f&&document.f.q.focus();document.gbqf&&document.gbqf.q.focus();}\n",
       "}\n",
       "})();</script><div id=\"mngb\"><div id=\"gbar\"><nobr><a class=\"gb1\" href=\"https://www.google.co.in/webhp?tab=iw\">Search</a> <b class=\"gb1\">Images</b> <a class=\"gb1\" href=\"https://maps.google.co.in/maps?hl=en&amp;tab=il\">Maps</a> <a class=\"gb1\" href=\"https://play.google.com/?hl=en&amp;tab=i8\">Play</a> <a class=\"gb1\" href=\"https://www.youtube.com/?gl=IN&amp;tab=i1\">YouTube</a> <a class=\"gb1\" href=\"https://news.google.com/?tab=in\">News</a> <a class=\"gb1\" href=\"https://mail.google.com/mail/?tab=im\">Gmail</a> <a class=\"gb1\" href=\"https://drive.google.com/?tab=io\">Drive</a> <a class=\"gb1\" href=\"https://www.google.co.in/intl/en/about/products?tab=ih\" style=\"text-decoration:none\"><u>More</u> »</a></nobr></div><div id=\"guser\" width=\"100%\"><nobr><span class=\"gbi\" id=\"gbn\"></span><span class=\"gbf\" id=\"gbf\"></span><span id=\"gbe\"></span><a class=\"gb4\" href=\"http://www.google.co.in/history/optout?hl=en\">Web History</a> | <a class=\"gb4\" href=\"/preferences?hl=en\">Settings</a> | <a class=\"gb4\" href=\"https://accounts.google.com/ServiceLogin?hl=en&amp;passive=true&amp;continue=https://images.google.com/&amp;ec=GAZAAg\" id=\"gb_70\" target=\"_top\">Sign in</a></nobr></div><div class=\"gbh\" style=\"left:0\"></div><div class=\"gbh\" style=\"right:0\"></div></div><center><br clear=\"all\" id=\"lgpd\"/><div id=\"lga\"><div style=\"padding:28px 0 3px\"><div align=\"left\" id=\"hplogo\" style=\"height:110px;width:276px;background:url(/intl/en_ALL/images/branding/googlelogo/1x/googlelogo_white_background_color_272x92dp.png) no-repeat\" title=\"Google Images\"><div nowrap=\"\" style=\"font-size:16px;font-weight:bold;position:relative;top:70px;color:#1a73e8;right:115px;float:right\"><span>images</span></div></div></div><br/></div><form action=\"https://www.google.com/search\" name=\"f\"><table cellpadding=\"0\" cellspacing=\"0\"><tr valign=\"top\"><td width=\"25%\"> </td><td align=\"center\" nowrap=\"\"><input name=\"tbm\" type=\"hidden\" value=\"isch\"/><input name=\"ie\" type=\"hidden\" value=\"ISO-8859-1\"/><input name=\"hl\" type=\"hidden\" value=\"en-IN\"/><input name=\"source\" type=\"hidden\" value=\"hp\"/><input name=\"biw\" type=\"hidden\"/><input name=\"bih\" type=\"hidden\"/><div class=\"ds\" style=\"height:32px;margin:4px 0\"><input autocomplete=\"off\" class=\"lst\" maxlength=\"2048\" name=\"q\" size=\"57\" style=\"margin:0;padding:5px 8px 0 6px;vertical-align:top;color:#000\" title=\"Search Images\" value=\"\"/></div> <span class=\"ds\"><span class=\"lsbb\"><input class=\"lsb\" name=\"btnG\" type=\"submit\" value=\"Search Images\"/></span></span></td><td align=\"left\" class=\"fl sblc\" nowrap=\"\" valign=\"middle\" width=\"25%\"><a href=\"/advanced_image_search?hl=en-IN&amp;authuser=0\">Advanced Image Search</a></td></tr></table><input id=\"gbv\" name=\"gbv\" type=\"hidden\" value=\"1\"/><script nonce=\"jF75Mcz87TbQQdXVx1um9A\">(function(){\n",
       "var a,b=\"1\";if(document&&document.getElementById)if(\"undefined\"!=typeof XMLHttpRequest)b=\"2\";else if(\"undefined\"!=typeof ActiveXObject){var c,d,e=[\"MSXML2.XMLHTTP.6.0\",\"MSXML2.XMLHTTP.3.0\",\"MSXML2.XMLHTTP\",\"Microsoft.XMLHTTP\"];for(c=0;d=e[c++];)try{new ActiveXObject(d),b=\"2\"}catch(h){}}a=b;if(\"2\"==a&&-1==location.search.indexOf(\"&gbv=2\")){var f=google.gbvu,g=document.getElementById(\"gbv\");g&&(g.value=a);f&&window.setTimeout(function(){location.href=f},0)};}).call(this);</script></form><div id=\"gac_scont\"></div><div style=\"font-size:83%;min-height:3.5em\"><br/><div id=\"prm\"><style>.szppmdbYutt__middle-slot-promo{font-size:small;margin-bottom:32px}.szppmdbYutt__middle-slot-promo a.ZIeIlb{display:inline-block;text-decoration:none}.szppmdbYutt__middle-slot-promo img{border:none;margin-right:5px;vertical-align:middle}</style><div class=\"szppmdbYutt__middle-slot-promo\" data-ved=\"0ahUKEwjmnNW5lpv5AhXcp1YBHdhBBuAQnIcBCAQ\"><span style=\"color:#ff0000\">New! </span><span>Meet the Google </span><a class=\"NKcBbd\" href=\"https://www.google.com/url?q=https://www.youtube.com/watch%3Fv%3D1nNLxt1B4FA%26utm_source%3DHPP%26utm_medium%3Dyoutubevideo%26utm_campaign%3DIN_Pixel_6a_launch&amp;source=hpp&amp;id=19030591&amp;ct=3&amp;usg=AOvVaw3VeQCPe_ODENjFphH_aPj6&amp;sa=X&amp;ved=0ahUKEwjmnNW5lpv5AhXcp1YBHdhBBuAQ8IcBCAU\" rel=\"nofollow\">Pixel 6a</a><span>. Find out more</span></div></div></div><span id=\"footer\"><div style=\"font-size:10pt\"><div id=\"WqQANb\" style=\"margin:19px auto;text-align:center\"><a href=\"/intl/en/ads/\">Advertising Programs</a><a href=\"http://www.google.co.in/services/\">Business Solutions</a><a href=\"/intl/en/about.html\">About Google</a></div></div><p style=\"font-size:8pt;color:#70757a\">© 2022 - <a href=\"/intl/en/policies/privacy/\">Privacy</a> - <a href=\"/intl/en/policies/terms/\">Terms</a></p></span></center><script nonce=\"jF75Mcz87TbQQdXVx1um9A\">(function(){window.google.cdo={height:757,width:1440};(function(){\n",
       "var a=window.innerWidth,b=window.innerHeight;if(!a||!b){var c=window.document,d=\"CSS1Compat\"==c.compatMode?c.documentElement:c.body;a=d.clientWidth;b=d.clientHeight}a&&b&&(a!=google.cdo.width||b!=google.cdo.height)&&google.log(\"\",\"\",\"/client_204?&atyp=i&biw=\"+a+\"&bih=\"+b+\"&ei=\"+google.kEI);}).call(this);})();</script> <script nonce=\"jF75Mcz87TbQQdXVx1um9A\">(function(){google.xjs={ck:'xjs.hp.wmADhPAIliw.L.X.O',cs:'ACT90oF15LPys3hrDCioeqZ-Mw-AGninwQ',excm:[]};})();</script> <script nonce=\"jF75Mcz87TbQQdXVx1um9A\">(function(){var u='/xjs/_/js/k\\x3dxjs.hp.en.bhCS2d4qHX0.O/am\\x3dAMATAIAEAEg/d\\x3d1/ed\\x3d1/rs\\x3dACT90oHZoTFr5d54MbHM7SF2z8zT6FWiXw/m\\x3dsb_he,d';\n",
       "var d=this||self,e=function(a){return a};\n",
       "var g;var l=function(a,b){this.g=b===h?a:\"\"};l.prototype.toString=function(){return this.g+\"\"};var h={};function n(){var a=u;google.lx=function(){p(a);google.lx=function(){}};google.bx||google.lx()}\n",
       "function p(a){google.timers&&google.timers.load&&google.tick&&google.tick(\"load\",\"xjsls\");var b=document;var c=\"SCRIPT\";\"application/xhtml+xml\"===b.contentType&&(c=c.toLowerCase());c=b.createElement(c);if(void 0===g){b=null;var k=d.trustedTypes;if(k&&k.createPolicy){try{b=k.createPolicy(\"goog#html\",{createHTML:e,createScript:e,createScriptURL:e})}catch(q){d.console&&d.console.error(q.message)}g=b}else g=b}a=(b=g)?b.createScriptURL(a):a;a=new l(a,h);c.src=a instanceof l&&a.constructor===l?a.g:\"type_error:TrustedResourceUrl\";var f,m;(f=(a=null==(m=(f=(c.ownerDocument&&c.ownerDocument.defaultView||window).document).querySelector)?void 0:m.call(f,\"script[nonce]\"))?a.nonce||a.getAttribute(\"nonce\")||\"\":\"\")&&c.setAttribute(\"nonce\",f);document.body.appendChild(c);google.psa=!0};google.xjsu=u;setTimeout(function(){n()},0);})();function _DumpException(e){throw e;}\n",
       "function _F_installCss(c){}\n",
       "(function(){google.jl={attn:false,blt:'none',chnk:0,dw:false,dwu:true,emtn:0,end:0,ine:false,injs:'none',injt:0,injth:0,injv2:false,lls:'default',pdt:0,rep:0,snet:true,strt:0,ubm:false,uwp:true};})();(function(){var pmc='{\\x22d\\x22:{},\\x22sb_he\\x22:{\\x22agen\\x22:true,\\x22cgen\\x22:true,\\x22client\\x22:\\x22img\\x22,\\x22dh\\x22:true,\\x22dhqt\\x22:true,\\x22ds\\x22:\\x22i\\x22,\\x22ffql\\x22:\\x22en\\x22,\\x22host\\x22:\\x22google.com\\x22,\\x22isbh\\x22:28,\\x22jsonp\\x22:true,\\x22msgs\\x22:{\\x22cibl\\x22:\\x22Clear Search\\x22,\\x22dym\\x22:\\x22Did you mean:\\x22,\\x22lcky\\x22:\\x22I\\\\u0026#39;m Feeling Lucky\\x22,\\x22lml\\x22:\\x22Learn more\\x22,\\x22oskt\\x22:\\x22Input tools\\x22,\\x22psrc\\x22:\\x22This search was removed from your \\\\u003Ca href\\x3d\\\\\\x22/history\\\\\\x22\\\\u003EWeb History\\\\u003C/a\\\\u003E\\x22,\\x22psrl\\x22:\\x22Remove\\x22,\\x22sbit\\x22:\\x22Search by image\\x22,\\x22srch\\x22:\\x22Google Search\\x22},\\x22ovr\\x22:{},\\x22pq\\x22:\\x22\\x22,\\x22sbas\\x22:\\x220 3px 8px 0 rgba(0,0,0,0.2),0 0 0 1px rgba(0,0,0,0.08)\\x22,\\x22sbpl\\x22:16,\\x22sbpr\\x22:16,\\x22scd\\x22:10,\\x22stok\\x22:\\x22JAjfDjWV3Fb_5pR_cKWzi1idusk\\x22,\\x22uhde\\x22:false}}';google.pmc=JSON.parse(pmc);})();</script> </body></html>"
      ]
     },
     "execution_count": 36,
     "metadata": {},
     "output_type": "execute_result"
    }
   ],
   "source": [
    "soup = BeautifulSoup(url.content)\n",
    "soup"
   ]
  },
  {
   "cell_type": "code",
   "execution_count": 37,
   "id": "971f4e6d",
   "metadata": {},
   "outputs": [
    {
     "data": {
      "text/plain": [
       "48"
      ]
     },
     "execution_count": 37,
     "metadata": {},
     "output_type": "execute_result"
    }
   ],
   "source": [
    "fruits_img=driver.find_elements(By.XPATH,'//img[@class=\"rg_i Q4LuWd\"]')\n",
    "len(fruits_img)"
   ]
  },
  {
   "cell_type": "code",
   "execution_count": 38,
   "id": "c7503ad1",
   "metadata": {
    "scrolled": true
   },
   "outputs": [
    {
     "data": {
      "text/plain": [
       "[<selenium.webdriver.remote.webelement.WebElement (session=\"3adc6aad9dd5dc4df76bb0d4b9077bc4\", element=\"e2510e10-25d4-4e3a-8b16-af1a41763855\")>,\n",
       " <selenium.webdriver.remote.webelement.WebElement (session=\"3adc6aad9dd5dc4df76bb0d4b9077bc4\", element=\"5a287511-e02d-4985-bd1b-44f3876f258f\")>,\n",
       " <selenium.webdriver.remote.webelement.WebElement (session=\"3adc6aad9dd5dc4df76bb0d4b9077bc4\", element=\"c02e1bf7-9678-4810-bae5-84521860b361\")>,\n",
       " <selenium.webdriver.remote.webelement.WebElement (session=\"3adc6aad9dd5dc4df76bb0d4b9077bc4\", element=\"3686d479-79fa-4f85-a4ca-808e7cf2f85b\")>,\n",
       " <selenium.webdriver.remote.webelement.WebElement (session=\"3adc6aad9dd5dc4df76bb0d4b9077bc4\", element=\"9b97ca7a-d51f-4c0b-a2df-cad8afe94763\")>,\n",
       " <selenium.webdriver.remote.webelement.WebElement (session=\"3adc6aad9dd5dc4df76bb0d4b9077bc4\", element=\"3e36ae70-0e8a-4ff3-b93b-d3e852de1412\")>,\n",
       " <selenium.webdriver.remote.webelement.WebElement (session=\"3adc6aad9dd5dc4df76bb0d4b9077bc4\", element=\"c64f3ba5-7bcb-4784-a4a9-a4bf6a63800b\")>,\n",
       " <selenium.webdriver.remote.webelement.WebElement (session=\"3adc6aad9dd5dc4df76bb0d4b9077bc4\", element=\"f0852864-6058-49b5-b8f5-b37a3992d5a3\")>,\n",
       " <selenium.webdriver.remote.webelement.WebElement (session=\"3adc6aad9dd5dc4df76bb0d4b9077bc4\", element=\"890dd689-4ea9-4fc7-8e66-9f8ed465087b\")>,\n",
       " <selenium.webdriver.remote.webelement.WebElement (session=\"3adc6aad9dd5dc4df76bb0d4b9077bc4\", element=\"1ce9f89e-e7bc-44e1-9342-491cba9962f5\")>,\n",
       " <selenium.webdriver.remote.webelement.WebElement (session=\"3adc6aad9dd5dc4df76bb0d4b9077bc4\", element=\"66e2c632-9ee6-4e06-843b-bfcf8cba4068\")>,\n",
       " <selenium.webdriver.remote.webelement.WebElement (session=\"3adc6aad9dd5dc4df76bb0d4b9077bc4\", element=\"08434d73-ed79-4330-8bc0-e5491ab4303e\")>,\n",
       " <selenium.webdriver.remote.webelement.WebElement (session=\"3adc6aad9dd5dc4df76bb0d4b9077bc4\", element=\"ee497073-4fde-440f-b830-026037594209\")>,\n",
       " <selenium.webdriver.remote.webelement.WebElement (session=\"3adc6aad9dd5dc4df76bb0d4b9077bc4\", element=\"7a57b6db-1ec5-412c-8027-1b70ffd8665b\")>,\n",
       " <selenium.webdriver.remote.webelement.WebElement (session=\"3adc6aad9dd5dc4df76bb0d4b9077bc4\", element=\"6bac9a83-7c2f-458e-a1d9-78cae66dd7e0\")>,\n",
       " <selenium.webdriver.remote.webelement.WebElement (session=\"3adc6aad9dd5dc4df76bb0d4b9077bc4\", element=\"6182267f-d1a8-4540-bb5c-8a839d57dacf\")>,\n",
       " <selenium.webdriver.remote.webelement.WebElement (session=\"3adc6aad9dd5dc4df76bb0d4b9077bc4\", element=\"a0b54dae-981b-4d02-af7f-11d61133fd77\")>,\n",
       " <selenium.webdriver.remote.webelement.WebElement (session=\"3adc6aad9dd5dc4df76bb0d4b9077bc4\", element=\"d9d0327b-526d-46d5-bf3e-de6c50dce647\")>,\n",
       " <selenium.webdriver.remote.webelement.WebElement (session=\"3adc6aad9dd5dc4df76bb0d4b9077bc4\", element=\"2c490898-e1aa-4454-8b45-df8dd5477041\")>,\n",
       " <selenium.webdriver.remote.webelement.WebElement (session=\"3adc6aad9dd5dc4df76bb0d4b9077bc4\", element=\"46549555-7f06-4f5a-b6ca-71832cb0dfdc\")>,\n",
       " <selenium.webdriver.remote.webelement.WebElement (session=\"3adc6aad9dd5dc4df76bb0d4b9077bc4\", element=\"5f03b902-2f94-4c62-8f4a-448877c081f2\")>,\n",
       " <selenium.webdriver.remote.webelement.WebElement (session=\"3adc6aad9dd5dc4df76bb0d4b9077bc4\", element=\"d78f130b-1053-4c27-beeb-621e1d379d98\")>,\n",
       " <selenium.webdriver.remote.webelement.WebElement (session=\"3adc6aad9dd5dc4df76bb0d4b9077bc4\", element=\"517dc86c-aa02-4843-af64-65c7636646e2\")>,\n",
       " <selenium.webdriver.remote.webelement.WebElement (session=\"3adc6aad9dd5dc4df76bb0d4b9077bc4\", element=\"5fea289b-17f7-4e94-97be-58733c106e7b\")>,\n",
       " <selenium.webdriver.remote.webelement.WebElement (session=\"3adc6aad9dd5dc4df76bb0d4b9077bc4\", element=\"823f8d80-5329-46fd-a29a-9986d90a09f2\")>,\n",
       " <selenium.webdriver.remote.webelement.WebElement (session=\"3adc6aad9dd5dc4df76bb0d4b9077bc4\", element=\"877da397-4e46-46a4-8a65-eaecc659a79a\")>,\n",
       " <selenium.webdriver.remote.webelement.WebElement (session=\"3adc6aad9dd5dc4df76bb0d4b9077bc4\", element=\"8c236462-2e25-4686-af98-a718866eeb0b\")>,\n",
       " <selenium.webdriver.remote.webelement.WebElement (session=\"3adc6aad9dd5dc4df76bb0d4b9077bc4\", element=\"b503eb1b-984d-4614-bc50-b0ebe9082052\")>,\n",
       " <selenium.webdriver.remote.webelement.WebElement (session=\"3adc6aad9dd5dc4df76bb0d4b9077bc4\", element=\"9f0bfa47-6982-4b7b-ad24-6561f3b88efc\")>,\n",
       " <selenium.webdriver.remote.webelement.WebElement (session=\"3adc6aad9dd5dc4df76bb0d4b9077bc4\", element=\"8d2fa955-cc2e-4f7b-aa64-e0865164ea04\")>,\n",
       " <selenium.webdriver.remote.webelement.WebElement (session=\"3adc6aad9dd5dc4df76bb0d4b9077bc4\", element=\"5cf4a7e9-8e67-46b4-af02-fa4bee427e1b\")>,\n",
       " <selenium.webdriver.remote.webelement.WebElement (session=\"3adc6aad9dd5dc4df76bb0d4b9077bc4\", element=\"145bae0e-6d31-44eb-ab5e-64f5667e7465\")>,\n",
       " <selenium.webdriver.remote.webelement.WebElement (session=\"3adc6aad9dd5dc4df76bb0d4b9077bc4\", element=\"9c0cf266-dcf5-491b-91d1-bcb1e5397f09\")>,\n",
       " <selenium.webdriver.remote.webelement.WebElement (session=\"3adc6aad9dd5dc4df76bb0d4b9077bc4\", element=\"daeaf06f-06b4-4182-8aee-dfe770673d6f\")>,\n",
       " <selenium.webdriver.remote.webelement.WebElement (session=\"3adc6aad9dd5dc4df76bb0d4b9077bc4\", element=\"89457050-704b-49fa-87fc-dcaea7f1df8c\")>,\n",
       " <selenium.webdriver.remote.webelement.WebElement (session=\"3adc6aad9dd5dc4df76bb0d4b9077bc4\", element=\"b4a47377-ea32-4a50-b32f-c7c3fa25ac36\")>,\n",
       " <selenium.webdriver.remote.webelement.WebElement (session=\"3adc6aad9dd5dc4df76bb0d4b9077bc4\", element=\"d7fdbf97-7670-4768-a423-3207cc159a56\")>,\n",
       " <selenium.webdriver.remote.webelement.WebElement (session=\"3adc6aad9dd5dc4df76bb0d4b9077bc4\", element=\"4309082c-c1bc-47f1-9662-3083bc706b37\")>,\n",
       " <selenium.webdriver.remote.webelement.WebElement (session=\"3adc6aad9dd5dc4df76bb0d4b9077bc4\", element=\"3d7fea05-126a-4217-a989-48243c1886ce\")>,\n",
       " <selenium.webdriver.remote.webelement.WebElement (session=\"3adc6aad9dd5dc4df76bb0d4b9077bc4\", element=\"8a0d3625-eab0-461a-862d-70a4be5bdd28\")>,\n",
       " <selenium.webdriver.remote.webelement.WebElement (session=\"3adc6aad9dd5dc4df76bb0d4b9077bc4\", element=\"add0c247-21b2-47d6-8475-71ab6594fd60\")>,\n",
       " <selenium.webdriver.remote.webelement.WebElement (session=\"3adc6aad9dd5dc4df76bb0d4b9077bc4\", element=\"9ec25ada-f8fd-46b0-ab9f-c528ce70f029\")>,\n",
       " <selenium.webdriver.remote.webelement.WebElement (session=\"3adc6aad9dd5dc4df76bb0d4b9077bc4\", element=\"2300189a-5ecd-46d8-ac66-9e0ee14efe94\")>,\n",
       " <selenium.webdriver.remote.webelement.WebElement (session=\"3adc6aad9dd5dc4df76bb0d4b9077bc4\", element=\"2dc49d88-b68f-45c4-8b26-62f3a8e6cb8a\")>,\n",
       " <selenium.webdriver.remote.webelement.WebElement (session=\"3adc6aad9dd5dc4df76bb0d4b9077bc4\", element=\"7c7d2959-bcce-4975-a2fc-4d28758d3610\")>,\n",
       " <selenium.webdriver.remote.webelement.WebElement (session=\"3adc6aad9dd5dc4df76bb0d4b9077bc4\", element=\"b4292ac1-0ae0-44c3-abf7-691a226f8c40\")>,\n",
       " <selenium.webdriver.remote.webelement.WebElement (session=\"3adc6aad9dd5dc4df76bb0d4b9077bc4\", element=\"583041e8-cc72-428c-9965-c5fff7f5b536\")>,\n",
       " <selenium.webdriver.remote.webelement.WebElement (session=\"3adc6aad9dd5dc4df76bb0d4b9077bc4\", element=\"cfc1cdc7-fc3d-4062-9a23-bfa408030c40\")>]"
      ]
     },
     "execution_count": 38,
     "metadata": {},
     "output_type": "execute_result"
    }
   ],
   "source": [
    "fruits_img"
   ]
  },
  {
   "cell_type": "code",
   "execution_count": 39,
   "id": "aeddd689",
   "metadata": {},
   "outputs": [],
   "source": [
    "for image in fruits_img:\n",
    "    source=image.get_attribute('src')"
   ]
  },
  {
   "cell_type": "code",
   "execution_count": 40,
   "id": "8fd8fc45",
   "metadata": {
    "scrolled": true
   },
   "outputs": [
    {
     "name": "stdout",
     "output_type": "stream",
     "text": [
      "Downloading 0 of  (1) images\n"
     ]
    },
    {
     "ename": "MissingSchema",
     "evalue": "Invalid URL '<selenium.webdriver.remote.webelement.WebElement (session=\"3adc6aad9dd5dc4df76bb0d4b9077bc4\", element=\"e2510e10-25d4-4e3a-8b16-af1a41763855\")>': No scheme supplied. Perhaps you meant http://<selenium.webdriver.remote.webelement.WebElement (session=\"3adc6aad9dd5dc4df76bb0d4b9077bc4\", element=\"e2510e10-25d4-4e3a-8b16-af1a41763855\")>?",
     "output_type": "error",
     "traceback": [
      "\u001b[1;31m---------------------------------------------------------------------------\u001b[0m",
      "\u001b[1;31mMissingSchema\u001b[0m                             Traceback (most recent call last)",
      "Input \u001b[1;32mIn [40]\u001b[0m, in \u001b[0;36m<cell line: 1>\u001b[1;34m()\u001b[0m\n\u001b[0;32m      3\u001b[0m     \u001b[38;5;28;01mbreak\u001b[39;00m\n\u001b[0;32m      4\u001b[0m \u001b[38;5;28mprint\u001b[39m(\u001b[38;5;124m\"\u001b[39m\u001b[38;5;124mDownloading \u001b[39m\u001b[38;5;132;01m{0}\u001b[39;00m\u001b[38;5;124m of  (1) images\u001b[39m\u001b[38;5;124m\"\u001b[39m \u001b[38;5;241m.\u001b[39mformat(i, \u001b[38;5;241m10\u001b[39m))   \n\u001b[1;32m----> 5\u001b[0m response \u001b[38;5;241m=\u001b[39m\u001b[43mrequests\u001b[49m\u001b[38;5;241;43m.\u001b[39;49m\u001b[43mget\u001b[49m\u001b[43m(\u001b[49m\u001b[43mfruits_img\u001b[49m\u001b[43m[\u001b[49m\u001b[43mi\u001b[49m\u001b[43m]\u001b[49m\u001b[43m)\u001b[49m\n\u001b[0;32m      6\u001b[0m file  \u001b[38;5;241m=\u001b[39m  \u001b[38;5;28mopen\u001b[39m(\u001b[38;5;124mr\u001b[39m\u001b[38;5;124m\"\u001b[39m\u001b[38;5;124mC:/Users/user/Downloads/chromedriver_win32 (1)\u001b[39m\u001b[38;5;124m\"\u001b[39m \u001b[38;5;241m+\u001b[39m\u001b[38;5;28mstr\u001b[39m(i)\u001b[38;5;241m+\u001b[39m\u001b[38;5;124m\"\u001b[39m\u001b[38;5;124m.jpg\u001b[39m\u001b[38;5;124m\"\u001b[39m,\u001b[38;5;124m\"\u001b[39m\u001b[38;5;124mwb\u001b[39m\u001b[38;5;124m\"\u001b[39m)\n\u001b[0;32m      7\u001b[0m file,write(response\u001b[38;5;241m.\u001b[39mcontent)\n",
      "File \u001b[1;32m~\\anaconda3\\lib\\site-packages\\requests\\api.py:75\u001b[0m, in \u001b[0;36mget\u001b[1;34m(url, params, **kwargs)\u001b[0m\n\u001b[0;32m     64\u001b[0m \u001b[38;5;28;01mdef\u001b[39;00m \u001b[38;5;21mget\u001b[39m(url, params\u001b[38;5;241m=\u001b[39m\u001b[38;5;28;01mNone\u001b[39;00m, \u001b[38;5;241m*\u001b[39m\u001b[38;5;241m*\u001b[39mkwargs):\n\u001b[0;32m     65\u001b[0m     \u001b[38;5;124mr\u001b[39m\u001b[38;5;124;03m\"\"\"Sends a GET request.\u001b[39;00m\n\u001b[0;32m     66\u001b[0m \n\u001b[0;32m     67\u001b[0m \u001b[38;5;124;03m    :param url: URL for the new :class:`Request` object.\u001b[39;00m\n\u001b[1;32m   (...)\u001b[0m\n\u001b[0;32m     72\u001b[0m \u001b[38;5;124;03m    :rtype: requests.Response\u001b[39;00m\n\u001b[0;32m     73\u001b[0m \u001b[38;5;124;03m    \"\"\"\u001b[39;00m\n\u001b[1;32m---> 75\u001b[0m     \u001b[38;5;28;01mreturn\u001b[39;00m request(\u001b[38;5;124m'\u001b[39m\u001b[38;5;124mget\u001b[39m\u001b[38;5;124m'\u001b[39m, url, params\u001b[38;5;241m=\u001b[39mparams, \u001b[38;5;241m*\u001b[39m\u001b[38;5;241m*\u001b[39mkwargs)\n",
      "File \u001b[1;32m~\\anaconda3\\lib\\site-packages\\requests\\api.py:61\u001b[0m, in \u001b[0;36mrequest\u001b[1;34m(method, url, **kwargs)\u001b[0m\n\u001b[0;32m     57\u001b[0m \u001b[38;5;66;03m# By using the 'with' statement we are sure the session is closed, thus we\u001b[39;00m\n\u001b[0;32m     58\u001b[0m \u001b[38;5;66;03m# avoid leaving sockets open which can trigger a ResourceWarning in some\u001b[39;00m\n\u001b[0;32m     59\u001b[0m \u001b[38;5;66;03m# cases, and look like a memory leak in others.\u001b[39;00m\n\u001b[0;32m     60\u001b[0m \u001b[38;5;28;01mwith\u001b[39;00m sessions\u001b[38;5;241m.\u001b[39mSession() \u001b[38;5;28;01mas\u001b[39;00m session:\n\u001b[1;32m---> 61\u001b[0m     \u001b[38;5;28;01mreturn\u001b[39;00m session\u001b[38;5;241m.\u001b[39mrequest(method\u001b[38;5;241m=\u001b[39mmethod, url\u001b[38;5;241m=\u001b[39murl, \u001b[38;5;241m*\u001b[39m\u001b[38;5;241m*\u001b[39mkwargs)\n",
      "File \u001b[1;32m~\\anaconda3\\lib\\site-packages\\requests\\sessions.py:515\u001b[0m, in \u001b[0;36mSession.request\u001b[1;34m(self, method, url, params, data, headers, cookies, files, auth, timeout, allow_redirects, proxies, hooks, stream, verify, cert, json)\u001b[0m\n\u001b[0;32m    502\u001b[0m \u001b[38;5;66;03m# Create the Request.\u001b[39;00m\n\u001b[0;32m    503\u001b[0m req \u001b[38;5;241m=\u001b[39m Request(\n\u001b[0;32m    504\u001b[0m     method\u001b[38;5;241m=\u001b[39mmethod\u001b[38;5;241m.\u001b[39mupper(),\n\u001b[0;32m    505\u001b[0m     url\u001b[38;5;241m=\u001b[39murl,\n\u001b[1;32m   (...)\u001b[0m\n\u001b[0;32m    513\u001b[0m     hooks\u001b[38;5;241m=\u001b[39mhooks,\n\u001b[0;32m    514\u001b[0m )\n\u001b[1;32m--> 515\u001b[0m prep \u001b[38;5;241m=\u001b[39m \u001b[38;5;28;43mself\u001b[39;49m\u001b[38;5;241;43m.\u001b[39;49m\u001b[43mprepare_request\u001b[49m\u001b[43m(\u001b[49m\u001b[43mreq\u001b[49m\u001b[43m)\u001b[49m\n\u001b[0;32m    517\u001b[0m proxies \u001b[38;5;241m=\u001b[39m proxies \u001b[38;5;129;01mor\u001b[39;00m {}\n\u001b[0;32m    519\u001b[0m settings \u001b[38;5;241m=\u001b[39m \u001b[38;5;28mself\u001b[39m\u001b[38;5;241m.\u001b[39mmerge_environment_settings(\n\u001b[0;32m    520\u001b[0m     prep\u001b[38;5;241m.\u001b[39murl, proxies, stream, verify, cert\n\u001b[0;32m    521\u001b[0m )\n",
      "File \u001b[1;32m~\\anaconda3\\lib\\site-packages\\requests\\sessions.py:443\u001b[0m, in \u001b[0;36mSession.prepare_request\u001b[1;34m(self, request)\u001b[0m\n\u001b[0;32m    440\u001b[0m     auth \u001b[38;5;241m=\u001b[39m get_netrc_auth(request\u001b[38;5;241m.\u001b[39murl)\n\u001b[0;32m    442\u001b[0m p \u001b[38;5;241m=\u001b[39m PreparedRequest()\n\u001b[1;32m--> 443\u001b[0m \u001b[43mp\u001b[49m\u001b[38;5;241;43m.\u001b[39;49m\u001b[43mprepare\u001b[49m\u001b[43m(\u001b[49m\n\u001b[0;32m    444\u001b[0m \u001b[43m    \u001b[49m\u001b[43mmethod\u001b[49m\u001b[38;5;241;43m=\u001b[39;49m\u001b[43mrequest\u001b[49m\u001b[38;5;241;43m.\u001b[39;49m\u001b[43mmethod\u001b[49m\u001b[38;5;241;43m.\u001b[39;49m\u001b[43mupper\u001b[49m\u001b[43m(\u001b[49m\u001b[43m)\u001b[49m\u001b[43m,\u001b[49m\n\u001b[0;32m    445\u001b[0m \u001b[43m    \u001b[49m\u001b[43murl\u001b[49m\u001b[38;5;241;43m=\u001b[39;49m\u001b[43mrequest\u001b[49m\u001b[38;5;241;43m.\u001b[39;49m\u001b[43murl\u001b[49m\u001b[43m,\u001b[49m\n\u001b[0;32m    446\u001b[0m \u001b[43m    \u001b[49m\u001b[43mfiles\u001b[49m\u001b[38;5;241;43m=\u001b[39;49m\u001b[43mrequest\u001b[49m\u001b[38;5;241;43m.\u001b[39;49m\u001b[43mfiles\u001b[49m\u001b[43m,\u001b[49m\n\u001b[0;32m    447\u001b[0m \u001b[43m    \u001b[49m\u001b[43mdata\u001b[49m\u001b[38;5;241;43m=\u001b[39;49m\u001b[43mrequest\u001b[49m\u001b[38;5;241;43m.\u001b[39;49m\u001b[43mdata\u001b[49m\u001b[43m,\u001b[49m\n\u001b[0;32m    448\u001b[0m \u001b[43m    \u001b[49m\u001b[43mjson\u001b[49m\u001b[38;5;241;43m=\u001b[39;49m\u001b[43mrequest\u001b[49m\u001b[38;5;241;43m.\u001b[39;49m\u001b[43mjson\u001b[49m\u001b[43m,\u001b[49m\n\u001b[0;32m    449\u001b[0m \u001b[43m    \u001b[49m\u001b[43mheaders\u001b[49m\u001b[38;5;241;43m=\u001b[39;49m\u001b[43mmerge_setting\u001b[49m\u001b[43m(\u001b[49m\u001b[43mrequest\u001b[49m\u001b[38;5;241;43m.\u001b[39;49m\u001b[43mheaders\u001b[49m\u001b[43m,\u001b[49m\u001b[43m \u001b[49m\u001b[38;5;28;43mself\u001b[39;49m\u001b[38;5;241;43m.\u001b[39;49m\u001b[43mheaders\u001b[49m\u001b[43m,\u001b[49m\u001b[43m \u001b[49m\u001b[43mdict_class\u001b[49m\u001b[38;5;241;43m=\u001b[39;49m\u001b[43mCaseInsensitiveDict\u001b[49m\u001b[43m)\u001b[49m\u001b[43m,\u001b[49m\n\u001b[0;32m    450\u001b[0m \u001b[43m    \u001b[49m\u001b[43mparams\u001b[49m\u001b[38;5;241;43m=\u001b[39;49m\u001b[43mmerge_setting\u001b[49m\u001b[43m(\u001b[49m\u001b[43mrequest\u001b[49m\u001b[38;5;241;43m.\u001b[39;49m\u001b[43mparams\u001b[49m\u001b[43m,\u001b[49m\u001b[43m \u001b[49m\u001b[38;5;28;43mself\u001b[39;49m\u001b[38;5;241;43m.\u001b[39;49m\u001b[43mparams\u001b[49m\u001b[43m)\u001b[49m\u001b[43m,\u001b[49m\n\u001b[0;32m    451\u001b[0m \u001b[43m    \u001b[49m\u001b[43mauth\u001b[49m\u001b[38;5;241;43m=\u001b[39;49m\u001b[43mmerge_setting\u001b[49m\u001b[43m(\u001b[49m\u001b[43mauth\u001b[49m\u001b[43m,\u001b[49m\u001b[43m \u001b[49m\u001b[38;5;28;43mself\u001b[39;49m\u001b[38;5;241;43m.\u001b[39;49m\u001b[43mauth\u001b[49m\u001b[43m)\u001b[49m\u001b[43m,\u001b[49m\n\u001b[0;32m    452\u001b[0m \u001b[43m    \u001b[49m\u001b[43mcookies\u001b[49m\u001b[38;5;241;43m=\u001b[39;49m\u001b[43mmerged_cookies\u001b[49m\u001b[43m,\u001b[49m\n\u001b[0;32m    453\u001b[0m \u001b[43m    \u001b[49m\u001b[43mhooks\u001b[49m\u001b[38;5;241;43m=\u001b[39;49m\u001b[43mmerge_hooks\u001b[49m\u001b[43m(\u001b[49m\u001b[43mrequest\u001b[49m\u001b[38;5;241;43m.\u001b[39;49m\u001b[43mhooks\u001b[49m\u001b[43m,\u001b[49m\u001b[43m \u001b[49m\u001b[38;5;28;43mself\u001b[39;49m\u001b[38;5;241;43m.\u001b[39;49m\u001b[43mhooks\u001b[49m\u001b[43m)\u001b[49m\u001b[43m,\u001b[49m\n\u001b[0;32m    454\u001b[0m \u001b[43m\u001b[49m\u001b[43m)\u001b[49m\n\u001b[0;32m    455\u001b[0m \u001b[38;5;28;01mreturn\u001b[39;00m p\n",
      "File \u001b[1;32m~\\anaconda3\\lib\\site-packages\\requests\\models.py:318\u001b[0m, in \u001b[0;36mPreparedRequest.prepare\u001b[1;34m(self, method, url, headers, files, data, params, auth, cookies, hooks, json)\u001b[0m\n\u001b[0;32m    315\u001b[0m \u001b[38;5;124;03m\"\"\"Prepares the entire request with the given parameters.\"\"\"\u001b[39;00m\n\u001b[0;32m    317\u001b[0m \u001b[38;5;28mself\u001b[39m\u001b[38;5;241m.\u001b[39mprepare_method(method)\n\u001b[1;32m--> 318\u001b[0m \u001b[38;5;28;43mself\u001b[39;49m\u001b[38;5;241;43m.\u001b[39;49m\u001b[43mprepare_url\u001b[49m\u001b[43m(\u001b[49m\u001b[43murl\u001b[49m\u001b[43m,\u001b[49m\u001b[43m \u001b[49m\u001b[43mparams\u001b[49m\u001b[43m)\u001b[49m\n\u001b[0;32m    319\u001b[0m \u001b[38;5;28mself\u001b[39m\u001b[38;5;241m.\u001b[39mprepare_headers(headers)\n\u001b[0;32m    320\u001b[0m \u001b[38;5;28mself\u001b[39m\u001b[38;5;241m.\u001b[39mprepare_cookies(cookies)\n",
      "File \u001b[1;32m~\\anaconda3\\lib\\site-packages\\requests\\models.py:392\u001b[0m, in \u001b[0;36mPreparedRequest.prepare_url\u001b[1;34m(self, url, params)\u001b[0m\n\u001b[0;32m    389\u001b[0m     error \u001b[38;5;241m=\u001b[39m (\u001b[38;5;124m\"\u001b[39m\u001b[38;5;124mInvalid URL \u001b[39m\u001b[38;5;132;01m{0!r}\u001b[39;00m\u001b[38;5;124m: No scheme supplied. Perhaps you meant http://\u001b[39m\u001b[38;5;132;01m{0}\u001b[39;00m\u001b[38;5;124m?\u001b[39m\u001b[38;5;124m\"\u001b[39m)\n\u001b[0;32m    390\u001b[0m     error \u001b[38;5;241m=\u001b[39m error\u001b[38;5;241m.\u001b[39mformat(to_native_string(url, \u001b[38;5;124m'\u001b[39m\u001b[38;5;124mutf8\u001b[39m\u001b[38;5;124m'\u001b[39m))\n\u001b[1;32m--> 392\u001b[0m     \u001b[38;5;28;01mraise\u001b[39;00m MissingSchema(error)\n\u001b[0;32m    394\u001b[0m \u001b[38;5;28;01mif\u001b[39;00m \u001b[38;5;129;01mnot\u001b[39;00m host:\n\u001b[0;32m    395\u001b[0m     \u001b[38;5;28;01mraise\u001b[39;00m InvalidURL(\u001b[38;5;124m\"\u001b[39m\u001b[38;5;124mInvalid URL \u001b[39m\u001b[38;5;132;01m%r\u001b[39;00m\u001b[38;5;124m: No host supplied\u001b[39m\u001b[38;5;124m\"\u001b[39m \u001b[38;5;241m%\u001b[39m url)\n",
      "\u001b[1;31mMissingSchema\u001b[0m: Invalid URL '<selenium.webdriver.remote.webelement.WebElement (session=\"3adc6aad9dd5dc4df76bb0d4b9077bc4\", element=\"e2510e10-25d4-4e3a-8b16-af1a41763855\")>': No scheme supplied. Perhaps you meant http://<selenium.webdriver.remote.webelement.WebElement (session=\"3adc6aad9dd5dc4df76bb0d4b9077bc4\", element=\"e2510e10-25d4-4e3a-8b16-af1a41763855\")>?"
     ]
    }
   ],
   "source": [
    "for i in range(len(fruits_img)):\n",
    "    if i > 10:\n",
    "        break\n",
    "    print(\"Downloading {0} of  (1) images\" .format(i, 10))   \n",
    "    response =requests.get(fruits_img[i])\n",
    "    file  =  open(r\"C:/Users/user/Downloads/chromedriver_win32 (1)\" +str(i)+\".jpg\",\"wb\")\n",
    "    file,write(response.content)"
   ]
  },
  {
   "cell_type": "markdown",
   "id": "d2653ad8",
   "metadata": {},
   "source": [
    "in questions doesn't ask to download the image and then  i download the image it shows in the above code."
   ]
  },
  {
   "cell_type": "code",
   "execution_count": 41,
   "id": "e82e6aac",
   "metadata": {},
   "outputs": [
    {
     "data": {
      "text/plain": [
       "<selenium.webdriver.remote.webelement.WebElement (session=\"3adc6aad9dd5dc4df76bb0d4b9077bc4\", element=\"9a2f9192-84d8-4168-af68-303df17685e5\")>"
      ]
     },
     "execution_count": 41,
     "metadata": {},
     "output_type": "execute_result"
    }
   ],
   "source": [
    "search_bar = driver.find_element(\"xpath\",\"/html/body/c-wiz/c-wiz/div/div[3]/div[2]/div/div[1]/form/div[1]/div[2]/div/div[2]/input\")\n",
    "search_bar"
   ]
  },
  {
   "cell_type": "code",
   "execution_count": 42,
   "id": "d76574a3",
   "metadata": {},
   "outputs": [],
   "source": [
    "search_bar.send_keys(\"cars\")"
   ]
  },
  {
   "cell_type": "code",
   "execution_count": 43,
   "id": "4cde60a0",
   "metadata": {},
   "outputs": [
    {
     "data": {
      "text/plain": [
       "<selenium.webdriver.remote.webelement.WebElement (session=\"3adc6aad9dd5dc4df76bb0d4b9077bc4\", element=\"0a1ec462-2f69-4ac1-8206-1b7302ca6193\")>"
      ]
     },
     "execution_count": 43,
     "metadata": {},
     "output_type": "execute_result"
    }
   ],
   "source": [
    "search_btn=driver.find_element(\"xpath\",\"/html/body/c-wiz/c-wiz/div/div[3]/div[2]/div/div[1]/form/div[1]/div[2]/button/div/span\")\n",
    "search_btn"
   ]
  },
  {
   "cell_type": "code",
   "execution_count": 44,
   "id": "7be36e81",
   "metadata": {},
   "outputs": [],
   "source": [
    "search_btn.click()"
   ]
  },
  {
   "cell_type": "code",
   "execution_count": 45,
   "id": "5ee70a41",
   "metadata": {},
   "outputs": [
    {
     "data": {
      "text/plain": [
       "48"
      ]
     },
     "execution_count": 45,
     "metadata": {},
     "output_type": "execute_result"
    }
   ],
   "source": [
    "car_img=driver.find_elements(By.XPATH,'//img[@class=\"rg_i Q4LuWd\"]')\n",
    "\n",
    "len(car_img)"
   ]
  },
  {
   "cell_type": "code",
   "execution_count": 46,
   "id": "34b1422c",
   "metadata": {
    "scrolled": true
   },
   "outputs": [
    {
     "data": {
      "text/plain": [
       "[<selenium.webdriver.remote.webelement.WebElement (session=\"3adc6aad9dd5dc4df76bb0d4b9077bc4\", element=\"a30bf2b2-7629-419e-82e0-53e929441cee\")>,\n",
       " <selenium.webdriver.remote.webelement.WebElement (session=\"3adc6aad9dd5dc4df76bb0d4b9077bc4\", element=\"ba73cc68-9bf9-46b0-a5c9-13b0b771d305\")>,\n",
       " <selenium.webdriver.remote.webelement.WebElement (session=\"3adc6aad9dd5dc4df76bb0d4b9077bc4\", element=\"6fb1d3f9-eda7-48e9-b82a-3699ed06dccb\")>,\n",
       " <selenium.webdriver.remote.webelement.WebElement (session=\"3adc6aad9dd5dc4df76bb0d4b9077bc4\", element=\"ba9cb736-794c-4d8d-8d04-2ef3e693c718\")>,\n",
       " <selenium.webdriver.remote.webelement.WebElement (session=\"3adc6aad9dd5dc4df76bb0d4b9077bc4\", element=\"3f6d94bd-0e14-4640-94e9-1a7fe3995969\")>,\n",
       " <selenium.webdriver.remote.webelement.WebElement (session=\"3adc6aad9dd5dc4df76bb0d4b9077bc4\", element=\"8155d0f8-694c-4694-afc3-da567c769d45\")>,\n",
       " <selenium.webdriver.remote.webelement.WebElement (session=\"3adc6aad9dd5dc4df76bb0d4b9077bc4\", element=\"068339e9-2592-4688-8f1b-0ec51ef8d3ce\")>,\n",
       " <selenium.webdriver.remote.webelement.WebElement (session=\"3adc6aad9dd5dc4df76bb0d4b9077bc4\", element=\"d87d7e67-7af9-404f-9040-3182fecdf078\")>,\n",
       " <selenium.webdriver.remote.webelement.WebElement (session=\"3adc6aad9dd5dc4df76bb0d4b9077bc4\", element=\"1f63edb5-88a4-4bb9-a8bb-10647c103843\")>,\n",
       " <selenium.webdriver.remote.webelement.WebElement (session=\"3adc6aad9dd5dc4df76bb0d4b9077bc4\", element=\"aa66e4a7-ff94-4890-aa91-83bac935e2fa\")>,\n",
       " <selenium.webdriver.remote.webelement.WebElement (session=\"3adc6aad9dd5dc4df76bb0d4b9077bc4\", element=\"56fd5209-b28e-42a0-93c7-1d55bb2e651e\")>,\n",
       " <selenium.webdriver.remote.webelement.WebElement (session=\"3adc6aad9dd5dc4df76bb0d4b9077bc4\", element=\"d5dd8bc6-480d-403a-a4bf-d45fc12c4e9f\")>,\n",
       " <selenium.webdriver.remote.webelement.WebElement (session=\"3adc6aad9dd5dc4df76bb0d4b9077bc4\", element=\"3313eeda-84f9-44be-9bd1-c9aed89aacca\")>,\n",
       " <selenium.webdriver.remote.webelement.WebElement (session=\"3adc6aad9dd5dc4df76bb0d4b9077bc4\", element=\"2af76f6c-94b0-4fa8-aeed-01995cca4965\")>,\n",
       " <selenium.webdriver.remote.webelement.WebElement (session=\"3adc6aad9dd5dc4df76bb0d4b9077bc4\", element=\"067dfd93-f88d-4db3-96e1-ca2188454ba6\")>,\n",
       " <selenium.webdriver.remote.webelement.WebElement (session=\"3adc6aad9dd5dc4df76bb0d4b9077bc4\", element=\"1accb7c4-b511-498f-991f-80d44fee9e93\")>,\n",
       " <selenium.webdriver.remote.webelement.WebElement (session=\"3adc6aad9dd5dc4df76bb0d4b9077bc4\", element=\"f72bf17a-421d-4ea2-9513-335fc2fc6518\")>,\n",
       " <selenium.webdriver.remote.webelement.WebElement (session=\"3adc6aad9dd5dc4df76bb0d4b9077bc4\", element=\"57e862c2-0fd1-47c4-aead-24783aeecc3e\")>,\n",
       " <selenium.webdriver.remote.webelement.WebElement (session=\"3adc6aad9dd5dc4df76bb0d4b9077bc4\", element=\"50133a1d-8e46-46b2-b1f5-96de61ffda8c\")>,\n",
       " <selenium.webdriver.remote.webelement.WebElement (session=\"3adc6aad9dd5dc4df76bb0d4b9077bc4\", element=\"7f5842fb-3bfd-4716-af41-0a1469a86836\")>,\n",
       " <selenium.webdriver.remote.webelement.WebElement (session=\"3adc6aad9dd5dc4df76bb0d4b9077bc4\", element=\"bf7667c4-07f9-40fc-bd6e-5d6c9e419b5a\")>,\n",
       " <selenium.webdriver.remote.webelement.WebElement (session=\"3adc6aad9dd5dc4df76bb0d4b9077bc4\", element=\"3750dde1-cf12-40ac-a34e-76364c503929\")>,\n",
       " <selenium.webdriver.remote.webelement.WebElement (session=\"3adc6aad9dd5dc4df76bb0d4b9077bc4\", element=\"1e141b34-e404-4bb1-8bbe-3ba7fddca4d8\")>,\n",
       " <selenium.webdriver.remote.webelement.WebElement (session=\"3adc6aad9dd5dc4df76bb0d4b9077bc4\", element=\"fccfbf13-9f37-474b-9aef-36c4b57b7072\")>,\n",
       " <selenium.webdriver.remote.webelement.WebElement (session=\"3adc6aad9dd5dc4df76bb0d4b9077bc4\", element=\"a4158ff4-955a-4135-b6f2-9cc440994deb\")>,\n",
       " <selenium.webdriver.remote.webelement.WebElement (session=\"3adc6aad9dd5dc4df76bb0d4b9077bc4\", element=\"ba6a55f5-079d-4c2d-aa4f-b20e784a6435\")>,\n",
       " <selenium.webdriver.remote.webelement.WebElement (session=\"3adc6aad9dd5dc4df76bb0d4b9077bc4\", element=\"7d15ff91-c598-43a7-8154-0f761e4a9261\")>,\n",
       " <selenium.webdriver.remote.webelement.WebElement (session=\"3adc6aad9dd5dc4df76bb0d4b9077bc4\", element=\"9c2d0c11-5c70-4352-9b43-ba36e5b5ee7a\")>,\n",
       " <selenium.webdriver.remote.webelement.WebElement (session=\"3adc6aad9dd5dc4df76bb0d4b9077bc4\", element=\"e4e6c723-39f5-4684-9744-21951e94756e\")>,\n",
       " <selenium.webdriver.remote.webelement.WebElement (session=\"3adc6aad9dd5dc4df76bb0d4b9077bc4\", element=\"b282a4a1-4edb-4dfd-8661-856fe678b62f\")>,\n",
       " <selenium.webdriver.remote.webelement.WebElement (session=\"3adc6aad9dd5dc4df76bb0d4b9077bc4\", element=\"073113cf-9082-4292-a8cc-b143d239bed6\")>,\n",
       " <selenium.webdriver.remote.webelement.WebElement (session=\"3adc6aad9dd5dc4df76bb0d4b9077bc4\", element=\"a203f6f1-97c4-49fd-aa60-d5d8aa68196a\")>,\n",
       " <selenium.webdriver.remote.webelement.WebElement (session=\"3adc6aad9dd5dc4df76bb0d4b9077bc4\", element=\"36767faa-472d-4518-bc0d-57a4049b0c0c\")>,\n",
       " <selenium.webdriver.remote.webelement.WebElement (session=\"3adc6aad9dd5dc4df76bb0d4b9077bc4\", element=\"81b6b8e7-745b-4c6c-ba6e-93a62981c761\")>,\n",
       " <selenium.webdriver.remote.webelement.WebElement (session=\"3adc6aad9dd5dc4df76bb0d4b9077bc4\", element=\"1696a883-6249-4bbf-98cb-ad73346c98f1\")>,\n",
       " <selenium.webdriver.remote.webelement.WebElement (session=\"3adc6aad9dd5dc4df76bb0d4b9077bc4\", element=\"cf1b0d7a-71e0-4345-92af-b639bc2d4fb6\")>,\n",
       " <selenium.webdriver.remote.webelement.WebElement (session=\"3adc6aad9dd5dc4df76bb0d4b9077bc4\", element=\"163a9add-d548-4b14-9539-57f606429331\")>,\n",
       " <selenium.webdriver.remote.webelement.WebElement (session=\"3adc6aad9dd5dc4df76bb0d4b9077bc4\", element=\"4c44dddb-4051-4c6f-b4d8-1374da3693c1\")>,\n",
       " <selenium.webdriver.remote.webelement.WebElement (session=\"3adc6aad9dd5dc4df76bb0d4b9077bc4\", element=\"28ade813-2c3a-4e47-b3c4-fe22c2bd1b86\")>,\n",
       " <selenium.webdriver.remote.webelement.WebElement (session=\"3adc6aad9dd5dc4df76bb0d4b9077bc4\", element=\"e432dd1d-92c7-4d24-b6ef-a7bbc47cd4e1\")>,\n",
       " <selenium.webdriver.remote.webelement.WebElement (session=\"3adc6aad9dd5dc4df76bb0d4b9077bc4\", element=\"070f38f5-d489-4048-864b-26e06f2f5776\")>,\n",
       " <selenium.webdriver.remote.webelement.WebElement (session=\"3adc6aad9dd5dc4df76bb0d4b9077bc4\", element=\"e55e805a-8cf8-486a-b911-dbd3a4e93417\")>,\n",
       " <selenium.webdriver.remote.webelement.WebElement (session=\"3adc6aad9dd5dc4df76bb0d4b9077bc4\", element=\"2fe67edb-9e33-46b9-ad58-c86981995f81\")>,\n",
       " <selenium.webdriver.remote.webelement.WebElement (session=\"3adc6aad9dd5dc4df76bb0d4b9077bc4\", element=\"0eeff6c2-d06c-4180-ab45-14b913a53247\")>,\n",
       " <selenium.webdriver.remote.webelement.WebElement (session=\"3adc6aad9dd5dc4df76bb0d4b9077bc4\", element=\"a539287d-998b-44fc-b9c8-58a74c6cdb8c\")>,\n",
       " <selenium.webdriver.remote.webelement.WebElement (session=\"3adc6aad9dd5dc4df76bb0d4b9077bc4\", element=\"3a2e48b2-87e1-4e38-9a79-ac3e55f7a302\")>,\n",
       " <selenium.webdriver.remote.webelement.WebElement (session=\"3adc6aad9dd5dc4df76bb0d4b9077bc4\", element=\"e2b7d75a-9fe1-413b-babe-36a7b58bc0d2\")>,\n",
       " <selenium.webdriver.remote.webelement.WebElement (session=\"3adc6aad9dd5dc4df76bb0d4b9077bc4\", element=\"3aca2841-8054-45d7-a746-08e4318f00de\")>]"
      ]
     },
     "execution_count": 46,
     "metadata": {},
     "output_type": "execute_result"
    }
   ],
   "source": [
    "car_img"
   ]
  },
  {
   "cell_type": "code",
   "execution_count": 47,
   "id": "64606105",
   "metadata": {},
   "outputs": [
    {
     "data": {
      "text/plain": [
       "<selenium.webdriver.remote.webelement.WebElement (session=\"3adc6aad9dd5dc4df76bb0d4b9077bc4\", element=\"c1f48d8e-82cc-4970-879c-8186deb494f2\")>"
      ]
     },
     "execution_count": 47,
     "metadata": {},
     "output_type": "execute_result"
    }
   ],
   "source": [
    "search_bar=driver.find_element(\"xpath\",\"/html/body/c-wiz/c-wiz/div/div[3]/div[2]/div/div[1]/form/div[1]/div[2]/div/div[2]/input\")\n",
    "search_bar"
   ]
  },
  {
   "cell_type": "code",
   "execution_count": 48,
   "id": "4982e519",
   "metadata": {},
   "outputs": [],
   "source": [
    "search_bar.send_keys(\"machine learning\")"
   ]
  },
  {
   "cell_type": "code",
   "execution_count": 49,
   "id": "d5845d9d",
   "metadata": {},
   "outputs": [
    {
     "data": {
      "text/plain": [
       "<selenium.webdriver.remote.webelement.WebElement (session=\"3adc6aad9dd5dc4df76bb0d4b9077bc4\", element=\"908fc628-3baa-4718-ba5c-04e587a8782f\")>"
      ]
     },
     "execution_count": 49,
     "metadata": {},
     "output_type": "execute_result"
    }
   ],
   "source": [
    "search_btn=driver.find_element(\"xpath\",\"/html/body/c-wiz/c-wiz/div/div[3]/div[2]/div/div[1]/form/div[1]/div[2]/button/div/span\")\n",
    "search_btn"
   ]
  },
  {
   "cell_type": "code",
   "execution_count": 50,
   "id": "d50fbee2",
   "metadata": {},
   "outputs": [
    {
     "data": {
      "text/plain": [
       "48"
      ]
     },
     "execution_count": 50,
     "metadata": {},
     "output_type": "execute_result"
    }
   ],
   "source": [
    "machine_learning_img=driver.find_elements(\"xpath\",'//img[@class=\"rg_i Q4LuWd\"]')\n",
    "len(machine_learning_img)"
   ]
  },
  {
   "cell_type": "code",
   "execution_count": 51,
   "id": "b6f5289c",
   "metadata": {
    "scrolled": true
   },
   "outputs": [
    {
     "data": {
      "text/plain": [
       "[<selenium.webdriver.remote.webelement.WebElement (session=\"3adc6aad9dd5dc4df76bb0d4b9077bc4\", element=\"a30bf2b2-7629-419e-82e0-53e929441cee\")>,\n",
       " <selenium.webdriver.remote.webelement.WebElement (session=\"3adc6aad9dd5dc4df76bb0d4b9077bc4\", element=\"ba73cc68-9bf9-46b0-a5c9-13b0b771d305\")>,\n",
       " <selenium.webdriver.remote.webelement.WebElement (session=\"3adc6aad9dd5dc4df76bb0d4b9077bc4\", element=\"6fb1d3f9-eda7-48e9-b82a-3699ed06dccb\")>,\n",
       " <selenium.webdriver.remote.webelement.WebElement (session=\"3adc6aad9dd5dc4df76bb0d4b9077bc4\", element=\"ba9cb736-794c-4d8d-8d04-2ef3e693c718\")>,\n",
       " <selenium.webdriver.remote.webelement.WebElement (session=\"3adc6aad9dd5dc4df76bb0d4b9077bc4\", element=\"3f6d94bd-0e14-4640-94e9-1a7fe3995969\")>,\n",
       " <selenium.webdriver.remote.webelement.WebElement (session=\"3adc6aad9dd5dc4df76bb0d4b9077bc4\", element=\"8155d0f8-694c-4694-afc3-da567c769d45\")>,\n",
       " <selenium.webdriver.remote.webelement.WebElement (session=\"3adc6aad9dd5dc4df76bb0d4b9077bc4\", element=\"068339e9-2592-4688-8f1b-0ec51ef8d3ce\")>,\n",
       " <selenium.webdriver.remote.webelement.WebElement (session=\"3adc6aad9dd5dc4df76bb0d4b9077bc4\", element=\"d87d7e67-7af9-404f-9040-3182fecdf078\")>,\n",
       " <selenium.webdriver.remote.webelement.WebElement (session=\"3adc6aad9dd5dc4df76bb0d4b9077bc4\", element=\"1f63edb5-88a4-4bb9-a8bb-10647c103843\")>,\n",
       " <selenium.webdriver.remote.webelement.WebElement (session=\"3adc6aad9dd5dc4df76bb0d4b9077bc4\", element=\"aa66e4a7-ff94-4890-aa91-83bac935e2fa\")>,\n",
       " <selenium.webdriver.remote.webelement.WebElement (session=\"3adc6aad9dd5dc4df76bb0d4b9077bc4\", element=\"56fd5209-b28e-42a0-93c7-1d55bb2e651e\")>,\n",
       " <selenium.webdriver.remote.webelement.WebElement (session=\"3adc6aad9dd5dc4df76bb0d4b9077bc4\", element=\"d5dd8bc6-480d-403a-a4bf-d45fc12c4e9f\")>,\n",
       " <selenium.webdriver.remote.webelement.WebElement (session=\"3adc6aad9dd5dc4df76bb0d4b9077bc4\", element=\"3313eeda-84f9-44be-9bd1-c9aed89aacca\")>,\n",
       " <selenium.webdriver.remote.webelement.WebElement (session=\"3adc6aad9dd5dc4df76bb0d4b9077bc4\", element=\"2af76f6c-94b0-4fa8-aeed-01995cca4965\")>,\n",
       " <selenium.webdriver.remote.webelement.WebElement (session=\"3adc6aad9dd5dc4df76bb0d4b9077bc4\", element=\"067dfd93-f88d-4db3-96e1-ca2188454ba6\")>,\n",
       " <selenium.webdriver.remote.webelement.WebElement (session=\"3adc6aad9dd5dc4df76bb0d4b9077bc4\", element=\"1accb7c4-b511-498f-991f-80d44fee9e93\")>,\n",
       " <selenium.webdriver.remote.webelement.WebElement (session=\"3adc6aad9dd5dc4df76bb0d4b9077bc4\", element=\"f72bf17a-421d-4ea2-9513-335fc2fc6518\")>,\n",
       " <selenium.webdriver.remote.webelement.WebElement (session=\"3adc6aad9dd5dc4df76bb0d4b9077bc4\", element=\"57e862c2-0fd1-47c4-aead-24783aeecc3e\")>,\n",
       " <selenium.webdriver.remote.webelement.WebElement (session=\"3adc6aad9dd5dc4df76bb0d4b9077bc4\", element=\"50133a1d-8e46-46b2-b1f5-96de61ffda8c\")>,\n",
       " <selenium.webdriver.remote.webelement.WebElement (session=\"3adc6aad9dd5dc4df76bb0d4b9077bc4\", element=\"7f5842fb-3bfd-4716-af41-0a1469a86836\")>,\n",
       " <selenium.webdriver.remote.webelement.WebElement (session=\"3adc6aad9dd5dc4df76bb0d4b9077bc4\", element=\"bf7667c4-07f9-40fc-bd6e-5d6c9e419b5a\")>,\n",
       " <selenium.webdriver.remote.webelement.WebElement (session=\"3adc6aad9dd5dc4df76bb0d4b9077bc4\", element=\"3750dde1-cf12-40ac-a34e-76364c503929\")>,\n",
       " <selenium.webdriver.remote.webelement.WebElement (session=\"3adc6aad9dd5dc4df76bb0d4b9077bc4\", element=\"1e141b34-e404-4bb1-8bbe-3ba7fddca4d8\")>,\n",
       " <selenium.webdriver.remote.webelement.WebElement (session=\"3adc6aad9dd5dc4df76bb0d4b9077bc4\", element=\"fccfbf13-9f37-474b-9aef-36c4b57b7072\")>,\n",
       " <selenium.webdriver.remote.webelement.WebElement (session=\"3adc6aad9dd5dc4df76bb0d4b9077bc4\", element=\"a4158ff4-955a-4135-b6f2-9cc440994deb\")>,\n",
       " <selenium.webdriver.remote.webelement.WebElement (session=\"3adc6aad9dd5dc4df76bb0d4b9077bc4\", element=\"ba6a55f5-079d-4c2d-aa4f-b20e784a6435\")>,\n",
       " <selenium.webdriver.remote.webelement.WebElement (session=\"3adc6aad9dd5dc4df76bb0d4b9077bc4\", element=\"7d15ff91-c598-43a7-8154-0f761e4a9261\")>,\n",
       " <selenium.webdriver.remote.webelement.WebElement (session=\"3adc6aad9dd5dc4df76bb0d4b9077bc4\", element=\"9c2d0c11-5c70-4352-9b43-ba36e5b5ee7a\")>,\n",
       " <selenium.webdriver.remote.webelement.WebElement (session=\"3adc6aad9dd5dc4df76bb0d4b9077bc4\", element=\"e4e6c723-39f5-4684-9744-21951e94756e\")>,\n",
       " <selenium.webdriver.remote.webelement.WebElement (session=\"3adc6aad9dd5dc4df76bb0d4b9077bc4\", element=\"b282a4a1-4edb-4dfd-8661-856fe678b62f\")>,\n",
       " <selenium.webdriver.remote.webelement.WebElement (session=\"3adc6aad9dd5dc4df76bb0d4b9077bc4\", element=\"073113cf-9082-4292-a8cc-b143d239bed6\")>,\n",
       " <selenium.webdriver.remote.webelement.WebElement (session=\"3adc6aad9dd5dc4df76bb0d4b9077bc4\", element=\"a203f6f1-97c4-49fd-aa60-d5d8aa68196a\")>,\n",
       " <selenium.webdriver.remote.webelement.WebElement (session=\"3adc6aad9dd5dc4df76bb0d4b9077bc4\", element=\"36767faa-472d-4518-bc0d-57a4049b0c0c\")>,\n",
       " <selenium.webdriver.remote.webelement.WebElement (session=\"3adc6aad9dd5dc4df76bb0d4b9077bc4\", element=\"81b6b8e7-745b-4c6c-ba6e-93a62981c761\")>,\n",
       " <selenium.webdriver.remote.webelement.WebElement (session=\"3adc6aad9dd5dc4df76bb0d4b9077bc4\", element=\"1696a883-6249-4bbf-98cb-ad73346c98f1\")>,\n",
       " <selenium.webdriver.remote.webelement.WebElement (session=\"3adc6aad9dd5dc4df76bb0d4b9077bc4\", element=\"cf1b0d7a-71e0-4345-92af-b639bc2d4fb6\")>,\n",
       " <selenium.webdriver.remote.webelement.WebElement (session=\"3adc6aad9dd5dc4df76bb0d4b9077bc4\", element=\"163a9add-d548-4b14-9539-57f606429331\")>,\n",
       " <selenium.webdriver.remote.webelement.WebElement (session=\"3adc6aad9dd5dc4df76bb0d4b9077bc4\", element=\"4c44dddb-4051-4c6f-b4d8-1374da3693c1\")>,\n",
       " <selenium.webdriver.remote.webelement.WebElement (session=\"3adc6aad9dd5dc4df76bb0d4b9077bc4\", element=\"28ade813-2c3a-4e47-b3c4-fe22c2bd1b86\")>,\n",
       " <selenium.webdriver.remote.webelement.WebElement (session=\"3adc6aad9dd5dc4df76bb0d4b9077bc4\", element=\"e432dd1d-92c7-4d24-b6ef-a7bbc47cd4e1\")>,\n",
       " <selenium.webdriver.remote.webelement.WebElement (session=\"3adc6aad9dd5dc4df76bb0d4b9077bc4\", element=\"070f38f5-d489-4048-864b-26e06f2f5776\")>,\n",
       " <selenium.webdriver.remote.webelement.WebElement (session=\"3adc6aad9dd5dc4df76bb0d4b9077bc4\", element=\"e55e805a-8cf8-486a-b911-dbd3a4e93417\")>,\n",
       " <selenium.webdriver.remote.webelement.WebElement (session=\"3adc6aad9dd5dc4df76bb0d4b9077bc4\", element=\"2fe67edb-9e33-46b9-ad58-c86981995f81\")>,\n",
       " <selenium.webdriver.remote.webelement.WebElement (session=\"3adc6aad9dd5dc4df76bb0d4b9077bc4\", element=\"0eeff6c2-d06c-4180-ab45-14b913a53247\")>,\n",
       " <selenium.webdriver.remote.webelement.WebElement (session=\"3adc6aad9dd5dc4df76bb0d4b9077bc4\", element=\"a539287d-998b-44fc-b9c8-58a74c6cdb8c\")>,\n",
       " <selenium.webdriver.remote.webelement.WebElement (session=\"3adc6aad9dd5dc4df76bb0d4b9077bc4\", element=\"3a2e48b2-87e1-4e38-9a79-ac3e55f7a302\")>,\n",
       " <selenium.webdriver.remote.webelement.WebElement (session=\"3adc6aad9dd5dc4df76bb0d4b9077bc4\", element=\"e2b7d75a-9fe1-413b-babe-36a7b58bc0d2\")>,\n",
       " <selenium.webdriver.remote.webelement.WebElement (session=\"3adc6aad9dd5dc4df76bb0d4b9077bc4\", element=\"3aca2841-8054-45d7-a746-08e4318f00de\")>]"
      ]
     },
     "execution_count": 51,
     "metadata": {},
     "output_type": "execute_result"
    }
   ],
   "source": [
    "machine_learning_img"
   ]
  },
  {
   "cell_type": "code",
   "execution_count": 52,
   "id": "f09a7aa7",
   "metadata": {},
   "outputs": [
    {
     "data": {
      "text/plain": [
       "<selenium.webdriver.remote.webelement.WebElement (session=\"3adc6aad9dd5dc4df76bb0d4b9077bc4\", element=\"c1f48d8e-82cc-4970-879c-8186deb494f2\")>"
      ]
     },
     "execution_count": 52,
     "metadata": {},
     "output_type": "execute_result"
    }
   ],
   "source": [
    "search_bar=driver.find_element(\"xpath\",\"/html/body/c-wiz/c-wiz/div/div[3]/div[2]/div/div[1]/form/div[1]/div[2]/div/div[2]/input\")\n",
    "search_bar"
   ]
  },
  {
   "cell_type": "code",
   "execution_count": 53,
   "id": "edd5f4a5",
   "metadata": {},
   "outputs": [],
   "source": [
    "search_bar.send_keys(\"guitars\")"
   ]
  },
  {
   "cell_type": "code",
   "execution_count": 54,
   "id": "303504a3",
   "metadata": {},
   "outputs": [],
   "source": [
    "search_btn=driver.find_element(\"xpath\",\"/html/body/c-wiz/c-wiz/div/div[3]/div[2]/div/div[1]/form/div[1]/div[2]/button/div/span\")\n",
    "search_btn.click()"
   ]
  },
  {
   "cell_type": "code",
   "execution_count": 55,
   "id": "e55ad6d4",
   "metadata": {},
   "outputs": [
    {
     "data": {
      "text/plain": [
       "48"
      ]
     },
     "execution_count": 55,
     "metadata": {},
     "output_type": "execute_result"
    }
   ],
   "source": [
    "guitars_img=driver.find_elements(\"xpath\",'//img[@class=\"rg_i Q4LuWd\"]')\n",
    "len(guitars_img)"
   ]
  },
  {
   "cell_type": "code",
   "execution_count": 56,
   "id": "3ab9c6e3",
   "metadata": {
    "scrolled": true
   },
   "outputs": [
    {
     "data": {
      "text/plain": [
       "[<selenium.webdriver.remote.webelement.WebElement (session=\"3adc6aad9dd5dc4df76bb0d4b9077bc4\", element=\"482e7103-1f24-45ab-ae59-bf13f1083c25\")>,\n",
       " <selenium.webdriver.remote.webelement.WebElement (session=\"3adc6aad9dd5dc4df76bb0d4b9077bc4\", element=\"f3b55f09-5bec-4771-bc9c-4b506408240b\")>,\n",
       " <selenium.webdriver.remote.webelement.WebElement (session=\"3adc6aad9dd5dc4df76bb0d4b9077bc4\", element=\"357b53b1-75ed-4391-a5f5-ddecc37f8e86\")>,\n",
       " <selenium.webdriver.remote.webelement.WebElement (session=\"3adc6aad9dd5dc4df76bb0d4b9077bc4\", element=\"e54fdee3-7487-48f1-a339-70bba545f6e7\")>,\n",
       " <selenium.webdriver.remote.webelement.WebElement (session=\"3adc6aad9dd5dc4df76bb0d4b9077bc4\", element=\"f790ac67-3b32-4b6a-aaaa-ed78870aecbc\")>,\n",
       " <selenium.webdriver.remote.webelement.WebElement (session=\"3adc6aad9dd5dc4df76bb0d4b9077bc4\", element=\"de0542f4-d95e-46c0-8c69-eb9aeb4b930e\")>,\n",
       " <selenium.webdriver.remote.webelement.WebElement (session=\"3adc6aad9dd5dc4df76bb0d4b9077bc4\", element=\"243bdef3-b06c-4b7a-8a98-956cc99d0db9\")>,\n",
       " <selenium.webdriver.remote.webelement.WebElement (session=\"3adc6aad9dd5dc4df76bb0d4b9077bc4\", element=\"08599605-4777-4beb-b848-96a5a2b04b36\")>,\n",
       " <selenium.webdriver.remote.webelement.WebElement (session=\"3adc6aad9dd5dc4df76bb0d4b9077bc4\", element=\"89ef6ad6-939c-4f2a-8356-222bc15d424f\")>,\n",
       " <selenium.webdriver.remote.webelement.WebElement (session=\"3adc6aad9dd5dc4df76bb0d4b9077bc4\", element=\"86e8b7e9-8e9c-4877-a31e-6904b3e59961\")>,\n",
       " <selenium.webdriver.remote.webelement.WebElement (session=\"3adc6aad9dd5dc4df76bb0d4b9077bc4\", element=\"92234de5-51d0-4597-bbc0-6624df1ec0f2\")>,\n",
       " <selenium.webdriver.remote.webelement.WebElement (session=\"3adc6aad9dd5dc4df76bb0d4b9077bc4\", element=\"dcf375b1-1278-45a2-b387-fb4e441b45f8\")>,\n",
       " <selenium.webdriver.remote.webelement.WebElement (session=\"3adc6aad9dd5dc4df76bb0d4b9077bc4\", element=\"922cf746-7434-4540-8081-79fe05561382\")>,\n",
       " <selenium.webdriver.remote.webelement.WebElement (session=\"3adc6aad9dd5dc4df76bb0d4b9077bc4\", element=\"3bb4355f-06d6-49d0-92e6-fc8b15a2dc01\")>,\n",
       " <selenium.webdriver.remote.webelement.WebElement (session=\"3adc6aad9dd5dc4df76bb0d4b9077bc4\", element=\"c0c742ad-2cfb-4c60-8b1a-d0dad56e6b15\")>,\n",
       " <selenium.webdriver.remote.webelement.WebElement (session=\"3adc6aad9dd5dc4df76bb0d4b9077bc4\", element=\"c8960ff9-1953-4d67-b8ad-0f2ad05743ec\")>,\n",
       " <selenium.webdriver.remote.webelement.WebElement (session=\"3adc6aad9dd5dc4df76bb0d4b9077bc4\", element=\"e0ca599e-a16e-45ae-919c-46f57bf30cbb\")>,\n",
       " <selenium.webdriver.remote.webelement.WebElement (session=\"3adc6aad9dd5dc4df76bb0d4b9077bc4\", element=\"3423d270-3c42-4f8f-9758-68be188dba84\")>,\n",
       " <selenium.webdriver.remote.webelement.WebElement (session=\"3adc6aad9dd5dc4df76bb0d4b9077bc4\", element=\"3b629565-9728-40a5-9094-60772785cd83\")>,\n",
       " <selenium.webdriver.remote.webelement.WebElement (session=\"3adc6aad9dd5dc4df76bb0d4b9077bc4\", element=\"d95a4c26-38cb-4d9c-80b0-c4c1e304b269\")>,\n",
       " <selenium.webdriver.remote.webelement.WebElement (session=\"3adc6aad9dd5dc4df76bb0d4b9077bc4\", element=\"eb2008ad-ce45-42d5-97db-0e7aa273a552\")>,\n",
       " <selenium.webdriver.remote.webelement.WebElement (session=\"3adc6aad9dd5dc4df76bb0d4b9077bc4\", element=\"2726ca66-8e99-44d1-b000-f6b2186553bd\")>,\n",
       " <selenium.webdriver.remote.webelement.WebElement (session=\"3adc6aad9dd5dc4df76bb0d4b9077bc4\", element=\"45dbbb49-fafc-41e1-9044-3671f966948f\")>,\n",
       " <selenium.webdriver.remote.webelement.WebElement (session=\"3adc6aad9dd5dc4df76bb0d4b9077bc4\", element=\"10e5e91c-e9a2-48d6-bb98-f17e1aafca6e\")>,\n",
       " <selenium.webdriver.remote.webelement.WebElement (session=\"3adc6aad9dd5dc4df76bb0d4b9077bc4\", element=\"f97776a3-11a4-40df-bac7-5f9ab6a15edb\")>,\n",
       " <selenium.webdriver.remote.webelement.WebElement (session=\"3adc6aad9dd5dc4df76bb0d4b9077bc4\", element=\"a467b694-a5cc-440e-aeb7-f3b6d5b47fd3\")>,\n",
       " <selenium.webdriver.remote.webelement.WebElement (session=\"3adc6aad9dd5dc4df76bb0d4b9077bc4\", element=\"6d3fd35e-2d6a-484d-a94a-e54f3b6f79f0\")>,\n",
       " <selenium.webdriver.remote.webelement.WebElement (session=\"3adc6aad9dd5dc4df76bb0d4b9077bc4\", element=\"d349a757-2cf3-4483-a92c-994e487fe336\")>,\n",
       " <selenium.webdriver.remote.webelement.WebElement (session=\"3adc6aad9dd5dc4df76bb0d4b9077bc4\", element=\"f8645f18-d088-41ac-b399-f3d0423c113c\")>,\n",
       " <selenium.webdriver.remote.webelement.WebElement (session=\"3adc6aad9dd5dc4df76bb0d4b9077bc4\", element=\"b284b084-8791-4a19-8072-8166b7897d39\")>,\n",
       " <selenium.webdriver.remote.webelement.WebElement (session=\"3adc6aad9dd5dc4df76bb0d4b9077bc4\", element=\"0f9611fa-ccf0-464c-a9b3-73f788c451b0\")>,\n",
       " <selenium.webdriver.remote.webelement.WebElement (session=\"3adc6aad9dd5dc4df76bb0d4b9077bc4\", element=\"b9c70177-71c4-4268-b630-c483ae5cb205\")>,\n",
       " <selenium.webdriver.remote.webelement.WebElement (session=\"3adc6aad9dd5dc4df76bb0d4b9077bc4\", element=\"983165af-0536-4860-8f0d-3c8c69a54d17\")>,\n",
       " <selenium.webdriver.remote.webelement.WebElement (session=\"3adc6aad9dd5dc4df76bb0d4b9077bc4\", element=\"d103db3f-1ba1-4847-8ae7-767fd921ad66\")>,\n",
       " <selenium.webdriver.remote.webelement.WebElement (session=\"3adc6aad9dd5dc4df76bb0d4b9077bc4\", element=\"55993af8-7995-42d8-8285-e074158d0d23\")>,\n",
       " <selenium.webdriver.remote.webelement.WebElement (session=\"3adc6aad9dd5dc4df76bb0d4b9077bc4\", element=\"793caae1-43fa-4715-bf60-ce802d6c36e2\")>,\n",
       " <selenium.webdriver.remote.webelement.WebElement (session=\"3adc6aad9dd5dc4df76bb0d4b9077bc4\", element=\"5699398f-307f-483f-9001-4ff3297ed058\")>,\n",
       " <selenium.webdriver.remote.webelement.WebElement (session=\"3adc6aad9dd5dc4df76bb0d4b9077bc4\", element=\"73d3901e-dfd2-4f19-9b1d-f4bec3242d89\")>,\n",
       " <selenium.webdriver.remote.webelement.WebElement (session=\"3adc6aad9dd5dc4df76bb0d4b9077bc4\", element=\"fdc3f195-60fc-47ed-997b-bbf31eb3b75f\")>,\n",
       " <selenium.webdriver.remote.webelement.WebElement (session=\"3adc6aad9dd5dc4df76bb0d4b9077bc4\", element=\"832c5b12-833f-473b-86cd-95206a3cec80\")>,\n",
       " <selenium.webdriver.remote.webelement.WebElement (session=\"3adc6aad9dd5dc4df76bb0d4b9077bc4\", element=\"65837033-d4fa-4f39-a846-6b8760852b2e\")>,\n",
       " <selenium.webdriver.remote.webelement.WebElement (session=\"3adc6aad9dd5dc4df76bb0d4b9077bc4\", element=\"e1d85c0b-60f6-4d32-acf8-eaf4f7996575\")>,\n",
       " <selenium.webdriver.remote.webelement.WebElement (session=\"3adc6aad9dd5dc4df76bb0d4b9077bc4\", element=\"795d0064-6911-495f-b935-b29579248b9a\")>,\n",
       " <selenium.webdriver.remote.webelement.WebElement (session=\"3adc6aad9dd5dc4df76bb0d4b9077bc4\", element=\"fa04a291-bfd3-41c5-8240-1245de704e15\")>,\n",
       " <selenium.webdriver.remote.webelement.WebElement (session=\"3adc6aad9dd5dc4df76bb0d4b9077bc4\", element=\"2f78df60-3877-4bd3-a0d9-347ca75ef01a\")>,\n",
       " <selenium.webdriver.remote.webelement.WebElement (session=\"3adc6aad9dd5dc4df76bb0d4b9077bc4\", element=\"198be163-3bfa-4310-bda4-067958b50c8e\")>,\n",
       " <selenium.webdriver.remote.webelement.WebElement (session=\"3adc6aad9dd5dc4df76bb0d4b9077bc4\", element=\"1c6415df-d34c-4654-81f2-dc23bc00dad2\")>,\n",
       " <selenium.webdriver.remote.webelement.WebElement (session=\"3adc6aad9dd5dc4df76bb0d4b9077bc4\", element=\"7e5bb8e2-1be9-4555-836f-22f42b7e5f0f\")>]"
      ]
     },
     "execution_count": 56,
     "metadata": {},
     "output_type": "execute_result"
    }
   ],
   "source": [
    "guitars_img"
   ]
  },
  {
   "cell_type": "code",
   "execution_count": 63,
   "id": "91810339",
   "metadata": {},
   "outputs": [
    {
     "data": {
      "text/plain": [
       "<selenium.webdriver.remote.webelement.WebElement (session=\"3adc6aad9dd5dc4df76bb0d4b9077bc4\", element=\"6dbcd3de-13ef-4fc4-9a95-3650da314a93\")>"
      ]
     },
     "execution_count": 63,
     "metadata": {},
     "output_type": "execute_result"
    }
   ],
   "source": [
    "search_bar=driver.find_element(\"xpath\",\"/html/body/c-wiz/c-wiz/div/div[3]/div[2]/div/div[1]/form/div[1]/div[2]/div/div[2]/input\")\n",
    "search_bar"
   ]
  },
  {
   "cell_type": "code",
   "execution_count": 64,
   "id": "0cdbdea0",
   "metadata": {},
   "outputs": [],
   "source": [
    "search_bar.send_keys('cakes')"
   ]
  },
  {
   "cell_type": "code",
   "execution_count": 65,
   "id": "28a8ab31",
   "metadata": {},
   "outputs": [
    {
     "data": {
      "text/plain": [
       "<selenium.webdriver.remote.webelement.WebElement (session=\"3adc6aad9dd5dc4df76bb0d4b9077bc4\", element=\"634799ec-ddac-4d2a-a0cc-3888f4362c2a\")>"
      ]
     },
     "execution_count": 65,
     "metadata": {},
     "output_type": "execute_result"
    }
   ],
   "source": [
    "search_btn=driver.find_element(\"xpath\",\"/html/body/c-wiz/c-wiz/div/div[3]/div[2]/div/div[1]/form/div[1]/div[2]/button/div/span\")\n",
    "search_btn"
   ]
  },
  {
   "cell_type": "code",
   "execution_count": 66,
   "id": "9162d32c",
   "metadata": {},
   "outputs": [],
   "source": [
    "search_btn.click()"
   ]
  },
  {
   "cell_type": "code",
   "execution_count": 67,
   "id": "0d7ee840",
   "metadata": {},
   "outputs": [
    {
     "data": {
      "text/plain": [
       "48"
      ]
     },
     "execution_count": 67,
     "metadata": {},
     "output_type": "execute_result"
    }
   ],
   "source": [
    "cakes_img=driver.find_elements(\"xpath\",\"//img[@class='rg_i Q4LuWd']\")\n",
    "len(cakes_img)"
   ]
  },
  {
   "cell_type": "code",
   "execution_count": 68,
   "id": "4e0d1209",
   "metadata": {},
   "outputs": [],
   "source": [
    "img_urls=len(fruits_img),len(car_img),len(machine_learning_img),len(guitars_img),len(cakes_img)"
   ]
  },
  {
   "cell_type": "code",
   "execution_count": 69,
   "id": "583710c7",
   "metadata": {
    "scrolled": true
   },
   "outputs": [
    {
     "name": "stdout",
     "output_type": "stream",
     "text": [
      "Downloading 0 of 10 images\n"
     ]
    },
    {
     "ename": "MissingSchema",
     "evalue": "Invalid URL '48': No scheme supplied. Perhaps you meant http://48?",
     "output_type": "error",
     "traceback": [
      "\u001b[1;31m---------------------------------------------------------------------------\u001b[0m",
      "\u001b[1;31mMissingSchema\u001b[0m                             Traceback (most recent call last)",
      "Input \u001b[1;32mIn [69]\u001b[0m, in \u001b[0;36m<cell line: 1>\u001b[1;34m()\u001b[0m\n\u001b[0;32m      3\u001b[0m     \u001b[38;5;28;01mbreak\u001b[39;00m\n\u001b[0;32m      4\u001b[0m \u001b[38;5;28mprint\u001b[39m(\u001b[38;5;124m\"\u001b[39m\u001b[38;5;124mDownloading \u001b[39m\u001b[38;5;132;01m{0}\u001b[39;00m\u001b[38;5;124m of \u001b[39m\u001b[38;5;132;01m{1}\u001b[39;00m\u001b[38;5;124m images\u001b[39m\u001b[38;5;124m\"\u001b[39m \u001b[38;5;241m.\u001b[39mformat(i, \u001b[38;5;241m10\u001b[39m))\n\u001b[1;32m----> 5\u001b[0m response \u001b[38;5;241m=\u001b[39m \u001b[43mrequests\u001b[49m\u001b[38;5;241;43m.\u001b[39;49m\u001b[43mget\u001b[49m\u001b[43m(\u001b[49m\u001b[43mimg_urls\u001b[49m\u001b[43m[\u001b[49m\u001b[43mi\u001b[49m\u001b[43m]\u001b[49m\u001b[43m)\u001b[49m\n\u001b[0;32m      6\u001b[0m file \u001b[38;5;241m=\u001b[39m \u001b[38;5;28mopen\u001b[39m(\u001b[38;5;124mr\u001b[39m\u001b[38;5;124m\"\u001b[39m\u001b[38;5;124mC:/Users/user/Downloads/chromedriver_win32 (1)/chromedriver.exe\u001b[39m\u001b[38;5;124m\"\u001b[39m\u001b[38;5;241m+\u001b[39m\u001b[38;5;28mstr\u001b[39m(i)\u001b[38;5;241m+\u001b[39m\u001b[38;5;124m\"\u001b[39m\u001b[38;5;124m . jpg\u001b[39m\u001b[38;5;124m\"\u001b[39m , \u001b[38;5;124m\"\u001b[39m\u001b[38;5;124mwb\u001b[39m\u001b[38;5;124m\"\u001b[39m)\n\u001b[0;32m      7\u001b[0m file\u001b[38;5;241m.\u001b[39mwrite(response\u001b[38;5;241m.\u001b[39mcontent)\n",
      "File \u001b[1;32m~\\anaconda3\\lib\\site-packages\\requests\\api.py:75\u001b[0m, in \u001b[0;36mget\u001b[1;34m(url, params, **kwargs)\u001b[0m\n\u001b[0;32m     64\u001b[0m \u001b[38;5;28;01mdef\u001b[39;00m \u001b[38;5;21mget\u001b[39m(url, params\u001b[38;5;241m=\u001b[39m\u001b[38;5;28;01mNone\u001b[39;00m, \u001b[38;5;241m*\u001b[39m\u001b[38;5;241m*\u001b[39mkwargs):\n\u001b[0;32m     65\u001b[0m     \u001b[38;5;124mr\u001b[39m\u001b[38;5;124;03m\"\"\"Sends a GET request.\u001b[39;00m\n\u001b[0;32m     66\u001b[0m \n\u001b[0;32m     67\u001b[0m \u001b[38;5;124;03m    :param url: URL for the new :class:`Request` object.\u001b[39;00m\n\u001b[1;32m   (...)\u001b[0m\n\u001b[0;32m     72\u001b[0m \u001b[38;5;124;03m    :rtype: requests.Response\u001b[39;00m\n\u001b[0;32m     73\u001b[0m \u001b[38;5;124;03m    \"\"\"\u001b[39;00m\n\u001b[1;32m---> 75\u001b[0m     \u001b[38;5;28;01mreturn\u001b[39;00m request(\u001b[38;5;124m'\u001b[39m\u001b[38;5;124mget\u001b[39m\u001b[38;5;124m'\u001b[39m, url, params\u001b[38;5;241m=\u001b[39mparams, \u001b[38;5;241m*\u001b[39m\u001b[38;5;241m*\u001b[39mkwargs)\n",
      "File \u001b[1;32m~\\anaconda3\\lib\\site-packages\\requests\\api.py:61\u001b[0m, in \u001b[0;36mrequest\u001b[1;34m(method, url, **kwargs)\u001b[0m\n\u001b[0;32m     57\u001b[0m \u001b[38;5;66;03m# By using the 'with' statement we are sure the session is closed, thus we\u001b[39;00m\n\u001b[0;32m     58\u001b[0m \u001b[38;5;66;03m# avoid leaving sockets open which can trigger a ResourceWarning in some\u001b[39;00m\n\u001b[0;32m     59\u001b[0m \u001b[38;5;66;03m# cases, and look like a memory leak in others.\u001b[39;00m\n\u001b[0;32m     60\u001b[0m \u001b[38;5;28;01mwith\u001b[39;00m sessions\u001b[38;5;241m.\u001b[39mSession() \u001b[38;5;28;01mas\u001b[39;00m session:\n\u001b[1;32m---> 61\u001b[0m     \u001b[38;5;28;01mreturn\u001b[39;00m session\u001b[38;5;241m.\u001b[39mrequest(method\u001b[38;5;241m=\u001b[39mmethod, url\u001b[38;5;241m=\u001b[39murl, \u001b[38;5;241m*\u001b[39m\u001b[38;5;241m*\u001b[39mkwargs)\n",
      "File \u001b[1;32m~\\anaconda3\\lib\\site-packages\\requests\\sessions.py:515\u001b[0m, in \u001b[0;36mSession.request\u001b[1;34m(self, method, url, params, data, headers, cookies, files, auth, timeout, allow_redirects, proxies, hooks, stream, verify, cert, json)\u001b[0m\n\u001b[0;32m    502\u001b[0m \u001b[38;5;66;03m# Create the Request.\u001b[39;00m\n\u001b[0;32m    503\u001b[0m req \u001b[38;5;241m=\u001b[39m Request(\n\u001b[0;32m    504\u001b[0m     method\u001b[38;5;241m=\u001b[39mmethod\u001b[38;5;241m.\u001b[39mupper(),\n\u001b[0;32m    505\u001b[0m     url\u001b[38;5;241m=\u001b[39murl,\n\u001b[1;32m   (...)\u001b[0m\n\u001b[0;32m    513\u001b[0m     hooks\u001b[38;5;241m=\u001b[39mhooks,\n\u001b[0;32m    514\u001b[0m )\n\u001b[1;32m--> 515\u001b[0m prep \u001b[38;5;241m=\u001b[39m \u001b[38;5;28;43mself\u001b[39;49m\u001b[38;5;241;43m.\u001b[39;49m\u001b[43mprepare_request\u001b[49m\u001b[43m(\u001b[49m\u001b[43mreq\u001b[49m\u001b[43m)\u001b[49m\n\u001b[0;32m    517\u001b[0m proxies \u001b[38;5;241m=\u001b[39m proxies \u001b[38;5;129;01mor\u001b[39;00m {}\n\u001b[0;32m    519\u001b[0m settings \u001b[38;5;241m=\u001b[39m \u001b[38;5;28mself\u001b[39m\u001b[38;5;241m.\u001b[39mmerge_environment_settings(\n\u001b[0;32m    520\u001b[0m     prep\u001b[38;5;241m.\u001b[39murl, proxies, stream, verify, cert\n\u001b[0;32m    521\u001b[0m )\n",
      "File \u001b[1;32m~\\anaconda3\\lib\\site-packages\\requests\\sessions.py:443\u001b[0m, in \u001b[0;36mSession.prepare_request\u001b[1;34m(self, request)\u001b[0m\n\u001b[0;32m    440\u001b[0m     auth \u001b[38;5;241m=\u001b[39m get_netrc_auth(request\u001b[38;5;241m.\u001b[39murl)\n\u001b[0;32m    442\u001b[0m p \u001b[38;5;241m=\u001b[39m PreparedRequest()\n\u001b[1;32m--> 443\u001b[0m \u001b[43mp\u001b[49m\u001b[38;5;241;43m.\u001b[39;49m\u001b[43mprepare\u001b[49m\u001b[43m(\u001b[49m\n\u001b[0;32m    444\u001b[0m \u001b[43m    \u001b[49m\u001b[43mmethod\u001b[49m\u001b[38;5;241;43m=\u001b[39;49m\u001b[43mrequest\u001b[49m\u001b[38;5;241;43m.\u001b[39;49m\u001b[43mmethod\u001b[49m\u001b[38;5;241;43m.\u001b[39;49m\u001b[43mupper\u001b[49m\u001b[43m(\u001b[49m\u001b[43m)\u001b[49m\u001b[43m,\u001b[49m\n\u001b[0;32m    445\u001b[0m \u001b[43m    \u001b[49m\u001b[43murl\u001b[49m\u001b[38;5;241;43m=\u001b[39;49m\u001b[43mrequest\u001b[49m\u001b[38;5;241;43m.\u001b[39;49m\u001b[43murl\u001b[49m\u001b[43m,\u001b[49m\n\u001b[0;32m    446\u001b[0m \u001b[43m    \u001b[49m\u001b[43mfiles\u001b[49m\u001b[38;5;241;43m=\u001b[39;49m\u001b[43mrequest\u001b[49m\u001b[38;5;241;43m.\u001b[39;49m\u001b[43mfiles\u001b[49m\u001b[43m,\u001b[49m\n\u001b[0;32m    447\u001b[0m \u001b[43m    \u001b[49m\u001b[43mdata\u001b[49m\u001b[38;5;241;43m=\u001b[39;49m\u001b[43mrequest\u001b[49m\u001b[38;5;241;43m.\u001b[39;49m\u001b[43mdata\u001b[49m\u001b[43m,\u001b[49m\n\u001b[0;32m    448\u001b[0m \u001b[43m    \u001b[49m\u001b[43mjson\u001b[49m\u001b[38;5;241;43m=\u001b[39;49m\u001b[43mrequest\u001b[49m\u001b[38;5;241;43m.\u001b[39;49m\u001b[43mjson\u001b[49m\u001b[43m,\u001b[49m\n\u001b[0;32m    449\u001b[0m \u001b[43m    \u001b[49m\u001b[43mheaders\u001b[49m\u001b[38;5;241;43m=\u001b[39;49m\u001b[43mmerge_setting\u001b[49m\u001b[43m(\u001b[49m\u001b[43mrequest\u001b[49m\u001b[38;5;241;43m.\u001b[39;49m\u001b[43mheaders\u001b[49m\u001b[43m,\u001b[49m\u001b[43m \u001b[49m\u001b[38;5;28;43mself\u001b[39;49m\u001b[38;5;241;43m.\u001b[39;49m\u001b[43mheaders\u001b[49m\u001b[43m,\u001b[49m\u001b[43m \u001b[49m\u001b[43mdict_class\u001b[49m\u001b[38;5;241;43m=\u001b[39;49m\u001b[43mCaseInsensitiveDict\u001b[49m\u001b[43m)\u001b[49m\u001b[43m,\u001b[49m\n\u001b[0;32m    450\u001b[0m \u001b[43m    \u001b[49m\u001b[43mparams\u001b[49m\u001b[38;5;241;43m=\u001b[39;49m\u001b[43mmerge_setting\u001b[49m\u001b[43m(\u001b[49m\u001b[43mrequest\u001b[49m\u001b[38;5;241;43m.\u001b[39;49m\u001b[43mparams\u001b[49m\u001b[43m,\u001b[49m\u001b[43m \u001b[49m\u001b[38;5;28;43mself\u001b[39;49m\u001b[38;5;241;43m.\u001b[39;49m\u001b[43mparams\u001b[49m\u001b[43m)\u001b[49m\u001b[43m,\u001b[49m\n\u001b[0;32m    451\u001b[0m \u001b[43m    \u001b[49m\u001b[43mauth\u001b[49m\u001b[38;5;241;43m=\u001b[39;49m\u001b[43mmerge_setting\u001b[49m\u001b[43m(\u001b[49m\u001b[43mauth\u001b[49m\u001b[43m,\u001b[49m\u001b[43m \u001b[49m\u001b[38;5;28;43mself\u001b[39;49m\u001b[38;5;241;43m.\u001b[39;49m\u001b[43mauth\u001b[49m\u001b[43m)\u001b[49m\u001b[43m,\u001b[49m\n\u001b[0;32m    452\u001b[0m \u001b[43m    \u001b[49m\u001b[43mcookies\u001b[49m\u001b[38;5;241;43m=\u001b[39;49m\u001b[43mmerged_cookies\u001b[49m\u001b[43m,\u001b[49m\n\u001b[0;32m    453\u001b[0m \u001b[43m    \u001b[49m\u001b[43mhooks\u001b[49m\u001b[38;5;241;43m=\u001b[39;49m\u001b[43mmerge_hooks\u001b[49m\u001b[43m(\u001b[49m\u001b[43mrequest\u001b[49m\u001b[38;5;241;43m.\u001b[39;49m\u001b[43mhooks\u001b[49m\u001b[43m,\u001b[49m\u001b[43m \u001b[49m\u001b[38;5;28;43mself\u001b[39;49m\u001b[38;5;241;43m.\u001b[39;49m\u001b[43mhooks\u001b[49m\u001b[43m)\u001b[49m\u001b[43m,\u001b[49m\n\u001b[0;32m    454\u001b[0m \u001b[43m\u001b[49m\u001b[43m)\u001b[49m\n\u001b[0;32m    455\u001b[0m \u001b[38;5;28;01mreturn\u001b[39;00m p\n",
      "File \u001b[1;32m~\\anaconda3\\lib\\site-packages\\requests\\models.py:318\u001b[0m, in \u001b[0;36mPreparedRequest.prepare\u001b[1;34m(self, method, url, headers, files, data, params, auth, cookies, hooks, json)\u001b[0m\n\u001b[0;32m    315\u001b[0m \u001b[38;5;124;03m\"\"\"Prepares the entire request with the given parameters.\"\"\"\u001b[39;00m\n\u001b[0;32m    317\u001b[0m \u001b[38;5;28mself\u001b[39m\u001b[38;5;241m.\u001b[39mprepare_method(method)\n\u001b[1;32m--> 318\u001b[0m \u001b[38;5;28;43mself\u001b[39;49m\u001b[38;5;241;43m.\u001b[39;49m\u001b[43mprepare_url\u001b[49m\u001b[43m(\u001b[49m\u001b[43murl\u001b[49m\u001b[43m,\u001b[49m\u001b[43m \u001b[49m\u001b[43mparams\u001b[49m\u001b[43m)\u001b[49m\n\u001b[0;32m    319\u001b[0m \u001b[38;5;28mself\u001b[39m\u001b[38;5;241m.\u001b[39mprepare_headers(headers)\n\u001b[0;32m    320\u001b[0m \u001b[38;5;28mself\u001b[39m\u001b[38;5;241m.\u001b[39mprepare_cookies(cookies)\n",
      "File \u001b[1;32m~\\anaconda3\\lib\\site-packages\\requests\\models.py:392\u001b[0m, in \u001b[0;36mPreparedRequest.prepare_url\u001b[1;34m(self, url, params)\u001b[0m\n\u001b[0;32m    389\u001b[0m     error \u001b[38;5;241m=\u001b[39m (\u001b[38;5;124m\"\u001b[39m\u001b[38;5;124mInvalid URL \u001b[39m\u001b[38;5;132;01m{0!r}\u001b[39;00m\u001b[38;5;124m: No scheme supplied. Perhaps you meant http://\u001b[39m\u001b[38;5;132;01m{0}\u001b[39;00m\u001b[38;5;124m?\u001b[39m\u001b[38;5;124m\"\u001b[39m)\n\u001b[0;32m    390\u001b[0m     error \u001b[38;5;241m=\u001b[39m error\u001b[38;5;241m.\u001b[39mformat(to_native_string(url, \u001b[38;5;124m'\u001b[39m\u001b[38;5;124mutf8\u001b[39m\u001b[38;5;124m'\u001b[39m))\n\u001b[1;32m--> 392\u001b[0m     \u001b[38;5;28;01mraise\u001b[39;00m MissingSchema(error)\n\u001b[0;32m    394\u001b[0m \u001b[38;5;28;01mif\u001b[39;00m \u001b[38;5;129;01mnot\u001b[39;00m host:\n\u001b[0;32m    395\u001b[0m     \u001b[38;5;28;01mraise\u001b[39;00m InvalidURL(\u001b[38;5;124m\"\u001b[39m\u001b[38;5;124mInvalid URL \u001b[39m\u001b[38;5;132;01m%r\u001b[39;00m\u001b[38;5;124m: No host supplied\u001b[39m\u001b[38;5;124m\"\u001b[39m \u001b[38;5;241m%\u001b[39m url)\n",
      "\u001b[1;31mMissingSchema\u001b[0m: Invalid URL '48': No scheme supplied. Perhaps you meant http://48?"
     ]
    }
   ],
   "source": [
    "for i in range(len(img_urls)):\n",
    "    if i > 10:\n",
    "        break\n",
    "    print(\"Downloading {0} of {1} images\" .format(i, 10))\n",
    "    response = requests.get(img_urls[i])\n",
    "    file = open(r\"C:/Users/user/Downloads/chromedriver_win32 (1)/chromedriver.exe\"+str(i)+\" . jpg\" , \"wb\")\n",
    "    file.write(response.content)"
   ]
  },
  {
   "cell_type": "code",
   "execution_count": 70,
   "id": "d8af614f",
   "metadata": {},
   "outputs": [
    {
     "data": {
      "text/html": [
       "<div>\n",
       "<style scoped>\n",
       "    .dataframe tbody tr th:only-of-type {\n",
       "        vertical-align: middle;\n",
       "    }\n",
       "\n",
       "    .dataframe tbody tr th {\n",
       "        vertical-align: top;\n",
       "    }\n",
       "\n",
       "    .dataframe thead th {\n",
       "        text-align: right;\n",
       "    }\n",
       "</style>\n",
       "<table border=\"1\" class=\"dataframe\">\n",
       "  <thead>\n",
       "    <tr style=\"text-align: right;\">\n",
       "      <th></th>\n",
       "      <th>Fruits</th>\n",
       "      <th>Cars</th>\n",
       "      <th>Machine Learning</th>\n",
       "      <th>Guitars</th>\n",
       "      <th>Cakes</th>\n",
       "    </tr>\n",
       "  </thead>\n",
       "  <tbody>\n",
       "    <tr>\n",
       "      <th>0</th>\n",
       "      <td>&lt;selenium.webdriver.remote.webelement.WebEleme...</td>\n",
       "      <td>&lt;selenium.webdriver.remote.webelement.WebEleme...</td>\n",
       "      <td>&lt;selenium.webdriver.remote.webelement.WebEleme...</td>\n",
       "      <td>&lt;selenium.webdriver.remote.webelement.WebEleme...</td>\n",
       "      <td>&lt;selenium.webdriver.remote.webelement.WebEleme...</td>\n",
       "    </tr>\n",
       "    <tr>\n",
       "      <th>1</th>\n",
       "      <td>&lt;selenium.webdriver.remote.webelement.WebEleme...</td>\n",
       "      <td>&lt;selenium.webdriver.remote.webelement.WebEleme...</td>\n",
       "      <td>&lt;selenium.webdriver.remote.webelement.WebEleme...</td>\n",
       "      <td>&lt;selenium.webdriver.remote.webelement.WebEleme...</td>\n",
       "      <td>&lt;selenium.webdriver.remote.webelement.WebEleme...</td>\n",
       "    </tr>\n",
       "    <tr>\n",
       "      <th>2</th>\n",
       "      <td>&lt;selenium.webdriver.remote.webelement.WebEleme...</td>\n",
       "      <td>&lt;selenium.webdriver.remote.webelement.WebEleme...</td>\n",
       "      <td>&lt;selenium.webdriver.remote.webelement.WebEleme...</td>\n",
       "      <td>&lt;selenium.webdriver.remote.webelement.WebEleme...</td>\n",
       "      <td>&lt;selenium.webdriver.remote.webelement.WebEleme...</td>\n",
       "    </tr>\n",
       "    <tr>\n",
       "      <th>3</th>\n",
       "      <td>&lt;selenium.webdriver.remote.webelement.WebEleme...</td>\n",
       "      <td>&lt;selenium.webdriver.remote.webelement.WebEleme...</td>\n",
       "      <td>&lt;selenium.webdriver.remote.webelement.WebEleme...</td>\n",
       "      <td>&lt;selenium.webdriver.remote.webelement.WebEleme...</td>\n",
       "      <td>&lt;selenium.webdriver.remote.webelement.WebEleme...</td>\n",
       "    </tr>\n",
       "    <tr>\n",
       "      <th>4</th>\n",
       "      <td>&lt;selenium.webdriver.remote.webelement.WebEleme...</td>\n",
       "      <td>&lt;selenium.webdriver.remote.webelement.WebEleme...</td>\n",
       "      <td>&lt;selenium.webdriver.remote.webelement.WebEleme...</td>\n",
       "      <td>&lt;selenium.webdriver.remote.webelement.WebEleme...</td>\n",
       "      <td>&lt;selenium.webdriver.remote.webelement.WebEleme...</td>\n",
       "    </tr>\n",
       "    <tr>\n",
       "      <th>5</th>\n",
       "      <td>&lt;selenium.webdriver.remote.webelement.WebEleme...</td>\n",
       "      <td>&lt;selenium.webdriver.remote.webelement.WebEleme...</td>\n",
       "      <td>&lt;selenium.webdriver.remote.webelement.WebEleme...</td>\n",
       "      <td>&lt;selenium.webdriver.remote.webelement.WebEleme...</td>\n",
       "      <td>&lt;selenium.webdriver.remote.webelement.WebEleme...</td>\n",
       "    </tr>\n",
       "    <tr>\n",
       "      <th>6</th>\n",
       "      <td>&lt;selenium.webdriver.remote.webelement.WebEleme...</td>\n",
       "      <td>&lt;selenium.webdriver.remote.webelement.WebEleme...</td>\n",
       "      <td>&lt;selenium.webdriver.remote.webelement.WebEleme...</td>\n",
       "      <td>&lt;selenium.webdriver.remote.webelement.WebEleme...</td>\n",
       "      <td>&lt;selenium.webdriver.remote.webelement.WebEleme...</td>\n",
       "    </tr>\n",
       "    <tr>\n",
       "      <th>7</th>\n",
       "      <td>&lt;selenium.webdriver.remote.webelement.WebEleme...</td>\n",
       "      <td>&lt;selenium.webdriver.remote.webelement.WebEleme...</td>\n",
       "      <td>&lt;selenium.webdriver.remote.webelement.WebEleme...</td>\n",
       "      <td>&lt;selenium.webdriver.remote.webelement.WebEleme...</td>\n",
       "      <td>&lt;selenium.webdriver.remote.webelement.WebEleme...</td>\n",
       "    </tr>\n",
       "    <tr>\n",
       "      <th>8</th>\n",
       "      <td>&lt;selenium.webdriver.remote.webelement.WebEleme...</td>\n",
       "      <td>&lt;selenium.webdriver.remote.webelement.WebEleme...</td>\n",
       "      <td>&lt;selenium.webdriver.remote.webelement.WebEleme...</td>\n",
       "      <td>&lt;selenium.webdriver.remote.webelement.WebEleme...</td>\n",
       "      <td>&lt;selenium.webdriver.remote.webelement.WebEleme...</td>\n",
       "    </tr>\n",
       "    <tr>\n",
       "      <th>9</th>\n",
       "      <td>&lt;selenium.webdriver.remote.webelement.WebEleme...</td>\n",
       "      <td>&lt;selenium.webdriver.remote.webelement.WebEleme...</td>\n",
       "      <td>&lt;selenium.webdriver.remote.webelement.WebEleme...</td>\n",
       "      <td>&lt;selenium.webdriver.remote.webelement.WebEleme...</td>\n",
       "      <td>&lt;selenium.webdriver.remote.webelement.WebEleme...</td>\n",
       "    </tr>\n",
       "  </tbody>\n",
       "</table>\n",
       "</div>"
      ],
      "text/plain": [
       "                                              Fruits  \\\n",
       "0  <selenium.webdriver.remote.webelement.WebEleme...   \n",
       "1  <selenium.webdriver.remote.webelement.WebEleme...   \n",
       "2  <selenium.webdriver.remote.webelement.WebEleme...   \n",
       "3  <selenium.webdriver.remote.webelement.WebEleme...   \n",
       "4  <selenium.webdriver.remote.webelement.WebEleme...   \n",
       "5  <selenium.webdriver.remote.webelement.WebEleme...   \n",
       "6  <selenium.webdriver.remote.webelement.WebEleme...   \n",
       "7  <selenium.webdriver.remote.webelement.WebEleme...   \n",
       "8  <selenium.webdriver.remote.webelement.WebEleme...   \n",
       "9  <selenium.webdriver.remote.webelement.WebEleme...   \n",
       "\n",
       "                                                Cars  \\\n",
       "0  <selenium.webdriver.remote.webelement.WebEleme...   \n",
       "1  <selenium.webdriver.remote.webelement.WebEleme...   \n",
       "2  <selenium.webdriver.remote.webelement.WebEleme...   \n",
       "3  <selenium.webdriver.remote.webelement.WebEleme...   \n",
       "4  <selenium.webdriver.remote.webelement.WebEleme...   \n",
       "5  <selenium.webdriver.remote.webelement.WebEleme...   \n",
       "6  <selenium.webdriver.remote.webelement.WebEleme...   \n",
       "7  <selenium.webdriver.remote.webelement.WebEleme...   \n",
       "8  <selenium.webdriver.remote.webelement.WebEleme...   \n",
       "9  <selenium.webdriver.remote.webelement.WebEleme...   \n",
       "\n",
       "                                    Machine Learning  \\\n",
       "0  <selenium.webdriver.remote.webelement.WebEleme...   \n",
       "1  <selenium.webdriver.remote.webelement.WebEleme...   \n",
       "2  <selenium.webdriver.remote.webelement.WebEleme...   \n",
       "3  <selenium.webdriver.remote.webelement.WebEleme...   \n",
       "4  <selenium.webdriver.remote.webelement.WebEleme...   \n",
       "5  <selenium.webdriver.remote.webelement.WebEleme...   \n",
       "6  <selenium.webdriver.remote.webelement.WebEleme...   \n",
       "7  <selenium.webdriver.remote.webelement.WebEleme...   \n",
       "8  <selenium.webdriver.remote.webelement.WebEleme...   \n",
       "9  <selenium.webdriver.remote.webelement.WebEleme...   \n",
       "\n",
       "                                             Guitars  \\\n",
       "0  <selenium.webdriver.remote.webelement.WebEleme...   \n",
       "1  <selenium.webdriver.remote.webelement.WebEleme...   \n",
       "2  <selenium.webdriver.remote.webelement.WebEleme...   \n",
       "3  <selenium.webdriver.remote.webelement.WebEleme...   \n",
       "4  <selenium.webdriver.remote.webelement.WebEleme...   \n",
       "5  <selenium.webdriver.remote.webelement.WebEleme...   \n",
       "6  <selenium.webdriver.remote.webelement.WebEleme...   \n",
       "7  <selenium.webdriver.remote.webelement.WebEleme...   \n",
       "8  <selenium.webdriver.remote.webelement.WebEleme...   \n",
       "9  <selenium.webdriver.remote.webelement.WebEleme...   \n",
       "\n",
       "                                               Cakes  \n",
       "0  <selenium.webdriver.remote.webelement.WebEleme...  \n",
       "1  <selenium.webdriver.remote.webelement.WebEleme...  \n",
       "2  <selenium.webdriver.remote.webelement.WebEleme...  \n",
       "3  <selenium.webdriver.remote.webelement.WebEleme...  \n",
       "4  <selenium.webdriver.remote.webelement.WebEleme...  \n",
       "5  <selenium.webdriver.remote.webelement.WebEleme...  \n",
       "6  <selenium.webdriver.remote.webelement.WebEleme...  \n",
       "7  <selenium.webdriver.remote.webelement.WebEleme...  \n",
       "8  <selenium.webdriver.remote.webelement.WebEleme...  \n",
       "9  <selenium.webdriver.remote.webelement.WebEleme...  "
      ]
     },
     "execution_count": 70,
     "metadata": {},
     "output_type": "execute_result"
    }
   ],
   "source": [
    "import pandas as pd\n",
    "df=pd.DataFrame({'Fruits':fruits_img,'Cars':car_img,'Machine Learning':machine_learning_img,'Guitars':guitars_img,'Cakes':cakes_img})\n",
    "df[0:10]"
   ]
  },
  {
   "cell_type": "code",
   "execution_count": 71,
   "id": "1f5a5f39",
   "metadata": {},
   "outputs": [],
   "source": [
    "driver.close()"
   ]
  },
  {
   "cell_type": "markdown",
   "id": "41a8d8a5",
   "metadata": {},
   "source": [
    "Q4.Write a python program to search for a smartphone(e.g.: Oneplus Nord, pixel 4A, etc.) on www.flipkart.com and scrape following details for all the search results displayed on 1st page. Details to be scraped: “Brand Name”, “Smartphone name”, “Colour”, “RAM”, “Storage(ROM)”, “Primary Camera”, “Secondary Camera”, “Display Size”, “Battery Capacity”, “Price”, “Product URL”. Incase if any of the details is missing then replace it by “- “. Save your results in a dataframe and CSV."
   ]
  },
  {
   "cell_type": "code",
   "execution_count": 72,
   "id": "26d21c38",
   "metadata": {},
   "outputs": [],
   "source": [
    "# Let's  import all required Libraries\n",
    "import selenium\n",
    "from selenium import webdriver\n",
    "import pandas as pd\n",
    "import warnings\n",
    "warnings.filterwarnings(\"ignore\")"
   ]
  },
  {
   "cell_type": "code",
   "execution_count": 73,
   "id": "b7f33d13",
   "metadata": {},
   "outputs": [],
   "source": [
    "driver = webdriver.Chrome(r'C:\\Users\\user\\Downloads\\chromedriver_win32 (1)\\chromedriver.exe')"
   ]
  },
  {
   "cell_type": "code",
   "execution_count": 74,
   "id": "b1391d8b",
   "metadata": {},
   "outputs": [],
   "source": [
    "url = 'https://www.flipkart.com/'\n",
    "driver.get(url)"
   ]
  },
  {
   "cell_type": "code",
   "execution_count": 75,
   "id": "a97bedf2",
   "metadata": {},
   "outputs": [
    {
     "data": {
      "text/plain": [
       "<selenium.webdriver.remote.webelement.WebElement (session=\"17eddb63d873c223d42e1aa6b15d34a5\", element=\"d70a6e37-c432-4f37-b068-ae2774e76339\")>"
      ]
     },
     "execution_count": 75,
     "metadata": {},
     "output_type": "execute_result"
    }
   ],
   "source": [
    "search_product=driver.find_element(\"xpath\",\"/html/body/div[1]/div/div[1]/div[1]/div[2]/div[2]/form/div/div/input\")\n",
    "search_product"
   ]
  },
  {
   "cell_type": "code",
   "execution_count": 76,
   "id": "54d4194c",
   "metadata": {},
   "outputs": [],
   "source": [
    "search_product.send_keys('pixel')"
   ]
  },
  {
   "cell_type": "code",
   "execution_count": 77,
   "id": "c4928916",
   "metadata": {},
   "outputs": [],
   "source": [
    "search_btn=driver.find_element(\"xpath\",\"/html/body/div[1]/div/div[1]/div[1]/div[2]/div[2]/form/div/button\")\n",
    "search_btn.click()"
   ]
  },
  {
   "cell_type": "markdown",
   "id": "fae4a0d0",
   "metadata": {},
   "source": [
    "scrape details for all the search results displayed on 1st page . Details to be scraped:\n",
    "  1. brand name\n",
    "  2. smartphone name\n",
    "  3. colour\n",
    "  4. RAM\n",
    "  5. storage(ROM)\n",
    "  6. \"Primary Camera\n",
    "  7. \"secondary camera\n",
    "  8. display size\n",
    "  9. battery capacity\n",
    "  10. price\n",
    "  11. product url"
   ]
  },
  {
   "cell_type": "code",
   "execution_count": 78,
   "id": "34a3f9a3",
   "metadata": {},
   "outputs": [],
   "source": [
    " #Fetching urls of phones coming on 1st page\n",
    "\n",
    "flip_urls = []\n",
    "\n",
    "urls = driver.find_elements(By.XPATH,'//a[@class=\"_1fQZEK\"]')\n",
    "\n",
    "for url in urls:\n",
    "\n",
    "    flip_urls.append(url.get_attribute(\"href\"))\n",
    "\n",
    "    "
   ]
  },
  {
   "cell_type": "code",
   "execution_count": 79,
   "id": "30571193",
   "metadata": {
    "scrolled": true
   },
   "outputs": [
    {
     "data": {
      "text/plain": [
       "['https://www.flipkart.com/google-pixel-6a-charcoal-128-gb/p/itme5ae89135d44e?pid=MOBGFKX5YUXD74Z3&lid=LSTMOBGFKX5YUXD74Z3MXA2OB&marketplace=FLIPKART&q=pixel&store=tyy%2F4io&srno=s_1_1&otracker=search&otracker1=search&fm=organic&iid=5544d7c6-f6bb-4b2c-921c-541a0d44db83.MOBGFKX5YUXD74Z3.SEARCH&ppt=hp&ppn=homepage&ssid=17x4rpv8s00000001658997483301&qH=ab4086ecd47c568d',\n",
       " 'https://www.flipkart.com/google-pixel-4a-just-black-128-gb/p/itm023b9677aa45d?pid=MOBFUSBNAZGY7HQU&lid=LSTMOBFUSBNAZGY7HQUWHTF0C&marketplace=FLIPKART&q=pixel&store=tyy%2F4io&srno=s_1_2&otracker=search&otracker1=search&fm=organic&iid=5544d7c6-f6bb-4b2c-921c-541a0d44db83.MOBFUSBNAZGY7HQU.SEARCH&ppt=hp&ppn=homepage&ssid=17x4rpv8s00000001658997483301&qH=ab4086ecd47c568d',\n",
       " 'https://www.flipkart.com/google-pixel-3a-clearly-white-64-gb/p/itmfgk4jfgstaack?pid=MOBFFGFPJSCEXMSG&lid=LSTMOBFFGFPJSCEXMSGODGRZE&marketplace=FLIPKART&q=pixel&store=tyy%2F4io&srno=s_1_3&otracker=search&otracker1=search&fm=organic&iid=5544d7c6-f6bb-4b2c-921c-541a0d44db83.MOBFFGFPJSCEXMSG.SEARCH&ppt=hp&ppn=homepage&ssid=17x4rpv8s00000001658997483301&qH=ab4086ecd47c568d',\n",
       " 'https://www.flipkart.com/vivo-t1-44w-ice-dawn-128-gb/p/itm6fabe8894256b?pid=MOBGDRHVKYHCVG7W&lid=LSTMOBGDRHVKYHCVG7WU0WEW8&marketplace=FLIPKART&q=pixel&store=tyy%2F4io&srno=s_1_4&otracker=search&otracker1=search&fm=organic&iid=5544d7c6-f6bb-4b2c-921c-541a0d44db83.MOBGDRHVKYHCVG7W.SEARCH&ppt=hp&ppn=homepage&ssid=17x4rpv8s00000001658997483301&qH=ab4086ecd47c568d',\n",
       " 'https://www.flipkart.com/vivo-t1-44w-midnight-galaxy-128-gb/p/itm6fabe8894256b?pid=MOBGDRHVZN29ZJF4&lid=LSTMOBGDRHVZN29ZJF4QSKOSJ&marketplace=FLIPKART&q=pixel&store=tyy%2F4io&srno=s_1_5&otracker=search&otracker1=search&fm=organic&iid=5544d7c6-f6bb-4b2c-921c-541a0d44db83.MOBGDRHVZN29ZJF4.SEARCH&ppt=hp&ppn=homepage&ssid=17x4rpv8s00000001658997483301&qH=ab4086ecd47c568d',\n",
       " 'https://www.flipkart.com/vivo-t1-44w-starry-sky-128-gb/p/itm6fabe8894256b?pid=MOBGDRHVHNBBBBP5&lid=LSTMOBGDRHVHNBBBBP57SXRTY&marketplace=FLIPKART&q=pixel&store=tyy%2F4io&srno=s_1_6&otracker=search&otracker1=search&fm=organic&iid=5544d7c6-f6bb-4b2c-921c-541a0d44db83.MOBGDRHVHNBBBBP5.SEARCH&ppt=hp&ppn=homepage&ssid=17x4rpv8s00000001658997483301&qH=ab4086ecd47c568d',\n",
       " 'https://www.flipkart.com/redmi-10-prime-2022-phantom-black-64-gb/p/itm246cc3f900c93?pid=MOBG6RGHHA2DGZZY&lid=LSTMOBG6RGHHA2DGZZYBKFIKP&marketplace=FLIPKART&q=pixel&store=tyy%2F4io&srno=s_1_7&otracker=search&otracker1=search&fm=organic&iid=5544d7c6-f6bb-4b2c-921c-541a0d44db83.MOBG6RGHHA2DGZZY.SEARCH&ppt=hp&ppn=homepage&ssid=17x4rpv8s00000001658997483301&qH=ab4086ecd47c568d',\n",
       " 'https://www.flipkart.com/vivo-t1-44w-midnight-galaxy-128-gb/p/itm6fabe8894256b?pid=MOBGDRHVXFVCGS23&lid=LSTMOBGDRHVXFVCGS23RDLBPG&marketplace=FLIPKART&q=pixel&store=tyy%2F4io&srno=s_1_8&otracker=search&otracker1=search&fm=organic&iid=5544d7c6-f6bb-4b2c-921c-541a0d44db83.MOBGDRHVXFVCGS23.SEARCH&ppt=hp&ppn=homepage&ssid=17x4rpv8s00000001658997483301&qH=ab4086ecd47c568d',\n",
       " 'https://www.flipkart.com/vivo-t1-44w-starry-sky-128-gb/p/itm6fabe8894256b?pid=MOBGDRHVMW2UDXZY&lid=LSTMOBGDRHVMW2UDXZYRBYUFR&marketplace=FLIPKART&q=pixel&store=tyy%2F4io&srno=s_1_9&otracker=search&otracker1=search&fm=organic&iid=5544d7c6-f6bb-4b2c-921c-541a0d44db83.MOBGDRHVMW2UDXZY.SEARCH&ppt=hp&ppn=homepage&ssid=17x4rpv8s00000001658997483301&qH=ab4086ecd47c568d',\n",
       " 'https://www.flipkart.com/infinix-smart-6-light-sea-green-64-gb/p/itmd4041ce33d262?pid=MOBGDC6HQJZKSX3K&lid=LSTMOBGDC6HQJZKSX3KUVADVY&marketplace=FLIPKART&q=pixel&store=tyy%2F4io&srno=s_1_10&otracker=search&otracker1=search&fm=organic&iid=5544d7c6-f6bb-4b2c-921c-541a0d44db83.MOBGDC6HQJZKSX3K.SEARCH&ppt=hp&ppn=homepage&ssid=17x4rpv8s00000001658997483301&qH=ab4086ecd47c568d',\n",
       " 'https://www.flipkart.com/infinix-smart-6-heart-ocean-64-gb/p/itmd4041ce33d262?pid=MOBGDC6HN5VTU6RR&lid=LSTMOBGDC6HN5VTU6RRUSMZV8&marketplace=FLIPKART&q=pixel&store=tyy%2F4io&srno=s_1_11&otracker=search&otracker1=search&fm=organic&iid=5544d7c6-f6bb-4b2c-921c-541a0d44db83.MOBGDC6HN5VTU6RR.SEARCH&ppt=hp&ppn=homepage&ssid=17x4rpv8s00000001658997483301&qH=ab4086ecd47c568d',\n",
       " 'https://www.flipkart.com/infinix-smart-6-starry-purple-64-gb/p/itmd4041ce33d262?pid=MOBGDC6HFGCW5PGF&lid=LSTMOBGDC6HFGCW5PGFFKFQIM&marketplace=FLIPKART&q=pixel&store=tyy%2F4io&srno=s_1_12&otracker=search&otracker1=search&fm=organic&iid=5544d7c6-f6bb-4b2c-921c-541a0d44db83.MOBGDC6HFGCW5PGF.SEARCH&ppt=hp&ppn=homepage&ssid=17x4rpv8s00000001658997483301&qH=ab4086ecd47c568d',\n",
       " 'https://www.flipkart.com/redmi-9a-sport-metallic-blue-32-gb/p/itm53bc6ebfe147b?pid=MOBG7GY6GGZ8XZGM&lid=LSTMOBG7GY6GGZ8XZGME39CNY&marketplace=FLIPKART&q=pixel&store=tyy%2F4io&srno=s_1_13&otracker=search&otracker1=search&fm=organic&iid=5544d7c6-f6bb-4b2c-921c-541a0d44db83.MOBG7GY6GGZ8XZGM.SEARCH&ppt=hp&ppn=homepage&ssid=17x4rpv8s00000001658997483301&qH=ab4086ecd47c568d',\n",
       " 'https://www.flipkart.com/redmi-9a-sport-coral-green-32-gb/p/itm53bc6ebfe147b?pid=MOBG7CHHZ2MUWAZ4&lid=LSTMOBG7CHHZ2MUWAZ4NGTR4G&marketplace=FLIPKART&q=pixel&store=tyy%2F4io&srno=s_1_14&otracker=search&otracker1=search&fm=organic&iid=5544d7c6-f6bb-4b2c-921c-541a0d44db83.MOBG7CHHZ2MUWAZ4.SEARCH&ppt=hp&ppn=homepage&ssid=17x4rpv8s00000001658997483301&qH=ab4086ecd47c568d',\n",
       " 'https://www.flipkart.com/redmi-9a-sport-metallic-blue-32-gb/p/itm53bc6ebfe147b?pid=MOBG7H8GFGZPYUFH&lid=LSTMOBG7H8GFGZPYUFHNXKCJA&marketplace=FLIPKART&q=pixel&store=tyy%2F4io&srno=s_1_15&otracker=search&otracker1=search&fm=organic&iid=5544d7c6-f6bb-4b2c-921c-541a0d44db83.MOBG7H8GFGZPYUFH.SEARCH&ppt=hp&ppn=homepage&ssid=17x4rpv8s00000001658997483301&qH=ab4086ecd47c568d',\n",
       " 'https://www.flipkart.com/redmi-9a-sport-carbon-black-32-gb/p/itm53bc6ebfe147b?pid=MOBG7DGGNP5N2RXH&lid=LSTMOBG7DGGNP5N2RXHW6FAAI&marketplace=FLIPKART&q=pixel&store=tyy%2F4io&srno=s_1_16&otracker=search&otracker1=search&fm=organic&iid=5544d7c6-f6bb-4b2c-921c-541a0d44db83.MOBG7DGGNP5N2RXH.SEARCH&ppt=hp&ppn=homepage&ssid=17x4rpv8s00000001658997483301&qH=ab4086ecd47c568d',\n",
       " 'https://www.flipkart.com/redmi-note-11-horizon-blue-128-gb/p/itm2a388ca843b21?pid=MOBGBGAMRJGHTKUM&lid=LSTMOBGBGAMRJGHTKUM4JSEVW&marketplace=FLIPKART&q=pixel&store=tyy%2F4io&srno=s_1_17&otracker=search&otracker1=search&fm=organic&iid=5544d7c6-f6bb-4b2c-921c-541a0d44db83.MOBGBGAMRJGHTKUM.SEARCH&ppt=hp&ppn=homepage&ssid=17x4rpv8s00000001658997483301&qH=ab4086ecd47c568d',\n",
       " 'https://www.flipkart.com/vivo-t1-44w-starry-sky-128-gb/p/itm6fabe8894256b?pid=MOBGDRHVHYFKQP8K&lid=LSTMOBGDRHVHYFKQP8KYHDDNN&marketplace=FLIPKART&q=pixel&store=tyy%2F4io&srno=s_1_18&otracker=search&otracker1=search&fm=organic&iid=5544d7c6-f6bb-4b2c-921c-541a0d44db83.MOBGDRHVHYFKQP8K.SEARCH&ppt=hp&ppn=homepage&ssid=17x4rpv8s00000001658997483301&qH=ab4086ecd47c568d',\n",
       " 'https://www.flipkart.com/vivo-t1-44w-midnight-galaxy-128-gb/p/itm6fabe8894256b?pid=MOBGDRHVWJUFTYQJ&lid=LSTMOBGDRHVWJUFTYQJ7NGITG&marketplace=FLIPKART&q=pixel&store=tyy%2F4io&srno=s_1_19&otracker=search&otracker1=search&fm=organic&iid=5544d7c6-f6bb-4b2c-921c-541a0d44db83.MOBGDRHVWJUFTYQJ.SEARCH&ppt=hp&ppn=homepage&ssid=17x4rpv8s00000001658997483301&qH=ab4086ecd47c568d',\n",
       " 'https://www.flipkart.com/redmi-9a-sport-coral-green-32-gb/p/itm53bc6ebfe147b?pid=MOBG7CJZZRCJ3XHG&lid=LSTMOBG7CJZZRCJ3XHGHERKPZ&marketplace=FLIPKART&q=pixel&store=tyy%2F4io&srno=s_1_20&otracker=search&otracker1=search&fm=organic&iid=5544d7c6-f6bb-4b2c-921c-541a0d44db83.MOBG7CJZZRCJ3XHG.SEARCH&ppt=hp&ppn=homepage&ssid=17x4rpv8s00000001658997483301&qH=ab4086ecd47c568d',\n",
       " 'https://www.flipkart.com/infinix-smart-6-polar-black-64-gb/p/itmd4041ce33d262?pid=MOBGDC6HZHYVX96A&lid=LSTMOBGDC6HZHYVX96AHNLOZE&marketplace=FLIPKART&q=pixel&store=tyy%2F4io&srno=s_1_21&otracker=search&otracker1=search&fm=organic&iid=5544d7c6-f6bb-4b2c-921c-541a0d44db83.MOBGDC6HZHYVX96A.SEARCH&ppt=hp&ppn=homepage&ssid=17x4rpv8s00000001658997483301&qH=ab4086ecd47c568d',\n",
       " 'https://www.flipkart.com/oneplus-nord-ce-2-lite-5g-black-dusk-128-gb/p/itm7acae55b999e6?pid=MOBGDWF8GJTFAXVH&lid=LSTMOBGDWF8GJTFAXVHVXP5XH&marketplace=FLIPKART&q=pixel&store=tyy%2F4io&srno=s_1_22&otracker=search&otracker1=search&fm=organic&iid=5544d7c6-f6bb-4b2c-921c-541a0d44db83.MOBGDWF8GJTFAXVH.SEARCH&ppt=hp&ppn=homepage&ssid=17x4rpv8s00000001658997483301&qH=ab4086ecd47c568d',\n",
       " 'https://www.flipkart.com/redmi-10-prime-phantom-black-128-gb/p/itm9377b4c936baa?pid=MOBG6RGPPXQFYJ4R&lid=LSTMOBG6RGPPXQFYJ4RWCMAMX&marketplace=FLIPKART&q=pixel&store=tyy%2F4io&srno=s_1_23&otracker=search&otracker1=search&fm=organic&iid=5544d7c6-f6bb-4b2c-921c-541a0d44db83.MOBG6RGPPXQFYJ4R.SEARCH&ppt=hp&ppn=homepage&ssid=17x4rpv8s00000001658997483301&qH=ab4086ecd47c568d',\n",
       " 'https://www.flipkart.com/redmi-10-prime-2022-bifrost-blue-64-gb/p/itm0dba6cb74e8da?pid=MOBG6RGHNFKZUPRE&lid=LSTMOBG6RGHNFKZUPREJEY5NU&marketplace=FLIPKART&q=pixel&store=tyy%2F4io&srno=s_1_24&otracker=search&otracker1=search&fm=organic&iid=5544d7c6-f6bb-4b2c-921c-541a0d44db83.MOBG6RGHNFKZUPRE.SEARCH&ppt=hp&ppn=homepage&ssid=17x4rpv8s00000001658997483301&qH=ab4086ecd47c568d']"
      ]
     },
     "execution_count": 79,
     "metadata": {},
     "output_type": "execute_result"
    }
   ],
   "source": [
    "flip_urls"
   ]
  },
  {
   "cell_type": "code",
   "execution_count": 80,
   "id": "71df9be0",
   "metadata": {},
   "outputs": [],
   "source": [
    "brand_name=[]\n",
    "\n",
    "for i in flip_urls[0:24]:\n",
    "    driver.get(i)\n",
    "    time.sleep(5)\n",
    "    try:\n",
    "        name = driver.find_element(By.XPATH,'/html/body/div[1]/div/div[3]/div[1]/div[2]/div[2]/div/div/div/a')\n",
    "        brand_name.append(name.text)\n",
    "    except  NoSuchElementException  :\n",
    "        brand_name.append('NotPresent')"
   ]
  },
  {
   "cell_type": "code",
   "execution_count": 81,
   "id": "5ebec004",
   "metadata": {},
   "outputs": [
    {
     "data": {
      "text/plain": [
       "24"
      ]
     },
     "execution_count": 81,
     "metadata": {},
     "output_type": "execute_result"
    }
   ],
   "source": [
    "len(brand_name)"
   ]
  },
  {
   "cell_type": "code",
   "execution_count": 82,
   "id": "cfbb03e7",
   "metadata": {},
   "outputs": [
    {
     "data": {
      "text/plain": [
       "['NotPresent',\n",
       " 'NotPresent',\n",
       " 'NotPresent',\n",
       " 'NotPresent',\n",
       " 'NotPresent',\n",
       " 'NotPresent',\n",
       " 'NotPresent',\n",
       " 'NotPresent',\n",
       " 'NotPresent',\n",
       " 'NotPresent',\n",
       " 'NotPresent',\n",
       " 'NotPresent',\n",
       " 'NotPresent',\n",
       " 'NotPresent',\n",
       " 'NotPresent',\n",
       " 'NotPresent',\n",
       " 'NotPresent',\n",
       " 'NotPresent',\n",
       " 'NotPresent',\n",
       " 'NotPresent',\n",
       " 'NotPresent',\n",
       " 'NotPresent',\n",
       " 'NotPresent',\n",
       " 'NotPresent']"
      ]
     },
     "execution_count": 82,
     "metadata": {},
     "output_type": "execute_result"
    }
   ],
   "source": [
    "brand_name"
   ]
  },
  {
   "cell_type": "code",
   "execution_count": 85,
   "id": "ad63c5a4",
   "metadata": {},
   "outputs": [
    {
     "data": {
      "text/plain": [
       "24"
      ]
     },
     "execution_count": 85,
     "metadata": {},
     "output_type": "execute_result"
    }
   ],
   "source": [
    "smartphone_name_colour=[]\n",
    "\n",
    "smartphone_and_colour=driver.find_elements(\"xpath\",'//div[@class=\"_4rR01T\"]')\n",
    "for i in smartphone_and_colour:\n",
    "    smartphone_name_colour.append(i.text)\n",
    "len(smartphone_name_colour)    "
   ]
  },
  {
   "cell_type": "code",
   "execution_count": 86,
   "id": "88e6f025",
   "metadata": {},
   "outputs": [
    {
     "data": {
      "text/plain": [
       "['Google Pixel 6a (Charcoal, 128 GB)',\n",
       " 'Google Pixel 4a (Just Black, 128 GB)',\n",
       " 'Google Pixel 3a (Clearly White, 64 GB)',\n",
       " 'vivo T1 44W (Ice Dawn, 128 GB)',\n",
       " 'vivo T1 44W (Starry Sky, 128 GB)',\n",
       " 'vivo T1 44W (Midnight Galaxy, 128 GB)',\n",
       " 'REDMI 10 PRIME 2022 (Phantom Black, 64 GB)',\n",
       " 'vivo T1 44W (Midnight Galaxy, 128 GB)',\n",
       " 'vivo T1 44W (Starry Sky, 128 GB)',\n",
       " 'Infinix Smart 6 (Light Sea Green, 64 GB)',\n",
       " 'Infinix Smart 6 (Heart Of Ocean, 64 GB)',\n",
       " 'Infinix Smart 6 (Starry Purple, 64 GB)',\n",
       " 'REDMI 10A (Charcoal Black, 32 GB)',\n",
       " 'Redmi 9A Sport (Coral Green, 32 GB)',\n",
       " 'Redmi 9A Sport (Metallic Blue, 32 GB)',\n",
       " 'Redmi 9A Sport (Coral Green, 32 GB)',\n",
       " 'Redmi 9A Sport (Metallic Blue, 32 GB)',\n",
       " 'Redmi 9A Sport (Carbon Black, 32 GB)',\n",
       " 'Redmi Note 11 (Horizon Blue, 128 GB)',\n",
       " 'vivo T1 44W (Starry Sky, 128 GB)',\n",
       " 'Infinix Smart 6 (Polar Black, 64 GB)',\n",
       " 'OnePlus Nord CE 2 Lite 5G (Black Dusk, 128 GB)',\n",
       " 'REDMI 10 Prime (Phantom Black, 128 GB)',\n",
       " 'REDMI Note 11T 5G (Matte black, 128 GB)']"
      ]
     },
     "execution_count": 86,
     "metadata": {},
     "output_type": "execute_result"
    }
   ],
   "source": [
    "smartphone_name_colour"
   ]
  },
  {
   "cell_type": "code",
   "execution_count": 91,
   "id": "c03069b6",
   "metadata": {},
   "outputs": [
    {
     "data": {
      "text/plain": [
       "143"
      ]
     },
     "execution_count": 91,
     "metadata": {},
     "output_type": "execute_result"
    }
   ],
   "source": [
    "Others_Details=[]\n",
    "\n",
    "other_details=driver.find_elements(\"xpath\",'//li[@class=\"rgWa7D\"]')\n",
    "for i in other_details:\n",
    "    Others_Details.append(i.text)\n",
    "    \n",
    "len(Others_Details) "
   ]
  },
  {
   "cell_type": "code",
   "execution_count": 93,
   "id": "ec96a6dd",
   "metadata": {},
   "outputs": [
    {
     "data": {
      "text/plain": [
       "['6 GB RAM | 128 GB ROM',\n",
       " '15.6 cm (6.14 inch) Full HD+ Display',\n",
       " '12.2MP + 12MP | 8MP Front Camera',\n",
       " '4410 mAh Battery',\n",
       " 'Google Tensor Processor',\n",
       " '1 Year Brand Warranty',\n",
       " '6 GB RAM | 128 GB ROM',\n",
       " '14.76 cm (5.81 inch) Full HD+ Display',\n",
       " '12.2MP Rear Camera | 8MP Front Camera',\n",
       " '3140 mAh Battery',\n",
       " 'Qualcomm Snapdragon 730G Processor',\n",
       " 'OLED Display',\n",
       " '1 Year Warranty',\n",
       " '4 GB RAM | 64 GB ROM',\n",
       " '14.22 cm (5.6 inch) Full HD+ Display',\n",
       " '12.2MP Rear Camera | 8MP Front Camera',\n",
       " '3000 mAh Battery',\n",
       " 'Qualcomm Snapdragon 670 Processor',\n",
       " 'eSIM Compatible',\n",
       " 'Brand Warranty of 1 Year Available for Mobile',\n",
       " '4 GB RAM | 128 GB ROM | Expandable Upto 1 TB',\n",
       " '16.36 cm (6.44 inch) Full HD+ AMOLED Display',\n",
       " '50MP + 2MP + 2MP | 16MP Front Camera',\n",
       " '5000 mAh Lithium Battery',\n",
       " 'Qualcomm Snapdragon 680 Processor',\n",
       " '1 Year Handset and 6 Months Accessories',\n",
       " '4 GB RAM | 128 GB ROM | Expandable Upto 1 TB',\n",
       " '16.36 cm (6.44 inch) Full HD+ AMOLED Display',\n",
       " '50MP + 2MP + 2MP | 16MP Front Camera',\n",
       " '5000 mAh Lithium Battery',\n",
       " 'Qualcomm Snapdragon 680 Processor',\n",
       " '1 Year Handset and 6 Months Accessories',\n",
       " '4 GB RAM | 128 GB ROM | Expandable Upto 1 TB',\n",
       " '16.36 cm (6.44 inch) Full HD+ AMOLED Display',\n",
       " '50MP + 2MP + 2MP | 16MP Front Camera',\n",
       " '5000 mAh Lithium Battery',\n",
       " 'Qualcomm Snapdragon 680 Processor',\n",
       " '1 Year Handset and 6 Months Accessories',\n",
       " '4 GB RAM | 64 GB ROM | Expandable Upto 512 GB',\n",
       " '16.51 cm (6.5 inch) Full HD Display',\n",
       " '50MP + 8MP + 2MP + 2MP | 8MP Front Camera',\n",
       " '6000 mAh Battery',\n",
       " 'Helio G88 Processor',\n",
       " '1 Year Manufacturer Warranty for Handset and 6 Months Warranty for In the Box Accessories',\n",
       " '6 GB RAM | 128 GB ROM | Expandable Upto 1 TB',\n",
       " '16.36 cm (6.44 inch) Full HD+ AMOLED Display',\n",
       " '50MP + 2MP + 2MP | 16MP Front Camera',\n",
       " '5000 mAh Lithium Battery',\n",
       " 'Qualcomm Snapdragon 680 Processor',\n",
       " '1 Year Handset and 6 Months Accessories',\n",
       " '6 GB RAM | 128 GB ROM | Expandable Upto 1 TB',\n",
       " '16.36 cm (6.44 inch) Full HD+ AMOLED Display',\n",
       " '50MP + 2MP + 2MP | 16MP Front Camera',\n",
       " '5000 mAh Lithium Battery',\n",
       " 'Qualcomm Snapdragon 680 Processor',\n",
       " '1 Year Handset and 6 Months Accessories',\n",
       " '2 GB RAM | 64 GB ROM | Expandable Upto 512 GB',\n",
       " '16.76 cm (6.6 inch) HD+ Display',\n",
       " '8 MP + Depth Lens | 5MP Front Camera',\n",
       " '5000 mAh Li-ion Polymer Battery',\n",
       " 'Mediatek Helio A22 Processor',\n",
       " '1 Year on Handset and 6 Months on Accessories',\n",
       " '2 GB RAM | 64 GB ROM | Expandable Upto 512 GB',\n",
       " '16.76 cm (6.6 inch) HD+ Display',\n",
       " '8 MP + Depth Lens | 5MP Front Camera',\n",
       " '5000 mAh Li-ion Polymer Battery',\n",
       " 'Mediatek Helio A22 Processor',\n",
       " '1 Year on Handset and 6 Months on Accessories',\n",
       " '2 GB RAM | 64 GB ROM | Expandable Upto 512 GB',\n",
       " '16.76 cm (6.6 inch) HD+ Display',\n",
       " '8 MP + Depth Lens | 5MP Front Camera',\n",
       " '5000 mAh Li-ion Polymer Battery',\n",
       " 'Mediatek Helio A22 Processor',\n",
       " '1 Year on Handset and 6 Months on Accessories',\n",
       " '3 GB RAM | 32 GB ROM',\n",
       " '16.59 cm (6.53 inch) Display',\n",
       " '13MP Rear Camera',\n",
       " '5000 mAh Battery',\n",
       " '12 months',\n",
       " '3 GB RAM | 32 GB ROM | Expandable Upto 512 GB',\n",
       " '16.59 cm (6.53 inch) HD+ Display',\n",
       " '13MP Rear Camera | 5MP Front Camera',\n",
       " '5000 mAh Battery',\n",
       " 'MediaTek Helio G25 Processor',\n",
       " '1 year manufacturer warranty for device and 6 months manufacturer warranty for in-box accessories including batteries from the date of purchase',\n",
       " '2 GB RAM | 32 GB ROM | Expandable Upto 512 GB',\n",
       " '16.59 cm (6.53 inch) HD+ Display',\n",
       " '13MP Rear Camera | 5MP Front Camera',\n",
       " '5000 mAh Battery',\n",
       " 'MediaTek Helio G25 Processor',\n",
       " '1 year manufacturer warranty for device and 6 months manufacturer warranty for in-box accessories including batteries from the date of purchase',\n",
       " '2 GB RAM | 32 GB ROM | Expandable Upto 512 GB',\n",
       " '16.59 cm (6.53 inch) HD+ Display',\n",
       " '13MP Rear Camera | 5MP Front Camera',\n",
       " '5000 mAh Battery',\n",
       " 'MediaTek Helio G25 Processor',\n",
       " '1 year manufacturer warranty for device and 6 months manufacturer warranty for in-box accessories including batteries from the date of purchase',\n",
       " '3 GB RAM | 32 GB ROM | Expandable Upto 512 GB',\n",
       " '16.59 cm (6.53 inch) HD+ Display',\n",
       " '13MP Rear Camera | 5MP Front Camera',\n",
       " '5000 mAh Battery',\n",
       " 'MediaTek Helio G25 Processor',\n",
       " '1 year manufacturer warranty for device and 6 months manufacturer warranty for in-box accessories including batteries from the date of purchase',\n",
       " '2 GB RAM | 32 GB ROM | Expandable Upto 512 GB',\n",
       " '16.59 cm (6.53 inch) HD+ Display',\n",
       " '13MP Rear Camera | 5MP Front Camera',\n",
       " '5000 mAh Battery',\n",
       " 'MediaTek Helio G25 Processor',\n",
       " '1 year manufacturer warranty for device and 6 months manufacturer warranty for in-box accessories including batteries from the date of purchase',\n",
       " '6 GB RAM | 128 GB ROM',\n",
       " '16.33 cm (6.43 inch) Display',\n",
       " '50MP Rear Camera',\n",
       " '5000 mAh Battery',\n",
       " '12 months',\n",
       " '8 GB RAM | 128 GB ROM | Expandable Upto 1 TB',\n",
       " '16.36 cm (6.44 inch) Full HD+ AMOLED Display',\n",
       " '50MP + 2MP + 2MP | 16MP Front Camera',\n",
       " '5000 mAh Lithium Battery',\n",
       " 'Qualcomm Snapdragon 680 Processor',\n",
       " '1 Year Handset and 6 Months Accessories',\n",
       " '2 GB RAM | 64 GB ROM | Expandable Upto 512 GB',\n",
       " '16.76 cm (6.6 inch) HD+ Display',\n",
       " '8 MP + Depth Lens | 5MP Front Camera',\n",
       " '5000 mAh Li-ion Polymer Battery',\n",
       " 'Mediatek Helio A22 Processor',\n",
       " '1 Year on Handset and 6 Months on Accessories',\n",
       " '6 GB RAM | 128 GB ROM',\n",
       " '16.74 cm (6.59 inch) Display',\n",
       " '64MP Rear Camera',\n",
       " '5000 mAh Battery',\n",
       " '12 months',\n",
       " '6 GB RAM | 128 GB ROM | Expandable Upto 512 GB',\n",
       " '16.51 cm (6.5 inch) Full HD Display',\n",
       " '50MP + 8MP + 2MP + 2MP | 8MP Front Camera',\n",
       " '6000 mAh Battery',\n",
       " 'Helio G88 Processor',\n",
       " '1 Year Manufacturer Warranty for Handset and 6 Months Warranty for In the Box Accessories',\n",
       " '6 GB RAM | 128 GB ROM',\n",
       " '16.76 cm (6.6 inch) Display',\n",
       " '50MP Rear Camera',\n",
       " '5000 mAh Battery',\n",
       " 'Octa Core Processor',\n",
       " '12 months']"
      ]
     },
     "execution_count": 93,
     "metadata": {},
     "output_type": "execute_result"
    }
   ],
   "source": [
    "Others_Details"
   ]
  },
  {
   "cell_type": "code",
   "execution_count": null,
   "id": "867b76bf",
   "metadata": {},
   "outputs": [],
   "source": []
  },
  {
   "cell_type": "code",
   "execution_count": 95,
   "id": "2dcf3b30",
   "metadata": {},
   "outputs": [
    {
     "data": {
      "text/plain": [
       "(24, 24, 24, 143)"
      ]
     },
     "execution_count": 95,
     "metadata": {},
     "output_type": "execute_result"
    }
   ],
   "source": [
    "len(flip_urls),len(brand_name),len(smartphone_name_colour),len(Others_Details)"
   ]
  },
  {
   "cell_type": "code",
   "execution_count": 99,
   "id": "37f0be77",
   "metadata": {},
   "outputs": [
    {
     "data": {
      "text/html": [
       "<div>\n",
       "<style scoped>\n",
       "    .dataframe tbody tr th:only-of-type {\n",
       "        vertical-align: middle;\n",
       "    }\n",
       "\n",
       "    .dataframe tbody tr th {\n",
       "        vertical-align: top;\n",
       "    }\n",
       "\n",
       "    .dataframe thead th {\n",
       "        text-align: right;\n",
       "    }\n",
       "</style>\n",
       "<table border=\"1\" class=\"dataframe\">\n",
       "  <thead>\n",
       "    <tr style=\"text-align: right;\">\n",
       "      <th></th>\n",
       "      <th>Product url</th>\n",
       "      <th>Brand name</th>\n",
       "      <th>Smartphone name and Colour</th>\n",
       "    </tr>\n",
       "  </thead>\n",
       "  <tbody>\n",
       "    <tr>\n",
       "      <th>0</th>\n",
       "      <td>https://www.flipkart.com/google-pixel-6a-charc...</td>\n",
       "      <td>NotPresent</td>\n",
       "      <td>Google Pixel 6a (Charcoal, 128 GB)</td>\n",
       "    </tr>\n",
       "    <tr>\n",
       "      <th>1</th>\n",
       "      <td>https://www.flipkart.com/google-pixel-4a-just-...</td>\n",
       "      <td>NotPresent</td>\n",
       "      <td>Google Pixel 4a (Just Black, 128 GB)</td>\n",
       "    </tr>\n",
       "    <tr>\n",
       "      <th>2</th>\n",
       "      <td>https://www.flipkart.com/google-pixel-3a-clear...</td>\n",
       "      <td>NotPresent</td>\n",
       "      <td>Google Pixel 3a (Clearly White, 64 GB)</td>\n",
       "    </tr>\n",
       "    <tr>\n",
       "      <th>3</th>\n",
       "      <td>https://www.flipkart.com/vivo-t1-44w-ice-dawn-...</td>\n",
       "      <td>NotPresent</td>\n",
       "      <td>vivo T1 44W (Ice Dawn, 128 GB)</td>\n",
       "    </tr>\n",
       "    <tr>\n",
       "      <th>4</th>\n",
       "      <td>https://www.flipkart.com/vivo-t1-44w-midnight-...</td>\n",
       "      <td>NotPresent</td>\n",
       "      <td>vivo T1 44W (Starry Sky, 128 GB)</td>\n",
       "    </tr>\n",
       "    <tr>\n",
       "      <th>5</th>\n",
       "      <td>https://www.flipkart.com/vivo-t1-44w-starry-sk...</td>\n",
       "      <td>NotPresent</td>\n",
       "      <td>vivo T1 44W (Midnight Galaxy, 128 GB)</td>\n",
       "    </tr>\n",
       "    <tr>\n",
       "      <th>6</th>\n",
       "      <td>https://www.flipkart.com/redmi-10-prime-2022-p...</td>\n",
       "      <td>NotPresent</td>\n",
       "      <td>REDMI 10 PRIME 2022 (Phantom Black, 64 GB)</td>\n",
       "    </tr>\n",
       "    <tr>\n",
       "      <th>7</th>\n",
       "      <td>https://www.flipkart.com/vivo-t1-44w-midnight-...</td>\n",
       "      <td>NotPresent</td>\n",
       "      <td>vivo T1 44W (Midnight Galaxy, 128 GB)</td>\n",
       "    </tr>\n",
       "    <tr>\n",
       "      <th>8</th>\n",
       "      <td>https://www.flipkart.com/vivo-t1-44w-starry-sk...</td>\n",
       "      <td>NotPresent</td>\n",
       "      <td>vivo T1 44W (Starry Sky, 128 GB)</td>\n",
       "    </tr>\n",
       "    <tr>\n",
       "      <th>9</th>\n",
       "      <td>https://www.flipkart.com/infinix-smart-6-light...</td>\n",
       "      <td>NotPresent</td>\n",
       "      <td>Infinix Smart 6 (Light Sea Green, 64 GB)</td>\n",
       "    </tr>\n",
       "    <tr>\n",
       "      <th>10</th>\n",
       "      <td>https://www.flipkart.com/infinix-smart-6-heart...</td>\n",
       "      <td>NotPresent</td>\n",
       "      <td>Infinix Smart 6 (Heart Of Ocean, 64 GB)</td>\n",
       "    </tr>\n",
       "    <tr>\n",
       "      <th>11</th>\n",
       "      <td>https://www.flipkart.com/infinix-smart-6-starr...</td>\n",
       "      <td>NotPresent</td>\n",
       "      <td>Infinix Smart 6 (Starry Purple, 64 GB)</td>\n",
       "    </tr>\n",
       "    <tr>\n",
       "      <th>12</th>\n",
       "      <td>https://www.flipkart.com/redmi-9a-sport-metall...</td>\n",
       "      <td>NotPresent</td>\n",
       "      <td>REDMI 10A (Charcoal Black, 32 GB)</td>\n",
       "    </tr>\n",
       "    <tr>\n",
       "      <th>13</th>\n",
       "      <td>https://www.flipkart.com/redmi-9a-sport-coral-...</td>\n",
       "      <td>NotPresent</td>\n",
       "      <td>Redmi 9A Sport (Coral Green, 32 GB)</td>\n",
       "    </tr>\n",
       "    <tr>\n",
       "      <th>14</th>\n",
       "      <td>https://www.flipkart.com/redmi-9a-sport-metall...</td>\n",
       "      <td>NotPresent</td>\n",
       "      <td>Redmi 9A Sport (Metallic Blue, 32 GB)</td>\n",
       "    </tr>\n",
       "    <tr>\n",
       "      <th>15</th>\n",
       "      <td>https://www.flipkart.com/redmi-9a-sport-carbon...</td>\n",
       "      <td>NotPresent</td>\n",
       "      <td>Redmi 9A Sport (Coral Green, 32 GB)</td>\n",
       "    </tr>\n",
       "    <tr>\n",
       "      <th>16</th>\n",
       "      <td>https://www.flipkart.com/redmi-note-11-horizon...</td>\n",
       "      <td>NotPresent</td>\n",
       "      <td>Redmi 9A Sport (Metallic Blue, 32 GB)</td>\n",
       "    </tr>\n",
       "    <tr>\n",
       "      <th>17</th>\n",
       "      <td>https://www.flipkart.com/vivo-t1-44w-starry-sk...</td>\n",
       "      <td>NotPresent</td>\n",
       "      <td>Redmi 9A Sport (Carbon Black, 32 GB)</td>\n",
       "    </tr>\n",
       "    <tr>\n",
       "      <th>18</th>\n",
       "      <td>https://www.flipkart.com/vivo-t1-44w-midnight-...</td>\n",
       "      <td>NotPresent</td>\n",
       "      <td>Redmi Note 11 (Horizon Blue, 128 GB)</td>\n",
       "    </tr>\n",
       "    <tr>\n",
       "      <th>19</th>\n",
       "      <td>https://www.flipkart.com/redmi-9a-sport-coral-...</td>\n",
       "      <td>NotPresent</td>\n",
       "      <td>vivo T1 44W (Starry Sky, 128 GB)</td>\n",
       "    </tr>\n",
       "    <tr>\n",
       "      <th>20</th>\n",
       "      <td>https://www.flipkart.com/infinix-smart-6-polar...</td>\n",
       "      <td>NotPresent</td>\n",
       "      <td>Infinix Smart 6 (Polar Black, 64 GB)</td>\n",
       "    </tr>\n",
       "    <tr>\n",
       "      <th>21</th>\n",
       "      <td>https://www.flipkart.com/oneplus-nord-ce-2-lit...</td>\n",
       "      <td>NotPresent</td>\n",
       "      <td>OnePlus Nord CE 2 Lite 5G (Black Dusk, 128 GB)</td>\n",
       "    </tr>\n",
       "    <tr>\n",
       "      <th>22</th>\n",
       "      <td>https://www.flipkart.com/redmi-10-prime-phanto...</td>\n",
       "      <td>NotPresent</td>\n",
       "      <td>REDMI 10 Prime (Phantom Black, 128 GB)</td>\n",
       "    </tr>\n",
       "    <tr>\n",
       "      <th>23</th>\n",
       "      <td>https://www.flipkart.com/redmi-10-prime-2022-b...</td>\n",
       "      <td>NotPresent</td>\n",
       "      <td>REDMI Note 11T 5G (Matte black, 128 GB)</td>\n",
       "    </tr>\n",
       "  </tbody>\n",
       "</table>\n",
       "</div>"
      ],
      "text/plain": [
       "                                          Product url  Brand name  \\\n",
       "0   https://www.flipkart.com/google-pixel-6a-charc...  NotPresent   \n",
       "1   https://www.flipkart.com/google-pixel-4a-just-...  NotPresent   \n",
       "2   https://www.flipkart.com/google-pixel-3a-clear...  NotPresent   \n",
       "3   https://www.flipkart.com/vivo-t1-44w-ice-dawn-...  NotPresent   \n",
       "4   https://www.flipkart.com/vivo-t1-44w-midnight-...  NotPresent   \n",
       "5   https://www.flipkart.com/vivo-t1-44w-starry-sk...  NotPresent   \n",
       "6   https://www.flipkart.com/redmi-10-prime-2022-p...  NotPresent   \n",
       "7   https://www.flipkart.com/vivo-t1-44w-midnight-...  NotPresent   \n",
       "8   https://www.flipkart.com/vivo-t1-44w-starry-sk...  NotPresent   \n",
       "9   https://www.flipkart.com/infinix-smart-6-light...  NotPresent   \n",
       "10  https://www.flipkart.com/infinix-smart-6-heart...  NotPresent   \n",
       "11  https://www.flipkart.com/infinix-smart-6-starr...  NotPresent   \n",
       "12  https://www.flipkart.com/redmi-9a-sport-metall...  NotPresent   \n",
       "13  https://www.flipkart.com/redmi-9a-sport-coral-...  NotPresent   \n",
       "14  https://www.flipkart.com/redmi-9a-sport-metall...  NotPresent   \n",
       "15  https://www.flipkart.com/redmi-9a-sport-carbon...  NotPresent   \n",
       "16  https://www.flipkart.com/redmi-note-11-horizon...  NotPresent   \n",
       "17  https://www.flipkart.com/vivo-t1-44w-starry-sk...  NotPresent   \n",
       "18  https://www.flipkart.com/vivo-t1-44w-midnight-...  NotPresent   \n",
       "19  https://www.flipkart.com/redmi-9a-sport-coral-...  NotPresent   \n",
       "20  https://www.flipkart.com/infinix-smart-6-polar...  NotPresent   \n",
       "21  https://www.flipkart.com/oneplus-nord-ce-2-lit...  NotPresent   \n",
       "22  https://www.flipkart.com/redmi-10-prime-phanto...  NotPresent   \n",
       "23  https://www.flipkart.com/redmi-10-prime-2022-b...  NotPresent   \n",
       "\n",
       "                        Smartphone name and Colour  \n",
       "0               Google Pixel 6a (Charcoal, 128 GB)  \n",
       "1             Google Pixel 4a (Just Black, 128 GB)  \n",
       "2           Google Pixel 3a (Clearly White, 64 GB)  \n",
       "3                   vivo T1 44W (Ice Dawn, 128 GB)  \n",
       "4                 vivo T1 44W (Starry Sky, 128 GB)  \n",
       "5            vivo T1 44W (Midnight Galaxy, 128 GB)  \n",
       "6       REDMI 10 PRIME 2022 (Phantom Black, 64 GB)  \n",
       "7            vivo T1 44W (Midnight Galaxy, 128 GB)  \n",
       "8                 vivo T1 44W (Starry Sky, 128 GB)  \n",
       "9         Infinix Smart 6 (Light Sea Green, 64 GB)  \n",
       "10         Infinix Smart 6 (Heart Of Ocean, 64 GB)  \n",
       "11          Infinix Smart 6 (Starry Purple, 64 GB)  \n",
       "12               REDMI 10A (Charcoal Black, 32 GB)  \n",
       "13             Redmi 9A Sport (Coral Green, 32 GB)  \n",
       "14           Redmi 9A Sport (Metallic Blue, 32 GB)  \n",
       "15             Redmi 9A Sport (Coral Green, 32 GB)  \n",
       "16           Redmi 9A Sport (Metallic Blue, 32 GB)  \n",
       "17            Redmi 9A Sport (Carbon Black, 32 GB)  \n",
       "18            Redmi Note 11 (Horizon Blue, 128 GB)  \n",
       "19                vivo T1 44W (Starry Sky, 128 GB)  \n",
       "20            Infinix Smart 6 (Polar Black, 64 GB)  \n",
       "21  OnePlus Nord CE 2 Lite 5G (Black Dusk, 128 GB)  \n",
       "22          REDMI 10 Prime (Phantom Black, 128 GB)  \n",
       "23         REDMI Note 11T 5G (Matte black, 128 GB)  "
      ]
     },
     "execution_count": 99,
     "metadata": {},
     "output_type": "execute_result"
    }
   ],
   "source": [
    "import pandas as pd\n",
    "pixel=pd.DataFrame()\n",
    "pixel['Product url']=flip_urls\n",
    "pixel['Brand name']=brand_name\n",
    "pixel['Smartphone name and Colour']=smartphone_name_colour\n",
    "pixel"
   ]
  },
  {
   "cell_type": "code",
   "execution_count": 100,
   "id": "1e4920c1",
   "metadata": {},
   "outputs": [],
   "source": [
    "driver.close()"
   ]
  },
  {
   "cell_type": "markdown",
   "id": "fbf50b33",
   "metadata": {},
   "source": [
    "Q5. Write a program to scrap geospatial coordinates (latitude, longitude) of a city searched on google maps."
   ]
  },
  {
   "cell_type": "code",
   "execution_count": 101,
   "id": "382b9c20",
   "metadata": {},
   "outputs": [],
   "source": [
    "driver = webdriver.Chrome(r\"C:\\Users\\user\\Downloads\\chromedriver_win32 (1)\\chromedriver.exe\")"
   ]
  },
  {
   "cell_type": "code",
   "execution_count": 102,
   "id": "930e1e94",
   "metadata": {},
   "outputs": [],
   "source": [
    "driver.get('https://www.google.com/maps')"
   ]
  },
  {
   "cell_type": "code",
   "execution_count": 103,
   "id": "e513dc8f",
   "metadata": {},
   "outputs": [],
   "source": [
    "search=driver.find_element(\"xpath\",\"/html/body/div[3]/div[9]/div[3]/div[1]/div[1]/div[1]/div[2]/form/div[2]/div[3]/div/input[1]\")\n",
    "search.send_keys('Bangalore')\n",
    "search_btn=driver.find_element(\"xpath\",\"/html/body/div[3]/div[9]/div[3]/div[1]/div[1]/div[1]/div[2]/div[1]/button\")\n",
    "search_btn.click()"
   ]
  },
  {
   "cell_type": "code",
   "execution_count": 104,
   "id": "029cf152",
   "metadata": {},
   "outputs": [
    {
     "data": {
      "text/plain": [
       "'https://www.google.com/maps/place/Bengaluru,+Karnataka/@25.9040553,85.8023085,8z/data=!4m5!3m4!1s0x3bae1670c9b44e6d:0xf8dfc3e8517e4fe0!8m2!3d12.9715987!4d77.5945627'"
      ]
     },
     "execution_count": 104,
     "metadata": {},
     "output_type": "execute_result"
    }
   ],
   "source": [
    "url_string = driver.current_url\n",
    "url_string"
   ]
  },
  {
   "cell_type": "code",
   "execution_count": 105,
   "id": "c229974e",
   "metadata": {},
   "outputs": [
    {
     "name": "stdout",
     "output_type": "stream",
     "text": [
      "URL Extracted:  https://www.google.com/maps/place/Bengaluru,+Karnataka/@25.9040553,85.8023085,8z/data=!4m5!3m4!1s0x3bae1670c9b44e6d:0xf8dfc3e8517e4fe0!8m2!3d12.9715987!4d77.5945627\n",
      "Latitude = 25.9040553, Longitude = 85.8023085\n"
     ]
    }
   ],
   "source": [
    "try:\n",
    "\n",
    "    url_string = driver.current_url\n",
    "\n",
    "    print(\"URL Extracted: \", url_string)\n",
    "\n",
    "    lat_lng = re.findall(r'@(.*)data',url_string)\n",
    "\n",
    "    if len(lat_lng):\n",
    "\n",
    "        lat_lng_list = lat_lng[0].split(\",\")\n",
    "\n",
    "        if len(lat_lng_list)>=2:\n",
    "\n",
    "            lat = lat_lng_list[0]\n",
    "\n",
    "            lng = lat_lng_list[1]\n",
    "\n",
    "        print(\"Latitude = {}, Longitude = {}\".format(lat, lng))\n",
    "\n",
    "\n",
    "\n",
    "except Exception as e:\n",
    "\n",
    "        print(\"Error: \", str(e))"
   ]
  },
  {
   "cell_type": "code",
   "execution_count": 106,
   "id": "74440fbd",
   "metadata": {},
   "outputs": [],
   "source": [
    "driver.close()"
   ]
  },
  {
   "cell_type": "code",
   "execution_count": null,
   "id": "9882d116",
   "metadata": {},
   "outputs": [],
   "source": []
  },
  {
   "cell_type": "markdown",
   "id": "66ad4300",
   "metadata": {},
   "source": [
    "Q6. Write a program to scrap details of all the funding deals for second quarter (i.e Jan 21 – March 21) from trak.in."
   ]
  },
  {
   "cell_type": "code",
   "execution_count": 107,
   "id": "0031b481",
   "metadata": {},
   "outputs": [],
   "source": [
    "driver = webdriver.Chrome(r\"C:\\Users\\user\\Downloads\\chromedriver_win32 (1)\\chromedriver.exe\")\n"
   ]
  },
  {
   "cell_type": "code",
   "execution_count": 108,
   "id": "96741715",
   "metadata": {},
   "outputs": [],
   "source": [
    "driver.get('https://trak.in/')"
   ]
  },
  {
   "cell_type": "code",
   "execution_count": 110,
   "id": "3d42eed8",
   "metadata": {},
   "outputs": [],
   "source": [
    "funding_deals=driver.find_element(\"xpath\",\"/html/body/div[1]/header/div[2]/div/div/div/div/nav/ul/li[9]/a\")\n",
    "funding_deals.click()"
   ]
  },
  {
   "cell_type": "code",
   "execution_count": 112,
   "id": "eb32656c",
   "metadata": {},
   "outputs": [
    {
     "data": {
      "text/plain": [
       "[<selenium.webdriver.remote.webelement.WebElement (session=\"f3941f80cf204042652f6f8f806edfa0\", element=\"8e3d3415-ce1f-491f-8ef3-03dacb726d24\")>]"
      ]
     },
     "execution_count": 112,
     "metadata": {},
     "output_type": "execute_result"
    }
   ],
   "source": [
    "january=driver.find_elements(By.XPATH,'//h2[@class=\"tablepress-table-name tablepress-table-name-id-54\"]')\n",
    "january"
   ]
  },
  {
   "cell_type": "code",
   "execution_count": 113,
   "id": "1c75b046",
   "metadata": {},
   "outputs": [
    {
     "data": {
      "text/plain": [
       "45"
      ]
     },
     "execution_count": 113,
     "metadata": {},
     "output_type": "execute_result"
    }
   ],
   "source": [
    "jan_table=driver.find_elements(\"xpath\",'//div[@class=\"dataTables_wrapper no-footer\"]')\n",
    "len(jan_table)"
   ]
  },
  {
   "cell_type": "code",
   "execution_count": 114,
   "id": "2763f56f",
   "metadata": {
    "scrolled": true
   },
   "outputs": [
    {
     "data": {
      "text/plain": [
       "[<selenium.webdriver.remote.webelement.WebElement (session=\"f3941f80cf204042652f6f8f806edfa0\", element=\"0f381948-9f1b-4a4e-b568-c609314af293\")>,\n",
       " <selenium.webdriver.remote.webelement.WebElement (session=\"f3941f80cf204042652f6f8f806edfa0\", element=\"92851a4c-cc9c-4d24-85f1-35656bf13071\")>,\n",
       " <selenium.webdriver.remote.webelement.WebElement (session=\"f3941f80cf204042652f6f8f806edfa0\", element=\"96896e0f-9904-4195-8ffc-5fb4fa1bc00f\")>,\n",
       " <selenium.webdriver.remote.webelement.WebElement (session=\"f3941f80cf204042652f6f8f806edfa0\", element=\"3577247c-02df-4410-8c2d-46d954cbfe48\")>,\n",
       " <selenium.webdriver.remote.webelement.WebElement (session=\"f3941f80cf204042652f6f8f806edfa0\", element=\"f294a4b4-b014-47ea-b6ef-44350d77cbe5\")>,\n",
       " <selenium.webdriver.remote.webelement.WebElement (session=\"f3941f80cf204042652f6f8f806edfa0\", element=\"866439fc-ddc9-4079-99fb-d862b3f5a4e7\")>,\n",
       " <selenium.webdriver.remote.webelement.WebElement (session=\"f3941f80cf204042652f6f8f806edfa0\", element=\"4c25f90d-f69f-4e52-8b73-cedea389f72c\")>,\n",
       " <selenium.webdriver.remote.webelement.WebElement (session=\"f3941f80cf204042652f6f8f806edfa0\", element=\"28164800-b3a9-4cc6-bf4d-fe92ef47ae73\")>,\n",
       " <selenium.webdriver.remote.webelement.WebElement (session=\"f3941f80cf204042652f6f8f806edfa0\", element=\"d42e0b2d-989c-4e7f-862e-6db5f1462c79\")>,\n",
       " <selenium.webdriver.remote.webelement.WebElement (session=\"f3941f80cf204042652f6f8f806edfa0\", element=\"bcb50bb8-b865-45a5-81b8-a5901b2e7666\")>,\n",
       " <selenium.webdriver.remote.webelement.WebElement (session=\"f3941f80cf204042652f6f8f806edfa0\", element=\"fce54e0a-9a72-4ff4-b93d-dcde1ac455ef\")>,\n",
       " <selenium.webdriver.remote.webelement.WebElement (session=\"f3941f80cf204042652f6f8f806edfa0\", element=\"a72f8cc8-e1ad-4c60-aa27-c9e8755bb883\")>,\n",
       " <selenium.webdriver.remote.webelement.WebElement (session=\"f3941f80cf204042652f6f8f806edfa0\", element=\"4c9bb48c-141c-49c3-8ffe-2e272e6783b9\")>,\n",
       " <selenium.webdriver.remote.webelement.WebElement (session=\"f3941f80cf204042652f6f8f806edfa0\", element=\"6e578e60-a808-48fb-98c6-84cad469dd4f\")>,\n",
       " <selenium.webdriver.remote.webelement.WebElement (session=\"f3941f80cf204042652f6f8f806edfa0\", element=\"fffe709e-0abd-446f-a66b-17f4578afd86\")>,\n",
       " <selenium.webdriver.remote.webelement.WebElement (session=\"f3941f80cf204042652f6f8f806edfa0\", element=\"ed57773d-083c-43e9-801a-30053f9cf852\")>,\n",
       " <selenium.webdriver.remote.webelement.WebElement (session=\"f3941f80cf204042652f6f8f806edfa0\", element=\"f17375c1-e64b-47f5-8791-5cf93d47ad9f\")>,\n",
       " <selenium.webdriver.remote.webelement.WebElement (session=\"f3941f80cf204042652f6f8f806edfa0\", element=\"40552df5-9486-4bdd-ba66-a949aea8a57d\")>,\n",
       " <selenium.webdriver.remote.webelement.WebElement (session=\"f3941f80cf204042652f6f8f806edfa0\", element=\"4b941432-4b50-4c1a-adb5-e0fc18633fb2\")>,\n",
       " <selenium.webdriver.remote.webelement.WebElement (session=\"f3941f80cf204042652f6f8f806edfa0\", element=\"fd8e6f5a-0cad-492c-aae2-1d5a230e6514\")>,\n",
       " <selenium.webdriver.remote.webelement.WebElement (session=\"f3941f80cf204042652f6f8f806edfa0\", element=\"3a092bda-ae7a-4b18-813f-6e288a1e4ebe\")>,\n",
       " <selenium.webdriver.remote.webelement.WebElement (session=\"f3941f80cf204042652f6f8f806edfa0\", element=\"f8511f13-e42c-474f-881c-64ce3407c34f\")>,\n",
       " <selenium.webdriver.remote.webelement.WebElement (session=\"f3941f80cf204042652f6f8f806edfa0\", element=\"fd1966ff-1a60-40fc-bb83-18fa7dc95b64\")>,\n",
       " <selenium.webdriver.remote.webelement.WebElement (session=\"f3941f80cf204042652f6f8f806edfa0\", element=\"916ceb8e-5e28-4f36-bee7-59f9c51adf39\")>,\n",
       " <selenium.webdriver.remote.webelement.WebElement (session=\"f3941f80cf204042652f6f8f806edfa0\", element=\"5f20a94b-d7f0-4086-870d-1fa18d95cf46\")>,\n",
       " <selenium.webdriver.remote.webelement.WebElement (session=\"f3941f80cf204042652f6f8f806edfa0\", element=\"cd546a2d-1889-40a7-b710-22de2cbdd1c2\")>,\n",
       " <selenium.webdriver.remote.webelement.WebElement (session=\"f3941f80cf204042652f6f8f806edfa0\", element=\"378c18b3-0d4b-498f-9c2c-b3666b757d27\")>,\n",
       " <selenium.webdriver.remote.webelement.WebElement (session=\"f3941f80cf204042652f6f8f806edfa0\", element=\"26501262-595b-493e-be1d-63f1f0aa1ff6\")>,\n",
       " <selenium.webdriver.remote.webelement.WebElement (session=\"f3941f80cf204042652f6f8f806edfa0\", element=\"6198b4eb-8964-43ad-b2a0-3ab69a308346\")>,\n",
       " <selenium.webdriver.remote.webelement.WebElement (session=\"f3941f80cf204042652f6f8f806edfa0\", element=\"e43b80c3-a5c5-4c64-8a03-470b27e0e047\")>,\n",
       " <selenium.webdriver.remote.webelement.WebElement (session=\"f3941f80cf204042652f6f8f806edfa0\", element=\"b1898b97-dd13-4f9d-880a-ae3a018247d4\")>,\n",
       " <selenium.webdriver.remote.webelement.WebElement (session=\"f3941f80cf204042652f6f8f806edfa0\", element=\"04e529ab-d245-4252-8812-eb5d8fa89d30\")>,\n",
       " <selenium.webdriver.remote.webelement.WebElement (session=\"f3941f80cf204042652f6f8f806edfa0\", element=\"5b2643e0-fdb2-4d59-ba61-7adb4b69aeca\")>,\n",
       " <selenium.webdriver.remote.webelement.WebElement (session=\"f3941f80cf204042652f6f8f806edfa0\", element=\"7d87acaf-8f13-4192-9923-c2d8ea5021b7\")>,\n",
       " <selenium.webdriver.remote.webelement.WebElement (session=\"f3941f80cf204042652f6f8f806edfa0\", element=\"1be44d4f-3882-4c95-83ea-4018c12f3ff6\")>,\n",
       " <selenium.webdriver.remote.webelement.WebElement (session=\"f3941f80cf204042652f6f8f806edfa0\", element=\"a623d494-d438-45dc-a91c-a84271905eb1\")>,\n",
       " <selenium.webdriver.remote.webelement.WebElement (session=\"f3941f80cf204042652f6f8f806edfa0\", element=\"e3753f2f-3ae5-4ae1-a6dd-d83b2fe582e2\")>,\n",
       " <selenium.webdriver.remote.webelement.WebElement (session=\"f3941f80cf204042652f6f8f806edfa0\", element=\"111f1441-4b42-4c74-ba36-d0bdc02a2676\")>,\n",
       " <selenium.webdriver.remote.webelement.WebElement (session=\"f3941f80cf204042652f6f8f806edfa0\", element=\"0a349b27-c4ec-49e1-9815-f90a96ddbf64\")>,\n",
       " <selenium.webdriver.remote.webelement.WebElement (session=\"f3941f80cf204042652f6f8f806edfa0\", element=\"056bdf57-ca17-4c7d-9c25-84bb07f9b6c6\")>,\n",
       " <selenium.webdriver.remote.webelement.WebElement (session=\"f3941f80cf204042652f6f8f806edfa0\", element=\"31dba200-1209-456d-8426-7b03534d112b\")>,\n",
       " <selenium.webdriver.remote.webelement.WebElement (session=\"f3941f80cf204042652f6f8f806edfa0\", element=\"0c74b839-2c89-4a93-98db-36c372230f88\")>,\n",
       " <selenium.webdriver.remote.webelement.WebElement (session=\"f3941f80cf204042652f6f8f806edfa0\", element=\"9151e072-ddb0-4fc9-9392-637bedc73640\")>,\n",
       " <selenium.webdriver.remote.webelement.WebElement (session=\"f3941f80cf204042652f6f8f806edfa0\", element=\"104a85d1-800b-435f-809c-3b1b5a83f5b8\")>,\n",
       " <selenium.webdriver.remote.webelement.WebElement (session=\"f3941f80cf204042652f6f8f806edfa0\", element=\"23b6f032-796e-4446-bcef-119389253135\")>]"
      ]
     },
     "execution_count": 114,
     "metadata": {},
     "output_type": "execute_result"
    }
   ],
   "source": [
    "jan_table"
   ]
  },
  {
   "cell_type": "code",
   "execution_count": 115,
   "id": "615d6403",
   "metadata": {},
   "outputs": [
    {
     "data": {
      "text/plain": [
       "45"
      ]
     },
     "execution_count": 115,
     "metadata": {},
     "output_type": "execute_result"
    }
   ],
   "source": [
    "Jan_Table=[]\n",
    "\n",
    "for i in jan_table:\n",
    "    Jan_Table.append(i.text)\n",
    "len(Jan_Table)   "
   ]
  },
  {
   "cell_type": "code",
   "execution_count": 116,
   "id": "b5997a24",
   "metadata": {},
   "outputs": [
    {
     "data": {
      "text/plain": [
       "[\"Show\\n10\\n25\\n50\\n100\\nentries\\nSearch:\\nSr. No. Date (dd/mm/yyyy) Startup Name Industry / Vertical Sub-Vertical City / Location Investors' Name Investment Type Amount (In USD)\\n1 01/04/2021 BYJU’S Edu-tech Online tutoring Bengaluru Innoven Capital Series F 460,000,000\\n2 05/04/2021 Meesho E-commerce Online reselling platform Bengaluru SoftBank Vision Fund 2 Series E 300,000,000\\n3 14/04/2021 Swiggy Online Food Delivery Online Food Delivery Bengaluru Amansa Holdings, Carmignac, Falcon Edge Capital, Goldman Sachs, Think Investments Series J 343,000,000\\n4 07/04/2021 Groww FinTech Investment platform Bengaluru MC Global Edtech, B Capital, Baron, others Series D 83,000,000\\n5 14/04/2021 Beldara E-commerce Global B2B marketplace Mumbai Hindustan Media Ventures Venture 7,400,000\\nShowing 1 to 5 of 5 entries\\nPreviousNext\",\n",
       " \"Show\\n10\\n25\\n50\\n100\\nentries\\nSearch:\\nSr. No. Date (dd/mm/yyyy) Startup Name Industry / Vertical Sub-Vertical City / Location Investors' Name Investment Type Amount (In USD)\\n1 04/03/2021 DealShare E-commerce Online shopping platform Jaipur, Rajasthan Innoven Capital Debt Financing 250,000,000\\n2 31/03/2021 Uniphore Technology Conversational Service Automation (CSA) Palo Alto Sorenson Capital Partners Series D 140,000,000\\n3 30/03/2021 Dunzo E-commerce Hyper-local delivery app Bengaluru Krishtal Advisors Pte Ltd Series E 8,000,000\\n4 30/03/2021 BYJU’S Edu-tech Online tutoring Bengaluru MC Global Edtech, B Capital, Baron, others Series F 460,000,000\\n5 23/03/2021 SkilloVilla Edu-tech Career and job-oriented upskilling. Bengaluru Titan Capital, others Seed 300,000,000\\n6 25/03/2021 CityMall E-commerce Social ecommerce and online grocery platform Gurgaon Accel Partners Series A 11,000,000\\n7 26/03/2021 DotPe FinTech Commerce and payments platform to offline enterprise businesses. Gurgaon PayU Series A 27,500,000\\nShowing 1 to 7 of 7 entries\\nPreviousNext\",\n",
       " \"Show\\n10\\n25\\n50\\n100\\nentries\\nSearch:\\nSr. No. Date (dd/mm/yyyy) Startup Name Industry / Vertical Sub-Vertical City / Location Investors' Name Investment Type Amount (In USD)\\n1 11/02/2021 Doubtnut Edu Tech E-Learning Platform Gurgaon SIG Global, Sequoia Capital, WaterBridge Ventures and ON Mauritius Series B 2,500,000\\n2 22/02/2021 Zomato Hospitality Online Food Delivery Platform Gurgaon Tiger Global, Kora Venture 250,000,000\\n3 19/02/2021 Fingerlix Hospitality Semi-cooked food delivery app Mumbai Rhodium Trust, Accel Partners and Swiggy Series C 2,747,045.20\\n4 17/02/2021 Zolve FinTech Global Neobank Venture Mumbai Accel Partners and Lightspeed Venture Partners Seed 1,50,00,000\\n5 15/02/2021 KreditBee Finance Digital lending platform Bengaluru Azim Premji’s PremjiInvest and South Korea’s Mirae Asset Venture Series C 75,000,000\\n6 12/02/2021 Pepperfry E-commerce Multi-brand furniture brand Mumbai InnoVen Capital Debt Financing 4,773,958\\n7 12/02/2021 Grofers E-Commerce Online supermarket Gurgaon SoftBank Vision Fund (SVF) Unspecified 55,000,000\\n8 09/02/2021 Nothing Technology Consumer Technology Venture London GV Series A 15,000,000\\n9 09/02/2021 SplashLearn EdTech Game-based learning programme Gurgaon Owl Ventures Series C 18,000,000\\nShowing 1 to 9 of 9 entries\\nPreviousNext\",\n",
       " \"Show\\n10\\n25\\n50\\n100\\nentries\\nSearch:\\nSr. No. Date (dd/mm/yyyy) Startup Name Industry / Vertical Sub-Vertical City / Location Investors' Name Investment Type Amount (In USD)\\n1 15/01/2021 Digit Insurance Financial Services Insurance Services Bengaluru A91 Partners, Faering Capital, TVS Capital Funds Venture 1,80,00,000\\n2 28/01/2021 Bombay Shaving Company Consumer Goods Company Shave care, beard care, and skincare products New Delhi Reckitt Benckiser Venture 6,172,258.50\\n3 19/01/2021 DeHaat AgriTech Startup online marketplace for farm products and services Patna Prosus Ventures Series C 30,000,000\\n4 19/01/2021 Darwinbox SaaS HR Tech Mumbai Salesforce Ventures Seed 15,000,000\\n5 18/01/2021 mfine Health Tech Startup AI-powered telemedicine mobile app Bengaluru Heritas Capital Management Venture Round 16,000,000\\n6 18/01/2021 Udayy EdTech Online learning platform for kids in class 1-5 Gurgaon Sequoia Capital Seed Funding 15,000,000\\n7 11/01/2021 True Elements Food Startup Whole Food plant based Nashta Pune SIDBI Venture Capital Series 100,000,000\\n8 13/01/2021 Saveo B2B E-commerce Pharmacies Bengaluru Matrix Partners India, RTP Global, others Seed 4,000,000\\nShowing 1 to 8 of 8 entries\\nPreviousNext\",\n",
       " \"Show\\n10\\n25\\n50\\n100\\nentries\\nSearch:\\nSr. No. Date (dd/mm/yyyy) Startup Name Industry / Vertical Sub-Vertical City / Location Investors' Name Investment Type Amount (In USD)\\n1 15/12/2020 Bira 91 Food and Beverage Craft Beer New Delhi Nishant Mittal, Pankaj Chaddah and Shikha Sunil Chandak Funding 1,273,634.07\\n2 21/12/2020 Pine Labs Financial Services Payment Solutions Provider Noida Lone Pine Capital Secondary Market Undisclosed\\n3 15/12/2020 Zenoti Technology Provider Cloud-based software provider for the spa and salon industries Washington Advent International Series D 160,000,000\\n4 22/12/2020 Tax Buddy India FinTech Online tax adviser Mumbai Zenith Global Seed 1,000,000\\n5 15/12/2020 Delhivery Supply chain Transportation Gurgaon Steadview Capital Secondary Market 25,000,000\\n6 18/12/2020 PagarBook SaaS Employee management platform Bengaluru Sequoia Capital Series A 15,000,000\\nShowing 1 to 6 of 6 entries\\nPreviousNext\",\n",
       " \"Show\\n10\\n25\\n50\\n100\\nentries\\nSearch:\\nSr. No. Date (dd/mm/yyyy) Startup Name Industry / Vertical Sub-Vertical City / Location Investors' Name Investment Type Amount (In USD)\\n1 30/11/2020 Codingal EduTech Online coding platform Bengaluru Rebright Partners, Java Capital, and GSF Accelerator Seed 560,000\\n2 30/11/2020 CRED Financial Services Credit Card Behavior Services Bengaluru DST Global Series C 80,000,000\\n3 29/11/2020 Bira 91 Food and Beverage Craft Beer New Delhi Sofina, Sequoia Capital, Sixth Sense Ventures, Neoplux Bridge Funding 3,000,000\\n4 27/11/2020 Chumbak Lifestyle Gifting Startup Bengaluru Gaja Capital Fund (GCFII-A) Pre-series E 1,001,047.92\\n5 25/11/2020 Cityflo Transportation App-based bus commute startup Mumbai Lightbox Ventures Series A 7,700,000\\n6 25/11/2020 Shipsy SaaS Software Automation Of Logistics Gurgaon Sequoia Capital India’s Surge, Info Edge Series A 6,003,806\\n7 25/11/2020 Unacademy Edutech Online Learning Platform Bengaluru Tiger Global Management, Dragoneer Investment Group Venture 75,000,000-100,000,000\\n8 24/11/2020 Cashfree FinTech Payments and banking technology Bengaluru Matrix Partners India, SAIF Partners, Ward Ferry Management and Bertelsmann India Series B 35,300,000\\n9 30/11/2020 Credgenics Fintech Critical NPA reduction for Fintech lenders and banks Gurgaon Venture Capital firm, Accel Partners and DMI Finance Pre-Series A 3,500,000\\n10 23/11/2020 Country Delight Dairy Tech Milk delivery startup Gurugram Elevation Capital Series C 25,000,000\\nShowing 1 to 10 of 10 entries\\nPreviousNext\",\n",
       " \"Show\\n10\\n25\\n50\\n100\\nentries\\nSearch:\\nSr. No. Date (dd/mm/yyyy) Startup Name Industry / Vertical Sub-Vertical City / Location Investors' Name Investment Type Amount (In USD)\\n1 28/10/2020 Nykaa E-commerce Beauty, Fashion, Lifestyle, Wellness Mumbai Alia Bhatt Personal Investment NA\\n2 28/10/2020 Betterplace Digital Solutions Blue Collar Workforce Management Platform Bangalore Jungle Ventures Series B 10,000,000\\n3 28/10/2020 FlexiLoans FinTech Digital Lending Platform Mumbai Falguni and Sanjay Nayar Family Office Equity and Debt 20,160,000\\n4 27/10/2020 GetVantage FinTech Revenue-Based Financing Platform Mumbai Chiratae Ventures, Dream Incubators Seed 5,000,000\\n5 27/10/2020 FreshToHome E-commerce Food Delivery Bangalore Corporation of Dubai (ICD), Ascent Capital, DFC, the Allana Group\\nSeries C 121,000,000\\n6 27/10/2020 Origo AgriTech Agricultural Commodities Management Gurgaon Northern Arc Capital Debt 4,700,000\\n7 27/10/2020 Origo Advertising Online Video Editing Mumbai Sequoia Capital India Series A 15,000,000\\n8 15/10/2020 Treebo Hotels Hospitality Budget Hospitality Chain Bangalore Matrix Partners India, SAIF Partners, Ward Ferry Management and Bertelsmann India 6,000,000\\n9 26/10/2020 Hubilo Information Technology Virtual Events Platform Wilmington, Delaware, United States Lightspeed Venture Partners Seed 4,500,000\\n10 28/10/2020 CredAble FinTech Supply Chain Finance Mumbai Oaks Asset Management and V’Ocean Investment Follow-On 4,500,000\\nShowing 1 to 10 of 12 entries\\nPreviousNext\",\n",
       " \"Show\\n10\\n25\\n50\\n100\\nentries\\nSearch:\\nSr. No. Date (dd/mm/yyyy) Startup Name Industry / Vertical Sub-Vertical City / Location Investors' Name Investment Type Amount (In USD)\\n1 08/09/2020 Byju’s EduTech Online Tutoring Bangalore Silver Lake, Tiger Global, General Atlantic and Owl Ventures\\nPrivate Equity 500,000,000\\n2 12/09/2020 mCaffeine Personal Care Skincare & Haircare Mumbai Amicus Capital Private Equity I LLP, Amicus Capital Partners India Fund I and RP-SG Venture Fund 1 Series B 3,000,000\\n3 09/09/2020 Qshala EduTech Online Curiosity Platform for Kids Bangalore Rainmatter Capital Angel 370,000\\n4 02/09/2020 Winzo Online Gaming Online Gaming New Delhi Kalaari Capital Partners, IndigoEdge Management Consultancy Series B 15,500,000\\n5 09/09/2020 Hippo Video Video Customer Experience(CX) Platform Video Customer Experience(CX) Platform Newark, Delaware, United States of Amercia Alpha Wave Incubation, Exfinity Venture Partners and existing backers.\\nSeries A 4,500,000\\n6 07/09/2020 Melorra E-commerce Online Jewelry Store\\nBangalore Shadow Holdings, Lightbox. Debt Financing upto 8,900,000\\n7 07/09/2020 1mg E-commerce Online Pharmacy Gurgaon Gaja Capital, Tata Capital, Partners Group In Progress 100,000,000\\n8 31/08/2020 mfine HealthTech On-Demand Healthcare Services Bangalore Caretech Pte Inc Series B 5,400,000\\n9 31/08/2020 Apna Human Resources Recruitment Platform Bangalore Lightspeed India and Sequoia Capital India Series A 8,000,000\\n10 03/09/2020 Railofy Transportation WL & RAC protection platform Mumbai Chiratae Ventures Seed 950,000\\nShowing 1 to 10 of 11 entries\\nPreviousNext\",\n",
       " \"Show\\n10\\n25\\n50\\n100\\nentries\\nSearch:\\nSr. No. Date (dd/mm/yyyy) Startup Name Industry / Vertical Sub-Vertical City / Location Investors' Name Investment Type Amount (In USD)\\n1 15/08/2020 Practo HealthTech Health care and Wellness Bangalore A1A Company\\nSeries F 32,000,000\\n2 13/08/2020 Medlife E-commerce Online Pharmacy Bangalore Prasid Uno Family Trust and SC Credit Fund 23,000,000\\n3 13/08/2020 HungerBox\\nFoodTech Online Food Delivery Service Bangalore One97, Sabre Partners Trust, Pratithi Investment Trust, and Srihari Kumar Series D1 1,560,000\\n4 04/08/2020 Dunzo Hyper-local Logistics Online Delivery Services Bangalore Existing Backers In Progress 30,000,000\\n5 11/08/2020 Terra.do EduTech Online Climate School, E-learning Stanford, California, Stanford Angels and Entrepreneurs (India), BEENEXT Emerging Asia, Rainmatter Capital\\n\\nSeed 1,400,000\\n6 12/08/2020 Classplus EduTech E-learning, Online Tutoring\\n\\nNoida Falcon Edge In Progress upto 15,000,000\\n7 14/08/2020 Niyo FinTech Financial Services Bangalore Niyo Solutions Inc. 6,000,000\\n8 10/08/2020 ZestMoney FinTech Financial Services Bangalore Primrose Hills Ventures 10,670,000\\n9 07/08/2020 FreshToHome E-commerce Food Delivery Bangalore Ascent Capital Venture 16,200,000\\n10 13/08/2020 Eduvanz FinTech Financial Services Mumbai Sequoia India, Unitus Series A 5,000,000\\nShowing 1 to 10 of 12 entries\\nPreviousNext\",\n",
       " \"Show\\n10\\n25\\n50\\n100\\nentries\\nSearch:\\nSr. No. Date (dd/mm/yyyy) Startup Name Industry / Vertical Sub-Vertical City / Location Investors' Name Investment Type Amount (In USD)\\n1 15/07/2020 Flipkart E-commerce E-commerce Bangalore Walmart Inc\\nM&A 1,200,000,000\\n2 16/07/2020 Vedantu EduTech Online Tutoring Bangalore Coatue Management Series D 100,000,000\\n3 16/07/2020 Crio EduTech Learning Platform for Developers Bangalore 021 Capital pre-Series A 934,160\\n4 14/07/2020 goDutch FinTech Group Payments Mumbai Matrix India,Y Combinator, Global Founders Capital, Soma Capital, and VentureSouq. Seed 1,700,000\\n5 13/07/2020 Mystifly\\nAirfare Marketplace Ticketing, Airline Retailing, and Post-Ticketing Services Singapore and Bangalore Recruit Co. Ltd.\\n\\npre-Series B 3,300,000\\n6 09/07/2020 JetSynthesys Gaming and Entertainment Gaming and Entertainment\\n\\nPune Adar Poonawalla and Kris Gopalakrishnan.\\nVenture-Series Unknown 400,000\\n7 10/07/2020 gigIndia\\nMarketplace Crowd Sourcing, Freelance Pune Incubate Fund India and Beyond Next Ventures pre-Series A 974,200\\n8 15/07/2020 PumPumPum Automotive Rental Used Car-leasing platform Gurgaon Early Adapters Syndicate Seed 292,800\\n9 14/07/2020 FLYX OTT Player Streaming Social Network New York and Delhi Raj Mishra, founder of AIT Global Inc pre-Seed 200,000\\n10 13/07/2020 Open Appliances Pvt. Ltd. Information Technology Internet-of-Things Security Solutions Bangalore Unicorn India Ventures Venture-Series Unknown 500,000\\nShowing 1 to 10 of 10 entries\\nPreviousNext\",\n",
       " \"Show\\n10\\n25\\n50\\n100\\nentries\\nSearch:\\nSr. No. Date (dd/mm/yyyy) Startup Name Industry / Vertical Sub-Vertical City / Location Investors' Name Investment Type Amount (In USD)\\n1 18/06/2020 Drishti Technologies Technology Artificial Intelligence, Video Analytics Mumbai Sozo Ventures\\nSeries B 25,000,000\\n2 17/06/2020 Stellaps AgriTech Farming, Dairy Management Apps Bangalore Stride Ventures\\nDebt Financing NA\\n3 17/06/2020 Peppermint\\nIndustrial Robotics Industrial Robotics Mumbai Venture Catalysts and Naveen Kshatriya Seed NA\\n4 16/06/2020 Jai Kisan Rural FinTech AgriTech, Financial Services Mumbai Arkam Ventures and NABVENTURES Fund I Pre-Series A 3,934,941\\n5 16/06/2020 Biomoneta\\nBioTech HealthTech, Biotechnology Research Bangalore Beyond Next Ventures, ArthaVida Ventures and Dr. Aniruddha Malpani\\nSeed NA\\n6 15/06/2020 Sai Estate Management and Skills Institute EdTech Education\\n\\nMumbai Suniel Shetty\\nAngel NA\\n7 15/06/2020 LetsTransport\\n\\nLogistics Solution Provider Logistics, Transportation, Travel Bangalore Stride Ventures Venture - Series Unknown 1,311,647\\n8 10/06/2020 WayCool Foods AgriTech Food and Beverage Chennai Indusland Bank Series C 5,500,000\\n9 11/06/2020 Myelin Foundry Deep Tech AI Artificial Intelligence Bangalore Kris Gopalakrishnan’s family office — Pratithi.\\nSeed 1,000,000\\n10 10/06/2020 Hapramp Block Chain, Cryptocurrency Block Chain, Cryptocurrency Gurugram Anand Mahindra Seed 1,000,000\\nShowing 1 to 10 of 10 entries\\nPreviousNext\",\n",
       " \"Show\\n10\\n25\\n50\\n100\\nentries\\nSearch:\\nSr. No. Date (dd/mm/yyyy) Startup Name Industry / Vertical Sub-Vertical City / Location Investors' Name Investment Type Amount (In USD)\\n1 21/05/2020 leap.club Professional Network for Women Professional Network for Women Gurugram Whiteboard Capital (Sandeep Tandon’s VC fund), FirstCheque, Artha India Ventures, Sweta Rau (Founder, White Ventures), Amrish Rau (CEO Pinelabs, Founder Citrus Pay), Deepak Abbot (Former SVP, Paytm), and Harpreet Singh Grover (Co-founder, Co-Cubes) and others.\\nPre Seed 340,000\\n2 20/05/2020 Tring Advertising Celebrity Engagement Platform Mumbai Tencent, Ark Impact, KoKalyan Krishnamurthy of Flipkart, Sujeet Kumar of Udaan, Gaurav Munjal of Unacademy, Keshav Sanghi of VentureWorks India, Roman Saini of Unacademy, Hemesh Singh of Unacademy, and Sumit Jain of Opentalk amongst others.\\nAngel NA\\n3 20/05/2020 Khatabook\\nUtility Solutions Provider Financial Services, Accounting, Payments. Bangalore B Capital Group, Sequoia India, Partners of DST Global, Tencent, GGV, RTP Global, Hummingbird Ventures, Falcon Edge Capital, Rocketship.vc, Unilever Ventures, Kevin Weil, Alexander Will, Kunal Shah, Kunal Bahl, and Rohit Bansal\\n\\n\\nSeries B 60,000,000\\n4 19/05/2020 Vakilsearch LegalTech Online professional services platform for lawyers, corporate bodies, and professionals in India. Chennai Udaan co-founder, Sujeet Kumar Series A NA\\n5 19/05/2020 Lendingkart\\nFinTech Financial Services, Lending, Micro Lending. Ahmedabad Fullerton Financial Holdings Pte Ltd (FFH) and Bertelsmann India Investments, Sistema Asia Fund and India Quotient.\\nSeries D 42,000,000\\n6 21/05/2020 No Worry No Tension Healthcare (NWNT) Healthcare Emotional health and mental health wellness\\n\\nNew Delhi Amit Burman, Chairman of Dabur India,\\nPre Series A NA\\n7 05/05/2020 Classplus\\n\\nEduTech e-learning, education solutions. Noida RTP Global, lume Ventures, Sequoia Capital India's Surge, Spiral Ventures, and Strive. Series A 9,000,000\\n8 11/05/2020 Nykaa E-commerce Cosmetic and Beauty Products Mumbai Steadview Capital Series F 8,800,000\\n9 13/05/2020 Magicpin E-commerce E-commerce Gurugram Lightspeed Venture Partners, along with the participation of Moonstone Investments, WaterBridge Venture, The Bunting Family Private Fund, and Srivatsan Rajan\\nSeries C 4,000,000\\n10 18/05/2020 LetsTransport Logistics Solution Provider Logistics, Transportation, Travel Bangalore InnoVen Capital Venture - Series Unknown 1,700,000\\nShowing 1 to 10 of 10 entries\\nPreviousNext\",\n",
       " \"Show\\n10\\n25\\n50\\n100\\nentries\\nSearch:\\nSr. No. Date (dd/mm/yyyy) Startup Name Industry / Vertical Sub-Vertical City / Location Investors' Name Investment Type Amount (In USD)\\n1 09/04/2020 Vedantu EduTech Online Tutoring Bengaluru Legend Capital Series C1 12,560,000\\n2 06/04/2020 Swiggy Online Food Delivery Online Food Delivery Bengaluru Tencent, Ark Impact, Korea Investment Partners, Samsung Ventures, and Mirae Asset Capital Markets\\nSeries 1 43,000,000\\n3 08/04/2020 Zupee\\nGaming Gaming Gurugram Matrix Partners India, Falcon Edge Capital, WestCap Group, Orios Venture Partners and Smile Group\\n\\nSeries A 8,000,000\\n4 07/04/2020 DeHaat AgriTech AgriTech Patna Sequoia Capital India, FMO, Omnivore and AgFunder. Series A 12,000,000\\n5 15/04/2020 BigBasket\\nE-commerce Online Grocery Delivery Bengaluru Alibaba Group Debt Financing 50,000,000\\n6 08/04/2020 Fingerlix Food Delivery Ready-to-Cook Food Mumbai Accel, Zephyr Peacock, Swiggy, and RB Investments\\nSeries C 1,800,000\\n7 31/03/2020 Nykaa\\n\\nE-commerce Cosmetic and Beauty Products Mumbai Steadview Capital Series F 13,000,000\\n8 02/04/2020 Recko Digital Reconcilation and Financial Services AI-powered Reconciliation of Digital Transactions Bengaluru Vertex Ventures Southeast Asia and India and Prime Venture Partners Series A 6,000,000\\nShowing 1 to 8 of 8 entries\\nPreviousNext\",\n",
       " \"Show\\n10\\n25\\n50\\n100\\nentries\\nSearch:\\nSr. No. Date (dd/mm/yyyy) Startup Name Industry / Vertical Sub-Vertical City / Location Investors' Name Investment Type Amount (In USD)\\n1 04/03/2020 Soxytoes E-commerce Socks Noida Angel Networks Angel NA\\n2 02/03/2020 Chqbook.com Finance Financial Services Gurugram Aavishkaar Capital Series A 5,000,000\\n3 06/03/2020 Paperboat\\nE-commerce Beverages and Snacks Bengaluru Advent Management, A91 Emerging Fund, and Trifecta Venture.\\n\\nDebt Financing 4,000,000\\n4 13/03/2020 CollegeKhabri EduTech Education Bhopal Vdiec Global Angel NA\\n5 12/03/2020 FamPay\\nFinance Online Payment Bengaluru Y Combinator, Venture Highway, Sequoia India, and GFC (Global Founders Capital). Seed 4,700,000\\n6 12/03/2020 MultiLiving Real Estate Home Renting and Management Mumbai Lodha Ventures Series A 6,000,000\\n7 12/03/2020 Ola Electric\\nTransport Cab and Bike Taxi Bengaluru Pawan Munjal Family Trust Series B 1,000,000\\n8 12/03/2020 Mera Kisan Food Production Organic Products Pune Ajinkya Rahane Private Equity NA\\nShowing 1 to 8 of 8 entries\\nPreviousNext\",\n",
       " \"Show\\n10\\n25\\n50\\n100\\nentries\\nSearch:\\nSr. No. Date (dd/mm/yyyy) Startup Name Industry / Vertical Sub-Vertical City / Location Investors' Name Investment Type Amount (In USD)\\n1 03/02/2020 1mg E-commerce Medicine Gurugram Bill & Melinda Gates Foundation Venture Series 10,000,000\\n2 03/02/2020 RACEnergy Transportation Electric Vehicle Hyderabad GrowX Ventures Seed NA\\n3 31/01/2020 Adonmo\\nAdvertising Advertising Hyderabad BAce Capital Pre-Series A 3,000,000\\n4 31/01/2020 DoubtNut Education Online Tutoring Gurugram Tencent Holdings Series A 15,000,000\\n5 30/01/2020 MultiplyMyLeads Real Estate Real Estate New Delhi Frontline Strategy Funds and SucSEED Venture Partners. Venture Series NA\\n6 03/02/2020 Embibe EduTech AI based learning Mumbai Reliance Industries Limited (RIL) Venture Series 12,625,020\\n7 10/02/2020 FirstCry\\nE-commerce Baby Products Pune Softbank Vision Fund Series E 296,000,000\\n8 10/02/2020 Pepperfry E-commerce Furniture Mumbai Pidilite Industries Series F 37,000,000\\n9 18/02/2020 MaxWholesale E-commerce B2B platform for groceries New Delhi IAN Fund and Al Falaj Investment Co Series A 3,000,000\\n10 06/02/2020 Dot Information Technology and Services Information Technology and Services Gurgaon PayU and Fosun RZ Capital Seed 8,000,000\\nShowing 1 to 10 of 17 entries\\nPreviousNext\",\n",
       " \"Show\\n10\\n25\\n50\\n100\\nentries\\nSearch:\\nSr. No. Date (dd/mm/yyyy) Startup Name Industry / Vertical Sub-Vertical City / Location Investors' Name Investment Type Amount (In USD)\\n1 09/01/2020 BYJU’S E-Tech E-learning Bengaluru Tiger Global Management Private Equity Round 200,000,000\\n2 13/01/2020 Shuttl Transportation App based shuttle service Gurgaon Susquehanna Growth Equity Series C 8,048,394\\n3 09/01/2020 Mamaearth E-commerce Retailer of baby and toddler products Bengaluru Sequoia Capital India Series B 18,358,860\\n4 02/01/2020 https://www.wealthbucket.in/ FinTech Online Investment New Delhi Vinod Khatumal Pre-series A 3,000,000\\n5 02/01/2020 Fashor Fashion and Apparel Embroiled Clothes For Women Mumbai Sprout Venture Partners Seed Round 1,800,000\\n6 13/01/2020 Pando Logistics Open-market, freight management platform Chennai Chiratae Ventures Series A 9,000,000\\n7 10/01/2020 Zomato Hospitality Online Food Delivery Platform Gurgaon Ant Financial Private Equity Round 150,000,000\\nShowing 1 to 7 of 7 entries\\nPreviousNext\",\n",
       " \"Show\\n10\\n25\\n50\\n100\\nentries\\nSearch:\\nSr. No. Date (dd/mm/yyyy) Startup Name Industry / Vertical Sub-Vertical City / Location Investors' Name Investment Type Amount (In USD)\\n1 12/12/2019 Ecozen Technology Agritech Pune Sathguru Catalyzer Advisors Series A 6,000,000\\n2 06/12/2019 CarDekho E-Commerce Automobile Gurgaon Ping An Global Voyager Fund Series D 70,000,000\\n3 3/12/2019 Dhruva Space Aerospace Satellite Communication Bengaluru Mumbai Angels, Ravikanth Reddy Seed 50,000,000\\n4 13/12/2019 Rivigo Technology Logistics Services and Solutions Gurgaon SAIF Partners, Spring Canter Investment Ltd. Series F 20,000,000\\n5 17/12/2019 Healthians B2B-focused foodtech startup Food Solutions For Corporate Bengaluru Paytm, NPTK, Sabre Partners and Neoplux Series C 12,000,000\\n6 16/12/2019 Licious E-Commerce Online Meat And Seafood Ordering Startup Bengaluru Vertex Growth Fund Series E 30,000,000\\n7 16/12/2019 InCred Finance Non-Banking Financial Company Mumbai Debt Funding 5,900,000\\n8 14/12/2019 Trell Video Experience Discovery Platform Bengaluru Ruizheng Investment Seed Round 2,000,000\\n9 11/12/2019 Rein Games Gaming Real money based gaming startup Noida Manipal Education and Medical Group (MEMG) Seed Round 50,000,000\\n10 20/12/2019 Lenskart.com E-Commerce Online Eyewear Shopping Portal Faridabad SoftBank Vision Fund Series G 231,000,000\\nShowing 1 to 10 of 10 entries\\nPreviousNext\",\n",
       " \"Show\\n10\\n25\\n50\\n100\\nentries\\nSearch:\\nSr. No. Date (dd/mm/yyyy) Startup Name Industry / Vertical Sub-Vertical City / Location Investors' Name Investment Type Amount (In USD)\\n1 13/11/2019 Freshworks Software Business and customer engagement tools San Francisco Sequoia, CapitalG, Accel Series H 15,000,0000\\n2 14/11/2019 Misters Health and wellness Men's Health and Wellness brand Gurgaon Sauce.vc, Rainforest Ventures Series B 486,000\\n3 13/11/2019 Sunstone Eduversity Pvt. Ltd Education Elearning Gurgaon Prime Venture Partners, LetsVenture, PS1 Venture and GlobalLogic co-founder Rajul Garg Seed 1,500,000\\n4 17/11/2019 Burger Singh Food and Beverage Indian Burger Brand Gurgaon RB Investments Venture undisclosed\\n5 18/11/2019 Healthians Health and Wellness Healthcare services Gurgaon DG Daiwa Ventures, DG Incubation Series B 12,000,000\\n6 15/11/2019 Ninjacart B2B Marketing Agritech Bengaluru Trifecta Capital Advisors Debt Funding 26,000,000\\n7 20/11/2019 Aye Finance FinTech Financial Services To MSMEs Gurgaon FinTech Debt Funding 17,411,265\\n8 12/11/2019 SuperGaming Video Games Social gaming platform Pune Dream Incubator Seed Funding 1,300,000\\n9 20/11/2019 Clumio SaaS Recovery software San Jose, Altimeter Capital, Sutter Hill Ventures Series C 135,000,000\\n10 11/11/2019 eBikeGo Last Mile Transportation Electric bike rental Amritsar Startup Buddy Seed 300,000\\nShowing 1 to 10 of 15 entries\\nPreviousNext\",\n",
       " \"Show\\n10\\n25\\n50\\n100\\nentries\\nSearch:\\nSr. No. Date (dd/mm/yyyy) Startup Name Industry / Vertical Sub-Vertical City / Location Investors' Name Investment Type Amount (In USD)\\n1 04/10/2019 Dunzo Customer Service Delivery Service Bengaluru Lightbox Series D 4,50,00,000\\n2 02/10/2019 Udaan B2B Business development Bengaluru Altimeter Capital, DST Global Series D 58,50,00,000\\n3 21/10/2019 The Man Company\\nConsumer Goods Beauty and Grooming Gurgaon Ayushmann Khurana Corporate Round unknown\\nShowing 1 to 3 of 3 entries\\nPreviousNext\",\n",
       " \"Show\\n10\\n25\\n50\\n100\\nentries\\nSearch:\\nSr. No. Date (dd/mm/yyyy) Startup Name Industry / Vertical Sub-Vertical City / Location Investors' Name Investment Type Amount (In USD)  \\n1 05/09/2019 FPL Technologies FinTech Financial Services Pune Matrix Partners India, Sequoia India Maiden Round 4,500,000\\n2 04/09/2019 Cashflo FinTech Invoice discounting platform and SME lending marketplace Mumbai SAIF Partners Series A 3,300,000\\n3 04/09/2019 Digital F5 Advertising, Marketing Digital marketing firm Mumbai TIW Private Equity Private Equity Round 6,000,000\\n4 04/09/2019 3rdFlix SaaS Education Technology Hyderabad Exfinity Venture Partners pre-series A 5,000,000\\n5 04/09/2019 75F IoT Building automation system Burnsville Breakthrough Energy Ventures Series A 18,000,000\\n6 04/09/2019 Myelin Foundry Information Technology Deep-technology Bengaluru Endiya Partners Seed 10,00,000\\n7 04/09/2019 Atomberg Technology Consumer Technology Consumer Electronics, Home Appliances Mumbai A91 Partners Series A 10,000,000\\n8 04/09/2019 GOQii Health and Wellness Wearable Fitness Bands Menlo Park Bennett Coleman and Company Ltd (BCCL) Series C 450,000,000\\n9 03/09/2019 Vyapar App Accounting Mobile-based Accounting Software Bengaluru India Quotient, Axilor Ventures Series A 5,000,000\\nShowing 1 to 10 of 10 entries\\nPreviousNext\",\n",
       " \"Show\\n10\\n25\\n50\\n100\\nentries\\nSearch:\\nSr. No. Date (dd/mm/yyyy) Startup Name Industry / Vertical Sub-Vertical City / Location Investors' Name Investment Type Amount (In USD)\\n1 01/08/2019 CarDekho E-Commerce Automotive Gurgaon SC GG India Mobility Holdings LLC Series C 20,000,000\\n2 01/08/2019 Progcap Finance Supply Chain Management New Delhi Sequoia India Series A 5,000,000\\n3 01/08/2019 MyPetrolPump Retail Fuel Delivery Bengaluru Seed Funding Round 1,600,000\\n4 01/08/2019 Alteria Capital Finance VC Funds Mumbai Azim Premji, Binny Bansal Single Venture 140,000,000\\n5 01/08/2019 Pine Labs Information Technology Last-mile retail transaction technology Noida Pine Labs Pte Ltd Corporate Round 38,080,000\\n6 12/08/2019 Meesho E-Commerce Social Commerce Bengaluru Naspers Series D 125,000,000\\n7 13/08/2019 Cars24 E-Commerce Car Retail Gurugram MS Dhoni Series D 11,000,000\\n8 13/08/2019 Uniphore Customer Service Platform Conversational AI Palo Alto March Capital Partners Series C 51,000,000\\n9 23/08/2019 Zendrive Automotive Road Safety Analytics San Francisco XL Innovate Series B 37,000,000\\n10 23/08/2019 Lo! Foods Consumer Goods Low carb food for Diabetics Bengaluru Rashmi Daga (founder, FreshMenu), Raveen Sastry (co-founder, Myntra) and Mitesh Shah (finance chief, BookMyShow) Seed Round 500,000\\nShowing 1 to 10 of 17 entries\\nPreviousNext\",\n",
       " \"Show\\n10\\n25\\n50\\n100\\nentries\\nSearch:\\nSr. No. Date (dd/mm/yyyy) Startup Name Industry / Vertical Sub-Vertical City / Location Investors' Name Investment Type Amount (In USD)\\n1 02/07/2019 RenewBuy Finance Auto Insurance Gurgaon Lok Capital, IIFL Wealth Series B 19,000,000\\n2 02/07/2019 Atlan Information Technology Big Data Singapore WaterBridge Ventures Pre-Series A 2,500,000\\n3 01/07/2019 WizCounsel Compliance Consulting New Delhi Kapil Dev Angel 145,000\\n4 03/07/2019 Ola Cabs Transport Cabs Kormangala DIG Investment Ab, Deshe Holdings, Samih Toukan and Hussam Khoury Series J 1,000,000\\n5 01/07/2019 Uniphore Artificial Intelligence Speech Recognition Taramani March Capital Partners Series C 38,080,000\\n6 04/07/2019 Daalchini Technologies Food and Beverage Digital Vending Machine New Delhi Artha Venture Seed Round 500,000\\n7 10/07/2019 BYJU'S EdTech Education Bengaluru Qatar Investment Authority Private Equity Round 150,000,000\\n8 11/07/2019 Moglix E-Commerce Industrial Tools and Equipments Singapore Composite Capital Management, Sequoia Capital India, Tiger Global Management Series D 60,000,000\\n9 10/07/2019 Ezyhaul Tech Logistics Singapore Undisclosed Series B 16,000,000\\n10 10/07/2019 Indus OS Tech Smartphone Operating System Andheri Ventureast Series B 5,750,000\\nShowing 1 to 10 of 13 entries\\nPreviousNext\",\n",
       " \"Show\\n10\\n25\\n50\\n100\\nentries\\nSearch:\\nSr. No. Date (dd/mm/yyyy) Startup Name Industry / Vertical Sub-Vertical City / Location Investors' Name Investment Type Amount (In USD)\\n1 05/06/2019 NoBroker E-Commerce Real Estate Bengaluru General Atlantic Series C 5,10,00,000\\n2 04/06/2019 Bira91 Food and Beverage Brewery New Delhi Anicut Capital Debt Funding 1,00,00,000\\n3 03/06/2019 FabHotels E-Commerce Hospitality Gurgaon Goldman Sachs, Accel Partners and Qualcomm 48,89,975.54\\n4 03/06/2019 Avail Finance Finance FinTech Bengaluru Matrix Partners Series A 90,00,000\\n5 04/06/2019 BharatPe Finance FinTech New Delhi Insight Partners Series B 7,50,00,000\\n6 04/06/2019 Recykal Waste Management Service Optimization Hyderabad Triton Investment Advisors, Pidilite Industries director Ajay Parekh pre-Series A 26,000,000\\n7 03/06/2019 Agara Labs Deep-Tech Artificial Intelligence Bengaluru Blume Ventures and RTP Global pre-Series A 25,00,000\\n8 06/06/2019 Sistema.bio Agriculture Hybrid Reactor Biodigestor Nairobi Shell Foundation, DILA CAPITAL, Engie RDE Fund, EcoEnterprise Fund, EDFIMC (ElectriFI), Endeavor Catalyst Fund, CoCapital, Triodos, Alpha Mundi, and Lendahand 27,39,034.68\\n9 06/06/2019 Chakr Innovation Energy Renewable Energy New Delhi IAN Fund Series A 26,000,000\\n10 06/06/2019 Pratilipi Digital Media E-Books Bengaluru Qiming Venture Partners Series B 1,51,09,500.00\\nShowing 1 to 10 of 15 entries\\nPreviousNext\",\n",
       " \"Show\\n10\\n25\\n50\\n100\\nentries\\nSearch:\\nSr. No. Date (dd/mm/yyyy) Startup Name Industry / Vertical Sub-Vertical City / Location Investors' Name Investment Type Amount (In USD)\\n1 06/05/2019 Ola Electric Transport Cabs Bengaluru Tata Sons Series A undisclosed\\n2 06/05/2019 Saahas Zero Waste Waste Management Service Optimization Bengaluru C4D Partners Venture - Series Unknown 868,600\\n3 05/05/2019 StyleDotMe E-commerce Fashion and Shopping Delhi Indian Angel Network and other angel investors, Innov8 founder Ritesh Malik, Josh Talks founders Supriya Paul and Shobha Banga, and former Hero Corporate president Rohit Chanana Bridge Round undisclosed\\n4 01/05/2019 BlackBuck Transport Logistics Bengaluru Goldman Sachs Investment Partners and Silicon Valley-based Accel, Wellington, Sequoia Capital, B Capital, LightStreet, Sands Capital and International Finance Corporation, Series D 150,000,000\\n5 02/05/2019 Zenoti Saas Beauty and Wellness Industry Hyderabad Tiger Global Management Series C 50,000,000\\n6 28/05/2019 Ather Energy Automobile Electric Vehicle Bengaluru Sachin Bansal Series C 5,10,00,000\\n7 28/05/2019 FreshVnF Agtech Fresh Agriculture Produces Mumbai Equanimity Ventures Seed Round 14,00,00,000\\n8 30/05/2019 GlowRoad E-commerce Retail Bengaluru Korea Investment Partners, Vertex Ventures Series B 1,15,00,000\\n9 31/05/2019 Bira91 Food and Beverage Brewery New Delhi Sixth Sense Ventures Series B 56,00,000\\nShowing 1 to 9 of 9 entries\\nPreviousNext\",\n",
       " \"Show\\n10\\n25\\n50\\n100\\nentries\\nSearch:\\nSr. No. Date (dd/mm/yyyy) Startup Name Industry / Vertical Sub-Vertical City / Location Investors' Name Investment Type Amount (In USD)\\n1 16/04/2019 Kuvera Finance Wealth Management Bengaluru Eight Roads Series A 45,000,000\\n2 12/04/2019 Medlife E-commerce Online Medicine Bengaluru Prasid Uno Family Trust Private Equity 17,000,000\\n3 10/04/2019 Kabadiwala E-commerce Waste Management Bhopal Unilever, Beehive Capital Advisor, ABCOM Investments, Parekh Marine Transport, Private Equity 430,665\\n4 13/04/2019 Tripoto Social Media Travel New Delhi Orchid India, Hornbill Orchid India Fund, Chiratae Ventures (formerly IDG Ventures), 3one4 Capital, Lasmer NV Series B 3,591,375\\n5 12/04/2019 Azah Health and Wellness Organic wellness Gurugram Unnamed angel investors Seed Funding 200,000\\n6 11/04/2019 Setu Fintech Banking Bengaluru Lightspeed India Partners Seed Funding 3,500,000\\n7 10/04/2019 Toppr Edtech E-learning Mumbai Milestone Debt and Preference capital 6,320,820\\n8 10/04/2019 Craftsvilla E-commerce Fashion and Apparel Mumbai Supera Pte Ltd Inhouse Funding 2,443,495\\n9 10/04/2019 Unacademy Edtech E-learning Bengaluru Kalyan Krishnamurthy Seed/ Angel Funding 307,000\\n10 11/04/2019 CleverTap SaaS Mobile analytics and marketing Mumbai Sequoia India, Tiger Global Management, Accel Partners Series B 26,000,000\\nShowing 1 to 10 of 14 entries\\nPreviousNext\",\n",
       " \"Show\\n10\\n25\\n50\\n100\\nentries\\nSearch:\\nSr. No. Date (dd/mm/yyyy) Startup Name Industry / Vertical Sub-Vertical City / Location Investors' Name Investment Type Amount (In USD)\\n1 1/02/2019 FleetX AI Logistics Gurgaon India Quotient and LetsVenture’s Angel Fund Pre Series A Undisclosed\\n2 8/02/2019 Zilingo Ecommerce Fashion & Apparel India/Singapore Sequoia Capital and Temasek Holdings, EDBI, Burda Principal Investments, and Sofina Series D 226,000,000\\n3 13/02/2019 NanoClean Global Nanotechnology Anti-Pollution New Delhi LetsVenture, PitchRight Venture, 91SpringBoard, AL Nour International Holdings and Mark V Investments Series A 600,000\\n4 14/02/2018 OyoRooms Hospitality Budget Rooms Gurgaon DiDi Chuxing Equity 100,000,000\\nShowing 1 to 4 of 4 entries\\nPreviousNext\",\n",
       " \"Show\\n10\\n25\\n50\\n100\\nentries\\nSearch:\\nSr. No. Date (dd/mm/yyyy) Startup Name Industry / Vertical Sub-Vertical City / Location Investors' Name Investment Type Amount (In USD)\\n1 03/01/2019 CarDekho Automobile Online Marketplace Jaipur Sequoia India, Hillhouse Capital, Alphabet’s growth investment arm Capital G and Axis Bank Series C 110,000,000\\n2 04/01/2019 Vyome Therapeutics Inc. Health and Wellness Specialty pharmaceutical India/US Iron Pillar, Perceptive Advisors, Romulus Capital and Kalaari Capital Series D 22,000,000\\n3 04/01/2019 Samunnati Financial Intermediation & Services Pvt. Ltd Finance Non-banking financial company Chennai MASSIF, a Dutch government fund Debt-Funding 5,000,000\\n4 04/12/2018 Manch Social Media Hyperlocal Content Delhi Stellaris Venture Partners Seed Funding 700,000\\nShowing 1 to 4 of 4 entries\\nPreviousNext\",\n",
       " \"Show\\n10\\n25\\n50\\n100\\nentries\\nSearch:\\nSr. No. Date (dd/mm/yyyy) Startup Name Industry / Vertical Sub-Vertical City / Location Investors' Name Investment Type Amount (In USD)\\n1 01/12/2018 UrbanClap Technologies Pvt. Ltd Services Platform Home services marketplace New Delhi Steadview Capital and Vy Capital. Series D 50,000,000\\n2 02/12/2018 Guiddoo Travel Tech Platform for travel agents Mumbai Individual Investors Pre-Series A 800,000\\n3 02/12/2018 Career Anna Online Education Video-based certification, trainings Gurugram Individual Investors Pre-Series A 572,000\\n4 04/12/2018 Nagpur Wholesale Online Marketplace eCommerce Nagpur Omphalos Ventures India LLP Seed Funding 143,000\\n5 06/12/2018 ShopKirana B2B eCommerce Indore Info Edge, AET Fund, Akatsuki and Incubate Fund from Japan and Better Capital AngelList syndicate. Seed Funding 2,000,000\\n6 06/12/2018 BuildSupply SaaS, Ecommerce Real Estate, ERP Gurugram Venture Highway, GREE Ventures, Space Matrix, Individual Investors Series A 3,500,000\\nShowing 1 to 6 of 6 entries\\nPreviousNext\",\n",
       " \"Show\\n10\\n25\\n50\\n100\\nentries\\nSearch:\\nSr. No. Date (dd/mm/yyyy) Startup Name Industry / Vertical Sub-Vertical City / Location Investors' Name Investment Type Amount (In USD)\\n1 01/11/2018 GoDesi Food and Beverage Regional Flavours Bengaluru Lead Angels Network Seed/ Angel Funding 1,38,995\\n2 03/11/2018 Veritas Finance Ltd. NBFC MSME Finance Chennai Norwest Venture Partners, CDC Group, the UK’s Development Finance Institution and P Surendra Pai Series D 27,799,000\\n3 06/11/2018 Meesho Ecommerce Social Commerce Bengaluru Shunwei Capital, DST Partners and RPS Ventures Series C 50,000,000\\n4 08/11/2018 Mobile Premier League Gaming Mobile e-Sports Bengaluru Undisclosed Series A 5,00,000\\n5 8/11/2018 A&R Bon Vivants Food Meat Retail Chain Jaipur RB Investments, Singapore Equity 1,000,000\\n6 12/11/2018 Blackbuck Food Tech POS For Online Ordering New York, Bengaluru Tiger Global Series A 1,000,000\\n7 12/11/2018 MilkBAsket Food Micro-delivery grocery service New Delhi Mayfield Fund Series B 1,300,000\\n8 13/11/2018 DriveU Transport On-Demand Drivers Bengaluru Stevens Creek Ventures Mezzanine 1,000,000\\n9 14/11/2018 CleanseCar Services Car Wash Bengaluru Venture Catalysts Seed/ Angel Funding 500,000\\n10 19/11/2018 Automation Anywhere Automation Robotics California SoftBank Vision Fund Series B 300,000,000\\nShowing 1 to 10 of 18 entries\\nPreviousNext\",\n",
       " \"Show\\n10\\n25\\n50\\n100\\nentries\\nSearch:\\nSr. No. Date (dd/mm/yyyy) Startup Name Industry / Vertical Sub-Vertical City / Location Investors' Name Investment Type Amount (In USD)\\n1 01/10/2018 Northmist Fashion Mens Wear Delhi Prashant Jaiswal Seed/ Angel Funding N/A\\n2 02/10/2018 Origo Commodities India Pvt. Ltd Logistics Supply Chain Hyderabad Cooperative Oikocredit, Caspian and Hivos-Triodos Fund Seed/ Angel Funding 11,000,000\\n3 04/10/2018 Grover Zampa Food Wine Mumbai Ravi Viswanathan Private Equity 8,200,000\\n4 05/10/2018 Droom Automobile New and Used Cars Platform Gurgaon ZigExN Series E 30,00,000\\n5 11/10/2018 Innov8 Real Estate Co-Working New Delhi Credence Family Office Pre-Series A 4,000,000\\n6 12/10/2018 Blackbuck Logistics Tech Largest Trucking Platform Bengaluru Sequoia Capital India Private Funding 14,680,000\\n7 12/10/2018 LetsTransport Logistics Tech Book Trucks Online Bengaluru Fosun International Series C 12,000,000\\nShowing 1 to 7 of 7 entries\\nPreviousNext\",\n",
       " \"Show\\n10\\n25\\n50\\n100\\nentries\\nSearch:\\nSr. No. Date (dd/mm/yyyy) Startup Name Industry / Vertical Sub-Vertical City / Location Investors' Name Investment Type Amount (In USD)\\n1 01/09/2018 Netmeds Consumer Internet Online Pharmacy Chain Chennai Sistema Asia Fund, Sistema JSFC and Tanncam Investment Private Equity 35,000,000\\n2 03/09/2018 Udaan B2B Platform Logistics and Shipping Bengaluru DST Global and Lightspeed Venture Partners’ global fund. Private Equity 225,000,000\\n3 03/09/2018 Daily hunt Consumer Internet News and ebooks Mobile App  Bengaluru Falcon Edge Private Equity 63,90,000\\n4 04/09/2018 3HCare Healthcare Healthcare Service Provider Delhi N/A Seed / Angel Funding 1,000,000\\n5 04/09/2018 HappyGoEasy Consumer Internet Online Travel Agecy Gurugram Korea Investment Partners (KIP), Samsung and China-based CITIC Capital and others Private Equity N/A\\n6 05/09/2018 Nykaa Consumer Internet Online Marketplace For Multi-brand Beauty Cosmetic and Wellness Products Mumbai Lighthouse Private Equity 15,72,00,000\\n7 05/09/2018 Mad Street Den Technology Computer Vision And Artificial Intelligence (Ai) Platform Chennai KDDI  Private Equity N/A\\n8 06/09/2018 Dream11 Consumer Internet Online Gaming Platform Mumbai Tencent, Kalaari Capital and Private equity firm Multiples Alternate Asset Management Private Equity 100,000,000\\n9 10/09/2018 MamaEarth Healthcare Online Marketplace For Mother and Babycare Products Gurugram Stellaris Ventures & Others Private Equity 4,000,000\\n10 11/09/2018 AutoGrid Technology AI-Based Energy Optimisation and Control Provider Bengaluru CLP Holdings Group, Innogy, Ørstead, and Tenaska Private Equity 32,000,000\\nShowing 1 to 10 of 14 entries\\nPreviousNext\",\n",
       " \"Show\\n10\\n25\\n50\\n100\\nentries\\nSearch:\\nSr. No. Date (dd/mm/yyyy) Startup Name Industry / Vertical Sub-Vertical City / Location Investors' Name Investment Type Amount (In USD)\\n1 01/08/2018 dishq Food-Tech Personalisation Technology Firm Focusing On The Food And Beverage Industry Bengaluru Farm To Fork, Arts Alliance, The Syndicate Fund, Sven Hensen, Zeroth and Artesian Venture Partners Seed/ Angel Funding 400,000\\n2 01/08/2018 HealthFin Finance Patient Financing Platform Pune Axilor, Sprout Venture Partners and others Seed/ Angel Funding N/A\\n3 02/08/2018 Samosa Labs Consumer Internet Social Media and Chat Entertainment Platform Hyderabad Xiaomi and Sequoia Capital India Private Equity 7,000,000\\n4 03/08/2018 ZiffyHomes Consumer Internet Online Home Rental Marketplace Gurugram Y Combinator Private Equity 120,000\\n5 07/08/2018 My OmNamo Consumer Internet Holy Platform Offering Customised Puja Packages To Individuals and Corporates Mumbai N/A Seed/ Angel Funding 1,000,000\\n6 07/08/2018 ShopX Consumer Internet Assisted E-commerce Platform Bengaluru Fung Strategic Holdings Private Equity 35,000,000\\n7 07/08/2018 MakeMyTrip Consumer Internet Online Travel Aggregator Gurugram MakeMyTrip Limited Private Equity 10,000,000\\n8 08/08/2018 Hansel io Consumer Internet Real-time Mobile App Management Bengaluru Vertex Ventures Seed/ Angel Funding 40,00,000\\n9 08/08/2018 Metro Bikes Consumer Internet Online Bike Rental Marketplace Bengaluru Sequoia Capital India Advisors, Accel Partners and G Raghunandan Private Equity 12,200,000\\n10 08/08/2018 Phone Pe Consumer Internet UPI Payments App Bengaluru Flipkart Private Equity 66,000,000\\nShowing 1 to 10 of 25 entries\\nPreviousNext\",\n",
       " \"Show\\n10\\n25\\n50\\n100\\nentries\\nSearch:\\nSr. No. Date (dd/mm/yyyy) Startup Name Industry / Vertical Sub-Vertical City / Location Investors' Name Investment Type Amount (In USD)\\n1 01/07/2018 Leena AI Technology HR Virtual Agent For Employees Gurugram Y Combinator Seed/ Angel Funding N/A\\n2 02/07/2018 Biryani By Kilo Consumer Internet Online Food Delivery Gurugram Ajay Relan and Vinay Mittal Seed/ Angel Funding 1,000,000\\n3 04/07/2018 Anchanto IT E-commerce Fulfilment Platform Pune MDI Ventures & Telkom Indonesia Private Equity 4,000,000\\n4 05/072018 Loan Tap Consumer Internet Online Lending Platform For Salaried Professionals Mumbai Shunwei Capital, Tuscan Ventures, Ashish Goenka, VC firms India Quotient and Kae Capital Private Equity 62,50,000\\n5 06/07/2018 PolicyBazaar Consumer Internet Online Insurance Selling Platform Gurugram Info Edge (India) Ltd and Temasek Private Equity 2,7700,000\\n6 09/07/2018 zippserv Consumer Internet Online Platform For Risk-Assessment Services For Real Estate Investments Bengaluru Info Edge (India) Ltd Seed/ Angel Funding 440,000\\n7 09/07/2018 Groww Consumer Internet Online Platform That Sells Direct Plans Of Mutual Funds Bengaluru Insignia Ventures Partners, Lightbridge Partners & Kairos Seed/ Angel Funding 1,100,000\\n8 10/07/2018 Avenue Growth Consumer Internet Online Platform That Connects Brands With Freelance Sales Professionals Gurugram Avtar Monga, chief operating office at IDFC Bank, Aditya Malik & Others Seed/ Angel Funding 437,000\\n9 10/07/2018 iNICU Healthcare Med-tech Platform Providing Care For Newborns Delhi Venture Catalysts Seed/ Angel Funding N/A\\n10 10/07/2018 Kinara Capital Finance Lending Platform For Micro and Small Enterprises Bengaluru ResponsAbility Private Equity 5,000,000\\nShowing 1 to 10 of 36 entries\\nPreviousNext\",\n",
       " \"Show\\n10\\n25\\n50\\n100\\nentries\\nSearch:\\nSr. No. Date (dd/mm/yyyy) Startup Name Industry / Vertical Sub-Vertical City / Location Investors' Name Investment Type Amount (In USD)\\n1 01/10/2018 Northmist Fashion Mens Wear Delhi Prashant Jaiswal Seed/ Angel Funding N/A\\n2 02/10/2018 Origo Commodities India Pvt. Ltd Logistics Supply Chain Hyderabad Cooperative Oikocredit, Caspian and Hivos-Triodos Fund Seed/ Angel Funding 11,000,000\\n3 04/10/2018 Grover Zampa Food Wine Mumbai Ravi Viswanathan Private Equity 8,200,000\\n4 05/10/2018 Droom Automobile New and Used Cars Platform Gurgaon ZigExN Series E 30,00,000\\n5 11/10/2018 Innov8 Real Estate Co-Working New Delhi Credence Family Office Pre-Series A 4,000,000\\n6 12/10/2018 Blackbuck Logistics Tech Largest Trucking Platform Bengaluru Sequoia Capital India Private Funding 14,680,000\\n7 12/10/2018 LetsTransport Logistics Tech Book Trucks Online Bengaluru Fosun International Series C 12,000,000\\nShowing 1 to 7 of 7 entries\\nPreviousNext\",\n",
       " \"Show\\n10\\n25\\n50\\n100\\nentries\\nSearch:\\nSr. No. Date (dd/mm/yyyy) Startup Name Industry / Vertical Sub-Vertical City / Location Investors' Name Investment Type Amount (In USD)\\n1 01/09/2018 Netmeds Consumer Internet Online Pharmacy Chain Chennai Sistema Asia Fund, Sistema JSFC and Tanncam Investment Private Equity 35,000,000\\n2 03/09/2018 Udaan B2B Platform Logistics and Shipping Bengaluru DST Global and Lightspeed Venture Partners’ global fund. Private Equity 225,000,000\\n3 03/09/2018 Daily hunt Consumer Internet News and ebooks Mobile App  Bengaluru Falcon Edge Private Equity 63,90,000\\n4 04/09/2018 3HCare Healthcare Healthcare Service Provider Delhi N/A Seed / Angel Funding 1,000,000\\n5 04/09/2018 HappyGoEasy Consumer Internet Online Travel Agecy Gurugram Korea Investment Partners (KIP), Samsung and China-based CITIC Capital and others Private Equity N/A\\n6 05/09/2018 Nykaa Consumer Internet Online Marketplace For Multi-brand Beauty Cosmetic and Wellness Products Mumbai Lighthouse Private Equity 15,72,00,000\\n7 05/09/2018 Mad Street Den Technology Computer Vision And Artificial Intelligence (Ai) Platform Chennai KDDI  Private Equity N/A\\n8 06/09/2018 Dream11 Consumer Internet Online Gaming Platform Mumbai Tencent, Kalaari Capital and Private equity firm Multiples Alternate Asset Management Private Equity 100,000,000\\n9 10/09/2018 MamaEarth Healthcare Online Marketplace For Mother and Babycare Products Gurugram Stellaris Ventures & Others Private Equity 4,000,000\\n10 11/09/2018 AutoGrid Technology AI-Based Energy Optimisation and Control Provider Bengaluru CLP Holdings Group, Innogy, Ørstead, and Tenaska Private Equity 32,000,000\\nShowing 1 to 10 of 14 entries\\nPreviousNext\",\n",
       " \"Show\\n10\\n25\\n50\\n100\\nentries\\nSearch:\\nSr. No. Date (dd/mm/yyyy) Startup Name Industry / Vertical Sub-Vertical City / Location Investors' Name Investment Type Amount (In USD)\\n1 01/08/2018 dishq Food-Tech Personalisation Technology Firm Focusing On The Food And Beverage Industry Bengaluru Farm To Fork, Arts Alliance, The Syndicate Fund, Sven Hensen, Zeroth and Artesian Venture Partners Seed/ Angel Funding 400,000\\n2 01/08/2018 HealthFin Finance Patient Financing Platform Pune Axilor, Sprout Venture Partners and others Seed/ Angel Funding N/A\\n3 02/08/2018 Samosa Labs Consumer Internet Social Media and Chat Entertainment Platform Hyderabad Xiaomi and Sequoia Capital India Private Equity 7,000,000\\n4 03/08/2018 ZiffyHomes Consumer Internet Online Home Rental Marketplace Gurugram Y Combinator Private Equity 120,000\\n5 07/08/2018 My OmNamo Consumer Internet Holy Platform Offering Customised Puja Packages To Individuals and Corporates Mumbai N/A Seed/ Angel Funding 1,000,000\\n6 07/08/2018 ShopX Consumer Internet Assisted E-commerce Platform Bengaluru Fung Strategic Holdings Private Equity 35,000,000\\n7 07/08/2018 MakeMyTrip Consumer Internet Online Travel Aggregator Gurugram MakeMyTrip Limited Private Equity 10,000,000\\n8 08/08/2018 Hansel io Consumer Internet Real-time Mobile App Management Bengaluru Vertex Ventures Seed/ Angel Funding 40,00,000\\n9 08/08/2018 Metro Bikes Consumer Internet Online Bike Rental Marketplace Bengaluru Sequoia Capital India Advisors, Accel Partners and G Raghunandan Private Equity 12,200,000\\n10 08/08/2018 Phone Pe Consumer Internet UPI Payments App Bengaluru Flipkart Private Equity 66,000,000\\nShowing 1 to 10 of 25 entries\\nPreviousNext\",\n",
       " \"Show\\n10\\n25\\n50\\n100\\nentries\\nSearch:\\nSr. No. Date (dd/mm/yyyy) Startup Name Industry / Vertical Sub-Vertical City / Location Investors' Name Investment Type Amount (In USD)\\n1 01/07/2018 Leena AI Technology HR Virtual Agent For Employees Gurugram Y Combinator Seed/ Angel Funding N/A\\n2 02/07/2018 Biryani By Kilo Consumer Internet Online Food Delivery Gurugram Ajay Relan and Vinay Mittal Seed/ Angel Funding 1,000,000\\n3 04/07/2018 Anchanto IT E-commerce Fulfilment Platform Pune MDI Ventures & Telkom Indonesia Private Equity 4,000,000\\n4 05/072018 Loan Tap Consumer Internet Online Lending Platform For Salaried Professionals Mumbai Shunwei Capital, Tuscan Ventures, Ashish Goenka, VC firms India Quotient and Kae Capital Private Equity 62,50,000\\n5 06/07/2018 PolicyBazaar Consumer Internet Online Insurance Selling Platform Gurugram Info Edge (India) Ltd and Temasek Private Equity 2,7700,000\\n6 09/07/2018 zippserv Consumer Internet Online Platform For Risk-Assessment Services For Real Estate Investments Bengaluru Info Edge (India) Ltd Seed/ Angel Funding 440,000\\n7 09/07/2018 Groww Consumer Internet Online Platform That Sells Direct Plans Of Mutual Funds Bengaluru Insignia Ventures Partners, Lightbridge Partners & Kairos Seed/ Angel Funding 1,100,000\\n8 10/07/2018 Avenue Growth Consumer Internet Online Platform That Connects Brands With Freelance Sales Professionals Gurugram Avtar Monga, chief operating office at IDFC Bank, Aditya Malik & Others Seed/ Angel Funding 437,000\\n9 10/07/2018 iNICU Healthcare Med-tech Platform Providing Care For Newborns Delhi Venture Catalysts Seed/ Angel Funding N/A\\n10 10/07/2018 Kinara Capital Finance Lending Platform For Micro and Small Enterprises Bengaluru ResponsAbility Private Equity 5,000,000\\nShowing 1 to 10 of 36 entries\\nPreviousNext\",\n",
       " \"Show\\n10\\n25\\n50\\n100\\nentries\\nSearch:\\nSr. No. Date (dd/mm/yyyy) Startup Name Industry / Vertical Sub-Vertical City / Location Investors' Name Investment Type Amount (In USD)\\n1 01/10/2018 Northmist Fashion Mens Wear Delhi Prashant Jaiswal Seed/ Angel Funding N/A\\n2 02/10/2018 Origo Commodities India Pvt. Ltd Logistics Supply Chain Hyderabad Cooperative Oikocredit, Caspian and Hivos-Triodos Fund Seed/ Angel Funding 11,000,000\\n3 04/10/2018 Grover Zampa Food Wine Mumbai Ravi Viswanathan Private Equity 8,200,000\\n4 05/10/2018 Droom Automobile New and Used Cars Platform Gurgaon ZigExN Series E 30,00,000\\n5 11/10/2018 Innov8 Real Estate Co-Working New Delhi Credence Family Office Pre-Series A 4,000,000\\n6 12/10/2018 Blackbuck Logistics Tech Largest Trucking Platform Bengaluru Sequoia Capital India Private Funding 14,680,000\\n7 12/10/2018 LetsTransport Logistics Tech Book Trucks Online Bengaluru Fosun International Series C 12,000,000\\nShowing 1 to 7 of 7 entries\\nPreviousNext\",\n",
       " \"Show\\n10\\n25\\n50\\n100\\nentries\\nSearch:\\nSr. No. Date (dd/mm/yyyy) Startup Name Industry / Vertical Sub-Vertical City / Location Investors' Name Investment Type Amount (In USD)\\n1 01/09/2018 Netmeds Consumer Internet Online Pharmacy Chain Chennai Sistema Asia Fund, Sistema JSFC and Tanncam Investment Private Equity 35,000,000\\n2 03/09/2018 Udaan B2B Platform Logistics and Shipping Bengaluru DST Global and Lightspeed Venture Partners’ global fund. Private Equity 225,000,000\\n3 03/09/2018 Daily hunt Consumer Internet News and ebooks Mobile App  Bengaluru Falcon Edge Private Equity 63,90,000\\n4 04/09/2018 3HCare Healthcare Healthcare Service Provider Delhi N/A Seed / Angel Funding 1,000,000\\n5 04/09/2018 HappyGoEasy Consumer Internet Online Travel Agecy Gurugram Korea Investment Partners (KIP), Samsung and China-based CITIC Capital and others Private Equity N/A\\n6 05/09/2018 Nykaa Consumer Internet Online Marketplace For Multi-brand Beauty Cosmetic and Wellness Products Mumbai Lighthouse Private Equity 15,72,00,000\\n7 05/09/2018 Mad Street Den Technology Computer Vision And Artificial Intelligence (Ai) Platform Chennai KDDI  Private Equity N/A\\n8 06/09/2018 Dream11 Consumer Internet Online Gaming Platform Mumbai Tencent, Kalaari Capital and Private equity firm Multiples Alternate Asset Management Private Equity 100,000,000\\n9 10/09/2018 MamaEarth Healthcare Online Marketplace For Mother and Babycare Products Gurugram Stellaris Ventures & Others Private Equity 4,000,000\\n10 11/09/2018 AutoGrid Technology AI-Based Energy Optimisation and Control Provider Bengaluru CLP Holdings Group, Innogy, Ørstead, and Tenaska Private Equity 32,000,000\\nShowing 1 to 10 of 14 entries\\nPreviousNext\",\n",
       " \"Show\\n10\\n25\\n50\\n100\\nentries\\nSearch:\\nSr. No. Date (dd/mm/yyyy) Startup Name Industry / Vertical Sub-Vertical City / Location Investors' Name Investment Type Amount (In USD)\\n1 01/08/2018 dishq Food-Tech Personalisation Technology Firm Focusing On The Food And Beverage Industry Bengaluru Farm To Fork, Arts Alliance, The Syndicate Fund, Sven Hensen, Zeroth and Artesian Venture Partners Seed/ Angel Funding 400,000\\n2 01/08/2018 HealthFin Finance Patient Financing Platform Pune Axilor, Sprout Venture Partners and others Seed/ Angel Funding N/A\\n3 02/08/2018 Samosa Labs Consumer Internet Social Media and Chat Entertainment Platform Hyderabad Xiaomi and Sequoia Capital India Private Equity 7,000,000\\n4 03/08/2018 ZiffyHomes Consumer Internet Online Home Rental Marketplace Gurugram Y Combinator Private Equity 120,000\\n5 07/08/2018 My OmNamo Consumer Internet Holy Platform Offering Customised Puja Packages To Individuals and Corporates Mumbai N/A Seed/ Angel Funding 1,000,000\\n6 07/08/2018 ShopX Consumer Internet Assisted E-commerce Platform Bengaluru Fung Strategic Holdings Private Equity 35,000,000\\n7 07/08/2018 MakeMyTrip Consumer Internet Online Travel Aggregator Gurugram MakeMyTrip Limited Private Equity 10,000,000\\n8 08/08/2018 Hansel io Consumer Internet Real-time Mobile App Management Bengaluru Vertex Ventures Seed/ Angel Funding 40,00,000\\n9 08/08/2018 Metro Bikes Consumer Internet Online Bike Rental Marketplace Bengaluru Sequoia Capital India Advisors, Accel Partners and G Raghunandan Private Equity 12,200,000\\n10 08/08/2018 Phone Pe Consumer Internet UPI Payments App Bengaluru Flipkart Private Equity 66,000,000\\nShowing 1 to 10 of 25 entries\\nPreviousNext\",\n",
       " \"Show\\n10\\n25\\n50\\n100\\nentries\\nSearch:\\nSr. No. Date (dd/mm/yyyy) Startup Name Industry / Vertical Sub-Vertical City / Location Investors' Name Investment Type Amount (In USD)\\n1 01/07/2018 Leena AI Technology HR Virtual Agent For Employees Gurugram Y Combinator Seed/ Angel Funding N/A\\n2 02/07/2018 Biryani By Kilo Consumer Internet Online Food Delivery Gurugram Ajay Relan and Vinay Mittal Seed/ Angel Funding 1,000,000\\n3 04/07/2018 Anchanto IT E-commerce Fulfilment Platform Pune MDI Ventures & Telkom Indonesia Private Equity 4,000,000\\n4 05/072018 Loan Tap Consumer Internet Online Lending Platform For Salaried Professionals Mumbai Shunwei Capital, Tuscan Ventures, Ashish Goenka, VC firms India Quotient and Kae Capital Private Equity 62,50,000\\n5 06/07/2018 PolicyBazaar Consumer Internet Online Insurance Selling Platform Gurugram Info Edge (India) Ltd and Temasek Private Equity 2,7700,000\\n6 09/07/2018 zippserv Consumer Internet Online Platform For Risk-Assessment Services For Real Estate Investments Bengaluru Info Edge (India) Ltd Seed/ Angel Funding 440,000\\n7 09/07/2018 Groww Consumer Internet Online Platform That Sells Direct Plans Of Mutual Funds Bengaluru Insignia Ventures Partners, Lightbridge Partners & Kairos Seed/ Angel Funding 1,100,000\\n8 10/07/2018 Avenue Growth Consumer Internet Online Platform That Connects Brands With Freelance Sales Professionals Gurugram Avtar Monga, chief operating office at IDFC Bank, Aditya Malik & Others Seed/ Angel Funding 437,000\\n9 10/07/2018 iNICU Healthcare Med-tech Platform Providing Care For Newborns Delhi Venture Catalysts Seed/ Angel Funding N/A\\n10 10/07/2018 Kinara Capital Finance Lending Platform For Micro and Small Enterprises Bengaluru ResponsAbility Private Equity 5,000,000\\nShowing 1 to 10 of 36 entries\\nPreviousNext\",\n",
       " \"Show\\n10\\n25\\n50\\n100\\nentries\\nSearch:\\nSr. No. Date (dd/mm/yyyy) Startup Name Industry / Vertical Sub-Vertical City / Location Investors' Name Investment Type Amount (In USD)\\n1 01/10/2018 Northmist Fashion Mens Wear Delhi Prashant Jaiswal Seed/ Angel Funding N/A\\n2 02/10/2018 Origo Commodities India Pvt. Ltd Logistics Supply Chain Hyderabad Cooperative Oikocredit, Caspian and Hivos-Triodos Fund Seed/ Angel Funding 11,000,000\\n3 04/10/2018 Grover Zampa Food Wine Mumbai Ravi Viswanathan Private Equity 8,200,000\\n4 05/10/2018 Droom Automobile New and Used Cars Platform Gurgaon ZigExN Series E 30,00,000\\n5 11/10/2018 Innov8 Real Estate Co-Working New Delhi Credence Family Office Pre-Series A 4,000,000\\n6 12/10/2018 Blackbuck Logistics Tech Largest Trucking Platform Bengaluru Sequoia Capital India Private Funding 14,680,000\\n7 12/10/2018 LetsTransport Logistics Tech Book Trucks Online Bengaluru Fosun International Series C 12,000,000\\nShowing 1 to 7 of 7 entries\\nPreviousNext\",\n",
       " \"Show\\n10\\n25\\n50\\n100\\nentries\\nSearch:\\nSr. No. Date (dd/mm/yyyy) Startup Name Industry / Vertical Sub-Vertical City / Location Investors' Name Investment Type Amount (In USD)\\n1 01/09/2018 Netmeds Consumer Internet Online Pharmacy Chain Chennai Sistema Asia Fund, Sistema JSFC and Tanncam Investment Private Equity 35,000,000\\n2 03/09/2018 Udaan B2B Platform Logistics and Shipping Bengaluru DST Global and Lightspeed Venture Partners’ global fund. Private Equity 225,000,000\\n3 03/09/2018 Daily hunt Consumer Internet News and ebooks Mobile App  Bengaluru Falcon Edge Private Equity 63,90,000\\n4 04/09/2018 3HCare Healthcare Healthcare Service Provider Delhi N/A Seed / Angel Funding 1,000,000\\n5 04/09/2018 HappyGoEasy Consumer Internet Online Travel Agecy Gurugram Korea Investment Partners (KIP), Samsung and China-based CITIC Capital and others Private Equity N/A\\n6 05/09/2018 Nykaa Consumer Internet Online Marketplace For Multi-brand Beauty Cosmetic and Wellness Products Mumbai Lighthouse Private Equity 15,72,00,000\\n7 05/09/2018 Mad Street Den Technology Computer Vision And Artificial Intelligence (Ai) Platform Chennai KDDI  Private Equity N/A\\n8 06/09/2018 Dream11 Consumer Internet Online Gaming Platform Mumbai Tencent, Kalaari Capital and Private equity firm Multiples Alternate Asset Management Private Equity 100,000,000\\n9 10/09/2018 MamaEarth Healthcare Online Marketplace For Mother and Babycare Products Gurugram Stellaris Ventures & Others Private Equity 4,000,000\\n10 11/09/2018 AutoGrid Technology AI-Based Energy Optimisation and Control Provider Bengaluru CLP Holdings Group, Innogy, Ørstead, and Tenaska Private Equity 32,000,000\\nShowing 1 to 10 of 14 entries\\nPreviousNext\",\n",
       " \"Show\\n10\\n25\\n50\\n100\\nentries\\nSearch:\\nSr. No. Date (dd/mm/yyyy) Startup Name Industry / Vertical Sub-Vertical City / Location Investors' Name Investment Type Amount (In USD)\\n1 01/08/2018 dishq Food-Tech Personalisation Technology Firm Focusing On The Food And Beverage Industry Bengaluru Farm To Fork, Arts Alliance, The Syndicate Fund, Sven Hensen, Zeroth and Artesian Venture Partners Seed/ Angel Funding 400,000\\n2 01/08/2018 HealthFin Finance Patient Financing Platform Pune Axilor, Sprout Venture Partners and others Seed/ Angel Funding N/A\\n3 02/08/2018 Samosa Labs Consumer Internet Social Media and Chat Entertainment Platform Hyderabad Xiaomi and Sequoia Capital India Private Equity 7,000,000\\n4 03/08/2018 ZiffyHomes Consumer Internet Online Home Rental Marketplace Gurugram Y Combinator Private Equity 120,000\\n5 07/08/2018 My OmNamo Consumer Internet Holy Platform Offering Customised Puja Packages To Individuals and Corporates Mumbai N/A Seed/ Angel Funding 1,000,000\\n6 07/08/2018 ShopX Consumer Internet Assisted E-commerce Platform Bengaluru Fung Strategic Holdings Private Equity 35,000,000\\n7 07/08/2018 MakeMyTrip Consumer Internet Online Travel Aggregator Gurugram MakeMyTrip Limited Private Equity 10,000,000\\n8 08/08/2018 Hansel io Consumer Internet Real-time Mobile App Management Bengaluru Vertex Ventures Seed/ Angel Funding 40,00,000\\n9 08/08/2018 Metro Bikes Consumer Internet Online Bike Rental Marketplace Bengaluru Sequoia Capital India Advisors, Accel Partners and G Raghunandan Private Equity 12,200,000\\n10 08/08/2018 Phone Pe Consumer Internet UPI Payments App Bengaluru Flipkart Private Equity 66,000,000\\nShowing 1 to 10 of 25 entries\\nPreviousNext\",\n",
       " \"Show\\n10\\n25\\n50\\n100\\nentries\\nSearch:\\nSr. No. Date (dd/mm/yyyy) Startup Name Industry / Vertical Sub-Vertical City / Location Investors' Name Investment Type Amount (In USD)\\n1 01/07/2018 Leena AI Technology HR Virtual Agent For Employees Gurugram Y Combinator Seed/ Angel Funding N/A\\n2 02/07/2018 Biryani By Kilo Consumer Internet Online Food Delivery Gurugram Ajay Relan and Vinay Mittal Seed/ Angel Funding 1,000,000\\n3 04/07/2018 Anchanto IT E-commerce Fulfilment Platform Pune MDI Ventures & Telkom Indonesia Private Equity 4,000,000\\n4 05/072018 Loan Tap Consumer Internet Online Lending Platform For Salaried Professionals Mumbai Shunwei Capital, Tuscan Ventures, Ashish Goenka, VC firms India Quotient and Kae Capital Private Equity 62,50,000\\n5 06/07/2018 PolicyBazaar Consumer Internet Online Insurance Selling Platform Gurugram Info Edge (India) Ltd and Temasek Private Equity 2,7700,000\\n6 09/07/2018 zippserv Consumer Internet Online Platform For Risk-Assessment Services For Real Estate Investments Bengaluru Info Edge (India) Ltd Seed/ Angel Funding 440,000\\n7 09/07/2018 Groww Consumer Internet Online Platform That Sells Direct Plans Of Mutual Funds Bengaluru Insignia Ventures Partners, Lightbridge Partners & Kairos Seed/ Angel Funding 1,100,000\\n8 10/07/2018 Avenue Growth Consumer Internet Online Platform That Connects Brands With Freelance Sales Professionals Gurugram Avtar Monga, chief operating office at IDFC Bank, Aditya Malik & Others Seed/ Angel Funding 437,000\\n9 10/07/2018 iNICU Healthcare Med-tech Platform Providing Care For Newborns Delhi Venture Catalysts Seed/ Angel Funding N/A\\n10 10/07/2018 Kinara Capital Finance Lending Platform For Micro and Small Enterprises Bengaluru ResponsAbility Private Equity 5,000,000\\nShowing 1 to 10 of 36 entries\\nPreviousNext\"]"
      ]
     },
     "execution_count": 116,
     "metadata": {},
     "output_type": "execute_result"
    }
   ],
   "source": [
    "Jan_Table"
   ]
  },
  {
   "cell_type": "code",
   "execution_count": 117,
   "id": "016060a5",
   "metadata": {},
   "outputs": [
    {
     "data": {
      "text/plain": [
       "[<selenium.webdriver.remote.webelement.WebElement (session=\"f3941f80cf204042652f6f8f806edfa0\", element=\"3dbe7642-5141-4afb-99a3-f5cffe18877f\")>]"
      ]
     },
     "execution_count": 117,
     "metadata": {},
     "output_type": "execute_result"
    }
   ],
   "source": [
    "february=driver.find_elements(By.XPATH,'//h2[@class=\"tablepress-table-name tablepress-table-name-id-55\"]')\n",
    "february"
   ]
  },
  {
   "cell_type": "code",
   "execution_count": 118,
   "id": "397bdca8",
   "metadata": {
    "scrolled": true
   },
   "outputs": [
    {
     "data": {
      "text/plain": [
       "[<selenium.webdriver.remote.webelement.WebElement (session=\"f3941f80cf204042652f6f8f806edfa0\", element=\"0f381948-9f1b-4a4e-b568-c609314af293\")>,\n",
       " <selenium.webdriver.remote.webelement.WebElement (session=\"f3941f80cf204042652f6f8f806edfa0\", element=\"92851a4c-cc9c-4d24-85f1-35656bf13071\")>,\n",
       " <selenium.webdriver.remote.webelement.WebElement (session=\"f3941f80cf204042652f6f8f806edfa0\", element=\"96896e0f-9904-4195-8ffc-5fb4fa1bc00f\")>,\n",
       " <selenium.webdriver.remote.webelement.WebElement (session=\"f3941f80cf204042652f6f8f806edfa0\", element=\"3577247c-02df-4410-8c2d-46d954cbfe48\")>,\n",
       " <selenium.webdriver.remote.webelement.WebElement (session=\"f3941f80cf204042652f6f8f806edfa0\", element=\"f294a4b4-b014-47ea-b6ef-44350d77cbe5\")>,\n",
       " <selenium.webdriver.remote.webelement.WebElement (session=\"f3941f80cf204042652f6f8f806edfa0\", element=\"866439fc-ddc9-4079-99fb-d862b3f5a4e7\")>,\n",
       " <selenium.webdriver.remote.webelement.WebElement (session=\"f3941f80cf204042652f6f8f806edfa0\", element=\"4c25f90d-f69f-4e52-8b73-cedea389f72c\")>,\n",
       " <selenium.webdriver.remote.webelement.WebElement (session=\"f3941f80cf204042652f6f8f806edfa0\", element=\"28164800-b3a9-4cc6-bf4d-fe92ef47ae73\")>,\n",
       " <selenium.webdriver.remote.webelement.WebElement (session=\"f3941f80cf204042652f6f8f806edfa0\", element=\"d42e0b2d-989c-4e7f-862e-6db5f1462c79\")>,\n",
       " <selenium.webdriver.remote.webelement.WebElement (session=\"f3941f80cf204042652f6f8f806edfa0\", element=\"bcb50bb8-b865-45a5-81b8-a5901b2e7666\")>,\n",
       " <selenium.webdriver.remote.webelement.WebElement (session=\"f3941f80cf204042652f6f8f806edfa0\", element=\"fce54e0a-9a72-4ff4-b93d-dcde1ac455ef\")>,\n",
       " <selenium.webdriver.remote.webelement.WebElement (session=\"f3941f80cf204042652f6f8f806edfa0\", element=\"a72f8cc8-e1ad-4c60-aa27-c9e8755bb883\")>,\n",
       " <selenium.webdriver.remote.webelement.WebElement (session=\"f3941f80cf204042652f6f8f806edfa0\", element=\"4c9bb48c-141c-49c3-8ffe-2e272e6783b9\")>,\n",
       " <selenium.webdriver.remote.webelement.WebElement (session=\"f3941f80cf204042652f6f8f806edfa0\", element=\"6e578e60-a808-48fb-98c6-84cad469dd4f\")>,\n",
       " <selenium.webdriver.remote.webelement.WebElement (session=\"f3941f80cf204042652f6f8f806edfa0\", element=\"fffe709e-0abd-446f-a66b-17f4578afd86\")>,\n",
       " <selenium.webdriver.remote.webelement.WebElement (session=\"f3941f80cf204042652f6f8f806edfa0\", element=\"ed57773d-083c-43e9-801a-30053f9cf852\")>,\n",
       " <selenium.webdriver.remote.webelement.WebElement (session=\"f3941f80cf204042652f6f8f806edfa0\", element=\"f17375c1-e64b-47f5-8791-5cf93d47ad9f\")>,\n",
       " <selenium.webdriver.remote.webelement.WebElement (session=\"f3941f80cf204042652f6f8f806edfa0\", element=\"40552df5-9486-4bdd-ba66-a949aea8a57d\")>,\n",
       " <selenium.webdriver.remote.webelement.WebElement (session=\"f3941f80cf204042652f6f8f806edfa0\", element=\"4b941432-4b50-4c1a-adb5-e0fc18633fb2\")>,\n",
       " <selenium.webdriver.remote.webelement.WebElement (session=\"f3941f80cf204042652f6f8f806edfa0\", element=\"fd8e6f5a-0cad-492c-aae2-1d5a230e6514\")>,\n",
       " <selenium.webdriver.remote.webelement.WebElement (session=\"f3941f80cf204042652f6f8f806edfa0\", element=\"3a092bda-ae7a-4b18-813f-6e288a1e4ebe\")>,\n",
       " <selenium.webdriver.remote.webelement.WebElement (session=\"f3941f80cf204042652f6f8f806edfa0\", element=\"f8511f13-e42c-474f-881c-64ce3407c34f\")>,\n",
       " <selenium.webdriver.remote.webelement.WebElement (session=\"f3941f80cf204042652f6f8f806edfa0\", element=\"fd1966ff-1a60-40fc-bb83-18fa7dc95b64\")>,\n",
       " <selenium.webdriver.remote.webelement.WebElement (session=\"f3941f80cf204042652f6f8f806edfa0\", element=\"916ceb8e-5e28-4f36-bee7-59f9c51adf39\")>,\n",
       " <selenium.webdriver.remote.webelement.WebElement (session=\"f3941f80cf204042652f6f8f806edfa0\", element=\"5f20a94b-d7f0-4086-870d-1fa18d95cf46\")>,\n",
       " <selenium.webdriver.remote.webelement.WebElement (session=\"f3941f80cf204042652f6f8f806edfa0\", element=\"cd546a2d-1889-40a7-b710-22de2cbdd1c2\")>,\n",
       " <selenium.webdriver.remote.webelement.WebElement (session=\"f3941f80cf204042652f6f8f806edfa0\", element=\"378c18b3-0d4b-498f-9c2c-b3666b757d27\")>,\n",
       " <selenium.webdriver.remote.webelement.WebElement (session=\"f3941f80cf204042652f6f8f806edfa0\", element=\"26501262-595b-493e-be1d-63f1f0aa1ff6\")>,\n",
       " <selenium.webdriver.remote.webelement.WebElement (session=\"f3941f80cf204042652f6f8f806edfa0\", element=\"6198b4eb-8964-43ad-b2a0-3ab69a308346\")>,\n",
       " <selenium.webdriver.remote.webelement.WebElement (session=\"f3941f80cf204042652f6f8f806edfa0\", element=\"e43b80c3-a5c5-4c64-8a03-470b27e0e047\")>,\n",
       " <selenium.webdriver.remote.webelement.WebElement (session=\"f3941f80cf204042652f6f8f806edfa0\", element=\"b1898b97-dd13-4f9d-880a-ae3a018247d4\")>,\n",
       " <selenium.webdriver.remote.webelement.WebElement (session=\"f3941f80cf204042652f6f8f806edfa0\", element=\"04e529ab-d245-4252-8812-eb5d8fa89d30\")>,\n",
       " <selenium.webdriver.remote.webelement.WebElement (session=\"f3941f80cf204042652f6f8f806edfa0\", element=\"5b2643e0-fdb2-4d59-ba61-7adb4b69aeca\")>,\n",
       " <selenium.webdriver.remote.webelement.WebElement (session=\"f3941f80cf204042652f6f8f806edfa0\", element=\"7d87acaf-8f13-4192-9923-c2d8ea5021b7\")>,\n",
       " <selenium.webdriver.remote.webelement.WebElement (session=\"f3941f80cf204042652f6f8f806edfa0\", element=\"1be44d4f-3882-4c95-83ea-4018c12f3ff6\")>,\n",
       " <selenium.webdriver.remote.webelement.WebElement (session=\"f3941f80cf204042652f6f8f806edfa0\", element=\"a623d494-d438-45dc-a91c-a84271905eb1\")>,\n",
       " <selenium.webdriver.remote.webelement.WebElement (session=\"f3941f80cf204042652f6f8f806edfa0\", element=\"e3753f2f-3ae5-4ae1-a6dd-d83b2fe582e2\")>,\n",
       " <selenium.webdriver.remote.webelement.WebElement (session=\"f3941f80cf204042652f6f8f806edfa0\", element=\"111f1441-4b42-4c74-ba36-d0bdc02a2676\")>,\n",
       " <selenium.webdriver.remote.webelement.WebElement (session=\"f3941f80cf204042652f6f8f806edfa0\", element=\"0a349b27-c4ec-49e1-9815-f90a96ddbf64\")>,\n",
       " <selenium.webdriver.remote.webelement.WebElement (session=\"f3941f80cf204042652f6f8f806edfa0\", element=\"056bdf57-ca17-4c7d-9c25-84bb07f9b6c6\")>,\n",
       " <selenium.webdriver.remote.webelement.WebElement (session=\"f3941f80cf204042652f6f8f806edfa0\", element=\"31dba200-1209-456d-8426-7b03534d112b\")>,\n",
       " <selenium.webdriver.remote.webelement.WebElement (session=\"f3941f80cf204042652f6f8f806edfa0\", element=\"0c74b839-2c89-4a93-98db-36c372230f88\")>,\n",
       " <selenium.webdriver.remote.webelement.WebElement (session=\"f3941f80cf204042652f6f8f806edfa0\", element=\"9151e072-ddb0-4fc9-9392-637bedc73640\")>,\n",
       " <selenium.webdriver.remote.webelement.WebElement (session=\"f3941f80cf204042652f6f8f806edfa0\", element=\"104a85d1-800b-435f-809c-3b1b5a83f5b8\")>,\n",
       " <selenium.webdriver.remote.webelement.WebElement (session=\"f3941f80cf204042652f6f8f806edfa0\", element=\"23b6f032-796e-4446-bcef-119389253135\")>]"
      ]
     },
     "execution_count": 118,
     "metadata": {},
     "output_type": "execute_result"
    }
   ],
   "source": [
    "feb_table=driver.find_elements(\"xpath\",'//div[@class=\"dataTables_wrapper no-footer\"]')\n",
    "feb_table"
   ]
  },
  {
   "cell_type": "code",
   "execution_count": 119,
   "id": "4d7bfbdb",
   "metadata": {},
   "outputs": [
    {
     "data": {
      "text/plain": [
       "45"
      ]
     },
     "execution_count": 119,
     "metadata": {},
     "output_type": "execute_result"
    }
   ],
   "source": [
    "Feb_Table=[]\n",
    " \n",
    "for i in feb_table:\n",
    "    Feb_Table.append(i.text)\n",
    "len(Feb_Table) "
   ]
  },
  {
   "cell_type": "code",
   "execution_count": 120,
   "id": "358717fe",
   "metadata": {},
   "outputs": [
    {
     "data": {
      "text/plain": [
       "[\"Show\\n10\\n25\\n50\\n100\\nentries\\nSearch:\\nSr. No. Date (dd/mm/yyyy) Startup Name Industry / Vertical Sub-Vertical City / Location Investors' Name Investment Type Amount (In USD)\\n1 01/04/2021 BYJU’S Edu-tech Online tutoring Bengaluru Innoven Capital Series F 460,000,000\\n2 05/04/2021 Meesho E-commerce Online reselling platform Bengaluru SoftBank Vision Fund 2 Series E 300,000,000\\n3 14/04/2021 Swiggy Online Food Delivery Online Food Delivery Bengaluru Amansa Holdings, Carmignac, Falcon Edge Capital, Goldman Sachs, Think Investments Series J 343,000,000\\n4 07/04/2021 Groww FinTech Investment platform Bengaluru MC Global Edtech, B Capital, Baron, others Series D 83,000,000\\n5 14/04/2021 Beldara E-commerce Global B2B marketplace Mumbai Hindustan Media Ventures Venture 7,400,000\\nShowing 1 to 5 of 5 entries\\nPreviousNext\",\n",
       " \"Show\\n10\\n25\\n50\\n100\\nentries\\nSearch:\\nSr. No. Date (dd/mm/yyyy) Startup Name Industry / Vertical Sub-Vertical City / Location Investors' Name Investment Type Amount (In USD)\\n1 04/03/2021 DealShare E-commerce Online shopping platform Jaipur, Rajasthan Innoven Capital Debt Financing 250,000,000\\n2 31/03/2021 Uniphore Technology Conversational Service Automation (CSA) Palo Alto Sorenson Capital Partners Series D 140,000,000\\n3 30/03/2021 Dunzo E-commerce Hyper-local delivery app Bengaluru Krishtal Advisors Pte Ltd Series E 8,000,000\\n4 30/03/2021 BYJU’S Edu-tech Online tutoring Bengaluru MC Global Edtech, B Capital, Baron, others Series F 460,000,000\\n5 23/03/2021 SkilloVilla Edu-tech Career and job-oriented upskilling. Bengaluru Titan Capital, others Seed 300,000,000\\n6 25/03/2021 CityMall E-commerce Social ecommerce and online grocery platform Gurgaon Accel Partners Series A 11,000,000\\n7 26/03/2021 DotPe FinTech Commerce and payments platform to offline enterprise businesses. Gurgaon PayU Series A 27,500,000\\nShowing 1 to 7 of 7 entries\\nPreviousNext\",\n",
       " \"Show\\n10\\n25\\n50\\n100\\nentries\\nSearch:\\nSr. No. Date (dd/mm/yyyy) Startup Name Industry / Vertical Sub-Vertical City / Location Investors' Name Investment Type Amount (In USD)\\n1 11/02/2021 Doubtnut Edu Tech E-Learning Platform Gurgaon SIG Global, Sequoia Capital, WaterBridge Ventures and ON Mauritius Series B 2,500,000\\n2 22/02/2021 Zomato Hospitality Online Food Delivery Platform Gurgaon Tiger Global, Kora Venture 250,000,000\\n3 19/02/2021 Fingerlix Hospitality Semi-cooked food delivery app Mumbai Rhodium Trust, Accel Partners and Swiggy Series C 2,747,045.20\\n4 17/02/2021 Zolve FinTech Global Neobank Venture Mumbai Accel Partners and Lightspeed Venture Partners Seed 1,50,00,000\\n5 15/02/2021 KreditBee Finance Digital lending platform Bengaluru Azim Premji’s PremjiInvest and South Korea’s Mirae Asset Venture Series C 75,000,000\\n6 12/02/2021 Pepperfry E-commerce Multi-brand furniture brand Mumbai InnoVen Capital Debt Financing 4,773,958\\n7 12/02/2021 Grofers E-Commerce Online supermarket Gurgaon SoftBank Vision Fund (SVF) Unspecified 55,000,000\\n8 09/02/2021 Nothing Technology Consumer Technology Venture London GV Series A 15,000,000\\n9 09/02/2021 SplashLearn EdTech Game-based learning programme Gurgaon Owl Ventures Series C 18,000,000\\nShowing 1 to 9 of 9 entries\\nPreviousNext\",\n",
       " \"Show\\n10\\n25\\n50\\n100\\nentries\\nSearch:\\nSr. No. Date (dd/mm/yyyy) Startup Name Industry / Vertical Sub-Vertical City / Location Investors' Name Investment Type Amount (In USD)\\n1 15/01/2021 Digit Insurance Financial Services Insurance Services Bengaluru A91 Partners, Faering Capital, TVS Capital Funds Venture 1,80,00,000\\n2 28/01/2021 Bombay Shaving Company Consumer Goods Company Shave care, beard care, and skincare products New Delhi Reckitt Benckiser Venture 6,172,258.50\\n3 19/01/2021 DeHaat AgriTech Startup online marketplace for farm products and services Patna Prosus Ventures Series C 30,000,000\\n4 19/01/2021 Darwinbox SaaS HR Tech Mumbai Salesforce Ventures Seed 15,000,000\\n5 18/01/2021 mfine Health Tech Startup AI-powered telemedicine mobile app Bengaluru Heritas Capital Management Venture Round 16,000,000\\n6 18/01/2021 Udayy EdTech Online learning platform for kids in class 1-5 Gurgaon Sequoia Capital Seed Funding 15,000,000\\n7 11/01/2021 True Elements Food Startup Whole Food plant based Nashta Pune SIDBI Venture Capital Series 100,000,000\\n8 13/01/2021 Saveo B2B E-commerce Pharmacies Bengaluru Matrix Partners India, RTP Global, others Seed 4,000,000\\nShowing 1 to 8 of 8 entries\\nPreviousNext\",\n",
       " \"Show\\n10\\n25\\n50\\n100\\nentries\\nSearch:\\nSr. No. Date (dd/mm/yyyy) Startup Name Industry / Vertical Sub-Vertical City / Location Investors' Name Investment Type Amount (In USD)\\n1 15/12/2020 Bira 91 Food and Beverage Craft Beer New Delhi Nishant Mittal, Pankaj Chaddah and Shikha Sunil Chandak Funding 1,273,634.07\\n2 21/12/2020 Pine Labs Financial Services Payment Solutions Provider Noida Lone Pine Capital Secondary Market Undisclosed\\n3 15/12/2020 Zenoti Technology Provider Cloud-based software provider for the spa and salon industries Washington Advent International Series D 160,000,000\\n4 22/12/2020 Tax Buddy India FinTech Online tax adviser Mumbai Zenith Global Seed 1,000,000\\n5 15/12/2020 Delhivery Supply chain Transportation Gurgaon Steadview Capital Secondary Market 25,000,000\\n6 18/12/2020 PagarBook SaaS Employee management platform Bengaluru Sequoia Capital Series A 15,000,000\\nShowing 1 to 6 of 6 entries\\nPreviousNext\",\n",
       " \"Show\\n10\\n25\\n50\\n100\\nentries\\nSearch:\\nSr. No. Date (dd/mm/yyyy) Startup Name Industry / Vertical Sub-Vertical City / Location Investors' Name Investment Type Amount (In USD)\\n1 30/11/2020 Codingal EduTech Online coding platform Bengaluru Rebright Partners, Java Capital, and GSF Accelerator Seed 560,000\\n2 30/11/2020 CRED Financial Services Credit Card Behavior Services Bengaluru DST Global Series C 80,000,000\\n3 29/11/2020 Bira 91 Food and Beverage Craft Beer New Delhi Sofina, Sequoia Capital, Sixth Sense Ventures, Neoplux Bridge Funding 3,000,000\\n4 27/11/2020 Chumbak Lifestyle Gifting Startup Bengaluru Gaja Capital Fund (GCFII-A) Pre-series E 1,001,047.92\\n5 25/11/2020 Cityflo Transportation App-based bus commute startup Mumbai Lightbox Ventures Series A 7,700,000\\n6 25/11/2020 Shipsy SaaS Software Automation Of Logistics Gurgaon Sequoia Capital India’s Surge, Info Edge Series A 6,003,806\\n7 25/11/2020 Unacademy Edutech Online Learning Platform Bengaluru Tiger Global Management, Dragoneer Investment Group Venture 75,000,000-100,000,000\\n8 24/11/2020 Cashfree FinTech Payments and banking technology Bengaluru Matrix Partners India, SAIF Partners, Ward Ferry Management and Bertelsmann India Series B 35,300,000\\n9 30/11/2020 Credgenics Fintech Critical NPA reduction for Fintech lenders and banks Gurgaon Venture Capital firm, Accel Partners and DMI Finance Pre-Series A 3,500,000\\n10 23/11/2020 Country Delight Dairy Tech Milk delivery startup Gurugram Elevation Capital Series C 25,000,000\\nShowing 1 to 10 of 10 entries\\nPreviousNext\",\n",
       " \"Show\\n10\\n25\\n50\\n100\\nentries\\nSearch:\\nSr. No. Date (dd/mm/yyyy) Startup Name Industry / Vertical Sub-Vertical City / Location Investors' Name Investment Type Amount (In USD)\\n1 28/10/2020 Nykaa E-commerce Beauty, Fashion, Lifestyle, Wellness Mumbai Alia Bhatt Personal Investment NA\\n2 28/10/2020 Betterplace Digital Solutions Blue Collar Workforce Management Platform Bangalore Jungle Ventures Series B 10,000,000\\n3 28/10/2020 FlexiLoans FinTech Digital Lending Platform Mumbai Falguni and Sanjay Nayar Family Office Equity and Debt 20,160,000\\n4 27/10/2020 GetVantage FinTech Revenue-Based Financing Platform Mumbai Chiratae Ventures, Dream Incubators Seed 5,000,000\\n5 27/10/2020 FreshToHome E-commerce Food Delivery Bangalore Corporation of Dubai (ICD), Ascent Capital, DFC, the Allana Group\\nSeries C 121,000,000\\n6 27/10/2020 Origo AgriTech Agricultural Commodities Management Gurgaon Northern Arc Capital Debt 4,700,000\\n7 27/10/2020 Origo Advertising Online Video Editing Mumbai Sequoia Capital India Series A 15,000,000\\n8 15/10/2020 Treebo Hotels Hospitality Budget Hospitality Chain Bangalore Matrix Partners India, SAIF Partners, Ward Ferry Management and Bertelsmann India 6,000,000\\n9 26/10/2020 Hubilo Information Technology Virtual Events Platform Wilmington, Delaware, United States Lightspeed Venture Partners Seed 4,500,000\\n10 28/10/2020 CredAble FinTech Supply Chain Finance Mumbai Oaks Asset Management and V’Ocean Investment Follow-On 4,500,000\\nShowing 1 to 10 of 12 entries\\nPreviousNext\",\n",
       " \"Show\\n10\\n25\\n50\\n100\\nentries\\nSearch:\\nSr. No. Date (dd/mm/yyyy) Startup Name Industry / Vertical Sub-Vertical City / Location Investors' Name Investment Type Amount (In USD)\\n1 08/09/2020 Byju’s EduTech Online Tutoring Bangalore Silver Lake, Tiger Global, General Atlantic and Owl Ventures\\nPrivate Equity 500,000,000\\n2 12/09/2020 mCaffeine Personal Care Skincare & Haircare Mumbai Amicus Capital Private Equity I LLP, Amicus Capital Partners India Fund I and RP-SG Venture Fund 1 Series B 3,000,000\\n3 09/09/2020 Qshala EduTech Online Curiosity Platform for Kids Bangalore Rainmatter Capital Angel 370,000\\n4 02/09/2020 Winzo Online Gaming Online Gaming New Delhi Kalaari Capital Partners, IndigoEdge Management Consultancy Series B 15,500,000\\n5 09/09/2020 Hippo Video Video Customer Experience(CX) Platform Video Customer Experience(CX) Platform Newark, Delaware, United States of Amercia Alpha Wave Incubation, Exfinity Venture Partners and existing backers.\\nSeries A 4,500,000\\n6 07/09/2020 Melorra E-commerce Online Jewelry Store\\nBangalore Shadow Holdings, Lightbox. Debt Financing upto 8,900,000\\n7 07/09/2020 1mg E-commerce Online Pharmacy Gurgaon Gaja Capital, Tata Capital, Partners Group In Progress 100,000,000\\n8 31/08/2020 mfine HealthTech On-Demand Healthcare Services Bangalore Caretech Pte Inc Series B 5,400,000\\n9 31/08/2020 Apna Human Resources Recruitment Platform Bangalore Lightspeed India and Sequoia Capital India Series A 8,000,000\\n10 03/09/2020 Railofy Transportation WL & RAC protection platform Mumbai Chiratae Ventures Seed 950,000\\nShowing 1 to 10 of 11 entries\\nPreviousNext\",\n",
       " \"Show\\n10\\n25\\n50\\n100\\nentries\\nSearch:\\nSr. No. Date (dd/mm/yyyy) Startup Name Industry / Vertical Sub-Vertical City / Location Investors' Name Investment Type Amount (In USD)\\n1 15/08/2020 Practo HealthTech Health care and Wellness Bangalore A1A Company\\nSeries F 32,000,000\\n2 13/08/2020 Medlife E-commerce Online Pharmacy Bangalore Prasid Uno Family Trust and SC Credit Fund 23,000,000\\n3 13/08/2020 HungerBox\\nFoodTech Online Food Delivery Service Bangalore One97, Sabre Partners Trust, Pratithi Investment Trust, and Srihari Kumar Series D1 1,560,000\\n4 04/08/2020 Dunzo Hyper-local Logistics Online Delivery Services Bangalore Existing Backers In Progress 30,000,000\\n5 11/08/2020 Terra.do EduTech Online Climate School, E-learning Stanford, California, Stanford Angels and Entrepreneurs (India), BEENEXT Emerging Asia, Rainmatter Capital\\n\\nSeed 1,400,000\\n6 12/08/2020 Classplus EduTech E-learning, Online Tutoring\\n\\nNoida Falcon Edge In Progress upto 15,000,000\\n7 14/08/2020 Niyo FinTech Financial Services Bangalore Niyo Solutions Inc. 6,000,000\\n8 10/08/2020 ZestMoney FinTech Financial Services Bangalore Primrose Hills Ventures 10,670,000\\n9 07/08/2020 FreshToHome E-commerce Food Delivery Bangalore Ascent Capital Venture 16,200,000\\n10 13/08/2020 Eduvanz FinTech Financial Services Mumbai Sequoia India, Unitus Series A 5,000,000\\nShowing 1 to 10 of 12 entries\\nPreviousNext\",\n",
       " \"Show\\n10\\n25\\n50\\n100\\nentries\\nSearch:\\nSr. No. Date (dd/mm/yyyy) Startup Name Industry / Vertical Sub-Vertical City / Location Investors' Name Investment Type Amount (In USD)\\n1 15/07/2020 Flipkart E-commerce E-commerce Bangalore Walmart Inc\\nM&A 1,200,000,000\\n2 16/07/2020 Vedantu EduTech Online Tutoring Bangalore Coatue Management Series D 100,000,000\\n3 16/07/2020 Crio EduTech Learning Platform for Developers Bangalore 021 Capital pre-Series A 934,160\\n4 14/07/2020 goDutch FinTech Group Payments Mumbai Matrix India,Y Combinator, Global Founders Capital, Soma Capital, and VentureSouq. Seed 1,700,000\\n5 13/07/2020 Mystifly\\nAirfare Marketplace Ticketing, Airline Retailing, and Post-Ticketing Services Singapore and Bangalore Recruit Co. Ltd.\\n\\npre-Series B 3,300,000\\n6 09/07/2020 JetSynthesys Gaming and Entertainment Gaming and Entertainment\\n\\nPune Adar Poonawalla and Kris Gopalakrishnan.\\nVenture-Series Unknown 400,000\\n7 10/07/2020 gigIndia\\nMarketplace Crowd Sourcing, Freelance Pune Incubate Fund India and Beyond Next Ventures pre-Series A 974,200\\n8 15/07/2020 PumPumPum Automotive Rental Used Car-leasing platform Gurgaon Early Adapters Syndicate Seed 292,800\\n9 14/07/2020 FLYX OTT Player Streaming Social Network New York and Delhi Raj Mishra, founder of AIT Global Inc pre-Seed 200,000\\n10 13/07/2020 Open Appliances Pvt. Ltd. Information Technology Internet-of-Things Security Solutions Bangalore Unicorn India Ventures Venture-Series Unknown 500,000\\nShowing 1 to 10 of 10 entries\\nPreviousNext\",\n",
       " \"Show\\n10\\n25\\n50\\n100\\nentries\\nSearch:\\nSr. No. Date (dd/mm/yyyy) Startup Name Industry / Vertical Sub-Vertical City / Location Investors' Name Investment Type Amount (In USD)\\n1 18/06/2020 Drishti Technologies Technology Artificial Intelligence, Video Analytics Mumbai Sozo Ventures\\nSeries B 25,000,000\\n2 17/06/2020 Stellaps AgriTech Farming, Dairy Management Apps Bangalore Stride Ventures\\nDebt Financing NA\\n3 17/06/2020 Peppermint\\nIndustrial Robotics Industrial Robotics Mumbai Venture Catalysts and Naveen Kshatriya Seed NA\\n4 16/06/2020 Jai Kisan Rural FinTech AgriTech, Financial Services Mumbai Arkam Ventures and NABVENTURES Fund I Pre-Series A 3,934,941\\n5 16/06/2020 Biomoneta\\nBioTech HealthTech, Biotechnology Research Bangalore Beyond Next Ventures, ArthaVida Ventures and Dr. Aniruddha Malpani\\nSeed NA\\n6 15/06/2020 Sai Estate Management and Skills Institute EdTech Education\\n\\nMumbai Suniel Shetty\\nAngel NA\\n7 15/06/2020 LetsTransport\\n\\nLogistics Solution Provider Logistics, Transportation, Travel Bangalore Stride Ventures Venture - Series Unknown 1,311,647\\n8 10/06/2020 WayCool Foods AgriTech Food and Beverage Chennai Indusland Bank Series C 5,500,000\\n9 11/06/2020 Myelin Foundry Deep Tech AI Artificial Intelligence Bangalore Kris Gopalakrishnan’s family office — Pratithi.\\nSeed 1,000,000\\n10 10/06/2020 Hapramp Block Chain, Cryptocurrency Block Chain, Cryptocurrency Gurugram Anand Mahindra Seed 1,000,000\\nShowing 1 to 10 of 10 entries\\nPreviousNext\",\n",
       " \"Show\\n10\\n25\\n50\\n100\\nentries\\nSearch:\\nSr. No. Date (dd/mm/yyyy) Startup Name Industry / Vertical Sub-Vertical City / Location Investors' Name Investment Type Amount (In USD)\\n1 21/05/2020 leap.club Professional Network for Women Professional Network for Women Gurugram Whiteboard Capital (Sandeep Tandon’s VC fund), FirstCheque, Artha India Ventures, Sweta Rau (Founder, White Ventures), Amrish Rau (CEO Pinelabs, Founder Citrus Pay), Deepak Abbot (Former SVP, Paytm), and Harpreet Singh Grover (Co-founder, Co-Cubes) and others.\\nPre Seed 340,000\\n2 20/05/2020 Tring Advertising Celebrity Engagement Platform Mumbai Tencent, Ark Impact, KoKalyan Krishnamurthy of Flipkart, Sujeet Kumar of Udaan, Gaurav Munjal of Unacademy, Keshav Sanghi of VentureWorks India, Roman Saini of Unacademy, Hemesh Singh of Unacademy, and Sumit Jain of Opentalk amongst others.\\nAngel NA\\n3 20/05/2020 Khatabook\\nUtility Solutions Provider Financial Services, Accounting, Payments. Bangalore B Capital Group, Sequoia India, Partners of DST Global, Tencent, GGV, RTP Global, Hummingbird Ventures, Falcon Edge Capital, Rocketship.vc, Unilever Ventures, Kevin Weil, Alexander Will, Kunal Shah, Kunal Bahl, and Rohit Bansal\\n\\n\\nSeries B 60,000,000\\n4 19/05/2020 Vakilsearch LegalTech Online professional services platform for lawyers, corporate bodies, and professionals in India. Chennai Udaan co-founder, Sujeet Kumar Series A NA\\n5 19/05/2020 Lendingkart\\nFinTech Financial Services, Lending, Micro Lending. Ahmedabad Fullerton Financial Holdings Pte Ltd (FFH) and Bertelsmann India Investments, Sistema Asia Fund and India Quotient.\\nSeries D 42,000,000\\n6 21/05/2020 No Worry No Tension Healthcare (NWNT) Healthcare Emotional health and mental health wellness\\n\\nNew Delhi Amit Burman, Chairman of Dabur India,\\nPre Series A NA\\n7 05/05/2020 Classplus\\n\\nEduTech e-learning, education solutions. Noida RTP Global, lume Ventures, Sequoia Capital India's Surge, Spiral Ventures, and Strive. Series A 9,000,000\\n8 11/05/2020 Nykaa E-commerce Cosmetic and Beauty Products Mumbai Steadview Capital Series F 8,800,000\\n9 13/05/2020 Magicpin E-commerce E-commerce Gurugram Lightspeed Venture Partners, along with the participation of Moonstone Investments, WaterBridge Venture, The Bunting Family Private Fund, and Srivatsan Rajan\\nSeries C 4,000,000\\n10 18/05/2020 LetsTransport Logistics Solution Provider Logistics, Transportation, Travel Bangalore InnoVen Capital Venture - Series Unknown 1,700,000\\nShowing 1 to 10 of 10 entries\\nPreviousNext\",\n",
       " \"Show\\n10\\n25\\n50\\n100\\nentries\\nSearch:\\nSr. No. Date (dd/mm/yyyy) Startup Name Industry / Vertical Sub-Vertical City / Location Investors' Name Investment Type Amount (In USD)\\n1 09/04/2020 Vedantu EduTech Online Tutoring Bengaluru Legend Capital Series C1 12,560,000\\n2 06/04/2020 Swiggy Online Food Delivery Online Food Delivery Bengaluru Tencent, Ark Impact, Korea Investment Partners, Samsung Ventures, and Mirae Asset Capital Markets\\nSeries 1 43,000,000\\n3 08/04/2020 Zupee\\nGaming Gaming Gurugram Matrix Partners India, Falcon Edge Capital, WestCap Group, Orios Venture Partners and Smile Group\\n\\nSeries A 8,000,000\\n4 07/04/2020 DeHaat AgriTech AgriTech Patna Sequoia Capital India, FMO, Omnivore and AgFunder. Series A 12,000,000\\n5 15/04/2020 BigBasket\\nE-commerce Online Grocery Delivery Bengaluru Alibaba Group Debt Financing 50,000,000\\n6 08/04/2020 Fingerlix Food Delivery Ready-to-Cook Food Mumbai Accel, Zephyr Peacock, Swiggy, and RB Investments\\nSeries C 1,800,000\\n7 31/03/2020 Nykaa\\n\\nE-commerce Cosmetic and Beauty Products Mumbai Steadview Capital Series F 13,000,000\\n8 02/04/2020 Recko Digital Reconcilation and Financial Services AI-powered Reconciliation of Digital Transactions Bengaluru Vertex Ventures Southeast Asia and India and Prime Venture Partners Series A 6,000,000\\nShowing 1 to 8 of 8 entries\\nPreviousNext\",\n",
       " \"Show\\n10\\n25\\n50\\n100\\nentries\\nSearch:\\nSr. No. Date (dd/mm/yyyy) Startup Name Industry / Vertical Sub-Vertical City / Location Investors' Name Investment Type Amount (In USD)\\n1 04/03/2020 Soxytoes E-commerce Socks Noida Angel Networks Angel NA\\n2 02/03/2020 Chqbook.com Finance Financial Services Gurugram Aavishkaar Capital Series A 5,000,000\\n3 06/03/2020 Paperboat\\nE-commerce Beverages and Snacks Bengaluru Advent Management, A91 Emerging Fund, and Trifecta Venture.\\n\\nDebt Financing 4,000,000\\n4 13/03/2020 CollegeKhabri EduTech Education Bhopal Vdiec Global Angel NA\\n5 12/03/2020 FamPay\\nFinance Online Payment Bengaluru Y Combinator, Venture Highway, Sequoia India, and GFC (Global Founders Capital). Seed 4,700,000\\n6 12/03/2020 MultiLiving Real Estate Home Renting and Management Mumbai Lodha Ventures Series A 6,000,000\\n7 12/03/2020 Ola Electric\\nTransport Cab and Bike Taxi Bengaluru Pawan Munjal Family Trust Series B 1,000,000\\n8 12/03/2020 Mera Kisan Food Production Organic Products Pune Ajinkya Rahane Private Equity NA\\nShowing 1 to 8 of 8 entries\\nPreviousNext\",\n",
       " \"Show\\n10\\n25\\n50\\n100\\nentries\\nSearch:\\nSr. No. Date (dd/mm/yyyy) Startup Name Industry / Vertical Sub-Vertical City / Location Investors' Name Investment Type Amount (In USD)\\n1 03/02/2020 1mg E-commerce Medicine Gurugram Bill & Melinda Gates Foundation Venture Series 10,000,000\\n2 03/02/2020 RACEnergy Transportation Electric Vehicle Hyderabad GrowX Ventures Seed NA\\n3 31/01/2020 Adonmo\\nAdvertising Advertising Hyderabad BAce Capital Pre-Series A 3,000,000\\n4 31/01/2020 DoubtNut Education Online Tutoring Gurugram Tencent Holdings Series A 15,000,000\\n5 30/01/2020 MultiplyMyLeads Real Estate Real Estate New Delhi Frontline Strategy Funds and SucSEED Venture Partners. Venture Series NA\\n6 03/02/2020 Embibe EduTech AI based learning Mumbai Reliance Industries Limited (RIL) Venture Series 12,625,020\\n7 10/02/2020 FirstCry\\nE-commerce Baby Products Pune Softbank Vision Fund Series E 296,000,000\\n8 10/02/2020 Pepperfry E-commerce Furniture Mumbai Pidilite Industries Series F 37,000,000\\n9 18/02/2020 MaxWholesale E-commerce B2B platform for groceries New Delhi IAN Fund and Al Falaj Investment Co Series A 3,000,000\\n10 06/02/2020 Dot Information Technology and Services Information Technology and Services Gurgaon PayU and Fosun RZ Capital Seed 8,000,000\\nShowing 1 to 10 of 17 entries\\nPreviousNext\",\n",
       " \"Show\\n10\\n25\\n50\\n100\\nentries\\nSearch:\\nSr. No. Date (dd/mm/yyyy) Startup Name Industry / Vertical Sub-Vertical City / Location Investors' Name Investment Type Amount (In USD)\\n1 09/01/2020 BYJU’S E-Tech E-learning Bengaluru Tiger Global Management Private Equity Round 200,000,000\\n2 13/01/2020 Shuttl Transportation App based shuttle service Gurgaon Susquehanna Growth Equity Series C 8,048,394\\n3 09/01/2020 Mamaearth E-commerce Retailer of baby and toddler products Bengaluru Sequoia Capital India Series B 18,358,860\\n4 02/01/2020 https://www.wealthbucket.in/ FinTech Online Investment New Delhi Vinod Khatumal Pre-series A 3,000,000\\n5 02/01/2020 Fashor Fashion and Apparel Embroiled Clothes For Women Mumbai Sprout Venture Partners Seed Round 1,800,000\\n6 13/01/2020 Pando Logistics Open-market, freight management platform Chennai Chiratae Ventures Series A 9,000,000\\n7 10/01/2020 Zomato Hospitality Online Food Delivery Platform Gurgaon Ant Financial Private Equity Round 150,000,000\\nShowing 1 to 7 of 7 entries\\nPreviousNext\",\n",
       " \"Show\\n10\\n25\\n50\\n100\\nentries\\nSearch:\\nSr. No. Date (dd/mm/yyyy) Startup Name Industry / Vertical Sub-Vertical City / Location Investors' Name Investment Type Amount (In USD)\\n1 12/12/2019 Ecozen Technology Agritech Pune Sathguru Catalyzer Advisors Series A 6,000,000\\n2 06/12/2019 CarDekho E-Commerce Automobile Gurgaon Ping An Global Voyager Fund Series D 70,000,000\\n3 3/12/2019 Dhruva Space Aerospace Satellite Communication Bengaluru Mumbai Angels, Ravikanth Reddy Seed 50,000,000\\n4 13/12/2019 Rivigo Technology Logistics Services and Solutions Gurgaon SAIF Partners, Spring Canter Investment Ltd. Series F 20,000,000\\n5 17/12/2019 Healthians B2B-focused foodtech startup Food Solutions For Corporate Bengaluru Paytm, NPTK, Sabre Partners and Neoplux Series C 12,000,000\\n6 16/12/2019 Licious E-Commerce Online Meat And Seafood Ordering Startup Bengaluru Vertex Growth Fund Series E 30,000,000\\n7 16/12/2019 InCred Finance Non-Banking Financial Company Mumbai Debt Funding 5,900,000\\n8 14/12/2019 Trell Video Experience Discovery Platform Bengaluru Ruizheng Investment Seed Round 2,000,000\\n9 11/12/2019 Rein Games Gaming Real money based gaming startup Noida Manipal Education and Medical Group (MEMG) Seed Round 50,000,000\\n10 20/12/2019 Lenskart.com E-Commerce Online Eyewear Shopping Portal Faridabad SoftBank Vision Fund Series G 231,000,000\\nShowing 1 to 10 of 10 entries\\nPreviousNext\",\n",
       " \"Show\\n10\\n25\\n50\\n100\\nentries\\nSearch:\\nSr. No. Date (dd/mm/yyyy) Startup Name Industry / Vertical Sub-Vertical City / Location Investors' Name Investment Type Amount (In USD)\\n1 13/11/2019 Freshworks Software Business and customer engagement tools San Francisco Sequoia, CapitalG, Accel Series H 15,000,0000\\n2 14/11/2019 Misters Health and wellness Men's Health and Wellness brand Gurgaon Sauce.vc, Rainforest Ventures Series B 486,000\\n3 13/11/2019 Sunstone Eduversity Pvt. Ltd Education Elearning Gurgaon Prime Venture Partners, LetsVenture, PS1 Venture and GlobalLogic co-founder Rajul Garg Seed 1,500,000\\n4 17/11/2019 Burger Singh Food and Beverage Indian Burger Brand Gurgaon RB Investments Venture undisclosed\\n5 18/11/2019 Healthians Health and Wellness Healthcare services Gurgaon DG Daiwa Ventures, DG Incubation Series B 12,000,000\\n6 15/11/2019 Ninjacart B2B Marketing Agritech Bengaluru Trifecta Capital Advisors Debt Funding 26,000,000\\n7 20/11/2019 Aye Finance FinTech Financial Services To MSMEs Gurgaon FinTech Debt Funding 17,411,265\\n8 12/11/2019 SuperGaming Video Games Social gaming platform Pune Dream Incubator Seed Funding 1,300,000\\n9 20/11/2019 Clumio SaaS Recovery software San Jose, Altimeter Capital, Sutter Hill Ventures Series C 135,000,000\\n10 11/11/2019 eBikeGo Last Mile Transportation Electric bike rental Amritsar Startup Buddy Seed 300,000\\nShowing 1 to 10 of 15 entries\\nPreviousNext\",\n",
       " \"Show\\n10\\n25\\n50\\n100\\nentries\\nSearch:\\nSr. No. Date (dd/mm/yyyy) Startup Name Industry / Vertical Sub-Vertical City / Location Investors' Name Investment Type Amount (In USD)\\n1 04/10/2019 Dunzo Customer Service Delivery Service Bengaluru Lightbox Series D 4,50,00,000\\n2 02/10/2019 Udaan B2B Business development Bengaluru Altimeter Capital, DST Global Series D 58,50,00,000\\n3 21/10/2019 The Man Company\\nConsumer Goods Beauty and Grooming Gurgaon Ayushmann Khurana Corporate Round unknown\\nShowing 1 to 3 of 3 entries\\nPreviousNext\",\n",
       " \"Show\\n10\\n25\\n50\\n100\\nentries\\nSearch:\\nSr. No. Date (dd/mm/yyyy) Startup Name Industry / Vertical Sub-Vertical City / Location Investors' Name Investment Type Amount (In USD)  \\n1 05/09/2019 FPL Technologies FinTech Financial Services Pune Matrix Partners India, Sequoia India Maiden Round 4,500,000\\n2 04/09/2019 Cashflo FinTech Invoice discounting platform and SME lending marketplace Mumbai SAIF Partners Series A 3,300,000\\n3 04/09/2019 Digital F5 Advertising, Marketing Digital marketing firm Mumbai TIW Private Equity Private Equity Round 6,000,000\\n4 04/09/2019 3rdFlix SaaS Education Technology Hyderabad Exfinity Venture Partners pre-series A 5,000,000\\n5 04/09/2019 75F IoT Building automation system Burnsville Breakthrough Energy Ventures Series A 18,000,000\\n6 04/09/2019 Myelin Foundry Information Technology Deep-technology Bengaluru Endiya Partners Seed 10,00,000\\n7 04/09/2019 Atomberg Technology Consumer Technology Consumer Electronics, Home Appliances Mumbai A91 Partners Series A 10,000,000\\n8 04/09/2019 GOQii Health and Wellness Wearable Fitness Bands Menlo Park Bennett Coleman and Company Ltd (BCCL) Series C 450,000,000\\n9 03/09/2019 Vyapar App Accounting Mobile-based Accounting Software Bengaluru India Quotient, Axilor Ventures Series A 5,000,000\\nShowing 1 to 10 of 10 entries\\nPreviousNext\",\n",
       " \"Show\\n10\\n25\\n50\\n100\\nentries\\nSearch:\\nSr. No. Date (dd/mm/yyyy) Startup Name Industry / Vertical Sub-Vertical City / Location Investors' Name Investment Type Amount (In USD)\\n1 01/08/2019 CarDekho E-Commerce Automotive Gurgaon SC GG India Mobility Holdings LLC Series C 20,000,000\\n2 01/08/2019 Progcap Finance Supply Chain Management New Delhi Sequoia India Series A 5,000,000\\n3 01/08/2019 MyPetrolPump Retail Fuel Delivery Bengaluru Seed Funding Round 1,600,000\\n4 01/08/2019 Alteria Capital Finance VC Funds Mumbai Azim Premji, Binny Bansal Single Venture 140,000,000\\n5 01/08/2019 Pine Labs Information Technology Last-mile retail transaction technology Noida Pine Labs Pte Ltd Corporate Round 38,080,000\\n6 12/08/2019 Meesho E-Commerce Social Commerce Bengaluru Naspers Series D 125,000,000\\n7 13/08/2019 Cars24 E-Commerce Car Retail Gurugram MS Dhoni Series D 11,000,000\\n8 13/08/2019 Uniphore Customer Service Platform Conversational AI Palo Alto March Capital Partners Series C 51,000,000\\n9 23/08/2019 Zendrive Automotive Road Safety Analytics San Francisco XL Innovate Series B 37,000,000\\n10 23/08/2019 Lo! Foods Consumer Goods Low carb food for Diabetics Bengaluru Rashmi Daga (founder, FreshMenu), Raveen Sastry (co-founder, Myntra) and Mitesh Shah (finance chief, BookMyShow) Seed Round 500,000\\nShowing 1 to 10 of 17 entries\\nPreviousNext\",\n",
       " \"Show\\n10\\n25\\n50\\n100\\nentries\\nSearch:\\nSr. No. Date (dd/mm/yyyy) Startup Name Industry / Vertical Sub-Vertical City / Location Investors' Name Investment Type Amount (In USD)\\n1 02/07/2019 RenewBuy Finance Auto Insurance Gurgaon Lok Capital, IIFL Wealth Series B 19,000,000\\n2 02/07/2019 Atlan Information Technology Big Data Singapore WaterBridge Ventures Pre-Series A 2,500,000\\n3 01/07/2019 WizCounsel Compliance Consulting New Delhi Kapil Dev Angel 145,000\\n4 03/07/2019 Ola Cabs Transport Cabs Kormangala DIG Investment Ab, Deshe Holdings, Samih Toukan and Hussam Khoury Series J 1,000,000\\n5 01/07/2019 Uniphore Artificial Intelligence Speech Recognition Taramani March Capital Partners Series C 38,080,000\\n6 04/07/2019 Daalchini Technologies Food and Beverage Digital Vending Machine New Delhi Artha Venture Seed Round 500,000\\n7 10/07/2019 BYJU'S EdTech Education Bengaluru Qatar Investment Authority Private Equity Round 150,000,000\\n8 11/07/2019 Moglix E-Commerce Industrial Tools and Equipments Singapore Composite Capital Management, Sequoia Capital India, Tiger Global Management Series D 60,000,000\\n9 10/07/2019 Ezyhaul Tech Logistics Singapore Undisclosed Series B 16,000,000\\n10 10/07/2019 Indus OS Tech Smartphone Operating System Andheri Ventureast Series B 5,750,000\\nShowing 1 to 10 of 13 entries\\nPreviousNext\",\n",
       " \"Show\\n10\\n25\\n50\\n100\\nentries\\nSearch:\\nSr. No. Date (dd/mm/yyyy) Startup Name Industry / Vertical Sub-Vertical City / Location Investors' Name Investment Type Amount (In USD)\\n1 05/06/2019 NoBroker E-Commerce Real Estate Bengaluru General Atlantic Series C 5,10,00,000\\n2 04/06/2019 Bira91 Food and Beverage Brewery New Delhi Anicut Capital Debt Funding 1,00,00,000\\n3 03/06/2019 FabHotels E-Commerce Hospitality Gurgaon Goldman Sachs, Accel Partners and Qualcomm 48,89,975.54\\n4 03/06/2019 Avail Finance Finance FinTech Bengaluru Matrix Partners Series A 90,00,000\\n5 04/06/2019 BharatPe Finance FinTech New Delhi Insight Partners Series B 7,50,00,000\\n6 04/06/2019 Recykal Waste Management Service Optimization Hyderabad Triton Investment Advisors, Pidilite Industries director Ajay Parekh pre-Series A 26,000,000\\n7 03/06/2019 Agara Labs Deep-Tech Artificial Intelligence Bengaluru Blume Ventures and RTP Global pre-Series A 25,00,000\\n8 06/06/2019 Sistema.bio Agriculture Hybrid Reactor Biodigestor Nairobi Shell Foundation, DILA CAPITAL, Engie RDE Fund, EcoEnterprise Fund, EDFIMC (ElectriFI), Endeavor Catalyst Fund, CoCapital, Triodos, Alpha Mundi, and Lendahand 27,39,034.68\\n9 06/06/2019 Chakr Innovation Energy Renewable Energy New Delhi IAN Fund Series A 26,000,000\\n10 06/06/2019 Pratilipi Digital Media E-Books Bengaluru Qiming Venture Partners Series B 1,51,09,500.00\\nShowing 1 to 10 of 15 entries\\nPreviousNext\",\n",
       " \"Show\\n10\\n25\\n50\\n100\\nentries\\nSearch:\\nSr. No. Date (dd/mm/yyyy) Startup Name Industry / Vertical Sub-Vertical City / Location Investors' Name Investment Type Amount (In USD)\\n1 06/05/2019 Ola Electric Transport Cabs Bengaluru Tata Sons Series A undisclosed\\n2 06/05/2019 Saahas Zero Waste Waste Management Service Optimization Bengaluru C4D Partners Venture - Series Unknown 868,600\\n3 05/05/2019 StyleDotMe E-commerce Fashion and Shopping Delhi Indian Angel Network and other angel investors, Innov8 founder Ritesh Malik, Josh Talks founders Supriya Paul and Shobha Banga, and former Hero Corporate president Rohit Chanana Bridge Round undisclosed\\n4 01/05/2019 BlackBuck Transport Logistics Bengaluru Goldman Sachs Investment Partners and Silicon Valley-based Accel, Wellington, Sequoia Capital, B Capital, LightStreet, Sands Capital and International Finance Corporation, Series D 150,000,000\\n5 02/05/2019 Zenoti Saas Beauty and Wellness Industry Hyderabad Tiger Global Management Series C 50,000,000\\n6 28/05/2019 Ather Energy Automobile Electric Vehicle Bengaluru Sachin Bansal Series C 5,10,00,000\\n7 28/05/2019 FreshVnF Agtech Fresh Agriculture Produces Mumbai Equanimity Ventures Seed Round 14,00,00,000\\n8 30/05/2019 GlowRoad E-commerce Retail Bengaluru Korea Investment Partners, Vertex Ventures Series B 1,15,00,000\\n9 31/05/2019 Bira91 Food and Beverage Brewery New Delhi Sixth Sense Ventures Series B 56,00,000\\nShowing 1 to 9 of 9 entries\\nPreviousNext\",\n",
       " \"Show\\n10\\n25\\n50\\n100\\nentries\\nSearch:\\nSr. No. Date (dd/mm/yyyy) Startup Name Industry / Vertical Sub-Vertical City / Location Investors' Name Investment Type Amount (In USD)\\n1 16/04/2019 Kuvera Finance Wealth Management Bengaluru Eight Roads Series A 45,000,000\\n2 12/04/2019 Medlife E-commerce Online Medicine Bengaluru Prasid Uno Family Trust Private Equity 17,000,000\\n3 10/04/2019 Kabadiwala E-commerce Waste Management Bhopal Unilever, Beehive Capital Advisor, ABCOM Investments, Parekh Marine Transport, Private Equity 430,665\\n4 13/04/2019 Tripoto Social Media Travel New Delhi Orchid India, Hornbill Orchid India Fund, Chiratae Ventures (formerly IDG Ventures), 3one4 Capital, Lasmer NV Series B 3,591,375\\n5 12/04/2019 Azah Health and Wellness Organic wellness Gurugram Unnamed angel investors Seed Funding 200,000\\n6 11/04/2019 Setu Fintech Banking Bengaluru Lightspeed India Partners Seed Funding 3,500,000\\n7 10/04/2019 Toppr Edtech E-learning Mumbai Milestone Debt and Preference capital 6,320,820\\n8 10/04/2019 Craftsvilla E-commerce Fashion and Apparel Mumbai Supera Pte Ltd Inhouse Funding 2,443,495\\n9 10/04/2019 Unacademy Edtech E-learning Bengaluru Kalyan Krishnamurthy Seed/ Angel Funding 307,000\\n10 11/04/2019 CleverTap SaaS Mobile analytics and marketing Mumbai Sequoia India, Tiger Global Management, Accel Partners Series B 26,000,000\\nShowing 1 to 10 of 14 entries\\nPreviousNext\",\n",
       " \"Show\\n10\\n25\\n50\\n100\\nentries\\nSearch:\\nSr. No. Date (dd/mm/yyyy) Startup Name Industry / Vertical Sub-Vertical City / Location Investors' Name Investment Type Amount (In USD)\\n1 1/02/2019 FleetX AI Logistics Gurgaon India Quotient and LetsVenture’s Angel Fund Pre Series A Undisclosed\\n2 8/02/2019 Zilingo Ecommerce Fashion & Apparel India/Singapore Sequoia Capital and Temasek Holdings, EDBI, Burda Principal Investments, and Sofina Series D 226,000,000\\n3 13/02/2019 NanoClean Global Nanotechnology Anti-Pollution New Delhi LetsVenture, PitchRight Venture, 91SpringBoard, AL Nour International Holdings and Mark V Investments Series A 600,000\\n4 14/02/2018 OyoRooms Hospitality Budget Rooms Gurgaon DiDi Chuxing Equity 100,000,000\\nShowing 1 to 4 of 4 entries\\nPreviousNext\",\n",
       " \"Show\\n10\\n25\\n50\\n100\\nentries\\nSearch:\\nSr. No. Date (dd/mm/yyyy) Startup Name Industry / Vertical Sub-Vertical City / Location Investors' Name Investment Type Amount (In USD)\\n1 03/01/2019 CarDekho Automobile Online Marketplace Jaipur Sequoia India, Hillhouse Capital, Alphabet’s growth investment arm Capital G and Axis Bank Series C 110,000,000\\n2 04/01/2019 Vyome Therapeutics Inc. Health and Wellness Specialty pharmaceutical India/US Iron Pillar, Perceptive Advisors, Romulus Capital and Kalaari Capital Series D 22,000,000\\n3 04/01/2019 Samunnati Financial Intermediation & Services Pvt. Ltd Finance Non-banking financial company Chennai MASSIF, a Dutch government fund Debt-Funding 5,000,000\\n4 04/12/2018 Manch Social Media Hyperlocal Content Delhi Stellaris Venture Partners Seed Funding 700,000\\nShowing 1 to 4 of 4 entries\\nPreviousNext\",\n",
       " \"Show\\n10\\n25\\n50\\n100\\nentries\\nSearch:\\nSr. No. Date (dd/mm/yyyy) Startup Name Industry / Vertical Sub-Vertical City / Location Investors' Name Investment Type Amount (In USD)\\n1 01/12/2018 UrbanClap Technologies Pvt. Ltd Services Platform Home services marketplace New Delhi Steadview Capital and Vy Capital. Series D 50,000,000\\n2 02/12/2018 Guiddoo Travel Tech Platform for travel agents Mumbai Individual Investors Pre-Series A 800,000\\n3 02/12/2018 Career Anna Online Education Video-based certification, trainings Gurugram Individual Investors Pre-Series A 572,000\\n4 04/12/2018 Nagpur Wholesale Online Marketplace eCommerce Nagpur Omphalos Ventures India LLP Seed Funding 143,000\\n5 06/12/2018 ShopKirana B2B eCommerce Indore Info Edge, AET Fund, Akatsuki and Incubate Fund from Japan and Better Capital AngelList syndicate. Seed Funding 2,000,000\\n6 06/12/2018 BuildSupply SaaS, Ecommerce Real Estate, ERP Gurugram Venture Highway, GREE Ventures, Space Matrix, Individual Investors Series A 3,500,000\\nShowing 1 to 6 of 6 entries\\nPreviousNext\",\n",
       " \"Show\\n10\\n25\\n50\\n100\\nentries\\nSearch:\\nSr. No. Date (dd/mm/yyyy) Startup Name Industry / Vertical Sub-Vertical City / Location Investors' Name Investment Type Amount (In USD)\\n1 01/11/2018 GoDesi Food and Beverage Regional Flavours Bengaluru Lead Angels Network Seed/ Angel Funding 1,38,995\\n2 03/11/2018 Veritas Finance Ltd. NBFC MSME Finance Chennai Norwest Venture Partners, CDC Group, the UK’s Development Finance Institution and P Surendra Pai Series D 27,799,000\\n3 06/11/2018 Meesho Ecommerce Social Commerce Bengaluru Shunwei Capital, DST Partners and RPS Ventures Series C 50,000,000\\n4 08/11/2018 Mobile Premier League Gaming Mobile e-Sports Bengaluru Undisclosed Series A 5,00,000\\n5 8/11/2018 A&R Bon Vivants Food Meat Retail Chain Jaipur RB Investments, Singapore Equity 1,000,000\\n6 12/11/2018 Blackbuck Food Tech POS For Online Ordering New York, Bengaluru Tiger Global Series A 1,000,000\\n7 12/11/2018 MilkBAsket Food Micro-delivery grocery service New Delhi Mayfield Fund Series B 1,300,000\\n8 13/11/2018 DriveU Transport On-Demand Drivers Bengaluru Stevens Creek Ventures Mezzanine 1,000,000\\n9 14/11/2018 CleanseCar Services Car Wash Bengaluru Venture Catalysts Seed/ Angel Funding 500,000\\n10 19/11/2018 Automation Anywhere Automation Robotics California SoftBank Vision Fund Series B 300,000,000\\nShowing 1 to 10 of 18 entries\\nPreviousNext\",\n",
       " \"Show\\n10\\n25\\n50\\n100\\nentries\\nSearch:\\nSr. No. Date (dd/mm/yyyy) Startup Name Industry / Vertical Sub-Vertical City / Location Investors' Name Investment Type Amount (In USD)\\n1 01/10/2018 Northmist Fashion Mens Wear Delhi Prashant Jaiswal Seed/ Angel Funding N/A\\n2 02/10/2018 Origo Commodities India Pvt. Ltd Logistics Supply Chain Hyderabad Cooperative Oikocredit, Caspian and Hivos-Triodos Fund Seed/ Angel Funding 11,000,000\\n3 04/10/2018 Grover Zampa Food Wine Mumbai Ravi Viswanathan Private Equity 8,200,000\\n4 05/10/2018 Droom Automobile New and Used Cars Platform Gurgaon ZigExN Series E 30,00,000\\n5 11/10/2018 Innov8 Real Estate Co-Working New Delhi Credence Family Office Pre-Series A 4,000,000\\n6 12/10/2018 Blackbuck Logistics Tech Largest Trucking Platform Bengaluru Sequoia Capital India Private Funding 14,680,000\\n7 12/10/2018 LetsTransport Logistics Tech Book Trucks Online Bengaluru Fosun International Series C 12,000,000\\nShowing 1 to 7 of 7 entries\\nPreviousNext\",\n",
       " \"Show\\n10\\n25\\n50\\n100\\nentries\\nSearch:\\nSr. No. Date (dd/mm/yyyy) Startup Name Industry / Vertical Sub-Vertical City / Location Investors' Name Investment Type Amount (In USD)\\n1 01/09/2018 Netmeds Consumer Internet Online Pharmacy Chain Chennai Sistema Asia Fund, Sistema JSFC and Tanncam Investment Private Equity 35,000,000\\n2 03/09/2018 Udaan B2B Platform Logistics and Shipping Bengaluru DST Global and Lightspeed Venture Partners’ global fund. Private Equity 225,000,000\\n3 03/09/2018 Daily hunt Consumer Internet News and ebooks Mobile App  Bengaluru Falcon Edge Private Equity 63,90,000\\n4 04/09/2018 3HCare Healthcare Healthcare Service Provider Delhi N/A Seed / Angel Funding 1,000,000\\n5 04/09/2018 HappyGoEasy Consumer Internet Online Travel Agecy Gurugram Korea Investment Partners (KIP), Samsung and China-based CITIC Capital and others Private Equity N/A\\n6 05/09/2018 Nykaa Consumer Internet Online Marketplace For Multi-brand Beauty Cosmetic and Wellness Products Mumbai Lighthouse Private Equity 15,72,00,000\\n7 05/09/2018 Mad Street Den Technology Computer Vision And Artificial Intelligence (Ai) Platform Chennai KDDI  Private Equity N/A\\n8 06/09/2018 Dream11 Consumer Internet Online Gaming Platform Mumbai Tencent, Kalaari Capital and Private equity firm Multiples Alternate Asset Management Private Equity 100,000,000\\n9 10/09/2018 MamaEarth Healthcare Online Marketplace For Mother and Babycare Products Gurugram Stellaris Ventures & Others Private Equity 4,000,000\\n10 11/09/2018 AutoGrid Technology AI-Based Energy Optimisation and Control Provider Bengaluru CLP Holdings Group, Innogy, Ørstead, and Tenaska Private Equity 32,000,000\\nShowing 1 to 10 of 14 entries\\nPreviousNext\",\n",
       " \"Show\\n10\\n25\\n50\\n100\\nentries\\nSearch:\\nSr. No. Date (dd/mm/yyyy) Startup Name Industry / Vertical Sub-Vertical City / Location Investors' Name Investment Type Amount (In USD)\\n1 01/08/2018 dishq Food-Tech Personalisation Technology Firm Focusing On The Food And Beverage Industry Bengaluru Farm To Fork, Arts Alliance, The Syndicate Fund, Sven Hensen, Zeroth and Artesian Venture Partners Seed/ Angel Funding 400,000\\n2 01/08/2018 HealthFin Finance Patient Financing Platform Pune Axilor, Sprout Venture Partners and others Seed/ Angel Funding N/A\\n3 02/08/2018 Samosa Labs Consumer Internet Social Media and Chat Entertainment Platform Hyderabad Xiaomi and Sequoia Capital India Private Equity 7,000,000\\n4 03/08/2018 ZiffyHomes Consumer Internet Online Home Rental Marketplace Gurugram Y Combinator Private Equity 120,000\\n5 07/08/2018 My OmNamo Consumer Internet Holy Platform Offering Customised Puja Packages To Individuals and Corporates Mumbai N/A Seed/ Angel Funding 1,000,000\\n6 07/08/2018 ShopX Consumer Internet Assisted E-commerce Platform Bengaluru Fung Strategic Holdings Private Equity 35,000,000\\n7 07/08/2018 MakeMyTrip Consumer Internet Online Travel Aggregator Gurugram MakeMyTrip Limited Private Equity 10,000,000\\n8 08/08/2018 Hansel io Consumer Internet Real-time Mobile App Management Bengaluru Vertex Ventures Seed/ Angel Funding 40,00,000\\n9 08/08/2018 Metro Bikes Consumer Internet Online Bike Rental Marketplace Bengaluru Sequoia Capital India Advisors, Accel Partners and G Raghunandan Private Equity 12,200,000\\n10 08/08/2018 Phone Pe Consumer Internet UPI Payments App Bengaluru Flipkart Private Equity 66,000,000\\nShowing 1 to 10 of 25 entries\\nPreviousNext\",\n",
       " \"Show\\n10\\n25\\n50\\n100\\nentries\\nSearch:\\nSr. No. Date (dd/mm/yyyy) Startup Name Industry / Vertical Sub-Vertical City / Location Investors' Name Investment Type Amount (In USD)\\n1 01/07/2018 Leena AI Technology HR Virtual Agent For Employees Gurugram Y Combinator Seed/ Angel Funding N/A\\n2 02/07/2018 Biryani By Kilo Consumer Internet Online Food Delivery Gurugram Ajay Relan and Vinay Mittal Seed/ Angel Funding 1,000,000\\n3 04/07/2018 Anchanto IT E-commerce Fulfilment Platform Pune MDI Ventures & Telkom Indonesia Private Equity 4,000,000\\n4 05/072018 Loan Tap Consumer Internet Online Lending Platform For Salaried Professionals Mumbai Shunwei Capital, Tuscan Ventures, Ashish Goenka, VC firms India Quotient and Kae Capital Private Equity 62,50,000\\n5 06/07/2018 PolicyBazaar Consumer Internet Online Insurance Selling Platform Gurugram Info Edge (India) Ltd and Temasek Private Equity 2,7700,000\\n6 09/07/2018 zippserv Consumer Internet Online Platform For Risk-Assessment Services For Real Estate Investments Bengaluru Info Edge (India) Ltd Seed/ Angel Funding 440,000\\n7 09/07/2018 Groww Consumer Internet Online Platform That Sells Direct Plans Of Mutual Funds Bengaluru Insignia Ventures Partners, Lightbridge Partners & Kairos Seed/ Angel Funding 1,100,000\\n8 10/07/2018 Avenue Growth Consumer Internet Online Platform That Connects Brands With Freelance Sales Professionals Gurugram Avtar Monga, chief operating office at IDFC Bank, Aditya Malik & Others Seed/ Angel Funding 437,000\\n9 10/07/2018 iNICU Healthcare Med-tech Platform Providing Care For Newborns Delhi Venture Catalysts Seed/ Angel Funding N/A\\n10 10/07/2018 Kinara Capital Finance Lending Platform For Micro and Small Enterprises Bengaluru ResponsAbility Private Equity 5,000,000\\nShowing 1 to 10 of 36 entries\\nPreviousNext\",\n",
       " \"Show\\n10\\n25\\n50\\n100\\nentries\\nSearch:\\nSr. No. Date (dd/mm/yyyy) Startup Name Industry / Vertical Sub-Vertical City / Location Investors' Name Investment Type Amount (In USD)\\n1 01/10/2018 Northmist Fashion Mens Wear Delhi Prashant Jaiswal Seed/ Angel Funding N/A\\n2 02/10/2018 Origo Commodities India Pvt. Ltd Logistics Supply Chain Hyderabad Cooperative Oikocredit, Caspian and Hivos-Triodos Fund Seed/ Angel Funding 11,000,000\\n3 04/10/2018 Grover Zampa Food Wine Mumbai Ravi Viswanathan Private Equity 8,200,000\\n4 05/10/2018 Droom Automobile New and Used Cars Platform Gurgaon ZigExN Series E 30,00,000\\n5 11/10/2018 Innov8 Real Estate Co-Working New Delhi Credence Family Office Pre-Series A 4,000,000\\n6 12/10/2018 Blackbuck Logistics Tech Largest Trucking Platform Bengaluru Sequoia Capital India Private Funding 14,680,000\\n7 12/10/2018 LetsTransport Logistics Tech Book Trucks Online Bengaluru Fosun International Series C 12,000,000\\nShowing 1 to 7 of 7 entries\\nPreviousNext\",\n",
       " \"Show\\n10\\n25\\n50\\n100\\nentries\\nSearch:\\nSr. No. Date (dd/mm/yyyy) Startup Name Industry / Vertical Sub-Vertical City / Location Investors' Name Investment Type Amount (In USD)\\n1 01/09/2018 Netmeds Consumer Internet Online Pharmacy Chain Chennai Sistema Asia Fund, Sistema JSFC and Tanncam Investment Private Equity 35,000,000\\n2 03/09/2018 Udaan B2B Platform Logistics and Shipping Bengaluru DST Global and Lightspeed Venture Partners’ global fund. Private Equity 225,000,000\\n3 03/09/2018 Daily hunt Consumer Internet News and ebooks Mobile App  Bengaluru Falcon Edge Private Equity 63,90,000\\n4 04/09/2018 3HCare Healthcare Healthcare Service Provider Delhi N/A Seed / Angel Funding 1,000,000\\n5 04/09/2018 HappyGoEasy Consumer Internet Online Travel Agecy Gurugram Korea Investment Partners (KIP), Samsung and China-based CITIC Capital and others Private Equity N/A\\n6 05/09/2018 Nykaa Consumer Internet Online Marketplace For Multi-brand Beauty Cosmetic and Wellness Products Mumbai Lighthouse Private Equity 15,72,00,000\\n7 05/09/2018 Mad Street Den Technology Computer Vision And Artificial Intelligence (Ai) Platform Chennai KDDI  Private Equity N/A\\n8 06/09/2018 Dream11 Consumer Internet Online Gaming Platform Mumbai Tencent, Kalaari Capital and Private equity firm Multiples Alternate Asset Management Private Equity 100,000,000\\n9 10/09/2018 MamaEarth Healthcare Online Marketplace For Mother and Babycare Products Gurugram Stellaris Ventures & Others Private Equity 4,000,000\\n10 11/09/2018 AutoGrid Technology AI-Based Energy Optimisation and Control Provider Bengaluru CLP Holdings Group, Innogy, Ørstead, and Tenaska Private Equity 32,000,000\\nShowing 1 to 10 of 14 entries\\nPreviousNext\",\n",
       " \"Show\\n10\\n25\\n50\\n100\\nentries\\nSearch:\\nSr. No. Date (dd/mm/yyyy) Startup Name Industry / Vertical Sub-Vertical City / Location Investors' Name Investment Type Amount (In USD)\\n1 01/08/2018 dishq Food-Tech Personalisation Technology Firm Focusing On The Food And Beverage Industry Bengaluru Farm To Fork, Arts Alliance, The Syndicate Fund, Sven Hensen, Zeroth and Artesian Venture Partners Seed/ Angel Funding 400,000\\n2 01/08/2018 HealthFin Finance Patient Financing Platform Pune Axilor, Sprout Venture Partners and others Seed/ Angel Funding N/A\\n3 02/08/2018 Samosa Labs Consumer Internet Social Media and Chat Entertainment Platform Hyderabad Xiaomi and Sequoia Capital India Private Equity 7,000,000\\n4 03/08/2018 ZiffyHomes Consumer Internet Online Home Rental Marketplace Gurugram Y Combinator Private Equity 120,000\\n5 07/08/2018 My OmNamo Consumer Internet Holy Platform Offering Customised Puja Packages To Individuals and Corporates Mumbai N/A Seed/ Angel Funding 1,000,000\\n6 07/08/2018 ShopX Consumer Internet Assisted E-commerce Platform Bengaluru Fung Strategic Holdings Private Equity 35,000,000\\n7 07/08/2018 MakeMyTrip Consumer Internet Online Travel Aggregator Gurugram MakeMyTrip Limited Private Equity 10,000,000\\n8 08/08/2018 Hansel io Consumer Internet Real-time Mobile App Management Bengaluru Vertex Ventures Seed/ Angel Funding 40,00,000\\n9 08/08/2018 Metro Bikes Consumer Internet Online Bike Rental Marketplace Bengaluru Sequoia Capital India Advisors, Accel Partners and G Raghunandan Private Equity 12,200,000\\n10 08/08/2018 Phone Pe Consumer Internet UPI Payments App Bengaluru Flipkart Private Equity 66,000,000\\nShowing 1 to 10 of 25 entries\\nPreviousNext\",\n",
       " \"Show\\n10\\n25\\n50\\n100\\nentries\\nSearch:\\nSr. No. Date (dd/mm/yyyy) Startup Name Industry / Vertical Sub-Vertical City / Location Investors' Name Investment Type Amount (In USD)\\n1 01/07/2018 Leena AI Technology HR Virtual Agent For Employees Gurugram Y Combinator Seed/ Angel Funding N/A\\n2 02/07/2018 Biryani By Kilo Consumer Internet Online Food Delivery Gurugram Ajay Relan and Vinay Mittal Seed/ Angel Funding 1,000,000\\n3 04/07/2018 Anchanto IT E-commerce Fulfilment Platform Pune MDI Ventures & Telkom Indonesia Private Equity 4,000,000\\n4 05/072018 Loan Tap Consumer Internet Online Lending Platform For Salaried Professionals Mumbai Shunwei Capital, Tuscan Ventures, Ashish Goenka, VC firms India Quotient and Kae Capital Private Equity 62,50,000\\n5 06/07/2018 PolicyBazaar Consumer Internet Online Insurance Selling Platform Gurugram Info Edge (India) Ltd and Temasek Private Equity 2,7700,000\\n6 09/07/2018 zippserv Consumer Internet Online Platform For Risk-Assessment Services For Real Estate Investments Bengaluru Info Edge (India) Ltd Seed/ Angel Funding 440,000\\n7 09/07/2018 Groww Consumer Internet Online Platform That Sells Direct Plans Of Mutual Funds Bengaluru Insignia Ventures Partners, Lightbridge Partners & Kairos Seed/ Angel Funding 1,100,000\\n8 10/07/2018 Avenue Growth Consumer Internet Online Platform That Connects Brands With Freelance Sales Professionals Gurugram Avtar Monga, chief operating office at IDFC Bank, Aditya Malik & Others Seed/ Angel Funding 437,000\\n9 10/07/2018 iNICU Healthcare Med-tech Platform Providing Care For Newborns Delhi Venture Catalysts Seed/ Angel Funding N/A\\n10 10/07/2018 Kinara Capital Finance Lending Platform For Micro and Small Enterprises Bengaluru ResponsAbility Private Equity 5,000,000\\nShowing 1 to 10 of 36 entries\\nPreviousNext\",\n",
       " \"Show\\n10\\n25\\n50\\n100\\nentries\\nSearch:\\nSr. No. Date (dd/mm/yyyy) Startup Name Industry / Vertical Sub-Vertical City / Location Investors' Name Investment Type Amount (In USD)\\n1 01/10/2018 Northmist Fashion Mens Wear Delhi Prashant Jaiswal Seed/ Angel Funding N/A\\n2 02/10/2018 Origo Commodities India Pvt. Ltd Logistics Supply Chain Hyderabad Cooperative Oikocredit, Caspian and Hivos-Triodos Fund Seed/ Angel Funding 11,000,000\\n3 04/10/2018 Grover Zampa Food Wine Mumbai Ravi Viswanathan Private Equity 8,200,000\\n4 05/10/2018 Droom Automobile New and Used Cars Platform Gurgaon ZigExN Series E 30,00,000\\n5 11/10/2018 Innov8 Real Estate Co-Working New Delhi Credence Family Office Pre-Series A 4,000,000\\n6 12/10/2018 Blackbuck Logistics Tech Largest Trucking Platform Bengaluru Sequoia Capital India Private Funding 14,680,000\\n7 12/10/2018 LetsTransport Logistics Tech Book Trucks Online Bengaluru Fosun International Series C 12,000,000\\nShowing 1 to 7 of 7 entries\\nPreviousNext\",\n",
       " \"Show\\n10\\n25\\n50\\n100\\nentries\\nSearch:\\nSr. No. Date (dd/mm/yyyy) Startup Name Industry / Vertical Sub-Vertical City / Location Investors' Name Investment Type Amount (In USD)\\n1 01/09/2018 Netmeds Consumer Internet Online Pharmacy Chain Chennai Sistema Asia Fund, Sistema JSFC and Tanncam Investment Private Equity 35,000,000\\n2 03/09/2018 Udaan B2B Platform Logistics and Shipping Bengaluru DST Global and Lightspeed Venture Partners’ global fund. Private Equity 225,000,000\\n3 03/09/2018 Daily hunt Consumer Internet News and ebooks Mobile App  Bengaluru Falcon Edge Private Equity 63,90,000\\n4 04/09/2018 3HCare Healthcare Healthcare Service Provider Delhi N/A Seed / Angel Funding 1,000,000\\n5 04/09/2018 HappyGoEasy Consumer Internet Online Travel Agecy Gurugram Korea Investment Partners (KIP), Samsung and China-based CITIC Capital and others Private Equity N/A\\n6 05/09/2018 Nykaa Consumer Internet Online Marketplace For Multi-brand Beauty Cosmetic and Wellness Products Mumbai Lighthouse Private Equity 15,72,00,000\\n7 05/09/2018 Mad Street Den Technology Computer Vision And Artificial Intelligence (Ai) Platform Chennai KDDI  Private Equity N/A\\n8 06/09/2018 Dream11 Consumer Internet Online Gaming Platform Mumbai Tencent, Kalaari Capital and Private equity firm Multiples Alternate Asset Management Private Equity 100,000,000\\n9 10/09/2018 MamaEarth Healthcare Online Marketplace For Mother and Babycare Products Gurugram Stellaris Ventures & Others Private Equity 4,000,000\\n10 11/09/2018 AutoGrid Technology AI-Based Energy Optimisation and Control Provider Bengaluru CLP Holdings Group, Innogy, Ørstead, and Tenaska Private Equity 32,000,000\\nShowing 1 to 10 of 14 entries\\nPreviousNext\",\n",
       " \"Show\\n10\\n25\\n50\\n100\\nentries\\nSearch:\\nSr. No. Date (dd/mm/yyyy) Startup Name Industry / Vertical Sub-Vertical City / Location Investors' Name Investment Type Amount (In USD)\\n1 01/08/2018 dishq Food-Tech Personalisation Technology Firm Focusing On The Food And Beverage Industry Bengaluru Farm To Fork, Arts Alliance, The Syndicate Fund, Sven Hensen, Zeroth and Artesian Venture Partners Seed/ Angel Funding 400,000\\n2 01/08/2018 HealthFin Finance Patient Financing Platform Pune Axilor, Sprout Venture Partners and others Seed/ Angel Funding N/A\\n3 02/08/2018 Samosa Labs Consumer Internet Social Media and Chat Entertainment Platform Hyderabad Xiaomi and Sequoia Capital India Private Equity 7,000,000\\n4 03/08/2018 ZiffyHomes Consumer Internet Online Home Rental Marketplace Gurugram Y Combinator Private Equity 120,000\\n5 07/08/2018 My OmNamo Consumer Internet Holy Platform Offering Customised Puja Packages To Individuals and Corporates Mumbai N/A Seed/ Angel Funding 1,000,000\\n6 07/08/2018 ShopX Consumer Internet Assisted E-commerce Platform Bengaluru Fung Strategic Holdings Private Equity 35,000,000\\n7 07/08/2018 MakeMyTrip Consumer Internet Online Travel Aggregator Gurugram MakeMyTrip Limited Private Equity 10,000,000\\n8 08/08/2018 Hansel io Consumer Internet Real-time Mobile App Management Bengaluru Vertex Ventures Seed/ Angel Funding 40,00,000\\n9 08/08/2018 Metro Bikes Consumer Internet Online Bike Rental Marketplace Bengaluru Sequoia Capital India Advisors, Accel Partners and G Raghunandan Private Equity 12,200,000\\n10 08/08/2018 Phone Pe Consumer Internet UPI Payments App Bengaluru Flipkart Private Equity 66,000,000\\nShowing 1 to 10 of 25 entries\\nPreviousNext\",\n",
       " \"Show\\n10\\n25\\n50\\n100\\nentries\\nSearch:\\nSr. No. Date (dd/mm/yyyy) Startup Name Industry / Vertical Sub-Vertical City / Location Investors' Name Investment Type Amount (In USD)\\n1 01/07/2018 Leena AI Technology HR Virtual Agent For Employees Gurugram Y Combinator Seed/ Angel Funding N/A\\n2 02/07/2018 Biryani By Kilo Consumer Internet Online Food Delivery Gurugram Ajay Relan and Vinay Mittal Seed/ Angel Funding 1,000,000\\n3 04/07/2018 Anchanto IT E-commerce Fulfilment Platform Pune MDI Ventures & Telkom Indonesia Private Equity 4,000,000\\n4 05/072018 Loan Tap Consumer Internet Online Lending Platform For Salaried Professionals Mumbai Shunwei Capital, Tuscan Ventures, Ashish Goenka, VC firms India Quotient and Kae Capital Private Equity 62,50,000\\n5 06/07/2018 PolicyBazaar Consumer Internet Online Insurance Selling Platform Gurugram Info Edge (India) Ltd and Temasek Private Equity 2,7700,000\\n6 09/07/2018 zippserv Consumer Internet Online Platform For Risk-Assessment Services For Real Estate Investments Bengaluru Info Edge (India) Ltd Seed/ Angel Funding 440,000\\n7 09/07/2018 Groww Consumer Internet Online Platform That Sells Direct Plans Of Mutual Funds Bengaluru Insignia Ventures Partners, Lightbridge Partners & Kairos Seed/ Angel Funding 1,100,000\\n8 10/07/2018 Avenue Growth Consumer Internet Online Platform That Connects Brands With Freelance Sales Professionals Gurugram Avtar Monga, chief operating office at IDFC Bank, Aditya Malik & Others Seed/ Angel Funding 437,000\\n9 10/07/2018 iNICU Healthcare Med-tech Platform Providing Care For Newborns Delhi Venture Catalysts Seed/ Angel Funding N/A\\n10 10/07/2018 Kinara Capital Finance Lending Platform For Micro and Small Enterprises Bengaluru ResponsAbility Private Equity 5,000,000\\nShowing 1 to 10 of 36 entries\\nPreviousNext\",\n",
       " \"Show\\n10\\n25\\n50\\n100\\nentries\\nSearch:\\nSr. No. Date (dd/mm/yyyy) Startup Name Industry / Vertical Sub-Vertical City / Location Investors' Name Investment Type Amount (In USD)\\n1 01/10/2018 Northmist Fashion Mens Wear Delhi Prashant Jaiswal Seed/ Angel Funding N/A\\n2 02/10/2018 Origo Commodities India Pvt. Ltd Logistics Supply Chain Hyderabad Cooperative Oikocredit, Caspian and Hivos-Triodos Fund Seed/ Angel Funding 11,000,000\\n3 04/10/2018 Grover Zampa Food Wine Mumbai Ravi Viswanathan Private Equity 8,200,000\\n4 05/10/2018 Droom Automobile New and Used Cars Platform Gurgaon ZigExN Series E 30,00,000\\n5 11/10/2018 Innov8 Real Estate Co-Working New Delhi Credence Family Office Pre-Series A 4,000,000\\n6 12/10/2018 Blackbuck Logistics Tech Largest Trucking Platform Bengaluru Sequoia Capital India Private Funding 14,680,000\\n7 12/10/2018 LetsTransport Logistics Tech Book Trucks Online Bengaluru Fosun International Series C 12,000,000\\nShowing 1 to 7 of 7 entries\\nPreviousNext\",\n",
       " \"Show\\n10\\n25\\n50\\n100\\nentries\\nSearch:\\nSr. No. Date (dd/mm/yyyy) Startup Name Industry / Vertical Sub-Vertical City / Location Investors' Name Investment Type Amount (In USD)\\n1 01/09/2018 Netmeds Consumer Internet Online Pharmacy Chain Chennai Sistema Asia Fund, Sistema JSFC and Tanncam Investment Private Equity 35,000,000\\n2 03/09/2018 Udaan B2B Platform Logistics and Shipping Bengaluru DST Global and Lightspeed Venture Partners’ global fund. Private Equity 225,000,000\\n3 03/09/2018 Daily hunt Consumer Internet News and ebooks Mobile App  Bengaluru Falcon Edge Private Equity 63,90,000\\n4 04/09/2018 3HCare Healthcare Healthcare Service Provider Delhi N/A Seed / Angel Funding 1,000,000\\n5 04/09/2018 HappyGoEasy Consumer Internet Online Travel Agecy Gurugram Korea Investment Partners (KIP), Samsung and China-based CITIC Capital and others Private Equity N/A\\n6 05/09/2018 Nykaa Consumer Internet Online Marketplace For Multi-brand Beauty Cosmetic and Wellness Products Mumbai Lighthouse Private Equity 15,72,00,000\\n7 05/09/2018 Mad Street Den Technology Computer Vision And Artificial Intelligence (Ai) Platform Chennai KDDI  Private Equity N/A\\n8 06/09/2018 Dream11 Consumer Internet Online Gaming Platform Mumbai Tencent, Kalaari Capital and Private equity firm Multiples Alternate Asset Management Private Equity 100,000,000\\n9 10/09/2018 MamaEarth Healthcare Online Marketplace For Mother and Babycare Products Gurugram Stellaris Ventures & Others Private Equity 4,000,000\\n10 11/09/2018 AutoGrid Technology AI-Based Energy Optimisation and Control Provider Bengaluru CLP Holdings Group, Innogy, Ørstead, and Tenaska Private Equity 32,000,000\\nShowing 1 to 10 of 14 entries\\nPreviousNext\",\n",
       " \"Show\\n10\\n25\\n50\\n100\\nentries\\nSearch:\\nSr. No. Date (dd/mm/yyyy) Startup Name Industry / Vertical Sub-Vertical City / Location Investors' Name Investment Type Amount (In USD)\\n1 01/08/2018 dishq Food-Tech Personalisation Technology Firm Focusing On The Food And Beverage Industry Bengaluru Farm To Fork, Arts Alliance, The Syndicate Fund, Sven Hensen, Zeroth and Artesian Venture Partners Seed/ Angel Funding 400,000\\n2 01/08/2018 HealthFin Finance Patient Financing Platform Pune Axilor, Sprout Venture Partners and others Seed/ Angel Funding N/A\\n3 02/08/2018 Samosa Labs Consumer Internet Social Media and Chat Entertainment Platform Hyderabad Xiaomi and Sequoia Capital India Private Equity 7,000,000\\n4 03/08/2018 ZiffyHomes Consumer Internet Online Home Rental Marketplace Gurugram Y Combinator Private Equity 120,000\\n5 07/08/2018 My OmNamo Consumer Internet Holy Platform Offering Customised Puja Packages To Individuals and Corporates Mumbai N/A Seed/ Angel Funding 1,000,000\\n6 07/08/2018 ShopX Consumer Internet Assisted E-commerce Platform Bengaluru Fung Strategic Holdings Private Equity 35,000,000\\n7 07/08/2018 MakeMyTrip Consumer Internet Online Travel Aggregator Gurugram MakeMyTrip Limited Private Equity 10,000,000\\n8 08/08/2018 Hansel io Consumer Internet Real-time Mobile App Management Bengaluru Vertex Ventures Seed/ Angel Funding 40,00,000\\n9 08/08/2018 Metro Bikes Consumer Internet Online Bike Rental Marketplace Bengaluru Sequoia Capital India Advisors, Accel Partners and G Raghunandan Private Equity 12,200,000\\n10 08/08/2018 Phone Pe Consumer Internet UPI Payments App Bengaluru Flipkart Private Equity 66,000,000\\nShowing 1 to 10 of 25 entries\\nPreviousNext\",\n",
       " \"Show\\n10\\n25\\n50\\n100\\nentries\\nSearch:\\nSr. No. Date (dd/mm/yyyy) Startup Name Industry / Vertical Sub-Vertical City / Location Investors' Name Investment Type Amount (In USD)\\n1 01/07/2018 Leena AI Technology HR Virtual Agent For Employees Gurugram Y Combinator Seed/ Angel Funding N/A\\n2 02/07/2018 Biryani By Kilo Consumer Internet Online Food Delivery Gurugram Ajay Relan and Vinay Mittal Seed/ Angel Funding 1,000,000\\n3 04/07/2018 Anchanto IT E-commerce Fulfilment Platform Pune MDI Ventures & Telkom Indonesia Private Equity 4,000,000\\n4 05/072018 Loan Tap Consumer Internet Online Lending Platform For Salaried Professionals Mumbai Shunwei Capital, Tuscan Ventures, Ashish Goenka, VC firms India Quotient and Kae Capital Private Equity 62,50,000\\n5 06/07/2018 PolicyBazaar Consumer Internet Online Insurance Selling Platform Gurugram Info Edge (India) Ltd and Temasek Private Equity 2,7700,000\\n6 09/07/2018 zippserv Consumer Internet Online Platform For Risk-Assessment Services For Real Estate Investments Bengaluru Info Edge (India) Ltd Seed/ Angel Funding 440,000\\n7 09/07/2018 Groww Consumer Internet Online Platform That Sells Direct Plans Of Mutual Funds Bengaluru Insignia Ventures Partners, Lightbridge Partners & Kairos Seed/ Angel Funding 1,100,000\\n8 10/07/2018 Avenue Growth Consumer Internet Online Platform That Connects Brands With Freelance Sales Professionals Gurugram Avtar Monga, chief operating office at IDFC Bank, Aditya Malik & Others Seed/ Angel Funding 437,000\\n9 10/07/2018 iNICU Healthcare Med-tech Platform Providing Care For Newborns Delhi Venture Catalysts Seed/ Angel Funding N/A\\n10 10/07/2018 Kinara Capital Finance Lending Platform For Micro and Small Enterprises Bengaluru ResponsAbility Private Equity 5,000,000\\nShowing 1 to 10 of 36 entries\\nPreviousNext\"]"
      ]
     },
     "execution_count": 120,
     "metadata": {},
     "output_type": "execute_result"
    }
   ],
   "source": [
    "Feb_Table"
   ]
  },
  {
   "cell_type": "code",
   "execution_count": 121,
   "id": "e3b5215d",
   "metadata": {},
   "outputs": [
    {
     "data": {
      "text/plain": [
       "[<selenium.webdriver.remote.webelement.WebElement (session=\"f3941f80cf204042652f6f8f806edfa0\", element=\"496afc92-a358-45c9-aa31-597c97031b2f\")>]"
      ]
     },
     "execution_count": 121,
     "metadata": {},
     "output_type": "execute_result"
    }
   ],
   "source": [
    "march=driver.find_elements(By.XPATH,'//h2[@class=\"tablepress-table-name tablepress-table-name-id-56\"]')\n",
    "march"
   ]
  },
  {
   "cell_type": "code",
   "execution_count": 122,
   "id": "0662eeb3",
   "metadata": {
    "scrolled": true
   },
   "outputs": [
    {
     "data": {
      "text/plain": [
       "[<selenium.webdriver.remote.webelement.WebElement (session=\"f3941f80cf204042652f6f8f806edfa0\", element=\"0f381948-9f1b-4a4e-b568-c609314af293\")>,\n",
       " <selenium.webdriver.remote.webelement.WebElement (session=\"f3941f80cf204042652f6f8f806edfa0\", element=\"92851a4c-cc9c-4d24-85f1-35656bf13071\")>,\n",
       " <selenium.webdriver.remote.webelement.WebElement (session=\"f3941f80cf204042652f6f8f806edfa0\", element=\"96896e0f-9904-4195-8ffc-5fb4fa1bc00f\")>,\n",
       " <selenium.webdriver.remote.webelement.WebElement (session=\"f3941f80cf204042652f6f8f806edfa0\", element=\"3577247c-02df-4410-8c2d-46d954cbfe48\")>,\n",
       " <selenium.webdriver.remote.webelement.WebElement (session=\"f3941f80cf204042652f6f8f806edfa0\", element=\"f294a4b4-b014-47ea-b6ef-44350d77cbe5\")>,\n",
       " <selenium.webdriver.remote.webelement.WebElement (session=\"f3941f80cf204042652f6f8f806edfa0\", element=\"866439fc-ddc9-4079-99fb-d862b3f5a4e7\")>,\n",
       " <selenium.webdriver.remote.webelement.WebElement (session=\"f3941f80cf204042652f6f8f806edfa0\", element=\"4c25f90d-f69f-4e52-8b73-cedea389f72c\")>,\n",
       " <selenium.webdriver.remote.webelement.WebElement (session=\"f3941f80cf204042652f6f8f806edfa0\", element=\"28164800-b3a9-4cc6-bf4d-fe92ef47ae73\")>,\n",
       " <selenium.webdriver.remote.webelement.WebElement (session=\"f3941f80cf204042652f6f8f806edfa0\", element=\"d42e0b2d-989c-4e7f-862e-6db5f1462c79\")>,\n",
       " <selenium.webdriver.remote.webelement.WebElement (session=\"f3941f80cf204042652f6f8f806edfa0\", element=\"bcb50bb8-b865-45a5-81b8-a5901b2e7666\")>,\n",
       " <selenium.webdriver.remote.webelement.WebElement (session=\"f3941f80cf204042652f6f8f806edfa0\", element=\"fce54e0a-9a72-4ff4-b93d-dcde1ac455ef\")>,\n",
       " <selenium.webdriver.remote.webelement.WebElement (session=\"f3941f80cf204042652f6f8f806edfa0\", element=\"a72f8cc8-e1ad-4c60-aa27-c9e8755bb883\")>,\n",
       " <selenium.webdriver.remote.webelement.WebElement (session=\"f3941f80cf204042652f6f8f806edfa0\", element=\"4c9bb48c-141c-49c3-8ffe-2e272e6783b9\")>,\n",
       " <selenium.webdriver.remote.webelement.WebElement (session=\"f3941f80cf204042652f6f8f806edfa0\", element=\"6e578e60-a808-48fb-98c6-84cad469dd4f\")>,\n",
       " <selenium.webdriver.remote.webelement.WebElement (session=\"f3941f80cf204042652f6f8f806edfa0\", element=\"fffe709e-0abd-446f-a66b-17f4578afd86\")>,\n",
       " <selenium.webdriver.remote.webelement.WebElement (session=\"f3941f80cf204042652f6f8f806edfa0\", element=\"ed57773d-083c-43e9-801a-30053f9cf852\")>,\n",
       " <selenium.webdriver.remote.webelement.WebElement (session=\"f3941f80cf204042652f6f8f806edfa0\", element=\"f17375c1-e64b-47f5-8791-5cf93d47ad9f\")>,\n",
       " <selenium.webdriver.remote.webelement.WebElement (session=\"f3941f80cf204042652f6f8f806edfa0\", element=\"40552df5-9486-4bdd-ba66-a949aea8a57d\")>,\n",
       " <selenium.webdriver.remote.webelement.WebElement (session=\"f3941f80cf204042652f6f8f806edfa0\", element=\"4b941432-4b50-4c1a-adb5-e0fc18633fb2\")>,\n",
       " <selenium.webdriver.remote.webelement.WebElement (session=\"f3941f80cf204042652f6f8f806edfa0\", element=\"fd8e6f5a-0cad-492c-aae2-1d5a230e6514\")>,\n",
       " <selenium.webdriver.remote.webelement.WebElement (session=\"f3941f80cf204042652f6f8f806edfa0\", element=\"3a092bda-ae7a-4b18-813f-6e288a1e4ebe\")>,\n",
       " <selenium.webdriver.remote.webelement.WebElement (session=\"f3941f80cf204042652f6f8f806edfa0\", element=\"f8511f13-e42c-474f-881c-64ce3407c34f\")>,\n",
       " <selenium.webdriver.remote.webelement.WebElement (session=\"f3941f80cf204042652f6f8f806edfa0\", element=\"fd1966ff-1a60-40fc-bb83-18fa7dc95b64\")>,\n",
       " <selenium.webdriver.remote.webelement.WebElement (session=\"f3941f80cf204042652f6f8f806edfa0\", element=\"916ceb8e-5e28-4f36-bee7-59f9c51adf39\")>,\n",
       " <selenium.webdriver.remote.webelement.WebElement (session=\"f3941f80cf204042652f6f8f806edfa0\", element=\"5f20a94b-d7f0-4086-870d-1fa18d95cf46\")>,\n",
       " <selenium.webdriver.remote.webelement.WebElement (session=\"f3941f80cf204042652f6f8f806edfa0\", element=\"cd546a2d-1889-40a7-b710-22de2cbdd1c2\")>,\n",
       " <selenium.webdriver.remote.webelement.WebElement (session=\"f3941f80cf204042652f6f8f806edfa0\", element=\"378c18b3-0d4b-498f-9c2c-b3666b757d27\")>,\n",
       " <selenium.webdriver.remote.webelement.WebElement (session=\"f3941f80cf204042652f6f8f806edfa0\", element=\"26501262-595b-493e-be1d-63f1f0aa1ff6\")>,\n",
       " <selenium.webdriver.remote.webelement.WebElement (session=\"f3941f80cf204042652f6f8f806edfa0\", element=\"6198b4eb-8964-43ad-b2a0-3ab69a308346\")>,\n",
       " <selenium.webdriver.remote.webelement.WebElement (session=\"f3941f80cf204042652f6f8f806edfa0\", element=\"e43b80c3-a5c5-4c64-8a03-470b27e0e047\")>,\n",
       " <selenium.webdriver.remote.webelement.WebElement (session=\"f3941f80cf204042652f6f8f806edfa0\", element=\"b1898b97-dd13-4f9d-880a-ae3a018247d4\")>,\n",
       " <selenium.webdriver.remote.webelement.WebElement (session=\"f3941f80cf204042652f6f8f806edfa0\", element=\"04e529ab-d245-4252-8812-eb5d8fa89d30\")>,\n",
       " <selenium.webdriver.remote.webelement.WebElement (session=\"f3941f80cf204042652f6f8f806edfa0\", element=\"5b2643e0-fdb2-4d59-ba61-7adb4b69aeca\")>,\n",
       " <selenium.webdriver.remote.webelement.WebElement (session=\"f3941f80cf204042652f6f8f806edfa0\", element=\"7d87acaf-8f13-4192-9923-c2d8ea5021b7\")>,\n",
       " <selenium.webdriver.remote.webelement.WebElement (session=\"f3941f80cf204042652f6f8f806edfa0\", element=\"1be44d4f-3882-4c95-83ea-4018c12f3ff6\")>,\n",
       " <selenium.webdriver.remote.webelement.WebElement (session=\"f3941f80cf204042652f6f8f806edfa0\", element=\"a623d494-d438-45dc-a91c-a84271905eb1\")>,\n",
       " <selenium.webdriver.remote.webelement.WebElement (session=\"f3941f80cf204042652f6f8f806edfa0\", element=\"e3753f2f-3ae5-4ae1-a6dd-d83b2fe582e2\")>,\n",
       " <selenium.webdriver.remote.webelement.WebElement (session=\"f3941f80cf204042652f6f8f806edfa0\", element=\"111f1441-4b42-4c74-ba36-d0bdc02a2676\")>,\n",
       " <selenium.webdriver.remote.webelement.WebElement (session=\"f3941f80cf204042652f6f8f806edfa0\", element=\"0a349b27-c4ec-49e1-9815-f90a96ddbf64\")>,\n",
       " <selenium.webdriver.remote.webelement.WebElement (session=\"f3941f80cf204042652f6f8f806edfa0\", element=\"056bdf57-ca17-4c7d-9c25-84bb07f9b6c6\")>,\n",
       " <selenium.webdriver.remote.webelement.WebElement (session=\"f3941f80cf204042652f6f8f806edfa0\", element=\"31dba200-1209-456d-8426-7b03534d112b\")>,\n",
       " <selenium.webdriver.remote.webelement.WebElement (session=\"f3941f80cf204042652f6f8f806edfa0\", element=\"0c74b839-2c89-4a93-98db-36c372230f88\")>,\n",
       " <selenium.webdriver.remote.webelement.WebElement (session=\"f3941f80cf204042652f6f8f806edfa0\", element=\"9151e072-ddb0-4fc9-9392-637bedc73640\")>,\n",
       " <selenium.webdriver.remote.webelement.WebElement (session=\"f3941f80cf204042652f6f8f806edfa0\", element=\"104a85d1-800b-435f-809c-3b1b5a83f5b8\")>,\n",
       " <selenium.webdriver.remote.webelement.WebElement (session=\"f3941f80cf204042652f6f8f806edfa0\", element=\"23b6f032-796e-4446-bcef-119389253135\")>]"
      ]
     },
     "execution_count": 122,
     "metadata": {},
     "output_type": "execute_result"
    }
   ],
   "source": [
    "mar_table=driver.find_elements(\"xpath\",'//div[@class=\"dataTables_wrapper no-footer\"]')\n",
    "mar_table"
   ]
  },
  {
   "cell_type": "code",
   "execution_count": 123,
   "id": "0f3105a4",
   "metadata": {},
   "outputs": [
    {
     "data": {
      "text/plain": [
       "45"
      ]
     },
     "execution_count": 123,
     "metadata": {},
     "output_type": "execute_result"
    }
   ],
   "source": [
    "len(mar_table)"
   ]
  },
  {
   "cell_type": "code",
   "execution_count": 124,
   "id": "ed020bfc",
   "metadata": {},
   "outputs": [
    {
     "data": {
      "text/plain": [
       "45"
      ]
     },
     "execution_count": 124,
     "metadata": {},
     "output_type": "execute_result"
    }
   ],
   "source": [
    "Mar_Table=[]\n",
    "\n",
    "for i in mar_table:\n",
    "    Mar_Table.append(i.text)\n",
    "len(Mar_Table)    "
   ]
  },
  {
   "cell_type": "code",
   "execution_count": 125,
   "id": "6662d743",
   "metadata": {},
   "outputs": [
    {
     "data": {
      "text/plain": [
       "[\"Show\\n10\\n25\\n50\\n100\\nentries\\nSearch:\\nSr. No. Date (dd/mm/yyyy) Startup Name Industry / Vertical Sub-Vertical City / Location Investors' Name Investment Type Amount (In USD)\\n1 01/04/2021 BYJU’S Edu-tech Online tutoring Bengaluru Innoven Capital Series F 460,000,000\\n2 05/04/2021 Meesho E-commerce Online reselling platform Bengaluru SoftBank Vision Fund 2 Series E 300,000,000\\n3 14/04/2021 Swiggy Online Food Delivery Online Food Delivery Bengaluru Amansa Holdings, Carmignac, Falcon Edge Capital, Goldman Sachs, Think Investments Series J 343,000,000\\n4 07/04/2021 Groww FinTech Investment platform Bengaluru MC Global Edtech, B Capital, Baron, others Series D 83,000,000\\n5 14/04/2021 Beldara E-commerce Global B2B marketplace Mumbai Hindustan Media Ventures Venture 7,400,000\\nShowing 1 to 5 of 5 entries\\nPreviousNext\",\n",
       " \"Show\\n10\\n25\\n50\\n100\\nentries\\nSearch:\\nSr. No. Date (dd/mm/yyyy) Startup Name Industry / Vertical Sub-Vertical City / Location Investors' Name Investment Type Amount (In USD)\\n1 04/03/2021 DealShare E-commerce Online shopping platform Jaipur, Rajasthan Innoven Capital Debt Financing 250,000,000\\n2 31/03/2021 Uniphore Technology Conversational Service Automation (CSA) Palo Alto Sorenson Capital Partners Series D 140,000,000\\n3 30/03/2021 Dunzo E-commerce Hyper-local delivery app Bengaluru Krishtal Advisors Pte Ltd Series E 8,000,000\\n4 30/03/2021 BYJU’S Edu-tech Online tutoring Bengaluru MC Global Edtech, B Capital, Baron, others Series F 460,000,000\\n5 23/03/2021 SkilloVilla Edu-tech Career and job-oriented upskilling. Bengaluru Titan Capital, others Seed 300,000,000\\n6 25/03/2021 CityMall E-commerce Social ecommerce and online grocery platform Gurgaon Accel Partners Series A 11,000,000\\n7 26/03/2021 DotPe FinTech Commerce and payments platform to offline enterprise businesses. Gurgaon PayU Series A 27,500,000\\nShowing 1 to 7 of 7 entries\\nPreviousNext\",\n",
       " \"Show\\n10\\n25\\n50\\n100\\nentries\\nSearch:\\nSr. No. Date (dd/mm/yyyy) Startup Name Industry / Vertical Sub-Vertical City / Location Investors' Name Investment Type Amount (In USD)\\n1 11/02/2021 Doubtnut Edu Tech E-Learning Platform Gurgaon SIG Global, Sequoia Capital, WaterBridge Ventures and ON Mauritius Series B 2,500,000\\n2 22/02/2021 Zomato Hospitality Online Food Delivery Platform Gurgaon Tiger Global, Kora Venture 250,000,000\\n3 19/02/2021 Fingerlix Hospitality Semi-cooked food delivery app Mumbai Rhodium Trust, Accel Partners and Swiggy Series C 2,747,045.20\\n4 17/02/2021 Zolve FinTech Global Neobank Venture Mumbai Accel Partners and Lightspeed Venture Partners Seed 1,50,00,000\\n5 15/02/2021 KreditBee Finance Digital lending platform Bengaluru Azim Premji’s PremjiInvest and South Korea’s Mirae Asset Venture Series C 75,000,000\\n6 12/02/2021 Pepperfry E-commerce Multi-brand furniture brand Mumbai InnoVen Capital Debt Financing 4,773,958\\n7 12/02/2021 Grofers E-Commerce Online supermarket Gurgaon SoftBank Vision Fund (SVF) Unspecified 55,000,000\\n8 09/02/2021 Nothing Technology Consumer Technology Venture London GV Series A 15,000,000\\n9 09/02/2021 SplashLearn EdTech Game-based learning programme Gurgaon Owl Ventures Series C 18,000,000\\nShowing 1 to 9 of 9 entries\\nPreviousNext\",\n",
       " \"Show\\n10\\n25\\n50\\n100\\nentries\\nSearch:\\nSr. No. Date (dd/mm/yyyy) Startup Name Industry / Vertical Sub-Vertical City / Location Investors' Name Investment Type Amount (In USD)\\n1 15/01/2021 Digit Insurance Financial Services Insurance Services Bengaluru A91 Partners, Faering Capital, TVS Capital Funds Venture 1,80,00,000\\n2 28/01/2021 Bombay Shaving Company Consumer Goods Company Shave care, beard care, and skincare products New Delhi Reckitt Benckiser Venture 6,172,258.50\\n3 19/01/2021 DeHaat AgriTech Startup online marketplace for farm products and services Patna Prosus Ventures Series C 30,000,000\\n4 19/01/2021 Darwinbox SaaS HR Tech Mumbai Salesforce Ventures Seed 15,000,000\\n5 18/01/2021 mfine Health Tech Startup AI-powered telemedicine mobile app Bengaluru Heritas Capital Management Venture Round 16,000,000\\n6 18/01/2021 Udayy EdTech Online learning platform for kids in class 1-5 Gurgaon Sequoia Capital Seed Funding 15,000,000\\n7 11/01/2021 True Elements Food Startup Whole Food plant based Nashta Pune SIDBI Venture Capital Series 100,000,000\\n8 13/01/2021 Saveo B2B E-commerce Pharmacies Bengaluru Matrix Partners India, RTP Global, others Seed 4,000,000\\nShowing 1 to 8 of 8 entries\\nPreviousNext\",\n",
       " \"Show\\n10\\n25\\n50\\n100\\nentries\\nSearch:\\nSr. No. Date (dd/mm/yyyy) Startup Name Industry / Vertical Sub-Vertical City / Location Investors' Name Investment Type Amount (In USD)\\n1 15/12/2020 Bira 91 Food and Beverage Craft Beer New Delhi Nishant Mittal, Pankaj Chaddah and Shikha Sunil Chandak Funding 1,273,634.07\\n2 21/12/2020 Pine Labs Financial Services Payment Solutions Provider Noida Lone Pine Capital Secondary Market Undisclosed\\n3 15/12/2020 Zenoti Technology Provider Cloud-based software provider for the spa and salon industries Washington Advent International Series D 160,000,000\\n4 22/12/2020 Tax Buddy India FinTech Online tax adviser Mumbai Zenith Global Seed 1,000,000\\n5 15/12/2020 Delhivery Supply chain Transportation Gurgaon Steadview Capital Secondary Market 25,000,000\\n6 18/12/2020 PagarBook SaaS Employee management platform Bengaluru Sequoia Capital Series A 15,000,000\\nShowing 1 to 6 of 6 entries\\nPreviousNext\",\n",
       " \"Show\\n10\\n25\\n50\\n100\\nentries\\nSearch:\\nSr. No. Date (dd/mm/yyyy) Startup Name Industry / Vertical Sub-Vertical City / Location Investors' Name Investment Type Amount (In USD)\\n1 30/11/2020 Codingal EduTech Online coding platform Bengaluru Rebright Partners, Java Capital, and GSF Accelerator Seed 560,000\\n2 30/11/2020 CRED Financial Services Credit Card Behavior Services Bengaluru DST Global Series C 80,000,000\\n3 29/11/2020 Bira 91 Food and Beverage Craft Beer New Delhi Sofina, Sequoia Capital, Sixth Sense Ventures, Neoplux Bridge Funding 3,000,000\\n4 27/11/2020 Chumbak Lifestyle Gifting Startup Bengaluru Gaja Capital Fund (GCFII-A) Pre-series E 1,001,047.92\\n5 25/11/2020 Cityflo Transportation App-based bus commute startup Mumbai Lightbox Ventures Series A 7,700,000\\n6 25/11/2020 Shipsy SaaS Software Automation Of Logistics Gurgaon Sequoia Capital India’s Surge, Info Edge Series A 6,003,806\\n7 25/11/2020 Unacademy Edutech Online Learning Platform Bengaluru Tiger Global Management, Dragoneer Investment Group Venture 75,000,000-100,000,000\\n8 24/11/2020 Cashfree FinTech Payments and banking technology Bengaluru Matrix Partners India, SAIF Partners, Ward Ferry Management and Bertelsmann India Series B 35,300,000\\n9 30/11/2020 Credgenics Fintech Critical NPA reduction for Fintech lenders and banks Gurgaon Venture Capital firm, Accel Partners and DMI Finance Pre-Series A 3,500,000\\n10 23/11/2020 Country Delight Dairy Tech Milk delivery startup Gurugram Elevation Capital Series C 25,000,000\\nShowing 1 to 10 of 10 entries\\nPreviousNext\",\n",
       " \"Show\\n10\\n25\\n50\\n100\\nentries\\nSearch:\\nSr. No. Date (dd/mm/yyyy) Startup Name Industry / Vertical Sub-Vertical City / Location Investors' Name Investment Type Amount (In USD)\\n1 28/10/2020 Nykaa E-commerce Beauty, Fashion, Lifestyle, Wellness Mumbai Alia Bhatt Personal Investment NA\\n2 28/10/2020 Betterplace Digital Solutions Blue Collar Workforce Management Platform Bangalore Jungle Ventures Series B 10,000,000\\n3 28/10/2020 FlexiLoans FinTech Digital Lending Platform Mumbai Falguni and Sanjay Nayar Family Office Equity and Debt 20,160,000\\n4 27/10/2020 GetVantage FinTech Revenue-Based Financing Platform Mumbai Chiratae Ventures, Dream Incubators Seed 5,000,000\\n5 27/10/2020 FreshToHome E-commerce Food Delivery Bangalore Corporation of Dubai (ICD), Ascent Capital, DFC, the Allana Group\\nSeries C 121,000,000\\n6 27/10/2020 Origo AgriTech Agricultural Commodities Management Gurgaon Northern Arc Capital Debt 4,700,000\\n7 27/10/2020 Origo Advertising Online Video Editing Mumbai Sequoia Capital India Series A 15,000,000\\n8 15/10/2020 Treebo Hotels Hospitality Budget Hospitality Chain Bangalore Matrix Partners India, SAIF Partners, Ward Ferry Management and Bertelsmann India 6,000,000\\n9 26/10/2020 Hubilo Information Technology Virtual Events Platform Wilmington, Delaware, United States Lightspeed Venture Partners Seed 4,500,000\\n10 28/10/2020 CredAble FinTech Supply Chain Finance Mumbai Oaks Asset Management and V’Ocean Investment Follow-On 4,500,000\\nShowing 1 to 10 of 12 entries\\nPreviousNext\",\n",
       " \"Show\\n10\\n25\\n50\\n100\\nentries\\nSearch:\\nSr. No. Date (dd/mm/yyyy) Startup Name Industry / Vertical Sub-Vertical City / Location Investors' Name Investment Type Amount (In USD)\\n1 08/09/2020 Byju’s EduTech Online Tutoring Bangalore Silver Lake, Tiger Global, General Atlantic and Owl Ventures\\nPrivate Equity 500,000,000\\n2 12/09/2020 mCaffeine Personal Care Skincare & Haircare Mumbai Amicus Capital Private Equity I LLP, Amicus Capital Partners India Fund I and RP-SG Venture Fund 1 Series B 3,000,000\\n3 09/09/2020 Qshala EduTech Online Curiosity Platform for Kids Bangalore Rainmatter Capital Angel 370,000\\n4 02/09/2020 Winzo Online Gaming Online Gaming New Delhi Kalaari Capital Partners, IndigoEdge Management Consultancy Series B 15,500,000\\n5 09/09/2020 Hippo Video Video Customer Experience(CX) Platform Video Customer Experience(CX) Platform Newark, Delaware, United States of Amercia Alpha Wave Incubation, Exfinity Venture Partners and existing backers.\\nSeries A 4,500,000\\n6 07/09/2020 Melorra E-commerce Online Jewelry Store\\nBangalore Shadow Holdings, Lightbox. Debt Financing upto 8,900,000\\n7 07/09/2020 1mg E-commerce Online Pharmacy Gurgaon Gaja Capital, Tata Capital, Partners Group In Progress 100,000,000\\n8 31/08/2020 mfine HealthTech On-Demand Healthcare Services Bangalore Caretech Pte Inc Series B 5,400,000\\n9 31/08/2020 Apna Human Resources Recruitment Platform Bangalore Lightspeed India and Sequoia Capital India Series A 8,000,000\\n10 03/09/2020 Railofy Transportation WL & RAC protection platform Mumbai Chiratae Ventures Seed 950,000\\nShowing 1 to 10 of 11 entries\\nPreviousNext\",\n",
       " \"Show\\n10\\n25\\n50\\n100\\nentries\\nSearch:\\nSr. No. Date (dd/mm/yyyy) Startup Name Industry / Vertical Sub-Vertical City / Location Investors' Name Investment Type Amount (In USD)\\n1 15/08/2020 Practo HealthTech Health care and Wellness Bangalore A1A Company\\nSeries F 32,000,000\\n2 13/08/2020 Medlife E-commerce Online Pharmacy Bangalore Prasid Uno Family Trust and SC Credit Fund 23,000,000\\n3 13/08/2020 HungerBox\\nFoodTech Online Food Delivery Service Bangalore One97, Sabre Partners Trust, Pratithi Investment Trust, and Srihari Kumar Series D1 1,560,000\\n4 04/08/2020 Dunzo Hyper-local Logistics Online Delivery Services Bangalore Existing Backers In Progress 30,000,000\\n5 11/08/2020 Terra.do EduTech Online Climate School, E-learning Stanford, California, Stanford Angels and Entrepreneurs (India), BEENEXT Emerging Asia, Rainmatter Capital\\n\\nSeed 1,400,000\\n6 12/08/2020 Classplus EduTech E-learning, Online Tutoring\\n\\nNoida Falcon Edge In Progress upto 15,000,000\\n7 14/08/2020 Niyo FinTech Financial Services Bangalore Niyo Solutions Inc. 6,000,000\\n8 10/08/2020 ZestMoney FinTech Financial Services Bangalore Primrose Hills Ventures 10,670,000\\n9 07/08/2020 FreshToHome E-commerce Food Delivery Bangalore Ascent Capital Venture 16,200,000\\n10 13/08/2020 Eduvanz FinTech Financial Services Mumbai Sequoia India, Unitus Series A 5,000,000\\nShowing 1 to 10 of 12 entries\\nPreviousNext\",\n",
       " \"Show\\n10\\n25\\n50\\n100\\nentries\\nSearch:\\nSr. No. Date (dd/mm/yyyy) Startup Name Industry / Vertical Sub-Vertical City / Location Investors' Name Investment Type Amount (In USD)\\n1 15/07/2020 Flipkart E-commerce E-commerce Bangalore Walmart Inc\\nM&A 1,200,000,000\\n2 16/07/2020 Vedantu EduTech Online Tutoring Bangalore Coatue Management Series D 100,000,000\\n3 16/07/2020 Crio EduTech Learning Platform for Developers Bangalore 021 Capital pre-Series A 934,160\\n4 14/07/2020 goDutch FinTech Group Payments Mumbai Matrix India,Y Combinator, Global Founders Capital, Soma Capital, and VentureSouq. Seed 1,700,000\\n5 13/07/2020 Mystifly\\nAirfare Marketplace Ticketing, Airline Retailing, and Post-Ticketing Services Singapore and Bangalore Recruit Co. Ltd.\\n\\npre-Series B 3,300,000\\n6 09/07/2020 JetSynthesys Gaming and Entertainment Gaming and Entertainment\\n\\nPune Adar Poonawalla and Kris Gopalakrishnan.\\nVenture-Series Unknown 400,000\\n7 10/07/2020 gigIndia\\nMarketplace Crowd Sourcing, Freelance Pune Incubate Fund India and Beyond Next Ventures pre-Series A 974,200\\n8 15/07/2020 PumPumPum Automotive Rental Used Car-leasing platform Gurgaon Early Adapters Syndicate Seed 292,800\\n9 14/07/2020 FLYX OTT Player Streaming Social Network New York and Delhi Raj Mishra, founder of AIT Global Inc pre-Seed 200,000\\n10 13/07/2020 Open Appliances Pvt. Ltd. Information Technology Internet-of-Things Security Solutions Bangalore Unicorn India Ventures Venture-Series Unknown 500,000\\nShowing 1 to 10 of 10 entries\\nPreviousNext\",\n",
       " \"Show\\n10\\n25\\n50\\n100\\nentries\\nSearch:\\nSr. No. Date (dd/mm/yyyy) Startup Name Industry / Vertical Sub-Vertical City / Location Investors' Name Investment Type Amount (In USD)\\n1 18/06/2020 Drishti Technologies Technology Artificial Intelligence, Video Analytics Mumbai Sozo Ventures\\nSeries B 25,000,000\\n2 17/06/2020 Stellaps AgriTech Farming, Dairy Management Apps Bangalore Stride Ventures\\nDebt Financing NA\\n3 17/06/2020 Peppermint\\nIndustrial Robotics Industrial Robotics Mumbai Venture Catalysts and Naveen Kshatriya Seed NA\\n4 16/06/2020 Jai Kisan Rural FinTech AgriTech, Financial Services Mumbai Arkam Ventures and NABVENTURES Fund I Pre-Series A 3,934,941\\n5 16/06/2020 Biomoneta\\nBioTech HealthTech, Biotechnology Research Bangalore Beyond Next Ventures, ArthaVida Ventures and Dr. Aniruddha Malpani\\nSeed NA\\n6 15/06/2020 Sai Estate Management and Skills Institute EdTech Education\\n\\nMumbai Suniel Shetty\\nAngel NA\\n7 15/06/2020 LetsTransport\\n\\nLogistics Solution Provider Logistics, Transportation, Travel Bangalore Stride Ventures Venture - Series Unknown 1,311,647\\n8 10/06/2020 WayCool Foods AgriTech Food and Beverage Chennai Indusland Bank Series C 5,500,000\\n9 11/06/2020 Myelin Foundry Deep Tech AI Artificial Intelligence Bangalore Kris Gopalakrishnan’s family office — Pratithi.\\nSeed 1,000,000\\n10 10/06/2020 Hapramp Block Chain, Cryptocurrency Block Chain, Cryptocurrency Gurugram Anand Mahindra Seed 1,000,000\\nShowing 1 to 10 of 10 entries\\nPreviousNext\",\n",
       " \"Show\\n10\\n25\\n50\\n100\\nentries\\nSearch:\\nSr. No. Date (dd/mm/yyyy) Startup Name Industry / Vertical Sub-Vertical City / Location Investors' Name Investment Type Amount (In USD)\\n1 21/05/2020 leap.club Professional Network for Women Professional Network for Women Gurugram Whiteboard Capital (Sandeep Tandon’s VC fund), FirstCheque, Artha India Ventures, Sweta Rau (Founder, White Ventures), Amrish Rau (CEO Pinelabs, Founder Citrus Pay), Deepak Abbot (Former SVP, Paytm), and Harpreet Singh Grover (Co-founder, Co-Cubes) and others.\\nPre Seed 340,000\\n2 20/05/2020 Tring Advertising Celebrity Engagement Platform Mumbai Tencent, Ark Impact, KoKalyan Krishnamurthy of Flipkart, Sujeet Kumar of Udaan, Gaurav Munjal of Unacademy, Keshav Sanghi of VentureWorks India, Roman Saini of Unacademy, Hemesh Singh of Unacademy, and Sumit Jain of Opentalk amongst others.\\nAngel NA\\n3 20/05/2020 Khatabook\\nUtility Solutions Provider Financial Services, Accounting, Payments. Bangalore B Capital Group, Sequoia India, Partners of DST Global, Tencent, GGV, RTP Global, Hummingbird Ventures, Falcon Edge Capital, Rocketship.vc, Unilever Ventures, Kevin Weil, Alexander Will, Kunal Shah, Kunal Bahl, and Rohit Bansal\\n\\n\\nSeries B 60,000,000\\n4 19/05/2020 Vakilsearch LegalTech Online professional services platform for lawyers, corporate bodies, and professionals in India. Chennai Udaan co-founder, Sujeet Kumar Series A NA\\n5 19/05/2020 Lendingkart\\nFinTech Financial Services, Lending, Micro Lending. Ahmedabad Fullerton Financial Holdings Pte Ltd (FFH) and Bertelsmann India Investments, Sistema Asia Fund and India Quotient.\\nSeries D 42,000,000\\n6 21/05/2020 No Worry No Tension Healthcare (NWNT) Healthcare Emotional health and mental health wellness\\n\\nNew Delhi Amit Burman, Chairman of Dabur India,\\nPre Series A NA\\n7 05/05/2020 Classplus\\n\\nEduTech e-learning, education solutions. Noida RTP Global, lume Ventures, Sequoia Capital India's Surge, Spiral Ventures, and Strive. Series A 9,000,000\\n8 11/05/2020 Nykaa E-commerce Cosmetic and Beauty Products Mumbai Steadview Capital Series F 8,800,000\\n9 13/05/2020 Magicpin E-commerce E-commerce Gurugram Lightspeed Venture Partners, along with the participation of Moonstone Investments, WaterBridge Venture, The Bunting Family Private Fund, and Srivatsan Rajan\\nSeries C 4,000,000\\n10 18/05/2020 LetsTransport Logistics Solution Provider Logistics, Transportation, Travel Bangalore InnoVen Capital Venture - Series Unknown 1,700,000\\nShowing 1 to 10 of 10 entries\\nPreviousNext\",\n",
       " \"Show\\n10\\n25\\n50\\n100\\nentries\\nSearch:\\nSr. No. Date (dd/mm/yyyy) Startup Name Industry / Vertical Sub-Vertical City / Location Investors' Name Investment Type Amount (In USD)\\n1 09/04/2020 Vedantu EduTech Online Tutoring Bengaluru Legend Capital Series C1 12,560,000\\n2 06/04/2020 Swiggy Online Food Delivery Online Food Delivery Bengaluru Tencent, Ark Impact, Korea Investment Partners, Samsung Ventures, and Mirae Asset Capital Markets\\nSeries 1 43,000,000\\n3 08/04/2020 Zupee\\nGaming Gaming Gurugram Matrix Partners India, Falcon Edge Capital, WestCap Group, Orios Venture Partners and Smile Group\\n\\nSeries A 8,000,000\\n4 07/04/2020 DeHaat AgriTech AgriTech Patna Sequoia Capital India, FMO, Omnivore and AgFunder. Series A 12,000,000\\n5 15/04/2020 BigBasket\\nE-commerce Online Grocery Delivery Bengaluru Alibaba Group Debt Financing 50,000,000\\n6 08/04/2020 Fingerlix Food Delivery Ready-to-Cook Food Mumbai Accel, Zephyr Peacock, Swiggy, and RB Investments\\nSeries C 1,800,000\\n7 31/03/2020 Nykaa\\n\\nE-commerce Cosmetic and Beauty Products Mumbai Steadview Capital Series F 13,000,000\\n8 02/04/2020 Recko Digital Reconcilation and Financial Services AI-powered Reconciliation of Digital Transactions Bengaluru Vertex Ventures Southeast Asia and India and Prime Venture Partners Series A 6,000,000\\nShowing 1 to 8 of 8 entries\\nPreviousNext\",\n",
       " \"Show\\n10\\n25\\n50\\n100\\nentries\\nSearch:\\nSr. No. Date (dd/mm/yyyy) Startup Name Industry / Vertical Sub-Vertical City / Location Investors' Name Investment Type Amount (In USD)\\n1 04/03/2020 Soxytoes E-commerce Socks Noida Angel Networks Angel NA\\n2 02/03/2020 Chqbook.com Finance Financial Services Gurugram Aavishkaar Capital Series A 5,000,000\\n3 06/03/2020 Paperboat\\nE-commerce Beverages and Snacks Bengaluru Advent Management, A91 Emerging Fund, and Trifecta Venture.\\n\\nDebt Financing 4,000,000\\n4 13/03/2020 CollegeKhabri EduTech Education Bhopal Vdiec Global Angel NA\\n5 12/03/2020 FamPay\\nFinance Online Payment Bengaluru Y Combinator, Venture Highway, Sequoia India, and GFC (Global Founders Capital). Seed 4,700,000\\n6 12/03/2020 MultiLiving Real Estate Home Renting and Management Mumbai Lodha Ventures Series A 6,000,000\\n7 12/03/2020 Ola Electric\\nTransport Cab and Bike Taxi Bengaluru Pawan Munjal Family Trust Series B 1,000,000\\n8 12/03/2020 Mera Kisan Food Production Organic Products Pune Ajinkya Rahane Private Equity NA\\nShowing 1 to 8 of 8 entries\\nPreviousNext\",\n",
       " \"Show\\n10\\n25\\n50\\n100\\nentries\\nSearch:\\nSr. No. Date (dd/mm/yyyy) Startup Name Industry / Vertical Sub-Vertical City / Location Investors' Name Investment Type Amount (In USD)\\n1 03/02/2020 1mg E-commerce Medicine Gurugram Bill & Melinda Gates Foundation Venture Series 10,000,000\\n2 03/02/2020 RACEnergy Transportation Electric Vehicle Hyderabad GrowX Ventures Seed NA\\n3 31/01/2020 Adonmo\\nAdvertising Advertising Hyderabad BAce Capital Pre-Series A 3,000,000\\n4 31/01/2020 DoubtNut Education Online Tutoring Gurugram Tencent Holdings Series A 15,000,000\\n5 30/01/2020 MultiplyMyLeads Real Estate Real Estate New Delhi Frontline Strategy Funds and SucSEED Venture Partners. Venture Series NA\\n6 03/02/2020 Embibe EduTech AI based learning Mumbai Reliance Industries Limited (RIL) Venture Series 12,625,020\\n7 10/02/2020 FirstCry\\nE-commerce Baby Products Pune Softbank Vision Fund Series E 296,000,000\\n8 10/02/2020 Pepperfry E-commerce Furniture Mumbai Pidilite Industries Series F 37,000,000\\n9 18/02/2020 MaxWholesale E-commerce B2B platform for groceries New Delhi IAN Fund and Al Falaj Investment Co Series A 3,000,000\\n10 06/02/2020 Dot Information Technology and Services Information Technology and Services Gurgaon PayU and Fosun RZ Capital Seed 8,000,000\\nShowing 1 to 10 of 17 entries\\nPreviousNext\",\n",
       " \"Show\\n10\\n25\\n50\\n100\\nentries\\nSearch:\\nSr. No. Date (dd/mm/yyyy) Startup Name Industry / Vertical Sub-Vertical City / Location Investors' Name Investment Type Amount (In USD)\\n1 09/01/2020 BYJU’S E-Tech E-learning Bengaluru Tiger Global Management Private Equity Round 200,000,000\\n2 13/01/2020 Shuttl Transportation App based shuttle service Gurgaon Susquehanna Growth Equity Series C 8,048,394\\n3 09/01/2020 Mamaearth E-commerce Retailer of baby and toddler products Bengaluru Sequoia Capital India Series B 18,358,860\\n4 02/01/2020 https://www.wealthbucket.in/ FinTech Online Investment New Delhi Vinod Khatumal Pre-series A 3,000,000\\n5 02/01/2020 Fashor Fashion and Apparel Embroiled Clothes For Women Mumbai Sprout Venture Partners Seed Round 1,800,000\\n6 13/01/2020 Pando Logistics Open-market, freight management platform Chennai Chiratae Ventures Series A 9,000,000\\n7 10/01/2020 Zomato Hospitality Online Food Delivery Platform Gurgaon Ant Financial Private Equity Round 150,000,000\\nShowing 1 to 7 of 7 entries\\nPreviousNext\",\n",
       " \"Show\\n10\\n25\\n50\\n100\\nentries\\nSearch:\\nSr. No. Date (dd/mm/yyyy) Startup Name Industry / Vertical Sub-Vertical City / Location Investors' Name Investment Type Amount (In USD)\\n1 12/12/2019 Ecozen Technology Agritech Pune Sathguru Catalyzer Advisors Series A 6,000,000\\n2 06/12/2019 CarDekho E-Commerce Automobile Gurgaon Ping An Global Voyager Fund Series D 70,000,000\\n3 3/12/2019 Dhruva Space Aerospace Satellite Communication Bengaluru Mumbai Angels, Ravikanth Reddy Seed 50,000,000\\n4 13/12/2019 Rivigo Technology Logistics Services and Solutions Gurgaon SAIF Partners, Spring Canter Investment Ltd. Series F 20,000,000\\n5 17/12/2019 Healthians B2B-focused foodtech startup Food Solutions For Corporate Bengaluru Paytm, NPTK, Sabre Partners and Neoplux Series C 12,000,000\\n6 16/12/2019 Licious E-Commerce Online Meat And Seafood Ordering Startup Bengaluru Vertex Growth Fund Series E 30,000,000\\n7 16/12/2019 InCred Finance Non-Banking Financial Company Mumbai Debt Funding 5,900,000\\n8 14/12/2019 Trell Video Experience Discovery Platform Bengaluru Ruizheng Investment Seed Round 2,000,000\\n9 11/12/2019 Rein Games Gaming Real money based gaming startup Noida Manipal Education and Medical Group (MEMG) Seed Round 50,000,000\\n10 20/12/2019 Lenskart.com E-Commerce Online Eyewear Shopping Portal Faridabad SoftBank Vision Fund Series G 231,000,000\\nShowing 1 to 10 of 10 entries\\nPreviousNext\",\n",
       " \"Show\\n10\\n25\\n50\\n100\\nentries\\nSearch:\\nSr. No. Date (dd/mm/yyyy) Startup Name Industry / Vertical Sub-Vertical City / Location Investors' Name Investment Type Amount (In USD)\\n1 13/11/2019 Freshworks Software Business and customer engagement tools San Francisco Sequoia, CapitalG, Accel Series H 15,000,0000\\n2 14/11/2019 Misters Health and wellness Men's Health and Wellness brand Gurgaon Sauce.vc, Rainforest Ventures Series B 486,000\\n3 13/11/2019 Sunstone Eduversity Pvt. Ltd Education Elearning Gurgaon Prime Venture Partners, LetsVenture, PS1 Venture and GlobalLogic co-founder Rajul Garg Seed 1,500,000\\n4 17/11/2019 Burger Singh Food and Beverage Indian Burger Brand Gurgaon RB Investments Venture undisclosed\\n5 18/11/2019 Healthians Health and Wellness Healthcare services Gurgaon DG Daiwa Ventures, DG Incubation Series B 12,000,000\\n6 15/11/2019 Ninjacart B2B Marketing Agritech Bengaluru Trifecta Capital Advisors Debt Funding 26,000,000\\n7 20/11/2019 Aye Finance FinTech Financial Services To MSMEs Gurgaon FinTech Debt Funding 17,411,265\\n8 12/11/2019 SuperGaming Video Games Social gaming platform Pune Dream Incubator Seed Funding 1,300,000\\n9 20/11/2019 Clumio SaaS Recovery software San Jose, Altimeter Capital, Sutter Hill Ventures Series C 135,000,000\\n10 11/11/2019 eBikeGo Last Mile Transportation Electric bike rental Amritsar Startup Buddy Seed 300,000\\nShowing 1 to 10 of 15 entries\\nPreviousNext\",\n",
       " \"Show\\n10\\n25\\n50\\n100\\nentries\\nSearch:\\nSr. No. Date (dd/mm/yyyy) Startup Name Industry / Vertical Sub-Vertical City / Location Investors' Name Investment Type Amount (In USD)\\n1 04/10/2019 Dunzo Customer Service Delivery Service Bengaluru Lightbox Series D 4,50,00,000\\n2 02/10/2019 Udaan B2B Business development Bengaluru Altimeter Capital, DST Global Series D 58,50,00,000\\n3 21/10/2019 The Man Company\\nConsumer Goods Beauty and Grooming Gurgaon Ayushmann Khurana Corporate Round unknown\\nShowing 1 to 3 of 3 entries\\nPreviousNext\",\n",
       " \"Show\\n10\\n25\\n50\\n100\\nentries\\nSearch:\\nSr. No. Date (dd/mm/yyyy) Startup Name Industry / Vertical Sub-Vertical City / Location Investors' Name Investment Type Amount (In USD)  \\n1 05/09/2019 FPL Technologies FinTech Financial Services Pune Matrix Partners India, Sequoia India Maiden Round 4,500,000\\n2 04/09/2019 Cashflo FinTech Invoice discounting platform and SME lending marketplace Mumbai SAIF Partners Series A 3,300,000\\n3 04/09/2019 Digital F5 Advertising, Marketing Digital marketing firm Mumbai TIW Private Equity Private Equity Round 6,000,000\\n4 04/09/2019 3rdFlix SaaS Education Technology Hyderabad Exfinity Venture Partners pre-series A 5,000,000\\n5 04/09/2019 75F IoT Building automation system Burnsville Breakthrough Energy Ventures Series A 18,000,000\\n6 04/09/2019 Myelin Foundry Information Technology Deep-technology Bengaluru Endiya Partners Seed 10,00,000\\n7 04/09/2019 Atomberg Technology Consumer Technology Consumer Electronics, Home Appliances Mumbai A91 Partners Series A 10,000,000\\n8 04/09/2019 GOQii Health and Wellness Wearable Fitness Bands Menlo Park Bennett Coleman and Company Ltd (BCCL) Series C 450,000,000\\n9 03/09/2019 Vyapar App Accounting Mobile-based Accounting Software Bengaluru India Quotient, Axilor Ventures Series A 5,000,000\\nShowing 1 to 10 of 10 entries\\nPreviousNext\",\n",
       " \"Show\\n10\\n25\\n50\\n100\\nentries\\nSearch:\\nSr. No. Date (dd/mm/yyyy) Startup Name Industry / Vertical Sub-Vertical City / Location Investors' Name Investment Type Amount (In USD)\\n1 01/08/2019 CarDekho E-Commerce Automotive Gurgaon SC GG India Mobility Holdings LLC Series C 20,000,000\\n2 01/08/2019 Progcap Finance Supply Chain Management New Delhi Sequoia India Series A 5,000,000\\n3 01/08/2019 MyPetrolPump Retail Fuel Delivery Bengaluru Seed Funding Round 1,600,000\\n4 01/08/2019 Alteria Capital Finance VC Funds Mumbai Azim Premji, Binny Bansal Single Venture 140,000,000\\n5 01/08/2019 Pine Labs Information Technology Last-mile retail transaction technology Noida Pine Labs Pte Ltd Corporate Round 38,080,000\\n6 12/08/2019 Meesho E-Commerce Social Commerce Bengaluru Naspers Series D 125,000,000\\n7 13/08/2019 Cars24 E-Commerce Car Retail Gurugram MS Dhoni Series D 11,000,000\\n8 13/08/2019 Uniphore Customer Service Platform Conversational AI Palo Alto March Capital Partners Series C 51,000,000\\n9 23/08/2019 Zendrive Automotive Road Safety Analytics San Francisco XL Innovate Series B 37,000,000\\n10 23/08/2019 Lo! Foods Consumer Goods Low carb food for Diabetics Bengaluru Rashmi Daga (founder, FreshMenu), Raveen Sastry (co-founder, Myntra) and Mitesh Shah (finance chief, BookMyShow) Seed Round 500,000\\nShowing 1 to 10 of 17 entries\\nPreviousNext\",\n",
       " \"Show\\n10\\n25\\n50\\n100\\nentries\\nSearch:\\nSr. No. Date (dd/mm/yyyy) Startup Name Industry / Vertical Sub-Vertical City / Location Investors' Name Investment Type Amount (In USD)\\n1 02/07/2019 RenewBuy Finance Auto Insurance Gurgaon Lok Capital, IIFL Wealth Series B 19,000,000\\n2 02/07/2019 Atlan Information Technology Big Data Singapore WaterBridge Ventures Pre-Series A 2,500,000\\n3 01/07/2019 WizCounsel Compliance Consulting New Delhi Kapil Dev Angel 145,000\\n4 03/07/2019 Ola Cabs Transport Cabs Kormangala DIG Investment Ab, Deshe Holdings, Samih Toukan and Hussam Khoury Series J 1,000,000\\n5 01/07/2019 Uniphore Artificial Intelligence Speech Recognition Taramani March Capital Partners Series C 38,080,000\\n6 04/07/2019 Daalchini Technologies Food and Beverage Digital Vending Machine New Delhi Artha Venture Seed Round 500,000\\n7 10/07/2019 BYJU'S EdTech Education Bengaluru Qatar Investment Authority Private Equity Round 150,000,000\\n8 11/07/2019 Moglix E-Commerce Industrial Tools and Equipments Singapore Composite Capital Management, Sequoia Capital India, Tiger Global Management Series D 60,000,000\\n9 10/07/2019 Ezyhaul Tech Logistics Singapore Undisclosed Series B 16,000,000\\n10 10/07/2019 Indus OS Tech Smartphone Operating System Andheri Ventureast Series B 5,750,000\\nShowing 1 to 10 of 13 entries\\nPreviousNext\",\n",
       " \"Show\\n10\\n25\\n50\\n100\\nentries\\nSearch:\\nSr. No. Date (dd/mm/yyyy) Startup Name Industry / Vertical Sub-Vertical City / Location Investors' Name Investment Type Amount (In USD)\\n1 05/06/2019 NoBroker E-Commerce Real Estate Bengaluru General Atlantic Series C 5,10,00,000\\n2 04/06/2019 Bira91 Food and Beverage Brewery New Delhi Anicut Capital Debt Funding 1,00,00,000\\n3 03/06/2019 FabHotels E-Commerce Hospitality Gurgaon Goldman Sachs, Accel Partners and Qualcomm 48,89,975.54\\n4 03/06/2019 Avail Finance Finance FinTech Bengaluru Matrix Partners Series A 90,00,000\\n5 04/06/2019 BharatPe Finance FinTech New Delhi Insight Partners Series B 7,50,00,000\\n6 04/06/2019 Recykal Waste Management Service Optimization Hyderabad Triton Investment Advisors, Pidilite Industries director Ajay Parekh pre-Series A 26,000,000\\n7 03/06/2019 Agara Labs Deep-Tech Artificial Intelligence Bengaluru Blume Ventures and RTP Global pre-Series A 25,00,000\\n8 06/06/2019 Sistema.bio Agriculture Hybrid Reactor Biodigestor Nairobi Shell Foundation, DILA CAPITAL, Engie RDE Fund, EcoEnterprise Fund, EDFIMC (ElectriFI), Endeavor Catalyst Fund, CoCapital, Triodos, Alpha Mundi, and Lendahand 27,39,034.68\\n9 06/06/2019 Chakr Innovation Energy Renewable Energy New Delhi IAN Fund Series A 26,000,000\\n10 06/06/2019 Pratilipi Digital Media E-Books Bengaluru Qiming Venture Partners Series B 1,51,09,500.00\\nShowing 1 to 10 of 15 entries\\nPreviousNext\",\n",
       " \"Show\\n10\\n25\\n50\\n100\\nentries\\nSearch:\\nSr. No. Date (dd/mm/yyyy) Startup Name Industry / Vertical Sub-Vertical City / Location Investors' Name Investment Type Amount (In USD)\\n1 06/05/2019 Ola Electric Transport Cabs Bengaluru Tata Sons Series A undisclosed\\n2 06/05/2019 Saahas Zero Waste Waste Management Service Optimization Bengaluru C4D Partners Venture - Series Unknown 868,600\\n3 05/05/2019 StyleDotMe E-commerce Fashion and Shopping Delhi Indian Angel Network and other angel investors, Innov8 founder Ritesh Malik, Josh Talks founders Supriya Paul and Shobha Banga, and former Hero Corporate president Rohit Chanana Bridge Round undisclosed\\n4 01/05/2019 BlackBuck Transport Logistics Bengaluru Goldman Sachs Investment Partners and Silicon Valley-based Accel, Wellington, Sequoia Capital, B Capital, LightStreet, Sands Capital and International Finance Corporation, Series D 150,000,000\\n5 02/05/2019 Zenoti Saas Beauty and Wellness Industry Hyderabad Tiger Global Management Series C 50,000,000\\n6 28/05/2019 Ather Energy Automobile Electric Vehicle Bengaluru Sachin Bansal Series C 5,10,00,000\\n7 28/05/2019 FreshVnF Agtech Fresh Agriculture Produces Mumbai Equanimity Ventures Seed Round 14,00,00,000\\n8 30/05/2019 GlowRoad E-commerce Retail Bengaluru Korea Investment Partners, Vertex Ventures Series B 1,15,00,000\\n9 31/05/2019 Bira91 Food and Beverage Brewery New Delhi Sixth Sense Ventures Series B 56,00,000\\nShowing 1 to 9 of 9 entries\\nPreviousNext\",\n",
       " \"Show\\n10\\n25\\n50\\n100\\nentries\\nSearch:\\nSr. No. Date (dd/mm/yyyy) Startup Name Industry / Vertical Sub-Vertical City / Location Investors' Name Investment Type Amount (In USD)\\n1 16/04/2019 Kuvera Finance Wealth Management Bengaluru Eight Roads Series A 45,000,000\\n2 12/04/2019 Medlife E-commerce Online Medicine Bengaluru Prasid Uno Family Trust Private Equity 17,000,000\\n3 10/04/2019 Kabadiwala E-commerce Waste Management Bhopal Unilever, Beehive Capital Advisor, ABCOM Investments, Parekh Marine Transport, Private Equity 430,665\\n4 13/04/2019 Tripoto Social Media Travel New Delhi Orchid India, Hornbill Orchid India Fund, Chiratae Ventures (formerly IDG Ventures), 3one4 Capital, Lasmer NV Series B 3,591,375\\n5 12/04/2019 Azah Health and Wellness Organic wellness Gurugram Unnamed angel investors Seed Funding 200,000\\n6 11/04/2019 Setu Fintech Banking Bengaluru Lightspeed India Partners Seed Funding 3,500,000\\n7 10/04/2019 Toppr Edtech E-learning Mumbai Milestone Debt and Preference capital 6,320,820\\n8 10/04/2019 Craftsvilla E-commerce Fashion and Apparel Mumbai Supera Pte Ltd Inhouse Funding 2,443,495\\n9 10/04/2019 Unacademy Edtech E-learning Bengaluru Kalyan Krishnamurthy Seed/ Angel Funding 307,000\\n10 11/04/2019 CleverTap SaaS Mobile analytics and marketing Mumbai Sequoia India, Tiger Global Management, Accel Partners Series B 26,000,000\\nShowing 1 to 10 of 14 entries\\nPreviousNext\",\n",
       " \"Show\\n10\\n25\\n50\\n100\\nentries\\nSearch:\\nSr. No. Date (dd/mm/yyyy) Startup Name Industry / Vertical Sub-Vertical City / Location Investors' Name Investment Type Amount (In USD)\\n1 1/02/2019 FleetX AI Logistics Gurgaon India Quotient and LetsVenture’s Angel Fund Pre Series A Undisclosed\\n2 8/02/2019 Zilingo Ecommerce Fashion & Apparel India/Singapore Sequoia Capital and Temasek Holdings, EDBI, Burda Principal Investments, and Sofina Series D 226,000,000\\n3 13/02/2019 NanoClean Global Nanotechnology Anti-Pollution New Delhi LetsVenture, PitchRight Venture, 91SpringBoard, AL Nour International Holdings and Mark V Investments Series A 600,000\\n4 14/02/2018 OyoRooms Hospitality Budget Rooms Gurgaon DiDi Chuxing Equity 100,000,000\\nShowing 1 to 4 of 4 entries\\nPreviousNext\",\n",
       " \"Show\\n10\\n25\\n50\\n100\\nentries\\nSearch:\\nSr. No. Date (dd/mm/yyyy) Startup Name Industry / Vertical Sub-Vertical City / Location Investors' Name Investment Type Amount (In USD)\\n1 03/01/2019 CarDekho Automobile Online Marketplace Jaipur Sequoia India, Hillhouse Capital, Alphabet’s growth investment arm Capital G and Axis Bank Series C 110,000,000\\n2 04/01/2019 Vyome Therapeutics Inc. Health and Wellness Specialty pharmaceutical India/US Iron Pillar, Perceptive Advisors, Romulus Capital and Kalaari Capital Series D 22,000,000\\n3 04/01/2019 Samunnati Financial Intermediation & Services Pvt. Ltd Finance Non-banking financial company Chennai MASSIF, a Dutch government fund Debt-Funding 5,000,000\\n4 04/12/2018 Manch Social Media Hyperlocal Content Delhi Stellaris Venture Partners Seed Funding 700,000\\nShowing 1 to 4 of 4 entries\\nPreviousNext\",\n",
       " \"Show\\n10\\n25\\n50\\n100\\nentries\\nSearch:\\nSr. No. Date (dd/mm/yyyy) Startup Name Industry / Vertical Sub-Vertical City / Location Investors' Name Investment Type Amount (In USD)\\n1 01/12/2018 UrbanClap Technologies Pvt. Ltd Services Platform Home services marketplace New Delhi Steadview Capital and Vy Capital. Series D 50,000,000\\n2 02/12/2018 Guiddoo Travel Tech Platform for travel agents Mumbai Individual Investors Pre-Series A 800,000\\n3 02/12/2018 Career Anna Online Education Video-based certification, trainings Gurugram Individual Investors Pre-Series A 572,000\\n4 04/12/2018 Nagpur Wholesale Online Marketplace eCommerce Nagpur Omphalos Ventures India LLP Seed Funding 143,000\\n5 06/12/2018 ShopKirana B2B eCommerce Indore Info Edge, AET Fund, Akatsuki and Incubate Fund from Japan and Better Capital AngelList syndicate. Seed Funding 2,000,000\\n6 06/12/2018 BuildSupply SaaS, Ecommerce Real Estate, ERP Gurugram Venture Highway, GREE Ventures, Space Matrix, Individual Investors Series A 3,500,000\\nShowing 1 to 6 of 6 entries\\nPreviousNext\",\n",
       " \"Show\\n10\\n25\\n50\\n100\\nentries\\nSearch:\\nSr. No. Date (dd/mm/yyyy) Startup Name Industry / Vertical Sub-Vertical City / Location Investors' Name Investment Type Amount (In USD)\\n1 01/11/2018 GoDesi Food and Beverage Regional Flavours Bengaluru Lead Angels Network Seed/ Angel Funding 1,38,995\\n2 03/11/2018 Veritas Finance Ltd. NBFC MSME Finance Chennai Norwest Venture Partners, CDC Group, the UK’s Development Finance Institution and P Surendra Pai Series D 27,799,000\\n3 06/11/2018 Meesho Ecommerce Social Commerce Bengaluru Shunwei Capital, DST Partners and RPS Ventures Series C 50,000,000\\n4 08/11/2018 Mobile Premier League Gaming Mobile e-Sports Bengaluru Undisclosed Series A 5,00,000\\n5 8/11/2018 A&R Bon Vivants Food Meat Retail Chain Jaipur RB Investments, Singapore Equity 1,000,000\\n6 12/11/2018 Blackbuck Food Tech POS For Online Ordering New York, Bengaluru Tiger Global Series A 1,000,000\\n7 12/11/2018 MilkBAsket Food Micro-delivery grocery service New Delhi Mayfield Fund Series B 1,300,000\\n8 13/11/2018 DriveU Transport On-Demand Drivers Bengaluru Stevens Creek Ventures Mezzanine 1,000,000\\n9 14/11/2018 CleanseCar Services Car Wash Bengaluru Venture Catalysts Seed/ Angel Funding 500,000\\n10 19/11/2018 Automation Anywhere Automation Robotics California SoftBank Vision Fund Series B 300,000,000\\nShowing 1 to 10 of 18 entries\\nPreviousNext\",\n",
       " \"Show\\n10\\n25\\n50\\n100\\nentries\\nSearch:\\nSr. No. Date (dd/mm/yyyy) Startup Name Industry / Vertical Sub-Vertical City / Location Investors' Name Investment Type Amount (In USD)\\n1 01/10/2018 Northmist Fashion Mens Wear Delhi Prashant Jaiswal Seed/ Angel Funding N/A\\n2 02/10/2018 Origo Commodities India Pvt. Ltd Logistics Supply Chain Hyderabad Cooperative Oikocredit, Caspian and Hivos-Triodos Fund Seed/ Angel Funding 11,000,000\\n3 04/10/2018 Grover Zampa Food Wine Mumbai Ravi Viswanathan Private Equity 8,200,000\\n4 05/10/2018 Droom Automobile New and Used Cars Platform Gurgaon ZigExN Series E 30,00,000\\n5 11/10/2018 Innov8 Real Estate Co-Working New Delhi Credence Family Office Pre-Series A 4,000,000\\n6 12/10/2018 Blackbuck Logistics Tech Largest Trucking Platform Bengaluru Sequoia Capital India Private Funding 14,680,000\\n7 12/10/2018 LetsTransport Logistics Tech Book Trucks Online Bengaluru Fosun International Series C 12,000,000\\nShowing 1 to 7 of 7 entries\\nPreviousNext\",\n",
       " \"Show\\n10\\n25\\n50\\n100\\nentries\\nSearch:\\nSr. No. Date (dd/mm/yyyy) Startup Name Industry / Vertical Sub-Vertical City / Location Investors' Name Investment Type Amount (In USD)\\n1 01/09/2018 Netmeds Consumer Internet Online Pharmacy Chain Chennai Sistema Asia Fund, Sistema JSFC and Tanncam Investment Private Equity 35,000,000\\n2 03/09/2018 Udaan B2B Platform Logistics and Shipping Bengaluru DST Global and Lightspeed Venture Partners’ global fund. Private Equity 225,000,000\\n3 03/09/2018 Daily hunt Consumer Internet News and ebooks Mobile App  Bengaluru Falcon Edge Private Equity 63,90,000\\n4 04/09/2018 3HCare Healthcare Healthcare Service Provider Delhi N/A Seed / Angel Funding 1,000,000\\n5 04/09/2018 HappyGoEasy Consumer Internet Online Travel Agecy Gurugram Korea Investment Partners (KIP), Samsung and China-based CITIC Capital and others Private Equity N/A\\n6 05/09/2018 Nykaa Consumer Internet Online Marketplace For Multi-brand Beauty Cosmetic and Wellness Products Mumbai Lighthouse Private Equity 15,72,00,000\\n7 05/09/2018 Mad Street Den Technology Computer Vision And Artificial Intelligence (Ai) Platform Chennai KDDI  Private Equity N/A\\n8 06/09/2018 Dream11 Consumer Internet Online Gaming Platform Mumbai Tencent, Kalaari Capital and Private equity firm Multiples Alternate Asset Management Private Equity 100,000,000\\n9 10/09/2018 MamaEarth Healthcare Online Marketplace For Mother and Babycare Products Gurugram Stellaris Ventures & Others Private Equity 4,000,000\\n10 11/09/2018 AutoGrid Technology AI-Based Energy Optimisation and Control Provider Bengaluru CLP Holdings Group, Innogy, Ørstead, and Tenaska Private Equity 32,000,000\\nShowing 1 to 10 of 14 entries\\nPreviousNext\",\n",
       " \"Show\\n10\\n25\\n50\\n100\\nentries\\nSearch:\\nSr. No. Date (dd/mm/yyyy) Startup Name Industry / Vertical Sub-Vertical City / Location Investors' Name Investment Type Amount (In USD)\\n1 01/08/2018 dishq Food-Tech Personalisation Technology Firm Focusing On The Food And Beverage Industry Bengaluru Farm To Fork, Arts Alliance, The Syndicate Fund, Sven Hensen, Zeroth and Artesian Venture Partners Seed/ Angel Funding 400,000\\n2 01/08/2018 HealthFin Finance Patient Financing Platform Pune Axilor, Sprout Venture Partners and others Seed/ Angel Funding N/A\\n3 02/08/2018 Samosa Labs Consumer Internet Social Media and Chat Entertainment Platform Hyderabad Xiaomi and Sequoia Capital India Private Equity 7,000,000\\n4 03/08/2018 ZiffyHomes Consumer Internet Online Home Rental Marketplace Gurugram Y Combinator Private Equity 120,000\\n5 07/08/2018 My OmNamo Consumer Internet Holy Platform Offering Customised Puja Packages To Individuals and Corporates Mumbai N/A Seed/ Angel Funding 1,000,000\\n6 07/08/2018 ShopX Consumer Internet Assisted E-commerce Platform Bengaluru Fung Strategic Holdings Private Equity 35,000,000\\n7 07/08/2018 MakeMyTrip Consumer Internet Online Travel Aggregator Gurugram MakeMyTrip Limited Private Equity 10,000,000\\n8 08/08/2018 Hansel io Consumer Internet Real-time Mobile App Management Bengaluru Vertex Ventures Seed/ Angel Funding 40,00,000\\n9 08/08/2018 Metro Bikes Consumer Internet Online Bike Rental Marketplace Bengaluru Sequoia Capital India Advisors, Accel Partners and G Raghunandan Private Equity 12,200,000\\n10 08/08/2018 Phone Pe Consumer Internet UPI Payments App Bengaluru Flipkart Private Equity 66,000,000\\nShowing 1 to 10 of 25 entries\\nPreviousNext\",\n",
       " \"Show\\n10\\n25\\n50\\n100\\nentries\\nSearch:\\nSr. No. Date (dd/mm/yyyy) Startup Name Industry / Vertical Sub-Vertical City / Location Investors' Name Investment Type Amount (In USD)\\n1 01/07/2018 Leena AI Technology HR Virtual Agent For Employees Gurugram Y Combinator Seed/ Angel Funding N/A\\n2 02/07/2018 Biryani By Kilo Consumer Internet Online Food Delivery Gurugram Ajay Relan and Vinay Mittal Seed/ Angel Funding 1,000,000\\n3 04/07/2018 Anchanto IT E-commerce Fulfilment Platform Pune MDI Ventures & Telkom Indonesia Private Equity 4,000,000\\n4 05/072018 Loan Tap Consumer Internet Online Lending Platform For Salaried Professionals Mumbai Shunwei Capital, Tuscan Ventures, Ashish Goenka, VC firms India Quotient and Kae Capital Private Equity 62,50,000\\n5 06/07/2018 PolicyBazaar Consumer Internet Online Insurance Selling Platform Gurugram Info Edge (India) Ltd and Temasek Private Equity 2,7700,000\\n6 09/07/2018 zippserv Consumer Internet Online Platform For Risk-Assessment Services For Real Estate Investments Bengaluru Info Edge (India) Ltd Seed/ Angel Funding 440,000\\n7 09/07/2018 Groww Consumer Internet Online Platform That Sells Direct Plans Of Mutual Funds Bengaluru Insignia Ventures Partners, Lightbridge Partners & Kairos Seed/ Angel Funding 1,100,000\\n8 10/07/2018 Avenue Growth Consumer Internet Online Platform That Connects Brands With Freelance Sales Professionals Gurugram Avtar Monga, chief operating office at IDFC Bank, Aditya Malik & Others Seed/ Angel Funding 437,000\\n9 10/07/2018 iNICU Healthcare Med-tech Platform Providing Care For Newborns Delhi Venture Catalysts Seed/ Angel Funding N/A\\n10 10/07/2018 Kinara Capital Finance Lending Platform For Micro and Small Enterprises Bengaluru ResponsAbility Private Equity 5,000,000\\nShowing 1 to 10 of 36 entries\\nPreviousNext\",\n",
       " \"Show\\n10\\n25\\n50\\n100\\nentries\\nSearch:\\nSr. No. Date (dd/mm/yyyy) Startup Name Industry / Vertical Sub-Vertical City / Location Investors' Name Investment Type Amount (In USD)\\n1 01/10/2018 Northmist Fashion Mens Wear Delhi Prashant Jaiswal Seed/ Angel Funding N/A\\n2 02/10/2018 Origo Commodities India Pvt. Ltd Logistics Supply Chain Hyderabad Cooperative Oikocredit, Caspian and Hivos-Triodos Fund Seed/ Angel Funding 11,000,000\\n3 04/10/2018 Grover Zampa Food Wine Mumbai Ravi Viswanathan Private Equity 8,200,000\\n4 05/10/2018 Droom Automobile New and Used Cars Platform Gurgaon ZigExN Series E 30,00,000\\n5 11/10/2018 Innov8 Real Estate Co-Working New Delhi Credence Family Office Pre-Series A 4,000,000\\n6 12/10/2018 Blackbuck Logistics Tech Largest Trucking Platform Bengaluru Sequoia Capital India Private Funding 14,680,000\\n7 12/10/2018 LetsTransport Logistics Tech Book Trucks Online Bengaluru Fosun International Series C 12,000,000\\nShowing 1 to 7 of 7 entries\\nPreviousNext\",\n",
       " \"Show\\n10\\n25\\n50\\n100\\nentries\\nSearch:\\nSr. No. Date (dd/mm/yyyy) Startup Name Industry / Vertical Sub-Vertical City / Location Investors' Name Investment Type Amount (In USD)\\n1 01/09/2018 Netmeds Consumer Internet Online Pharmacy Chain Chennai Sistema Asia Fund, Sistema JSFC and Tanncam Investment Private Equity 35,000,000\\n2 03/09/2018 Udaan B2B Platform Logistics and Shipping Bengaluru DST Global and Lightspeed Venture Partners’ global fund. Private Equity 225,000,000\\n3 03/09/2018 Daily hunt Consumer Internet News and ebooks Mobile App  Bengaluru Falcon Edge Private Equity 63,90,000\\n4 04/09/2018 3HCare Healthcare Healthcare Service Provider Delhi N/A Seed / Angel Funding 1,000,000\\n5 04/09/2018 HappyGoEasy Consumer Internet Online Travel Agecy Gurugram Korea Investment Partners (KIP), Samsung and China-based CITIC Capital and others Private Equity N/A\\n6 05/09/2018 Nykaa Consumer Internet Online Marketplace For Multi-brand Beauty Cosmetic and Wellness Products Mumbai Lighthouse Private Equity 15,72,00,000\\n7 05/09/2018 Mad Street Den Technology Computer Vision And Artificial Intelligence (Ai) Platform Chennai KDDI  Private Equity N/A\\n8 06/09/2018 Dream11 Consumer Internet Online Gaming Platform Mumbai Tencent, Kalaari Capital and Private equity firm Multiples Alternate Asset Management Private Equity 100,000,000\\n9 10/09/2018 MamaEarth Healthcare Online Marketplace For Mother and Babycare Products Gurugram Stellaris Ventures & Others Private Equity 4,000,000\\n10 11/09/2018 AutoGrid Technology AI-Based Energy Optimisation and Control Provider Bengaluru CLP Holdings Group, Innogy, Ørstead, and Tenaska Private Equity 32,000,000\\nShowing 1 to 10 of 14 entries\\nPreviousNext\",\n",
       " \"Show\\n10\\n25\\n50\\n100\\nentries\\nSearch:\\nSr. No. Date (dd/mm/yyyy) Startup Name Industry / Vertical Sub-Vertical City / Location Investors' Name Investment Type Amount (In USD)\\n1 01/08/2018 dishq Food-Tech Personalisation Technology Firm Focusing On The Food And Beverage Industry Bengaluru Farm To Fork, Arts Alliance, The Syndicate Fund, Sven Hensen, Zeroth and Artesian Venture Partners Seed/ Angel Funding 400,000\\n2 01/08/2018 HealthFin Finance Patient Financing Platform Pune Axilor, Sprout Venture Partners and others Seed/ Angel Funding N/A\\n3 02/08/2018 Samosa Labs Consumer Internet Social Media and Chat Entertainment Platform Hyderabad Xiaomi and Sequoia Capital India Private Equity 7,000,000\\n4 03/08/2018 ZiffyHomes Consumer Internet Online Home Rental Marketplace Gurugram Y Combinator Private Equity 120,000\\n5 07/08/2018 My OmNamo Consumer Internet Holy Platform Offering Customised Puja Packages To Individuals and Corporates Mumbai N/A Seed/ Angel Funding 1,000,000\\n6 07/08/2018 ShopX Consumer Internet Assisted E-commerce Platform Bengaluru Fung Strategic Holdings Private Equity 35,000,000\\n7 07/08/2018 MakeMyTrip Consumer Internet Online Travel Aggregator Gurugram MakeMyTrip Limited Private Equity 10,000,000\\n8 08/08/2018 Hansel io Consumer Internet Real-time Mobile App Management Bengaluru Vertex Ventures Seed/ Angel Funding 40,00,000\\n9 08/08/2018 Metro Bikes Consumer Internet Online Bike Rental Marketplace Bengaluru Sequoia Capital India Advisors, Accel Partners and G Raghunandan Private Equity 12,200,000\\n10 08/08/2018 Phone Pe Consumer Internet UPI Payments App Bengaluru Flipkart Private Equity 66,000,000\\nShowing 1 to 10 of 25 entries\\nPreviousNext\",\n",
       " \"Show\\n10\\n25\\n50\\n100\\nentries\\nSearch:\\nSr. No. Date (dd/mm/yyyy) Startup Name Industry / Vertical Sub-Vertical City / Location Investors' Name Investment Type Amount (In USD)\\n1 01/07/2018 Leena AI Technology HR Virtual Agent For Employees Gurugram Y Combinator Seed/ Angel Funding N/A\\n2 02/07/2018 Biryani By Kilo Consumer Internet Online Food Delivery Gurugram Ajay Relan and Vinay Mittal Seed/ Angel Funding 1,000,000\\n3 04/07/2018 Anchanto IT E-commerce Fulfilment Platform Pune MDI Ventures & Telkom Indonesia Private Equity 4,000,000\\n4 05/072018 Loan Tap Consumer Internet Online Lending Platform For Salaried Professionals Mumbai Shunwei Capital, Tuscan Ventures, Ashish Goenka, VC firms India Quotient and Kae Capital Private Equity 62,50,000\\n5 06/07/2018 PolicyBazaar Consumer Internet Online Insurance Selling Platform Gurugram Info Edge (India) Ltd and Temasek Private Equity 2,7700,000\\n6 09/07/2018 zippserv Consumer Internet Online Platform For Risk-Assessment Services For Real Estate Investments Bengaluru Info Edge (India) Ltd Seed/ Angel Funding 440,000\\n7 09/07/2018 Groww Consumer Internet Online Platform That Sells Direct Plans Of Mutual Funds Bengaluru Insignia Ventures Partners, Lightbridge Partners & Kairos Seed/ Angel Funding 1,100,000\\n8 10/07/2018 Avenue Growth Consumer Internet Online Platform That Connects Brands With Freelance Sales Professionals Gurugram Avtar Monga, chief operating office at IDFC Bank, Aditya Malik & Others Seed/ Angel Funding 437,000\\n9 10/07/2018 iNICU Healthcare Med-tech Platform Providing Care For Newborns Delhi Venture Catalysts Seed/ Angel Funding N/A\\n10 10/07/2018 Kinara Capital Finance Lending Platform For Micro and Small Enterprises Bengaluru ResponsAbility Private Equity 5,000,000\\nShowing 1 to 10 of 36 entries\\nPreviousNext\",\n",
       " \"Show\\n10\\n25\\n50\\n100\\nentries\\nSearch:\\nSr. No. Date (dd/mm/yyyy) Startup Name Industry / Vertical Sub-Vertical City / Location Investors' Name Investment Type Amount (In USD)\\n1 01/10/2018 Northmist Fashion Mens Wear Delhi Prashant Jaiswal Seed/ Angel Funding N/A\\n2 02/10/2018 Origo Commodities India Pvt. Ltd Logistics Supply Chain Hyderabad Cooperative Oikocredit, Caspian and Hivos-Triodos Fund Seed/ Angel Funding 11,000,000\\n3 04/10/2018 Grover Zampa Food Wine Mumbai Ravi Viswanathan Private Equity 8,200,000\\n4 05/10/2018 Droom Automobile New and Used Cars Platform Gurgaon ZigExN Series E 30,00,000\\n5 11/10/2018 Innov8 Real Estate Co-Working New Delhi Credence Family Office Pre-Series A 4,000,000\\n6 12/10/2018 Blackbuck Logistics Tech Largest Trucking Platform Bengaluru Sequoia Capital India Private Funding 14,680,000\\n7 12/10/2018 LetsTransport Logistics Tech Book Trucks Online Bengaluru Fosun International Series C 12,000,000\\nShowing 1 to 7 of 7 entries\\nPreviousNext\",\n",
       " \"Show\\n10\\n25\\n50\\n100\\nentries\\nSearch:\\nSr. No. Date (dd/mm/yyyy) Startup Name Industry / Vertical Sub-Vertical City / Location Investors' Name Investment Type Amount (In USD)\\n1 01/09/2018 Netmeds Consumer Internet Online Pharmacy Chain Chennai Sistema Asia Fund, Sistema JSFC and Tanncam Investment Private Equity 35,000,000\\n2 03/09/2018 Udaan B2B Platform Logistics and Shipping Bengaluru DST Global and Lightspeed Venture Partners’ global fund. Private Equity 225,000,000\\n3 03/09/2018 Daily hunt Consumer Internet News and ebooks Mobile App  Bengaluru Falcon Edge Private Equity 63,90,000\\n4 04/09/2018 3HCare Healthcare Healthcare Service Provider Delhi N/A Seed / Angel Funding 1,000,000\\n5 04/09/2018 HappyGoEasy Consumer Internet Online Travel Agecy Gurugram Korea Investment Partners (KIP), Samsung and China-based CITIC Capital and others Private Equity N/A\\n6 05/09/2018 Nykaa Consumer Internet Online Marketplace For Multi-brand Beauty Cosmetic and Wellness Products Mumbai Lighthouse Private Equity 15,72,00,000\\n7 05/09/2018 Mad Street Den Technology Computer Vision And Artificial Intelligence (Ai) Platform Chennai KDDI  Private Equity N/A\\n8 06/09/2018 Dream11 Consumer Internet Online Gaming Platform Mumbai Tencent, Kalaari Capital and Private equity firm Multiples Alternate Asset Management Private Equity 100,000,000\\n9 10/09/2018 MamaEarth Healthcare Online Marketplace For Mother and Babycare Products Gurugram Stellaris Ventures & Others Private Equity 4,000,000\\n10 11/09/2018 AutoGrid Technology AI-Based Energy Optimisation and Control Provider Bengaluru CLP Holdings Group, Innogy, Ørstead, and Tenaska Private Equity 32,000,000\\nShowing 1 to 10 of 14 entries\\nPreviousNext\",\n",
       " \"Show\\n10\\n25\\n50\\n100\\nentries\\nSearch:\\nSr. No. Date (dd/mm/yyyy) Startup Name Industry / Vertical Sub-Vertical City / Location Investors' Name Investment Type Amount (In USD)\\n1 01/08/2018 dishq Food-Tech Personalisation Technology Firm Focusing On The Food And Beverage Industry Bengaluru Farm To Fork, Arts Alliance, The Syndicate Fund, Sven Hensen, Zeroth and Artesian Venture Partners Seed/ Angel Funding 400,000\\n2 01/08/2018 HealthFin Finance Patient Financing Platform Pune Axilor, Sprout Venture Partners and others Seed/ Angel Funding N/A\\n3 02/08/2018 Samosa Labs Consumer Internet Social Media and Chat Entertainment Platform Hyderabad Xiaomi and Sequoia Capital India Private Equity 7,000,000\\n4 03/08/2018 ZiffyHomes Consumer Internet Online Home Rental Marketplace Gurugram Y Combinator Private Equity 120,000\\n5 07/08/2018 My OmNamo Consumer Internet Holy Platform Offering Customised Puja Packages To Individuals and Corporates Mumbai N/A Seed/ Angel Funding 1,000,000\\n6 07/08/2018 ShopX Consumer Internet Assisted E-commerce Platform Bengaluru Fung Strategic Holdings Private Equity 35,000,000\\n7 07/08/2018 MakeMyTrip Consumer Internet Online Travel Aggregator Gurugram MakeMyTrip Limited Private Equity 10,000,000\\n8 08/08/2018 Hansel io Consumer Internet Real-time Mobile App Management Bengaluru Vertex Ventures Seed/ Angel Funding 40,00,000\\n9 08/08/2018 Metro Bikes Consumer Internet Online Bike Rental Marketplace Bengaluru Sequoia Capital India Advisors, Accel Partners and G Raghunandan Private Equity 12,200,000\\n10 08/08/2018 Phone Pe Consumer Internet UPI Payments App Bengaluru Flipkart Private Equity 66,000,000\\nShowing 1 to 10 of 25 entries\\nPreviousNext\",\n",
       " \"Show\\n10\\n25\\n50\\n100\\nentries\\nSearch:\\nSr. No. Date (dd/mm/yyyy) Startup Name Industry / Vertical Sub-Vertical City / Location Investors' Name Investment Type Amount (In USD)\\n1 01/07/2018 Leena AI Technology HR Virtual Agent For Employees Gurugram Y Combinator Seed/ Angel Funding N/A\\n2 02/07/2018 Biryani By Kilo Consumer Internet Online Food Delivery Gurugram Ajay Relan and Vinay Mittal Seed/ Angel Funding 1,000,000\\n3 04/07/2018 Anchanto IT E-commerce Fulfilment Platform Pune MDI Ventures & Telkom Indonesia Private Equity 4,000,000\\n4 05/072018 Loan Tap Consumer Internet Online Lending Platform For Salaried Professionals Mumbai Shunwei Capital, Tuscan Ventures, Ashish Goenka, VC firms India Quotient and Kae Capital Private Equity 62,50,000\\n5 06/07/2018 PolicyBazaar Consumer Internet Online Insurance Selling Platform Gurugram Info Edge (India) Ltd and Temasek Private Equity 2,7700,000\\n6 09/07/2018 zippserv Consumer Internet Online Platform For Risk-Assessment Services For Real Estate Investments Bengaluru Info Edge (India) Ltd Seed/ Angel Funding 440,000\\n7 09/07/2018 Groww Consumer Internet Online Platform That Sells Direct Plans Of Mutual Funds Bengaluru Insignia Ventures Partners, Lightbridge Partners & Kairos Seed/ Angel Funding 1,100,000\\n8 10/07/2018 Avenue Growth Consumer Internet Online Platform That Connects Brands With Freelance Sales Professionals Gurugram Avtar Monga, chief operating office at IDFC Bank, Aditya Malik & Others Seed/ Angel Funding 437,000\\n9 10/07/2018 iNICU Healthcare Med-tech Platform Providing Care For Newborns Delhi Venture Catalysts Seed/ Angel Funding N/A\\n10 10/07/2018 Kinara Capital Finance Lending Platform For Micro and Small Enterprises Bengaluru ResponsAbility Private Equity 5,000,000\\nShowing 1 to 10 of 36 entries\\nPreviousNext\",\n",
       " \"Show\\n10\\n25\\n50\\n100\\nentries\\nSearch:\\nSr. No. Date (dd/mm/yyyy) Startup Name Industry / Vertical Sub-Vertical City / Location Investors' Name Investment Type Amount (In USD)\\n1 01/10/2018 Northmist Fashion Mens Wear Delhi Prashant Jaiswal Seed/ Angel Funding N/A\\n2 02/10/2018 Origo Commodities India Pvt. Ltd Logistics Supply Chain Hyderabad Cooperative Oikocredit, Caspian and Hivos-Triodos Fund Seed/ Angel Funding 11,000,000\\n3 04/10/2018 Grover Zampa Food Wine Mumbai Ravi Viswanathan Private Equity 8,200,000\\n4 05/10/2018 Droom Automobile New and Used Cars Platform Gurgaon ZigExN Series E 30,00,000\\n5 11/10/2018 Innov8 Real Estate Co-Working New Delhi Credence Family Office Pre-Series A 4,000,000\\n6 12/10/2018 Blackbuck Logistics Tech Largest Trucking Platform Bengaluru Sequoia Capital India Private Funding 14,680,000\\n7 12/10/2018 LetsTransport Logistics Tech Book Trucks Online Bengaluru Fosun International Series C 12,000,000\\nShowing 1 to 7 of 7 entries\\nPreviousNext\",\n",
       " \"Show\\n10\\n25\\n50\\n100\\nentries\\nSearch:\\nSr. No. Date (dd/mm/yyyy) Startup Name Industry / Vertical Sub-Vertical City / Location Investors' Name Investment Type Amount (In USD)\\n1 01/09/2018 Netmeds Consumer Internet Online Pharmacy Chain Chennai Sistema Asia Fund, Sistema JSFC and Tanncam Investment Private Equity 35,000,000\\n2 03/09/2018 Udaan B2B Platform Logistics and Shipping Bengaluru DST Global and Lightspeed Venture Partners’ global fund. Private Equity 225,000,000\\n3 03/09/2018 Daily hunt Consumer Internet News and ebooks Mobile App  Bengaluru Falcon Edge Private Equity 63,90,000\\n4 04/09/2018 3HCare Healthcare Healthcare Service Provider Delhi N/A Seed / Angel Funding 1,000,000\\n5 04/09/2018 HappyGoEasy Consumer Internet Online Travel Agecy Gurugram Korea Investment Partners (KIP), Samsung and China-based CITIC Capital and others Private Equity N/A\\n6 05/09/2018 Nykaa Consumer Internet Online Marketplace For Multi-brand Beauty Cosmetic and Wellness Products Mumbai Lighthouse Private Equity 15,72,00,000\\n7 05/09/2018 Mad Street Den Technology Computer Vision And Artificial Intelligence (Ai) Platform Chennai KDDI  Private Equity N/A\\n8 06/09/2018 Dream11 Consumer Internet Online Gaming Platform Mumbai Tencent, Kalaari Capital and Private equity firm Multiples Alternate Asset Management Private Equity 100,000,000\\n9 10/09/2018 MamaEarth Healthcare Online Marketplace For Mother and Babycare Products Gurugram Stellaris Ventures & Others Private Equity 4,000,000\\n10 11/09/2018 AutoGrid Technology AI-Based Energy Optimisation and Control Provider Bengaluru CLP Holdings Group, Innogy, Ørstead, and Tenaska Private Equity 32,000,000\\nShowing 1 to 10 of 14 entries\\nPreviousNext\",\n",
       " \"Show\\n10\\n25\\n50\\n100\\nentries\\nSearch:\\nSr. No. Date (dd/mm/yyyy) Startup Name Industry / Vertical Sub-Vertical City / Location Investors' Name Investment Type Amount (In USD)\\n1 01/08/2018 dishq Food-Tech Personalisation Technology Firm Focusing On The Food And Beverage Industry Bengaluru Farm To Fork, Arts Alliance, The Syndicate Fund, Sven Hensen, Zeroth and Artesian Venture Partners Seed/ Angel Funding 400,000\\n2 01/08/2018 HealthFin Finance Patient Financing Platform Pune Axilor, Sprout Venture Partners and others Seed/ Angel Funding N/A\\n3 02/08/2018 Samosa Labs Consumer Internet Social Media and Chat Entertainment Platform Hyderabad Xiaomi and Sequoia Capital India Private Equity 7,000,000\\n4 03/08/2018 ZiffyHomes Consumer Internet Online Home Rental Marketplace Gurugram Y Combinator Private Equity 120,000\\n5 07/08/2018 My OmNamo Consumer Internet Holy Platform Offering Customised Puja Packages To Individuals and Corporates Mumbai N/A Seed/ Angel Funding 1,000,000\\n6 07/08/2018 ShopX Consumer Internet Assisted E-commerce Platform Bengaluru Fung Strategic Holdings Private Equity 35,000,000\\n7 07/08/2018 MakeMyTrip Consumer Internet Online Travel Aggregator Gurugram MakeMyTrip Limited Private Equity 10,000,000\\n8 08/08/2018 Hansel io Consumer Internet Real-time Mobile App Management Bengaluru Vertex Ventures Seed/ Angel Funding 40,00,000\\n9 08/08/2018 Metro Bikes Consumer Internet Online Bike Rental Marketplace Bengaluru Sequoia Capital India Advisors, Accel Partners and G Raghunandan Private Equity 12,200,000\\n10 08/08/2018 Phone Pe Consumer Internet UPI Payments App Bengaluru Flipkart Private Equity 66,000,000\\nShowing 1 to 10 of 25 entries\\nPreviousNext\",\n",
       " \"Show\\n10\\n25\\n50\\n100\\nentries\\nSearch:\\nSr. No. Date (dd/mm/yyyy) Startup Name Industry / Vertical Sub-Vertical City / Location Investors' Name Investment Type Amount (In USD)\\n1 01/07/2018 Leena AI Technology HR Virtual Agent For Employees Gurugram Y Combinator Seed/ Angel Funding N/A\\n2 02/07/2018 Biryani By Kilo Consumer Internet Online Food Delivery Gurugram Ajay Relan and Vinay Mittal Seed/ Angel Funding 1,000,000\\n3 04/07/2018 Anchanto IT E-commerce Fulfilment Platform Pune MDI Ventures & Telkom Indonesia Private Equity 4,000,000\\n4 05/072018 Loan Tap Consumer Internet Online Lending Platform For Salaried Professionals Mumbai Shunwei Capital, Tuscan Ventures, Ashish Goenka, VC firms India Quotient and Kae Capital Private Equity 62,50,000\\n5 06/07/2018 PolicyBazaar Consumer Internet Online Insurance Selling Platform Gurugram Info Edge (India) Ltd and Temasek Private Equity 2,7700,000\\n6 09/07/2018 zippserv Consumer Internet Online Platform For Risk-Assessment Services For Real Estate Investments Bengaluru Info Edge (India) Ltd Seed/ Angel Funding 440,000\\n7 09/07/2018 Groww Consumer Internet Online Platform That Sells Direct Plans Of Mutual Funds Bengaluru Insignia Ventures Partners, Lightbridge Partners & Kairos Seed/ Angel Funding 1,100,000\\n8 10/07/2018 Avenue Growth Consumer Internet Online Platform That Connects Brands With Freelance Sales Professionals Gurugram Avtar Monga, chief operating office at IDFC Bank, Aditya Malik & Others Seed/ Angel Funding 437,000\\n9 10/07/2018 iNICU Healthcare Med-tech Platform Providing Care For Newborns Delhi Venture Catalysts Seed/ Angel Funding N/A\\n10 10/07/2018 Kinara Capital Finance Lending Platform For Micro and Small Enterprises Bengaluru ResponsAbility Private Equity 5,000,000\\nShowing 1 to 10 of 36 entries\\nPreviousNext\"]"
      ]
     },
     "execution_count": 125,
     "metadata": {},
     "output_type": "execute_result"
    }
   ],
   "source": [
    "Mar_Table"
   ]
  },
  {
   "cell_type": "code",
   "execution_count": 126,
   "id": "4eebc8cc",
   "metadata": {},
   "outputs": [
    {
     "data": {
      "text/plain": [
       "(45, 45, 45)"
      ]
     },
     "execution_count": 126,
     "metadata": {},
     "output_type": "execute_result"
    }
   ],
   "source": [
    "len(Jan_Table),len(Feb_Table),len(Mar_Table)"
   ]
  },
  {
   "cell_type": "code",
   "execution_count": 127,
   "id": "dbec4260",
   "metadata": {},
   "outputs": [
    {
     "data": {
      "text/html": [
       "<div>\n",
       "<style scoped>\n",
       "    .dataframe tbody tr th:only-of-type {\n",
       "        vertical-align: middle;\n",
       "    }\n",
       "\n",
       "    .dataframe tbody tr th {\n",
       "        vertical-align: top;\n",
       "    }\n",
       "\n",
       "    .dataframe thead th {\n",
       "        text-align: right;\n",
       "    }\n",
       "</style>\n",
       "<table border=\"1\" class=\"dataframe\">\n",
       "  <thead>\n",
       "    <tr style=\"text-align: right;\">\n",
       "      <th></th>\n",
       "      <th>January 2021</th>\n",
       "      <th>February 2021</th>\n",
       "      <th>March 2021</th>\n",
       "    </tr>\n",
       "  </thead>\n",
       "  <tbody>\n",
       "    <tr>\n",
       "      <th>0</th>\n",
       "      <td>Show\\n10\\n25\\n50\\n100\\nentries\\nSearch:\\nSr. N...</td>\n",
       "      <td>Show\\n10\\n25\\n50\\n100\\nentries\\nSearch:\\nSr. N...</td>\n",
       "      <td>Show\\n10\\n25\\n50\\n100\\nentries\\nSearch:\\nSr. N...</td>\n",
       "    </tr>\n",
       "    <tr>\n",
       "      <th>1</th>\n",
       "      <td>Show\\n10\\n25\\n50\\n100\\nentries\\nSearch:\\nSr. N...</td>\n",
       "      <td>Show\\n10\\n25\\n50\\n100\\nentries\\nSearch:\\nSr. N...</td>\n",
       "      <td>Show\\n10\\n25\\n50\\n100\\nentries\\nSearch:\\nSr. N...</td>\n",
       "    </tr>\n",
       "    <tr>\n",
       "      <th>2</th>\n",
       "      <td>Show\\n10\\n25\\n50\\n100\\nentries\\nSearch:\\nSr. N...</td>\n",
       "      <td>Show\\n10\\n25\\n50\\n100\\nentries\\nSearch:\\nSr. N...</td>\n",
       "      <td>Show\\n10\\n25\\n50\\n100\\nentries\\nSearch:\\nSr. N...</td>\n",
       "    </tr>\n",
       "    <tr>\n",
       "      <th>3</th>\n",
       "      <td>Show\\n10\\n25\\n50\\n100\\nentries\\nSearch:\\nSr. N...</td>\n",
       "      <td>Show\\n10\\n25\\n50\\n100\\nentries\\nSearch:\\nSr. N...</td>\n",
       "      <td>Show\\n10\\n25\\n50\\n100\\nentries\\nSearch:\\nSr. N...</td>\n",
       "    </tr>\n",
       "    <tr>\n",
       "      <th>4</th>\n",
       "      <td>Show\\n10\\n25\\n50\\n100\\nentries\\nSearch:\\nSr. N...</td>\n",
       "      <td>Show\\n10\\n25\\n50\\n100\\nentries\\nSearch:\\nSr. N...</td>\n",
       "      <td>Show\\n10\\n25\\n50\\n100\\nentries\\nSearch:\\nSr. N...</td>\n",
       "    </tr>\n",
       "    <tr>\n",
       "      <th>5</th>\n",
       "      <td>Show\\n10\\n25\\n50\\n100\\nentries\\nSearch:\\nSr. N...</td>\n",
       "      <td>Show\\n10\\n25\\n50\\n100\\nentries\\nSearch:\\nSr. N...</td>\n",
       "      <td>Show\\n10\\n25\\n50\\n100\\nentries\\nSearch:\\nSr. N...</td>\n",
       "    </tr>\n",
       "    <tr>\n",
       "      <th>6</th>\n",
       "      <td>Show\\n10\\n25\\n50\\n100\\nentries\\nSearch:\\nSr. N...</td>\n",
       "      <td>Show\\n10\\n25\\n50\\n100\\nentries\\nSearch:\\nSr. N...</td>\n",
       "      <td>Show\\n10\\n25\\n50\\n100\\nentries\\nSearch:\\nSr. N...</td>\n",
       "    </tr>\n",
       "    <tr>\n",
       "      <th>7</th>\n",
       "      <td>Show\\n10\\n25\\n50\\n100\\nentries\\nSearch:\\nSr. N...</td>\n",
       "      <td>Show\\n10\\n25\\n50\\n100\\nentries\\nSearch:\\nSr. N...</td>\n",
       "      <td>Show\\n10\\n25\\n50\\n100\\nentries\\nSearch:\\nSr. N...</td>\n",
       "    </tr>\n",
       "    <tr>\n",
       "      <th>8</th>\n",
       "      <td>Show\\n10\\n25\\n50\\n100\\nentries\\nSearch:\\nSr. N...</td>\n",
       "      <td>Show\\n10\\n25\\n50\\n100\\nentries\\nSearch:\\nSr. N...</td>\n",
       "      <td>Show\\n10\\n25\\n50\\n100\\nentries\\nSearch:\\nSr. N...</td>\n",
       "    </tr>\n",
       "    <tr>\n",
       "      <th>9</th>\n",
       "      <td>Show\\n10\\n25\\n50\\n100\\nentries\\nSearch:\\nSr. N...</td>\n",
       "      <td>Show\\n10\\n25\\n50\\n100\\nentries\\nSearch:\\nSr. N...</td>\n",
       "      <td>Show\\n10\\n25\\n50\\n100\\nentries\\nSearch:\\nSr. N...</td>\n",
       "    </tr>\n",
       "    <tr>\n",
       "      <th>10</th>\n",
       "      <td>Show\\n10\\n25\\n50\\n100\\nentries\\nSearch:\\nSr. N...</td>\n",
       "      <td>Show\\n10\\n25\\n50\\n100\\nentries\\nSearch:\\nSr. N...</td>\n",
       "      <td>Show\\n10\\n25\\n50\\n100\\nentries\\nSearch:\\nSr. N...</td>\n",
       "    </tr>\n",
       "    <tr>\n",
       "      <th>11</th>\n",
       "      <td>Show\\n10\\n25\\n50\\n100\\nentries\\nSearch:\\nSr. N...</td>\n",
       "      <td>Show\\n10\\n25\\n50\\n100\\nentries\\nSearch:\\nSr. N...</td>\n",
       "      <td>Show\\n10\\n25\\n50\\n100\\nentries\\nSearch:\\nSr. N...</td>\n",
       "    </tr>\n",
       "    <tr>\n",
       "      <th>12</th>\n",
       "      <td>Show\\n10\\n25\\n50\\n100\\nentries\\nSearch:\\nSr. N...</td>\n",
       "      <td>Show\\n10\\n25\\n50\\n100\\nentries\\nSearch:\\nSr. N...</td>\n",
       "      <td>Show\\n10\\n25\\n50\\n100\\nentries\\nSearch:\\nSr. N...</td>\n",
       "    </tr>\n",
       "    <tr>\n",
       "      <th>13</th>\n",
       "      <td>Show\\n10\\n25\\n50\\n100\\nentries\\nSearch:\\nSr. N...</td>\n",
       "      <td>Show\\n10\\n25\\n50\\n100\\nentries\\nSearch:\\nSr. N...</td>\n",
       "      <td>Show\\n10\\n25\\n50\\n100\\nentries\\nSearch:\\nSr. N...</td>\n",
       "    </tr>\n",
       "    <tr>\n",
       "      <th>14</th>\n",
       "      <td>Show\\n10\\n25\\n50\\n100\\nentries\\nSearch:\\nSr. N...</td>\n",
       "      <td>Show\\n10\\n25\\n50\\n100\\nentries\\nSearch:\\nSr. N...</td>\n",
       "      <td>Show\\n10\\n25\\n50\\n100\\nentries\\nSearch:\\nSr. N...</td>\n",
       "    </tr>\n",
       "    <tr>\n",
       "      <th>15</th>\n",
       "      <td>Show\\n10\\n25\\n50\\n100\\nentries\\nSearch:\\nSr. N...</td>\n",
       "      <td>Show\\n10\\n25\\n50\\n100\\nentries\\nSearch:\\nSr. N...</td>\n",
       "      <td>Show\\n10\\n25\\n50\\n100\\nentries\\nSearch:\\nSr. N...</td>\n",
       "    </tr>\n",
       "    <tr>\n",
       "      <th>16</th>\n",
       "      <td>Show\\n10\\n25\\n50\\n100\\nentries\\nSearch:\\nSr. N...</td>\n",
       "      <td>Show\\n10\\n25\\n50\\n100\\nentries\\nSearch:\\nSr. N...</td>\n",
       "      <td>Show\\n10\\n25\\n50\\n100\\nentries\\nSearch:\\nSr. N...</td>\n",
       "    </tr>\n",
       "    <tr>\n",
       "      <th>17</th>\n",
       "      <td>Show\\n10\\n25\\n50\\n100\\nentries\\nSearch:\\nSr. N...</td>\n",
       "      <td>Show\\n10\\n25\\n50\\n100\\nentries\\nSearch:\\nSr. N...</td>\n",
       "      <td>Show\\n10\\n25\\n50\\n100\\nentries\\nSearch:\\nSr. N...</td>\n",
       "    </tr>\n",
       "    <tr>\n",
       "      <th>18</th>\n",
       "      <td>Show\\n10\\n25\\n50\\n100\\nentries\\nSearch:\\nSr. N...</td>\n",
       "      <td>Show\\n10\\n25\\n50\\n100\\nentries\\nSearch:\\nSr. N...</td>\n",
       "      <td>Show\\n10\\n25\\n50\\n100\\nentries\\nSearch:\\nSr. N...</td>\n",
       "    </tr>\n",
       "    <tr>\n",
       "      <th>19</th>\n",
       "      <td>Show\\n10\\n25\\n50\\n100\\nentries\\nSearch:\\nSr. N...</td>\n",
       "      <td>Show\\n10\\n25\\n50\\n100\\nentries\\nSearch:\\nSr. N...</td>\n",
       "      <td>Show\\n10\\n25\\n50\\n100\\nentries\\nSearch:\\nSr. N...</td>\n",
       "    </tr>\n",
       "    <tr>\n",
       "      <th>20</th>\n",
       "      <td>Show\\n10\\n25\\n50\\n100\\nentries\\nSearch:\\nSr. N...</td>\n",
       "      <td>Show\\n10\\n25\\n50\\n100\\nentries\\nSearch:\\nSr. N...</td>\n",
       "      <td>Show\\n10\\n25\\n50\\n100\\nentries\\nSearch:\\nSr. N...</td>\n",
       "    </tr>\n",
       "    <tr>\n",
       "      <th>21</th>\n",
       "      <td>Show\\n10\\n25\\n50\\n100\\nentries\\nSearch:\\nSr. N...</td>\n",
       "      <td>Show\\n10\\n25\\n50\\n100\\nentries\\nSearch:\\nSr. N...</td>\n",
       "      <td>Show\\n10\\n25\\n50\\n100\\nentries\\nSearch:\\nSr. N...</td>\n",
       "    </tr>\n",
       "    <tr>\n",
       "      <th>22</th>\n",
       "      <td>Show\\n10\\n25\\n50\\n100\\nentries\\nSearch:\\nSr. N...</td>\n",
       "      <td>Show\\n10\\n25\\n50\\n100\\nentries\\nSearch:\\nSr. N...</td>\n",
       "      <td>Show\\n10\\n25\\n50\\n100\\nentries\\nSearch:\\nSr. N...</td>\n",
       "    </tr>\n",
       "    <tr>\n",
       "      <th>23</th>\n",
       "      <td>Show\\n10\\n25\\n50\\n100\\nentries\\nSearch:\\nSr. N...</td>\n",
       "      <td>Show\\n10\\n25\\n50\\n100\\nentries\\nSearch:\\nSr. N...</td>\n",
       "      <td>Show\\n10\\n25\\n50\\n100\\nentries\\nSearch:\\nSr. N...</td>\n",
       "    </tr>\n",
       "    <tr>\n",
       "      <th>24</th>\n",
       "      <td>Show\\n10\\n25\\n50\\n100\\nentries\\nSearch:\\nSr. N...</td>\n",
       "      <td>Show\\n10\\n25\\n50\\n100\\nentries\\nSearch:\\nSr. N...</td>\n",
       "      <td>Show\\n10\\n25\\n50\\n100\\nentries\\nSearch:\\nSr. N...</td>\n",
       "    </tr>\n",
       "    <tr>\n",
       "      <th>25</th>\n",
       "      <td>Show\\n10\\n25\\n50\\n100\\nentries\\nSearch:\\nSr. N...</td>\n",
       "      <td>Show\\n10\\n25\\n50\\n100\\nentries\\nSearch:\\nSr. N...</td>\n",
       "      <td>Show\\n10\\n25\\n50\\n100\\nentries\\nSearch:\\nSr. N...</td>\n",
       "    </tr>\n",
       "    <tr>\n",
       "      <th>26</th>\n",
       "      <td>Show\\n10\\n25\\n50\\n100\\nentries\\nSearch:\\nSr. N...</td>\n",
       "      <td>Show\\n10\\n25\\n50\\n100\\nentries\\nSearch:\\nSr. N...</td>\n",
       "      <td>Show\\n10\\n25\\n50\\n100\\nentries\\nSearch:\\nSr. N...</td>\n",
       "    </tr>\n",
       "    <tr>\n",
       "      <th>27</th>\n",
       "      <td>Show\\n10\\n25\\n50\\n100\\nentries\\nSearch:\\nSr. N...</td>\n",
       "      <td>Show\\n10\\n25\\n50\\n100\\nentries\\nSearch:\\nSr. N...</td>\n",
       "      <td>Show\\n10\\n25\\n50\\n100\\nentries\\nSearch:\\nSr. N...</td>\n",
       "    </tr>\n",
       "    <tr>\n",
       "      <th>28</th>\n",
       "      <td>Show\\n10\\n25\\n50\\n100\\nentries\\nSearch:\\nSr. N...</td>\n",
       "      <td>Show\\n10\\n25\\n50\\n100\\nentries\\nSearch:\\nSr. N...</td>\n",
       "      <td>Show\\n10\\n25\\n50\\n100\\nentries\\nSearch:\\nSr. N...</td>\n",
       "    </tr>\n",
       "    <tr>\n",
       "      <th>29</th>\n",
       "      <td>Show\\n10\\n25\\n50\\n100\\nentries\\nSearch:\\nSr. N...</td>\n",
       "      <td>Show\\n10\\n25\\n50\\n100\\nentries\\nSearch:\\nSr. N...</td>\n",
       "      <td>Show\\n10\\n25\\n50\\n100\\nentries\\nSearch:\\nSr. N...</td>\n",
       "    </tr>\n",
       "    <tr>\n",
       "      <th>30</th>\n",
       "      <td>Show\\n10\\n25\\n50\\n100\\nentries\\nSearch:\\nSr. N...</td>\n",
       "      <td>Show\\n10\\n25\\n50\\n100\\nentries\\nSearch:\\nSr. N...</td>\n",
       "      <td>Show\\n10\\n25\\n50\\n100\\nentries\\nSearch:\\nSr. N...</td>\n",
       "    </tr>\n",
       "    <tr>\n",
       "      <th>31</th>\n",
       "      <td>Show\\n10\\n25\\n50\\n100\\nentries\\nSearch:\\nSr. N...</td>\n",
       "      <td>Show\\n10\\n25\\n50\\n100\\nentries\\nSearch:\\nSr. N...</td>\n",
       "      <td>Show\\n10\\n25\\n50\\n100\\nentries\\nSearch:\\nSr. N...</td>\n",
       "    </tr>\n",
       "    <tr>\n",
       "      <th>32</th>\n",
       "      <td>Show\\n10\\n25\\n50\\n100\\nentries\\nSearch:\\nSr. N...</td>\n",
       "      <td>Show\\n10\\n25\\n50\\n100\\nentries\\nSearch:\\nSr. N...</td>\n",
       "      <td>Show\\n10\\n25\\n50\\n100\\nentries\\nSearch:\\nSr. N...</td>\n",
       "    </tr>\n",
       "    <tr>\n",
       "      <th>33</th>\n",
       "      <td>Show\\n10\\n25\\n50\\n100\\nentries\\nSearch:\\nSr. N...</td>\n",
       "      <td>Show\\n10\\n25\\n50\\n100\\nentries\\nSearch:\\nSr. N...</td>\n",
       "      <td>Show\\n10\\n25\\n50\\n100\\nentries\\nSearch:\\nSr. N...</td>\n",
       "    </tr>\n",
       "    <tr>\n",
       "      <th>34</th>\n",
       "      <td>Show\\n10\\n25\\n50\\n100\\nentries\\nSearch:\\nSr. N...</td>\n",
       "      <td>Show\\n10\\n25\\n50\\n100\\nentries\\nSearch:\\nSr. N...</td>\n",
       "      <td>Show\\n10\\n25\\n50\\n100\\nentries\\nSearch:\\nSr. N...</td>\n",
       "    </tr>\n",
       "    <tr>\n",
       "      <th>35</th>\n",
       "      <td>Show\\n10\\n25\\n50\\n100\\nentries\\nSearch:\\nSr. N...</td>\n",
       "      <td>Show\\n10\\n25\\n50\\n100\\nentries\\nSearch:\\nSr. N...</td>\n",
       "      <td>Show\\n10\\n25\\n50\\n100\\nentries\\nSearch:\\nSr. N...</td>\n",
       "    </tr>\n",
       "    <tr>\n",
       "      <th>36</th>\n",
       "      <td>Show\\n10\\n25\\n50\\n100\\nentries\\nSearch:\\nSr. N...</td>\n",
       "      <td>Show\\n10\\n25\\n50\\n100\\nentries\\nSearch:\\nSr. N...</td>\n",
       "      <td>Show\\n10\\n25\\n50\\n100\\nentries\\nSearch:\\nSr. N...</td>\n",
       "    </tr>\n",
       "    <tr>\n",
       "      <th>37</th>\n",
       "      <td>Show\\n10\\n25\\n50\\n100\\nentries\\nSearch:\\nSr. N...</td>\n",
       "      <td>Show\\n10\\n25\\n50\\n100\\nentries\\nSearch:\\nSr. N...</td>\n",
       "      <td>Show\\n10\\n25\\n50\\n100\\nentries\\nSearch:\\nSr. N...</td>\n",
       "    </tr>\n",
       "    <tr>\n",
       "      <th>38</th>\n",
       "      <td>Show\\n10\\n25\\n50\\n100\\nentries\\nSearch:\\nSr. N...</td>\n",
       "      <td>Show\\n10\\n25\\n50\\n100\\nentries\\nSearch:\\nSr. N...</td>\n",
       "      <td>Show\\n10\\n25\\n50\\n100\\nentries\\nSearch:\\nSr. N...</td>\n",
       "    </tr>\n",
       "    <tr>\n",
       "      <th>39</th>\n",
       "      <td>Show\\n10\\n25\\n50\\n100\\nentries\\nSearch:\\nSr. N...</td>\n",
       "      <td>Show\\n10\\n25\\n50\\n100\\nentries\\nSearch:\\nSr. N...</td>\n",
       "      <td>Show\\n10\\n25\\n50\\n100\\nentries\\nSearch:\\nSr. N...</td>\n",
       "    </tr>\n",
       "    <tr>\n",
       "      <th>40</th>\n",
       "      <td>Show\\n10\\n25\\n50\\n100\\nentries\\nSearch:\\nSr. N...</td>\n",
       "      <td>Show\\n10\\n25\\n50\\n100\\nentries\\nSearch:\\nSr. N...</td>\n",
       "      <td>Show\\n10\\n25\\n50\\n100\\nentries\\nSearch:\\nSr. N...</td>\n",
       "    </tr>\n",
       "    <tr>\n",
       "      <th>41</th>\n",
       "      <td>Show\\n10\\n25\\n50\\n100\\nentries\\nSearch:\\nSr. N...</td>\n",
       "      <td>Show\\n10\\n25\\n50\\n100\\nentries\\nSearch:\\nSr. N...</td>\n",
       "      <td>Show\\n10\\n25\\n50\\n100\\nentries\\nSearch:\\nSr. N...</td>\n",
       "    </tr>\n",
       "    <tr>\n",
       "      <th>42</th>\n",
       "      <td>Show\\n10\\n25\\n50\\n100\\nentries\\nSearch:\\nSr. N...</td>\n",
       "      <td>Show\\n10\\n25\\n50\\n100\\nentries\\nSearch:\\nSr. N...</td>\n",
       "      <td>Show\\n10\\n25\\n50\\n100\\nentries\\nSearch:\\nSr. N...</td>\n",
       "    </tr>\n",
       "    <tr>\n",
       "      <th>43</th>\n",
       "      <td>Show\\n10\\n25\\n50\\n100\\nentries\\nSearch:\\nSr. N...</td>\n",
       "      <td>Show\\n10\\n25\\n50\\n100\\nentries\\nSearch:\\nSr. N...</td>\n",
       "      <td>Show\\n10\\n25\\n50\\n100\\nentries\\nSearch:\\nSr. N...</td>\n",
       "    </tr>\n",
       "    <tr>\n",
       "      <th>44</th>\n",
       "      <td>Show\\n10\\n25\\n50\\n100\\nentries\\nSearch:\\nSr. N...</td>\n",
       "      <td>Show\\n10\\n25\\n50\\n100\\nentries\\nSearch:\\nSr. N...</td>\n",
       "      <td>Show\\n10\\n25\\n50\\n100\\nentries\\nSearch:\\nSr. N...</td>\n",
       "    </tr>\n",
       "  </tbody>\n",
       "</table>\n",
       "</div>"
      ],
      "text/plain": [
       "                                         January 2021  \\\n",
       "0   Show\\n10\\n25\\n50\\n100\\nentries\\nSearch:\\nSr. N...   \n",
       "1   Show\\n10\\n25\\n50\\n100\\nentries\\nSearch:\\nSr. N...   \n",
       "2   Show\\n10\\n25\\n50\\n100\\nentries\\nSearch:\\nSr. N...   \n",
       "3   Show\\n10\\n25\\n50\\n100\\nentries\\nSearch:\\nSr. N...   \n",
       "4   Show\\n10\\n25\\n50\\n100\\nentries\\nSearch:\\nSr. N...   \n",
       "5   Show\\n10\\n25\\n50\\n100\\nentries\\nSearch:\\nSr. N...   \n",
       "6   Show\\n10\\n25\\n50\\n100\\nentries\\nSearch:\\nSr. N...   \n",
       "7   Show\\n10\\n25\\n50\\n100\\nentries\\nSearch:\\nSr. N...   \n",
       "8   Show\\n10\\n25\\n50\\n100\\nentries\\nSearch:\\nSr. N...   \n",
       "9   Show\\n10\\n25\\n50\\n100\\nentries\\nSearch:\\nSr. N...   \n",
       "10  Show\\n10\\n25\\n50\\n100\\nentries\\nSearch:\\nSr. N...   \n",
       "11  Show\\n10\\n25\\n50\\n100\\nentries\\nSearch:\\nSr. N...   \n",
       "12  Show\\n10\\n25\\n50\\n100\\nentries\\nSearch:\\nSr. N...   \n",
       "13  Show\\n10\\n25\\n50\\n100\\nentries\\nSearch:\\nSr. N...   \n",
       "14  Show\\n10\\n25\\n50\\n100\\nentries\\nSearch:\\nSr. N...   \n",
       "15  Show\\n10\\n25\\n50\\n100\\nentries\\nSearch:\\nSr. N...   \n",
       "16  Show\\n10\\n25\\n50\\n100\\nentries\\nSearch:\\nSr. N...   \n",
       "17  Show\\n10\\n25\\n50\\n100\\nentries\\nSearch:\\nSr. N...   \n",
       "18  Show\\n10\\n25\\n50\\n100\\nentries\\nSearch:\\nSr. N...   \n",
       "19  Show\\n10\\n25\\n50\\n100\\nentries\\nSearch:\\nSr. N...   \n",
       "20  Show\\n10\\n25\\n50\\n100\\nentries\\nSearch:\\nSr. N...   \n",
       "21  Show\\n10\\n25\\n50\\n100\\nentries\\nSearch:\\nSr. N...   \n",
       "22  Show\\n10\\n25\\n50\\n100\\nentries\\nSearch:\\nSr. N...   \n",
       "23  Show\\n10\\n25\\n50\\n100\\nentries\\nSearch:\\nSr. N...   \n",
       "24  Show\\n10\\n25\\n50\\n100\\nentries\\nSearch:\\nSr. N...   \n",
       "25  Show\\n10\\n25\\n50\\n100\\nentries\\nSearch:\\nSr. N...   \n",
       "26  Show\\n10\\n25\\n50\\n100\\nentries\\nSearch:\\nSr. N...   \n",
       "27  Show\\n10\\n25\\n50\\n100\\nentries\\nSearch:\\nSr. N...   \n",
       "28  Show\\n10\\n25\\n50\\n100\\nentries\\nSearch:\\nSr. N...   \n",
       "29  Show\\n10\\n25\\n50\\n100\\nentries\\nSearch:\\nSr. N...   \n",
       "30  Show\\n10\\n25\\n50\\n100\\nentries\\nSearch:\\nSr. N...   \n",
       "31  Show\\n10\\n25\\n50\\n100\\nentries\\nSearch:\\nSr. N...   \n",
       "32  Show\\n10\\n25\\n50\\n100\\nentries\\nSearch:\\nSr. N...   \n",
       "33  Show\\n10\\n25\\n50\\n100\\nentries\\nSearch:\\nSr. N...   \n",
       "34  Show\\n10\\n25\\n50\\n100\\nentries\\nSearch:\\nSr. N...   \n",
       "35  Show\\n10\\n25\\n50\\n100\\nentries\\nSearch:\\nSr. N...   \n",
       "36  Show\\n10\\n25\\n50\\n100\\nentries\\nSearch:\\nSr. N...   \n",
       "37  Show\\n10\\n25\\n50\\n100\\nentries\\nSearch:\\nSr. N...   \n",
       "38  Show\\n10\\n25\\n50\\n100\\nentries\\nSearch:\\nSr. N...   \n",
       "39  Show\\n10\\n25\\n50\\n100\\nentries\\nSearch:\\nSr. N...   \n",
       "40  Show\\n10\\n25\\n50\\n100\\nentries\\nSearch:\\nSr. N...   \n",
       "41  Show\\n10\\n25\\n50\\n100\\nentries\\nSearch:\\nSr. N...   \n",
       "42  Show\\n10\\n25\\n50\\n100\\nentries\\nSearch:\\nSr. N...   \n",
       "43  Show\\n10\\n25\\n50\\n100\\nentries\\nSearch:\\nSr. N...   \n",
       "44  Show\\n10\\n25\\n50\\n100\\nentries\\nSearch:\\nSr. N...   \n",
       "\n",
       "                                        February 2021  \\\n",
       "0   Show\\n10\\n25\\n50\\n100\\nentries\\nSearch:\\nSr. N...   \n",
       "1   Show\\n10\\n25\\n50\\n100\\nentries\\nSearch:\\nSr. N...   \n",
       "2   Show\\n10\\n25\\n50\\n100\\nentries\\nSearch:\\nSr. N...   \n",
       "3   Show\\n10\\n25\\n50\\n100\\nentries\\nSearch:\\nSr. N...   \n",
       "4   Show\\n10\\n25\\n50\\n100\\nentries\\nSearch:\\nSr. N...   \n",
       "5   Show\\n10\\n25\\n50\\n100\\nentries\\nSearch:\\nSr. N...   \n",
       "6   Show\\n10\\n25\\n50\\n100\\nentries\\nSearch:\\nSr. N...   \n",
       "7   Show\\n10\\n25\\n50\\n100\\nentries\\nSearch:\\nSr. N...   \n",
       "8   Show\\n10\\n25\\n50\\n100\\nentries\\nSearch:\\nSr. N...   \n",
       "9   Show\\n10\\n25\\n50\\n100\\nentries\\nSearch:\\nSr. N...   \n",
       "10  Show\\n10\\n25\\n50\\n100\\nentries\\nSearch:\\nSr. N...   \n",
       "11  Show\\n10\\n25\\n50\\n100\\nentries\\nSearch:\\nSr. N...   \n",
       "12  Show\\n10\\n25\\n50\\n100\\nentries\\nSearch:\\nSr. N...   \n",
       "13  Show\\n10\\n25\\n50\\n100\\nentries\\nSearch:\\nSr. N...   \n",
       "14  Show\\n10\\n25\\n50\\n100\\nentries\\nSearch:\\nSr. N...   \n",
       "15  Show\\n10\\n25\\n50\\n100\\nentries\\nSearch:\\nSr. N...   \n",
       "16  Show\\n10\\n25\\n50\\n100\\nentries\\nSearch:\\nSr. N...   \n",
       "17  Show\\n10\\n25\\n50\\n100\\nentries\\nSearch:\\nSr. N...   \n",
       "18  Show\\n10\\n25\\n50\\n100\\nentries\\nSearch:\\nSr. N...   \n",
       "19  Show\\n10\\n25\\n50\\n100\\nentries\\nSearch:\\nSr. N...   \n",
       "20  Show\\n10\\n25\\n50\\n100\\nentries\\nSearch:\\nSr. N...   \n",
       "21  Show\\n10\\n25\\n50\\n100\\nentries\\nSearch:\\nSr. N...   \n",
       "22  Show\\n10\\n25\\n50\\n100\\nentries\\nSearch:\\nSr. N...   \n",
       "23  Show\\n10\\n25\\n50\\n100\\nentries\\nSearch:\\nSr. N...   \n",
       "24  Show\\n10\\n25\\n50\\n100\\nentries\\nSearch:\\nSr. N...   \n",
       "25  Show\\n10\\n25\\n50\\n100\\nentries\\nSearch:\\nSr. N...   \n",
       "26  Show\\n10\\n25\\n50\\n100\\nentries\\nSearch:\\nSr. N...   \n",
       "27  Show\\n10\\n25\\n50\\n100\\nentries\\nSearch:\\nSr. N...   \n",
       "28  Show\\n10\\n25\\n50\\n100\\nentries\\nSearch:\\nSr. N...   \n",
       "29  Show\\n10\\n25\\n50\\n100\\nentries\\nSearch:\\nSr. N...   \n",
       "30  Show\\n10\\n25\\n50\\n100\\nentries\\nSearch:\\nSr. N...   \n",
       "31  Show\\n10\\n25\\n50\\n100\\nentries\\nSearch:\\nSr. N...   \n",
       "32  Show\\n10\\n25\\n50\\n100\\nentries\\nSearch:\\nSr. N...   \n",
       "33  Show\\n10\\n25\\n50\\n100\\nentries\\nSearch:\\nSr. N...   \n",
       "34  Show\\n10\\n25\\n50\\n100\\nentries\\nSearch:\\nSr. N...   \n",
       "35  Show\\n10\\n25\\n50\\n100\\nentries\\nSearch:\\nSr. N...   \n",
       "36  Show\\n10\\n25\\n50\\n100\\nentries\\nSearch:\\nSr. N...   \n",
       "37  Show\\n10\\n25\\n50\\n100\\nentries\\nSearch:\\nSr. N...   \n",
       "38  Show\\n10\\n25\\n50\\n100\\nentries\\nSearch:\\nSr. N...   \n",
       "39  Show\\n10\\n25\\n50\\n100\\nentries\\nSearch:\\nSr. N...   \n",
       "40  Show\\n10\\n25\\n50\\n100\\nentries\\nSearch:\\nSr. N...   \n",
       "41  Show\\n10\\n25\\n50\\n100\\nentries\\nSearch:\\nSr. N...   \n",
       "42  Show\\n10\\n25\\n50\\n100\\nentries\\nSearch:\\nSr. N...   \n",
       "43  Show\\n10\\n25\\n50\\n100\\nentries\\nSearch:\\nSr. N...   \n",
       "44  Show\\n10\\n25\\n50\\n100\\nentries\\nSearch:\\nSr. N...   \n",
       "\n",
       "                                           March 2021  \n",
       "0   Show\\n10\\n25\\n50\\n100\\nentries\\nSearch:\\nSr. N...  \n",
       "1   Show\\n10\\n25\\n50\\n100\\nentries\\nSearch:\\nSr. N...  \n",
       "2   Show\\n10\\n25\\n50\\n100\\nentries\\nSearch:\\nSr. N...  \n",
       "3   Show\\n10\\n25\\n50\\n100\\nentries\\nSearch:\\nSr. N...  \n",
       "4   Show\\n10\\n25\\n50\\n100\\nentries\\nSearch:\\nSr. N...  \n",
       "5   Show\\n10\\n25\\n50\\n100\\nentries\\nSearch:\\nSr. N...  \n",
       "6   Show\\n10\\n25\\n50\\n100\\nentries\\nSearch:\\nSr. N...  \n",
       "7   Show\\n10\\n25\\n50\\n100\\nentries\\nSearch:\\nSr. N...  \n",
       "8   Show\\n10\\n25\\n50\\n100\\nentries\\nSearch:\\nSr. N...  \n",
       "9   Show\\n10\\n25\\n50\\n100\\nentries\\nSearch:\\nSr. N...  \n",
       "10  Show\\n10\\n25\\n50\\n100\\nentries\\nSearch:\\nSr. N...  \n",
       "11  Show\\n10\\n25\\n50\\n100\\nentries\\nSearch:\\nSr. N...  \n",
       "12  Show\\n10\\n25\\n50\\n100\\nentries\\nSearch:\\nSr. N...  \n",
       "13  Show\\n10\\n25\\n50\\n100\\nentries\\nSearch:\\nSr. N...  \n",
       "14  Show\\n10\\n25\\n50\\n100\\nentries\\nSearch:\\nSr. N...  \n",
       "15  Show\\n10\\n25\\n50\\n100\\nentries\\nSearch:\\nSr. N...  \n",
       "16  Show\\n10\\n25\\n50\\n100\\nentries\\nSearch:\\nSr. N...  \n",
       "17  Show\\n10\\n25\\n50\\n100\\nentries\\nSearch:\\nSr. N...  \n",
       "18  Show\\n10\\n25\\n50\\n100\\nentries\\nSearch:\\nSr. N...  \n",
       "19  Show\\n10\\n25\\n50\\n100\\nentries\\nSearch:\\nSr. N...  \n",
       "20  Show\\n10\\n25\\n50\\n100\\nentries\\nSearch:\\nSr. N...  \n",
       "21  Show\\n10\\n25\\n50\\n100\\nentries\\nSearch:\\nSr. N...  \n",
       "22  Show\\n10\\n25\\n50\\n100\\nentries\\nSearch:\\nSr. N...  \n",
       "23  Show\\n10\\n25\\n50\\n100\\nentries\\nSearch:\\nSr. N...  \n",
       "24  Show\\n10\\n25\\n50\\n100\\nentries\\nSearch:\\nSr. N...  \n",
       "25  Show\\n10\\n25\\n50\\n100\\nentries\\nSearch:\\nSr. N...  \n",
       "26  Show\\n10\\n25\\n50\\n100\\nentries\\nSearch:\\nSr. N...  \n",
       "27  Show\\n10\\n25\\n50\\n100\\nentries\\nSearch:\\nSr. N...  \n",
       "28  Show\\n10\\n25\\n50\\n100\\nentries\\nSearch:\\nSr. N...  \n",
       "29  Show\\n10\\n25\\n50\\n100\\nentries\\nSearch:\\nSr. N...  \n",
       "30  Show\\n10\\n25\\n50\\n100\\nentries\\nSearch:\\nSr. N...  \n",
       "31  Show\\n10\\n25\\n50\\n100\\nentries\\nSearch:\\nSr. N...  \n",
       "32  Show\\n10\\n25\\n50\\n100\\nentries\\nSearch:\\nSr. N...  \n",
       "33  Show\\n10\\n25\\n50\\n100\\nentries\\nSearch:\\nSr. N...  \n",
       "34  Show\\n10\\n25\\n50\\n100\\nentries\\nSearch:\\nSr. N...  \n",
       "35  Show\\n10\\n25\\n50\\n100\\nentries\\nSearch:\\nSr. N...  \n",
       "36  Show\\n10\\n25\\n50\\n100\\nentries\\nSearch:\\nSr. N...  \n",
       "37  Show\\n10\\n25\\n50\\n100\\nentries\\nSearch:\\nSr. N...  \n",
       "38  Show\\n10\\n25\\n50\\n100\\nentries\\nSearch:\\nSr. N...  \n",
       "39  Show\\n10\\n25\\n50\\n100\\nentries\\nSearch:\\nSr. N...  \n",
       "40  Show\\n10\\n25\\n50\\n100\\nentries\\nSearch:\\nSr. N...  \n",
       "41  Show\\n10\\n25\\n50\\n100\\nentries\\nSearch:\\nSr. N...  \n",
       "42  Show\\n10\\n25\\n50\\n100\\nentries\\nSearch:\\nSr. N...  \n",
       "43  Show\\n10\\n25\\n50\\n100\\nentries\\nSearch:\\nSr. N...  \n",
       "44  Show\\n10\\n25\\n50\\n100\\nentries\\nSearch:\\nSr. N...  "
      ]
     },
     "execution_count": 127,
     "metadata": {},
     "output_type": "execute_result"
    }
   ],
   "source": [
    "import pandas as pd\n",
    "funding_deals=pd.DataFrame()\n",
    "funding_deals['January 2021'] = Jan_Table\n",
    "funding_deals['February 2021'] = Feb_Table\n",
    "funding_deals['March 2021'] = Mar_Table\n",
    "funding_deals"
   ]
  },
  {
   "cell_type": "code",
   "execution_count": 128,
   "id": "66295f4e",
   "metadata": {},
   "outputs": [],
   "source": [
    "driver.close()"
   ]
  },
  {
   "cell_type": "code",
   "execution_count": null,
   "id": "b5393084",
   "metadata": {},
   "outputs": [],
   "source": []
  },
  {
   "cell_type": "markdown",
   "id": "615292b2",
   "metadata": {},
   "source": [
    "Q7. Write a program to scrap all the available details of best gaming laptops from digit.in"
   ]
  },
  {
   "cell_type": "code",
   "execution_count": 129,
   "id": "6a418d7e",
   "metadata": {},
   "outputs": [],
   "source": [
    "driver = webdriver.Chrome(r'C:\\Users\\user\\Downloads\\chromedriver_win32 (1)\\chromedriver.exe')"
   ]
  },
  {
   "cell_type": "code",
   "execution_count": 130,
   "id": "ead7031e",
   "metadata": {},
   "outputs": [],
   "source": [
    "driver.get('https://www.digit.in/')"
   ]
  },
  {
   "cell_type": "code",
   "execution_count": 131,
   "id": "5d793380",
   "metadata": {},
   "outputs": [
    {
     "data": {
      "text/plain": [
       "<selenium.webdriver.remote.webelement.WebElement (session=\"090efbdfaa798cf252e03ab13aa3db50\", element=\"57d0359f-c26e-4454-8445-d0796d62145b\")>"
      ]
     },
     "execution_count": 131,
     "metadata": {},
     "output_type": "execute_result"
    }
   ],
   "source": [
    "laptops=driver.find_element(\"xpath\",\"/html/body/div[3]/div/div[2]/div[2]/div[4]/ul/li[9]/a\")\n",
    "laptops"
   ]
  },
  {
   "cell_type": "code",
   "execution_count": 132,
   "id": "3a0da533",
   "metadata": {},
   "outputs": [],
   "source": [
    "laptops.click()"
   ]
  },
  {
   "cell_type": "code",
   "execution_count": 133,
   "id": "6d9fb1c1",
   "metadata": {},
   "outputs": [
    {
     "data": {
      "text/plain": [
       "<selenium.webdriver.remote.webelement.WebElement (session=\"090efbdfaa798cf252e03ab13aa3db50\", element=\"5cb2f4c4-f077-4336-8c5b-e1b74b96a66c\")>"
      ]
     },
     "execution_count": 133,
     "metadata": {},
     "output_type": "execute_result"
    }
   ],
   "source": [
    "list_laptops=driver.find_element(\"xpath\",\"/html/body/div[5]/div[1]/div[3]\")\n",
    "list_laptops"
   ]
  },
  {
   "cell_type": "code",
   "execution_count": 134,
   "id": "d19ce4ab",
   "metadata": {},
   "outputs": [
    {
     "data": {
      "text/plain": [
       "10"
      ]
     },
     "execution_count": 134,
     "metadata": {},
     "output_type": "execute_result"
    }
   ],
   "source": [
    "gaming_laptops=driver.find_elements(\"xpath\",'//div[@class=\"TopNumbeHeading active sticky-footer\"]')\n",
    "len(gaming_laptops)"
   ]
  },
  {
   "cell_type": "code",
   "execution_count": 135,
   "id": "113f24f6",
   "metadata": {},
   "outputs": [
    {
     "data": {
      "text/plain": [
       "10"
      ]
     },
     "execution_count": 135,
     "metadata": {},
     "output_type": "execute_result"
    }
   ],
   "source": [
    "Gaming_Laptop=[]\n",
    "for i in gaming_laptops:\n",
    "    Gaming_Laptop.append(i.text)\n",
    "len(Gaming_Laptop)    "
   ]
  },
  {
   "cell_type": "code",
   "execution_count": 136,
   "id": "74f6ae7c",
   "metadata": {},
   "outputs": [
    {
     "data": {
      "text/plain": [
       "['1.\\nMSI TITAN GT77-12UHS',\n",
       " '2.\\nALIENWARE X17 R2',\n",
       " '3.\\nACER PREDATOR TRITON 500 SE PT516-52S',\n",
       " '4.\\nOMEN BY HP (16-B1371TX)',\n",
       " '5.\\nACER PREDATOR HELIOS 300 AN515-45 (NH.QBRSI.0',\n",
       " '6.\\nMSI DELTA 15 (A5EFK-083IN)',\n",
       " '7.\\nOMEN BY HP (16-C0141AX)',\n",
       " '8.\\nLENOVO LEGION 5I PRO (82RF00MGIN)',\n",
       " '9.\\nALIENWARE M15 R5 RYZEN EDITION ICC-C780001WIN',\n",
       " '10.\\nLENOVO SLIM 7 GEN 6 (82K8002JIN)']"
      ]
     },
     "execution_count": 136,
     "metadata": {},
     "output_type": "execute_result"
    }
   ],
   "source": [
    "Gaming_Laptop"
   ]
  },
  {
   "cell_type": "code",
   "execution_count": 137,
   "id": "b7e8464d",
   "metadata": {},
   "outputs": [
    {
     "data": {
      "text/plain": [
       "10"
      ]
     },
     "execution_count": 137,
     "metadata": {},
     "output_type": "execute_result"
    }
   ],
   "source": [
    "details=driver.find_elements(\"xpath\",'//div[@class=\"product-detail\"]')\n",
    "len(details)"
   ]
  },
  {
   "cell_type": "code",
   "execution_count": 138,
   "id": "6cdac83b",
   "metadata": {},
   "outputs": [
    {
     "data": {
      "text/plain": [
       "10"
      ]
     },
     "execution_count": 138,
     "metadata": {},
     "output_type": "execute_result"
    }
   ],
   "source": [
    "Product_details=[]\n",
    "for i in details:\n",
    "    Product_details.append(i.text)\n",
    "len(Product_details)    "
   ]
  },
  {
   "cell_type": "code",
   "execution_count": 139,
   "id": "a241faf8",
   "metadata": {},
   "outputs": [
    {
     "data": {
      "text/plain": [
       "['WINDOWS 11 HOME OS\\n17.3\" (3840 X 2160) DISPLAY\\n12TH GEN INTEL CORE I9-12900HX | NA PROCESSOR\\n2 TB SSD/64 GB DDR5 MEMORY\\nFULL SPECS OTHER MSI LAPTOPS',\n",
       " 'WINDOWS 11 HOME OS\\n17.3\" (1920X1080) DISPLAY\\n12TH GEN INTEL CORE I9-12900HK | 5.00 GHZ PROCESSOR\\n1 TB SSD/32 GB DDR5 MEMORY\\nFULL SPECS OTHER DELL LAPTOPS',\n",
       " 'WINDOWS 11 HOME OS\\n16\" (2560 X 1600) DISPLAY\\n12TH GEN INTEL CORE I7-12700H | 3.50 GHZ PROCESSOR\\n2 TB SSD/32 GB DDR5 MEMORY\\nFULL SPECS OTHER ACER LAPTOPS',\n",
       " 'WINDOWS 11 HOME OS\\n16.1\" (2560 X 1440) DISPLAY\\n12TH GEN INTEL CORE I7-12700H | 4.7 GHZ PROCESSOR\\n1 TB SSD/8 GB DDR5 MEMORY\\nFULL SPECS OTHER HP LAPTOPS',\n",
       " 'WINDOWS 11 HOME OS\\n15.6\" (2560 X 1440) DISPLAY\\nAMD RYZEN 9-5900HX | NA PROCESSOR\\n512 GB SSD/16 GB DDR4 MEMORY\\nFULL SPECS OTHER ACER LAPTOPS',\n",
       " 'WINDOWS 11 HOME OS\\n15.6\" (1920 X 1080) DISPLAY\\nAMD 5TH GEN RYZEN 9-5900HX | 3.3GHZ PROCESSOR\\n1 TB SSD/16 GB DDR4 MEMORY\\nFULL SPECS OTHER MSI LAPTOPS',\n",
       " 'WINDOWS 11 HOME OS\\n16.1\" (2560 X 1440) DISPLAY\\nAMD RYZEN™ 9 5900HX | 3.3 GHZ PROCESSOR\\n1 TB NVME/16 GB DDR4 MEMORY\\nFULL SPECS OTHER HP LAPTOPS',\n",
       " 'WINDOWS 11 HOME OS\\n16\" (2560 X 1600) DISPLAY\\n12TH GEN INTEL CORE I7-12700H | 3.50 GHZ PROCESSOR\\n1 TB SSD/16 GB DDR5 MEMORY\\nFULL SPECS OTHER LENOVO LAPTOPS',\n",
       " 'WINDOWS 11 HOME OS\\n15.6\" (1920 X 1080) DISPLAY\\nAMD RYZEN R7-5800H | 4.40 GHZ PROCESSOR\\n512 GB SSD/16 GB DDR4 MEMORY\\nFULL SPECS OTHER DELL LAPTOPS',\n",
       " 'WINDOWS 11 HOME OS\\n15.6 MP | NA DISPLAY\\nLENOVO RYZEN 7-5800H | 3.2 GHZ PROCESSOR\\n1 TB SSD/16 GB DDR4 MEMORY\\nFULL SPECS OTHER LENOVO LAPTOPS']"
      ]
     },
     "execution_count": 139,
     "metadata": {},
     "output_type": "execute_result"
    }
   ],
   "source": [
    "Product_details"
   ]
  },
  {
   "cell_type": "code",
   "execution_count": 140,
   "id": "d173a4ce",
   "metadata": {},
   "outputs": [
    {
     "data": {
      "text/plain": [
       "10"
      ]
     },
     "execution_count": 140,
     "metadata": {},
     "output_type": "execute_result"
    }
   ],
   "source": [
    "description=driver.find_elements(\"xpath\",'//div[@class=\"Section-center\"]')\n",
    "len(description)"
   ]
  },
  {
   "cell_type": "code",
   "execution_count": 141,
   "id": "7a2faae7",
   "metadata": {},
   "outputs": [
    {
     "data": {
      "text/plain": [
       "10"
      ]
     },
     "execution_count": 141,
     "metadata": {},
     "output_type": "execute_result"
    }
   ],
   "source": [
    "Laptop_Description=[]\n",
    "for i in description:\n",
    "    Laptop_Description.append(i.text)\n",
    "len(Laptop_Description)    "
   ]
  },
  {
   "cell_type": "code",
   "execution_count": 142,
   "id": "9129d8c7",
   "metadata": {},
   "outputs": [
    {
     "data": {
      "text/plain": [
       "['The very best MSI gaming laptop featuring an Intel processor is the MSI TITAN GT77 - 12UHS. This is the top of the line model from MSI’s recent refresh of their entire gaming lineup and is powered by the Intel Core i9-12900HX which is a 16 Core (8P+8E) processor that has 24 threads and a maximum Turbo power of 157 Watts. The graphics card in this laptop is the NVIDIA RTX 3080 Ti and it too sports a high TGP of 175 Watts. This is one of the most powerful CPU+GPU combinations with plenty of thermal headroom to allow it to operate at higher clock speeds for longer time periods. As for the memory, the MSI GT77-12UHS can have up to 128 GB of DDR5 memory but ships with 64 GB DDR5 clocked at 4800 MT/s. Being a 12th Gen machine also means that the motherboard has PCIe Gen 5.0 lanes for storage devices such as M.2 SSDs. The GT77-12UHS has four M.2 slots of which one slot is PCIe Gen 5 whereas the remaining three are PCIe Gen 4 slots. Then there’s also the display, the GT77-12UHS features a massive 17.3-inch IPS-level 4K panel with a 120 Hz refresh rate. So you can actually enjoy all the high frame-rate gameplay that the powerful hardware enables. And the cherry on the cake? A built-in mechanical keyboard with Cherry MX switches. All this hardware comes at a ridiculous price of INR 5,26,990. As of now, this is at the top among the best performing gaming laptops in the world.\\nSPECIFICATION\\nProcessor : 12th Gen Intel Core i9-12900HX 16 core processor\\nDisplay : 17.3″ (3840 x 2160) screen, 120 Hz refresh rate\\nOS : Windows 11 Home\\nMemory : 64 GB DDR5 RAM & 2 TB SSD\\nGraphics Processor : 16 GB DDR6 NVIDIA GeForce RTX 3080 Ti Graphics card\\nBody : 397 x 330 x 23 mm dimension & 3.3 kg weight',\n",
       " 'Alienware, the premium gaming brand from Dell has its own reputation for building some of the meanest gaming machines for more than two decades. The best Alienware gaming laptop featuring an Intel processor is the Alienware x17 R2. This thing packs an Intel Core i9-12900HK which is a 14-Core (6P+8E) processor which has 20 Threads. The lower P-Core count helps it hit slightly higher clock speeds but the Max Turbo power is capped at 115W which is less than what the MSI GT77 sports. As for the graphics card, the Alienware x17 R2 also sports an NVIDIA RTX 3080 Ti with the peak TGP set to 175 Watts. The CPU+GPU combination of the Alienware x17 R2 comes close to the MSI GT77. As for the memory, the Alienware x17 R2 ships with 32 GB of DDR5 RAM clocked at 4800 MT/s. The display on the x17 R2 is a 17.3-inch FHD 360 Hz panel compared to the 120 Hz 4K panel on the MSI GT77. You’ll end up seeing higher frame rates on the Alienware x17 R2 without any tearing whereas you’ll see crisper visuals at high frame rates on the MSI GT77. Both make for great experiences. This configuration of the Dell Alienware x17 R2 goes for INR 3,89,990 making it a good gaming laptop to buy in 2022.\\nSPECIFICATION\\nProcessor : 12th Gen Intel Core i9-12900HK 14 core processor with 5.00 GHz clock speed\\nDisplay : 17.3″ (1920x1080) screen, 360 Hz refresh rate\\nOS : Windows 11 Home\\nMemory : 32 GB DDR5 RAM & 1 TB SSD\\nGraphics Processor : 16 GB DDR6 NVIDIA GeForce RTX 3080 Ti, Graphics card\\nBody : 399.23 x 299.57 x 14.75 mm dimension & 3.02 kg weight\\nAVAILABLE ₹ 389,990\\nBUY NOW\\nBUY ON EMI ₹ 64,998/MONTH\\nGET EMI\\n*0% Interest\\n*0 Down Payment\\n*No Processing Fee',\n",
       " 'The Predator lineup from Acer has shown great promise for gamers ever since they showcased the Predator 21X a couple of years ago. Keeping its legacy intact and also being the best Acer gaming laptop featuring an Intel processor is the Acer Predator Triton 500 SE. This machine is powered by an Intel Core i7-12700H which is a 14-Core (6P+8E) processor with 20 Threads. And the graphics card in this machine is the NVIDIA RTX 3070 Ti. The TGP isn’t specified but the RTX 3070 Ti generally ships with a TGP of between 105 to 150 Watts. For the memory, it has 32 GB of LPDDR5 memory clocked at 4800 MT/s and the display is a 16-inch 2560x1600 IPS panel sporting a 240 Hz refresh rate. Acer makes some intelligent decisions with the hardware by picking a Core i7 processor and pairing it with a high-end RTX 3070 Ti. The power backup in this machine is a 4-Cell 99 Wh Li-ion battery which is the highest that you can get in a laptop legally for it to be carried on aeroplanes. And if we are to talk about the networking then the Acer Predator Triton 500 SE comes with Killer Wi-Fi 6E 1675s and Gigabit Ethernet. This laptop gives you great gaming performance that comes close to machines that cost twice as much. Speaking of price, the Acer Predator Triton 500 SE PT516-52s is priced at INR 2,29,999 in India.\\nSPECIFICATION\\nProcessor : 12th Gen Intel Core i7-12700H 14 core processor with 3.50 GHz clock speed\\nDisplay : 16″ (2560 x 1600) screen, 240 Hz refresh rate\\nOS : Windows 11 Home\\nMemory : 32 GB DDR5 RAM & 2 TB SSD\\nGraphics Processor : 8 GB DDR6 NVIDIA GeForce RTXTM 3070 Ti Graphics card\\nBody : 358 x 262 x 19.9 mm dimension & 2.4 kg weight\\nBUY ON EMI ₹ 50,000/MONTH\\nGET EMI\\n*0% Interest\\n*0 Down Payment\\n*No Processing Fee',\n",
       " 'Omen by HP is a premium gaming lineup which is right up there with their Victus gaming laptops. The best HP gaming laptop with an Intel processor is the Omen by HP (16-B1371TX). Like the Acer Predator, this too is powered by the Intel Core i7-12700H which is a 14-Core (6P+8E) processor with 20 Threads. And the graphics card in this machine is the NVIDIA RTX 3070 Ti. Even the memory is a similar configuration with 32 GB of DDR5 RAM rated for 4800 MT/s. One of the great things about the Omen laptops is that the audio setup is powered by Bang&Olufsen for some really great-sounding audio. For the display, the Omen by HP (16-B1371TX) sports a 16.1-inch 165 Hz 2560x1440 IPS panel that is the best of both worlds, resolution and refresh rate. Moreover, it is also NVIDIA G-Sync certified. The keyboard on the HP Omen (16-B1371TX) features a 4-zone RGB backlighting that adds a bit of pizazz to the overall aesthetic. In a way, the HP Omen (16-B1371TX) checks all the boxes and it does so with a price tag of INR 1,82,999 in India.\\nSPECIFICATION\\nProcessor : 12th Gen Intel Core i7-12700H 14 core processor with 4.7 GHz clock speed\\nDisplay : 16.1″ (2560 x 1440) screen\\nOS : Windows 11 Home\\nMemory : 8 GB DDR5 RAM & 1 TB SSD\\nGraphics Processor : 8 GB GDDR6 NVIDIA GeForce RTX 3070 Graphics card\\nBody : 369 x 248 x 23 mm dimension & 2.32 kg weight\\nAVAILABLE ₹ 197,000\\nBUY NOW\\nBUY ON EMI ₹ 32,833/MONTH\\nGET EMI\\n*0% Interest\\n*0 Down Payment\\n*No Processing Fee',\n",
       " 'Acer Predator Helios 300 AN515-45 is the best Acer gaming laptop featuring an AMD processor. It is powered by the AMD Ryzen 9 5900HX which is an 8 Core processor that gives you 16 Threads. AMD’s Ryzen 5000 series processors have broken performance records and set new benchmarks and this is the best mobile processor of the entire series. Acer has paired this with the NVIDIA RTX 3070. Together, the two make for a great combination for gaming. On the memory front, there’s 16 GB of DDR4 RAM clocked at 3200 MT/s. The display on the Acer Predator Helios 300 is a 15.6-inch 2560x1440 IPS panel that is tuned for a refresh rate of 165 Hz. Acer also packs Killer E2600 Ethernet in the Predator Helios 300 for folks who’d like to tweak their network prioritisation settings. The TGP for the RTX 3070 has not been mentioned here but a high TGP RTX 3070 can even best a low TGP RTX 3070 Ti, so there might be a few surprises there. For all these features, the Acer Predator Helios 300 carries a price tag of INR 1,39,990 in India.\\nSPECIFICATION\\nProcessor : AMD Ryzen 9-5900HX 8 core processor\\nDisplay : 15.6″ (2560 x 1440) screen, 165 Hz refresh rate\\nOS : Windows 11 Home\\nMemory : 16 GB DDR4 RAM & 512 GB SSD\\nGraphics Processor : 8 GB DDR6 NVIDIA GeForce RTX 3070 Graphics card\\nBody : 363 x 255 x 23.9 mm dimension & 2.4 kg weight\\nBUY ON EMI ₹ 28,833/MONTH\\nGET EMI\\n*0% Interest\\n*0 Down Payment\\n*No Processing Fee',\n",
       " \"The best MSI gaming laptop with an AMD processor is the MSI Delta 15 A5EFK-083IN. It features the top of the line AMD Ryzen 9 5900 HX which is a great 8-Core / 16-Thread processor for gaming and for the graphics card it has an AMD Radeon RX 6700M. The Radeon RX 6000 series graphics cards are well known for their power efficiency thanks to the efficient 7nm process on which the Radeon RX 6000 GPUs are built on. The RX 6700M, in particular, is a great high-end graphics card and can best even an RTX 3070 considering the TGP ranges of the GPUs. For the memory, the MSI Delta 15 comes with 16 GB of dual-channel DDR4 RAM clocked at 3200 MT/s. Coming to the display, the MSI Delta 15 sports a 15.6-inch FHD IPS-level 240 Hz panel that's geared to take advantage of AMD FreeSync. Even the backup is great with an 82 Wh 4-Cell Li-Ion battery. The keyboard on the Delta 15 is backlit and there's always the MSI Dragon Centre management software to help optimise the way you use the laptop. The MSI Delta 15 A5EFK-083IN retails for INR 1,14,990 in India.\\nSPECIFICATION\\nProcessor : AMD 5th Gen Ryzen 9-5900HX 8 core processor with 3.3GHz clock speed\\nDisplay : 15.6″ (1920 x 1080) screen, 240Hz refresh rate\\nOS : Windows 11 Home\\nMemory : 16 GB DDR4 RAM & 1 TB SSD\\nGraphics Processor : 10 GB DDR6 AMD Radeon RX 6700M Graphics card\\nBody : 357 x 247 x 19 mm dimension & 1.9 kg weight\\nBUY ON EMI ₹ 31,498/MONTH\\nGET EMI\\n*0% Interest\\n*0 Down Payment\\n*No Processing Fee\",\n",
       " \"Another worthy gaming laptop from the Omen lineup from HP is the 16-c0141AX. In fact, it's also the best HP gaming laptop with an AMD Processor. This unit also features the best AMD mobile processor which is the AMD Ryzen 9 5900 HX, an 8-Core / 16-Thread flagship CPU that can make mincemeat of all current AAA video games. And for the graphics, HP has included the AMD Radeon RX 6600M which is very power efficient like most GPUs in the RX 6000 series and often performs better than the NVIDIA RTX 3060. Aside from these there’s 16 GB of DDR4 RAM, and for the display, the Omen by HP (16-c0141AX) has a 16.1-inch 2560x1440 IPS panel and it even has a high refresh rate of 165 Hz. HP introduced the OMEN Tempest Cooling technology for their laptops to improve their cooling. Like other Omen laptops, this model also has an audio solution powered by Bang&Olufsen which is a well-known premium audio brand. The Omen by HP (16-c0141AX) retails for INR 1,34,999 in India.\\nSPECIFICATION\\nProcessor : AMD Ryzen™ 9 5900HX 8 core processor with 3.3 GHz clock speed\\nDisplay : 16.1″ (2560 x 1440) screen\\nOS : Windows 11 Home\\nMemory : 16 GB DDR4 RAM & 1 TB NVMe\\nGraphics Processor : 8 GB GDDR6 AMD Radeon™ RX 6600M Graphics card\\nBody : 36.92 x 24.8 x 2.3 mm dimension & 2.3 kg weight\\nAVAILABLE ₹ 129,899\\nBUY NOW\\nAVAILABLE ₹ 144,999\\nBUY NOW\\nBUY ON EMI ₹ 21,649/MONTH\\nGET EMI\\n*0% Interest\\n*0 Down Payment\\n*No Processing Fee\",\n",
       " 'Lenovo has gone a little mainstream with their gaming laptops and the best Lenovo gaming laptop featuring an Intel processor happens to be the Lenovo Legion 5i Pro (82RF00MGIN). It features the powerful Intel Core i7-12700H which is a 14-Core (6P+8E) processor with 20 Threads. There’s 16 GB of DDR5 RAM rated for 4800 MT/s and the graphics card is the NVIDIA RTX 3060. There’s no mention of the TGP of the card on the official spec sheets. Lenovo offers a 16-inch 2560x1600 IPS panel on the Lenovo Legion 5i Pro and it also has a refresh rate of 165 Hz. While most of the specs might seem a little tame compared to the top laptop on this page, the battery is where Lenovo doesn’t hold back any punches. This machine features an 80 Wh 4-Cell battery which is pretty high among gaming laptops. Then there’s the audio setup which is enhanced by Nahimic’s AI-based audio solution for different sound profiles and some of the features can improve your gaming experience. The Lenovo Legion 5i Pro (82RF00MGIN) is priced at INR 1,64,990 in India.\\nSPECIFICATION\\nProcessor : 12th Gen Intel Core i7-12700H 14 core processor with 3.50 GHz clock speed\\nDisplay : 16″ (2560 x 1600) screen, 165 Hz refresh rate\\nOS : Windows 11 Home\\nMemory : 16 GB DDR5 RAM & 1 TB SSD\\nGraphics Processor : 6 GB DDR6 NVIDIA GeForce RTX 3060 Graphics card\\nBody : 359.9 x 264.4 x 19.9 mm dimension & 2.5 kg weight\\nBUY ON EMI ₹ 38,481/MONTH\\nGET EMI\\n*0% Interest\\n*0 Down Payment\\n*No Processing Fee',\n",
       " 'Dell not only has gaming laptops under the Dell Gaming brand but also under the Alienware brand. Together, both of them make up for a diverse set of configurations featuring the best hardware that money can buy. If you’re looking for the best Alienware gaming laptop with an AMD processor then the aptly named Alienware m15 R5 Ryzen Edition should be first on your list. This machine features the AMD Ryzen 7 5800H which is an 8-Core / 16-Thread CPU and for the graphics bit, it has an NVIDIA RTX 3060. Being an Alienware machine, you can safely assume that the TGP on the RTX 3060 will be scaled to its maximum allowed limits. As for the networking bit, the Alienware m15 R5 Ryzen Edition comes with Killer Wireless Wi-Fi 6E (1650) which is a top-tier Wi-Fi card that allows you to prioritise networking traffic so that your online gaming experience remains unhampered. As for the display, the Alienware m15 R5 Ryzen Edition comes with a 15.6-inch FHD panel tweaked for a refresh rate of 165 Hz. The Alienware m15 R5 Ryzen Edition retails for INR 1,44,989 in India.\\nSPECIFICATION\\nProcessor : AMD Ryzen R7-5800H 8 core processor with 4.40 GHz clock speed\\nDisplay : 15.6″ (1920 x 1080) screen, 165Hz refresh rate\\nOS : Windows 11 Home\\nMemory : 16 GB DDR4 RAM & 512 GB SSD\\nGraphics Processor : 6 GB DDR6 NVIDIA GeForce RTX 3060 Graphics card\\nBody : 356.2 x 272.5 x 22.85 mm dimension & 2.69 kg weight\\nAVAILABLE ₹ 144,990\\nBUY NOW\\nAVAILABLE ₹ 147,999\\nBUY NOW\\nBUY ON EMI ₹ 24,165/MONTH\\nGET EMI\\n*0% Interest\\n*0 Down Payment\\n*No Processing Fee',\n",
       " 'Lenovo has been pushing for thinner gaming laptops and the fruits of their labour can be clearly seen in the Lenovo Slim 7 Gen 6 gaming laptop. It is the best Lenovo gaming laptop featuring AMD hardware. For the processor it has an AMD Ryzen 7 5800H which is an 8-Core / 16-Thread CPU similar to the Ryzen 9 5900HX but with a lower TDP cap and slightly lower clock speeds. Nevertheless, for gaming, it’s a great processor. The Ryzen 7 5800H is clubbed with the NVIDIA RTX 3060 and there’s even 16 GB of DDR4 RAM clocked at 3200 MT/s. Like the other Lenovo machine in this list, even the Lenovo Slim 7 Gen 6 comes with a 15.6-inch 2560x1440 IPS panel sporting a 165 Hz refresh rate. And it is also certified to work with NVIDIA G-Sync technology. The thin chassis of the Lenovo Slim 7 Gen 6 is made with a combination of aluminium and magnesium for a solid finish and the chassis also doubles up as a passive heat sink. For the power backup, the Lenovo Slim 7 Gen 6 features a 71 Wh 4-Cell Lithium Ion battery. Gamers can find the Lenovo Slim 7 Gen 6 retailing for INR 1,44,990 in India.\\nSPECIFICATION\\nProcessor : Lenovo Ryzen 7-5800H processor with 3.2 GHz clock speed\\nDisplay : 15.6″ screen, 165 Hz refresh rate\\nOS : Windows 11 Home\\nMemory : 16 GB DDR4 RAM & 1 TB SSD\\nGraphics Processor : 6 GB DDR6 NVIDIA GeForce 3060 Max-Q Graphics card\\nBody : 356 x 252 x 16 mm dimension & 1.9 kg weight\\nAVAILABLE ₹ 135,490\\nBUY NOW\\nBUY ON EMI ₹ 22,581/MONTH\\nGET EMI\\n*0% Interest\\n*0 Down Payment\\n*No Processing Fee']"
      ]
     },
     "execution_count": 142,
     "metadata": {},
     "output_type": "execute_result"
    }
   ],
   "source": [
    "Laptop_Description"
   ]
  },
  {
   "cell_type": "code",
   "execution_count": 143,
   "id": "e2caa812",
   "metadata": {},
   "outputs": [
    {
     "data": {
      "text/plain": [
       "(10, 10, 10)"
      ]
     },
     "execution_count": 143,
     "metadata": {},
     "output_type": "execute_result"
    }
   ],
   "source": [
    "len(Gaming_Laptop),len(Product_details),len(Laptop_Description)"
   ]
  },
  {
   "cell_type": "code",
   "execution_count": 144,
   "id": "2e3eb31a",
   "metadata": {},
   "outputs": [
    {
     "data": {
      "text/html": [
       "<div>\n",
       "<style scoped>\n",
       "    .dataframe tbody tr th:only-of-type {\n",
       "        vertical-align: middle;\n",
       "    }\n",
       "\n",
       "    .dataframe tbody tr th {\n",
       "        vertical-align: top;\n",
       "    }\n",
       "\n",
       "    .dataframe thead th {\n",
       "        text-align: right;\n",
       "    }\n",
       "</style>\n",
       "<table border=\"1\" class=\"dataframe\">\n",
       "  <thead>\n",
       "    <tr style=\"text-align: right;\">\n",
       "      <th></th>\n",
       "      <th>Laptop</th>\n",
       "      <th>Laptop Details</th>\n",
       "      <th>Laptop Description</th>\n",
       "    </tr>\n",
       "  </thead>\n",
       "  <tbody>\n",
       "    <tr>\n",
       "      <th>0</th>\n",
       "      <td>1.\\nMSI TITAN GT77-12UHS</td>\n",
       "      <td>WINDOWS 11 HOME OS\\n17.3\" (3840 X 2160) DISPLA...</td>\n",
       "      <td>The very best MSI gaming laptop featuring an I...</td>\n",
       "    </tr>\n",
       "    <tr>\n",
       "      <th>1</th>\n",
       "      <td>2.\\nALIENWARE X17 R2</td>\n",
       "      <td>WINDOWS 11 HOME OS\\n17.3\" (1920X1080) DISPLAY\\...</td>\n",
       "      <td>Alienware, the premium gaming brand from Dell ...</td>\n",
       "    </tr>\n",
       "    <tr>\n",
       "      <th>2</th>\n",
       "      <td>3.\\nACER PREDATOR TRITON 500 SE PT516-52S</td>\n",
       "      <td>WINDOWS 11 HOME OS\\n16\" (2560 X 1600) DISPLAY\\...</td>\n",
       "      <td>The Predator lineup from Acer has shown great ...</td>\n",
       "    </tr>\n",
       "    <tr>\n",
       "      <th>3</th>\n",
       "      <td>4.\\nOMEN BY HP (16-B1371TX)</td>\n",
       "      <td>WINDOWS 11 HOME OS\\n16.1\" (2560 X 1440) DISPLA...</td>\n",
       "      <td>Omen by HP is a premium gaming lineup which is...</td>\n",
       "    </tr>\n",
       "    <tr>\n",
       "      <th>4</th>\n",
       "      <td>5.\\nACER PREDATOR HELIOS 300 AN515-45 (NH.QBRSI.0</td>\n",
       "      <td>WINDOWS 11 HOME OS\\n15.6\" (2560 X 1440) DISPLA...</td>\n",
       "      <td>Acer Predator Helios 300 AN515-45 is the best ...</td>\n",
       "    </tr>\n",
       "    <tr>\n",
       "      <th>5</th>\n",
       "      <td>6.\\nMSI DELTA 15 (A5EFK-083IN)</td>\n",
       "      <td>WINDOWS 11 HOME OS\\n15.6\" (1920 X 1080) DISPLA...</td>\n",
       "      <td>The best MSI gaming laptop with an AMD process...</td>\n",
       "    </tr>\n",
       "    <tr>\n",
       "      <th>6</th>\n",
       "      <td>7.\\nOMEN BY HP (16-C0141AX)</td>\n",
       "      <td>WINDOWS 11 HOME OS\\n16.1\" (2560 X 1440) DISPLA...</td>\n",
       "      <td>Another worthy gaming laptop from the Omen lin...</td>\n",
       "    </tr>\n",
       "    <tr>\n",
       "      <th>7</th>\n",
       "      <td>8.\\nLENOVO LEGION 5I PRO (82RF00MGIN)</td>\n",
       "      <td>WINDOWS 11 HOME OS\\n16\" (2560 X 1600) DISPLAY\\...</td>\n",
       "      <td>Lenovo has gone a little mainstream with their...</td>\n",
       "    </tr>\n",
       "    <tr>\n",
       "      <th>8</th>\n",
       "      <td>9.\\nALIENWARE M15 R5 RYZEN EDITION ICC-C780001WIN</td>\n",
       "      <td>WINDOWS 11 HOME OS\\n15.6\" (1920 X 1080) DISPLA...</td>\n",
       "      <td>Dell not only has gaming laptops under the Del...</td>\n",
       "    </tr>\n",
       "    <tr>\n",
       "      <th>9</th>\n",
       "      <td>10.\\nLENOVO SLIM 7 GEN 6 (82K8002JIN)</td>\n",
       "      <td>WINDOWS 11 HOME OS\\n15.6 MP | NA DISPLAY\\nLENO...</td>\n",
       "      <td>Lenovo has been pushing for thinner gaming lap...</td>\n",
       "    </tr>\n",
       "  </tbody>\n",
       "</table>\n",
       "</div>"
      ],
      "text/plain": [
       "                                              Laptop  \\\n",
       "0                           1.\\nMSI TITAN GT77-12UHS   \n",
       "1                               2.\\nALIENWARE X17 R2   \n",
       "2          3.\\nACER PREDATOR TRITON 500 SE PT516-52S   \n",
       "3                        4.\\nOMEN BY HP (16-B1371TX)   \n",
       "4  5.\\nACER PREDATOR HELIOS 300 AN515-45 (NH.QBRSI.0   \n",
       "5                     6.\\nMSI DELTA 15 (A5EFK-083IN)   \n",
       "6                        7.\\nOMEN BY HP (16-C0141AX)   \n",
       "7              8.\\nLENOVO LEGION 5I PRO (82RF00MGIN)   \n",
       "8  9.\\nALIENWARE M15 R5 RYZEN EDITION ICC-C780001WIN   \n",
       "9              10.\\nLENOVO SLIM 7 GEN 6 (82K8002JIN)   \n",
       "\n",
       "                                      Laptop Details  \\\n",
       "0  WINDOWS 11 HOME OS\\n17.3\" (3840 X 2160) DISPLA...   \n",
       "1  WINDOWS 11 HOME OS\\n17.3\" (1920X1080) DISPLAY\\...   \n",
       "2  WINDOWS 11 HOME OS\\n16\" (2560 X 1600) DISPLAY\\...   \n",
       "3  WINDOWS 11 HOME OS\\n16.1\" (2560 X 1440) DISPLA...   \n",
       "4  WINDOWS 11 HOME OS\\n15.6\" (2560 X 1440) DISPLA...   \n",
       "5  WINDOWS 11 HOME OS\\n15.6\" (1920 X 1080) DISPLA...   \n",
       "6  WINDOWS 11 HOME OS\\n16.1\" (2560 X 1440) DISPLA...   \n",
       "7  WINDOWS 11 HOME OS\\n16\" (2560 X 1600) DISPLAY\\...   \n",
       "8  WINDOWS 11 HOME OS\\n15.6\" (1920 X 1080) DISPLA...   \n",
       "9  WINDOWS 11 HOME OS\\n15.6 MP | NA DISPLAY\\nLENO...   \n",
       "\n",
       "                                  Laptop Description  \n",
       "0  The very best MSI gaming laptop featuring an I...  \n",
       "1  Alienware, the premium gaming brand from Dell ...  \n",
       "2  The Predator lineup from Acer has shown great ...  \n",
       "3  Omen by HP is a premium gaming lineup which is...  \n",
       "4  Acer Predator Helios 300 AN515-45 is the best ...  \n",
       "5  The best MSI gaming laptop with an AMD process...  \n",
       "6  Another worthy gaming laptop from the Omen lin...  \n",
       "7  Lenovo has gone a little mainstream with their...  \n",
       "8  Dell not only has gaming laptops under the Del...  \n",
       "9  Lenovo has been pushing for thinner gaming lap...  "
      ]
     },
     "execution_count": 144,
     "metadata": {},
     "output_type": "execute_result"
    }
   ],
   "source": [
    "import pandas as pd\n",
    "Best_Gaming_Laptop=pd.DataFrame()\n",
    "Best_Gaming_Laptop['Laptop']=Gaming_Laptop\n",
    "Best_Gaming_Laptop['Laptop Details']=Product_details\n",
    "Best_Gaming_Laptop['Laptop Description']=Laptop_Description\n",
    "Best_Gaming_Laptop"
   ]
  },
  {
   "cell_type": "code",
   "execution_count": 145,
   "id": "f26d9133",
   "metadata": {},
   "outputs": [],
   "source": [
    "driver.close()"
   ]
  },
  {
   "cell_type": "code",
   "execution_count": null,
   "id": "d3722763",
   "metadata": {},
   "outputs": [],
   "source": []
  },
  {
   "cell_type": "markdown",
   "id": "b41604fd",
   "metadata": {},
   "source": [
    "8. Write a python program to scrape the details for all billionaires from www.forbes.com. Details to be\n",
    "scrapped: “Rank”, “Name”, “Net worth”, “Age”, “Citizenship”, “Source”, “Industry”."
   ]
  },
  {
   "cell_type": "code",
   "execution_count": 150,
   "id": "2005e1fd",
   "metadata": {},
   "outputs": [],
   "source": [
    "driver  =  webdriver.Chrome(r'C:\\Users\\user\\Downloads\\chromedriver_win32 (1)\\chromedriver.exe')"
   ]
  },
  {
   "cell_type": "code",
   "execution_count": 151,
   "id": "ba3ab555",
   "metadata": {},
   "outputs": [],
   "source": [
    "driver.get('https://www.forbes.com/billionaires/')"
   ]
  },
  {
   "cell_type": "markdown",
   "id": "1d831ed5",
   "metadata": {},
   "source": [
    "details to be scrapped:\n",
    "- RANK\n",
    "- NAME\n",
    "- NET WORTH\n",
    "- AGE\n",
    "- CITIZENSHIP\n",
    "- SOURCE\n",
    "- INDUSTRY"
   ]
  },
  {
   "cell_type": "code",
   "execution_count": 152,
   "id": "64516450",
   "metadata": {},
   "outputs": [
    {
     "data": {
      "text/plain": [
       "200"
      ]
     },
     "execution_count": 152,
     "metadata": {},
     "output_type": "execute_result"
    }
   ],
   "source": [
    "rank=driver.find_elements(\"xpath\",'//div[@class=\"rank\"]')\n",
    "len(rank)"
   ]
  },
  {
   "cell_type": "code",
   "execution_count": 153,
   "id": "e522300a",
   "metadata": {},
   "outputs": [
    {
     "data": {
      "text/plain": [
       "200"
      ]
     },
     "execution_count": 153,
     "metadata": {},
     "output_type": "execute_result"
    }
   ],
   "source": [
    "Rank_of_Billionaries=[]\n",
    "for i in rank:\n",
    "    Rank_of_Billionaries.append(i.text)\n",
    "len(Rank_of_Billionaries)   "
   ]
  },
  {
   "cell_type": "code",
   "execution_count": 154,
   "id": "4d3c9a4e",
   "metadata": {},
   "outputs": [
    {
     "data": {
      "text/plain": [
       "['1.',\n",
       " '2.',\n",
       " '3.',\n",
       " '4.',\n",
       " '5.',\n",
       " '6.',\n",
       " '7.',\n",
       " '8.',\n",
       " '9.',\n",
       " '10.',\n",
       " '11.',\n",
       " '12.',\n",
       " '13.',\n",
       " '14.',\n",
       " '15.',\n",
       " '16.',\n",
       " '17.',\n",
       " '18.',\n",
       " '19.',\n",
       " '19.',\n",
       " '21.',\n",
       " '21.',\n",
       " '23.',\n",
       " '24.',\n",
       " '25.',\n",
       " '26.',\n",
       " '27.',\n",
       " '28.',\n",
       " '29.',\n",
       " '30.',\n",
       " '31.',\n",
       " '32.',\n",
       " '33.',\n",
       " '34.',\n",
       " '35.',\n",
       " '36.',\n",
       " '37.',\n",
       " '37.',\n",
       " '39.',\n",
       " '40.',\n",
       " '41.',\n",
       " '41.',\n",
       " '43.',\n",
       " '43.',\n",
       " '45.',\n",
       " '46.',\n",
       " '47.',\n",
       " '48.',\n",
       " '49.',\n",
       " '50.',\n",
       " '51.',\n",
       " '52.',\n",
       " '53.',\n",
       " '54.',\n",
       " '55.',\n",
       " '56.',\n",
       " '56.',\n",
       " '56.',\n",
       " '59.',\n",
       " '60.',\n",
       " '61.',\n",
       " '62.',\n",
       " '63.',\n",
       " '64.',\n",
       " '65.',\n",
       " '66.',\n",
       " '67.',\n",
       " '67.',\n",
       " '69.',\n",
       " '70.',\n",
       " '71.',\n",
       " '71.',\n",
       " '73.',\n",
       " '74.',\n",
       " '75.',\n",
       " '76.',\n",
       " '77.',\n",
       " '78.',\n",
       " '79.',\n",
       " '80.',\n",
       " '81.',\n",
       " '82.',\n",
       " '83.',\n",
       " '84.',\n",
       " '85.',\n",
       " '85.',\n",
       " '87.',\n",
       " '88.',\n",
       " '89.',\n",
       " '90.',\n",
       " '91.',\n",
       " '91.',\n",
       " '91.',\n",
       " '94.',\n",
       " '94.',\n",
       " '96.',\n",
       " '97.',\n",
       " '98.',\n",
       " '99.',\n",
       " '100.',\n",
       " '100.',\n",
       " '102.',\n",
       " '103.',\n",
       " '104.',\n",
       " '104.',\n",
       " '106.',\n",
       " '106.',\n",
       " '106.',\n",
       " '106.',\n",
       " '110.',\n",
       " '111.',\n",
       " '112.',\n",
       " '113.',\n",
       " '114.',\n",
       " '115.',\n",
       " '116.',\n",
       " '117.',\n",
       " '117.',\n",
       " '119.',\n",
       " '119.',\n",
       " '121.',\n",
       " '121.',\n",
       " '123.',\n",
       " '123.',\n",
       " '125.',\n",
       " '126.',\n",
       " '127.',\n",
       " '128.',\n",
       " '129.',\n",
       " '130.',\n",
       " '130.',\n",
       " '132.',\n",
       " '133.',\n",
       " '134.',\n",
       " '135.',\n",
       " '135.',\n",
       " '137.',\n",
       " '138.',\n",
       " '138.',\n",
       " '138.',\n",
       " '138.',\n",
       " '142.',\n",
       " '142.',\n",
       " '144.',\n",
       " '144.',\n",
       " '146.',\n",
       " '146.',\n",
       " '146.',\n",
       " '149.',\n",
       " '150.',\n",
       " '151.',\n",
       " '152.',\n",
       " '152.',\n",
       " '154.',\n",
       " '154.',\n",
       " '156.',\n",
       " '156.',\n",
       " '158.',\n",
       " '158.',\n",
       " '158.',\n",
       " '161.',\n",
       " '161.',\n",
       " '163.',\n",
       " '163.',\n",
       " '163.',\n",
       " '166.',\n",
       " '167.',\n",
       " '167.',\n",
       " '167.',\n",
       " '167.',\n",
       " '171.',\n",
       " '171.',\n",
       " '173.',\n",
       " '173.',\n",
       " '173.',\n",
       " '173.',\n",
       " '177.',\n",
       " '177.',\n",
       " '179.',\n",
       " '180.',\n",
       " '180.',\n",
       " '180.',\n",
       " '183.',\n",
       " '183.',\n",
       " '185.',\n",
       " '185.',\n",
       " '185.',\n",
       " '188.',\n",
       " '188.',\n",
       " '188.',\n",
       " '191.',\n",
       " '192.',\n",
       " '192.',\n",
       " '192.',\n",
       " '192.',\n",
       " '192.',\n",
       " '197.',\n",
       " '197.',\n",
       " '197.',\n",
       " '197.']"
      ]
     },
     "execution_count": 154,
     "metadata": {},
     "output_type": "execute_result"
    }
   ],
   "source": [
    "Rank_of_Billionaries"
   ]
  },
  {
   "cell_type": "code",
   "execution_count": 155,
   "id": "a88c1d4c",
   "metadata": {},
   "outputs": [
    {
     "data": {
      "text/plain": [
       "200"
      ]
     },
     "execution_count": 155,
     "metadata": {},
     "output_type": "execute_result"
    }
   ],
   "source": [
    "Name=driver.find_elements(\"xpath\",'//div[@class=\"personName\"]')\n",
    "len(Name)"
   ]
  },
  {
   "cell_type": "code",
   "execution_count": 156,
   "id": "32971704",
   "metadata": {},
   "outputs": [
    {
     "data": {
      "text/plain": [
       "200"
      ]
     },
     "execution_count": 156,
     "metadata": {},
     "output_type": "execute_result"
    }
   ],
   "source": [
    "Billionaries_Name=[]\n",
    "for i in Name:\n",
    "    Billionaries_Name.append(i.text)\n",
    "len(Billionaries_Name)    "
   ]
  },
  {
   "cell_type": "code",
   "execution_count": 157,
   "id": "f77b561e",
   "metadata": {},
   "outputs": [
    {
     "data": {
      "text/plain": [
       "['Elon Musk',\n",
       " 'Jeff Bezos',\n",
       " 'Bernard Arnault & family',\n",
       " 'Bill Gates',\n",
       " 'Warren Buffett',\n",
       " 'Larry Page',\n",
       " 'Sergey Brin',\n",
       " 'Larry Ellison',\n",
       " 'Steve Ballmer',\n",
       " 'Mukesh Ambani',\n",
       " 'Gautam Adani & family',\n",
       " 'Michael Bloomberg',\n",
       " 'Carlos Slim Helu & family',\n",
       " 'Francoise Bettencourt Meyers & family',\n",
       " 'Mark Zuckerberg',\n",
       " 'Jim Walton',\n",
       " 'Zhong Shanshan',\n",
       " 'Alice Walton',\n",
       " 'Rob Walton',\n",
       " 'Changpeng Zhao',\n",
       " 'Charles Koch',\n",
       " 'Julia Koch & family',\n",
       " 'Amancio Ortega',\n",
       " 'Michael Dell',\n",
       " 'Zhang Yiming',\n",
       " 'David Thomson & family',\n",
       " 'Phil Knight & family',\n",
       " 'Dieter Schwarz',\n",
       " 'Robin Zeng',\n",
       " 'MacKenzie Scott',\n",
       " 'Rodolphe Saadé & family',\n",
       " 'François Pinault & family',\n",
       " 'Klaus-Michael Kuehne',\n",
       " 'Ma Huateng',\n",
       " 'Beate Heister & Karl Albrecht Jr. & family',\n",
       " 'Giovanni Ferrero',\n",
       " 'Li Ka-shing',\n",
       " 'Stephen Schwarzman',\n",
       " 'Lee Shau Kee',\n",
       " 'Len Blavatnik',\n",
       " 'Jacqueline Mars',\n",
       " 'John Mars',\n",
       " 'Alain Wertheimer',\n",
       " 'Gerard Wertheimer',\n",
       " 'German Larrea Mota Velasco & family',\n",
       " 'Gina Rinehart',\n",
       " 'Shiv Nadar',\n",
       " 'Jim Simons',\n",
       " 'He Xiangjian',\n",
       " 'Miriam Adelson',\n",
       " 'Dietrich Mateschitz',\n",
       " 'Leonardo Del Vecchio & family',\n",
       " 'Ken Griffin',\n",
       " 'Tadashi Yanai & family',\n",
       " 'William Lei Ding',\n",
       " 'Susanne Klatten',\n",
       " 'Cyrus Poonawalla',\n",
       " 'Wang Wei',\n",
       " 'Qin Yinglin',\n",
       " 'Sam Bankman-Fried',\n",
       " 'Takemitsu Takizaki',\n",
       " 'Li Shufu',\n",
       " 'Emmanuel Besnier',\n",
       " 'R. Budi Hartono',\n",
       " 'Leonard Lauder',\n",
       " 'Guillaume Pousaz',\n",
       " 'Iris Fontbona & family',\n",
       " 'Jack Ma',\n",
       " 'Michael Hartono',\n",
       " 'Eric Schmidt',\n",
       " 'Ray Dalio',\n",
       " 'Daniel Gilbert',\n",
       " 'Thomas Frist, Jr. & family',\n",
       " 'Masayoshi Son',\n",
       " 'Abigail Johnson',\n",
       " 'Rupert Murdoch & family',\n",
       " 'Stefan Quandt',\n",
       " 'Jensen Huang',\n",
       " 'Huang Shilin',\n",
       " 'Thomas Peterffy',\n",
       " 'Radhakishan Damani',\n",
       " 'Pang Kang',\n",
       " 'Wang Chuanfu',\n",
       " 'Reinhold Wuerth & family',\n",
       " 'Theo Albrecht, Jr. & family',\n",
       " 'Yang Huiyan & family',\n",
       " 'Vladimir Lisin',\n",
       " 'Fan Hongwei & family',\n",
       " 'Lakshmi Mittal',\n",
       " 'Andrew Forrest',\n",
       " 'Jiang Rensheng & family',\n",
       " 'Savitri Jindal & family',\n",
       " 'Wang Wenyin',\n",
       " 'Li Xiting',\n",
       " 'Stefan Persson',\n",
       " 'Steve Cohen',\n",
       " 'Vladimir Potanin',\n",
       " 'Harold Hamm & family',\n",
       " 'Sun Piaoyang',\n",
       " 'Luo Liguo & family',\n",
       " 'Peter Woo',\n",
       " 'Gianluigi & Rafaela Aponte',\n",
       " 'David Tepper',\n",
       " 'Renata Kellnerova & family',\n",
       " 'John Menard, Jr.',\n",
       " 'Kumar Birla',\n",
       " 'Carl Icahn',\n",
       " 'Hank & Doug Meijer',\n",
       " 'Lukas Walton',\n",
       " 'Laurene Powell Jobs & family',\n",
       " 'James Ratcliffe',\n",
       " 'Donald Bren',\n",
       " 'Xu Hang',\n",
       " 'Lu Xiangyang',\n",
       " 'Dilip Shanghvi',\n",
       " 'Wei Jianjun & family',\n",
       " 'Jorge Paulo Lemann & family',\n",
       " 'Eyal Ofer',\n",
       " 'Mike Cannon-Brookes',\n",
       " 'Wu Yajun',\n",
       " 'Charlene de Carvalho-Heineken & family',\n",
       " 'Michael Platt',\n",
       " 'Pavel Durov',\n",
       " 'Scott Farquhar',\n",
       " 'Pallonji Mistry',\n",
       " 'Dang Yanbao',\n",
       " 'Robert Pera',\n",
       " 'Donald Newhouse',\n",
       " 'Uday Kotak',\n",
       " 'Aliko Dangote',\n",
       " 'Leonid Mikhelson',\n",
       " 'Sunil Mittal & family',\n",
       " 'Robert & Philip Ng',\n",
       " 'Liu Hanyuan',\n",
       " 'Joseph Lau',\n",
       " 'Anders Holch Povlsen',\n",
       " 'Dhanin Chearavanont',\n",
       " 'Gong Hongjia & family',\n",
       " 'Liu Yongxing',\n",
       " 'Alexey Mordashov',\n",
       " 'Wang Jianlin',\n",
       " 'David Duffield',\n",
       " 'Li Zhenguo & family',\n",
       " 'Harry Triguboff',\n",
       " 'Zhang Zhidong',\n",
       " 'Chen Bang',\n",
       " 'John Doerr',\n",
       " 'Hinduja brothers',\n",
       " 'Kwong Siu-hing',\n",
       " 'Pei Zhenhua',\n",
       " 'Ricardo Salinas Pliego & family',\n",
       " 'Jim Pattison',\n",
       " 'Charles Schwab',\n",
       " 'Goh Cheng Liang',\n",
       " 'Lin Jianhua & family',\n",
       " 'Charoen Sirivadhanabhakdi',\n",
       " 'Jeff Yass',\n",
       " 'John Fredriksen',\n",
       " 'Andreas Struengmann & family',\n",
       " 'Thomas Struengmann & family',\n",
       " 'Mikhail Fridman',\n",
       " 'Sarath Ratanavadi',\n",
       " 'Robert Kuok',\n",
       " 'Lei Jun',\n",
       " 'Zhang Congyuan',\n",
       " 'Lui Che Woo',\n",
       " 'Brian Chesky',\n",
       " 'Israel Englander',\n",
       " 'Dustin Moskovitz',\n",
       " 'Alisher Usmanov',\n",
       " 'Jay Chaudhry',\n",
       " 'Anthony Pratt',\n",
       " 'Colin Zheng Huang',\n",
       " 'Jin Baofang',\n",
       " 'Pierre Omidyar',\n",
       " 'Gennady Timchenko',\n",
       " 'Carl Cook',\n",
       " 'Andrey Melnichenko',\n",
       " 'Xing Wang',\n",
       " 'Philip Anschutz',\n",
       " 'David Cheriton',\n",
       " 'Alexander Otto',\n",
       " 'Diane Hendricks',\n",
       " 'Stanley Kroenke',\n",
       " 'Jerry Jones',\n",
       " 'Quek Leng Chan',\n",
       " 'Eduardo Saverin',\n",
       " 'Vagit Alekperov',\n",
       " 'Richard Liu',\n",
       " 'Idan Ofer',\n",
       " 'Melker Schorling & family',\n",
       " 'Chase Coleman, III.',\n",
       " 'Shuirong Li',\n",
       " 'Stefano Pessina',\n",
       " 'Mikhail Prokhorov',\n",
       " 'Marcel Herrmann Telles',\n",
       " 'Leon Black',\n",
       " 'Joe Gebbia',\n",
       " 'David Geffen',\n",
       " 'Yu Renrong']"
      ]
     },
     "execution_count": 157,
     "metadata": {},
     "output_type": "execute_result"
    }
   ],
   "source": [
    "Billionaries_Name"
   ]
  },
  {
   "cell_type": "code",
   "execution_count": 158,
   "id": "1121ed25",
   "metadata": {},
   "outputs": [
    {
     "data": {
      "text/plain": [
       "200"
      ]
     },
     "execution_count": 158,
     "metadata": {},
     "output_type": "execute_result"
    }
   ],
   "source": [
    "net_worth=driver.find_elements(\"xpath\",'//div[@class=\"netWorth\"]')\n",
    "len(net_worth)"
   ]
  },
  {
   "cell_type": "code",
   "execution_count": 159,
   "id": "f3812a18",
   "metadata": {},
   "outputs": [
    {
     "data": {
      "text/plain": [
       "200"
      ]
     },
     "execution_count": 159,
     "metadata": {},
     "output_type": "execute_result"
    }
   ],
   "source": [
    "Net_Worth=[]\n",
    "for i in net_worth:\n",
    "    Net_Worth.append(i.text)\n",
    "len(Net_Worth)    "
   ]
  },
  {
   "cell_type": "code",
   "execution_count": 160,
   "id": "8e454330",
   "metadata": {},
   "outputs": [
    {
     "data": {
      "text/plain": [
       "['$219 B',\n",
       " '$171 B',\n",
       " '$158 B',\n",
       " '$129 B',\n",
       " '$118 B',\n",
       " '$111 B',\n",
       " '$107 B',\n",
       " '$106 B',\n",
       " '$91.4 B',\n",
       " '$90.7 B',\n",
       " '$90 B',\n",
       " '$82 B',\n",
       " '$81.2 B',\n",
       " '$74.8 B',\n",
       " '$67.3 B',\n",
       " '$66.2 B',\n",
       " '$65.7 B',\n",
       " '$65.3 B',\n",
       " '$65 B',\n",
       " '$65 B',\n",
       " '$60 B',\n",
       " '$60 B',\n",
       " '$59.6 B',\n",
       " '$55.1 B',\n",
       " '$50 B',\n",
       " '$49.2 B',\n",
       " '$47.3 B',\n",
       " '$47.1 B',\n",
       " '$44.8 B',\n",
       " '$43.6 B',\n",
       " '$41.4 B',\n",
       " '$40.4 B',\n",
       " '$37.3 B',\n",
       " '$37.2 B',\n",
       " '$36.8 B',\n",
       " '$36.2 B',\n",
       " '$34.8 B',\n",
       " '$34.8 B',\n",
       " '$32.6 B',\n",
       " '$32.5 B',\n",
       " '$31.7 B',\n",
       " '$31.7 B',\n",
       " '$31.2 B',\n",
       " '$31.2 B',\n",
       " '$30.8 B',\n",
       " '$30.2 B',\n",
       " '$28.7 B',\n",
       " '$28.6 B',\n",
       " '$28.3 B',\n",
       " '$27.5 B',\n",
       " '$27.4 B',\n",
       " '$27.3 B',\n",
       " '$27.2 B',\n",
       " '$26.1 B',\n",
       " '$25.2 B',\n",
       " '$24.3 B',\n",
       " '$24.3 B',\n",
       " '$24.3 B',\n",
       " '$24.1 B',\n",
       " '$24 B',\n",
       " '$23.9 B',\n",
       " '$23.7 B',\n",
       " '$23.5 B',\n",
       " '$23.2 B',\n",
       " '$23.1 B',\n",
       " '$23 B',\n",
       " '$22.8 B',\n",
       " '$22.8 B',\n",
       " '$22.3 B',\n",
       " '$22.1 B',\n",
       " '$22 B',\n",
       " '$22 B',\n",
       " '$21.8 B',\n",
       " '$21.3 B',\n",
       " '$21.2 B',\n",
       " '$20.8 B',\n",
       " '$20.7 B',\n",
       " '$20.6 B',\n",
       " '$20.3 B',\n",
       " '$20.1 B',\n",
       " '$20 B',\n",
       " '$19.6 B',\n",
       " '$19.5 B',\n",
       " '$19 B',\n",
       " '$18.7 B',\n",
       " '$18.7 B',\n",
       " '$18.4 B',\n",
       " '$18.2 B',\n",
       " '$17.9 B',\n",
       " '$17.8 B',\n",
       " '$17.7 B',\n",
       " '$17.7 B',\n",
       " '$17.7 B',\n",
       " '$17.6 B',\n",
       " '$17.6 B',\n",
       " '$17.4 B',\n",
       " '$17.3 B',\n",
       " '$17.2 B',\n",
       " '$17.1 B',\n",
       " '$17 B',\n",
       " '$17 B',\n",
       " '$16.8 B',\n",
       " '$16.7 B',\n",
       " '$16.6 B',\n",
       " '$16.6 B',\n",
       " '$16.5 B',\n",
       " '$16.5 B',\n",
       " '$16.5 B',\n",
       " '$16.5 B',\n",
       " '$16.4 B',\n",
       " '$16.3 B',\n",
       " '$16.2 B',\n",
       " '$16.1 B',\n",
       " '$15.7 B',\n",
       " '$15.6 B',\n",
       " '$15.5 B',\n",
       " '$15.4 B',\n",
       " '$15.4 B',\n",
       " '$15.3 B',\n",
       " '$15.3 B',\n",
       " '$15.2 B',\n",
       " '$15.2 B',\n",
       " '$15.1 B',\n",
       " '$15.1 B',\n",
       " '$15 B',\n",
       " '$14.8 B',\n",
       " '$14.6 B',\n",
       " '$14.4 B',\n",
       " '$14.3 B',\n",
       " '$14 B',\n",
       " '$14 B',\n",
       " '$13.9 B',\n",
       " '$13.7 B',\n",
       " '$13.65 B',\n",
       " '$13.6 B',\n",
       " '$13.6 B',\n",
       " '$13.5 B',\n",
       " '$13.2 B',\n",
       " '$13.2 B',\n",
       " '$13.2 B',\n",
       " '$13.2 B',\n",
       " '$12.9 B',\n",
       " '$12.9 B',\n",
       " '$12.8 B',\n",
       " '$12.8 B',\n",
       " '$12.7 B',\n",
       " '$12.7 B',\n",
       " '$12.7 B',\n",
       " '$12.6 B',\n",
       " '$12.5 B',\n",
       " '$12.4 B',\n",
       " '$12.2 B',\n",
       " '$12.2 B',\n",
       " '$12.1 B',\n",
       " '$12.1 B',\n",
       " '$12 B',\n",
       " '$12 B',\n",
       " '$11.9 B',\n",
       " '$11.9 B',\n",
       " '$11.9 B',\n",
       " '$11.8 B',\n",
       " '$11.8 B',\n",
       " '$11.7 B',\n",
       " '$11.7 B',\n",
       " '$11.7 B',\n",
       " '$11.6 B',\n",
       " '$11.5 B',\n",
       " '$11.5 B',\n",
       " '$11.5 B',\n",
       " '$11.5 B',\n",
       " '$11.4 B',\n",
       " '$11.4 B',\n",
       " '$11.3 B',\n",
       " '$11.3 B',\n",
       " '$11.3 B',\n",
       " '$11.3 B',\n",
       " '$11.1 B',\n",
       " '$11.1 B',\n",
       " '$11 B',\n",
       " '$10.9 B',\n",
       " '$10.9 B',\n",
       " '$10.9 B',\n",
       " '$10.7 B',\n",
       " '$10.7 B',\n",
       " '$10.6 B',\n",
       " '$10.6 B',\n",
       " '$10.6 B',\n",
       " '$10.5 B',\n",
       " '$10.5 B',\n",
       " '$10.5 B',\n",
       " '$10.4 B',\n",
       " '$10.3 B',\n",
       " '$10.3 B',\n",
       " '$10.3 B',\n",
       " '$10.3 B',\n",
       " '$10.3 B',\n",
       " '$10 B',\n",
       " '$10 B',\n",
       " '$10 B',\n",
       " '$10 B']"
      ]
     },
     "execution_count": 160,
     "metadata": {},
     "output_type": "execute_result"
    }
   ],
   "source": [
    "Net_Worth"
   ]
  },
  {
   "cell_type": "code",
   "execution_count": 161,
   "id": "e42a5da9",
   "metadata": {},
   "outputs": [
    {
     "data": {
      "text/plain": [
       "200"
      ]
     },
     "execution_count": 161,
     "metadata": {},
     "output_type": "execute_result"
    }
   ],
   "source": [
    "age=driver.find_elements(\"xpath\",'//div[@class=\"age\"]')\n",
    "len(age)"
   ]
  },
  {
   "cell_type": "code",
   "execution_count": 162,
   "id": "10de5ea6",
   "metadata": {},
   "outputs": [
    {
     "data": {
      "text/plain": [
       "200"
      ]
     },
     "execution_count": 162,
     "metadata": {},
     "output_type": "execute_result"
    }
   ],
   "source": [
    "Age=[]\n",
    "for i in age:\n",
    "    Age.append(i.text)\n",
    "len(Age)    "
   ]
  },
  {
   "cell_type": "code",
   "execution_count": 163,
   "id": "f28d8468",
   "metadata": {},
   "outputs": [
    {
     "data": {
      "text/plain": [
       "['50',\n",
       " '58',\n",
       " '73',\n",
       " '66',\n",
       " '91',\n",
       " '49',\n",
       " '48',\n",
       " '77',\n",
       " '66',\n",
       " '64',\n",
       " '59',\n",
       " '80',\n",
       " '82',\n",
       " '68',\n",
       " '37',\n",
       " '73',\n",
       " '67',\n",
       " '72',\n",
       " '77',\n",
       " '44',\n",
       " '86',\n",
       " '59',\n",
       " '86',\n",
       " '57',\n",
       " '38',\n",
       " '64',\n",
       " '84',\n",
       " '82',\n",
       " '53',\n",
       " '51',\n",
       " '52',\n",
       " '85',\n",
       " '84',\n",
       " '50',\n",
       " 'N/A',\n",
       " '57',\n",
       " '93',\n",
       " '75',\n",
       " '94',\n",
       " '64',\n",
       " '82',\n",
       " '86',\n",
       " '73',\n",
       " '71',\n",
       " '68',\n",
       " '68',\n",
       " '76',\n",
       " '83',\n",
       " '79',\n",
       " '76',\n",
       " '77',\n",
       " '86',\n",
       " '53',\n",
       " '73',\n",
       " '50',\n",
       " '59',\n",
       " '80',\n",
       " '51',\n",
       " '56',\n",
       " '30',\n",
       " '76',\n",
       " '58',\n",
       " '51',\n",
       " '81',\n",
       " '89',\n",
       " '40',\n",
       " '79',\n",
       " '57',\n",
       " '82',\n",
       " '66',\n",
       " '72',\n",
       " '60',\n",
       " '83',\n",
       " '64',\n",
       " '60',\n",
       " '91',\n",
       " '55',\n",
       " '59',\n",
       " '55',\n",
       " '77',\n",
       " '67',\n",
       " '66',\n",
       " '56',\n",
       " '86',\n",
       " '71',\n",
       " '40',\n",
       " '65',\n",
       " '55',\n",
       " '71',\n",
       " '60',\n",
       " '68',\n",
       " '72',\n",
       " '54',\n",
       " '71',\n",
       " '74',\n",
       " '65',\n",
       " '61',\n",
       " '76',\n",
       " '63',\n",
       " '66',\n",
       " '75',\n",
       " '81',\n",
       " '64',\n",
       " '54',\n",
       " '82',\n",
       " '54',\n",
       " '86',\n",
       " 'N/A',\n",
       " '35',\n",
       " '58',\n",
       " '69',\n",
       " '89',\n",
       " '55',\n",
       " '59',\n",
       " '66',\n",
       " '58',\n",
       " '82',\n",
       " '71',\n",
       " '42',\n",
       " '58',\n",
       " '67',\n",
       " '54',\n",
       " '37',\n",
       " '42',\n",
       " '92',\n",
       " '49',\n",
       " '44',\n",
       " '92',\n",
       " '63',\n",
       " '64',\n",
       " '66',\n",
       " '64',\n",
       " 'N/A',\n",
       " '58',\n",
       " '70',\n",
       " '49',\n",
       " '82',\n",
       " '57',\n",
       " '73',\n",
       " '56',\n",
       " '67',\n",
       " '81',\n",
       " '54',\n",
       " '89',\n",
       " '50',\n",
       " '56',\n",
       " '70',\n",
       " 'N/A',\n",
       " '92',\n",
       " '63',\n",
       " '66',\n",
       " '93',\n",
       " '84',\n",
       " '94',\n",
       " '59',\n",
       " '77',\n",
       " '63',\n",
       " '77',\n",
       " '72',\n",
       " '72',\n",
       " '57',\n",
       " '56',\n",
       " '98',\n",
       " '52',\n",
       " '74',\n",
       " '93',\n",
       " '40',\n",
       " '73',\n",
       " '37',\n",
       " '68',\n",
       " '62',\n",
       " '61',\n",
       " '42',\n",
       " '69',\n",
       " '54',\n",
       " '69',\n",
       " '59',\n",
       " '50',\n",
       " '43',\n",
       " '82',\n",
       " '71',\n",
       " '54',\n",
       " '75',\n",
       " '74',\n",
       " '79',\n",
       " '80',\n",
       " '40',\n",
       " '71',\n",
       " '48',\n",
       " '66',\n",
       " '74',\n",
       " '46',\n",
       " '65',\n",
       " '80',\n",
       " '56',\n",
       " '72',\n",
       " '70',\n",
       " '40',\n",
       " '79',\n",
       " '56']"
      ]
     },
     "execution_count": 163,
     "metadata": {},
     "output_type": "execute_result"
    }
   ],
   "source": [
    "Age"
   ]
  },
  {
   "cell_type": "code",
   "execution_count": 164,
   "id": "9db784c2",
   "metadata": {},
   "outputs": [
    {
     "data": {
      "text/plain": [
       "200"
      ]
     },
     "execution_count": 164,
     "metadata": {},
     "output_type": "execute_result"
    }
   ],
   "source": [
    "citizenship=driver.find_elements(\"xpath\",'//div[@class=\"countryOfCitizenship\"]')\n",
    "len(citizenship)"
   ]
  },
  {
   "cell_type": "code",
   "execution_count": 165,
   "id": "5064733e",
   "metadata": {},
   "outputs": [
    {
     "data": {
      "text/plain": [
       "200"
      ]
     },
     "execution_count": 165,
     "metadata": {},
     "output_type": "execute_result"
    }
   ],
   "source": [
    "Citizenship=[]\n",
    "for i in citizenship:\n",
    "    Citizenship.append(i.text)\n",
    "len(Citizenship)    "
   ]
  },
  {
   "cell_type": "code",
   "execution_count": 166,
   "id": "64416585",
   "metadata": {},
   "outputs": [
    {
     "data": {
      "text/plain": [
       "['United States',\n",
       " 'United States',\n",
       " 'France',\n",
       " 'United States',\n",
       " 'United States',\n",
       " 'United States',\n",
       " 'United States',\n",
       " 'United States',\n",
       " 'United States',\n",
       " 'India',\n",
       " 'India',\n",
       " 'United States',\n",
       " 'Mexico',\n",
       " 'France',\n",
       " 'United States',\n",
       " 'United States',\n",
       " 'China',\n",
       " 'United States',\n",
       " 'United States',\n",
       " 'Canada',\n",
       " 'United States',\n",
       " 'United States',\n",
       " 'Spain',\n",
       " 'United States',\n",
       " 'China',\n",
       " 'Canada',\n",
       " 'United States',\n",
       " 'Germany',\n",
       " 'Hong Kong',\n",
       " 'United States',\n",
       " 'France',\n",
       " 'France',\n",
       " 'Germany',\n",
       " 'China',\n",
       " 'Germany',\n",
       " 'Italy',\n",
       " 'Hong Kong',\n",
       " 'United States',\n",
       " 'Hong Kong',\n",
       " 'United States',\n",
       " 'United States',\n",
       " 'United States',\n",
       " 'France',\n",
       " 'France',\n",
       " 'Mexico',\n",
       " 'Australia',\n",
       " 'India',\n",
       " 'United States',\n",
       " 'China',\n",
       " 'United States',\n",
       " 'Austria',\n",
       " 'Italy',\n",
       " 'United States',\n",
       " 'Japan',\n",
       " 'China',\n",
       " 'Germany',\n",
       " 'India',\n",
       " 'China',\n",
       " 'China',\n",
       " 'United States',\n",
       " 'Japan',\n",
       " 'China',\n",
       " 'France',\n",
       " 'Indonesia',\n",
       " 'United States',\n",
       " 'Switzerland',\n",
       " 'Chile',\n",
       " 'China',\n",
       " 'Indonesia',\n",
       " 'United States',\n",
       " 'United States',\n",
       " 'United States',\n",
       " 'United States',\n",
       " 'Japan',\n",
       " 'United States',\n",
       " 'United States',\n",
       " 'Germany',\n",
       " 'United States',\n",
       " 'China',\n",
       " 'United States',\n",
       " 'India',\n",
       " 'China',\n",
       " 'China',\n",
       " 'Germany',\n",
       " 'Germany',\n",
       " 'China',\n",
       " 'Russia',\n",
       " 'China',\n",
       " 'India',\n",
       " 'Australia',\n",
       " 'China',\n",
       " 'India',\n",
       " 'China',\n",
       " 'Singapore',\n",
       " 'Sweden',\n",
       " 'United States',\n",
       " 'Russia',\n",
       " 'United States',\n",
       " 'China',\n",
       " 'China',\n",
       " 'Hong Kong',\n",
       " 'Switzerland',\n",
       " 'United States',\n",
       " 'Czechia',\n",
       " 'United States',\n",
       " 'India',\n",
       " 'United States',\n",
       " 'United States',\n",
       " 'United States',\n",
       " 'United States',\n",
       " 'United Kingdom',\n",
       " 'United States',\n",
       " 'Hong Kong',\n",
       " 'China',\n",
       " 'India',\n",
       " 'China',\n",
       " 'Brazil',\n",
       " 'Israel',\n",
       " 'Australia',\n",
       " 'China',\n",
       " 'Netherlands',\n",
       " 'United Kingdom',\n",
       " 'United Arab Emirates',\n",
       " 'Australia',\n",
       " 'Ireland',\n",
       " 'China',\n",
       " 'United States',\n",
       " 'United States',\n",
       " 'India',\n",
       " 'Nigeria',\n",
       " 'Russia',\n",
       " 'India',\n",
       " 'Singapore',\n",
       " 'China',\n",
       " 'Hong Kong',\n",
       " 'Denmark',\n",
       " 'Thailand',\n",
       " 'Hong Kong',\n",
       " 'China',\n",
       " 'Russia',\n",
       " 'China',\n",
       " 'United States',\n",
       " 'China',\n",
       " 'Australia',\n",
       " 'China',\n",
       " 'China',\n",
       " 'United States',\n",
       " 'United Kingdom',\n",
       " 'Hong Kong',\n",
       " 'China',\n",
       " 'Mexico',\n",
       " 'Canada',\n",
       " 'United States',\n",
       " 'Singapore',\n",
       " 'China',\n",
       " 'Thailand',\n",
       " 'United States',\n",
       " 'Cyprus',\n",
       " 'Germany',\n",
       " 'Germany',\n",
       " 'Russia',\n",
       " 'Thailand',\n",
       " 'Malaysia',\n",
       " 'China',\n",
       " 'Taiwan',\n",
       " 'Hong Kong',\n",
       " 'United States',\n",
       " 'United States',\n",
       " 'United States',\n",
       " 'Russia',\n",
       " 'United States',\n",
       " 'Australia',\n",
       " 'China',\n",
       " 'China',\n",
       " 'United States',\n",
       " 'Russia',\n",
       " 'United States',\n",
       " 'Russia',\n",
       " 'China',\n",
       " 'United States',\n",
       " 'Canada',\n",
       " 'Germany',\n",
       " 'United States',\n",
       " 'United States',\n",
       " 'United States',\n",
       " 'Malaysia',\n",
       " 'Brazil',\n",
       " 'Russia',\n",
       " 'China',\n",
       " 'Israel',\n",
       " 'Sweden',\n",
       " 'United States',\n",
       " 'China',\n",
       " 'Monaco',\n",
       " 'Russia',\n",
       " 'Brazil',\n",
       " 'United States',\n",
       " 'United States',\n",
       " 'United States',\n",
       " 'China']"
      ]
     },
     "execution_count": 166,
     "metadata": {},
     "output_type": "execute_result"
    }
   ],
   "source": [
    "Citizenship"
   ]
  },
  {
   "cell_type": "code",
   "execution_count": 167,
   "id": "37bc3969",
   "metadata": {},
   "outputs": [
    {
     "data": {
      "text/plain": [
       "200"
      ]
     },
     "execution_count": 167,
     "metadata": {},
     "output_type": "execute_result"
    }
   ],
   "source": [
    "source=driver.find_elements(\"xpath\",'//div[@class=\"source\"]')\n",
    "len(source)"
   ]
  },
  {
   "cell_type": "code",
   "execution_count": 168,
   "id": "98a7fc40",
   "metadata": {},
   "outputs": [
    {
     "data": {
      "text/plain": [
       "200"
      ]
     },
     "execution_count": 168,
     "metadata": {},
     "output_type": "execute_result"
    }
   ],
   "source": [
    "Source=[]\n",
    "for i in source:\n",
    "    Source.append(i.text)\n",
    "len(Source)    "
   ]
  },
  {
   "cell_type": "code",
   "execution_count": 169,
   "id": "e80a9e27",
   "metadata": {},
   "outputs": [
    {
     "data": {
      "text/plain": [
       "['Tesla, SpaceX',\n",
       " 'Amazon',\n",
       " 'LVMH',\n",
       " 'Microsoft',\n",
       " 'Berkshire Hathaway',\n",
       " 'Google',\n",
       " 'Google',\n",
       " 'software',\n",
       " 'Microsoft',\n",
       " 'diversified',\n",
       " 'infrastructure, commodities',\n",
       " 'Bloomberg LP',\n",
       " 'telecom',\n",
       " \"L'Oréal\",\n",
       " 'Facebook',\n",
       " 'Walmart',\n",
       " 'beverages, pharmaceuticals',\n",
       " 'Walmart',\n",
       " 'Walmart',\n",
       " 'cryptocurrency exchange',\n",
       " 'Koch Industries',\n",
       " 'Koch Industries',\n",
       " 'Zara',\n",
       " 'Dell computers',\n",
       " 'TikTok',\n",
       " 'media',\n",
       " 'Nike',\n",
       " 'retail',\n",
       " 'batteries',\n",
       " 'Amazon',\n",
       " 'shipping',\n",
       " 'luxury goods',\n",
       " 'shipping',\n",
       " 'internet media',\n",
       " 'supermarkets',\n",
       " 'Nutella, chocolates',\n",
       " 'diversified',\n",
       " 'investments',\n",
       " 'real estate',\n",
       " 'music, chemicals',\n",
       " 'candy, pet food',\n",
       " 'candy, pet food',\n",
       " 'Chanel',\n",
       " 'Chanel',\n",
       " 'mining',\n",
       " 'mining',\n",
       " 'software services',\n",
       " 'hedge funds',\n",
       " 'home appliances',\n",
       " 'casinos',\n",
       " 'Red Bull',\n",
       " 'eyeglasses',\n",
       " 'hedge funds',\n",
       " 'fashion retail',\n",
       " 'online games',\n",
       " 'BMW, pharmaceuticals',\n",
       " 'vaccines',\n",
       " 'package delivery',\n",
       " 'pig breeding',\n",
       " 'cryptocurrency exchange',\n",
       " 'sensors',\n",
       " 'automobiles',\n",
       " 'cheese',\n",
       " 'banking, tobacco',\n",
       " 'Estee Lauder',\n",
       " 'fintech',\n",
       " 'mining',\n",
       " 'e-commerce',\n",
       " 'banking, tobacco',\n",
       " 'Google',\n",
       " 'hedge funds',\n",
       " 'Quicken Loans',\n",
       " 'hospitals',\n",
       " 'internet, telecom',\n",
       " 'money management',\n",
       " 'newspapers, TV network',\n",
       " 'BMW',\n",
       " 'semiconductors',\n",
       " 'batteries',\n",
       " 'discount brokerage',\n",
       " 'retail, investments',\n",
       " 'soy sauce',\n",
       " 'batteries, automobiles',\n",
       " 'fasteners',\n",
       " \"Aldi, Trader Joe's\",\n",
       " 'real estate',\n",
       " 'steel, transport',\n",
       " 'petrochemicals',\n",
       " 'steel',\n",
       " 'mining',\n",
       " 'vaccines',\n",
       " 'steel',\n",
       " 'mining, copper products',\n",
       " 'medical devices',\n",
       " 'H&M',\n",
       " 'hedge funds',\n",
       " 'metals',\n",
       " 'oil & gas',\n",
       " 'pharmaceuticals',\n",
       " 'chemicals',\n",
       " 'real estate',\n",
       " 'Shipping',\n",
       " 'hedge funds',\n",
       " 'finance, telecommunications',\n",
       " 'home improvement stores',\n",
       " 'commodities',\n",
       " 'investments',\n",
       " 'supermarkets',\n",
       " 'Walmart',\n",
       " 'Apple, Disney',\n",
       " 'chemicals',\n",
       " 'real estate',\n",
       " 'medical devices',\n",
       " 'automobiles, batteries',\n",
       " 'pharmaceuticals',\n",
       " 'automobiles',\n",
       " 'beer',\n",
       " 'real estate, shipping',\n",
       " 'software',\n",
       " 'real estate',\n",
       " 'Heineken',\n",
       " 'hedge funds',\n",
       " 'messaging app',\n",
       " 'software',\n",
       " 'construction',\n",
       " 'coal',\n",
       " 'wireless networking gear',\n",
       " 'media',\n",
       " 'banking',\n",
       " 'cement, sugar',\n",
       " 'gas, chemicals',\n",
       " 'telecom',\n",
       " 'real estate',\n",
       " 'agribusiness',\n",
       " 'real estate',\n",
       " 'fashion retail',\n",
       " 'diversified',\n",
       " 'video surveillance',\n",
       " 'diversified',\n",
       " 'steel, investments',\n",
       " 'real estate',\n",
       " 'business software',\n",
       " 'solar wafers and modules',\n",
       " 'real estate',\n",
       " 'internet media',\n",
       " 'hospitals',\n",
       " 'venture capital',\n",
       " 'diversified',\n",
       " 'real estate',\n",
       " 'batteries',\n",
       " 'retail, media',\n",
       " 'diversified',\n",
       " 'discount brokerage',\n",
       " 'paints',\n",
       " 'solar panel components',\n",
       " 'alcohol, real estate',\n",
       " 'trading, investments',\n",
       " 'shipping',\n",
       " 'pharmaceuticals',\n",
       " 'pharmaceuticals',\n",
       " 'oil, banking, telecom',\n",
       " 'energy',\n",
       " 'palm oil, shipping, property',\n",
       " 'smartphones',\n",
       " 'shoes',\n",
       " 'casinos/hotels',\n",
       " 'Airbnb',\n",
       " 'hedge funds',\n",
       " 'Facebook',\n",
       " 'steel, telecom, investments',\n",
       " 'security software',\n",
       " 'manufacturing',\n",
       " 'e-commerce',\n",
       " 'solar panels',\n",
       " 'eBay, PayPal',\n",
       " 'oil, gas',\n",
       " 'medical devices',\n",
       " 'coal, fertilizers',\n",
       " 'e-commerce',\n",
       " 'investments',\n",
       " 'Google',\n",
       " 'real estate',\n",
       " 'roofing',\n",
       " 'sports, real estate',\n",
       " 'Dallas Cowboys',\n",
       " 'banking, property',\n",
       " 'Facebook',\n",
       " 'oil',\n",
       " 'e-commerce',\n",
       " 'shipping',\n",
       " 'investments',\n",
       " 'investments',\n",
       " 'petrochemicals',\n",
       " 'drugstores',\n",
       " 'investments',\n",
       " 'beer',\n",
       " 'private equity',\n",
       " 'Airbnb',\n",
       " 'movies, record labels',\n",
       " 'semiconductors']"
      ]
     },
     "execution_count": 169,
     "metadata": {},
     "output_type": "execute_result"
    }
   ],
   "source": [
    "Source"
   ]
  },
  {
   "cell_type": "code",
   "execution_count": 170,
   "id": "a1464342",
   "metadata": {},
   "outputs": [
    {
     "data": {
      "text/plain": [
       "200"
      ]
     },
     "execution_count": 170,
     "metadata": {},
     "output_type": "execute_result"
    }
   ],
   "source": [
    "industry=driver.find_elements(\"xpath\",'//div[@class=\"category\"]')\n",
    "len(industry)"
   ]
  },
  {
   "cell_type": "code",
   "execution_count": 171,
   "id": "642044c7",
   "metadata": {},
   "outputs": [
    {
     "data": {
      "text/plain": [
       "200"
      ]
     },
     "execution_count": 171,
     "metadata": {},
     "output_type": "execute_result"
    }
   ],
   "source": [
    "Industry=[]\n",
    "for i in industry:\n",
    "    Industry.append(i.text)\n",
    "len(Industry)    "
   ]
  },
  {
   "cell_type": "code",
   "execution_count": 172,
   "id": "7a55a6d8",
   "metadata": {},
   "outputs": [
    {
     "data": {
      "text/plain": [
       "['Automotive',\n",
       " 'Technology',\n",
       " 'Fashion & Retail',\n",
       " 'Technology',\n",
       " 'Finance & Investments',\n",
       " 'Technology',\n",
       " 'Technology',\n",
       " 'Technology',\n",
       " 'Technology',\n",
       " 'Diversified',\n",
       " 'Diversified',\n",
       " 'Media & Entertainment',\n",
       " 'Telecom',\n",
       " 'Fashion & Retail',\n",
       " 'Technology',\n",
       " 'Fashion & Retail',\n",
       " 'Food & Beverage',\n",
       " 'Fashion & Retail',\n",
       " 'Fashion & Retail',\n",
       " 'Finance & Investments',\n",
       " 'Diversified',\n",
       " 'Diversified',\n",
       " 'Fashion & Retail',\n",
       " 'Technology',\n",
       " 'Media & Entertainment',\n",
       " 'Media & Entertainment',\n",
       " 'Fashion & Retail',\n",
       " 'Fashion & Retail',\n",
       " 'Automotive',\n",
       " 'Technology',\n",
       " 'Logistics',\n",
       " 'Fashion & Retail',\n",
       " 'Logistics',\n",
       " 'Technology',\n",
       " 'Fashion & Retail',\n",
       " 'Food & Beverage',\n",
       " 'Diversified',\n",
       " 'Finance & Investments',\n",
       " 'Real Estate',\n",
       " 'Diversified',\n",
       " 'Food & Beverage',\n",
       " 'Food & Beverage',\n",
       " 'Fashion & Retail',\n",
       " 'Fashion & Retail',\n",
       " 'Metals & Mining',\n",
       " 'Metals & Mining',\n",
       " 'Technology',\n",
       " 'Finance & Investments',\n",
       " 'Manufacturing',\n",
       " 'Gambling & Casinos',\n",
       " 'Food & Beverage',\n",
       " 'Fashion & Retail',\n",
       " 'Finance & Investments',\n",
       " 'Fashion & Retail',\n",
       " 'Technology',\n",
       " 'Automotive',\n",
       " 'Healthcare',\n",
       " 'Service',\n",
       " 'Food & Beverage',\n",
       " 'Finance & Investments',\n",
       " 'Manufacturing',\n",
       " 'Automotive',\n",
       " 'Food & Beverage',\n",
       " 'Finance & Investments',\n",
       " 'Fashion & Retail',\n",
       " 'Finance & Investments',\n",
       " 'Metals & Mining',\n",
       " 'Technology',\n",
       " 'Manufacturing',\n",
       " 'Technology',\n",
       " 'Finance & Investments',\n",
       " 'Finance & Investments',\n",
       " 'Healthcare',\n",
       " 'Telecom',\n",
       " 'Finance & Investments',\n",
       " 'Media & Entertainment',\n",
       " 'Automotive',\n",
       " 'Technology',\n",
       " 'Automotive',\n",
       " 'Finance & Investments',\n",
       " 'Fashion & Retail',\n",
       " 'Food & Beverage',\n",
       " 'Automotive',\n",
       " 'Manufacturing',\n",
       " 'Fashion & Retail',\n",
       " 'Real Estate',\n",
       " 'Metals & Mining',\n",
       " 'Energy',\n",
       " 'Metals & Mining',\n",
       " 'Metals & Mining',\n",
       " 'Healthcare',\n",
       " 'Metals & Mining',\n",
       " 'Metals & Mining',\n",
       " 'Healthcare',\n",
       " 'Fashion & Retail',\n",
       " 'Finance & Investments',\n",
       " 'Metals & Mining',\n",
       " 'Energy',\n",
       " 'Healthcare',\n",
       " 'Manufacturing',\n",
       " 'Real Estate',\n",
       " 'Logistics',\n",
       " 'Finance & Investments',\n",
       " 'Finance & Investments',\n",
       " 'Fashion & Retail',\n",
       " 'Diversified',\n",
       " 'Finance & Investments',\n",
       " 'Fashion & Retail',\n",
       " 'Fashion & Retail',\n",
       " 'Technology',\n",
       " 'Manufacturing',\n",
       " 'Real Estate',\n",
       " 'Healthcare',\n",
       " 'Automotive',\n",
       " 'Healthcare',\n",
       " 'Automotive',\n",
       " 'Food & Beverage',\n",
       " 'Diversified',\n",
       " 'Technology',\n",
       " 'Real Estate',\n",
       " 'Food & Beverage',\n",
       " 'Finance & Investments',\n",
       " 'Technology',\n",
       " 'Technology',\n",
       " 'Construction & Engineering',\n",
       " 'Metals & Mining',\n",
       " 'Technology',\n",
       " 'Media & Entertainment',\n",
       " 'Finance & Investments',\n",
       " 'Manufacturing',\n",
       " 'Energy',\n",
       " 'Telecom',\n",
       " 'Real Estate',\n",
       " 'Food & Beverage',\n",
       " 'Real Estate',\n",
       " 'Fashion & Retail',\n",
       " 'Diversified',\n",
       " 'Finance & Investments',\n",
       " 'Service',\n",
       " 'Metals & Mining',\n",
       " 'Real Estate',\n",
       " 'Technology',\n",
       " 'Manufacturing',\n",
       " 'Real Estate',\n",
       " 'Technology',\n",
       " 'Healthcare',\n",
       " 'Technology',\n",
       " 'Diversified',\n",
       " 'Real Estate',\n",
       " 'Energy',\n",
       " 'Fashion & Retail',\n",
       " 'Diversified',\n",
       " 'Finance & Investments',\n",
       " 'Manufacturing',\n",
       " 'Manufacturing',\n",
       " 'Food & Beverage',\n",
       " 'Finance & Investments',\n",
       " 'Logistics',\n",
       " 'Healthcare',\n",
       " 'Healthcare',\n",
       " 'Energy',\n",
       " 'Energy',\n",
       " 'Diversified',\n",
       " 'Technology',\n",
       " 'Fashion & Retail',\n",
       " 'Gambling & Casinos',\n",
       " 'Technology',\n",
       " 'Finance & Investments',\n",
       " 'Technology',\n",
       " 'Metals & Mining',\n",
       " 'Technology',\n",
       " 'Manufacturing',\n",
       " 'Technology',\n",
       " 'Energy',\n",
       " 'Technology',\n",
       " 'Energy',\n",
       " 'Healthcare',\n",
       " 'Metals & Mining',\n",
       " 'Technology',\n",
       " 'Finance & Investments',\n",
       " 'Technology',\n",
       " 'Real Estate',\n",
       " 'Construction & Engineering',\n",
       " 'Sports',\n",
       " 'Sports',\n",
       " 'Diversified',\n",
       " 'Technology',\n",
       " 'Energy',\n",
       " 'Technology',\n",
       " 'Diversified',\n",
       " 'Finance & Investments',\n",
       " 'Finance & Investments',\n",
       " 'Manufacturing',\n",
       " 'Fashion & Retail',\n",
       " 'Finance & Investments',\n",
       " 'Food & Beverage',\n",
       " 'Finance & Investments',\n",
       " 'Technology',\n",
       " 'Media & Entertainment',\n",
       " 'Manufacturing']"
      ]
     },
     "execution_count": 172,
     "metadata": {},
     "output_type": "execute_result"
    }
   ],
   "source": [
    "Industry"
   ]
  },
  {
   "cell_type": "code",
   "execution_count": 173,
   "id": "799d3fcb",
   "metadata": {},
   "outputs": [
    {
     "data": {
      "text/plain": [
       "(200, 200, 200, 200, 200, 200, 200)"
      ]
     },
     "execution_count": 173,
     "metadata": {},
     "output_type": "execute_result"
    }
   ],
   "source": [
    "len(Rank_of_Billionaries),len(Billionaries_Name),len(Net_Worth),len(Age),len(Citizenship),len(Source),len(Industry)"
   ]
  },
  {
   "cell_type": "code",
   "execution_count": 174,
   "id": "1646b341",
   "metadata": {},
   "outputs": [
    {
     "data": {
      "text/html": [
       "<div>\n",
       "<style scoped>\n",
       "    .dataframe tbody tr th:only-of-type {\n",
       "        vertical-align: middle;\n",
       "    }\n",
       "\n",
       "    .dataframe tbody tr th {\n",
       "        vertical-align: top;\n",
       "    }\n",
       "\n",
       "    .dataframe thead th {\n",
       "        text-align: right;\n",
       "    }\n",
       "</style>\n",
       "<table border=\"1\" class=\"dataframe\">\n",
       "  <thead>\n",
       "    <tr style=\"text-align: right;\">\n",
       "      <th></th>\n",
       "      <th>RANK</th>\n",
       "      <th>NAME</th>\n",
       "      <th>NET WORTH</th>\n",
       "      <th>AGE</th>\n",
       "      <th>CITIZENSHIP</th>\n",
       "      <th>SOURCE</th>\n",
       "      <th>INDUSTRY</th>\n",
       "    </tr>\n",
       "  </thead>\n",
       "  <tbody>\n",
       "    <tr>\n",
       "      <th>0</th>\n",
       "      <td>1.</td>\n",
       "      <td>Elon Musk</td>\n",
       "      <td>$219 B</td>\n",
       "      <td>50</td>\n",
       "      <td>United States</td>\n",
       "      <td>Tesla, SpaceX</td>\n",
       "      <td>Automotive</td>\n",
       "    </tr>\n",
       "    <tr>\n",
       "      <th>1</th>\n",
       "      <td>2.</td>\n",
       "      <td>Jeff Bezos</td>\n",
       "      <td>$171 B</td>\n",
       "      <td>58</td>\n",
       "      <td>United States</td>\n",
       "      <td>Amazon</td>\n",
       "      <td>Technology</td>\n",
       "    </tr>\n",
       "    <tr>\n",
       "      <th>2</th>\n",
       "      <td>3.</td>\n",
       "      <td>Bernard Arnault &amp; family</td>\n",
       "      <td>$158 B</td>\n",
       "      <td>73</td>\n",
       "      <td>France</td>\n",
       "      <td>LVMH</td>\n",
       "      <td>Fashion &amp; Retail</td>\n",
       "    </tr>\n",
       "    <tr>\n",
       "      <th>3</th>\n",
       "      <td>4.</td>\n",
       "      <td>Bill Gates</td>\n",
       "      <td>$129 B</td>\n",
       "      <td>66</td>\n",
       "      <td>United States</td>\n",
       "      <td>Microsoft</td>\n",
       "      <td>Technology</td>\n",
       "    </tr>\n",
       "    <tr>\n",
       "      <th>4</th>\n",
       "      <td>5.</td>\n",
       "      <td>Warren Buffett</td>\n",
       "      <td>$118 B</td>\n",
       "      <td>91</td>\n",
       "      <td>United States</td>\n",
       "      <td>Berkshire Hathaway</td>\n",
       "      <td>Finance &amp; Investments</td>\n",
       "    </tr>\n",
       "    <tr>\n",
       "      <th>...</th>\n",
       "      <td>...</td>\n",
       "      <td>...</td>\n",
       "      <td>...</td>\n",
       "      <td>...</td>\n",
       "      <td>...</td>\n",
       "      <td>...</td>\n",
       "      <td>...</td>\n",
       "    </tr>\n",
       "    <tr>\n",
       "      <th>195</th>\n",
       "      <td>192.</td>\n",
       "      <td>Marcel Herrmann Telles</td>\n",
       "      <td>$10.3 B</td>\n",
       "      <td>72</td>\n",
       "      <td>Brazil</td>\n",
       "      <td>beer</td>\n",
       "      <td>Food &amp; Beverage</td>\n",
       "    </tr>\n",
       "    <tr>\n",
       "      <th>196</th>\n",
       "      <td>197.</td>\n",
       "      <td>Leon Black</td>\n",
       "      <td>$10 B</td>\n",
       "      <td>70</td>\n",
       "      <td>United States</td>\n",
       "      <td>private equity</td>\n",
       "      <td>Finance &amp; Investments</td>\n",
       "    </tr>\n",
       "    <tr>\n",
       "      <th>197</th>\n",
       "      <td>197.</td>\n",
       "      <td>Joe Gebbia</td>\n",
       "      <td>$10 B</td>\n",
       "      <td>40</td>\n",
       "      <td>United States</td>\n",
       "      <td>Airbnb</td>\n",
       "      <td>Technology</td>\n",
       "    </tr>\n",
       "    <tr>\n",
       "      <th>198</th>\n",
       "      <td>197.</td>\n",
       "      <td>David Geffen</td>\n",
       "      <td>$10 B</td>\n",
       "      <td>79</td>\n",
       "      <td>United States</td>\n",
       "      <td>movies, record labels</td>\n",
       "      <td>Media &amp; Entertainment</td>\n",
       "    </tr>\n",
       "    <tr>\n",
       "      <th>199</th>\n",
       "      <td>197.</td>\n",
       "      <td>Yu Renrong</td>\n",
       "      <td>$10 B</td>\n",
       "      <td>56</td>\n",
       "      <td>China</td>\n",
       "      <td>semiconductors</td>\n",
       "      <td>Manufacturing</td>\n",
       "    </tr>\n",
       "  </tbody>\n",
       "</table>\n",
       "<p>200 rows × 7 columns</p>\n",
       "</div>"
      ],
      "text/plain": [
       "     RANK                      NAME NET WORTH AGE    CITIZENSHIP  \\\n",
       "0      1.                 Elon Musk    $219 B  50  United States   \n",
       "1      2.                Jeff Bezos    $171 B  58  United States   \n",
       "2      3.  Bernard Arnault & family    $158 B  73         France   \n",
       "3      4.                Bill Gates    $129 B  66  United States   \n",
       "4      5.            Warren Buffett    $118 B  91  United States   \n",
       "..    ...                       ...       ...  ..            ...   \n",
       "195  192.    Marcel Herrmann Telles   $10.3 B  72         Brazil   \n",
       "196  197.                Leon Black     $10 B  70  United States   \n",
       "197  197.                Joe Gebbia     $10 B  40  United States   \n",
       "198  197.              David Geffen     $10 B  79  United States   \n",
       "199  197.                Yu Renrong     $10 B  56          China   \n",
       "\n",
       "                    SOURCE               INDUSTRY  \n",
       "0            Tesla, SpaceX             Automotive  \n",
       "1                   Amazon             Technology  \n",
       "2                     LVMH       Fashion & Retail  \n",
       "3                Microsoft             Technology  \n",
       "4       Berkshire Hathaway  Finance & Investments  \n",
       "..                     ...                    ...  \n",
       "195                   beer        Food & Beverage  \n",
       "196         private equity  Finance & Investments  \n",
       "197                 Airbnb             Technology  \n",
       "198  movies, record labels  Media & Entertainment  \n",
       "199         semiconductors          Manufacturing  \n",
       "\n",
       "[200 rows x 7 columns]"
      ]
     },
     "execution_count": 174,
     "metadata": {},
     "output_type": "execute_result"
    }
   ],
   "source": [
    "import pandas as pd\n",
    "Forbes=pd.DataFrame()\n",
    "Forbes['RANK']=Rank_of_Billionaries\n",
    "Forbes['NAME']=Billionaries_Name\n",
    "Forbes['NET WORTH']=Net_Worth\n",
    "Forbes['AGE']=Age\n",
    "Forbes['CITIZENSHIP']=Citizenship\n",
    "Forbes['SOURCE']=Source\n",
    "Forbes['INDUSTRY']=Industry\n",
    "Forbes"
   ]
  },
  {
   "cell_type": "code",
   "execution_count": 175,
   "id": "ee0702f4",
   "metadata": {},
   "outputs": [],
   "source": [
    "driver.close()"
   ]
  },
  {
   "cell_type": "code",
   "execution_count": null,
   "id": "65aab3de",
   "metadata": {},
   "outputs": [],
   "source": []
  },
  {
   "cell_type": "markdown",
   "id": "64ac8c72",
   "metadata": {},
   "source": [
    "Q9. Write a program to extract at least 500 Comments, Comment upvote and time when comment was posted\n",
    "from any YouTube Video."
   ]
  },
  {
   "cell_type": "code",
   "execution_count": 167,
   "id": "3eb83206",
   "metadata": {},
   "outputs": [],
   "source": [
    "driver  =  webdriver.Chrome(r'C:\\Users\\user\\Downloads\\chromedriver_win32 (1)\\chromedriver.exe')"
   ]
  },
  {
   "cell_type": "code",
   "execution_count": 168,
   "id": "00889ac9",
   "metadata": {},
   "outputs": [],
   "source": [
    "driver.get('https://www.youtube.com/')"
   ]
  },
  {
   "cell_type": "code",
   "execution_count": 170,
   "id": "49d0f0c5",
   "metadata": {},
   "outputs": [],
   "source": [
    "driver=driver.find_element(\"xpath\",'/html/body/ytd-app/div[1]/ytd-page-manager/ytd-watch-flexy/div[5]/div[1]/div/div[8]/div[1]/div[2]/ytd-video-primary-info-renderer/div/h1/yt-formatted-string')"
   ]
  },
  {
   "cell_type": "code",
   "execution_count": 171,
   "id": "bf29b87d",
   "metadata": {},
   "outputs": [
    {
     "data": {
      "text/plain": [
       "<selenium.webdriver.remote.webelement.WebElement (session=\"05fe5bf3e699677bc2ed250a77c963fd\", element=\"93d10e19-2d3b-4ac8-a98d-e7a8bb2adfa5\")>"
      ]
     },
     "execution_count": 171,
     "metadata": {},
     "output_type": "execute_result"
    }
   ],
   "source": [
    "driver"
   ]
  },
  {
   "cell_type": "code",
   "execution_count": 176,
   "id": "1e202ee6",
   "metadata": {
    "scrolled": true
   },
   "outputs": [
    {
     "data": {
      "text/plain": [
       "[<selenium.webdriver.remote.webelement.WebElement (session=\"05fe5bf3e699677bc2ed250a77c963fd\", element=\"cb3fc775-34cb-4d0e-b4f9-b7d41af6b36c\")>,\n",
       " <selenium.webdriver.remote.webelement.WebElement (session=\"05fe5bf3e699677bc2ed250a77c963fd\", element=\"25dc8d1e-a269-46f5-80ba-0df88a062a04\")>,\n",
       " <selenium.webdriver.remote.webelement.WebElement (session=\"05fe5bf3e699677bc2ed250a77c963fd\", element=\"92e7475e-25b9-4a55-aea3-87c67c4f97e0\")>,\n",
       " <selenium.webdriver.remote.webelement.WebElement (session=\"05fe5bf3e699677bc2ed250a77c963fd\", element=\"798033a0-17a9-4713-9a58-59bbf6b7c307\")>,\n",
       " <selenium.webdriver.remote.webelement.WebElement (session=\"05fe5bf3e699677bc2ed250a77c963fd\", element=\"f21953cf-be5e-40d9-84cc-577bf81c864c\")>,\n",
       " <selenium.webdriver.remote.webelement.WebElement (session=\"05fe5bf3e699677bc2ed250a77c963fd\", element=\"0d6d0a13-03b7-4ecd-9e03-6994d21427d2\")>,\n",
       " <selenium.webdriver.remote.webelement.WebElement (session=\"05fe5bf3e699677bc2ed250a77c963fd\", element=\"3d88b017-155e-4cd9-8411-2fc954ad057c\")>,\n",
       " <selenium.webdriver.remote.webelement.WebElement (session=\"05fe5bf3e699677bc2ed250a77c963fd\", element=\"cda6966f-8110-46f1-90b7-f30c8e904f37\")>,\n",
       " <selenium.webdriver.remote.webelement.WebElement (session=\"05fe5bf3e699677bc2ed250a77c963fd\", element=\"0f82011e-7e21-414b-9f73-23f6cfc54745\")>,\n",
       " <selenium.webdriver.remote.webelement.WebElement (session=\"05fe5bf3e699677bc2ed250a77c963fd\", element=\"6a6d75f8-200b-445e-9f3b-b70029ef15ef\")>,\n",
       " <selenium.webdriver.remote.webelement.WebElement (session=\"05fe5bf3e699677bc2ed250a77c963fd\", element=\"bedca8b2-6326-4acf-9f40-94e41468bb38\")>,\n",
       " <selenium.webdriver.remote.webelement.WebElement (session=\"05fe5bf3e699677bc2ed250a77c963fd\", element=\"ff1c256c-550c-48ad-8296-82276c14c018\")>,\n",
       " <selenium.webdriver.remote.webelement.WebElement (session=\"05fe5bf3e699677bc2ed250a77c963fd\", element=\"3b4abb51-6b2d-42aa-a2f1-4ed6dd67406e\")>,\n",
       " <selenium.webdriver.remote.webelement.WebElement (session=\"05fe5bf3e699677bc2ed250a77c963fd\", element=\"b91f1676-f325-4cef-8b47-1b24621ffd17\")>,\n",
       " <selenium.webdriver.remote.webelement.WebElement (session=\"05fe5bf3e699677bc2ed250a77c963fd\", element=\"bf571bbd-f8e7-4377-8020-595fb63d81ea\")>,\n",
       " <selenium.webdriver.remote.webelement.WebElement (session=\"05fe5bf3e699677bc2ed250a77c963fd\", element=\"23eb1df6-34a8-4a48-b7bb-6490f9545cb5\")>,\n",
       " <selenium.webdriver.remote.webelement.WebElement (session=\"05fe5bf3e699677bc2ed250a77c963fd\", element=\"a6c514b4-febd-43a0-87eb-a425f85c0aa6\")>,\n",
       " <selenium.webdriver.remote.webelement.WebElement (session=\"05fe5bf3e699677bc2ed250a77c963fd\", element=\"98d6b9c8-b45e-4f87-a9cf-3069071cf4ee\")>,\n",
       " <selenium.webdriver.remote.webelement.WebElement (session=\"05fe5bf3e699677bc2ed250a77c963fd\", element=\"5669ffcb-a133-4921-9b63-bcba7c33f669\")>,\n",
       " <selenium.webdriver.remote.webelement.WebElement (session=\"05fe5bf3e699677bc2ed250a77c963fd\", element=\"15926c61-c8eb-4d9f-ab94-f40a8ab81c05\")>,\n",
       " <selenium.webdriver.remote.webelement.WebElement (session=\"05fe5bf3e699677bc2ed250a77c963fd\", element=\"e4cfab6e-cafa-4ff3-93ff-76feff6470c5\")>,\n",
       " <selenium.webdriver.remote.webelement.WebElement (session=\"05fe5bf3e699677bc2ed250a77c963fd\", element=\"bb763f79-8393-480c-b404-240414e2edd1\")>,\n",
       " <selenium.webdriver.remote.webelement.WebElement (session=\"05fe5bf3e699677bc2ed250a77c963fd\", element=\"e31955fe-663f-4e7a-a01a-f774ac8d50a8\")>,\n",
       " <selenium.webdriver.remote.webelement.WebElement (session=\"05fe5bf3e699677bc2ed250a77c963fd\", element=\"af3eeeca-2332-4558-8cca-162d886438e6\")>,\n",
       " <selenium.webdriver.remote.webelement.WebElement (session=\"05fe5bf3e699677bc2ed250a77c963fd\", element=\"51f4f2d4-cef0-45a3-9ff8-cb45903526af\")>,\n",
       " <selenium.webdriver.remote.webelement.WebElement (session=\"05fe5bf3e699677bc2ed250a77c963fd\", element=\"107024a4-7b78-4e6f-9e2c-6ff38455c05b\")>,\n",
       " <selenium.webdriver.remote.webelement.WebElement (session=\"05fe5bf3e699677bc2ed250a77c963fd\", element=\"96bc8576-da5a-488e-8ea1-f8f9ea95ecb2\")>,\n",
       " <selenium.webdriver.remote.webelement.WebElement (session=\"05fe5bf3e699677bc2ed250a77c963fd\", element=\"67fbfebf-36b5-475c-bb04-57902b699cbc\")>,\n",
       " <selenium.webdriver.remote.webelement.WebElement (session=\"05fe5bf3e699677bc2ed250a77c963fd\", element=\"88fc058c-ed8a-416f-9912-ea0db1495c3f\")>,\n",
       " <selenium.webdriver.remote.webelement.WebElement (session=\"05fe5bf3e699677bc2ed250a77c963fd\", element=\"91befc75-3204-444e-83ef-dde3847be80d\")>,\n",
       " <selenium.webdriver.remote.webelement.WebElement (session=\"05fe5bf3e699677bc2ed250a77c963fd\", element=\"167e592c-f7ba-4b68-9493-2beb2a9ac72c\")>,\n",
       " <selenium.webdriver.remote.webelement.WebElement (session=\"05fe5bf3e699677bc2ed250a77c963fd\", element=\"746a0fec-b66f-470b-9f1f-d7cc39ec9871\")>,\n",
       " <selenium.webdriver.remote.webelement.WebElement (session=\"05fe5bf3e699677bc2ed250a77c963fd\", element=\"31733be2-d2db-449a-a56a-ea7766a2d86a\")>,\n",
       " <selenium.webdriver.remote.webelement.WebElement (session=\"05fe5bf3e699677bc2ed250a77c963fd\", element=\"0279cb18-a27c-4060-80d2-3579e1948a31\")>,\n",
       " <selenium.webdriver.remote.webelement.WebElement (session=\"05fe5bf3e699677bc2ed250a77c963fd\", element=\"cdd69e69-1547-41c9-a2d5-5da91c68d676\")>,\n",
       " <selenium.webdriver.remote.webelement.WebElement (session=\"05fe5bf3e699677bc2ed250a77c963fd\", element=\"af1acd74-a740-4f48-9017-aca4866cf220\")>,\n",
       " <selenium.webdriver.remote.webelement.WebElement (session=\"05fe5bf3e699677bc2ed250a77c963fd\", element=\"ca941578-6d8a-4e07-9523-947392aacfe5\")>,\n",
       " <selenium.webdriver.remote.webelement.WebElement (session=\"05fe5bf3e699677bc2ed250a77c963fd\", element=\"7c4bbefb-1e9f-4c6e-83de-243f3e43fdd5\")>,\n",
       " <selenium.webdriver.remote.webelement.WebElement (session=\"05fe5bf3e699677bc2ed250a77c963fd\", element=\"2ea189e1-34e2-4f9d-854a-a4825622d88f\")>,\n",
       " <selenium.webdriver.remote.webelement.WebElement (session=\"05fe5bf3e699677bc2ed250a77c963fd\", element=\"eba34854-8dda-4bec-accd-bd75b25a68df\")>,\n",
       " <selenium.webdriver.remote.webelement.WebElement (session=\"05fe5bf3e699677bc2ed250a77c963fd\", element=\"cd8ac075-1f66-4c47-880b-9f69ae3376b6\")>,\n",
       " <selenium.webdriver.remote.webelement.WebElement (session=\"05fe5bf3e699677bc2ed250a77c963fd\", element=\"8a3f40ef-a1f7-44e9-ac59-483c819e3625\")>,\n",
       " <selenium.webdriver.remote.webelement.WebElement (session=\"05fe5bf3e699677bc2ed250a77c963fd\", element=\"a112108e-916e-4efb-ad87-85b925a0f6be\")>,\n",
       " <selenium.webdriver.remote.webelement.WebElement (session=\"05fe5bf3e699677bc2ed250a77c963fd\", element=\"c13140f3-0093-459b-86a6-0f7c106ba27c\")>,\n",
       " <selenium.webdriver.remote.webelement.WebElement (session=\"05fe5bf3e699677bc2ed250a77c963fd\", element=\"3399a65e-9324-4484-9109-607ed956dc0f\")>,\n",
       " <selenium.webdriver.remote.webelement.WebElement (session=\"05fe5bf3e699677bc2ed250a77c963fd\", element=\"6153aa10-6e80-4939-bfd1-b9e862b7dc13\")>,\n",
       " <selenium.webdriver.remote.webelement.WebElement (session=\"05fe5bf3e699677bc2ed250a77c963fd\", element=\"1f2cbac4-cd01-469a-96e0-f5b0c75137cf\")>,\n",
       " <selenium.webdriver.remote.webelement.WebElement (session=\"05fe5bf3e699677bc2ed250a77c963fd\", element=\"bc23facb-49b9-4988-9fc5-0ad6292921bf\")>,\n",
       " <selenium.webdriver.remote.webelement.WebElement (session=\"05fe5bf3e699677bc2ed250a77c963fd\", element=\"9237d6c1-b451-49af-bef1-d2ef7cb25ff6\")>,\n",
       " <selenium.webdriver.remote.webelement.WebElement (session=\"05fe5bf3e699677bc2ed250a77c963fd\", element=\"7d2ffc93-0015-4940-ad0c-66fc36caa7cb\")>,\n",
       " <selenium.webdriver.remote.webelement.WebElement (session=\"05fe5bf3e699677bc2ed250a77c963fd\", element=\"137fc26e-78ee-4a14-b4d4-a020e9777acb\")>,\n",
       " <selenium.webdriver.remote.webelement.WebElement (session=\"05fe5bf3e699677bc2ed250a77c963fd\", element=\"89ca188a-9852-4e6e-a0c7-85de8ed4ca96\")>,\n",
       " <selenium.webdriver.remote.webelement.WebElement (session=\"05fe5bf3e699677bc2ed250a77c963fd\", element=\"47d44250-c2e9-48ec-8268-cab8a2ceeeeb\")>,\n",
       " <selenium.webdriver.remote.webelement.WebElement (session=\"05fe5bf3e699677bc2ed250a77c963fd\", element=\"e64a74ca-b4a1-4828-9554-ea6395c6a4f1\")>,\n",
       " <selenium.webdriver.remote.webelement.WebElement (session=\"05fe5bf3e699677bc2ed250a77c963fd\", element=\"8d770f0b-ed06-460a-8785-549ac308ab29\")>,\n",
       " <selenium.webdriver.remote.webelement.WebElement (session=\"05fe5bf3e699677bc2ed250a77c963fd\", element=\"d41e57f7-5fb6-49e2-b4d8-69287b9d9eef\")>,\n",
       " <selenium.webdriver.remote.webelement.WebElement (session=\"05fe5bf3e699677bc2ed250a77c963fd\", element=\"7d245de0-13c8-4088-a271-c2f756843bc6\")>,\n",
       " <selenium.webdriver.remote.webelement.WebElement (session=\"05fe5bf3e699677bc2ed250a77c963fd\", element=\"88d7268f-560b-444d-af6c-c0509d09d687\")>,\n",
       " <selenium.webdriver.remote.webelement.WebElement (session=\"05fe5bf3e699677bc2ed250a77c963fd\", element=\"87f8308d-db1a-4915-9f1a-68ed2e119dd6\")>,\n",
       " <selenium.webdriver.remote.webelement.WebElement (session=\"05fe5bf3e699677bc2ed250a77c963fd\", element=\"155d4061-2f31-4b4c-bc80-0f7554358b79\")>,\n",
       " <selenium.webdriver.remote.webelement.WebElement (session=\"05fe5bf3e699677bc2ed250a77c963fd\", element=\"48f5883a-3742-4e9c-8d73-d197c6f4b967\")>,\n",
       " <selenium.webdriver.remote.webelement.WebElement (session=\"05fe5bf3e699677bc2ed250a77c963fd\", element=\"064dc6e1-ca77-4932-8dd6-b3286ef27341\")>,\n",
       " <selenium.webdriver.remote.webelement.WebElement (session=\"05fe5bf3e699677bc2ed250a77c963fd\", element=\"975f72f7-a1a9-45ad-a053-d3bfab727987\")>,\n",
       " <selenium.webdriver.remote.webelement.WebElement (session=\"05fe5bf3e699677bc2ed250a77c963fd\", element=\"cead86ca-2f08-4dbd-8df6-5b31428bdebe\")>,\n",
       " <selenium.webdriver.remote.webelement.WebElement (session=\"05fe5bf3e699677bc2ed250a77c963fd\", element=\"14ac4520-be05-47f8-ab72-21fb7a582ac6\")>,\n",
       " <selenium.webdriver.remote.webelement.WebElement (session=\"05fe5bf3e699677bc2ed250a77c963fd\", element=\"75e6826f-ee5a-483e-8460-a1ba00728613\")>,\n",
       " <selenium.webdriver.remote.webelement.WebElement (session=\"05fe5bf3e699677bc2ed250a77c963fd\", element=\"a42fa86c-83b9-401b-bd24-c6a6e926e029\")>,\n",
       " <selenium.webdriver.remote.webelement.WebElement (session=\"05fe5bf3e699677bc2ed250a77c963fd\", element=\"ce67973a-9c73-4692-9d39-da23df8761f1\")>,\n",
       " <selenium.webdriver.remote.webelement.WebElement (session=\"05fe5bf3e699677bc2ed250a77c963fd\", element=\"8f1c19f0-45c5-442b-80b2-14373141cc60\")>,\n",
       " <selenium.webdriver.remote.webelement.WebElement (session=\"05fe5bf3e699677bc2ed250a77c963fd\", element=\"115bc7e6-7543-4ad2-95ec-ab807e7789d8\")>,\n",
       " <selenium.webdriver.remote.webelement.WebElement (session=\"05fe5bf3e699677bc2ed250a77c963fd\", element=\"0a140961-dc57-445c-a4ea-cae24a360fe6\")>,\n",
       " <selenium.webdriver.remote.webelement.WebElement (session=\"05fe5bf3e699677bc2ed250a77c963fd\", element=\"2cca9a17-61fc-44f2-96d9-482ac778e96f\")>,\n",
       " <selenium.webdriver.remote.webelement.WebElement (session=\"05fe5bf3e699677bc2ed250a77c963fd\", element=\"a7f369c0-46c0-461c-be85-f9824ab822dc\")>,\n",
       " <selenium.webdriver.remote.webelement.WebElement (session=\"05fe5bf3e699677bc2ed250a77c963fd\", element=\"f14394b3-3870-45aa-afa6-a19b91e7f752\")>,\n",
       " <selenium.webdriver.remote.webelement.WebElement (session=\"05fe5bf3e699677bc2ed250a77c963fd\", element=\"dbafc2d0-99a9-436f-a2d1-919d6ae49456\")>,\n",
       " <selenium.webdriver.remote.webelement.WebElement (session=\"05fe5bf3e699677bc2ed250a77c963fd\", element=\"524f5487-a005-43e8-9f4c-41e373246965\")>,\n",
       " <selenium.webdriver.remote.webelement.WebElement (session=\"05fe5bf3e699677bc2ed250a77c963fd\", element=\"19ed5dec-0348-4b64-8cc9-53450d81b171\")>,\n",
       " <selenium.webdriver.remote.webelement.WebElement (session=\"05fe5bf3e699677bc2ed250a77c963fd\", element=\"c3528c3c-c1ae-40ba-b3c1-aeef5745baa3\")>,\n",
       " <selenium.webdriver.remote.webelement.WebElement (session=\"05fe5bf3e699677bc2ed250a77c963fd\", element=\"0d33b9db-f413-445c-bdce-dc505ef1f70c\")>,\n",
       " <selenium.webdriver.remote.webelement.WebElement (session=\"05fe5bf3e699677bc2ed250a77c963fd\", element=\"2752a50b-5578-4b39-b996-6d5d22c01a3d\")>,\n",
       " <selenium.webdriver.remote.webelement.WebElement (session=\"05fe5bf3e699677bc2ed250a77c963fd\", element=\"b5586856-126b-4a2c-91f0-a74decbee0ec\")>,\n",
       " <selenium.webdriver.remote.webelement.WebElement (session=\"05fe5bf3e699677bc2ed250a77c963fd\", element=\"c750f0c1-36fa-4dea-8ec1-7478c96bfdee\")>,\n",
       " <selenium.webdriver.remote.webelement.WebElement (session=\"05fe5bf3e699677bc2ed250a77c963fd\", element=\"9247197e-66d8-4835-8f41-1688ba220bc0\")>,\n",
       " <selenium.webdriver.remote.webelement.WebElement (session=\"05fe5bf3e699677bc2ed250a77c963fd\", element=\"ccc888b2-b9ba-4d28-99bb-c1f46170224d\")>,\n",
       " <selenium.webdriver.remote.webelement.WebElement (session=\"05fe5bf3e699677bc2ed250a77c963fd\", element=\"481e0927-14a9-470f-8fec-28e0cb0db141\")>,\n",
       " <selenium.webdriver.remote.webelement.WebElement (session=\"05fe5bf3e699677bc2ed250a77c963fd\", element=\"b18b390b-37cb-4d86-aed8-60e6e14e2c0e\")>,\n",
       " <selenium.webdriver.remote.webelement.WebElement (session=\"05fe5bf3e699677bc2ed250a77c963fd\", element=\"4b73f65f-1550-4ea3-a994-55e64a73cc82\")>,\n",
       " <selenium.webdriver.remote.webelement.WebElement (session=\"05fe5bf3e699677bc2ed250a77c963fd\", element=\"f6aa2c05-f7ba-4e6c-a2ba-2deaa87bc90d\")>,\n",
       " <selenium.webdriver.remote.webelement.WebElement (session=\"05fe5bf3e699677bc2ed250a77c963fd\", element=\"629f7cf0-e7f1-421f-b466-62294a504fa0\")>,\n",
       " <selenium.webdriver.remote.webelement.WebElement (session=\"05fe5bf3e699677bc2ed250a77c963fd\", element=\"2221b143-36fc-4587-a20d-e6d643e012a0\")>,\n",
       " <selenium.webdriver.remote.webelement.WebElement (session=\"05fe5bf3e699677bc2ed250a77c963fd\", element=\"bc6085f8-5e66-4508-8323-a3bf2f322172\")>,\n",
       " <selenium.webdriver.remote.webelement.WebElement (session=\"05fe5bf3e699677bc2ed250a77c963fd\", element=\"3d817f61-7fd3-4620-823c-6b86a51ad55a\")>,\n",
       " <selenium.webdriver.remote.webelement.WebElement (session=\"05fe5bf3e699677bc2ed250a77c963fd\", element=\"7c4150aa-6593-4750-9d1c-25a24e3d3673\")>,\n",
       " <selenium.webdriver.remote.webelement.WebElement (session=\"05fe5bf3e699677bc2ed250a77c963fd\", element=\"76a63cad-cdf6-4d93-8f4b-6cefd0b69f60\")>,\n",
       " <selenium.webdriver.remote.webelement.WebElement (session=\"05fe5bf3e699677bc2ed250a77c963fd\", element=\"9a0984b1-ebbf-4238-9cbd-dce3c6cf3ec5\")>,\n",
       " <selenium.webdriver.remote.webelement.WebElement (session=\"05fe5bf3e699677bc2ed250a77c963fd\", element=\"36f8dc6c-c299-4cb4-8735-7558d93e8fc9\")>,\n",
       " <selenium.webdriver.remote.webelement.WebElement (session=\"05fe5bf3e699677bc2ed250a77c963fd\", element=\"246b52fc-bd35-4671-b8a6-fdb4916e6930\")>,\n",
       " <selenium.webdriver.remote.webelement.WebElement (session=\"05fe5bf3e699677bc2ed250a77c963fd\", element=\"d7fba8f6-36cd-4f9c-87ed-daf3942fc5d3\")>,\n",
       " <selenium.webdriver.remote.webelement.WebElement (session=\"05fe5bf3e699677bc2ed250a77c963fd\", element=\"d7afd121-0ac9-4f06-a141-b0b9162d9d3b\")>,\n",
       " <selenium.webdriver.remote.webelement.WebElement (session=\"05fe5bf3e699677bc2ed250a77c963fd\", element=\"7edd55b5-c767-48c5-ac79-52a4065e4d6f\")>,\n",
       " <selenium.webdriver.remote.webelement.WebElement (session=\"05fe5bf3e699677bc2ed250a77c963fd\", element=\"ee6a4d1c-d23f-4d40-b609-6b34ec4b70aa\")>,\n",
       " <selenium.webdriver.remote.webelement.WebElement (session=\"05fe5bf3e699677bc2ed250a77c963fd\", element=\"6d89b958-fac7-4586-9795-8b63e2822565\")>,\n",
       " <selenium.webdriver.remote.webelement.WebElement (session=\"05fe5bf3e699677bc2ed250a77c963fd\", element=\"7cd110bc-5567-4110-b1be-f63fecd53551\")>,\n",
       " <selenium.webdriver.remote.webelement.WebElement (session=\"05fe5bf3e699677bc2ed250a77c963fd\", element=\"7f785fc6-39e6-4e0e-a159-ab234e23a157\")>,\n",
       " <selenium.webdriver.remote.webelement.WebElement (session=\"05fe5bf3e699677bc2ed250a77c963fd\", element=\"6d9b12f2-edd3-4382-91ad-a5f40688f2d5\")>,\n",
       " <selenium.webdriver.remote.webelement.WebElement (session=\"05fe5bf3e699677bc2ed250a77c963fd\", element=\"505e17c0-8ccd-4d8c-8b9b-c14281802737\")>,\n",
       " <selenium.webdriver.remote.webelement.WebElement (session=\"05fe5bf3e699677bc2ed250a77c963fd\", element=\"921730e1-c66e-438b-a728-a6ddd3e9eada\")>,\n",
       " <selenium.webdriver.remote.webelement.WebElement (session=\"05fe5bf3e699677bc2ed250a77c963fd\", element=\"69898554-c236-4c29-85d1-a3098a777005\")>,\n",
       " <selenium.webdriver.remote.webelement.WebElement (session=\"05fe5bf3e699677bc2ed250a77c963fd\", element=\"8fe04942-4f87-43e8-89cc-618e559ea94d\")>,\n",
       " <selenium.webdriver.remote.webelement.WebElement (session=\"05fe5bf3e699677bc2ed250a77c963fd\", element=\"e65775fb-85f8-4dfc-bb0b-f53b7e2d34c4\")>,\n",
       " <selenium.webdriver.remote.webelement.WebElement (session=\"05fe5bf3e699677bc2ed250a77c963fd\", element=\"17549943-caa1-4763-866d-915a17137f3e\")>,\n",
       " <selenium.webdriver.remote.webelement.WebElement (session=\"05fe5bf3e699677bc2ed250a77c963fd\", element=\"12d6496f-012c-4ce5-abf9-5c416f82e915\")>,\n",
       " <selenium.webdriver.remote.webelement.WebElement (session=\"05fe5bf3e699677bc2ed250a77c963fd\", element=\"f3c288f8-9867-4513-aa74-5497cd17672f\")>,\n",
       " <selenium.webdriver.remote.webelement.WebElement (session=\"05fe5bf3e699677bc2ed250a77c963fd\", element=\"63724a56-5232-43d1-bdc3-887ddcd69888\")>,\n",
       " <selenium.webdriver.remote.webelement.WebElement (session=\"05fe5bf3e699677bc2ed250a77c963fd\", element=\"3d61a2a0-6391-4c08-b867-bbad0cd0d13f\")>,\n",
       " <selenium.webdriver.remote.webelement.WebElement (session=\"05fe5bf3e699677bc2ed250a77c963fd\", element=\"914cea1d-7691-4d81-9801-a8aed1bc3ca5\")>,\n",
       " <selenium.webdriver.remote.webelement.WebElement (session=\"05fe5bf3e699677bc2ed250a77c963fd\", element=\"71a4c607-a193-47f0-88ec-460dc8986346\")>,\n",
       " <selenium.webdriver.remote.webelement.WebElement (session=\"05fe5bf3e699677bc2ed250a77c963fd\", element=\"3acc680e-8b65-480f-879f-dff932ca1b0f\")>,\n",
       " <selenium.webdriver.remote.webelement.WebElement (session=\"05fe5bf3e699677bc2ed250a77c963fd\", element=\"d542205d-00c7-4876-9a4a-69c61dec7f8f\")>,\n",
       " <selenium.webdriver.remote.webelement.WebElement (session=\"05fe5bf3e699677bc2ed250a77c963fd\", element=\"e31c60b1-f132-481c-b8d4-24d342970436\")>,\n",
       " <selenium.webdriver.remote.webelement.WebElement (session=\"05fe5bf3e699677bc2ed250a77c963fd\", element=\"545495dc-9cd4-45b6-9399-e0f0f258d81a\")>,\n",
       " <selenium.webdriver.remote.webelement.WebElement (session=\"05fe5bf3e699677bc2ed250a77c963fd\", element=\"87be2865-d349-444e-bacb-8a6c0d778b7a\")>,\n",
       " <selenium.webdriver.remote.webelement.WebElement (session=\"05fe5bf3e699677bc2ed250a77c963fd\", element=\"4c8de4d8-24e0-4f12-9a74-37b7a848e085\")>,\n",
       " <selenium.webdriver.remote.webelement.WebElement (session=\"05fe5bf3e699677bc2ed250a77c963fd\", element=\"7c3b2108-d7c7-47c5-a16b-5976f845a803\")>,\n",
       " <selenium.webdriver.remote.webelement.WebElement (session=\"05fe5bf3e699677bc2ed250a77c963fd\", element=\"877e0d66-6dfc-4413-af4a-030bc011f37c\")>,\n",
       " <selenium.webdriver.remote.webelement.WebElement (session=\"05fe5bf3e699677bc2ed250a77c963fd\", element=\"9bed602b-7cb1-421a-85a6-a378c2b235f0\")>,\n",
       " <selenium.webdriver.remote.webelement.WebElement (session=\"05fe5bf3e699677bc2ed250a77c963fd\", element=\"2c0d4f60-9ebd-4ad2-bbeb-222efdc1b061\")>,\n",
       " <selenium.webdriver.remote.webelement.WebElement (session=\"05fe5bf3e699677bc2ed250a77c963fd\", element=\"cabc531c-d337-43b8-be95-21f60a8c6598\")>,\n",
       " <selenium.webdriver.remote.webelement.WebElement (session=\"05fe5bf3e699677bc2ed250a77c963fd\", element=\"6e098778-be6b-4ba1-b22b-6a2649833541\")>,\n",
       " <selenium.webdriver.remote.webelement.WebElement (session=\"05fe5bf3e699677bc2ed250a77c963fd\", element=\"5b185c88-941d-4cf2-9af5-4ffb8fdcc25c\")>,\n",
       " <selenium.webdriver.remote.webelement.WebElement (session=\"05fe5bf3e699677bc2ed250a77c963fd\", element=\"42cc8bd2-b4ab-443d-851c-b6232f2277f7\")>,\n",
       " <selenium.webdriver.remote.webelement.WebElement (session=\"05fe5bf3e699677bc2ed250a77c963fd\", element=\"8e39e3f4-a262-4564-a9c5-ae49664cd61e\")>,\n",
       " <selenium.webdriver.remote.webelement.WebElement (session=\"05fe5bf3e699677bc2ed250a77c963fd\", element=\"edaa6de3-ef88-4866-a4b5-b586185b475c\")>,\n",
       " <selenium.webdriver.remote.webelement.WebElement (session=\"05fe5bf3e699677bc2ed250a77c963fd\", element=\"e4c51c35-cbb9-4204-b1c7-2204e7de3335\")>,\n",
       " <selenium.webdriver.remote.webelement.WebElement (session=\"05fe5bf3e699677bc2ed250a77c963fd\", element=\"b154d67c-6c02-4385-9f77-48dae07105c6\")>,\n",
       " <selenium.webdriver.remote.webelement.WebElement (session=\"05fe5bf3e699677bc2ed250a77c963fd\", element=\"f66c6da6-7c8a-47a4-a921-b7183bd0eed6\")>,\n",
       " <selenium.webdriver.remote.webelement.WebElement (session=\"05fe5bf3e699677bc2ed250a77c963fd\", element=\"7d497848-24c2-4d86-804f-00664f55447e\")>,\n",
       " <selenium.webdriver.remote.webelement.WebElement (session=\"05fe5bf3e699677bc2ed250a77c963fd\", element=\"65fc7ff5-a798-4147-950c-cc73e160fde7\")>,\n",
       " <selenium.webdriver.remote.webelement.WebElement (session=\"05fe5bf3e699677bc2ed250a77c963fd\", element=\"13568341-54b3-46c0-84c9-cf5ccb73f561\")>,\n",
       " <selenium.webdriver.remote.webelement.WebElement (session=\"05fe5bf3e699677bc2ed250a77c963fd\", element=\"3821afa8-ccd2-46cd-91da-77b98202f101\")>,\n",
       " <selenium.webdriver.remote.webelement.WebElement (session=\"05fe5bf3e699677bc2ed250a77c963fd\", element=\"041e61b3-65c2-4457-be2a-3df55fd8ec95\")>,\n",
       " <selenium.webdriver.remote.webelement.WebElement (session=\"05fe5bf3e699677bc2ed250a77c963fd\", element=\"205f0aa4-03ed-4962-9246-40d6ec35f9f5\")>,\n",
       " <selenium.webdriver.remote.webelement.WebElement (session=\"05fe5bf3e699677bc2ed250a77c963fd\", element=\"a2711f9a-1600-4b7d-9d7c-c27fddf7f951\")>,\n",
       " <selenium.webdriver.remote.webelement.WebElement (session=\"05fe5bf3e699677bc2ed250a77c963fd\", element=\"6209338f-a1db-4f10-a7d4-44d0007c6019\")>,\n",
       " <selenium.webdriver.remote.webelement.WebElement (session=\"05fe5bf3e699677bc2ed250a77c963fd\", element=\"aa34985f-bd4e-496c-9e93-8a5e06b3a794\")>,\n",
       " <selenium.webdriver.remote.webelement.WebElement (session=\"05fe5bf3e699677bc2ed250a77c963fd\", element=\"5ac37115-5131-482e-bd73-438e8be5159e\")>,\n",
       " <selenium.webdriver.remote.webelement.WebElement (session=\"05fe5bf3e699677bc2ed250a77c963fd\", element=\"23ddc68a-5056-44a8-b4b0-087c5f68c29b\")>,\n",
       " <selenium.webdriver.remote.webelement.WebElement (session=\"05fe5bf3e699677bc2ed250a77c963fd\", element=\"ad08919e-4fa0-42fb-92d6-bf3a90d7fb7d\")>,\n",
       " <selenium.webdriver.remote.webelement.WebElement (session=\"05fe5bf3e699677bc2ed250a77c963fd\", element=\"076f8217-ddb0-43ee-8e18-825e258894d6\")>,\n",
       " <selenium.webdriver.remote.webelement.WebElement (session=\"05fe5bf3e699677bc2ed250a77c963fd\", element=\"edbaf86d-93bb-4dd8-9094-d87b1c5d1abd\")>,\n",
       " <selenium.webdriver.remote.webelement.WebElement (session=\"05fe5bf3e699677bc2ed250a77c963fd\", element=\"aa0a707e-b9eb-4d11-92e3-6be88602cf5f\")>,\n",
       " <selenium.webdriver.remote.webelement.WebElement (session=\"05fe5bf3e699677bc2ed250a77c963fd\", element=\"37601d05-675b-4a22-9c20-943a1a5236c5\")>,\n",
       " <selenium.webdriver.remote.webelement.WebElement (session=\"05fe5bf3e699677bc2ed250a77c963fd\", element=\"67822482-a5cf-4912-9417-bfc1edb4c085\")>,\n",
       " <selenium.webdriver.remote.webelement.WebElement (session=\"05fe5bf3e699677bc2ed250a77c963fd\", element=\"508aecae-453f-47f0-8f0c-8f4a46864b3f\")>,\n",
       " <selenium.webdriver.remote.webelement.WebElement (session=\"05fe5bf3e699677bc2ed250a77c963fd\", element=\"e4854d67-9722-4e51-b01d-4147d6c890d8\")>,\n",
       " <selenium.webdriver.remote.webelement.WebElement (session=\"05fe5bf3e699677bc2ed250a77c963fd\", element=\"759d36c6-98c2-4631-abed-fa3a8621a249\")>,\n",
       " <selenium.webdriver.remote.webelement.WebElement (session=\"05fe5bf3e699677bc2ed250a77c963fd\", element=\"b382c3b4-2095-46ad-bedc-9c5217ba8ba2\")>,\n",
       " <selenium.webdriver.remote.webelement.WebElement (session=\"05fe5bf3e699677bc2ed250a77c963fd\", element=\"f2cba3a9-c80f-4600-bfc3-43ee23f003be\")>,\n",
       " <selenium.webdriver.remote.webelement.WebElement (session=\"05fe5bf3e699677bc2ed250a77c963fd\", element=\"ddbcbf3e-8c3e-45de-b423-0670cd4077c6\")>,\n",
       " <selenium.webdriver.remote.webelement.WebElement (session=\"05fe5bf3e699677bc2ed250a77c963fd\", element=\"495af697-1942-4a0e-b32f-421236f06a66\")>,\n",
       " <selenium.webdriver.remote.webelement.WebElement (session=\"05fe5bf3e699677bc2ed250a77c963fd\", element=\"698957d4-5884-4b0a-9ee1-1fc3f0bde298\")>,\n",
       " <selenium.webdriver.remote.webelement.WebElement (session=\"05fe5bf3e699677bc2ed250a77c963fd\", element=\"079703d6-dc3e-450b-ac7d-1b70691801cb\")>,\n",
       " <selenium.webdriver.remote.webelement.WebElement (session=\"05fe5bf3e699677bc2ed250a77c963fd\", element=\"e1b97804-40f2-4ad8-8e26-c399ad3606cb\")>,\n",
       " <selenium.webdriver.remote.webelement.WebElement (session=\"05fe5bf3e699677bc2ed250a77c963fd\", element=\"ff995fdc-ac25-4728-9236-2c129f1f6e07\")>,\n",
       " <selenium.webdriver.remote.webelement.WebElement (session=\"05fe5bf3e699677bc2ed250a77c963fd\", element=\"2b34084d-7485-4a3e-a1c1-3dc731986fd0\")>,\n",
       " <selenium.webdriver.remote.webelement.WebElement (session=\"05fe5bf3e699677bc2ed250a77c963fd\", element=\"67653c90-3390-43b2-88d2-3a4e9834b817\")>,\n",
       " <selenium.webdriver.remote.webelement.WebElement (session=\"05fe5bf3e699677bc2ed250a77c963fd\", element=\"4348fbfb-c264-4897-8239-6ffaacf50adf\")>,\n",
       " <selenium.webdriver.remote.webelement.WebElement (session=\"05fe5bf3e699677bc2ed250a77c963fd\", element=\"7b0ecb01-430a-440a-8c59-7a739594c9e3\")>,\n",
       " <selenium.webdriver.remote.webelement.WebElement (session=\"05fe5bf3e699677bc2ed250a77c963fd\", element=\"836108ec-ffb4-47f0-85c5-e1d9de1b3df1\")>,\n",
       " <selenium.webdriver.remote.webelement.WebElement (session=\"05fe5bf3e699677bc2ed250a77c963fd\", element=\"1720d1f5-8c07-4b7d-a8a0-624c058bfb36\")>,\n",
       " <selenium.webdriver.remote.webelement.WebElement (session=\"05fe5bf3e699677bc2ed250a77c963fd\", element=\"80e6fc12-5d32-466a-991f-3d2ddfb2f12b\")>,\n",
       " <selenium.webdriver.remote.webelement.WebElement (session=\"05fe5bf3e699677bc2ed250a77c963fd\", element=\"e25ff92f-bf3a-40d0-9dec-631f2a123ce3\")>,\n",
       " <selenium.webdriver.remote.webelement.WebElement (session=\"05fe5bf3e699677bc2ed250a77c963fd\", element=\"9a2f7270-2fe2-4a9c-87c5-aa5a8c5b02b6\")>,\n",
       " <selenium.webdriver.remote.webelement.WebElement (session=\"05fe5bf3e699677bc2ed250a77c963fd\", element=\"36e52d2f-d535-44ce-a77b-ad84152179aa\")>,\n",
       " <selenium.webdriver.remote.webelement.WebElement (session=\"05fe5bf3e699677bc2ed250a77c963fd\", element=\"dceb723e-1859-42d1-9ce8-dd7a8f99cba2\")>,\n",
       " <selenium.webdriver.remote.webelement.WebElement (session=\"05fe5bf3e699677bc2ed250a77c963fd\", element=\"9c45e8fc-d24e-419b-b9e7-4edd94ff5467\")>,\n",
       " <selenium.webdriver.remote.webelement.WebElement (session=\"05fe5bf3e699677bc2ed250a77c963fd\", element=\"e780b244-79d6-4194-be65-b132e455384d\")>,\n",
       " <selenium.webdriver.remote.webelement.WebElement (session=\"05fe5bf3e699677bc2ed250a77c963fd\", element=\"85e28b3c-8831-42ee-91c4-72f7595e7de5\")>,\n",
       " <selenium.webdriver.remote.webelement.WebElement (session=\"05fe5bf3e699677bc2ed250a77c963fd\", element=\"3f2aa2c9-7ab0-40f8-bcd0-7a3689f9bd91\")>,\n",
       " <selenium.webdriver.remote.webelement.WebElement (session=\"05fe5bf3e699677bc2ed250a77c963fd\", element=\"9ee5da58-68ea-474a-b8a6-b873ab9d29e3\")>,\n",
       " <selenium.webdriver.remote.webelement.WebElement (session=\"05fe5bf3e699677bc2ed250a77c963fd\", element=\"3dd39a6a-7972-4f48-8b67-63d95015fc98\")>,\n",
       " <selenium.webdriver.remote.webelement.WebElement (session=\"05fe5bf3e699677bc2ed250a77c963fd\", element=\"d71ace0a-5c33-4bdc-a80f-066ac3f3c111\")>,\n",
       " <selenium.webdriver.remote.webelement.WebElement (session=\"05fe5bf3e699677bc2ed250a77c963fd\", element=\"ac330f9d-eda0-4285-a01a-00768fcc5619\")>,\n",
       " <selenium.webdriver.remote.webelement.WebElement (session=\"05fe5bf3e699677bc2ed250a77c963fd\", element=\"7610ff14-6d09-4b7c-bd80-d987763e8878\")>,\n",
       " <selenium.webdriver.remote.webelement.WebElement (session=\"05fe5bf3e699677bc2ed250a77c963fd\", element=\"f3fd16bd-555d-45b5-859b-e390872af5bb\")>,\n",
       " <selenium.webdriver.remote.webelement.WebElement (session=\"05fe5bf3e699677bc2ed250a77c963fd\", element=\"58804563-57ad-4015-88d0-ad1a7e3f1b0d\")>,\n",
       " <selenium.webdriver.remote.webelement.WebElement (session=\"05fe5bf3e699677bc2ed250a77c963fd\", element=\"10a7d537-7d6a-45b7-a046-5d35cb92e2a8\")>,\n",
       " <selenium.webdriver.remote.webelement.WebElement (session=\"05fe5bf3e699677bc2ed250a77c963fd\", element=\"9038cfe8-c94a-4f0e-ba74-78663b2d5f1e\")>,\n",
       " <selenium.webdriver.remote.webelement.WebElement (session=\"05fe5bf3e699677bc2ed250a77c963fd\", element=\"57f6b25b-dfd9-48d9-8608-af2e77cc653d\")>,\n",
       " <selenium.webdriver.remote.webelement.WebElement (session=\"05fe5bf3e699677bc2ed250a77c963fd\", element=\"25d2023a-6008-45ee-baf4-78e9c2465a07\")>,\n",
       " <selenium.webdriver.remote.webelement.WebElement (session=\"05fe5bf3e699677bc2ed250a77c963fd\", element=\"1dcff5c1-f791-4957-a447-7a3404303f53\")>,\n",
       " <selenium.webdriver.remote.webelement.WebElement (session=\"05fe5bf3e699677bc2ed250a77c963fd\", element=\"d19ee5da-8215-466d-9ab3-6fd7ff4c9a6e\")>,\n",
       " <selenium.webdriver.remote.webelement.WebElement (session=\"05fe5bf3e699677bc2ed250a77c963fd\", element=\"d1420e28-ac2b-4f95-83ac-15f7546fb97e\")>,\n",
       " <selenium.webdriver.remote.webelement.WebElement (session=\"05fe5bf3e699677bc2ed250a77c963fd\", element=\"5d371fb2-a512-4b78-b45a-39665f869f58\")>,\n",
       " <selenium.webdriver.remote.webelement.WebElement (session=\"05fe5bf3e699677bc2ed250a77c963fd\", element=\"8772db69-007b-4e59-aa80-ac6c531e74cf\")>,\n",
       " <selenium.webdriver.remote.webelement.WebElement (session=\"05fe5bf3e699677bc2ed250a77c963fd\", element=\"a66bf7c5-7edc-44c3-88a2-322452e57c5c\")>,\n",
       " <selenium.webdriver.remote.webelement.WebElement (session=\"05fe5bf3e699677bc2ed250a77c963fd\", element=\"fd711c80-4d75-415d-9749-a32b96ac7340\")>,\n",
       " <selenium.webdriver.remote.webelement.WebElement (session=\"05fe5bf3e699677bc2ed250a77c963fd\", element=\"cab719b6-1f91-42f3-8d9f-ce8e28185021\")>,\n",
       " <selenium.webdriver.remote.webelement.WebElement (session=\"05fe5bf3e699677bc2ed250a77c963fd\", element=\"0f74d61f-8c02-4a10-80b2-54f7b4b1ba0e\")>,\n",
       " <selenium.webdriver.remote.webelement.WebElement (session=\"05fe5bf3e699677bc2ed250a77c963fd\", element=\"048a7f38-f054-4d99-b30b-d0f3e021f4b8\")>,\n",
       " <selenium.webdriver.remote.webelement.WebElement (session=\"05fe5bf3e699677bc2ed250a77c963fd\", element=\"81283a3c-5802-484c-bd74-89fa9a5d5732\")>,\n",
       " <selenium.webdriver.remote.webelement.WebElement (session=\"05fe5bf3e699677bc2ed250a77c963fd\", element=\"2583f921-1e8b-49da-a1c5-cf85fc4adf25\")>,\n",
       " <selenium.webdriver.remote.webelement.WebElement (session=\"05fe5bf3e699677bc2ed250a77c963fd\", element=\"76c28255-3743-4acf-b932-9b5f926c06e8\")>,\n",
       " <selenium.webdriver.remote.webelement.WebElement (session=\"05fe5bf3e699677bc2ed250a77c963fd\", element=\"e9b3b683-c2f9-4621-a32e-de31062aee22\")>,\n",
       " <selenium.webdriver.remote.webelement.WebElement (session=\"05fe5bf3e699677bc2ed250a77c963fd\", element=\"d6198a0a-1e87-42b2-8228-0ba44a5c4454\")>,\n",
       " <selenium.webdriver.remote.webelement.WebElement (session=\"05fe5bf3e699677bc2ed250a77c963fd\", element=\"118b690e-97a2-469d-b32a-3f274386716c\")>,\n",
       " <selenium.webdriver.remote.webelement.WebElement (session=\"05fe5bf3e699677bc2ed250a77c963fd\", element=\"36253977-e33b-4d93-a3b6-982d88de94de\")>,\n",
       " <selenium.webdriver.remote.webelement.WebElement (session=\"05fe5bf3e699677bc2ed250a77c963fd\", element=\"910e1f5b-91b2-4bdc-a8c3-0ce8844c6ac5\")>,\n",
       " <selenium.webdriver.remote.webelement.WebElement (session=\"05fe5bf3e699677bc2ed250a77c963fd\", element=\"16c57b2e-7f1e-4674-9bbb-5bf600dfce74\")>,\n",
       " <selenium.webdriver.remote.webelement.WebElement (session=\"05fe5bf3e699677bc2ed250a77c963fd\", element=\"6cd95d1e-dbb3-4b29-800f-090c47d8ba7f\")>,\n",
       " <selenium.webdriver.remote.webelement.WebElement (session=\"05fe5bf3e699677bc2ed250a77c963fd\", element=\"0eb93e10-e37f-4bf7-b7ec-acbd2d0aa88f\")>,\n",
       " <selenium.webdriver.remote.webelement.WebElement (session=\"05fe5bf3e699677bc2ed250a77c963fd\", element=\"b0fdf643-5e0b-4e40-83f4-871d36f38749\")>,\n",
       " <selenium.webdriver.remote.webelement.WebElement (session=\"05fe5bf3e699677bc2ed250a77c963fd\", element=\"1ce8b9e1-232f-4bf2-b120-3906eb1985b6\")>,\n",
       " <selenium.webdriver.remote.webelement.WebElement (session=\"05fe5bf3e699677bc2ed250a77c963fd\", element=\"70dc189f-8fc7-4977-add3-1076c06aae56\")>,\n",
       " <selenium.webdriver.remote.webelement.WebElement (session=\"05fe5bf3e699677bc2ed250a77c963fd\", element=\"1987d005-a009-4b9b-8f05-c22e103a24a3\")>,\n",
       " <selenium.webdriver.remote.webelement.WebElement (session=\"05fe5bf3e699677bc2ed250a77c963fd\", element=\"9e88b494-5501-490a-8c83-5779ecd3966f\")>,\n",
       " <selenium.webdriver.remote.webelement.WebElement (session=\"05fe5bf3e699677bc2ed250a77c963fd\", element=\"fc742d9d-a3f8-4bf3-8187-1a0f4189bcc9\")>,\n",
       " <selenium.webdriver.remote.webelement.WebElement (session=\"05fe5bf3e699677bc2ed250a77c963fd\", element=\"e1e071af-2e23-4285-8e64-4ecaba29f5e1\")>,\n",
       " <selenium.webdriver.remote.webelement.WebElement (session=\"05fe5bf3e699677bc2ed250a77c963fd\", element=\"741a176e-40c5-46ef-b1f4-84b395cba1f3\")>,\n",
       " <selenium.webdriver.remote.webelement.WebElement (session=\"05fe5bf3e699677bc2ed250a77c963fd\", element=\"2a626713-89ec-479c-80da-b911162e7226\")>,\n",
       " <selenium.webdriver.remote.webelement.WebElement (session=\"05fe5bf3e699677bc2ed250a77c963fd\", element=\"3d172d47-906a-42ff-935d-a735b89db7c6\")>,\n",
       " <selenium.webdriver.remote.webelement.WebElement (session=\"05fe5bf3e699677bc2ed250a77c963fd\", element=\"76f148a9-5c95-47dc-ad52-e39073d48e5e\")>,\n",
       " <selenium.webdriver.remote.webelement.WebElement (session=\"05fe5bf3e699677bc2ed250a77c963fd\", element=\"d3089142-7b2c-4666-8add-c02f97b5cbc4\")>,\n",
       " <selenium.webdriver.remote.webelement.WebElement (session=\"05fe5bf3e699677bc2ed250a77c963fd\", element=\"acac9f58-5725-4905-a76b-7520c9311f70\")>,\n",
       " <selenium.webdriver.remote.webelement.WebElement (session=\"05fe5bf3e699677bc2ed250a77c963fd\", element=\"301014da-40a3-40b1-ae78-25f9ca4d0ee2\")>,\n",
       " <selenium.webdriver.remote.webelement.WebElement (session=\"05fe5bf3e699677bc2ed250a77c963fd\", element=\"c22cf622-6a3b-4c9e-a58a-fdb889e94948\")>,\n",
       " <selenium.webdriver.remote.webelement.WebElement (session=\"05fe5bf3e699677bc2ed250a77c963fd\", element=\"ad59f305-ca89-44e3-b410-8be975aa5930\")>,\n",
       " <selenium.webdriver.remote.webelement.WebElement (session=\"05fe5bf3e699677bc2ed250a77c963fd\", element=\"2495a291-c97d-4fda-b088-3030eaadbf94\")>,\n",
       " <selenium.webdriver.remote.webelement.WebElement (session=\"05fe5bf3e699677bc2ed250a77c963fd\", element=\"189e6fb6-8001-4198-bf01-da7028048a33\")>,\n",
       " <selenium.webdriver.remote.webelement.WebElement (session=\"05fe5bf3e699677bc2ed250a77c963fd\", element=\"fc629208-05cc-4c3a-b470-dbf7c8f7d4e5\")>,\n",
       " <selenium.webdriver.remote.webelement.WebElement (session=\"05fe5bf3e699677bc2ed250a77c963fd\", element=\"f71dce11-e6fb-4a2c-98e4-f1c09f57ccd0\")>,\n",
       " <selenium.webdriver.remote.webelement.WebElement (session=\"05fe5bf3e699677bc2ed250a77c963fd\", element=\"6126a21e-45b5-40bc-ae4a-6ab83ca216d7\")>,\n",
       " <selenium.webdriver.remote.webelement.WebElement (session=\"05fe5bf3e699677bc2ed250a77c963fd\", element=\"5d762e06-abec-4c0b-b9a5-cd8186c976ae\")>,\n",
       " <selenium.webdriver.remote.webelement.WebElement (session=\"05fe5bf3e699677bc2ed250a77c963fd\", element=\"593a336d-1768-4be3-9916-05bedd9b967c\")>,\n",
       " <selenium.webdriver.remote.webelement.WebElement (session=\"05fe5bf3e699677bc2ed250a77c963fd\", element=\"c0bab194-6d4a-4bfb-978a-8ac6a1127bf8\")>,\n",
       " <selenium.webdriver.remote.webelement.WebElement (session=\"05fe5bf3e699677bc2ed250a77c963fd\", element=\"f2f8458f-a165-4c1f-9eca-c3ff96273995\")>,\n",
       " <selenium.webdriver.remote.webelement.WebElement (session=\"05fe5bf3e699677bc2ed250a77c963fd\", element=\"3260e4c4-d331-41e8-b9cb-081ba751420d\")>,\n",
       " <selenium.webdriver.remote.webelement.WebElement (session=\"05fe5bf3e699677bc2ed250a77c963fd\", element=\"625dac84-714f-4c59-8558-4dba5616d87d\")>,\n",
       " <selenium.webdriver.remote.webelement.WebElement (session=\"05fe5bf3e699677bc2ed250a77c963fd\", element=\"38956402-f9a9-4113-af20-3b33b6bf2bcf\")>,\n",
       " <selenium.webdriver.remote.webelement.WebElement (session=\"05fe5bf3e699677bc2ed250a77c963fd\", element=\"93d60450-73cf-45dc-9498-991dc227e13f\")>,\n",
       " <selenium.webdriver.remote.webelement.WebElement (session=\"05fe5bf3e699677bc2ed250a77c963fd\", element=\"ce435e3f-efdd-4791-8786-6df69ef51831\")>,\n",
       " <selenium.webdriver.remote.webelement.WebElement (session=\"05fe5bf3e699677bc2ed250a77c963fd\", element=\"981d815e-7139-4e52-82df-a8660270ca89\")>,\n",
       " <selenium.webdriver.remote.webelement.WebElement (session=\"05fe5bf3e699677bc2ed250a77c963fd\", element=\"8d31b9bf-0266-4c93-9979-b92ba4f55325\")>,\n",
       " <selenium.webdriver.remote.webelement.WebElement (session=\"05fe5bf3e699677bc2ed250a77c963fd\", element=\"72b6b6e9-2f6a-4fe9-af9c-0352f5ba73d8\")>,\n",
       " <selenium.webdriver.remote.webelement.WebElement (session=\"05fe5bf3e699677bc2ed250a77c963fd\", element=\"d71dead7-3e16-4c41-8692-cbd77cb73ae9\")>,\n",
       " <selenium.webdriver.remote.webelement.WebElement (session=\"05fe5bf3e699677bc2ed250a77c963fd\", element=\"23cf8fba-a6c2-45e7-8ae0-bea261b22eb0\")>,\n",
       " <selenium.webdriver.remote.webelement.WebElement (session=\"05fe5bf3e699677bc2ed250a77c963fd\", element=\"8f265bfb-e3ee-4d35-95e0-29978a84bbd6\")>,\n",
       " <selenium.webdriver.remote.webelement.WebElement (session=\"05fe5bf3e699677bc2ed250a77c963fd\", element=\"ee2c90d9-8ad3-4ebe-ae0d-8a4c39933c54\")>,\n",
       " <selenium.webdriver.remote.webelement.WebElement (session=\"05fe5bf3e699677bc2ed250a77c963fd\", element=\"fb1ac1cd-d314-4c5d-917f-c2848df3cc3b\")>,\n",
       " <selenium.webdriver.remote.webelement.WebElement (session=\"05fe5bf3e699677bc2ed250a77c963fd\", element=\"56a1669e-a106-4005-8661-89d1780ef76d\")>,\n",
       " <selenium.webdriver.remote.webelement.WebElement (session=\"05fe5bf3e699677bc2ed250a77c963fd\", element=\"e9386d33-878d-4d72-a205-e76cffaeb187\")>,\n",
       " <selenium.webdriver.remote.webelement.WebElement (session=\"05fe5bf3e699677bc2ed250a77c963fd\", element=\"9f1ed448-3088-419f-83f9-0e64818f692d\")>,\n",
       " <selenium.webdriver.remote.webelement.WebElement (session=\"05fe5bf3e699677bc2ed250a77c963fd\", element=\"81212f1f-8554-487b-a6be-08510609b70b\")>,\n",
       " <selenium.webdriver.remote.webelement.WebElement (session=\"05fe5bf3e699677bc2ed250a77c963fd\", element=\"2a628e9e-5e8d-42b7-8a2e-a4a92b146d21\")>,\n",
       " <selenium.webdriver.remote.webelement.WebElement (session=\"05fe5bf3e699677bc2ed250a77c963fd\", element=\"87a16020-d5c0-481b-b3bf-c6d0a891aa9d\")>,\n",
       " <selenium.webdriver.remote.webelement.WebElement (session=\"05fe5bf3e699677bc2ed250a77c963fd\", element=\"5a14fe4e-94d9-479c-8fd4-a5aa86fb39e9\")>,\n",
       " <selenium.webdriver.remote.webelement.WebElement (session=\"05fe5bf3e699677bc2ed250a77c963fd\", element=\"1866aed9-9a2d-4d7b-a7b6-bf95d0d8790e\")>,\n",
       " <selenium.webdriver.remote.webelement.WebElement (session=\"05fe5bf3e699677bc2ed250a77c963fd\", element=\"5d64617e-2ea7-4a79-9faa-d2c2593e7e76\")>,\n",
       " <selenium.webdriver.remote.webelement.WebElement (session=\"05fe5bf3e699677bc2ed250a77c963fd\", element=\"67c368d4-bdc6-4808-aee6-4cd3fb2b2c46\")>,\n",
       " <selenium.webdriver.remote.webelement.WebElement (session=\"05fe5bf3e699677bc2ed250a77c963fd\", element=\"4195009f-ae59-4f0d-8444-559057c32610\")>,\n",
       " <selenium.webdriver.remote.webelement.WebElement (session=\"05fe5bf3e699677bc2ed250a77c963fd\", element=\"3a96a87b-c329-45af-b554-a99a3daf923e\")>,\n",
       " <selenium.webdriver.remote.webelement.WebElement (session=\"05fe5bf3e699677bc2ed250a77c963fd\", element=\"a2fd0e42-a479-4734-a58b-99ad2afa20ff\")>,\n",
       " <selenium.webdriver.remote.webelement.WebElement (session=\"05fe5bf3e699677bc2ed250a77c963fd\", element=\"bae3c9b9-404d-4190-9176-433d0e496a72\")>,\n",
       " <selenium.webdriver.remote.webelement.WebElement (session=\"05fe5bf3e699677bc2ed250a77c963fd\", element=\"d370c33b-0cf5-4926-8074-c4bb74a33958\")>,\n",
       " <selenium.webdriver.remote.webelement.WebElement (session=\"05fe5bf3e699677bc2ed250a77c963fd\", element=\"21aba34a-efc6-464c-8383-2da24b638069\")>,\n",
       " <selenium.webdriver.remote.webelement.WebElement (session=\"05fe5bf3e699677bc2ed250a77c963fd\", element=\"dd4f169b-1692-49dd-94af-681c3967478a\")>,\n",
       " <selenium.webdriver.remote.webelement.WebElement (session=\"05fe5bf3e699677bc2ed250a77c963fd\", element=\"140205cb-0ae1-4844-a963-2469d4fd25db\")>,\n",
       " <selenium.webdriver.remote.webelement.WebElement (session=\"05fe5bf3e699677bc2ed250a77c963fd\", element=\"c7a6b57d-6e8e-4e23-a96c-3cc03a23840c\")>,\n",
       " <selenium.webdriver.remote.webelement.WebElement (session=\"05fe5bf3e699677bc2ed250a77c963fd\", element=\"c74e311b-71e2-465b-90e7-33b817b0c3f5\")>,\n",
       " <selenium.webdriver.remote.webelement.WebElement (session=\"05fe5bf3e699677bc2ed250a77c963fd\", element=\"f3176b96-8f0f-4775-b073-562835ab9135\")>,\n",
       " <selenium.webdriver.remote.webelement.WebElement (session=\"05fe5bf3e699677bc2ed250a77c963fd\", element=\"fb563e29-10b7-47aa-a45d-14a83efd134c\")>,\n",
       " <selenium.webdriver.remote.webelement.WebElement (session=\"05fe5bf3e699677bc2ed250a77c963fd\", element=\"fb363d5e-6fc6-48ad-a3c5-9bbfdbfb6fae\")>,\n",
       " <selenium.webdriver.remote.webelement.WebElement (session=\"05fe5bf3e699677bc2ed250a77c963fd\", element=\"03dca2ac-0c8e-4407-adfe-f8c7da90fb55\")>,\n",
       " <selenium.webdriver.remote.webelement.WebElement (session=\"05fe5bf3e699677bc2ed250a77c963fd\", element=\"a33c022b-e381-4583-b46a-9a032a0a91bd\")>,\n",
       " <selenium.webdriver.remote.webelement.WebElement (session=\"05fe5bf3e699677bc2ed250a77c963fd\", element=\"9f131782-9cce-4387-939b-be4f84b6ecbc\")>,\n",
       " <selenium.webdriver.remote.webelement.WebElement (session=\"05fe5bf3e699677bc2ed250a77c963fd\", element=\"0ce14f38-a8be-4df9-8ff7-5c7943962669\")>,\n",
       " <selenium.webdriver.remote.webelement.WebElement (session=\"05fe5bf3e699677bc2ed250a77c963fd\", element=\"170c21b6-8991-4a94-a4b5-637817f3cc3a\")>,\n",
       " <selenium.webdriver.remote.webelement.WebElement (session=\"05fe5bf3e699677bc2ed250a77c963fd\", element=\"fa90fc79-dea9-4805-8e10-6900d3196747\")>,\n",
       " <selenium.webdriver.remote.webelement.WebElement (session=\"05fe5bf3e699677bc2ed250a77c963fd\", element=\"d6fcd779-40df-4346-b35b-e3dd908cc8ab\")>,\n",
       " <selenium.webdriver.remote.webelement.WebElement (session=\"05fe5bf3e699677bc2ed250a77c963fd\", element=\"66f5f235-539b-4389-96fb-a91b3161f517\")>,\n",
       " <selenium.webdriver.remote.webelement.WebElement (session=\"05fe5bf3e699677bc2ed250a77c963fd\", element=\"05a23080-a746-4557-bb5f-e2d861dcfc95\")>,\n",
       " <selenium.webdriver.remote.webelement.WebElement (session=\"05fe5bf3e699677bc2ed250a77c963fd\", element=\"b7729b3b-b400-4b13-99f7-f6577d273cfb\")>,\n",
       " <selenium.webdriver.remote.webelement.WebElement (session=\"05fe5bf3e699677bc2ed250a77c963fd\", element=\"048d8b98-c7d2-470f-b1ba-48412921e7e6\")>,\n",
       " <selenium.webdriver.remote.webelement.WebElement (session=\"05fe5bf3e699677bc2ed250a77c963fd\", element=\"ec0052a2-a7fc-4fda-a1b8-0c4330401b12\")>,\n",
       " <selenium.webdriver.remote.webelement.WebElement (session=\"05fe5bf3e699677bc2ed250a77c963fd\", element=\"67631318-5a6a-40ac-a950-add1c511f30f\")>,\n",
       " <selenium.webdriver.remote.webelement.WebElement (session=\"05fe5bf3e699677bc2ed250a77c963fd\", element=\"688cfca5-b952-427c-bef6-7666dd9a73c2\")>,\n",
       " <selenium.webdriver.remote.webelement.WebElement (session=\"05fe5bf3e699677bc2ed250a77c963fd\", element=\"2ca0a693-af38-451a-893b-c38efbd522d7\")>,\n",
       " <selenium.webdriver.remote.webelement.WebElement (session=\"05fe5bf3e699677bc2ed250a77c963fd\", element=\"6a8338a1-0cad-4777-9cfc-215d1a0d7914\")>,\n",
       " <selenium.webdriver.remote.webelement.WebElement (session=\"05fe5bf3e699677bc2ed250a77c963fd\", element=\"5d02c246-9032-4ac3-97ac-05f00e0e32fc\")>,\n",
       " <selenium.webdriver.remote.webelement.WebElement (session=\"05fe5bf3e699677bc2ed250a77c963fd\", element=\"2c31773a-5046-4d50-a9b7-94f7eadb7b57\")>,\n",
       " <selenium.webdriver.remote.webelement.WebElement (session=\"05fe5bf3e699677bc2ed250a77c963fd\", element=\"05cd2d76-3d09-4148-83c6-f79af7660ce2\")>,\n",
       " <selenium.webdriver.remote.webelement.WebElement (session=\"05fe5bf3e699677bc2ed250a77c963fd\", element=\"f4f11623-7263-45fe-985c-f09187ca8ca1\")>,\n",
       " <selenium.webdriver.remote.webelement.WebElement (session=\"05fe5bf3e699677bc2ed250a77c963fd\", element=\"2392bc8c-e1a0-4455-92db-1e86a42a0ad0\")>,\n",
       " <selenium.webdriver.remote.webelement.WebElement (session=\"05fe5bf3e699677bc2ed250a77c963fd\", element=\"7ebe0221-e3c3-4a51-9459-d1b323145dc2\")>,\n",
       " <selenium.webdriver.remote.webelement.WebElement (session=\"05fe5bf3e699677bc2ed250a77c963fd\", element=\"fefe1081-345e-4369-b223-6f9319a6233e\")>,\n",
       " <selenium.webdriver.remote.webelement.WebElement (session=\"05fe5bf3e699677bc2ed250a77c963fd\", element=\"2edf95e4-2096-4419-97b3-53bf36d185e4\")>,\n",
       " <selenium.webdriver.remote.webelement.WebElement (session=\"05fe5bf3e699677bc2ed250a77c963fd\", element=\"7bf964a7-5bfc-4e1d-9ffe-22d1297eea50\")>,\n",
       " <selenium.webdriver.remote.webelement.WebElement (session=\"05fe5bf3e699677bc2ed250a77c963fd\", element=\"5aab374c-b2f6-4ab9-adc6-852d3cd30a41\")>,\n",
       " <selenium.webdriver.remote.webelement.WebElement (session=\"05fe5bf3e699677bc2ed250a77c963fd\", element=\"70708d52-4576-47df-8d7c-7a43f491e091\")>,\n",
       " <selenium.webdriver.remote.webelement.WebElement (session=\"05fe5bf3e699677bc2ed250a77c963fd\", element=\"19b826b4-434f-455b-848f-80404c0680e2\")>,\n",
       " <selenium.webdriver.remote.webelement.WebElement (session=\"05fe5bf3e699677bc2ed250a77c963fd\", element=\"9f694bb3-b300-4cc0-904a-e529a33414a7\")>,\n",
       " <selenium.webdriver.remote.webelement.WebElement (session=\"05fe5bf3e699677bc2ed250a77c963fd\", element=\"b1934516-34b0-408e-bab9-95ff14e3581f\")>,\n",
       " <selenium.webdriver.remote.webelement.WebElement (session=\"05fe5bf3e699677bc2ed250a77c963fd\", element=\"b273eb22-c5d5-4927-872b-85550dc72091\")>,\n",
       " <selenium.webdriver.remote.webelement.WebElement (session=\"05fe5bf3e699677bc2ed250a77c963fd\", element=\"3004991d-876d-455a-8962-76462a357579\")>,\n",
       " <selenium.webdriver.remote.webelement.WebElement (session=\"05fe5bf3e699677bc2ed250a77c963fd\", element=\"41f40a64-469a-4c18-9485-ad1c3e4905aa\")>,\n",
       " <selenium.webdriver.remote.webelement.WebElement (session=\"05fe5bf3e699677bc2ed250a77c963fd\", element=\"e6cf88c2-ceb9-491e-888f-3fe179765a0d\")>,\n",
       " <selenium.webdriver.remote.webelement.WebElement (session=\"05fe5bf3e699677bc2ed250a77c963fd\", element=\"212a6c21-e121-4b93-ae13-0cb7a0bc5014\")>,\n",
       " <selenium.webdriver.remote.webelement.WebElement (session=\"05fe5bf3e699677bc2ed250a77c963fd\", element=\"58294a2e-6241-49e9-b33b-4ac370ac5010\")>,\n",
       " <selenium.webdriver.remote.webelement.WebElement (session=\"05fe5bf3e699677bc2ed250a77c963fd\", element=\"5569be6e-7a2e-4cee-abbe-11a056635822\")>,\n",
       " <selenium.webdriver.remote.webelement.WebElement (session=\"05fe5bf3e699677bc2ed250a77c963fd\", element=\"774cd6e4-2db4-4fc8-bcc2-0e363e3ee8e5\")>,\n",
       " <selenium.webdriver.remote.webelement.WebElement (session=\"05fe5bf3e699677bc2ed250a77c963fd\", element=\"87d828c3-8262-44a0-b8f0-2a674591e8fd\")>,\n",
       " <selenium.webdriver.remote.webelement.WebElement (session=\"05fe5bf3e699677bc2ed250a77c963fd\", element=\"f25dcf6e-2df4-4cce-b046-46f75db6b9a0\")>,\n",
       " <selenium.webdriver.remote.webelement.WebElement (session=\"05fe5bf3e699677bc2ed250a77c963fd\", element=\"040dd6a0-6a34-4785-9768-a8c1c0e68f27\")>,\n",
       " <selenium.webdriver.remote.webelement.WebElement (session=\"05fe5bf3e699677bc2ed250a77c963fd\", element=\"ea8cdff5-86c4-4f5c-b3a6-1997c69fe787\")>,\n",
       " <selenium.webdriver.remote.webelement.WebElement (session=\"05fe5bf3e699677bc2ed250a77c963fd\", element=\"da588f14-c350-4cca-9f5c-2f2c04b96439\")>,\n",
       " <selenium.webdriver.remote.webelement.WebElement (session=\"05fe5bf3e699677bc2ed250a77c963fd\", element=\"590f54b4-4fb9-4d6c-8b3a-e506cb4e6dcc\")>,\n",
       " <selenium.webdriver.remote.webelement.WebElement (session=\"05fe5bf3e699677bc2ed250a77c963fd\", element=\"75abc384-7d36-4c0d-9dde-71078c063802\")>,\n",
       " <selenium.webdriver.remote.webelement.WebElement (session=\"05fe5bf3e699677bc2ed250a77c963fd\", element=\"aefea237-ad7a-48ae-a591-3cc8ef5b11f5\")>,\n",
       " <selenium.webdriver.remote.webelement.WebElement (session=\"05fe5bf3e699677bc2ed250a77c963fd\", element=\"8821bf67-d0ab-4da3-8317-f997a8f62e8b\")>,\n",
       " <selenium.webdriver.remote.webelement.WebElement (session=\"05fe5bf3e699677bc2ed250a77c963fd\", element=\"a6d0750c-853b-4d06-9cf1-a82169b37e4d\")>,\n",
       " <selenium.webdriver.remote.webelement.WebElement (session=\"05fe5bf3e699677bc2ed250a77c963fd\", element=\"3a4d3ff2-d700-40fe-8af3-053cf50e9655\")>,\n",
       " <selenium.webdriver.remote.webelement.WebElement (session=\"05fe5bf3e699677bc2ed250a77c963fd\", element=\"6dbb86da-5055-43c0-906a-34488c0ca366\")>,\n",
       " <selenium.webdriver.remote.webelement.WebElement (session=\"05fe5bf3e699677bc2ed250a77c963fd\", element=\"ec68f0d2-a652-4da9-9d32-1f1df926932e\")>,\n",
       " <selenium.webdriver.remote.webelement.WebElement (session=\"05fe5bf3e699677bc2ed250a77c963fd\", element=\"dff1a074-cae0-459f-9ddd-f04e33d1eaec\")>,\n",
       " <selenium.webdriver.remote.webelement.WebElement (session=\"05fe5bf3e699677bc2ed250a77c963fd\", element=\"b3fc5e60-455b-4ddc-b2b0-4ea104cb6cb3\")>,\n",
       " <selenium.webdriver.remote.webelement.WebElement (session=\"05fe5bf3e699677bc2ed250a77c963fd\", element=\"f857abcf-05ad-4696-ae06-e3308fafe4f4\")>,\n",
       " <selenium.webdriver.remote.webelement.WebElement (session=\"05fe5bf3e699677bc2ed250a77c963fd\", element=\"26eef63e-b3ae-48b0-af9e-6947735566a3\")>,\n",
       " <selenium.webdriver.remote.webelement.WebElement (session=\"05fe5bf3e699677bc2ed250a77c963fd\", element=\"646f5f44-f127-41a2-8012-4972291a0d4e\")>,\n",
       " <selenium.webdriver.remote.webelement.WebElement (session=\"05fe5bf3e699677bc2ed250a77c963fd\", element=\"b75a9418-9591-45f3-a89d-29d9a49b73b0\")>,\n",
       " <selenium.webdriver.remote.webelement.WebElement (session=\"05fe5bf3e699677bc2ed250a77c963fd\", element=\"9865739a-a180-4167-a7f8-6f248b3afe8c\")>,\n",
       " <selenium.webdriver.remote.webelement.WebElement (session=\"05fe5bf3e699677bc2ed250a77c963fd\", element=\"6da2465a-4d12-4ad3-8f6d-ff1ab99ef3ee\")>,\n",
       " <selenium.webdriver.remote.webelement.WebElement (session=\"05fe5bf3e699677bc2ed250a77c963fd\", element=\"ea48d642-9351-4a53-99ad-912b6dc40bbf\")>,\n",
       " <selenium.webdriver.remote.webelement.WebElement (session=\"05fe5bf3e699677bc2ed250a77c963fd\", element=\"da41328c-5f1d-4c0b-a755-1b914c41de5d\")>,\n",
       " <selenium.webdriver.remote.webelement.WebElement (session=\"05fe5bf3e699677bc2ed250a77c963fd\", element=\"2aef3aeb-f8aa-49ec-95bb-b2ebc84199af\")>,\n",
       " <selenium.webdriver.remote.webelement.WebElement (session=\"05fe5bf3e699677bc2ed250a77c963fd\", element=\"47fbf58f-d6af-4308-80f9-90b4d576b40f\")>,\n",
       " <selenium.webdriver.remote.webelement.WebElement (session=\"05fe5bf3e699677bc2ed250a77c963fd\", element=\"27285fd8-d8a7-4d48-8aea-9b15b1e2e367\")>,\n",
       " <selenium.webdriver.remote.webelement.WebElement (session=\"05fe5bf3e699677bc2ed250a77c963fd\", element=\"701d69f7-12b0-4b2c-965e-352708e7b73a\")>,\n",
       " <selenium.webdriver.remote.webelement.WebElement (session=\"05fe5bf3e699677bc2ed250a77c963fd\", element=\"5a5b6a5f-c220-4eff-9202-026cd74bc3d3\")>,\n",
       " <selenium.webdriver.remote.webelement.WebElement (session=\"05fe5bf3e699677bc2ed250a77c963fd\", element=\"44ff5b37-09a6-47f0-a9b2-b9fff03d5d1d\")>,\n",
       " <selenium.webdriver.remote.webelement.WebElement (session=\"05fe5bf3e699677bc2ed250a77c963fd\", element=\"afa1e4ea-b106-4ed4-87ab-12fa6ff926e0\")>,\n",
       " <selenium.webdriver.remote.webelement.WebElement (session=\"05fe5bf3e699677bc2ed250a77c963fd\", element=\"6cdfd686-342a-41f6-8f80-7b41e9a9a459\")>,\n",
       " <selenium.webdriver.remote.webelement.WebElement (session=\"05fe5bf3e699677bc2ed250a77c963fd\", element=\"c63580a3-0bb3-4ece-8035-9bdf9072912c\")>,\n",
       " <selenium.webdriver.remote.webelement.WebElement (session=\"05fe5bf3e699677bc2ed250a77c963fd\", element=\"acdb07c3-7577-4058-a6cd-4678a07a3466\")>,\n",
       " <selenium.webdriver.remote.webelement.WebElement (session=\"05fe5bf3e699677bc2ed250a77c963fd\", element=\"52b426d7-3e2f-4017-a447-d720d09a08f5\")>,\n",
       " <selenium.webdriver.remote.webelement.WebElement (session=\"05fe5bf3e699677bc2ed250a77c963fd\", element=\"ed6a9420-91cc-474b-a14a-5b350317ba0f\")>,\n",
       " <selenium.webdriver.remote.webelement.WebElement (session=\"05fe5bf3e699677bc2ed250a77c963fd\", element=\"2171d6d7-b42c-47de-8143-eb33929a9cb4\")>,\n",
       " <selenium.webdriver.remote.webelement.WebElement (session=\"05fe5bf3e699677bc2ed250a77c963fd\", element=\"4c400e0e-c3b5-4ac6-90ef-3cd2bc00a51b\")>,\n",
       " <selenium.webdriver.remote.webelement.WebElement (session=\"05fe5bf3e699677bc2ed250a77c963fd\", element=\"29e09cf5-3ed1-4bd6-b6b5-0a5bbc251b9c\")>,\n",
       " <selenium.webdriver.remote.webelement.WebElement (session=\"05fe5bf3e699677bc2ed250a77c963fd\", element=\"8786b3e0-c72f-4f08-ba76-950b6c75605b\")>,\n",
       " <selenium.webdriver.remote.webelement.WebElement (session=\"05fe5bf3e699677bc2ed250a77c963fd\", element=\"0c10f109-ffb2-452b-91f1-7fdda0af2c37\")>,\n",
       " <selenium.webdriver.remote.webelement.WebElement (session=\"05fe5bf3e699677bc2ed250a77c963fd\", element=\"3e178423-506e-4342-a4f6-7bff39e63e33\")>,\n",
       " <selenium.webdriver.remote.webelement.WebElement (session=\"05fe5bf3e699677bc2ed250a77c963fd\", element=\"87230bf3-03e6-4bce-b70f-a6c650e57a2c\")>,\n",
       " <selenium.webdriver.remote.webelement.WebElement (session=\"05fe5bf3e699677bc2ed250a77c963fd\", element=\"8fc56270-628d-46da-bf9b-3ea7466f8206\")>,\n",
       " <selenium.webdriver.remote.webelement.WebElement (session=\"05fe5bf3e699677bc2ed250a77c963fd\", element=\"bca631b1-862c-4850-8a76-8267c4ef064b\")>,\n",
       " <selenium.webdriver.remote.webelement.WebElement (session=\"05fe5bf3e699677bc2ed250a77c963fd\", element=\"14b86148-8e5c-445d-89e0-b7501ce40f99\")>,\n",
       " <selenium.webdriver.remote.webelement.WebElement (session=\"05fe5bf3e699677bc2ed250a77c963fd\", element=\"2874d413-ec68-4c11-bf95-3170c606103c\")>,\n",
       " <selenium.webdriver.remote.webelement.WebElement (session=\"05fe5bf3e699677bc2ed250a77c963fd\", element=\"f9562215-dd0e-437a-8ff4-e731226235c0\")>,\n",
       " <selenium.webdriver.remote.webelement.WebElement (session=\"05fe5bf3e699677bc2ed250a77c963fd\", element=\"7effc930-e0bb-4635-9d56-431a0be800aa\")>,\n",
       " <selenium.webdriver.remote.webelement.WebElement (session=\"05fe5bf3e699677bc2ed250a77c963fd\", element=\"6381880f-55c3-4de9-8334-f7f07e623dc4\")>,\n",
       " <selenium.webdriver.remote.webelement.WebElement (session=\"05fe5bf3e699677bc2ed250a77c963fd\", element=\"fe59bb22-c84a-4cb2-a4ea-894bd396e735\")>,\n",
       " <selenium.webdriver.remote.webelement.WebElement (session=\"05fe5bf3e699677bc2ed250a77c963fd\", element=\"7d0de73a-7b79-4978-9532-a4e75feba3ed\")>,\n",
       " <selenium.webdriver.remote.webelement.WebElement (session=\"05fe5bf3e699677bc2ed250a77c963fd\", element=\"2445e101-419b-4c0c-bf5e-2713056d2755\")>,\n",
       " <selenium.webdriver.remote.webelement.WebElement (session=\"05fe5bf3e699677bc2ed250a77c963fd\", element=\"cd379121-3dd6-497a-aebf-f6ed7c31a31a\")>,\n",
       " <selenium.webdriver.remote.webelement.WebElement (session=\"05fe5bf3e699677bc2ed250a77c963fd\", element=\"11b38e8f-4137-45f8-b2f3-71290a08bbf8\")>,\n",
       " <selenium.webdriver.remote.webelement.WebElement (session=\"05fe5bf3e699677bc2ed250a77c963fd\", element=\"62813a7a-fa63-4c3d-b62d-fd15f07fcc9a\")>,\n",
       " <selenium.webdriver.remote.webelement.WebElement (session=\"05fe5bf3e699677bc2ed250a77c963fd\", element=\"a9dc7550-c8f1-410d-b2ff-24477974968b\")>,\n",
       " <selenium.webdriver.remote.webelement.WebElement (session=\"05fe5bf3e699677bc2ed250a77c963fd\", element=\"306ac1c2-61d7-4008-96d8-878c852c800d\")>,\n",
       " <selenium.webdriver.remote.webelement.WebElement (session=\"05fe5bf3e699677bc2ed250a77c963fd\", element=\"16a7ddf0-f0d8-44c3-a4ef-ee6598810794\")>,\n",
       " <selenium.webdriver.remote.webelement.WebElement (session=\"05fe5bf3e699677bc2ed250a77c963fd\", element=\"343d6c67-e6d3-4059-8577-41ce90d57f7c\")>,\n",
       " <selenium.webdriver.remote.webelement.WebElement (session=\"05fe5bf3e699677bc2ed250a77c963fd\", element=\"0c79b5d7-d972-4d54-ae75-251db4c33a04\")>,\n",
       " <selenium.webdriver.remote.webelement.WebElement (session=\"05fe5bf3e699677bc2ed250a77c963fd\", element=\"9079143b-7f6f-43a8-8827-5ef8a609286a\")>,\n",
       " <selenium.webdriver.remote.webelement.WebElement (session=\"05fe5bf3e699677bc2ed250a77c963fd\", element=\"7a02b144-cc6a-4209-a26c-889f191c7b5f\")>,\n",
       " <selenium.webdriver.remote.webelement.WebElement (session=\"05fe5bf3e699677bc2ed250a77c963fd\", element=\"3d93b110-a746-4fa6-b3a9-d2505271d2f2\")>,\n",
       " <selenium.webdriver.remote.webelement.WebElement (session=\"05fe5bf3e699677bc2ed250a77c963fd\", element=\"adbdc911-2947-4edf-8f39-4d3ffb077570\")>,\n",
       " <selenium.webdriver.remote.webelement.WebElement (session=\"05fe5bf3e699677bc2ed250a77c963fd\", element=\"87373d6f-c947-4684-9813-75abc0fdac98\")>,\n",
       " <selenium.webdriver.remote.webelement.WebElement (session=\"05fe5bf3e699677bc2ed250a77c963fd\", element=\"1ce44cd8-7341-4b3c-90b2-580f190b73a6\")>,\n",
       " <selenium.webdriver.remote.webelement.WebElement (session=\"05fe5bf3e699677bc2ed250a77c963fd\", element=\"f9aa5be7-260a-47d0-b972-bbb86fe71400\")>,\n",
       " <selenium.webdriver.remote.webelement.WebElement (session=\"05fe5bf3e699677bc2ed250a77c963fd\", element=\"8fe6486a-bbd9-4420-8644-75dae0fcf51e\")>,\n",
       " <selenium.webdriver.remote.webelement.WebElement (session=\"05fe5bf3e699677bc2ed250a77c963fd\", element=\"af0c399b-7d03-46e9-ad0d-3a0be9a90a2a\")>,\n",
       " <selenium.webdriver.remote.webelement.WebElement (session=\"05fe5bf3e699677bc2ed250a77c963fd\", element=\"d1164369-b01c-481a-bb50-7a24bb76eced\")>,\n",
       " <selenium.webdriver.remote.webelement.WebElement (session=\"05fe5bf3e699677bc2ed250a77c963fd\", element=\"f4ab1bf0-0779-42ad-9bdf-29890c6de1df\")>,\n",
       " <selenium.webdriver.remote.webelement.WebElement (session=\"05fe5bf3e699677bc2ed250a77c963fd\", element=\"6c025c30-a79f-44a1-b4e9-d133d2f41834\")>,\n",
       " <selenium.webdriver.remote.webelement.WebElement (session=\"05fe5bf3e699677bc2ed250a77c963fd\", element=\"8252364c-9e0e-4927-a63f-e6b272620f06\")>,\n",
       " <selenium.webdriver.remote.webelement.WebElement (session=\"05fe5bf3e699677bc2ed250a77c963fd\", element=\"eaff095c-1e57-4d62-88f0-e73ee0804e89\")>,\n",
       " <selenium.webdriver.remote.webelement.WebElement (session=\"05fe5bf3e699677bc2ed250a77c963fd\", element=\"3aee70cc-5cd4-4659-affe-efa8243f107a\")>,\n",
       " <selenium.webdriver.remote.webelement.WebElement (session=\"05fe5bf3e699677bc2ed250a77c963fd\", element=\"b69e65b6-e7a7-42cf-95bf-7e48a933189c\")>,\n",
       " <selenium.webdriver.remote.webelement.WebElement (session=\"05fe5bf3e699677bc2ed250a77c963fd\", element=\"0cd906fe-f8f0-459f-b4d4-3bc70c521461\")>,\n",
       " <selenium.webdriver.remote.webelement.WebElement (session=\"05fe5bf3e699677bc2ed250a77c963fd\", element=\"2a308e7a-2724-4871-a748-e42ff371f387\")>,\n",
       " <selenium.webdriver.remote.webelement.WebElement (session=\"05fe5bf3e699677bc2ed250a77c963fd\", element=\"33fdd6e8-244f-42e2-9493-72f34c84761c\")>,\n",
       " <selenium.webdriver.remote.webelement.WebElement (session=\"05fe5bf3e699677bc2ed250a77c963fd\", element=\"2f74a1b4-4ca2-4410-a386-911dc2d93eb5\")>,\n",
       " <selenium.webdriver.remote.webelement.WebElement (session=\"05fe5bf3e699677bc2ed250a77c963fd\", element=\"555eeb91-d152-42e8-b1f7-a103cba523e3\")>,\n",
       " <selenium.webdriver.remote.webelement.WebElement (session=\"05fe5bf3e699677bc2ed250a77c963fd\", element=\"23d6b4aa-580b-4a6b-ba6c-320bdd359762\")>,\n",
       " <selenium.webdriver.remote.webelement.WebElement (session=\"05fe5bf3e699677bc2ed250a77c963fd\", element=\"8af6b69e-cd57-452d-bd9e-10a2c4d2c5c0\")>,\n",
       " <selenium.webdriver.remote.webelement.WebElement (session=\"05fe5bf3e699677bc2ed250a77c963fd\", element=\"1bf26cd4-9a3e-443a-9c99-cb91cc9165e5\")>,\n",
       " <selenium.webdriver.remote.webelement.WebElement (session=\"05fe5bf3e699677bc2ed250a77c963fd\", element=\"e36b844d-6382-4c65-bf29-9eb623cf69ac\")>,\n",
       " <selenium.webdriver.remote.webelement.WebElement (session=\"05fe5bf3e699677bc2ed250a77c963fd\", element=\"186fd272-3a91-40fc-bca7-ad94a83c88a6\")>,\n",
       " <selenium.webdriver.remote.webelement.WebElement (session=\"05fe5bf3e699677bc2ed250a77c963fd\", element=\"b9b7544d-fa1d-4b7c-91c0-35488b9b1304\")>,\n",
       " <selenium.webdriver.remote.webelement.WebElement (session=\"05fe5bf3e699677bc2ed250a77c963fd\", element=\"cf6b1e96-3c31-4af4-8240-c8be170df589\")>,\n",
       " <selenium.webdriver.remote.webelement.WebElement (session=\"05fe5bf3e699677bc2ed250a77c963fd\", element=\"743f1403-a837-4eda-aa8d-fb023ea47ced\")>,\n",
       " <selenium.webdriver.remote.webelement.WebElement (session=\"05fe5bf3e699677bc2ed250a77c963fd\", element=\"e69e50a8-ceee-429c-a91f-3e41e1ec5803\")>,\n",
       " <selenium.webdriver.remote.webelement.WebElement (session=\"05fe5bf3e699677bc2ed250a77c963fd\", element=\"68496348-cf0a-4a30-9265-90cec1c7c0c9\")>,\n",
       " <selenium.webdriver.remote.webelement.WebElement (session=\"05fe5bf3e699677bc2ed250a77c963fd\", element=\"e96f2dfd-696c-446d-a6fe-706447c6c985\")>,\n",
       " <selenium.webdriver.remote.webelement.WebElement (session=\"05fe5bf3e699677bc2ed250a77c963fd\", element=\"b650b303-5793-46cb-9e5a-85689810f01f\")>,\n",
       " <selenium.webdriver.remote.webelement.WebElement (session=\"05fe5bf3e699677bc2ed250a77c963fd\", element=\"df84acc8-5d04-49ad-b932-7b6ac50a0f78\")>,\n",
       " <selenium.webdriver.remote.webelement.WebElement (session=\"05fe5bf3e699677bc2ed250a77c963fd\", element=\"e76652f6-f40c-41c6-9120-c47e4dd74cd3\")>,\n",
       " <selenium.webdriver.remote.webelement.WebElement (session=\"05fe5bf3e699677bc2ed250a77c963fd\", element=\"149cebe8-dc35-495d-a6d9-902086ccd686\")>,\n",
       " <selenium.webdriver.remote.webelement.WebElement (session=\"05fe5bf3e699677bc2ed250a77c963fd\", element=\"8c5afb79-52d4-4a01-bf58-a2950910f45e\")>,\n",
       " <selenium.webdriver.remote.webelement.WebElement (session=\"05fe5bf3e699677bc2ed250a77c963fd\", element=\"cfe183b7-a266-402f-86a4-ee935a564d85\")>,\n",
       " <selenium.webdriver.remote.webelement.WebElement (session=\"05fe5bf3e699677bc2ed250a77c963fd\", element=\"faa26ee8-9c18-4760-96a3-a943aa5e4a50\")>,\n",
       " <selenium.webdriver.remote.webelement.WebElement (session=\"05fe5bf3e699677bc2ed250a77c963fd\", element=\"f059b2b9-3a49-476c-9cfa-750aaa994def\")>,\n",
       " <selenium.webdriver.remote.webelement.WebElement (session=\"05fe5bf3e699677bc2ed250a77c963fd\", element=\"51b86cf0-37ae-48c4-aebb-c4c99f9bc3f5\")>,\n",
       " <selenium.webdriver.remote.webelement.WebElement (session=\"05fe5bf3e699677bc2ed250a77c963fd\", element=\"3a7f3229-2ec3-4e37-a7fb-fd15a5b3fb6b\")>,\n",
       " <selenium.webdriver.remote.webelement.WebElement (session=\"05fe5bf3e699677bc2ed250a77c963fd\", element=\"5c68c47e-1e5e-4a68-83bf-77d0179a0522\")>,\n",
       " <selenium.webdriver.remote.webelement.WebElement (session=\"05fe5bf3e699677bc2ed250a77c963fd\", element=\"ff000f5d-4788-49b3-a6f3-6e33da64267e\")>,\n",
       " <selenium.webdriver.remote.webelement.WebElement (session=\"05fe5bf3e699677bc2ed250a77c963fd\", element=\"94ca8c87-0186-460a-9a4f-e3ead14b6d14\")>,\n",
       " <selenium.webdriver.remote.webelement.WebElement (session=\"05fe5bf3e699677bc2ed250a77c963fd\", element=\"023414c0-fd51-406d-80fd-25a727ff125a\")>,\n",
       " <selenium.webdriver.remote.webelement.WebElement (session=\"05fe5bf3e699677bc2ed250a77c963fd\", element=\"c33c1e6a-dfc3-4196-91fc-f0ce0eeaf630\")>,\n",
       " <selenium.webdriver.remote.webelement.WebElement (session=\"05fe5bf3e699677bc2ed250a77c963fd\", element=\"12cf1fbb-95f8-4cd5-95b5-7c46ccffc932\")>,\n",
       " <selenium.webdriver.remote.webelement.WebElement (session=\"05fe5bf3e699677bc2ed250a77c963fd\", element=\"982ea45c-6504-4fc4-8e38-8e706c74b9a1\")>,\n",
       " <selenium.webdriver.remote.webelement.WebElement (session=\"05fe5bf3e699677bc2ed250a77c963fd\", element=\"cbf5f3c6-0b33-4e2b-98f0-a7b4badecb4c\")>,\n",
       " <selenium.webdriver.remote.webelement.WebElement (session=\"05fe5bf3e699677bc2ed250a77c963fd\", element=\"5e726ba4-bab6-4251-94a0-5eaecd357090\")>,\n",
       " <selenium.webdriver.remote.webelement.WebElement (session=\"05fe5bf3e699677bc2ed250a77c963fd\", element=\"a0760216-d1bb-4666-b3bc-840c92585698\")>,\n",
       " <selenium.webdriver.remote.webelement.WebElement (session=\"05fe5bf3e699677bc2ed250a77c963fd\", element=\"6080a641-f8f7-45a2-9959-7324b8efa70f\")>,\n",
       " <selenium.webdriver.remote.webelement.WebElement (session=\"05fe5bf3e699677bc2ed250a77c963fd\", element=\"a5556845-a81b-4144-ac99-43ffa1009450\")>,\n",
       " <selenium.webdriver.remote.webelement.WebElement (session=\"05fe5bf3e699677bc2ed250a77c963fd\", element=\"2337d10a-5f1b-483c-8abf-160ad9554fb8\")>,\n",
       " <selenium.webdriver.remote.webelement.WebElement (session=\"05fe5bf3e699677bc2ed250a77c963fd\", element=\"953bb876-5ee1-4070-a4ae-cf7401d84ab8\")>,\n",
       " <selenium.webdriver.remote.webelement.WebElement (session=\"05fe5bf3e699677bc2ed250a77c963fd\", element=\"0268ae77-20a0-45ea-bf58-3804aa3b8d28\")>,\n",
       " <selenium.webdriver.remote.webelement.WebElement (session=\"05fe5bf3e699677bc2ed250a77c963fd\", element=\"7405d9d9-ec64-4364-a174-a4556b3919fe\")>,\n",
       " <selenium.webdriver.remote.webelement.WebElement (session=\"05fe5bf3e699677bc2ed250a77c963fd\", element=\"049efa8a-c3bb-433b-9ce0-384e6faaf1a3\")>,\n",
       " <selenium.webdriver.remote.webelement.WebElement (session=\"05fe5bf3e699677bc2ed250a77c963fd\", element=\"2b968871-97b5-4e75-b620-d0407d8a4f0c\")>,\n",
       " <selenium.webdriver.remote.webelement.WebElement (session=\"05fe5bf3e699677bc2ed250a77c963fd\", element=\"331c468f-0da8-4b87-a671-97465d1cf51c\")>,\n",
       " <selenium.webdriver.remote.webelement.WebElement (session=\"05fe5bf3e699677bc2ed250a77c963fd\", element=\"846ecbb7-a14d-4ef6-8637-93dffc89c6c5\")>,\n",
       " <selenium.webdriver.remote.webelement.WebElement (session=\"05fe5bf3e699677bc2ed250a77c963fd\", element=\"25efec4c-97dc-4c51-9b7b-ed4ff2ce504b\")>,\n",
       " <selenium.webdriver.remote.webelement.WebElement (session=\"05fe5bf3e699677bc2ed250a77c963fd\", element=\"509b938c-6450-4f3c-9158-974d219bb963\")>,\n",
       " <selenium.webdriver.remote.webelement.WebElement (session=\"05fe5bf3e699677bc2ed250a77c963fd\", element=\"7a6acae0-d079-48e0-bed6-3d9608df4f1c\")>,\n",
       " <selenium.webdriver.remote.webelement.WebElement (session=\"05fe5bf3e699677bc2ed250a77c963fd\", element=\"192128bc-9028-4826-9181-b202b9c3aabe\")>,\n",
       " <selenium.webdriver.remote.webelement.WebElement (session=\"05fe5bf3e699677bc2ed250a77c963fd\", element=\"502f8486-532b-40a8-89fc-1f8225ff8fa6\")>,\n",
       " <selenium.webdriver.remote.webelement.WebElement (session=\"05fe5bf3e699677bc2ed250a77c963fd\", element=\"e553b78f-9337-4167-9163-9bb213d40233\")>,\n",
       " <selenium.webdriver.remote.webelement.WebElement (session=\"05fe5bf3e699677bc2ed250a77c963fd\", element=\"7dcd67bb-994a-4fd2-90da-03cd081f1b22\")>,\n",
       " <selenium.webdriver.remote.webelement.WebElement (session=\"05fe5bf3e699677bc2ed250a77c963fd\", element=\"5b6f39cb-6f0a-4b81-9c34-0d1fdc00ae3c\")>]"
      ]
     },
     "execution_count": 176,
     "metadata": {},
     "output_type": "execute_result"
    }
   ],
   "source": [
    "comments=driver.find_elements(\"xpath\",'//div[@class=\"style-scope ytd-comment-renderer\"]')\n",
    "comments"
   ]
  },
  {
   "cell_type": "code",
   "execution_count": 177,
   "id": "b4af9a60",
   "metadata": {},
   "outputs": [
    {
     "data": {
      "text/plain": [
       "440"
      ]
     },
     "execution_count": 177,
     "metadata": {},
     "output_type": "execute_result"
    }
   ],
   "source": [
    "len(comments)"
   ]
  },
  {
   "cell_type": "code",
   "execution_count": 179,
   "id": "7c42c98b",
   "metadata": {},
   "outputs": [
    {
     "data": {
      "text/plain": [
       "440"
      ]
     },
     "execution_count": 179,
     "metadata": {},
     "output_type": "execute_result"
    }
   ],
   "source": [
    "Comment=[]\n",
    "for i in comments:\n",
    "    Comment.append(i.text)\n",
    "len(Comment)    "
   ]
  },
  {
   "cell_type": "code",
   "execution_count": 180,
   "id": "88506360",
   "metadata": {},
   "outputs": [
    {
     "data": {
      "text/plain": [
       "['',\n",
       " '',\n",
       " \"BTS ARMY\\n8 months ago\\naccording to me, SAVE ME has the best choreography. bts proved that they don't need any artificial set or any fashionable clothes to prove their talents. this MV is so realistic & heartening. their voice is so soothing.\\n6.4K\\nREPLY\",\n",
       " '',\n",
       " \"BTS ARMY\\n8 months ago\\naccording to me, SAVE ME has the best choreography. bts proved that they don't need any artificial set or any fashionable clothes to prove their talents. this MV is so realistic & heartening. their voice is so soothing.\\n6.4K\\nREPLY\",\n",
       " 'BTS ARMY\\n8 months ago',\n",
       " '',\n",
       " 'BTS ARMY\\n8 months ago',\n",
       " \"according to me, SAVE ME has the best choreography. bts proved that they don't need any artificial set or any fashionable clothes to prove their talents. this MV is so realistic & heartening. their voice is so soothing.\",\n",
       " '',\n",
       " '',\n",
       " '',\n",
       " '',\n",
       " 'Tundee\\n9 days ago\\nPure and perfect without any fuss. Hats off...\\n25\\nREPLY',\n",
       " '',\n",
       " 'Tundee\\n9 days ago\\nPure and perfect without any fuss. Hats off...\\n25\\nREPLY',\n",
       " 'Tundee\\n9 days ago',\n",
       " '',\n",
       " 'Tundee\\n9 days ago',\n",
       " 'Pure and perfect without any fuss. Hats off...',\n",
       " '',\n",
       " '',\n",
       " '',\n",
       " '',\n",
       " \"Kim Taehyung 🅥\\n3 weeks ago\\nDon't worry.. You're not the only one who still Listening to this Masterpiece in july 2022, I'm still watching this, and I'll always be\\n927\\nREPLY\",\n",
       " '',\n",
       " \"Kim Taehyung 🅥\\n3 weeks ago\\nDon't worry.. You're not the only one who still Listening to this Masterpiece in july 2022, I'm still watching this, and I'll always be\\n927\\nREPLY\",\n",
       " 'Kim Taehyung 🅥\\n3 weeks ago',\n",
       " '',\n",
       " 'Kim Taehyung 🅥\\n3 weeks ago',\n",
       " \"Don't worry.. You're not the only one who still Listening to this Masterpiece in july 2022, I'm still watching this, and I'll always be\",\n",
       " '',\n",
       " '',\n",
       " '',\n",
       " '',\n",
       " 'Gitalis Army\\n3 weeks ago\\nFavorite song\\n16\\nREPLY',\n",
       " '',\n",
       " 'Gitalis Army\\n3 weeks ago\\nFavorite song\\n16\\nREPLY',\n",
       " 'Gitalis Army\\n3 weeks ago',\n",
       " '',\n",
       " 'Gitalis Army\\n3 weeks ago',\n",
       " 'Favorite song',\n",
       " '',\n",
       " '',\n",
       " '',\n",
       " '',\n",
       " 'Lalitha Prasanna\\n13 days ago\\nI never want to be over the feels that this song gives me!!!!\\n19\\nREPLY',\n",
       " '',\n",
       " 'Lalitha Prasanna\\n13 days ago\\nI never want to be over the feels that this song gives me!!!!\\n19\\nREPLY',\n",
       " 'Lalitha Prasanna\\n13 days ago',\n",
       " '',\n",
       " 'Lalitha Prasanna\\n13 days ago',\n",
       " 'I never want to be over the feels that this song gives me!!!!',\n",
       " '',\n",
       " '',\n",
       " '',\n",
       " '',\n",
       " 'Dope 07\\n2 weeks ago\\nWhen it\\'s \"Yet To Come\" era but you are not over with this MASTERPIECE\\n374\\nREPLY',\n",
       " '',\n",
       " 'Dope 07\\n2 weeks ago\\nWhen it\\'s \"Yet To Come\" era but you are not over with this MASTERPIECE\\n374\\nREPLY',\n",
       " 'Dope 07\\n2 weeks ago',\n",
       " '',\n",
       " 'Dope 07\\n2 weeks ago',\n",
       " 'When it\\'s \"Yet To Come\" era but you are not over with this MASTERPIECE',\n",
       " '',\n",
       " '',\n",
       " '',\n",
       " '',\n",
       " 'Daniela Garcia\\n5 years ago\\nNow we will reach the 100 million in NOT TODAY * *go ARMY we will give these gifts to the boys  Happy 4th anniversary ♡♡\\n342\\nREPLY',\n",
       " '',\n",
       " 'Daniela Garcia\\n5 years ago\\nNow we will reach the 100 million in NOT TODAY * *go ARMY we will give these gifts to the boys  Happy 4th anniversary ♡♡\\n342\\nREPLY',\n",
       " 'Daniela Garcia\\n5 years ago',\n",
       " '',\n",
       " 'Daniela Garcia\\n5 years ago',\n",
       " 'Now we will reach the 100 million in NOT TODAY * *go ARMY we will give these gifts to the boys  Happy 4th anniversary ♡♡',\n",
       " '',\n",
       " '',\n",
       " '',\n",
       " '',\n",
       " 'Bangtan\\n1 month ago\\nThe song talks about BTS’s past and makes me nostalgic for the previous days when we cried together and laughed together. BTS and ARMY will always be together\\n832\\nREPLY',\n",
       " '',\n",
       " 'Bangtan\\n1 month ago\\nThe song talks about BTS’s past and makes me nostalgic for the previous days when we cried together and laughed together. BTS and ARMY will always be together\\n832\\nREPLY',\n",
       " 'Bangtan\\n1 month ago',\n",
       " '',\n",
       " 'Bangtan\\n1 month ago',\n",
       " 'The song talks about BTS’s past and makes me nostalgic for the previous days when we cried together and laughed together. BTS and ARMY will always be together',\n",
       " '',\n",
       " '',\n",
       " '',\n",
       " '',\n",
       " 'Ana HopeV Kim\\n1 day ago\\nCREO EN LOS VOCALES DE ORO DE KIM SEOKJIN. \\n\\nCREO EN LOS HERMOSOS Y PROFUNDOS VOCALES DE V.\\nRead more\\n5\\nREPLY',\n",
       " '',\n",
       " 'Ana HopeV Kim\\n1 day ago\\nCREO EN LOS VOCALES DE ORO DE KIM SEOKJIN. \\n\\nCREO EN LOS HERMOSOS Y PROFUNDOS VOCALES DE V.\\nRead more\\n5\\nREPLY',\n",
       " 'Ana HopeV Kim\\n1 day ago',\n",
       " '',\n",
       " 'Ana HopeV Kim\\n1 day ago',\n",
       " 'CREO EN LOS VOCALES DE ORO DE KIM SEOKJIN. \\n\\nCREO EN LOS HERMOSOS Y PROFUNDOS VOCALES DE V.\\nRead more',\n",
       " '',\n",
       " '',\n",
       " '',\n",
       " '',\n",
       " 'Rosé_and Sprite\\n13 days ago\\nNunca voy a superar este MV. NUNCA. Te amo Save me, te amo coreografía de Save me, te amo Kim Seokjin rubio con gorrita, te amo tete de pelo rojo, te amo verso de Jhope RM y Suga, te amo pasión de JK y Jimin, te amo cielo nublado... amo todo de este mv.\\n118\\nREPLY',\n",
       " '',\n",
       " 'Rosé_and Sprite\\n13 days ago\\nNunca voy a superar este MV. NUNCA. Te amo Save me, te amo coreografía de Save me, te amo Kim Seokjin rubio con gorrita, te amo tete de pelo rojo, te amo verso de Jhope RM y Suga, te amo pasión de JK y Jimin, te amo cielo nublado... amo todo de este mv.\\n118\\nREPLY',\n",
       " 'Rosé_and Sprite\\n13 days ago',\n",
       " '',\n",
       " 'Rosé_and Sprite\\n13 days ago',\n",
       " 'Nunca voy a superar este MV. NUNCA. Te amo Save me, te amo coreografía de Save me, te amo Kim Seokjin rubio con gorrita, te amo tete de pelo rojo, te amo verso de Jhope RM y Suga, te amo pasión de JK y Jimin, te amo cielo nublado... amo todo de este mv.',\n",
       " '',\n",
       " '',\n",
       " '',\n",
       " '',\n",
       " 'ann\\n1 month ago\\n“Save Me” es de las escasas canciones que con poca producción son una obra maestra. Sólo son 7 chicos con ropa simple actuando frente a una cámara; sin embargo, cosa que BTS use, cosa que se vuelve increíblemente buena. “Save Me” es de mis favs.\\n341\\nREPLY',\n",
       " '',\n",
       " 'ann\\n1 month ago\\n“Save Me” es de las escasas canciones que con poca producción son una obra maestra. Sólo son 7 chicos con ropa simple actuando frente a una cámara; sin embargo, cosa que BTS use, cosa que se vuelve increíblemente buena. “Save Me” es de mis favs.\\n341\\nREPLY',\n",
       " 'ann\\n1 month ago',\n",
       " '',\n",
       " 'ann\\n1 month ago',\n",
       " '“Save Me” es de las escasas canciones que con poca producción son una obra maestra. Sólo son 7 chicos con ropa simple actuando frente a una cámara; sin embargo, cosa que BTS use, cosa que se vuelve increíblemente buena. “Save Me” es de mis favs.',\n",
       " '',\n",
       " '',\n",
       " '',\n",
       " '',\n",
       " 'SugarYun-gi(슈가윤기)\\n3 weeks ago\\n늦었지만 이 노래는 절대 잊지 못할거야 \\n3\\nREPLY',\n",
       " '',\n",
       " 'SugarYun-gi(슈가윤기)\\n3 weeks ago\\n늦었지만 이 노래는 절대 잊지 못할거야 \\n3\\nREPLY',\n",
       " 'SugarYun-gi(슈가윤기)\\n3 weeks ago',\n",
       " '',\n",
       " 'SugarYun-gi(슈가윤기)\\n3 weeks ago',\n",
       " '늦었지만 이 노래는 절대 잊지 못할거야 ',\n",
       " '',\n",
       " '',\n",
       " '',\n",
       " '',\n",
       " 'emma_nuella\\n2 years ago (edited)\\n4 years and I’ll never stop talking about how good this song is. 500M soon.Update: we got to 500M!\\n37K',\n",
       " '',\n",
       " 'emma_nuella\\n2 years ago (edited)\\n4 years and I’ll never stop talking about how good this song is. 500M soon.Update: we got to 500M!\\n37K',\n",
       " 'emma_nuella\\n2 years ago (edited)',\n",
       " '',\n",
       " 'emma_nuella\\n2 years ago (edited)',\n",
       " '4 years and I’ll never stop talking about how good this song is. 500M soon.Update: we got to 500M!',\n",
       " '',\n",
       " '',\n",
       " '',\n",
       " '',\n",
       " \"tsukki miya\\n1 month ago\\nI'm never over this masterpiece\\n6\\nREPLY\",\n",
       " '',\n",
       " \"tsukki miya\\n1 month ago\\nI'm never over this masterpiece\\n6\\nREPLY\",\n",
       " 'tsukki miya\\n1 month ago',\n",
       " '',\n",
       " 'tsukki miya\\n1 month ago',\n",
       " \"I'm never over this masterpiece\",\n",
       " '',\n",
       " '',\n",
       " '',\n",
       " '',\n",
       " \"Ana HopeV Kim\\n1 month ago\\n'SAVE ME' ES IMPRESIONANTE. LET GO ARMYS VAMOS POR 700 MILLONES PARA 'SAVE ME'  VAMOS POR NUESTROS REYES : BTS!!!\\n171\\nREPLY\",\n",
       " '',\n",
       " \"Ana HopeV Kim\\n1 month ago\\n'SAVE ME' ES IMPRESIONANTE. LET GO ARMYS VAMOS POR 700 MILLONES PARA 'SAVE ME'  VAMOS POR NUESTROS REYES : BTS!!!\\n171\\nREPLY\",\n",
       " 'Ana HopeV Kim\\n1 month ago',\n",
       " '',\n",
       " 'Ana HopeV Kim\\n1 month ago',\n",
       " \"'SAVE ME' ES IMPRESIONANTE. LET GO ARMYS VAMOS POR 700 MILLONES PARA 'SAVE ME'  VAMOS POR NUESTROS REYES : BTS!!!\",\n",
       " '',\n",
       " '',\n",
       " '',\n",
       " '',\n",
       " \"Ana HopeV Kim\\n1 month ago\\n'SAVE ME' ES INOVIDABLE. LET GO ARMYS VAMOS POR 700 MILLONES PARA 'SAVE ME'  VAMOS POR NUESTROS REYES : BTS!!!\\n108\\nREPLY\",\n",
       " '',\n",
       " \"Ana HopeV Kim\\n1 month ago\\n'SAVE ME' ES INOVIDABLE. LET GO ARMYS VAMOS POR 700 MILLONES PARA 'SAVE ME'  VAMOS POR NUESTROS REYES : BTS!!!\\n108\\nREPLY\",\n",
       " 'Ana HopeV Kim\\n1 month ago',\n",
       " '',\n",
       " 'Ana HopeV Kim\\n1 month ago',\n",
       " \"'SAVE ME' ES INOVIDABLE. LET GO ARMYS VAMOS POR 700 MILLONES PARA 'SAVE ME'  VAMOS POR NUESTROS REYES : BTS!!!\",\n",
       " '',\n",
       " '',\n",
       " '',\n",
       " '',\n",
       " 'estrella 😇\\n1 month ago\\nBellísima quien escuchándolo en 2022 desde que sacaron la primera vez nunca saldrá de moda está canción es la mejor\\n229\\nREPLY',\n",
       " '',\n",
       " 'estrella 😇\\n1 month ago\\nBellísima quien escuchándolo en 2022 desde que sacaron la primera vez nunca saldrá de moda está canción es la mejor\\n229\\nREPLY',\n",
       " 'estrella 😇\\n1 month ago',\n",
       " '',\n",
       " 'estrella 😇\\n1 month ago',\n",
       " 'Bellísima quien escuchándolo en 2022 desde que sacaron la primera vez nunca saldrá de moda está canción es la mejor',\n",
       " '',\n",
       " '',\n",
       " '',\n",
       " '',\n",
       " \"⟭⟬ JK KIM ⟬⟭\\n7 days ago\\nTaeHyung's voice is extremely soothing. His vocals are just beyond heavenly.\\n16\\nREPLY\",\n",
       " '',\n",
       " \"⟭⟬ JK KIM ⟬⟭\\n7 days ago\\nTaeHyung's voice is extremely soothing. His vocals are just beyond heavenly.\\n16\\nREPLY\",\n",
       " '⟭⟬ JK KIM ⟬⟭\\n7 days ago',\n",
       " '',\n",
       " '⟭⟬ JK KIM ⟬⟭\\n7 days ago',\n",
       " \"TaeHyung's voice is extremely soothing. His vocals are just beyond heavenly.\",\n",
       " '',\n",
       " '',\n",
       " '',\n",
       " '',\n",
       " 'Génesis Liliana Girón Osorto\\n3 months ago\\nAlmost 6 years later and this song still hits different. Truly a masterpiece...\\n2.6K\\nREPLY',\n",
       " '',\n",
       " 'Génesis Liliana Girón Osorto\\n3 months ago\\nAlmost 6 years later and this song still hits different. Truly a masterpiece...\\n2.6K\\nREPLY',\n",
       " 'Génesis Liliana Girón Osorto\\n3 months ago',\n",
       " '',\n",
       " 'Génesis Liliana Girón Osorto\\n3 months ago',\n",
       " 'Almost 6 years later and this song still hits different. Truly a masterpiece...',\n",
       " '',\n",
       " '',\n",
       " '',\n",
       " '',\n",
       " \"Ana HopeV Kim\\n9 days ago\\n'SAVE ME' ES ESPECACTULAR. LET GO ARMYS VAMOS POR 700 MILLONES PARA 'SAVE ME'  VAMOS POR NUESTROS REYES : BTS!!!\\n14\\nREPLY\",\n",
       " '',\n",
       " \"Ana HopeV Kim\\n9 days ago\\n'SAVE ME' ES ESPECACTULAR. LET GO ARMYS VAMOS POR 700 MILLONES PARA 'SAVE ME'  VAMOS POR NUESTROS REYES : BTS!!!\\n14\\nREPLY\",\n",
       " 'Ana HopeV Kim\\n9 days ago',\n",
       " '',\n",
       " 'Ana HopeV Kim\\n9 days ago',\n",
       " \"'SAVE ME' ES ESPECACTULAR. LET GO ARMYS VAMOS POR 700 MILLONES PARA 'SAVE ME'  VAMOS POR NUESTROS REYES : BTS!!!\",\n",
       " '',\n",
       " '',\n",
       " '',\n",
       " '',\n",
       " \"ᴇʟɪsᴀ~🦋⁷\\n3 weeks ago\\nThis whole song is a masterpiece. But I personally like Joonie's part the most tbh. His rapping skills and the melodies are amazing. <3\\n148\\nREPLY\",\n",
       " '',\n",
       " \"ᴇʟɪsᴀ~🦋⁷\\n3 weeks ago\\nThis whole song is a masterpiece. But I personally like Joonie's part the most tbh. His rapping skills and the melodies are amazing. <3\\n148\\nREPLY\",\n",
       " 'ᴇʟɪsᴀ~🦋⁷\\n3 weeks ago',\n",
       " '',\n",
       " 'ᴇʟɪsᴀ~🦋⁷\\n3 weeks ago',\n",
       " \"This whole song is a masterpiece. But I personally like Joonie's part the most tbh. His rapping skills and the melodies are amazing. <3\",\n",
       " '',\n",
       " '',\n",
       " '',\n",
       " '',\n",
       " '妍晴 黃\\n1 month ago\\n這是三年後了，我是因為這首MV入坑\\n你們做的決定ARMY都會支持！\\n雖然真的很難過，但是你們也要好好休息喔！我真的很想在聽到一次\\n1 2 3！ 防！彈！加油！\\nRead more\\n2\\nREPLY',\n",
       " '',\n",
       " '妍晴 黃\\n1 month ago\\n這是三年後了，我是因為這首MV入坑\\n你們做的決定ARMY都會支持！\\n雖然真的很難過，但是你們也要好好休息喔！我真的很想在聽到一次\\n1 2 3！ 防！彈！加油！\\nRead more\\n2\\nREPLY',\n",
       " '妍晴 黃\\n1 month ago',\n",
       " '',\n",
       " '妍晴 黃\\n1 month ago',\n",
       " '這是三年後了，我是因為這首MV入坑\\n你們做的決定ARMY都會支持！\\n雖然真的很難過，但是你們也要好好休息喔！我真的很想在聽到一次\\n1 2 3！ 防！彈！加油！\\nRead more',\n",
       " '',\n",
       " '',\n",
       " '',\n",
       " '',\n",
       " \"PrincesSofia K\\n8 days ago\\nThis is not a MV . . .  IT'S A MASTERPIECE!\\n8\\nREPLY\",\n",
       " '',\n",
       " \"PrincesSofia K\\n8 days ago\\nThis is not a MV . . .  IT'S A MASTERPIECE!\\n8\\nREPLY\",\n",
       " 'PrincesSofia K\\n8 days ago',\n",
       " '',\n",
       " 'PrincesSofia K\\n8 days ago',\n",
       " \"This is not a MV . . .  IT'S A MASTERPIECE!\",\n",
       " '',\n",
       " '',\n",
       " '',\n",
       " '',\n",
       " 'Alicia Lestini\\n2 days ago\\nIt’s literally a ONE SHOT MV which is so unique and beautiful. It’ll always be my favorite song \\n4\\nREPLY',\n",
       " '',\n",
       " 'Alicia Lestini\\n2 days ago\\nIt’s literally a ONE SHOT MV which is so unique and beautiful. It’ll always be my favorite song \\n4\\nREPLY',\n",
       " 'Alicia Lestini\\n2 days ago',\n",
       " '',\n",
       " 'Alicia Lestini\\n2 days ago',\n",
       " 'It’s literally a ONE SHOT MV which is so unique and beautiful. It’ll always be my favorite song ',\n",
       " '',\n",
       " '',\n",
       " '',\n",
       " '',\n",
       " 'Kpop V\\n2 years ago (edited)\\nLove Bangtan forever\\n25K\\nREPLY',\n",
       " '',\n",
       " 'Kpop V\\n2 years ago (edited)\\nLove Bangtan forever\\n25K\\nREPLY',\n",
       " 'Kpop V\\n2 years ago (edited)',\n",
       " '',\n",
       " 'Kpop V\\n2 years ago (edited)',\n",
       " 'Love Bangtan forever',\n",
       " '',\n",
       " '',\n",
       " '',\n",
       " '',\n",
       " '로셀리Roseli\\n1 month ago\\nMil razones para pensarte, cien para admirarte, y una sola para no olvidarte. Porque tú eres mi ángel y vivo soñándote, porque mi mundo eres tú, y vivo admirándote. No hay mayor deseo que satisfacer tu anhelo, y es que si no te tengo, quiero estar bajo el suelo. Sé que no sabes quién reside en mí, pero hay algo que quiero confesarte,  hay una persona que me hace sentir, y que solo a ti puede amarte. Sí, tú,   mi alma gemela, la que me acompaña  en mi soledad, cuando no tengo ninguna esperanza, de habitar en mi voluntad. Con tu música me deleito, cada vez que oigo un verso. Eres ese círculo imperfecto, del cual no puedo salir... Y al cual quería decir, gracias por hacerme reír.\\nRead more\\n186\\nREPLY',\n",
       " '',\n",
       " '로셀리Roseli\\n1 month ago\\nMil razones para pensarte, cien para admirarte, y una sola para no olvidarte. Porque tú eres mi ángel y vivo soñándote, porque mi mundo eres tú, y vivo admirándote. No hay mayor deseo que satisfacer tu anhelo, y es que si no te tengo, quiero estar bajo el suelo. Sé que no sabes quién reside en mí, pero hay algo que quiero confesarte,  hay una persona que me hace sentir, y que solo a ti puede amarte. Sí, tú,   mi alma gemela, la que me acompaña  en mi soledad, cuando no tengo ninguna esperanza, de habitar en mi voluntad. Con tu música me deleito, cada vez que oigo un verso. Eres ese círculo imperfecto, del cual no puedo salir... Y al cual quería decir, gracias por hacerme reír.\\nRead more\\n186\\nREPLY',\n",
       " '로셀리Roseli\\n1 month ago',\n",
       " '',\n",
       " '로셀리Roseli\\n1 month ago',\n",
       " 'Mil razones para pensarte, cien para admirarte, y una sola para no olvidarte. Porque tú eres mi ángel y vivo soñándote, porque mi mundo eres tú, y vivo admirándote. No hay mayor deseo que satisfacer tu anhelo, y es que si no te tengo, quiero estar bajo el suelo. Sé que no sabes quién reside en mí, pero hay algo que quiero confesarte,  hay una persona que me hace sentir, y que solo a ti puede amarte. Sí, tú,   mi alma gemela, la que me acompaña  en mi soledad, cuando no tengo ninguna esperanza, de habitar en mi voluntad. Con tu música me deleito, cada vez que oigo un verso. Eres ese círculo imperfecto, del cual no puedo salir... Y al cual quería decir, gracias por hacerme reír.\\nRead more',\n",
       " '',\n",
       " '',\n",
       " '',\n",
       " '',\n",
       " 'JoonieBuBu\\n3 days ago\\nNo importa el tiempo que pase siempre save y será una de mis favoritas\\n6\\nREPLY',\n",
       " '',\n",
       " 'JoonieBuBu\\n3 days ago\\nNo importa el tiempo que pase siempre save y será una de mis favoritas\\n6\\nREPLY',\n",
       " 'JoonieBuBu\\n3 days ago',\n",
       " '',\n",
       " 'JoonieBuBu\\n3 days ago',\n",
       " 'No importa el tiempo que pase siempre save y será una de mis favoritas',\n",
       " '',\n",
       " '',\n",
       " '',\n",
       " '',\n",
       " 'Majo\\n9 days ago\\nPor canciones como esta, no puedo olvidar el cariño que le tengo a bts a pesar que no sea army\\n40\\nREPLY',\n",
       " '',\n",
       " 'Majo\\n9 days ago\\nPor canciones como esta, no puedo olvidar el cariño que le tengo a bts a pesar que no sea army\\n40\\nREPLY',\n",
       " 'Majo\\n9 days ago',\n",
       " '',\n",
       " 'Majo\\n9 days ago',\n",
       " 'Por canciones como esta, no puedo olvidar el cariño que le tengo a bts a pesar que no sea army',\n",
       " '',\n",
       " '',\n",
       " '',\n",
       " '',\n",
       " 'Grace Graham\\n7 days ago\\nOne of my favorite lyrics of this song is when RM says \"Thank you for making me myself | Making me be able to fly\"\\n5\\nREPLY',\n",
       " '',\n",
       " 'Grace Graham\\n7 days ago\\nOne of my favorite lyrics of this song is when RM says \"Thank you for making me myself | Making me be able to fly\"\\n5\\nREPLY',\n",
       " 'Grace Graham\\n7 days ago',\n",
       " '',\n",
       " 'Grace Graham\\n7 days ago',\n",
       " 'One of my favorite lyrics of this song is when RM says \"Thank you for making me myself | Making me be able to fly\"',\n",
       " '',\n",
       " '',\n",
       " '',\n",
       " '',\n",
       " 'Олег Милякин\\n2 weeks ago\\nБТС это группа на все времена, очень крутые и классные. Вот уже прошло 6 лет , но я по-прежнему смотрю на них с любовью и восхищением. Люблю вас, парни , уважаю и ценю ваш труд. Молодцы, Бантаны!\\n54\\nREPLY',\n",
       " '',\n",
       " 'Олег Милякин\\n2 weeks ago\\nБТС это группа на все времена, очень крутые и классные. Вот уже прошло 6 лет , но я по-прежнему смотрю на них с любовью и восхищением. Люблю вас, парни , уважаю и ценю ваш труд. Молодцы, Бантаны!\\n54\\nREPLY',\n",
       " 'Олег Милякин\\n2 weeks ago',\n",
       " '',\n",
       " 'Олег Милякин\\n2 weeks ago',\n",
       " 'БТС это группа на все времена, очень крутые и классные. Вот уже прошло 6 лет , но я по-прежнему смотрю на них с любовью и восхищением. Люблю вас, парни , уважаю и ценю ваш труд. Молодцы, Бантаны!',\n",
       " '',\n",
       " '',\n",
       " '',\n",
       " '',\n",
       " '⟭⟬ JK KIM ⟬⟭\\n1 year ago\\n“We Write Our Own Lyrics, So Our Songs 100% Reflect Our Personalities.”\\n\\n\\n\\n                 –Min Yoongi\\n31K\\nREPLY',\n",
       " '',\n",
       " '⟭⟬ JK KIM ⟬⟭\\n1 year ago\\n“We Write Our Own Lyrics, So Our Songs 100% Reflect Our Personalities.”\\n\\n\\n\\n                 –Min Yoongi\\n31K\\nREPLY',\n",
       " '⟭⟬ JK KIM ⟬⟭\\n1 year ago',\n",
       " '',\n",
       " '⟭⟬ JK KIM ⟬⟭\\n1 year ago',\n",
       " '“We Write Our Own Lyrics, So Our Songs 100% Reflect Our Personalities.”\\n\\n\\n\\n                 –Min Yoongi',\n",
       " '',\n",
       " '',\n",
       " '',\n",
       " '',\n",
       " 'Tundee\\n9 days ago\\n28M more and this masterpiece gets its next milestone - 700M. Bring it on!\\n12\\nREPLY',\n",
       " '',\n",
       " 'Tundee\\n9 days ago\\n28M more and this masterpiece gets its next milestone - 700M. Bring it on!\\n12\\nREPLY',\n",
       " 'Tundee\\n9 days ago',\n",
       " '',\n",
       " 'Tundee\\n9 days ago',\n",
       " '28M more and this masterpiece gets its next milestone - 700M. Bring it on!',\n",
       " '',\n",
       " '',\n",
       " '',\n",
       " '',\n",
       " 'taeeslow\\n4 weeks ago\\nEsta canción es simplemente perfecta\\n59\\nREPLY',\n",
       " '',\n",
       " 'taeeslow\\n4 weeks ago\\nEsta canción es simplemente perfecta\\n59\\nREPLY',\n",
       " 'taeeslow\\n4 weeks ago',\n",
       " '',\n",
       " 'taeeslow\\n4 weeks ago',\n",
       " 'Esta canción es simplemente perfecta',\n",
       " '',\n",
       " '',\n",
       " '',\n",
       " '',\n",
       " 'ericka becerra cerdán\\n3 weeks ago (edited)\\n6 años y yo la sigo disfrutando cómo el primer día que la escuché.\\n44\\nREPLY',\n",
       " '',\n",
       " 'ericka becerra cerdán\\n3 weeks ago (edited)\\n6 años y yo la sigo disfrutando cómo el primer día que la escuché.\\n44\\nREPLY',\n",
       " 'ericka becerra cerdán\\n3 weeks ago (edited)',\n",
       " '',\n",
       " 'ericka becerra cerdán\\n3 weeks ago (edited)',\n",
       " '6 años y yo la sigo disfrutando cómo el primer día que la escuché.',\n",
       " '',\n",
       " '',\n",
       " '',\n",
       " '',\n",
       " 'Yume\\n1 year ago\\nSome songs never get old. And no matter how many times we hear it it still hits hard. And save me is ome of them\\n385\\nREPLY',\n",
       " '',\n",
       " 'Yume\\n1 year ago\\nSome songs never get old. And no matter how many times we hear it it still hits hard. And save me is ome of them\\n385\\nREPLY',\n",
       " 'Yume\\n1 year ago',\n",
       " '',\n",
       " 'Yume\\n1 year ago',\n",
       " 'Some songs never get old. And no matter how many times we hear it it still hits hard. And save me is ome of them',\n",
       " '',\n",
       " '',\n",
       " '',\n",
       " '',\n",
       " 'Moon\\n1 month ago\\nMi canción favorita por los siglos de los siglos\\n2\\nREPLY',\n",
       " '',\n",
       " 'Moon\\n1 month ago\\nMi canción favorita por los siglos de los siglos\\n2\\nREPLY',\n",
       " 'Moon\\n1 month ago',\n",
       " '',\n",
       " 'Moon\\n1 month ago',\n",
       " 'Mi canción favorita por los siglos de los siglos',\n",
       " '',\n",
       " '',\n",
       " '',\n",
       " '',\n",
       " 'Suri Truong\\n13 days ago\\nThey have grown so much! This masterpiece is something I can never get enough of! \\n22\\nREPLY',\n",
       " '',\n",
       " 'Suri Truong\\n13 days ago\\nThey have grown so much! This masterpiece is something I can never get enough of! \\n22\\nREPLY',\n",
       " 'Suri Truong\\n13 days ago',\n",
       " '',\n",
       " 'Suri Truong\\n13 days ago',\n",
       " 'They have grown so much! This masterpiece is something I can never get enough of! ',\n",
       " '',\n",
       " '',\n",
       " '',\n",
       " '',\n",
       " '高橋奈々香\\n1 month ago\\nI am impressed by the message contained in the lyrics that make people crazy. The first Jimin\\'s singing voice is really cool.This is my favorite melody among bts songs. \"Save ME\" and the answer song \"I\\'m Fine\" are one of the reasons I like the songs that are connected to the title, melody, dance and lyrics.\\n68\\nREPLY',\n",
       " '',\n",
       " '高橋奈々香\\n1 month ago\\nI am impressed by the message contained in the lyrics that make people crazy. The first Jimin\\'s singing voice is really cool.This is my favorite melody among bts songs. \"Save ME\" and the answer song \"I\\'m Fine\" are one of the reasons I like the songs that are connected to the title, melody, dance and lyrics.\\n68\\nREPLY',\n",
       " '高橋奈々香\\n1 month ago',\n",
       " '',\n",
       " '高橋奈々香\\n1 month ago',\n",
       " 'I am impressed by the message contained in the lyrics that make people crazy. The first Jimin\\'s singing voice is really cool.This is my favorite melody among bts songs. \"Save ME\" and the answer song \"I\\'m Fine\" are one of the reasons I like the songs that are connected to the title, melody, dance and lyrics.',\n",
       " '',\n",
       " '',\n",
       " '',\n",
       " '',\n",
       " \"Grace Graham\\n4 weeks ago\\nThis song is symbolic of nostalgia and times where BTS shared grievances and life experiences, such as hardships. It's about staying strong and keeping your head high in tough times\\n84\\nREPLY\",\n",
       " '',\n",
       " \"Grace Graham\\n4 weeks ago\\nThis song is symbolic of nostalgia and times where BTS shared grievances and life experiences, such as hardships. It's about staying strong and keeping your head high in tough times\\n84\\nREPLY\",\n",
       " 'Grace Graham\\n4 weeks ago',\n",
       " '',\n",
       " 'Grace Graham\\n4 weeks ago',\n",
       " \"This song is symbolic of nostalgia and times where BTS shared grievances and life experiences, such as hardships. It's about staying strong and keeping your head high in tough times\",\n",
       " '',\n",
       " '',\n",
       " '',\n",
       " '',\n",
       " 'Deepa Mugloli\\n8 days ago\\n𝓘 𝓛𝓸𝓿𝓮 𝓣𝓱𝓲𝓼 𝓢𝓸𝓷𝓰 𝓜𝓸𝓼𝓽 ♡♡\\n22\\nREPLY',\n",
       " '',\n",
       " 'Deepa Mugloli\\n8 days ago\\n𝓘 𝓛𝓸𝓿𝓮 𝓣𝓱𝓲𝓼 𝓢𝓸𝓷𝓰 𝓜𝓸𝓼𝓽 ♡♡\\n22\\nREPLY',\n",
       " 'Deepa Mugloli\\n8 days ago',\n",
       " '',\n",
       " 'Deepa Mugloli\\n8 days ago',\n",
       " '𝓘 𝓛𝓸𝓿𝓮 𝓣𝓱𝓲𝓼 𝓢𝓸𝓷𝓰 𝓜𝓸𝓼𝓽 ♡♡',\n",
       " '',\n",
       " '']"
      ]
     },
     "execution_count": 180,
     "metadata": {},
     "output_type": "execute_result"
    }
   ],
   "source": [
    "Comment"
   ]
  },
  {
   "cell_type": "code",
   "execution_count": 181,
   "id": "8a72aca6",
   "metadata": {},
   "outputs": [
    {
     "data": {
      "text/plain": [
       "[<selenium.webdriver.remote.webelement.WebElement (session=\"05fe5bf3e699677bc2ed250a77c963fd\", element=\"23a5161b-afbb-4215-bf62-794e4423d904\")>,\n",
       " <selenium.webdriver.remote.webelement.WebElement (session=\"05fe5bf3e699677bc2ed250a77c963fd\", element=\"52af9481-72d4-44ed-9971-b88878bce480\")>,\n",
       " <selenium.webdriver.remote.webelement.WebElement (session=\"05fe5bf3e699677bc2ed250a77c963fd\", element=\"2e38cb96-e7df-4d0c-8269-2c45a290d0cc\")>,\n",
       " <selenium.webdriver.remote.webelement.WebElement (session=\"05fe5bf3e699677bc2ed250a77c963fd\", element=\"66f5d40c-0617-429c-ae66-1f060c272376\")>,\n",
       " <selenium.webdriver.remote.webelement.WebElement (session=\"05fe5bf3e699677bc2ed250a77c963fd\", element=\"db5460e5-5275-43c5-a33b-014bcf1e32b9\")>,\n",
       " <selenium.webdriver.remote.webelement.WebElement (session=\"05fe5bf3e699677bc2ed250a77c963fd\", element=\"e3646f34-c07f-46af-81dc-f604032aaf6a\")>,\n",
       " <selenium.webdriver.remote.webelement.WebElement (session=\"05fe5bf3e699677bc2ed250a77c963fd\", element=\"06e4f5c2-884a-487a-89aa-d33a6a1f37f7\")>,\n",
       " <selenium.webdriver.remote.webelement.WebElement (session=\"05fe5bf3e699677bc2ed250a77c963fd\", element=\"f04e29f7-d145-4833-8479-5850c8593552\")>,\n",
       " <selenium.webdriver.remote.webelement.WebElement (session=\"05fe5bf3e699677bc2ed250a77c963fd\", element=\"a06f9897-df3e-4bc4-b3f3-472833c48caa\")>,\n",
       " <selenium.webdriver.remote.webelement.WebElement (session=\"05fe5bf3e699677bc2ed250a77c963fd\", element=\"0b0d3146-3799-4b50-a93f-c147ca542a38\")>,\n",
       " <selenium.webdriver.remote.webelement.WebElement (session=\"05fe5bf3e699677bc2ed250a77c963fd\", element=\"dc4b3511-1888-4095-a295-e07267dcb1cd\")>,\n",
       " <selenium.webdriver.remote.webelement.WebElement (session=\"05fe5bf3e699677bc2ed250a77c963fd\", element=\"ad6b48de-1088-487f-b052-f08a09f1381f\")>,\n",
       " <selenium.webdriver.remote.webelement.WebElement (session=\"05fe5bf3e699677bc2ed250a77c963fd\", element=\"56419ccc-7777-4043-95a4-95bc0596fb16\")>,\n",
       " <selenium.webdriver.remote.webelement.WebElement (session=\"05fe5bf3e699677bc2ed250a77c963fd\", element=\"2c06b85a-827f-4b3f-8906-5e37e2621edc\")>,\n",
       " <selenium.webdriver.remote.webelement.WebElement (session=\"05fe5bf3e699677bc2ed250a77c963fd\", element=\"64ef1a5e-35c5-4c16-b044-fecefdb8986f\")>,\n",
       " <selenium.webdriver.remote.webelement.WebElement (session=\"05fe5bf3e699677bc2ed250a77c963fd\", element=\"697d5d09-dad8-4ed0-8c28-ae111628d792\")>,\n",
       " <selenium.webdriver.remote.webelement.WebElement (session=\"05fe5bf3e699677bc2ed250a77c963fd\", element=\"5ce9276b-b223-42d4-962d-feb5b6b19b7c\")>,\n",
       " <selenium.webdriver.remote.webelement.WebElement (session=\"05fe5bf3e699677bc2ed250a77c963fd\", element=\"1c2bc538-cb9f-40fd-baba-4fe4d27ffcdb\")>,\n",
       " <selenium.webdriver.remote.webelement.WebElement (session=\"05fe5bf3e699677bc2ed250a77c963fd\", element=\"1a343050-39e7-4aff-a2a3-64d8bacc4197\")>,\n",
       " <selenium.webdriver.remote.webelement.WebElement (session=\"05fe5bf3e699677bc2ed250a77c963fd\", element=\"4b4272b5-74e0-49cf-abb5-465405e804b4\")>,\n",
       " <selenium.webdriver.remote.webelement.WebElement (session=\"05fe5bf3e699677bc2ed250a77c963fd\", element=\"ba582b85-db71-45af-8b7f-06f4db28dd14\")>,\n",
       " <selenium.webdriver.remote.webelement.WebElement (session=\"05fe5bf3e699677bc2ed250a77c963fd\", element=\"33564701-5c31-434b-b99e-943f93109120\")>,\n",
       " <selenium.webdriver.remote.webelement.WebElement (session=\"05fe5bf3e699677bc2ed250a77c963fd\", element=\"91fe0fee-3120-452e-b365-737b80f5d89e\")>,\n",
       " <selenium.webdriver.remote.webelement.WebElement (session=\"05fe5bf3e699677bc2ed250a77c963fd\", element=\"a69fca75-26f4-4c90-84be-25239de4118b\")>,\n",
       " <selenium.webdriver.remote.webelement.WebElement (session=\"05fe5bf3e699677bc2ed250a77c963fd\", element=\"407f43d1-3c5c-4fb5-aee3-cbc82d0cff9f\")>,\n",
       " <selenium.webdriver.remote.webelement.WebElement (session=\"05fe5bf3e699677bc2ed250a77c963fd\", element=\"7ca4235f-8801-4914-8fbf-1b5f68e94786\")>,\n",
       " <selenium.webdriver.remote.webelement.WebElement (session=\"05fe5bf3e699677bc2ed250a77c963fd\", element=\"c4f705d4-041d-4475-8da4-3b3bd8f45a1b\")>,\n",
       " <selenium.webdriver.remote.webelement.WebElement (session=\"05fe5bf3e699677bc2ed250a77c963fd\", element=\"d75cf924-0429-4526-892b-6ebc8cf379b3\")>,\n",
       " <selenium.webdriver.remote.webelement.WebElement (session=\"05fe5bf3e699677bc2ed250a77c963fd\", element=\"f5d8540e-420e-4392-ad20-c9b783a8a8a4\")>,\n",
       " <selenium.webdriver.remote.webelement.WebElement (session=\"05fe5bf3e699677bc2ed250a77c963fd\", element=\"c0ba7c18-1c15-491c-b354-4e3630af732c\")>,\n",
       " <selenium.webdriver.remote.webelement.WebElement (session=\"05fe5bf3e699677bc2ed250a77c963fd\", element=\"e0e47f20-1ad1-4fe8-89da-ea95e72f4b34\")>,\n",
       " <selenium.webdriver.remote.webelement.WebElement (session=\"05fe5bf3e699677bc2ed250a77c963fd\", element=\"eea0d071-4f1f-43db-a413-a33ecf0c3383\")>,\n",
       " <selenium.webdriver.remote.webelement.WebElement (session=\"05fe5bf3e699677bc2ed250a77c963fd\", element=\"45f1aac3-32c3-4fc5-bc6e-42a3e90dab12\")>,\n",
       " <selenium.webdriver.remote.webelement.WebElement (session=\"05fe5bf3e699677bc2ed250a77c963fd\", element=\"2a8a8f29-d7fc-4e4b-8c13-f3072896abae\")>,\n",
       " <selenium.webdriver.remote.webelement.WebElement (session=\"05fe5bf3e699677bc2ed250a77c963fd\", element=\"f53913e7-dfd4-4f07-9575-90fb1b7dd102\")>,\n",
       " <selenium.webdriver.remote.webelement.WebElement (session=\"05fe5bf3e699677bc2ed250a77c963fd\", element=\"bd17b716-405e-40ec-8284-04adbcc69087\")>,\n",
       " <selenium.webdriver.remote.webelement.WebElement (session=\"05fe5bf3e699677bc2ed250a77c963fd\", element=\"c972e8ab-c98d-4ccd-8b86-f038c619be91\")>,\n",
       " <selenium.webdriver.remote.webelement.WebElement (session=\"05fe5bf3e699677bc2ed250a77c963fd\", element=\"61d56fa6-7da1-4d77-a975-999cff7be826\")>,\n",
       " <selenium.webdriver.remote.webelement.WebElement (session=\"05fe5bf3e699677bc2ed250a77c963fd\", element=\"fc046e4f-318f-44c7-80ab-c131b8cec780\")>,\n",
       " <selenium.webdriver.remote.webelement.WebElement (session=\"05fe5bf3e699677bc2ed250a77c963fd\", element=\"74b78eea-9cd9-48c2-93f2-46b98bc35ba5\")>,\n",
       " <selenium.webdriver.remote.webelement.WebElement (session=\"05fe5bf3e699677bc2ed250a77c963fd\", element=\"1f56f02f-3ab3-45b3-84c7-502bfb4747d9\")>,\n",
       " <selenium.webdriver.remote.webelement.WebElement (session=\"05fe5bf3e699677bc2ed250a77c963fd\", element=\"b7ed8633-6bba-427c-ab0c-b4afd3eb0fec\")>,\n",
       " <selenium.webdriver.remote.webelement.WebElement (session=\"05fe5bf3e699677bc2ed250a77c963fd\", element=\"0041b094-a2c1-43ef-a58a-9ec17db701f5\")>,\n",
       " <selenium.webdriver.remote.webelement.WebElement (session=\"05fe5bf3e699677bc2ed250a77c963fd\", element=\"93af523d-1647-4920-b838-ed6995f17010\")>,\n",
       " <selenium.webdriver.remote.webelement.WebElement (session=\"05fe5bf3e699677bc2ed250a77c963fd\", element=\"62902ee4-25e8-450b-99ab-37231c3f51da\")>,\n",
       " <selenium.webdriver.remote.webelement.WebElement (session=\"05fe5bf3e699677bc2ed250a77c963fd\", element=\"d683530d-6caa-4e3b-8bfb-33931af94c58\")>,\n",
       " <selenium.webdriver.remote.webelement.WebElement (session=\"05fe5bf3e699677bc2ed250a77c963fd\", element=\"a72decd3-ea82-4060-8527-1a3dfb523538\")>,\n",
       " <selenium.webdriver.remote.webelement.WebElement (session=\"05fe5bf3e699677bc2ed250a77c963fd\", element=\"a78afca8-ee52-44e4-839e-0e3664aa0657\")>,\n",
       " <selenium.webdriver.remote.webelement.WebElement (session=\"05fe5bf3e699677bc2ed250a77c963fd\", element=\"38c56546-d924-48b5-97f6-4b0235465518\")>,\n",
       " <selenium.webdriver.remote.webelement.WebElement (session=\"05fe5bf3e699677bc2ed250a77c963fd\", element=\"c4fd1446-ad21-4701-b5e5-5ad8222e57b7\")>,\n",
       " <selenium.webdriver.remote.webelement.WebElement (session=\"05fe5bf3e699677bc2ed250a77c963fd\", element=\"5a6e85d8-5866-41f7-9c7f-e986bd4b98c0\")>,\n",
       " <selenium.webdriver.remote.webelement.WebElement (session=\"05fe5bf3e699677bc2ed250a77c963fd\", element=\"c0b661de-f4c5-42dd-8f38-a30038dd973c\")>,\n",
       " <selenium.webdriver.remote.webelement.WebElement (session=\"05fe5bf3e699677bc2ed250a77c963fd\", element=\"e382bb57-6a1a-4f5b-bbaf-0267528536bc\")>,\n",
       " <selenium.webdriver.remote.webelement.WebElement (session=\"05fe5bf3e699677bc2ed250a77c963fd\", element=\"6d563d92-01aa-41ab-893f-b005f390abd6\")>,\n",
       " <selenium.webdriver.remote.webelement.WebElement (session=\"05fe5bf3e699677bc2ed250a77c963fd\", element=\"f55fec4f-3838-4a92-b44f-b93515f5e356\")>,\n",
       " <selenium.webdriver.remote.webelement.WebElement (session=\"05fe5bf3e699677bc2ed250a77c963fd\", element=\"5ae2bce4-d01e-41c3-a7c5-0f3f98643198\")>,\n",
       " <selenium.webdriver.remote.webelement.WebElement (session=\"05fe5bf3e699677bc2ed250a77c963fd\", element=\"4b6ae230-536e-4bb6-91ed-07b40021a3fc\")>,\n",
       " <selenium.webdriver.remote.webelement.WebElement (session=\"05fe5bf3e699677bc2ed250a77c963fd\", element=\"eb5c5889-989e-4c08-b7cf-83b1edb91254\")>,\n",
       " <selenium.webdriver.remote.webelement.WebElement (session=\"05fe5bf3e699677bc2ed250a77c963fd\", element=\"7baf1312-4c70-467d-b683-f65dfbd6c5ee\")>,\n",
       " <selenium.webdriver.remote.webelement.WebElement (session=\"05fe5bf3e699677bc2ed250a77c963fd\", element=\"a523c75a-d5ce-46eb-b042-37bd689018f8\")>,\n",
       " <selenium.webdriver.remote.webelement.WebElement (session=\"05fe5bf3e699677bc2ed250a77c963fd\", element=\"5705a280-9127-4ab0-bc36-7efef3117a21\")>,\n",
       " <selenium.webdriver.remote.webelement.WebElement (session=\"05fe5bf3e699677bc2ed250a77c963fd\", element=\"468c1305-2357-4c23-9f92-e3bf5e6a56b4\")>,\n",
       " <selenium.webdriver.remote.webelement.WebElement (session=\"05fe5bf3e699677bc2ed250a77c963fd\", element=\"df570af7-f38b-44b9-a487-a41cbd99f7d3\")>,\n",
       " <selenium.webdriver.remote.webelement.WebElement (session=\"05fe5bf3e699677bc2ed250a77c963fd\", element=\"8d1922bd-5874-471d-8a38-284bda50d2f8\")>,\n",
       " <selenium.webdriver.remote.webelement.WebElement (session=\"05fe5bf3e699677bc2ed250a77c963fd\", element=\"efdae40e-7c21-4555-b53a-1ae16586e4ac\")>,\n",
       " <selenium.webdriver.remote.webelement.WebElement (session=\"05fe5bf3e699677bc2ed250a77c963fd\", element=\"e17b7018-b433-4b2e-8764-1d96608a0be4\")>,\n",
       " <selenium.webdriver.remote.webelement.WebElement (session=\"05fe5bf3e699677bc2ed250a77c963fd\", element=\"04d5d41b-1d16-4c14-b32b-425e84fe6f8c\")>,\n",
       " <selenium.webdriver.remote.webelement.WebElement (session=\"05fe5bf3e699677bc2ed250a77c963fd\", element=\"4c545136-07d5-4395-8381-6cae2799c90c\")>,\n",
       " <selenium.webdriver.remote.webelement.WebElement (session=\"05fe5bf3e699677bc2ed250a77c963fd\", element=\"b10b245f-4bdd-4e08-9f3d-592d44fc7d93\")>,\n",
       " <selenium.webdriver.remote.webelement.WebElement (session=\"05fe5bf3e699677bc2ed250a77c963fd\", element=\"40ffc122-c06d-4e8c-8fa8-c8572c4b070c\")>,\n",
       " <selenium.webdriver.remote.webelement.WebElement (session=\"05fe5bf3e699677bc2ed250a77c963fd\", element=\"9a70ec4b-1b9b-4128-950e-211c232132be\")>,\n",
       " <selenium.webdriver.remote.webelement.WebElement (session=\"05fe5bf3e699677bc2ed250a77c963fd\", element=\"240f9bd7-4948-45c8-84e5-f781d5b1379c\")>,\n",
       " <selenium.webdriver.remote.webelement.WebElement (session=\"05fe5bf3e699677bc2ed250a77c963fd\", element=\"4e731afe-9087-4e56-adbf-8f85b8cb082e\")>,\n",
       " <selenium.webdriver.remote.webelement.WebElement (session=\"05fe5bf3e699677bc2ed250a77c963fd\", element=\"707b5eea-7ddb-49f1-919b-dc0812a339b6\")>,\n",
       " <selenium.webdriver.remote.webelement.WebElement (session=\"05fe5bf3e699677bc2ed250a77c963fd\", element=\"b2771b0a-7144-43a5-b935-46dd4cc8c469\")>,\n",
       " <selenium.webdriver.remote.webelement.WebElement (session=\"05fe5bf3e699677bc2ed250a77c963fd\", element=\"78156fd0-053c-4435-8eec-5104cb2ed469\")>,\n",
       " <selenium.webdriver.remote.webelement.WebElement (session=\"05fe5bf3e699677bc2ed250a77c963fd\", element=\"1befabcc-6dee-464a-9741-db64c8fe2686\")>,\n",
       " <selenium.webdriver.remote.webelement.WebElement (session=\"05fe5bf3e699677bc2ed250a77c963fd\", element=\"9480331b-1092-40aa-8a30-e62efec3f369\")>,\n",
       " <selenium.webdriver.remote.webelement.WebElement (session=\"05fe5bf3e699677bc2ed250a77c963fd\", element=\"ff721d5f-efa9-4f8e-8e80-30a28cccc0d7\")>,\n",
       " <selenium.webdriver.remote.webelement.WebElement (session=\"05fe5bf3e699677bc2ed250a77c963fd\", element=\"63e30d27-f787-40aa-acb9-582bf9ac2041\")>,\n",
       " <selenium.webdriver.remote.webelement.WebElement (session=\"05fe5bf3e699677bc2ed250a77c963fd\", element=\"7bb50897-0c61-4e0b-97d1-9b75bd74236e\")>,\n",
       " <selenium.webdriver.remote.webelement.WebElement (session=\"05fe5bf3e699677bc2ed250a77c963fd\", element=\"c8c043b4-2aee-42c9-92ed-29d946e0c320\")>,\n",
       " <selenium.webdriver.remote.webelement.WebElement (session=\"05fe5bf3e699677bc2ed250a77c963fd\", element=\"13301148-c75b-436b-b3c0-0960f075542e\")>,\n",
       " <selenium.webdriver.remote.webelement.WebElement (session=\"05fe5bf3e699677bc2ed250a77c963fd\", element=\"f0ff4fef-6cd4-41d6-bd4e-bfb2b052f038\")>,\n",
       " <selenium.webdriver.remote.webelement.WebElement (session=\"05fe5bf3e699677bc2ed250a77c963fd\", element=\"02ce93b0-b931-4678-bfb9-280b83e26454\")>,\n",
       " <selenium.webdriver.remote.webelement.WebElement (session=\"05fe5bf3e699677bc2ed250a77c963fd\", element=\"992d2c87-dee1-41f6-8e20-908d7fff1ebd\")>,\n",
       " <selenium.webdriver.remote.webelement.WebElement (session=\"05fe5bf3e699677bc2ed250a77c963fd\", element=\"fed8f4c7-3b74-4a28-9816-51f9111f6476\")>,\n",
       " <selenium.webdriver.remote.webelement.WebElement (session=\"05fe5bf3e699677bc2ed250a77c963fd\", element=\"2dc374b4-8e60-4e14-ad98-28761355b1c0\")>,\n",
       " <selenium.webdriver.remote.webelement.WebElement (session=\"05fe5bf3e699677bc2ed250a77c963fd\", element=\"10caa863-0805-495d-81de-600c8443e942\")>,\n",
       " <selenium.webdriver.remote.webelement.WebElement (session=\"05fe5bf3e699677bc2ed250a77c963fd\", element=\"6cf22d96-29a1-4079-87a0-bc09aa314ea2\")>,\n",
       " <selenium.webdriver.remote.webelement.WebElement (session=\"05fe5bf3e699677bc2ed250a77c963fd\", element=\"4d8dc155-9040-4f40-8b33-ecbf62534cb2\")>,\n",
       " <selenium.webdriver.remote.webelement.WebElement (session=\"05fe5bf3e699677bc2ed250a77c963fd\", element=\"bf951a68-bf40-467f-953e-46bdc802b264\")>,\n",
       " <selenium.webdriver.remote.webelement.WebElement (session=\"05fe5bf3e699677bc2ed250a77c963fd\", element=\"12b06ebf-2379-4150-9e99-acbb249a5b5e\")>,\n",
       " <selenium.webdriver.remote.webelement.WebElement (session=\"05fe5bf3e699677bc2ed250a77c963fd\", element=\"ba1763c1-d3e8-4232-8910-e184fdf357c0\")>,\n",
       " <selenium.webdriver.remote.webelement.WebElement (session=\"05fe5bf3e699677bc2ed250a77c963fd\", element=\"17655e3e-86b4-491a-92a0-e1adf7565463\")>,\n",
       " <selenium.webdriver.remote.webelement.WebElement (session=\"05fe5bf3e699677bc2ed250a77c963fd\", element=\"57010d0e-ef5d-4d84-989f-f086657ea6b2\")>,\n",
       " <selenium.webdriver.remote.webelement.WebElement (session=\"05fe5bf3e699677bc2ed250a77c963fd\", element=\"19bf9125-179c-40f5-ad77-2972568cb0cb\")>,\n",
       " <selenium.webdriver.remote.webelement.WebElement (session=\"05fe5bf3e699677bc2ed250a77c963fd\", element=\"2fec6ced-1e16-400d-adc5-dab2febe3d53\")>,\n",
       " <selenium.webdriver.remote.webelement.WebElement (session=\"05fe5bf3e699677bc2ed250a77c963fd\", element=\"231c1754-8d38-4e60-8edb-b59d1bdd26bc\")>,\n",
       " <selenium.webdriver.remote.webelement.WebElement (session=\"05fe5bf3e699677bc2ed250a77c963fd\", element=\"995e77f0-5b0f-412f-bf3e-976b5d33da84\")>,\n",
       " <selenium.webdriver.remote.webelement.WebElement (session=\"05fe5bf3e699677bc2ed250a77c963fd\", element=\"5b7df83d-51e2-4195-bac6-09063d5a680b\")>,\n",
       " <selenium.webdriver.remote.webelement.WebElement (session=\"05fe5bf3e699677bc2ed250a77c963fd\", element=\"83e61416-d338-4da2-b886-8e4e0a89b62d\")>,\n",
       " <selenium.webdriver.remote.webelement.WebElement (session=\"05fe5bf3e699677bc2ed250a77c963fd\", element=\"091a2c56-156e-4ceb-b579-dff8b1c20d9f\")>,\n",
       " <selenium.webdriver.remote.webelement.WebElement (session=\"05fe5bf3e699677bc2ed250a77c963fd\", element=\"5be95610-1802-4d4e-a72a-5bf7a436fa7f\")>,\n",
       " <selenium.webdriver.remote.webelement.WebElement (session=\"05fe5bf3e699677bc2ed250a77c963fd\", element=\"d602466f-7cc9-48eb-a163-976c9345b9c5\")>,\n",
       " <selenium.webdriver.remote.webelement.WebElement (session=\"05fe5bf3e699677bc2ed250a77c963fd\", element=\"c4b4e7ef-b63e-4615-a6fd-83dd1d19162d\")>,\n",
       " <selenium.webdriver.remote.webelement.WebElement (session=\"05fe5bf3e699677bc2ed250a77c963fd\", element=\"3cc25c73-28d4-45c7-8a43-cd866d574d66\")>,\n",
       " <selenium.webdriver.remote.webelement.WebElement (session=\"05fe5bf3e699677bc2ed250a77c963fd\", element=\"4232abc3-08ce-4c6b-bad9-4609c11b9fe0\")>,\n",
       " <selenium.webdriver.remote.webelement.WebElement (session=\"05fe5bf3e699677bc2ed250a77c963fd\", element=\"315e4bec-b8c0-4974-81c8-20b548525ac3\")>,\n",
       " <selenium.webdriver.remote.webelement.WebElement (session=\"05fe5bf3e699677bc2ed250a77c963fd\", element=\"943dffb6-7825-4b58-ab3c-d2ceaafb9465\")>,\n",
       " <selenium.webdriver.remote.webelement.WebElement (session=\"05fe5bf3e699677bc2ed250a77c963fd\", element=\"77725423-13c4-4d02-8639-8b21e9fa0a0f\")>,\n",
       " <selenium.webdriver.remote.webelement.WebElement (session=\"05fe5bf3e699677bc2ed250a77c963fd\", element=\"033ef028-5c71-410f-86b0-4c7a49b331e8\")>,\n",
       " <selenium.webdriver.remote.webelement.WebElement (session=\"05fe5bf3e699677bc2ed250a77c963fd\", element=\"9e73a907-113d-4a99-9bae-e34cce93588a\")>,\n",
       " <selenium.webdriver.remote.webelement.WebElement (session=\"05fe5bf3e699677bc2ed250a77c963fd\", element=\"b29af890-50f9-4e4e-a15c-cf059c8163d7\")>,\n",
       " <selenium.webdriver.remote.webelement.WebElement (session=\"05fe5bf3e699677bc2ed250a77c963fd\", element=\"5518a4b1-503e-4c9b-a9ee-538a4c3e009f\")>,\n",
       " <selenium.webdriver.remote.webelement.WebElement (session=\"05fe5bf3e699677bc2ed250a77c963fd\", element=\"af766a32-156c-4e85-b0d6-a024c950df86\")>,\n",
       " <selenium.webdriver.remote.webelement.WebElement (session=\"05fe5bf3e699677bc2ed250a77c963fd\", element=\"2231f316-ae26-4e4a-bc8c-8b98e6efa8af\")>,\n",
       " <selenium.webdriver.remote.webelement.WebElement (session=\"05fe5bf3e699677bc2ed250a77c963fd\", element=\"f17a5a81-e812-463c-8679-1acd777811cc\")>,\n",
       " <selenium.webdriver.remote.webelement.WebElement (session=\"05fe5bf3e699677bc2ed250a77c963fd\", element=\"a89fa261-8974-48fc-83e2-f3ec03d51112\")>,\n",
       " <selenium.webdriver.remote.webelement.WebElement (session=\"05fe5bf3e699677bc2ed250a77c963fd\", element=\"57f13a77-23ab-4764-9040-ad939a2492ec\")>,\n",
       " <selenium.webdriver.remote.webelement.WebElement (session=\"05fe5bf3e699677bc2ed250a77c963fd\", element=\"5a90881f-eae6-45d2-85f0-7c869e1346ac\")>,\n",
       " <selenium.webdriver.remote.webelement.WebElement (session=\"05fe5bf3e699677bc2ed250a77c963fd\", element=\"fe65ba04-18ee-4463-8445-796d5383ed2d\")>,\n",
       " <selenium.webdriver.remote.webelement.WebElement (session=\"05fe5bf3e699677bc2ed250a77c963fd\", element=\"b60b7597-66b1-4f7e-aa3b-dea6e3d0fb42\")>,\n",
       " <selenium.webdriver.remote.webelement.WebElement (session=\"05fe5bf3e699677bc2ed250a77c963fd\", element=\"3d54208d-d800-434e-8d92-ba92023cccca\")>,\n",
       " <selenium.webdriver.remote.webelement.WebElement (session=\"05fe5bf3e699677bc2ed250a77c963fd\", element=\"812ac4d3-49e6-47bb-9f69-709c3071b5e5\")>,\n",
       " <selenium.webdriver.remote.webelement.WebElement (session=\"05fe5bf3e699677bc2ed250a77c963fd\", element=\"6c017c13-9658-429d-b2cc-94333338ab0c\")>,\n",
       " <selenium.webdriver.remote.webelement.WebElement (session=\"05fe5bf3e699677bc2ed250a77c963fd\", element=\"cfdf70bf-58a1-42fb-9e0b-567e1dcbbab8\")>,\n",
       " <selenium.webdriver.remote.webelement.WebElement (session=\"05fe5bf3e699677bc2ed250a77c963fd\", element=\"60306aa1-0cab-4ffa-96e5-4c4ebf4cdc91\")>,\n",
       " <selenium.webdriver.remote.webelement.WebElement (session=\"05fe5bf3e699677bc2ed250a77c963fd\", element=\"69d23d24-f754-4a7f-bee1-bb929006eaf3\")>,\n",
       " <selenium.webdriver.remote.webelement.WebElement (session=\"05fe5bf3e699677bc2ed250a77c963fd\", element=\"e0320f3d-4bef-4f0a-81a1-e156099080ac\")>,\n",
       " <selenium.webdriver.remote.webelement.WebElement (session=\"05fe5bf3e699677bc2ed250a77c963fd\", element=\"28a1e6d2-2f01-4c4f-b275-832f02174d71\")>,\n",
       " <selenium.webdriver.remote.webelement.WebElement (session=\"05fe5bf3e699677bc2ed250a77c963fd\", element=\"c0d06d49-e4e5-43cb-a349-9a08f518abce\")>,\n",
       " <selenium.webdriver.remote.webelement.WebElement (session=\"05fe5bf3e699677bc2ed250a77c963fd\", element=\"ee63d7ee-539e-45f6-bcf9-ddb08cde5427\")>,\n",
       " <selenium.webdriver.remote.webelement.WebElement (session=\"05fe5bf3e699677bc2ed250a77c963fd\", element=\"b5d39682-66e2-4cf0-a8c4-bdf764eec3c6\")>,\n",
       " <selenium.webdriver.remote.webelement.WebElement (session=\"05fe5bf3e699677bc2ed250a77c963fd\", element=\"7c3c23ac-6aa8-474a-ac8a-cf4be4e14947\")>,\n",
       " <selenium.webdriver.remote.webelement.WebElement (session=\"05fe5bf3e699677bc2ed250a77c963fd\", element=\"dbb41fbc-c143-48ca-a54c-eff84b684e7e\")>,\n",
       " <selenium.webdriver.remote.webelement.WebElement (session=\"05fe5bf3e699677bc2ed250a77c963fd\", element=\"cad74143-4442-4161-9339-4b034b738c6a\")>,\n",
       " <selenium.webdriver.remote.webelement.WebElement (session=\"05fe5bf3e699677bc2ed250a77c963fd\", element=\"8fb6cc56-0908-45da-ae2f-21adb2bea7cd\")>,\n",
       " <selenium.webdriver.remote.webelement.WebElement (session=\"05fe5bf3e699677bc2ed250a77c963fd\", element=\"d60bc92a-e61a-4281-bc57-473d97deb3a0\")>,\n",
       " <selenium.webdriver.remote.webelement.WebElement (session=\"05fe5bf3e699677bc2ed250a77c963fd\", element=\"60ee7a8b-173d-4f39-835f-cd9e0e08535f\")>,\n",
       " <selenium.webdriver.remote.webelement.WebElement (session=\"05fe5bf3e699677bc2ed250a77c963fd\", element=\"07cf7536-282c-4415-b9df-37232cfa59af\")>,\n",
       " <selenium.webdriver.remote.webelement.WebElement (session=\"05fe5bf3e699677bc2ed250a77c963fd\", element=\"e33f68ae-c518-4653-947c-a59051dcfab4\")>,\n",
       " <selenium.webdriver.remote.webelement.WebElement (session=\"05fe5bf3e699677bc2ed250a77c963fd\", element=\"3d2dfb13-67dd-4a4d-81fd-808ae06395c1\")>,\n",
       " <selenium.webdriver.remote.webelement.WebElement (session=\"05fe5bf3e699677bc2ed250a77c963fd\", element=\"88e7a5ed-6b9e-4461-a3ee-bd1413a03582\")>,\n",
       " <selenium.webdriver.remote.webelement.WebElement (session=\"05fe5bf3e699677bc2ed250a77c963fd\", element=\"26b1e580-bb3c-409a-874c-f023173cc315\")>,\n",
       " <selenium.webdriver.remote.webelement.WebElement (session=\"05fe5bf3e699677bc2ed250a77c963fd\", element=\"7a12cad0-346f-45d4-bddb-bb08a44a2806\")>,\n",
       " <selenium.webdriver.remote.webelement.WebElement (session=\"05fe5bf3e699677bc2ed250a77c963fd\", element=\"00310e66-2064-47e8-81f7-1df114678a48\")>,\n",
       " <selenium.webdriver.remote.webelement.WebElement (session=\"05fe5bf3e699677bc2ed250a77c963fd\", element=\"d7402dbb-6bfc-419d-b79f-b6bb709a5183\")>,\n",
       " <selenium.webdriver.remote.webelement.WebElement (session=\"05fe5bf3e699677bc2ed250a77c963fd\", element=\"9e33765f-3a81-483e-9884-bdf0f3c8327e\")>,\n",
       " <selenium.webdriver.remote.webelement.WebElement (session=\"05fe5bf3e699677bc2ed250a77c963fd\", element=\"6a0bc004-7e8c-490e-a20f-582611329672\")>,\n",
       " <selenium.webdriver.remote.webelement.WebElement (session=\"05fe5bf3e699677bc2ed250a77c963fd\", element=\"cc35ae5a-33f6-46a7-b555-cdb934f56603\")>,\n",
       " <selenium.webdriver.remote.webelement.WebElement (session=\"05fe5bf3e699677bc2ed250a77c963fd\", element=\"bdc94e5d-f6db-4460-a7d4-b5e0345ee09e\")>,\n",
       " <selenium.webdriver.remote.webelement.WebElement (session=\"05fe5bf3e699677bc2ed250a77c963fd\", element=\"f13395c6-dce1-48b0-a0fc-f1235d2248b4\")>,\n",
       " <selenium.webdriver.remote.webelement.WebElement (session=\"05fe5bf3e699677bc2ed250a77c963fd\", element=\"861d0f0f-887d-47b7-bff4-15eb0b8c1785\")>,\n",
       " <selenium.webdriver.remote.webelement.WebElement (session=\"05fe5bf3e699677bc2ed250a77c963fd\", element=\"a22c71f1-52c7-4da5-bee4-fda64c8d31aa\")>,\n",
       " <selenium.webdriver.remote.webelement.WebElement (session=\"05fe5bf3e699677bc2ed250a77c963fd\", element=\"6fa73a28-29f9-4179-86ab-09232e66fefb\")>,\n",
       " <selenium.webdriver.remote.webelement.WebElement (session=\"05fe5bf3e699677bc2ed250a77c963fd\", element=\"db8ee500-942c-4c4b-8e3f-a352338c2456\")>,\n",
       " <selenium.webdriver.remote.webelement.WebElement (session=\"05fe5bf3e699677bc2ed250a77c963fd\", element=\"aea0f2e4-0e68-46b7-8620-113773d9375d\")>,\n",
       " <selenium.webdriver.remote.webelement.WebElement (session=\"05fe5bf3e699677bc2ed250a77c963fd\", element=\"ee23fa9e-45fa-4d27-91c1-790baee4ef31\")>,\n",
       " <selenium.webdriver.remote.webelement.WebElement (session=\"05fe5bf3e699677bc2ed250a77c963fd\", element=\"76c68860-9387-4b1d-9b41-ca360f00b9d9\")>,\n",
       " <selenium.webdriver.remote.webelement.WebElement (session=\"05fe5bf3e699677bc2ed250a77c963fd\", element=\"7ac4ba0a-f44b-4e25-b96d-875ec6a190ce\")>,\n",
       " <selenium.webdriver.remote.webelement.WebElement (session=\"05fe5bf3e699677bc2ed250a77c963fd\", element=\"c039f316-e6bc-4ecd-a2a4-e3dc1449dd91\")>,\n",
       " <selenium.webdriver.remote.webelement.WebElement (session=\"05fe5bf3e699677bc2ed250a77c963fd\", element=\"dcb0d207-7879-42bf-bff1-ed4323c1c215\")>,\n",
       " <selenium.webdriver.remote.webelement.WebElement (session=\"05fe5bf3e699677bc2ed250a77c963fd\", element=\"37c38bdf-d934-4354-b5c9-ff2c52812a14\")>,\n",
       " <selenium.webdriver.remote.webelement.WebElement (session=\"05fe5bf3e699677bc2ed250a77c963fd\", element=\"57ee3543-edbb-4fe9-ab9f-1d2a425a4fda\")>,\n",
       " <selenium.webdriver.remote.webelement.WebElement (session=\"05fe5bf3e699677bc2ed250a77c963fd\", element=\"13957e8f-04de-4ac7-b239-a7179cc13626\")>,\n",
       " <selenium.webdriver.remote.webelement.WebElement (session=\"05fe5bf3e699677bc2ed250a77c963fd\", element=\"c390d523-ae12-4081-a943-362c23e7a058\")>,\n",
       " <selenium.webdriver.remote.webelement.WebElement (session=\"05fe5bf3e699677bc2ed250a77c963fd\", element=\"122bb2eb-51cd-4647-976f-0b0e0fcd2159\")>,\n",
       " <selenium.webdriver.remote.webelement.WebElement (session=\"05fe5bf3e699677bc2ed250a77c963fd\", element=\"d4e3793d-03df-4895-86c5-a153c82a58ba\")>,\n",
       " <selenium.webdriver.remote.webelement.WebElement (session=\"05fe5bf3e699677bc2ed250a77c963fd\", element=\"b9e035fe-cfae-4a73-8aec-9015521717a3\")>,\n",
       " <selenium.webdriver.remote.webelement.WebElement (session=\"05fe5bf3e699677bc2ed250a77c963fd\", element=\"8a2f7bfb-dba5-48b6-8d02-38883887402f\")>,\n",
       " <selenium.webdriver.remote.webelement.WebElement (session=\"05fe5bf3e699677bc2ed250a77c963fd\", element=\"f8de2cda-dc43-4a89-b38e-a2001ad007cc\")>,\n",
       " <selenium.webdriver.remote.webelement.WebElement (session=\"05fe5bf3e699677bc2ed250a77c963fd\", element=\"33b44635-eec5-4fa1-a295-13e2966f94fe\")>,\n",
       " <selenium.webdriver.remote.webelement.WebElement (session=\"05fe5bf3e699677bc2ed250a77c963fd\", element=\"8e1a3944-958a-40c5-800e-3174dc0b5b8b\")>,\n",
       " <selenium.webdriver.remote.webelement.WebElement (session=\"05fe5bf3e699677bc2ed250a77c963fd\", element=\"7477476a-358c-4b8e-b419-15f99f3c3c7e\")>,\n",
       " <selenium.webdriver.remote.webelement.WebElement (session=\"05fe5bf3e699677bc2ed250a77c963fd\", element=\"53039b77-fc2d-40e5-81e3-a1781beacb5e\")>,\n",
       " <selenium.webdriver.remote.webelement.WebElement (session=\"05fe5bf3e699677bc2ed250a77c963fd\", element=\"26b19efc-8dd4-49b4-9e10-afaa2f23477d\")>,\n",
       " <selenium.webdriver.remote.webelement.WebElement (session=\"05fe5bf3e699677bc2ed250a77c963fd\", element=\"7f795ef4-9576-4e21-bf5d-8e335843e8a1\")>,\n",
       " <selenium.webdriver.remote.webelement.WebElement (session=\"05fe5bf3e699677bc2ed250a77c963fd\", element=\"4b6f4219-e9e8-4492-90b4-12b36a76e877\")>,\n",
       " <selenium.webdriver.remote.webelement.WebElement (session=\"05fe5bf3e699677bc2ed250a77c963fd\", element=\"49d826bc-f589-4da0-b1a5-a3de720ddd3c\")>,\n",
       " <selenium.webdriver.remote.webelement.WebElement (session=\"05fe5bf3e699677bc2ed250a77c963fd\", element=\"11ebde0f-d24f-428e-8d82-b742992f2c26\")>,\n",
       " <selenium.webdriver.remote.webelement.WebElement (session=\"05fe5bf3e699677bc2ed250a77c963fd\", element=\"460abd64-efe7-42db-997b-4899f1478be2\")>,\n",
       " <selenium.webdriver.remote.webelement.WebElement (session=\"05fe5bf3e699677bc2ed250a77c963fd\", element=\"0790e04c-4910-4225-9f32-b6e61fc63e73\")>,\n",
       " <selenium.webdriver.remote.webelement.WebElement (session=\"05fe5bf3e699677bc2ed250a77c963fd\", element=\"371e8737-881e-475a-9aa0-1ba4f1e0633d\")>,\n",
       " <selenium.webdriver.remote.webelement.WebElement (session=\"05fe5bf3e699677bc2ed250a77c963fd\", element=\"78935e85-a6e5-4421-ad1c-333ded2b3b0b\")>,\n",
       " <selenium.webdriver.remote.webelement.WebElement (session=\"05fe5bf3e699677bc2ed250a77c963fd\", element=\"44ba958e-4800-40b6-88ee-3583f8428f36\")>,\n",
       " <selenium.webdriver.remote.webelement.WebElement (session=\"05fe5bf3e699677bc2ed250a77c963fd\", element=\"95517e8d-0f4b-4924-b656-dd45fc378354\")>,\n",
       " <selenium.webdriver.remote.webelement.WebElement (session=\"05fe5bf3e699677bc2ed250a77c963fd\", element=\"fe39fbb5-a1ea-4371-b099-6ce269f80d51\")>,\n",
       " <selenium.webdriver.remote.webelement.WebElement (session=\"05fe5bf3e699677bc2ed250a77c963fd\", element=\"1e17e78c-f100-4413-a1c8-f10f9c470219\")>,\n",
       " <selenium.webdriver.remote.webelement.WebElement (session=\"05fe5bf3e699677bc2ed250a77c963fd\", element=\"6b326ad9-6e4e-4a92-ab4b-fb1b3e78171a\")>,\n",
       " <selenium.webdriver.remote.webelement.WebElement (session=\"05fe5bf3e699677bc2ed250a77c963fd\", element=\"a72bf416-e6ad-4108-bd8b-d19120c12beb\")>,\n",
       " <selenium.webdriver.remote.webelement.WebElement (session=\"05fe5bf3e699677bc2ed250a77c963fd\", element=\"1b93c834-f031-4a0d-8234-e691aace31b1\")>,\n",
       " <selenium.webdriver.remote.webelement.WebElement (session=\"05fe5bf3e699677bc2ed250a77c963fd\", element=\"86adf1e7-4228-4096-b812-5759fbe81f8a\")>,\n",
       " <selenium.webdriver.remote.webelement.WebElement (session=\"05fe5bf3e699677bc2ed250a77c963fd\", element=\"2036a654-6281-4058-b120-378463bafb1b\")>,\n",
       " <selenium.webdriver.remote.webelement.WebElement (session=\"05fe5bf3e699677bc2ed250a77c963fd\", element=\"4983ac6e-3e0c-4d86-9645-e3135209fe80\")>,\n",
       " <selenium.webdriver.remote.webelement.WebElement (session=\"05fe5bf3e699677bc2ed250a77c963fd\", element=\"04cabc9b-43af-465b-92c7-96a3429134e8\")>,\n",
       " <selenium.webdriver.remote.webelement.WebElement (session=\"05fe5bf3e699677bc2ed250a77c963fd\", element=\"bb1f57b7-96f3-4cc4-8161-13333a248ead\")>,\n",
       " <selenium.webdriver.remote.webelement.WebElement (session=\"05fe5bf3e699677bc2ed250a77c963fd\", element=\"5147e4ea-7fb9-4709-92b7-3770d3d3c287\")>,\n",
       " <selenium.webdriver.remote.webelement.WebElement (session=\"05fe5bf3e699677bc2ed250a77c963fd\", element=\"458f493b-274b-4790-8e59-22e23736059c\")>,\n",
       " <selenium.webdriver.remote.webelement.WebElement (session=\"05fe5bf3e699677bc2ed250a77c963fd\", element=\"1466b64c-d555-4a75-b2c7-8694b1fb5731\")>,\n",
       " <selenium.webdriver.remote.webelement.WebElement (session=\"05fe5bf3e699677bc2ed250a77c963fd\", element=\"90ce10b5-c77a-4639-a0b5-795ca2e763cb\")>,\n",
       " <selenium.webdriver.remote.webelement.WebElement (session=\"05fe5bf3e699677bc2ed250a77c963fd\", element=\"00dd5623-cc0d-46bb-9ba8-d4c4c0bbb5bc\")>,\n",
       " <selenium.webdriver.remote.webelement.WebElement (session=\"05fe5bf3e699677bc2ed250a77c963fd\", element=\"526bd933-1ce5-4abf-bf9b-2124980cbb0d\")>,\n",
       " <selenium.webdriver.remote.webelement.WebElement (session=\"05fe5bf3e699677bc2ed250a77c963fd\", element=\"c8c348ff-a09f-400a-9da9-b861de27dd86\")>,\n",
       " <selenium.webdriver.remote.webelement.WebElement (session=\"05fe5bf3e699677bc2ed250a77c963fd\", element=\"c9e38d54-226b-42b3-808b-088fc875e7e4\")>,\n",
       " <selenium.webdriver.remote.webelement.WebElement (session=\"05fe5bf3e699677bc2ed250a77c963fd\", element=\"900646ee-75f3-4622-ac3f-b767c5e71e59\")>,\n",
       " <selenium.webdriver.remote.webelement.WebElement (session=\"05fe5bf3e699677bc2ed250a77c963fd\", element=\"8e32326c-f131-47c6-a573-ccb2bc589325\")>,\n",
       " <selenium.webdriver.remote.webelement.WebElement (session=\"05fe5bf3e699677bc2ed250a77c963fd\", element=\"55cfcf75-2d13-4b24-9618-fe38b4001d59\")>,\n",
       " <selenium.webdriver.remote.webelement.WebElement (session=\"05fe5bf3e699677bc2ed250a77c963fd\", element=\"2783cd46-99e0-4423-81f7-c9ac3e6dd0bc\")>,\n",
       " <selenium.webdriver.remote.webelement.WebElement (session=\"05fe5bf3e699677bc2ed250a77c963fd\", element=\"06d13cc0-0218-4eb6-a7a8-ecbe29352d34\")>,\n",
       " <selenium.webdriver.remote.webelement.WebElement (session=\"05fe5bf3e699677bc2ed250a77c963fd\", element=\"8fbd8535-eb4b-474b-a69c-bcf10ceacf53\")>,\n",
       " <selenium.webdriver.remote.webelement.WebElement (session=\"05fe5bf3e699677bc2ed250a77c963fd\", element=\"d606a084-2903-489d-8b5c-3c5ef3a5e062\")>,\n",
       " <selenium.webdriver.remote.webelement.WebElement (session=\"05fe5bf3e699677bc2ed250a77c963fd\", element=\"c22e9c5f-caac-4b85-8f00-eb4526def03f\")>,\n",
       " <selenium.webdriver.remote.webelement.WebElement (session=\"05fe5bf3e699677bc2ed250a77c963fd\", element=\"61d07b50-fe44-40d0-bdd5-3fdcbf7eb449\")>,\n",
       " <selenium.webdriver.remote.webelement.WebElement (session=\"05fe5bf3e699677bc2ed250a77c963fd\", element=\"e0b4b647-d598-4670-abce-798a0fdc245d\")>,\n",
       " <selenium.webdriver.remote.webelement.WebElement (session=\"05fe5bf3e699677bc2ed250a77c963fd\", element=\"4bb3b0a9-1347-446b-8fab-1a3944f97509\")>,\n",
       " <selenium.webdriver.remote.webelement.WebElement (session=\"05fe5bf3e699677bc2ed250a77c963fd\", element=\"e6445295-68ab-4060-b69b-6bc4ac2e55fa\")>,\n",
       " <selenium.webdriver.remote.webelement.WebElement (session=\"05fe5bf3e699677bc2ed250a77c963fd\", element=\"1c487835-5e10-4ab4-82b3-1a61f7314c0b\")>,\n",
       " <selenium.webdriver.remote.webelement.WebElement (session=\"05fe5bf3e699677bc2ed250a77c963fd\", element=\"dc22b8dd-b0e3-44c7-afec-86806edfb384\")>,\n",
       " <selenium.webdriver.remote.webelement.WebElement (session=\"05fe5bf3e699677bc2ed250a77c963fd\", element=\"e729f3e1-7206-4c80-a582-c76953ef9584\")>,\n",
       " <selenium.webdriver.remote.webelement.WebElement (session=\"05fe5bf3e699677bc2ed250a77c963fd\", element=\"9da5ae36-975e-4bde-8f0b-b661e5ca999f\")>,\n",
       " <selenium.webdriver.remote.webelement.WebElement (session=\"05fe5bf3e699677bc2ed250a77c963fd\", element=\"61b05012-b8b4-4211-9e1c-28ee9b4ef31e\")>,\n",
       " <selenium.webdriver.remote.webelement.WebElement (session=\"05fe5bf3e699677bc2ed250a77c963fd\", element=\"b7c5d3e9-3b27-417f-bfe5-f0dc5f7df45f\")>,\n",
       " <selenium.webdriver.remote.webelement.WebElement (session=\"05fe5bf3e699677bc2ed250a77c963fd\", element=\"fade6779-544d-4988-8d8b-1845e5bb6f56\")>,\n",
       " <selenium.webdriver.remote.webelement.WebElement (session=\"05fe5bf3e699677bc2ed250a77c963fd\", element=\"2b6c0168-5540-4fc9-934d-8edbf14e5e46\")>,\n",
       " <selenium.webdriver.remote.webelement.WebElement (session=\"05fe5bf3e699677bc2ed250a77c963fd\", element=\"83572433-6d1f-4bc9-bbf1-58d8e40db449\")>,\n",
       " <selenium.webdriver.remote.webelement.WebElement (session=\"05fe5bf3e699677bc2ed250a77c963fd\", element=\"c1c4a3f5-5471-4c30-9b1e-ef58e9c4996e\")>,\n",
       " <selenium.webdriver.remote.webelement.WebElement (session=\"05fe5bf3e699677bc2ed250a77c963fd\", element=\"be9f271f-35a7-406e-89f1-c2311016bfc8\")>,\n",
       " <selenium.webdriver.remote.webelement.WebElement (session=\"05fe5bf3e699677bc2ed250a77c963fd\", element=\"41fe4f85-c272-42ab-8721-7128bf48489a\")>,\n",
       " <selenium.webdriver.remote.webelement.WebElement (session=\"05fe5bf3e699677bc2ed250a77c963fd\", element=\"13b0a99d-7982-42d0-9f7a-239b174d860c\")>,\n",
       " <selenium.webdriver.remote.webelement.WebElement (session=\"05fe5bf3e699677bc2ed250a77c963fd\", element=\"b6f83067-15ea-4d57-90d9-6460805d221d\")>,\n",
       " <selenium.webdriver.remote.webelement.WebElement (session=\"05fe5bf3e699677bc2ed250a77c963fd\", element=\"40bc603c-5290-4d0f-a212-99e7a5b8940b\")>,\n",
       " <selenium.webdriver.remote.webelement.WebElement (session=\"05fe5bf3e699677bc2ed250a77c963fd\", element=\"6edd5b2d-5a43-48be-bb66-69df2bd16740\")>,\n",
       " <selenium.webdriver.remote.webelement.WebElement (session=\"05fe5bf3e699677bc2ed250a77c963fd\", element=\"46006440-ca5e-4adf-a0cb-84a1cc5b91c1\")>,\n",
       " <selenium.webdriver.remote.webelement.WebElement (session=\"05fe5bf3e699677bc2ed250a77c963fd\", element=\"c6226ded-e39d-42a5-9027-8e433348b526\")>,\n",
       " <selenium.webdriver.remote.webelement.WebElement (session=\"05fe5bf3e699677bc2ed250a77c963fd\", element=\"224c4773-50ef-4a2a-87c7-9e1cfdcdf0e6\")>,\n",
       " <selenium.webdriver.remote.webelement.WebElement (session=\"05fe5bf3e699677bc2ed250a77c963fd\", element=\"576ee9e0-cd4e-488a-80da-e293a7ca4d73\")>,\n",
       " <selenium.webdriver.remote.webelement.WebElement (session=\"05fe5bf3e699677bc2ed250a77c963fd\", element=\"417d319f-4d53-41fe-b088-3ae1238b4066\")>,\n",
       " <selenium.webdriver.remote.webelement.WebElement (session=\"05fe5bf3e699677bc2ed250a77c963fd\", element=\"fad58bb6-a77f-4f81-9dc8-f5a6863124c6\")>,\n",
       " <selenium.webdriver.remote.webelement.WebElement (session=\"05fe5bf3e699677bc2ed250a77c963fd\", element=\"d7f65bba-6879-4392-825f-4597046e20f3\")>]"
      ]
     },
     "execution_count": 181,
     "metadata": {},
     "output_type": "execute_result"
    }
   ],
   "source": [
    "comments_upvote=driver.find_elements(\"xpath\",'//div[@class=\"style-scope ytd-comment-action-buttons-renderer\"]')\n",
    "comments_upvote"
   ]
  },
  {
   "cell_type": "code",
   "execution_count": 182,
   "id": "676fd1ac",
   "metadata": {},
   "outputs": [
    {
     "data": {
      "text/plain": [
       "240"
      ]
     },
     "execution_count": 182,
     "metadata": {},
     "output_type": "execute_result"
    }
   ],
   "source": [
    "len(comments_upvote)"
   ]
  },
  {
   "cell_type": "code",
   "execution_count": 183,
   "id": "02cf0137",
   "metadata": {},
   "outputs": [
    {
     "data": {
      "text/plain": [
       "240"
      ]
     },
     "execution_count": 183,
     "metadata": {},
     "output_type": "execute_result"
    }
   ],
   "source": [
    "Comment_upvote=[]\n",
    "for i in comments_upvote:\n",
    "    Comment_upvote.append(i.text)\n",
    "len(Comment_upvote)    "
   ]
  },
  {
   "cell_type": "code",
   "execution_count": 184,
   "id": "267a89d7",
   "metadata": {},
   "outputs": [
    {
     "data": {
      "text/plain": [
       "['6.4K\\nREPLY',\n",
       " '',\n",
       " '',\n",
       " '',\n",
       " 'REPLY',\n",
       " '',\n",
       " '25\\nREPLY',\n",
       " '',\n",
       " '',\n",
       " '',\n",
       " 'REPLY',\n",
       " '',\n",
       " '927\\nREPLY',\n",
       " '',\n",
       " '',\n",
       " '',\n",
       " 'REPLY',\n",
       " '',\n",
       " '16\\nREPLY',\n",
       " '',\n",
       " '',\n",
       " '',\n",
       " 'REPLY',\n",
       " '',\n",
       " '19\\nREPLY',\n",
       " '',\n",
       " '',\n",
       " '',\n",
       " 'REPLY',\n",
       " '',\n",
       " '374\\nREPLY',\n",
       " '',\n",
       " '',\n",
       " '',\n",
       " 'REPLY',\n",
       " '',\n",
       " '342\\nREPLY',\n",
       " '',\n",
       " '',\n",
       " '',\n",
       " 'REPLY',\n",
       " '',\n",
       " '832\\nREPLY',\n",
       " '',\n",
       " '',\n",
       " '',\n",
       " 'REPLY',\n",
       " '',\n",
       " '5\\nREPLY',\n",
       " '',\n",
       " '',\n",
       " '',\n",
       " 'REPLY',\n",
       " '',\n",
       " '118\\nREPLY',\n",
       " '',\n",
       " '',\n",
       " '',\n",
       " 'REPLY',\n",
       " '',\n",
       " '341\\nREPLY',\n",
       " '',\n",
       " '',\n",
       " '',\n",
       " 'REPLY',\n",
       " '',\n",
       " '3\\nREPLY',\n",
       " '',\n",
       " '',\n",
       " '',\n",
       " 'REPLY',\n",
       " '',\n",
       " '37K',\n",
       " '',\n",
       " '',\n",
       " '',\n",
       " '',\n",
       " '',\n",
       " '6\\nREPLY',\n",
       " '',\n",
       " '',\n",
       " '',\n",
       " 'REPLY',\n",
       " '',\n",
       " '171\\nREPLY',\n",
       " '',\n",
       " '',\n",
       " '',\n",
       " 'REPLY',\n",
       " '',\n",
       " '108\\nREPLY',\n",
       " '',\n",
       " '',\n",
       " '',\n",
       " 'REPLY',\n",
       " '',\n",
       " '229\\nREPLY',\n",
       " '',\n",
       " '',\n",
       " '',\n",
       " 'REPLY',\n",
       " '',\n",
       " '16\\nREPLY',\n",
       " '',\n",
       " '',\n",
       " '',\n",
       " 'REPLY',\n",
       " '',\n",
       " '2.6K\\nREPLY',\n",
       " '',\n",
       " '',\n",
       " '',\n",
       " 'REPLY',\n",
       " '',\n",
       " '14\\nREPLY',\n",
       " '',\n",
       " '',\n",
       " '',\n",
       " 'REPLY',\n",
       " '',\n",
       " '148\\nREPLY',\n",
       " '',\n",
       " '',\n",
       " '',\n",
       " 'REPLY',\n",
       " '',\n",
       " '2\\nREPLY',\n",
       " '',\n",
       " '',\n",
       " '',\n",
       " 'REPLY',\n",
       " '',\n",
       " '8\\nREPLY',\n",
       " '',\n",
       " '',\n",
       " '',\n",
       " 'REPLY',\n",
       " '',\n",
       " '4\\nREPLY',\n",
       " '',\n",
       " '',\n",
       " '',\n",
       " 'REPLY',\n",
       " '',\n",
       " '25K\\nREPLY',\n",
       " '',\n",
       " '',\n",
       " '',\n",
       " 'REPLY',\n",
       " '',\n",
       " '186\\nREPLY',\n",
       " '',\n",
       " '',\n",
       " '',\n",
       " 'REPLY',\n",
       " '',\n",
       " '6\\nREPLY',\n",
       " '',\n",
       " '',\n",
       " '',\n",
       " 'REPLY',\n",
       " '',\n",
       " '40\\nREPLY',\n",
       " '',\n",
       " '',\n",
       " '',\n",
       " 'REPLY',\n",
       " '',\n",
       " '5\\nREPLY',\n",
       " '',\n",
       " '',\n",
       " '',\n",
       " 'REPLY',\n",
       " '',\n",
       " '54\\nREPLY',\n",
       " '',\n",
       " '',\n",
       " '',\n",
       " 'REPLY',\n",
       " '',\n",
       " '31K\\nREPLY',\n",
       " '',\n",
       " '',\n",
       " '',\n",
       " 'REPLY',\n",
       " '',\n",
       " '12\\nREPLY',\n",
       " '',\n",
       " '',\n",
       " '',\n",
       " 'REPLY',\n",
       " '',\n",
       " '59\\nREPLY',\n",
       " '',\n",
       " '',\n",
       " '',\n",
       " 'REPLY',\n",
       " '',\n",
       " '44\\nREPLY',\n",
       " '',\n",
       " '',\n",
       " '',\n",
       " 'REPLY',\n",
       " '',\n",
       " '385\\nREPLY',\n",
       " '',\n",
       " '',\n",
       " '',\n",
       " 'REPLY',\n",
       " '',\n",
       " '2\\nREPLY',\n",
       " '',\n",
       " '',\n",
       " '',\n",
       " 'REPLY',\n",
       " '',\n",
       " '22\\nREPLY',\n",
       " '',\n",
       " '',\n",
       " '',\n",
       " 'REPLY',\n",
       " '',\n",
       " '68\\nREPLY',\n",
       " '',\n",
       " '',\n",
       " '',\n",
       " 'REPLY',\n",
       " '',\n",
       " '84\\nREPLY',\n",
       " '',\n",
       " '',\n",
       " '',\n",
       " 'REPLY',\n",
       " '',\n",
       " '22\\nREPLY',\n",
       " '',\n",
       " '',\n",
       " '',\n",
       " 'REPLY',\n",
       " '']"
      ]
     },
     "execution_count": 184,
     "metadata": {},
     "output_type": "execute_result"
    }
   ],
   "source": [
    "Comment_upvote"
   ]
  },
  {
   "cell_type": "code",
   "execution_count": 197,
   "id": "51c71105",
   "metadata": {},
   "outputs": [
    {
     "data": {
      "text/plain": [
       "60"
      ]
     },
     "execution_count": 197,
     "metadata": {},
     "output_type": "execute_result"
    }
   ],
   "source": [
    "time=driver.find_elements(\"xpath\",'//yt-formatted-string[@class=\"published-time-text style-scope ytd-comment-renderer\"]')\n",
    "len(time)"
   ]
  },
  {
   "cell_type": "code",
   "execution_count": 198,
   "id": "617f75e0",
   "metadata": {},
   "outputs": [
    {
     "data": {
      "text/plain": [
       "60"
      ]
     },
     "execution_count": 198,
     "metadata": {},
     "output_type": "execute_result"
    }
   ],
   "source": [
    "Time=[]\n",
    "for i in time:\n",
    "    Time.append(i.text)  \n",
    "len(Time)        "
   ]
  },
  {
   "cell_type": "code",
   "execution_count": 199,
   "id": "fda39cd2",
   "metadata": {
    "scrolled": true
   },
   "outputs": [
    {
     "data": {
      "text/plain": [
       "['8 months ago',\n",
       " '9 days ago',\n",
       " '3 weeks ago',\n",
       " '3 weeks ago',\n",
       " '13 days ago',\n",
       " '2 weeks ago',\n",
       " '5 years ago',\n",
       " '1 month ago',\n",
       " '1 day ago',\n",
       " '13 days ago',\n",
       " '1 month ago',\n",
       " '3 weeks ago',\n",
       " '2 years ago (edited)',\n",
       " '1 month ago',\n",
       " '1 month ago',\n",
       " '1 month ago',\n",
       " '1 month ago',\n",
       " '7 days ago',\n",
       " '3 months ago',\n",
       " '9 days ago',\n",
       " '3 weeks ago',\n",
       " '1 month ago',\n",
       " '8 days ago',\n",
       " '2 days ago',\n",
       " '2 years ago (edited)',\n",
       " '1 month ago',\n",
       " '3 days ago',\n",
       " '9 days ago',\n",
       " '7 days ago',\n",
       " '2 weeks ago',\n",
       " '1 year ago',\n",
       " '9 days ago',\n",
       " '4 weeks ago',\n",
       " '3 weeks ago (edited)',\n",
       " '1 year ago',\n",
       " '1 month ago',\n",
       " '13 days ago',\n",
       " '1 month ago',\n",
       " '4 weeks ago',\n",
       " '8 days ago',\n",
       " '2 years ago',\n",
       " '13 days ago',\n",
       " '5 years ago',\n",
       " '7 hours ago',\n",
       " '8 days ago',\n",
       " '11 days ago',\n",
       " '2 weeks ago (edited)',\n",
       " '1 year ago',\n",
       " '1 month ago',\n",
       " '1 month ago',\n",
       " '13 days ago',\n",
       " '4 days ago',\n",
       " '1 month ago',\n",
       " '8 months ago',\n",
       " '1 month ago',\n",
       " '2 weeks ago',\n",
       " '2 weeks ago',\n",
       " '1 month ago',\n",
       " '3 days ago',\n",
       " '1 year ago']"
      ]
     },
     "execution_count": 199,
     "metadata": {},
     "output_type": "execute_result"
    }
   ],
   "source": [
    "Time"
   ]
  },
  {
   "cell_type": "code",
   "execution_count": 200,
   "id": "fdb3d1bc",
   "metadata": {},
   "outputs": [
    {
     "data": {
      "text/plain": [
       "(440, 240, 60)"
      ]
     },
     "execution_count": 200,
     "metadata": {},
     "output_type": "execute_result"
    }
   ],
   "source": [
    "len(Comment),len(Comment_upvote),len(Time)"
   ]
  },
  {
   "cell_type": "code",
   "execution_count": null,
   "id": "84d3dfdf",
   "metadata": {},
   "outputs": [],
   "source": []
  },
  {
   "cell_type": "markdown",
   "id": "0e065c67",
   "metadata": {},
   "source": [
    "Q10. Write a python program to scrape a data for all available Hostels from https://www.hostelworld.com/ in\n",
    "“London” location. You have to scrape hostel name, distance from city centre, ratings, total reviews,\n",
    "overall reviews, privates from price, dorms from price, facilities and property description."
   ]
  },
  {
   "cell_type": "code",
   "execution_count": 179,
   "id": "1b555845",
   "metadata": {},
   "outputs": [],
   "source": [
    "driver = webdriver.Chrome(r'C:\\Users\\user\\Downloads\\chromedriver_win32 (1)\\chromedriver.exe')"
   ]
  },
  {
   "cell_type": "code",
   "execution_count": 180,
   "id": "25cc6cc2",
   "metadata": {},
   "outputs": [],
   "source": [
    "driver.get('https://www.hostelworld.com/s?q=London,%20England&country=England&city=London&type=city&id=3&from=2022-07-29&to=2022-08-01&guests=2&HostelNumber=&page=1')"
   ]
  },
  {
   "cell_type": "markdown",
   "id": "34e91dbb",
   "metadata": {},
   "source": [
    "SCRAPE HOSTEL:\n",
    " + name\n",
    " + distance from city centre\n",
    " + ratings\n",
    " + total reviews\n",
    " + overall reviews\n",
    " + privates from price\n",
    " + dorms from price\n",
    " + facilities and property description"
   ]
  },
  {
   "cell_type": "code",
   "execution_count": 181,
   "id": "be16ad41",
   "metadata": {},
   "outputs": [
    {
     "data": {
      "text/plain": [
       "30"
      ]
     },
     "execution_count": 181,
     "metadata": {},
     "output_type": "execute_result"
    }
   ],
   "source": [
    "name=driver.find_elements(\"xpath\",'//h2[@class=\"title title-6\"]')\n",
    "len(name)"
   ]
  },
  {
   "cell_type": "code",
   "execution_count": 182,
   "id": "614f60d2",
   "metadata": {},
   "outputs": [
    {
     "data": {
      "text/plain": [
       "30"
      ]
     },
     "execution_count": 182,
     "metadata": {},
     "output_type": "execute_result"
    }
   ],
   "source": [
    "Name_of_Hostels=[]\n",
    "for i in name:\n",
    "    Name_of_Hostels.append(i.text)\n",
    "len(Name_of_Hostels)    "
   ]
  },
  {
   "cell_type": "code",
   "execution_count": 183,
   "id": "0b345dc4",
   "metadata": {
    "scrolled": true
   },
   "outputs": [
    {
     "data": {
      "text/plain": [
       "[\"St Christopher's Village\",\n",
       " 'Selina Camden',\n",
       " 'Generator London',\n",
       " 'Urbany Hostel London',\n",
       " 'Safestay London Elephant & Castle',\n",
       " 'Smart Camden Inn Hostel',\n",
       " 'No.8 Seven Sisters',\n",
       " 'Safestay London Kensington Holland Park',\n",
       " 'Phoenix Hostel',\n",
       " 'NX London Hostel',\n",
       " 'Hostel One Notting Hill',\n",
       " \"St Christopher's Hammersmith\",\n",
       " \"St Christopher's Camden\",\n",
       " 'London Waterloo Hostel',\n",
       " 'PubLove @ The White Ferry, Victoria',\n",
       " 'PubLove @ The Steam Engine, Waterloo',\n",
       " \"St Christopher's Shepherds Bush\",\n",
       " 'PubLove @ The Exmouth Arms, Euston',\n",
       " 'PubLove @ The Crown, Battersea',\n",
       " 'Park Villa',\n",
       " 'Saint James Backpackers',\n",
       " 'PubLove @ The Green Man, Paddington',\n",
       " 'Britannia Inn Hotel',\n",
       " 'Barry House',\n",
       " 'London House Hotel',\n",
       " 'Elmwood Hotel',\n",
       " 'The London Home Hostel',\n",
       " 'Cranbrook Hotel',\n",
       " 'Colliers Hotel',\n",
       " 'City Hotel Carlton']"
      ]
     },
     "execution_count": 183,
     "metadata": {},
     "output_type": "execute_result"
    }
   ],
   "source": [
    "Name_of_Hostels"
   ]
  },
  {
   "cell_type": "code",
   "execution_count": 184,
   "id": "6e8290e0",
   "metadata": {},
   "outputs": [
    {
     "data": {
      "text/plain": [
       "30"
      ]
     },
     "execution_count": 184,
     "metadata": {},
     "output_type": "execute_result"
    }
   ],
   "source": [
    "distance=driver.find_elements(\"xpath\",'//span[@class=\"description\"]')\n",
    "len(distance)"
   ]
  },
  {
   "cell_type": "code",
   "execution_count": 185,
   "id": "d33809f3",
   "metadata": {},
   "outputs": [
    {
     "data": {
      "text/plain": [
       "30"
      ]
     },
     "execution_count": 185,
     "metadata": {},
     "output_type": "execute_result"
    }
   ],
   "source": [
    "Distance_from_CC=[]\n",
    "for i in distance:\n",
    "    Distance_from_CC.append(i.text)\n",
    "len(Distance_from_CC)    "
   ]
  },
  {
   "cell_type": "code",
   "execution_count": 186,
   "id": "aea75618",
   "metadata": {},
   "outputs": [
    {
     "data": {
      "text/plain": [
       "['Hostel - 1.8km from city centre',\n",
       " 'Hostel - 5.5km from city centre',\n",
       " 'Hostel - 3km from city centre',\n",
       " 'Hostel - 5.4km from city centre',\n",
       " 'Hostel - 1.7km from city centre',\n",
       " 'Hostel - 4.4km from city centre',\n",
       " 'Hostel - 9km from city centre',\n",
       " 'Hostel - 5.9km from city centre',\n",
       " 'Hostel - 4.2km from city centre',\n",
       " 'Hostel - 6.1km from city centre',\n",
       " 'Hostel - 5.5km from city centre',\n",
       " 'Hostel - 7.5km from city centre',\n",
       " 'Hostel - 4.3km from city centre',\n",
       " 'Hostel - 0.7km from city centre',\n",
       " 'Hostel - 2.4km from city centre',\n",
       " 'Hostel - 0.5km from city centre',\n",
       " 'Hostel - 7km from city centre',\n",
       " 'Hostel - 3.4km from city centre',\n",
       " 'Hostel - 4.7km from city centre',\n",
       " 'Hostel - 6.3km from city centre',\n",
       " 'Hostel - 5.5km from city centre',\n",
       " 'Hostel - 4.3km from city centre',\n",
       " 'Hotel - 14.5km from city centre',\n",
       " 'Bed and Breakfast - 4.2km from city centre',\n",
       " 'Hotel - 5.3km from city centre',\n",
       " 'Hotel - 3.2km from city centre',\n",
       " 'Hostel - 8.2km from city centre',\n",
       " 'Hotel - 14.8km from city centre',\n",
       " 'Hotel - 2.1km from city centre',\n",
       " 'Hotel - 1.8km from city centre']"
      ]
     },
     "execution_count": 186,
     "metadata": {},
     "output_type": "execute_result"
    }
   ],
   "source": [
    "Distance_from_CC"
   ]
  },
  {
   "cell_type": "code",
   "execution_count": 187,
   "id": "9de32b23",
   "metadata": {},
   "outputs": [
    {
     "data": {
      "text/plain": [
       "28"
      ]
     },
     "execution_count": 187,
     "metadata": {},
     "output_type": "execute_result"
    }
   ],
   "source": [
    "ratings=driver.find_elements(\"xpath\",'//div[@class=\"score orange big\"]')\n",
    "len(ratings)"
   ]
  },
  {
   "cell_type": "code",
   "execution_count": 188,
   "id": "76fa0bb8",
   "metadata": {},
   "outputs": [
    {
     "data": {
      "text/plain": [
       "28"
      ]
     },
     "execution_count": 188,
     "metadata": {},
     "output_type": "execute_result"
    }
   ],
   "source": [
    "Ratings=[]\n",
    "for i in ratings:\n",
    "    Ratings.append(i.text)\n",
    "len(Ratings)    "
   ]
  },
  {
   "cell_type": "code",
   "execution_count": 189,
   "id": "b061b842",
   "metadata": {},
   "outputs": [
    {
     "data": {
      "text/plain": [
       "['8.1',\n",
       " '8.6',\n",
       " '7.7',\n",
       " '9.3',\n",
       " '7.1',\n",
       " '8.4',\n",
       " '6.2',\n",
       " '6.5',\n",
       " '7.6',\n",
       " '7.3',\n",
       " '9.2',\n",
       " '7.9',\n",
       " '8.4',\n",
       " '6.3',\n",
       " '8.1',\n",
       " '8.4',\n",
       " '7.4',\n",
       " '7.1',\n",
       " '6.5',\n",
       " '7.9',\n",
       " '6.6',\n",
       " '7.7',\n",
       " '8.2',\n",
       " '6.9',\n",
       " '8.8',\n",
       " '6.1',\n",
       " '6.6',\n",
       " '6.7']"
      ]
     },
     "execution_count": 189,
     "metadata": {},
     "output_type": "execute_result"
    }
   ],
   "source": [
    "Ratings"
   ]
  },
  {
   "cell_type": "code",
   "execution_count": 190,
   "id": "416547c6",
   "metadata": {},
   "outputs": [
    {
     "data": {
      "text/plain": [
       "30"
      ]
     },
     "execution_count": 190,
     "metadata": {},
     "output_type": "execute_result"
    }
   ],
   "source": [
    "total_reviews=driver.find_elements(\"xpath\",'//div[@class=\"reviews\"]')\n",
    "len(total_reviews)"
   ]
  },
  {
   "cell_type": "code",
   "execution_count": 191,
   "id": "9406bae5",
   "metadata": {},
   "outputs": [
    {
     "data": {
      "text/plain": [
       "30"
      ]
     },
     "execution_count": 191,
     "metadata": {},
     "output_type": "execute_result"
    }
   ],
   "source": [
    "Total_Review=[]\n",
    "for i in total_reviews:\n",
    "    Total_Review.append(i.text)\n",
    "len(Total_Review)    "
   ]
  },
  {
   "cell_type": "code",
   "execution_count": 192,
   "id": "b6ca460e",
   "metadata": {},
   "outputs": [
    {
     "data": {
      "text/plain": [
       "['11388 Total Reviews',\n",
       " '33 Total Reviews',\n",
       " '7061 Total Reviews',\n",
       " '413 Total Reviews',\n",
       " '4407 Total Reviews',\n",
       " '2898 Total Reviews',\n",
       " '3820 Total Reviews',\n",
       " '1271 Total Reviews',\n",
       " '3679 Total Reviews',\n",
       " '1179 Total Reviews',\n",
       " '1428 Total Reviews',\n",
       " '4075 Total Reviews',\n",
       " '3812 Total Reviews',\n",
       " '2508 Total Reviews',\n",
       " '271 Total Reviews',\n",
       " '295 Total Reviews',\n",
       " '701 Total Reviews',\n",
       " '1035 Total Reviews',\n",
       " '255 Total Reviews',\n",
       " '873 Total Reviews',\n",
       " '1815 Total Reviews',\n",
       " '418 Total Reviews',\n",
       " '22 Total Reviews',\n",
       " '15 Total Reviews',\n",
       " '1382 Total Reviews',\n",
       " '116 Total Reviews',\n",
       " '258 Total Reviews',\n",
       " '58 Total Reviews',\n",
       " '8 Total Reviews',\n",
       " '40 Total Reviews']"
      ]
     },
     "execution_count": 192,
     "metadata": {},
     "output_type": "execute_result"
    }
   ],
   "source": [
    "Total_Review"
   ]
  },
  {
   "cell_type": "code",
   "execution_count": 193,
   "id": "964f3ce2",
   "metadata": {},
   "outputs": [
    {
     "data": {
      "text/plain": [
       "32"
      ]
     },
     "execution_count": 193,
     "metadata": {},
     "output_type": "execute_result"
    }
   ],
   "source": [
    "overall_reviews=driver.find_elements(\"xpath\",'//div[@class=\"keyword\"]')\n",
    "len(overall_reviews)"
   ]
  },
  {
   "cell_type": "code",
   "execution_count": 194,
   "id": "ef6d8331",
   "metadata": {},
   "outputs": [
    {
     "data": {
      "text/plain": [
       "32"
      ]
     },
     "execution_count": 194,
     "metadata": {},
     "output_type": "execute_result"
    }
   ],
   "source": [
    "Overall_Review=[]\n",
    "for i in overall_reviews:\n",
    "    Overall_Review.append(i.text)\n",
    "len(Overall_Review)    "
   ]
  },
  {
   "cell_type": "code",
   "execution_count": 195,
   "id": "335a76cc",
   "metadata": {},
   "outputs": [
    {
     "data": {
      "text/plain": [
       "['Fabulous',\n",
       " 'Fabulous',\n",
       " 'Fabulous',\n",
       " 'Fabulous',\n",
       " 'Very Good',\n",
       " 'Superb',\n",
       " 'Very Good',\n",
       " 'Fabulous',\n",
       " 'Good',\n",
       " 'Good',\n",
       " 'Very Good',\n",
       " 'Very Good',\n",
       " 'Superb',\n",
       " 'Very Good',\n",
       " 'Fabulous',\n",
       " 'Good',\n",
       " 'Fabulous',\n",
       " 'Fabulous',\n",
       " 'Very Good',\n",
       " 'Very Good',\n",
       " 'Good',\n",
       " 'Very Good',\n",
       " 'Good',\n",
       " 'Very Good',\n",
       " 'Fabulous',\n",
       " 'Good',\n",
       " 'Fabulous',\n",
       " 'Good',\n",
       " 'Rating',\n",
       " 'No Rating',\n",
       " 'Good',\n",
       " 'Good']"
      ]
     },
     "execution_count": 195,
     "metadata": {},
     "output_type": "execute_result"
    }
   ],
   "source": [
    "Overall_Review"
   ]
  },
  {
   "cell_type": "code",
   "execution_count": 196,
   "id": "79a55bf7",
   "metadata": {},
   "outputs": [
    {
     "data": {
      "text/plain": [
       "60"
      ]
     },
     "execution_count": 196,
     "metadata": {},
     "output_type": "execute_result"
    }
   ],
   "source": [
    "price_for_privates_dorms=driver.find_elements(\"xpath\",'//div[@class=\"price-col\"]')\n",
    "len(price_for_privates_dorms)"
   ]
  },
  {
   "cell_type": "code",
   "execution_count": 197,
   "id": "13092e0f",
   "metadata": {},
   "outputs": [
    {
     "data": {
      "text/plain": [
       "60"
      ]
     },
     "execution_count": 197,
     "metadata": {},
     "output_type": "execute_result"
    }
   ],
   "source": [
    "Prices=[]\n",
    "for i in price_for_privates_dorms:\n",
    "    Prices.append(i.text)\n",
    "len(Prices)    "
   ]
  },
  {
   "cell_type": "code",
   "execution_count": 198,
   "id": "ac197141",
   "metadata": {},
   "outputs": [
    {
     "data": {
      "text/plain": [
       "['No Privates Available',\n",
       " 'Dorms From\\nRs3631.6 Rs3268',\n",
       " 'Privates From\\nRs33971',\n",
       " 'Dorms From\\nRs10519.51 Rs8942',\n",
       " 'No Privates Available',\n",
       " 'Dorms From\\nRs4315',\n",
       " 'Privates From\\nRs19884',\n",
       " 'No Dorms Available',\n",
       " 'No Privates Available',\n",
       " 'Dorms From\\nRs4024',\n",
       " 'Privates From\\nRs13654',\n",
       " 'Dorms From\\nRs3987',\n",
       " 'No Privates Available',\n",
       " 'Dorms From\\nRs1765',\n",
       " 'No Privates Available',\n",
       " 'Dorms From\\nRs3938',\n",
       " 'No Privates Available',\n",
       " 'Dorms From\\nRs5050.65 Rs4798',\n",
       " 'No Privates Available',\n",
       " 'Dorms From\\nRs3520',\n",
       " 'Privates From\\nRs19683',\n",
       " 'No Dorms Available',\n",
       " 'No Privates Available',\n",
       " 'Dorms From\\nRs2881.69 Rs2594',\n",
       " 'No Privates Available',\n",
       " 'Dorms From\\nRs4131.67 Rs3719',\n",
       " 'No Privates Available',\n",
       " 'Dorms From\\nRs5168',\n",
       " 'No Privates Available',\n",
       " 'Dorms From\\nRs6112',\n",
       " 'No Privates Available',\n",
       " 'Dorms From\\nRs5887',\n",
       " 'No Privates Available',\n",
       " 'Dorms From\\nRs3238.78 Rs2915',\n",
       " 'No Privates Available',\n",
       " 'Dorms From\\nRs5598',\n",
       " 'No Privates Available',\n",
       " 'Dorms From\\nRs4954',\n",
       " 'No Privates Available',\n",
       " 'Dorms From\\nRs6016',\n",
       " 'Privates From\\nRs14883.41 Rs14139',\n",
       " 'Dorms From\\nRs5050.65 Rs4798',\n",
       " 'No Privates Available',\n",
       " 'Dorms From\\nRs4729',\n",
       " 'Privates From\\nRs24771',\n",
       " 'No Dorms Available',\n",
       " 'Privates From\\nRs18563',\n",
       " 'No Dorms Available',\n",
       " 'Privates From\\nRs25825.86 Rs18078',\n",
       " 'No Dorms Available',\n",
       " 'Privates From\\nRs16245',\n",
       " 'No Dorms Available',\n",
       " 'No Privates Available',\n",
       " 'Dorms From\\nRs2413',\n",
       " 'Privates From\\nRs8718',\n",
       " 'No Dorms Available',\n",
       " 'Privates From\\nRs10938',\n",
       " 'No Dorms Available',\n",
       " 'Privates From\\nRs17694',\n",
       " 'No Dorms Available']"
      ]
     },
     "execution_count": 198,
     "metadata": {},
     "output_type": "execute_result"
    }
   ],
   "source": [
    "Prices"
   ]
  },
  {
   "cell_type": "markdown",
   "id": "94afac5e",
   "metadata": {},
   "source": [
    "+ note : it form in one column because it does not show in a particular column of each. that's why its length became twice of above length(30x2). "
   ]
  },
  {
   "cell_type": "code",
   "execution_count": 199,
   "id": "3094d4f6",
   "metadata": {},
   "outputs": [
    {
     "data": {
      "text/plain": [
       "77"
      ]
     },
     "execution_count": 199,
     "metadata": {},
     "output_type": "execute_result"
    }
   ],
   "source": [
    "fac_prop_description=driver.find_elements(\"xpath\",'//span[@class=\"rating body-3\"]')\n",
    "len(fac_prop_description)"
   ]
  },
  {
   "cell_type": "code",
   "execution_count": 200,
   "id": "f0ae93d7",
   "metadata": {},
   "outputs": [
    {
     "data": {
      "text/plain": [
       "77"
      ]
     },
     "execution_count": 200,
     "metadata": {},
     "output_type": "execute_result"
    }
   ],
   "source": [
    "Description=[]\n",
    "for i in fac_prop_description:\n",
    "    Description.append(i.text)\n",
    "len(Description)    "
   ]
  },
  {
   "cell_type": "code",
   "execution_count": 201,
   "id": "a501e8fd",
   "metadata": {},
   "outputs": [
    {
     "data": {
      "text/plain": [
       "['Perfect Location',\n",
       " 'Superb Staff',\n",
       " 'Excellent Cleanliness',\n",
       " 'Perfect Location',\n",
       " 'Superb Staff',\n",
       " 'Fantastic Cleanliness',\n",
       " 'Perfect Location',\n",
       " 'Marvellous Staff',\n",
       " 'Awesome Cleanliness',\n",
       " 'Perfect Location',\n",
       " 'Superb Staff',\n",
       " 'Fantastic Cleanliness',\n",
       " 'Wonderful Location',\n",
       " 'Brilliant Staff',\n",
       " 'Awesome Cleanliness',\n",
       " 'Perfect Location',\n",
       " 'Superb Staff',\n",
       " 'Fantastic Cleanliness',\n",
       " 'Great Location',\n",
       " 'Marvellous Staff',\n",
       " 'Wonderful Location',\n",
       " 'Brilliant Staff',\n",
       " 'Perfect Location',\n",
       " 'Superb Staff',\n",
       " 'Awesome Cleanliness',\n",
       " 'Wonderful Location',\n",
       " 'Marvellous Staff',\n",
       " 'Awesome Cleanliness',\n",
       " 'Perfect Location',\n",
       " 'Superb Staff',\n",
       " 'Fantastic Cleanliness',\n",
       " 'Perfect Location',\n",
       " 'Superb Staff',\n",
       " 'Excellent Cleanliness',\n",
       " 'Perfect Location',\n",
       " 'Superb Staff',\n",
       " 'Excellent Cleanliness',\n",
       " 'Wonderful Location',\n",
       " 'Marvellous Staff',\n",
       " 'Perfect Location',\n",
       " 'Superb Staff',\n",
       " 'Excellent Cleanliness',\n",
       " 'Perfect Location',\n",
       " 'Superb Staff',\n",
       " 'Excellent Cleanliness',\n",
       " 'Perfect Location',\n",
       " 'Superb Staff',\n",
       " 'Awesome Cleanliness',\n",
       " 'Perfect Location',\n",
       " 'Marvellous Staff',\n",
       " 'Awesome Cleanliness',\n",
       " 'Great Location',\n",
       " 'Brilliant Staff',\n",
       " 'Perfect Location',\n",
       " 'Superb Staff',\n",
       " 'Excellent Cleanliness',\n",
       " 'Wonderful Location',\n",
       " 'Marvellous Staff',\n",
       " 'Perfect Location',\n",
       " 'Superb Staff',\n",
       " 'Excellent Cleanliness',\n",
       " 'Wonderful Location',\n",
       " 'Superb Staff',\n",
       " 'Excellent Cleanliness',\n",
       " 'Perfect Location',\n",
       " 'Marvellous Staff',\n",
       " 'Awesome Cleanliness',\n",
       " 'Perfect Location',\n",
       " 'Superb Staff',\n",
       " 'Fantastic Cleanliness',\n",
       " 'Perfect Location',\n",
       " 'Awesome Cleanliness',\n",
       " 'Perfect Location',\n",
       " 'Brilliant Staff',\n",
       " 'Awesome Cleanliness',\n",
       " 'Great Location',\n",
       " 'Marvellous Staff']"
      ]
     },
     "execution_count": 201,
     "metadata": {},
     "output_type": "execute_result"
    }
   ],
   "source": [
    "Description"
   ]
  },
  {
   "cell_type": "code",
   "execution_count": 202,
   "id": "a118a93a",
   "metadata": {},
   "outputs": [
    {
     "data": {
      "text/plain": [
       "(30, 30, 28, 30, 32, 60, 77)"
      ]
     },
     "execution_count": 202,
     "metadata": {},
     "output_type": "execute_result"
    }
   ],
   "source": [
    "len(Name_of_Hostels),len(Distance_from_CC),len(Ratings),len(Total_Review),len(Overall_Review),len(Prices),len(Description)"
   ]
  },
  {
   "cell_type": "code",
   "execution_count": 203,
   "id": "de366721",
   "metadata": {},
   "outputs": [
    {
     "data": {
      "text/html": [
       "<div>\n",
       "<style scoped>\n",
       "    .dataframe tbody tr th:only-of-type {\n",
       "        vertical-align: middle;\n",
       "    }\n",
       "\n",
       "    .dataframe tbody tr th {\n",
       "        vertical-align: top;\n",
       "    }\n",
       "\n",
       "    .dataframe thead th {\n",
       "        text-align: right;\n",
       "    }\n",
       "</style>\n",
       "<table border=\"1\" class=\"dataframe\">\n",
       "  <thead>\n",
       "    <tr style=\"text-align: right;\">\n",
       "      <th></th>\n",
       "      <th>Name</th>\n",
       "      <th>Distance from City Centre</th>\n",
       "      <th>Total Review</th>\n",
       "    </tr>\n",
       "  </thead>\n",
       "  <tbody>\n",
       "    <tr>\n",
       "      <th>0</th>\n",
       "      <td>St Christopher's Village</td>\n",
       "      <td>Hostel - 1.8km from city centre</td>\n",
       "      <td>11388 Total Reviews</td>\n",
       "    </tr>\n",
       "    <tr>\n",
       "      <th>1</th>\n",
       "      <td>Selina Camden</td>\n",
       "      <td>Hostel - 5.5km from city centre</td>\n",
       "      <td>33 Total Reviews</td>\n",
       "    </tr>\n",
       "    <tr>\n",
       "      <th>2</th>\n",
       "      <td>Generator London</td>\n",
       "      <td>Hostel - 3km from city centre</td>\n",
       "      <td>7061 Total Reviews</td>\n",
       "    </tr>\n",
       "    <tr>\n",
       "      <th>3</th>\n",
       "      <td>Urbany Hostel London</td>\n",
       "      <td>Hostel - 5.4km from city centre</td>\n",
       "      <td>413 Total Reviews</td>\n",
       "    </tr>\n",
       "    <tr>\n",
       "      <th>4</th>\n",
       "      <td>Safestay London Elephant &amp; Castle</td>\n",
       "      <td>Hostel - 1.7km from city centre</td>\n",
       "      <td>4407 Total Reviews</td>\n",
       "    </tr>\n",
       "    <tr>\n",
       "      <th>5</th>\n",
       "      <td>Smart Camden Inn Hostel</td>\n",
       "      <td>Hostel - 4.4km from city centre</td>\n",
       "      <td>2898 Total Reviews</td>\n",
       "    </tr>\n",
       "    <tr>\n",
       "      <th>6</th>\n",
       "      <td>No.8 Seven Sisters</td>\n",
       "      <td>Hostel - 9km from city centre</td>\n",
       "      <td>3820 Total Reviews</td>\n",
       "    </tr>\n",
       "    <tr>\n",
       "      <th>7</th>\n",
       "      <td>Safestay London Kensington Holland Park</td>\n",
       "      <td>Hostel - 5.9km from city centre</td>\n",
       "      <td>1271 Total Reviews</td>\n",
       "    </tr>\n",
       "    <tr>\n",
       "      <th>8</th>\n",
       "      <td>Phoenix Hostel</td>\n",
       "      <td>Hostel - 4.2km from city centre</td>\n",
       "      <td>3679 Total Reviews</td>\n",
       "    </tr>\n",
       "    <tr>\n",
       "      <th>9</th>\n",
       "      <td>NX London Hostel</td>\n",
       "      <td>Hostel - 6.1km from city centre</td>\n",
       "      <td>1179 Total Reviews</td>\n",
       "    </tr>\n",
       "    <tr>\n",
       "      <th>10</th>\n",
       "      <td>Hostel One Notting Hill</td>\n",
       "      <td>Hostel - 5.5km from city centre</td>\n",
       "      <td>1428 Total Reviews</td>\n",
       "    </tr>\n",
       "    <tr>\n",
       "      <th>11</th>\n",
       "      <td>St Christopher's Hammersmith</td>\n",
       "      <td>Hostel - 7.5km from city centre</td>\n",
       "      <td>4075 Total Reviews</td>\n",
       "    </tr>\n",
       "    <tr>\n",
       "      <th>12</th>\n",
       "      <td>St Christopher's Camden</td>\n",
       "      <td>Hostel - 4.3km from city centre</td>\n",
       "      <td>3812 Total Reviews</td>\n",
       "    </tr>\n",
       "    <tr>\n",
       "      <th>13</th>\n",
       "      <td>London Waterloo Hostel</td>\n",
       "      <td>Hostel - 0.7km from city centre</td>\n",
       "      <td>2508 Total Reviews</td>\n",
       "    </tr>\n",
       "    <tr>\n",
       "      <th>14</th>\n",
       "      <td>PubLove @ The White Ferry, Victoria</td>\n",
       "      <td>Hostel - 2.4km from city centre</td>\n",
       "      <td>271 Total Reviews</td>\n",
       "    </tr>\n",
       "    <tr>\n",
       "      <th>15</th>\n",
       "      <td>PubLove @ The Steam Engine, Waterloo</td>\n",
       "      <td>Hostel - 0.5km from city centre</td>\n",
       "      <td>295 Total Reviews</td>\n",
       "    </tr>\n",
       "    <tr>\n",
       "      <th>16</th>\n",
       "      <td>St Christopher's Shepherds Bush</td>\n",
       "      <td>Hostel - 7km from city centre</td>\n",
       "      <td>701 Total Reviews</td>\n",
       "    </tr>\n",
       "    <tr>\n",
       "      <th>17</th>\n",
       "      <td>PubLove @ The Exmouth Arms, Euston</td>\n",
       "      <td>Hostel - 3.4km from city centre</td>\n",
       "      <td>1035 Total Reviews</td>\n",
       "    </tr>\n",
       "    <tr>\n",
       "      <th>18</th>\n",
       "      <td>PubLove @ The Crown, Battersea</td>\n",
       "      <td>Hostel - 4.7km from city centre</td>\n",
       "      <td>255 Total Reviews</td>\n",
       "    </tr>\n",
       "    <tr>\n",
       "      <th>19</th>\n",
       "      <td>Park Villa</td>\n",
       "      <td>Hostel - 6.3km from city centre</td>\n",
       "      <td>873 Total Reviews</td>\n",
       "    </tr>\n",
       "    <tr>\n",
       "      <th>20</th>\n",
       "      <td>Saint James Backpackers</td>\n",
       "      <td>Hostel - 5.5km from city centre</td>\n",
       "      <td>1815 Total Reviews</td>\n",
       "    </tr>\n",
       "    <tr>\n",
       "      <th>21</th>\n",
       "      <td>PubLove @ The Green Man, Paddington</td>\n",
       "      <td>Hostel - 4.3km from city centre</td>\n",
       "      <td>418 Total Reviews</td>\n",
       "    </tr>\n",
       "    <tr>\n",
       "      <th>22</th>\n",
       "      <td>Britannia Inn Hotel</td>\n",
       "      <td>Hotel - 14.5km from city centre</td>\n",
       "      <td>22 Total Reviews</td>\n",
       "    </tr>\n",
       "    <tr>\n",
       "      <th>23</th>\n",
       "      <td>Barry House</td>\n",
       "      <td>Bed and Breakfast - 4.2km from city centre</td>\n",
       "      <td>15 Total Reviews</td>\n",
       "    </tr>\n",
       "    <tr>\n",
       "      <th>24</th>\n",
       "      <td>London House Hotel</td>\n",
       "      <td>Hotel - 5.3km from city centre</td>\n",
       "      <td>1382 Total Reviews</td>\n",
       "    </tr>\n",
       "    <tr>\n",
       "      <th>25</th>\n",
       "      <td>Elmwood Hotel</td>\n",
       "      <td>Hotel - 3.2km from city centre</td>\n",
       "      <td>116 Total Reviews</td>\n",
       "    </tr>\n",
       "    <tr>\n",
       "      <th>26</th>\n",
       "      <td>The London Home Hostel</td>\n",
       "      <td>Hostel - 8.2km from city centre</td>\n",
       "      <td>258 Total Reviews</td>\n",
       "    </tr>\n",
       "    <tr>\n",
       "      <th>27</th>\n",
       "      <td>Cranbrook Hotel</td>\n",
       "      <td>Hotel - 14.8km from city centre</td>\n",
       "      <td>58 Total Reviews</td>\n",
       "    </tr>\n",
       "    <tr>\n",
       "      <th>28</th>\n",
       "      <td>Colliers Hotel</td>\n",
       "      <td>Hotel - 2.1km from city centre</td>\n",
       "      <td>8 Total Reviews</td>\n",
       "    </tr>\n",
       "    <tr>\n",
       "      <th>29</th>\n",
       "      <td>City Hotel Carlton</td>\n",
       "      <td>Hotel - 1.8km from city centre</td>\n",
       "      <td>40 Total Reviews</td>\n",
       "    </tr>\n",
       "  </tbody>\n",
       "</table>\n",
       "</div>"
      ],
      "text/plain": [
       "                                       Name  \\\n",
       "0                  St Christopher's Village   \n",
       "1                             Selina Camden   \n",
       "2                          Generator London   \n",
       "3                      Urbany Hostel London   \n",
       "4         Safestay London Elephant & Castle   \n",
       "5                   Smart Camden Inn Hostel   \n",
       "6                        No.8 Seven Sisters   \n",
       "7   Safestay London Kensington Holland Park   \n",
       "8                            Phoenix Hostel   \n",
       "9                          NX London Hostel   \n",
       "10                  Hostel One Notting Hill   \n",
       "11             St Christopher's Hammersmith   \n",
       "12                  St Christopher's Camden   \n",
       "13                   London Waterloo Hostel   \n",
       "14      PubLove @ The White Ferry, Victoria   \n",
       "15     PubLove @ The Steam Engine, Waterloo   \n",
       "16          St Christopher's Shepherds Bush   \n",
       "17       PubLove @ The Exmouth Arms, Euston   \n",
       "18           PubLove @ The Crown, Battersea   \n",
       "19                               Park Villa   \n",
       "20                  Saint James Backpackers   \n",
       "21      PubLove @ The Green Man, Paddington   \n",
       "22                      Britannia Inn Hotel   \n",
       "23                              Barry House   \n",
       "24                       London House Hotel   \n",
       "25                            Elmwood Hotel   \n",
       "26                   The London Home Hostel   \n",
       "27                          Cranbrook Hotel   \n",
       "28                           Colliers Hotel   \n",
       "29                       City Hotel Carlton   \n",
       "\n",
       "                     Distance from City Centre         Total Review  \n",
       "0              Hostel - 1.8km from city centre  11388 Total Reviews  \n",
       "1              Hostel - 5.5km from city centre     33 Total Reviews  \n",
       "2                Hostel - 3km from city centre   7061 Total Reviews  \n",
       "3              Hostel - 5.4km from city centre    413 Total Reviews  \n",
       "4              Hostel - 1.7km from city centre   4407 Total Reviews  \n",
       "5              Hostel - 4.4km from city centre   2898 Total Reviews  \n",
       "6                Hostel - 9km from city centre   3820 Total Reviews  \n",
       "7              Hostel - 5.9km from city centre   1271 Total Reviews  \n",
       "8              Hostel - 4.2km from city centre   3679 Total Reviews  \n",
       "9              Hostel - 6.1km from city centre   1179 Total Reviews  \n",
       "10             Hostel - 5.5km from city centre   1428 Total Reviews  \n",
       "11             Hostel - 7.5km from city centre   4075 Total Reviews  \n",
       "12             Hostel - 4.3km from city centre   3812 Total Reviews  \n",
       "13             Hostel - 0.7km from city centre   2508 Total Reviews  \n",
       "14             Hostel - 2.4km from city centre    271 Total Reviews  \n",
       "15             Hostel - 0.5km from city centre    295 Total Reviews  \n",
       "16               Hostel - 7km from city centre    701 Total Reviews  \n",
       "17             Hostel - 3.4km from city centre   1035 Total Reviews  \n",
       "18             Hostel - 4.7km from city centre    255 Total Reviews  \n",
       "19             Hostel - 6.3km from city centre    873 Total Reviews  \n",
       "20             Hostel - 5.5km from city centre   1815 Total Reviews  \n",
       "21             Hostel - 4.3km from city centre    418 Total Reviews  \n",
       "22             Hotel - 14.5km from city centre     22 Total Reviews  \n",
       "23  Bed and Breakfast - 4.2km from city centre     15 Total Reviews  \n",
       "24              Hotel - 5.3km from city centre   1382 Total Reviews  \n",
       "25              Hotel - 3.2km from city centre    116 Total Reviews  \n",
       "26             Hostel - 8.2km from city centre    258 Total Reviews  \n",
       "27             Hotel - 14.8km from city centre     58 Total Reviews  \n",
       "28              Hotel - 2.1km from city centre      8 Total Reviews  \n",
       "29              Hotel - 1.8km from city centre     40 Total Reviews  "
      ]
     },
     "execution_count": 203,
     "metadata": {},
     "output_type": "execute_result"
    }
   ],
   "source": [
    "import pandas as pd\n",
    "Hostels=pd.DataFrame()\n",
    "Hostels['Name']=Name_of_Hostels\n",
    "Hostels['Distance from City Centre']=Distance_from_CC\n",
    "Hostels['Total Review']=Total_Review\n",
    "Hostels"
   ]
  },
  {
   "cell_type": "markdown",
   "id": "c3430c0e",
   "metadata": {},
   "source": [
    "+ note :  others are not in a same length."
   ]
  },
  {
   "cell_type": "code",
   "execution_count": 204,
   "id": "86b54d6d",
   "metadata": {},
   "outputs": [],
   "source": [
    "driver.close()"
   ]
  },
  {
   "cell_type": "markdown",
   "id": "a781db2e",
   "metadata": {},
   "source": [
    "# "
   ]
  },
  {
   "cell_type": "markdown",
   "id": "53709216",
   "metadata": {},
   "source": [
    "# THANK YOU"
   ]
  }
 ],
 "metadata": {
  "kernelspec": {
   "display_name": "Python 3 (ipykernel)",
   "language": "python",
   "name": "python3"
  },
  "language_info": {
   "codemirror_mode": {
    "name": "ipython",
    "version": 3
   },
   "file_extension": ".py",
   "mimetype": "text/x-python",
   "name": "python",
   "nbconvert_exporter": "python",
   "pygments_lexer": "ipython3",
   "version": "3.9.12"
  }
 },
 "nbformat": 4,
 "nbformat_minor": 5
}
